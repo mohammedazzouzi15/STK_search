{
 "cells": [
  {
   "cell_type": "code",
   "execution_count": 1,
   "metadata": {},
   "outputs": [],
   "source": [
    "import os#\n",
    "#os.chdir('c:\\\\Users\\\\ma11115\\\\OneDrive - Imperial College London\\\\github_folder\\\\STK_SEARCH\\\\')\n",
    "os.chdir(\"/rds/general/user/ma11115/home/STK_Search/STK_search\")\n",
    "from pathlib import Path#\n",
    "import pandas as pd\n",
    "import torch\n",
    "import numpy as np\n",
    "import importlib\n",
    "from stk_search.utils import database_utils\n",
    "\n",
    "os.makedirs('data/output/search_experiment/search_exp_database', exist_ok=True)"
   ]
  },
  {
   "cell_type": "code",
   "execution_count": 3,
   "metadata": {},
   "outputs": [],
   "source": [
    "# run a search experiment with the new target\n",
    "from stk_search.utils import run_hpc_utils\n",
    "importlib.reload(run_hpc_utils)\n",
    "df_total_path_bench = 'data/output/Full_dataset/df_train_pred_learned _better_format.csv'\n",
    "df_precursor_path =\"data/output/Prescursor_data/precursor_data_200324.pkl\"\n",
    "df_precursor_Mordred_path=\"data/output/Prescursor_data/df_PCA_mordred_descriptor_290224.pkl\"\n",
    "\n",
    "search_space_loc = \"data/input/EXP_search_space/6_mers_filtered_BB_2024_05_15_09_28_21//search_space_0.pkl\"#\"data/input/EXP_search_space/6_frag_all_2024_05_11_22_40_37//search_space_0.pkl\""
   ]
  },
  {
   "cell_type": "code",
   "execution_count": 5,
   "metadata": {},
   "outputs": [
    {
     "name": "stdout",
     "output_type": "stream",
     "text": [
      " Search space condition list: [[], [], [], [], [], []]\n",
      "shape of df_precursors: (274, 49)\n",
      "search space syntax: [0, 1, 2, 3, 4, 5]\n"
     ]
    }
   ],
   "source": [
    "# load and check the search space\n",
    "from stk_search import Search_space\n",
    "search_space = pd.read_pickle(search_space_loc)\n",
    "print(' Search space condition list:', search_space.conditions_list)\n",
    "print('shape of df_precursors:', search_space.df_precursors.shape)\n",
    "print('search space syntax:', search_space.syntax)\n"
   ]
  },
  {
   "cell_type": "code",
   "execution_count": 9,
   "metadata": {},
   "outputs": [
    {
     "name": "stdout",
     "output_type": "stream",
     "text": [
      "shape of df_Benchmark: (89856, 9)\n",
      "shape of df_precursors: (306, 40)\n",
      "shape of df_precursor_Mordred: (312, 101)\n",
      "0.0001558048433048433\n"
     ]
    }
   ],
   "source": [
    "# load and check the dataframe to search over and the df_precursors\n",
    "df_Benchmark = pd.read_csv(df_total_path_bench)\n",
    "df_precursor_Mordred = pd.read_pickle(df_precursor_Mordred_path)\n",
    "df_precursors = pd.read_pickle(df_precursor_path)\n",
    "print('shape of df_Benchmark:', df_Benchmark.shape)\n",
    "print('shape of df_precursors:', df_precursors.shape)\n",
    "print('shape of df_precursor_Mordred:', df_precursor_Mordred.shape)\n",
    "print(df_Benchmark[df_Benchmark['target']>0].shape[0]/df_Benchmark.shape[0])"
   ]
  },
  {
   "cell_type": "code",
   "execution_count": 10,
   "metadata": {},
   "outputs": [
    {
     "name": "stdout",
     "output_type": "stream",
     "text": [
      "number of elements in the benchmark in the search space: (46892, 9)\n"
     ]
    }
   ],
   "source": [
    "num_of_elem_in_SP = search_space.check_df_for_element_from_SP(df_Benchmark).shape\n",
    "print('number of elements in the benchmark in the search space:', num_of_elem_in_SP)"
   ]
  },
  {
   "cell_type": "code",
   "execution_count": 21,
   "metadata": {},
   "outputs": [],
   "source": [
    "# set the benchmark parameters  \n",
    "exp_name = \"Benchmark_56K_dataset\"\n",
    "num_elem_initialisation=5\n",
    "num_iteration=500\n",
    "target = 'target'\n",
    "aim = 'maximise'\n",
    "case_name_list = [\"ea_surrogate_new\", \"BO_learned_new\"] # ['evolution_algorithm','random','BO_precursor']#,[\"ea_surrogate_new\", \"BO_learned_new\"] # \"ea_surrogate\", \"BO_learned\"\n",
    "config_dir_list = [\"/rds/general/user/ma11115/home/STK_Search/STK_search/data/representation_learning/6-frag/target/240322/SchNet/splitrand-nummol50000\"]\n",
    "config_dir_list_new = [f\"/rds/general/user/ma11115/home/STK_Search/STK_search/data/representation_learning/6-frag/target/240516/SchNet/splitrand-nummol{num_mol}\" for num_mol in [10000]]"
   ]
  },
  {
   "cell_type": "code",
   "execution_count": 12,
   "metadata": {},
   "outputs": [
    {
     "name": "stdout",
     "output_type": "stream",
     "text": [
      "config loaded from /rds/general/user/ma11115/home/STK_Search/STK_search/data/representation_learning/6-frag/target/240516/SchNet/splitrand-nummol10000\n",
      "Model loaded:  SchNet\n"
     ]
    },
    {
     "data": {
      "application/vnd.jupyter.widget-view+json": {
       "model_id": "a1345d7f4cc4469a97b8a75eec9f7276",
       "version_major": 2,
       "version_minor": 0
      },
      "text/plain": [
       "Pandas Apply:   0%|          | 0/101 [00:00<?, ?it/s]"
      ]
     },
     "metadata": {},
     "output_type": "display_data"
    },
    {
     "data": {
      "application/vnd.jupyter.widget-view+json": {
       "model_id": "c767953928b34f09ba4f5c87ad2d12e5",
       "version_major": 2,
       "version_minor": 0
      },
      "text/plain": [
       "Pandas Apply:   0%|          | 0/101 [00:00<?, ?it/s]"
      ]
     },
     "metadata": {},
     "output_type": "display_data"
    },
    {
     "data": {
      "text/plain": [
       "tensor([[ 0.0796,  0.3054, -0.3471,  ..., -0.1420, -0.3103, -0.4151],\n",
       "        [ 0.1520,  0.3353, -0.3539,  ..., -0.1736, -0.2000, -0.3527],\n",
       "        [ 0.0034,  0.3304, -0.3644,  ..., -0.0834, -0.1559, -0.3810],\n",
       "        ...,\n",
       "        [-0.0466,  0.6600, -0.2637,  ..., -0.1143, -0.0740, -0.2637],\n",
       "        [-0.0126,  0.3780, -0.2114,  ..., -0.0845, -0.0244, -0.3421],\n",
       "        [ 0.0473,  0.3399, -0.3478,  ..., -0.1136, -0.2769, -0.4721]])"
      ]
     },
     "execution_count": 12,
     "metadata": {},
     "output_type": "execute_result"
    }
   ],
   "source": [
    "# check the representation generated using the learned representation building the polymer from fragment for \n",
    "config_dir = config_dir_list_new[0]\n",
    "from src.dev_scripts.run_search_new import load_representation_model\n",
    "representation, pymodel = load_representation_model(config_dir)\n",
    "representation.generate_repr(df_Benchmark[[f'InChIKey_{i}' for i in range(6)]].loc[0:100,:])"
   ]
  },
  {
   "cell_type": "code",
   "execution_count": 22,
   "metadata": {},
   "outputs": [],
   "source": [
    "importlib.reload(run_hpc_utils)\n",
    "\n",
    "def run_search_on_hpc(\n",
    "    case_name=\"ea_surrogate\",\n",
    "    df_path_total=df_total_path_bench,\n",
    "    df_precursors_path=df_precursor_path,\n",
    "    frag_properties=\"selected\",\n",
    "    config_dir=\"\",\n",
    "    dataset_representation_path = None,\n",
    "    test=False,\n",
    "    lim_counter = 5,\n",
    "    which_acquisition = \"EI\",\n",
    "    budget =100,\n",
    "\n",
    "):\n",
    "    string_to_run_notebook, script_qsub = run_hpc_utils.generate_string_run(\n",
    "        case=case_name,\n",
    "        target=target,\n",
    "        aim=aim,\n",
    "        num_elem_initialisation=num_elem_initialisation,\n",
    "        num_iteration=num_iteration,\n",
    "        df_path=df_path_total,\n",
    "        benchmark=True,\n",
    "        test_name=exp_name,\n",
    "        df_precursors_path=df_precursors_path,\n",
    "        frag_properties=frag_properties,\n",
    "        config_dir=config_dir,\n",
    "        dataset_representation_path=dataset_representation_path,\n",
    "        lim_counter = lim_counter,\n",
    "        which_acquisition = which_acquisition,\n",
    "        search_space_loc = search_space_loc,\n",
    "        budget = budget\n",
    "    )\n",
    "    if test:\n",
    "        %run {string_to_run_notebook}\n",
    "        return string_to_run_notebook\n",
    "    run_hpc_utils.submit_job(script_qsub, case_name)\n",
    "\n",
    "\n"
   ]
  },
  {
   "cell_type": "code",
   "execution_count": 25,
   "metadata": {},
   "outputs": [
    {
     "name": "stdout",
     "output_type": "stream",
     "text": [
      "src/dev_scripts/run_search_new.py  --case MFBO --test_name Benchmark_56K_dataset --target target --aim maximise --benchmark 1 --num_iteration 500 --num_elem_initialisation 5 --which_acquisition EI --dataset_representation_path None --df_path data/output/Full_dataset/df_train_pred_learned _better_format.csv --df_precursors_path data/output/Prescursor_data/precursor_data_200324.pkl --config_dir /rds/general/user/ma11115/home/STK_Search/STK_search/data/representation_learning/6-frag/target/240516/SchNet/splitrand-nummol10000 --search_space_loc data/input/EXP_search_space/6_mers_filtered_BB_2024_05_15_09_28_21//search_space_0.pkl --frag_properties selected --lim_counter 5 --budget 100\n"
     ]
    },
    {
     "ename": "ImportError",
     "evalue": "cannot import name 'MultifidelityBayesianOptimisation' from 'stk_search.Search_algorithm' (unknown location)",
     "output_type": "error",
     "traceback": [
      "\u001b[0;31m---------------------------------------------------------------------------\u001b[0m",
      "\u001b[0;31mImportError\u001b[0m                               Traceback (most recent call last)",
      "File \u001b[0;32m~/STK_Search/STK_search/src/dev_scripts/run_search_new.py:4\u001b[0m\n\u001b[1;32m      2\u001b[0m \u001b[38;5;28;01mfrom\u001b[39;00m \u001b[38;5;21;01mstk_search\u001b[39;00m\u001b[38;5;21;01m.\u001b[39;00m\u001b[38;5;21;01mSearch_algorithm\u001b[39;00m \u001b[38;5;28;01mimport\u001b[39;00m Search_algorithm\n\u001b[1;32m      3\u001b[0m \u001b[38;5;28;01mfrom\u001b[39;00m \u001b[38;5;21;01mstk_search\u001b[39;00m\u001b[38;5;21;01m.\u001b[39;00m\u001b[38;5;21;01mSearch_algorithm\u001b[39;00m \u001b[38;5;28;01mimport\u001b[39;00m BayesianOptimisation\n\u001b[0;32m----> 4\u001b[0m \u001b[38;5;28;01mfrom\u001b[39;00m \u001b[38;5;21;01mstk_search\u001b[39;00m\u001b[38;5;21;01m.\u001b[39;00m\u001b[38;5;21;01mSearch_algorithm\u001b[39;00m \u001b[38;5;28;01mimport\u001b[39;00m MultifidelityBayesianOptimisation\n\u001b[1;32m      5\u001b[0m \u001b[38;5;28;01mfrom\u001b[39;00m \u001b[38;5;21;01mstk_search\u001b[39;00m\u001b[38;5;21;01m.\u001b[39;00m\u001b[38;5;21;01mRepresentation\u001b[39;00m \u001b[38;5;28;01mimport\u001b[39;00m (\n\u001b[1;32m      6\u001b[0m     Representation_from_fragment,\n\u001b[1;32m      7\u001b[0m     Representation_3d_from_fragment,\n\u001b[1;32m      8\u001b[0m )\n\u001b[1;32m      9\u001b[0m \u001b[38;5;28;01mfrom\u001b[39;00m \u001b[38;5;21;01mstk_search\u001b[39;00m\u001b[38;5;21;01m.\u001b[39;00m\u001b[38;5;21;01mObjective_function\u001b[39;00m \u001b[38;5;28;01mimport\u001b[39;00m IP_ES1_fosc, Look_up_table\n",
      "\u001b[0;31mImportError\u001b[0m: cannot import name 'MultifidelityBayesianOptimisation' from 'stk_search.Search_algorithm' (unknown location)"
     ]
    },
    {
     "data": {
      "text/plain": [
       "'src/dev_scripts/run_search_new.py  --case MFBO --test_name Benchmark_56K_dataset --target target --aim maximise --benchmark 1 --num_iteration 500 --num_elem_initialisation 5 --which_acquisition EI --dataset_representation_path None --df_path data/output/Full_dataset/df_train_pred_learned _better_format.csv --df_precursors_path data/output/Prescursor_data/precursor_data_200324.pkl --config_dir /rds/general/user/ma11115/home/STK_Search/STK_search/data/representation_learning/6-frag/target/240516/SchNet/splitrand-nummol10000 --search_space_loc data/input/EXP_search_space/6_mers_filtered_BB_2024_05_15_09_28_21//search_space_0.pkl --frag_properties selected --lim_counter 5 --budget 100'"
      ]
     },
     "execution_count": 25,
     "metadata": {},
     "output_type": "execute_result"
    }
   ],
   "source": [
    "\n",
    "run_search_on_hpc(\n",
    "                case_name='MFBO',\n",
    "                df_precursors_path=df_precursor_path,\n",
    "                config_dir = config_dir,\n",
    "                test=True,\n",
    "                budget =100,\n",
    "                \n",
    "            )"
   ]
  },
  {
   "cell_type": "code",
   "execution_count": null,
   "metadata": {},
   "outputs": [],
   "source": []
  }
 ],
 "metadata": {
  "kernelspec": {
   "display_name": "Geom3D",
   "language": "python",
   "name": "geom3d"
  },
  "language_info": {
   "codemirror_mode": {
    "name": "ipython",
    "version": 3
   },
   "file_extension": ".py",
   "mimetype": "text/x-python",
   "name": "python",
   "nbconvert_exporter": "python",
   "pygments_lexer": "ipython3",
   "version": "3.11.6"
  }
 },
 "nbformat": 4,
 "nbformat_minor": 2
}
