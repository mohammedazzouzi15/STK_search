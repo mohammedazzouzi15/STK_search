{
 "cells": [
  {
   "cell_type": "code",
   "execution_count": 1,
   "metadata": {},
   "outputs": [],
   "source": [
    "import os#\n",
    "#os.chdir('c:\\\\Users\\\\ma11115\\\\OneDrive - Imperial College London\\\\github_folder\\\\STK_SEARCH\\\\')\n",
    "os.chdir(\"/rds/general/user/ma11115/home/STK_Search/STK_search\")\n",
    "from pathlib import Path#\n",
    "import pandas as pd\n",
    "import torch\n",
    "import numpy as np\n",
    "import importlib\n",
    "from stk_search.utils import database_utils\n",
    "from stk_search.utils import config_utils\n",
    "import datetime\n",
    "from stk_search.utils import update_datasets\n",
    "import importlib\n",
    "importlib.reload(config_utils)\n",
    "os.makedirs('data/output/search_experiment/search_exp_database', exist_ok=True)"
   ]
  },
  {
   "cell_type": "code",
   "execution_count": 2,
   "metadata": {},
   "outputs": [
    {
     "name": "stderr",
     "output_type": "stream",
     "text": [
      "/rds/general/user/ma11115/home/STK_Search/STK_search/src/stk_search/utils/database_utils.py:57: SettingWithCopyWarning: \n",
      "A value is trying to be set on a copy of a slice from a DataFrame.\n",
      "Try using .loc[row_indexer,col_indexer] = value instead\n",
      "\n",
      "See the caveats in the documentation: https://pandas.pydata.org/pandas-docs/stable/user_guide/indexing.html#returning-a-view-versus-a-copy\n",
      "  df_test[f\"InChIKey_{i}\"] = df_test[\"BB\"].apply(\n"
     ]
    }
   ],
   "source": [
    "## load data from the database\n",
    "df_precursors_path =\"data/output/Prescursor_data/precursor_data_new_clustering.pkl\"\n",
    "\n",
    "df_total_new , df_precursors= database_utils.load_data_database(df_precursors_path,num_fragm=6)"
   ]
  },
  {
   "cell_type": "code",
   "execution_count": 3,
   "metadata": {},
   "outputs": [],
   "source": [
    "#Helper function to split the dataset\n",
    "\n",
    "\n",
    "def do_random_split(config,hide_best_molecules=True,df_total_new=df_total_new):\n",
    "    df = df_total_new.copy()\n",
    "    def topk_split(topkmol, df,num_molecules_dataset=5000,target_name='target',hide_best_molecules=hide_best_molecules):\n",
    "        min_target_out_of_database = -np.sort(-df[target_name].values)[topkmol]\n",
    "        df_test = df[df[target_name]>=min_target_out_of_database]\n",
    "        if hide_best_molecules:\n",
    "            df_train = df[df[target_name]<min_target_out_of_database]\n",
    "        else:\n",
    "            df_train = df.copy()\n",
    "            print(df_train.shape[0])\n",
    "        # add random element from df to the test set\n",
    "        #df_test_random = df.sample(n=1000, random_state=1)\n",
    "        #df_test = pd.concat([df_test, df_test_random])\n",
    "        df_test.reset_index(drop=True, inplace=True)\n",
    "        list_col = [f'InChIKey_{x}' for x in range(6)]\n",
    "        list_col.append(target_name)\n",
    "        list_col.append('InChIKey')\n",
    "        df_train = df_train[list_col]\n",
    "        df_train = df_train[~df_train['InChIKey'].isin(df_test['InChIKey'])]\n",
    "        if num_molecules_dataset>df_train.shape[0]:\n",
    "            print(\"Warning: the number of molecules in the dataset is smaller than the number of molecules requested\")\n",
    "            num_molecules_dataset = df_train.shape[0]\n",
    "        df_train = df_train.sample(num_molecules_dataset)\n",
    "        df_val = df_train.sample(frac=0.1, random_state=1)\n",
    "        df_train = df_train[~df_train['InChIKey'].isin(df_val['InChIKey'])]\n",
    "        df_train.reset_index(drop=True, inplace=True)\n",
    "        df_val.reset_index(drop=True, inplace=True)\n",
    "        return df_train, df_val, df_test\n",
    "    topKmol = int(df.shape[0]*0.01)\n",
    "    df_train, df_val, df_test = topk_split(topKmol, df,config[\"num_molecules\"],config[\"target_name\"],hide_best_molecules=hide_best_molecules)\n",
    "    config_dir= config[\"running_dir\"]\n",
    "    df_train.to_csv(config_dir + \"df_train.csv\", index=False)\n",
    "    df_val.to_csv(config_dir + \"df_val.csv\", index=False)\n",
    "    df_test.to_csv(config_dir + \"df_test.csv\", index=False)\n",
    "    return df_train, df_val, df_test\n",
    "\n"
   ]
  },
  {
   "cell_type": "code",
   "execution_count": 4,
   "metadata": {},
   "outputs": [],
   "source": [
    "\n",
    "importlib.reload(update_datasets)\n",
    "importlib.reload(config_utils)\n",
    "date = datetime.datetime.now().strftime(\"%y%m%d\")\n",
    "#df_total_path = df_total_path_new\n",
    "config_dir_old =  \"data/representation_learning/6-frag/target/240516//SchNet/splitrand-nummol20000/\"\n",
    "config_dir_to_save = f\"data/representation_learning/6-frag/target/{date}//SchNet/Full_data/\"\n",
    "\n",
    "os.makedirs(config_dir_to_save, exist_ok=True)"
   ]
  },
  {
   "cell_type": "code",
   "execution_count": 10,
   "metadata": {},
   "outputs": [
    {
     "name": "stdout",
     "output_type": "stream",
     "text": [
      "43354\n",
      "Warning: the number of molecules in the dataset is smaller than the number of molecules requested\n"
     ]
    }
   ],
   "source": [
    "config = config_utils.load_config(config_dir_old)\n",
    "config[\"num_molecules\"] = df_total_new.shape[0]\n",
    "config[\"running_dir\"] = config_dir_to_save\n",
    "config_dir = config[\"running_dir\"]\n",
    "if config[\"split_type\"] == \"rand\":\n",
    "    df_train, df_val, df_test = do_random_split(config,hide_best_molecules=False)\n",
    "config[\"device\"] = torch.device(\"cuda\" if torch.cuda.is_available() else \"cpu\")\n",
    "config_utils.save_config(config,config_dir_to_save)"
   ]
  },
  {
   "cell_type": "code",
   "execution_count": 11,
   "metadata": {},
   "outputs": [
    {
     "name": "stdout",
     "output_type": "stream",
     "text": [
      "config loaded from data/representation_learning/6-frag/target/240517//SchNet/Full_data/\n",
      "Model loaded:  SchNet\n",
      "Model loaded:  /rds/general/user/ma11115/home/STK_Search/STK_search/data/representation_learning/6-frag/target/240516//SchNet/splitrand-nummol20000/epoch=18-val_loss=0.14-other_metric=0.00.ckpt\n"
     ]
    },
    {
     "name": "stderr",
     "output_type": "stream",
     "text": [
      "Failed to detect the name of this notebook, you can set it manually with the WANDB_NOTEBOOK_NAME environment variable to enable code saving.\n",
      "\u001b[34m\u001b[1mwandb\u001b[0m: Currently logged in as: \u001b[33mmohammed-azzouzi15\u001b[0m (\u001b[33mazzouzi_lab\u001b[0m). Use \u001b[1m`wandb login --relogin`\u001b[0m to force relogin\n"
     ]
    },
    {
     "data": {
      "text/html": [
       "wandb version 0.17.0 is available!  To upgrade, please run:\n",
       " $ pip install wandb --upgrade"
      ],
      "text/plain": [
       "<IPython.core.display.HTML object>"
      ]
     },
     "metadata": {},
     "output_type": "display_data"
    },
    {
     "data": {
      "text/html": [
       "Tracking run with wandb version 0.16.1"
      ],
      "text/plain": [
       "<IPython.core.display.HTML object>"
      ]
     },
     "metadata": {},
     "output_type": "display_data"
    },
    {
     "data": {
      "text/html": [
       "Run data is saved locally in <code>./wandb/run-20240517_150120-v2d1mtod</code>"
      ],
      "text/plain": [
       "<IPython.core.display.HTML object>"
      ]
     },
     "metadata": {},
     "output_type": "display_data"
    },
    {
     "data": {
      "text/html": [
       "Syncing run <strong><a href='https://wandb.ai/azzouzi_lab/6-frag_target_240516/runs/v2d1mtod' target=\"_blank\">SchNet_splitrand-nummol20000</a></strong> to <a href='https://wandb.ai/azzouzi_lab/6-frag_target_240516' target=\"_blank\">Weights & Biases</a> (<a href='https://wandb.me/run' target=\"_blank\">docs</a>)<br/>"
      ],
      "text/plain": [
       "<IPython.core.display.HTML object>"
      ]
     },
     "metadata": {},
     "output_type": "display_data"
    },
    {
     "data": {
      "text/html": [
       " View project at <a href='https://wandb.ai/azzouzi_lab/6-frag_target_240516' target=\"_blank\">https://wandb.ai/azzouzi_lab/6-frag_target_240516</a>"
      ],
      "text/plain": [
       "<IPython.core.display.HTML object>"
      ]
     },
     "metadata": {},
     "output_type": "display_data"
    },
    {
     "data": {
      "text/html": [
       " View run at <a href='https://wandb.ai/azzouzi_lab/6-frag_target_240516/runs/v2d1mtod' target=\"_blank\">https://wandb.ai/azzouzi_lab/6-frag_target_240516/runs/v2d1mtod</a>"
      ],
      "text/plain": [
       "<IPython.core.display.HTML object>"
      ]
     },
     "metadata": {},
     "output_type": "display_data"
    },
    {
     "name": "stderr",
     "output_type": "stream",
     "text": [
      "GPU available: True (cuda), used: True\n",
      "TPU available: False, using: 0 TPU cores\n",
      "IPU available: False, using: 0 IPUs\n",
      "HPU available: False, using: 0 HPUs\n",
      "`Trainer(val_check_interval=1.0)` was configured so validation will run at the end of the training epoch..\n",
      "LOCAL_RANK: 0 - CUDA_VISIBLE_DEVICES: [6]\n",
      "\n",
      "  | Name              | Type   | Params\n",
      "---------------------------------------------\n",
      "0 | molecule_3D_repr  | SchNet | 628 K \n",
      "1 | graph_pred_linear | Linear | 129   \n",
      "2 | transform_to_opt  | Linear | 16.5 K\n",
      "---------------------------------------------\n",
      "645 K     Trainable params\n",
      "0         Non-trainable params\n",
      "645 K     Total params\n",
      "2.582     Total estimated model params size (MB)\n"
     ]
    },
    {
     "name": "stdout",
     "output_type": "stream",
     "text": [
      "Apply lr scheduler CosineAnnealingLR\n"
     ]
    },
    {
     "data": {
      "application/vnd.jupyter.widget-view+json": {
       "model_id": "2610dc3bad6745ad8cb1bbcbba998770",
       "version_major": 2,
       "version_minor": 0
      },
      "text/plain": [
       "Sanity Checking: |          | 0/? [00:00<?, ?it/s]"
      ]
     },
     "metadata": {},
     "output_type": "display_data"
    },
    {
     "name": "stderr",
     "output_type": "stream",
     "text": [
      "/rds/general/user/ma11115/home/anaconda3/envs/Geom3D/lib/python3.11/site-packages/lightning/pytorch/trainer/connectors/data_connector.py:492: Your `val_dataloader`'s sampler has shuffling enabled, it is strongly recommended that you turn shuffling off for val/test dataloaders.\n",
      "/rds/general/user/ma11115/home/anaconda3/envs/Geom3D/lib/python3.11/site-packages/lightning/pytorch/trainer/connectors/data_connector.py:441: The 'val_dataloader' does not have many workers which may be a bottleneck. Consider increasing the value of the `num_workers` argument` to `num_workers=31` in the `DataLoader` to improve performance.\n",
      "/rds/general/user/ma11115/home/anaconda3/envs/Geom3D/lib/python3.11/site-packages/lightning/pytorch/trainer/connectors/data_connector.py:441: The 'train_dataloader' does not have many workers which may be a bottleneck. Consider increasing the value of the `num_workers` argument` to `num_workers=31` in the `DataLoader` to improve performance.\n"
     ]
    },
    {
     "data": {
      "application/vnd.jupyter.widget-view+json": {
       "model_id": "5659980d97f44126868de468f8f84e05",
       "version_major": 2,
       "version_minor": 0
      },
      "text/plain": [
       "Training: |          | 0/? [00:00<?, ?it/s]"
      ]
     },
     "metadata": {},
     "output_type": "display_data"
    },
    {
     "data": {
      "application/vnd.jupyter.widget-view+json": {
       "model_id": "e1d28b6e36dd499485d9a828164dddaf",
       "version_major": 2,
       "version_minor": 0
      },
      "text/plain": [
       "Validation: |          | 0/? [00:00<?, ?it/s]"
      ]
     },
     "metadata": {},
     "output_type": "display_data"
    },
    {
     "data": {
      "application/vnd.jupyter.widget-view+json": {
       "model_id": "7209bcb661c34bd4a2cba78a100f6ca9",
       "version_major": 2,
       "version_minor": 0
      },
      "text/plain": [
       "Validation: |          | 0/? [00:00<?, ?it/s]"
      ]
     },
     "metadata": {},
     "output_type": "display_data"
    },
    {
     "data": {
      "application/vnd.jupyter.widget-view+json": {
       "model_id": "0dee2ab9ff7143bd97bfc9c96ea71ff6",
       "version_major": 2,
       "version_minor": 0
      },
      "text/plain": [
       "Validation: |          | 0/? [00:00<?, ?it/s]"
      ]
     },
     "metadata": {},
     "output_type": "display_data"
    },
    {
     "data": {
      "application/vnd.jupyter.widget-view+json": {
       "model_id": "b250be5b3b224ee0a9e8511977404dd1",
       "version_major": 2,
       "version_minor": 0
      },
      "text/plain": [
       "Validation: |          | 0/? [00:00<?, ?it/s]"
      ]
     },
     "metadata": {},
     "output_type": "display_data"
    },
    {
     "data": {
      "application/vnd.jupyter.widget-view+json": {
       "model_id": "fd020daa475346838f6d959c45cecbb0",
       "version_major": 2,
       "version_minor": 0
      },
      "text/plain": [
       "Validation: |          | 0/? [00:00<?, ?it/s]"
      ]
     },
     "metadata": {},
     "output_type": "display_data"
    },
    {
     "data": {
      "application/vnd.jupyter.widget-view+json": {
       "model_id": "7a8febc4d9c1459dbb9bd7ebfd34628d",
       "version_major": 2,
       "version_minor": 0
      },
      "text/plain": [
       "Validation: |          | 0/? [00:00<?, ?it/s]"
      ]
     },
     "metadata": {},
     "output_type": "display_data"
    },
    {
     "data": {
      "application/vnd.jupyter.widget-view+json": {
       "model_id": "65cf93781c154bd19b26b26c222acd6b",
       "version_major": 2,
       "version_minor": 0
      },
      "text/plain": [
       "Validation: |          | 0/? [00:00<?, ?it/s]"
      ]
     },
     "metadata": {},
     "output_type": "display_data"
    },
    {
     "data": {
      "application/vnd.jupyter.widget-view+json": {
       "model_id": "91871c4c72b3439f9084cc86e6959065",
       "version_major": 2,
       "version_minor": 0
      },
      "text/plain": [
       "Validation: |          | 0/? [00:00<?, ?it/s]"
      ]
     },
     "metadata": {},
     "output_type": "display_data"
    },
    {
     "data": {
      "application/vnd.jupyter.widget-view+json": {
       "model_id": "cf389966f9994ce295cd74539b3ceb2c",
       "version_major": 2,
       "version_minor": 0
      },
      "text/plain": [
       "Validation: |          | 0/? [00:00<?, ?it/s]"
      ]
     },
     "metadata": {},
     "output_type": "display_data"
    },
    {
     "data": {
      "application/vnd.jupyter.widget-view+json": {
       "model_id": "ca8c3012a2ba4c0d915916b8a484ce11",
       "version_major": 2,
       "version_minor": 0
      },
      "text/plain": [
       "Validation: |          | 0/? [00:00<?, ?it/s]"
      ]
     },
     "metadata": {},
     "output_type": "display_data"
    },
    {
     "data": {
      "application/vnd.jupyter.widget-view+json": {
       "model_id": "3ea81587c495498ca31b0cdaae8f56fe",
       "version_major": 2,
       "version_minor": 0
      },
      "text/plain": [
       "Validation: |          | 0/? [00:00<?, ?it/s]"
      ]
     },
     "metadata": {},
     "output_type": "display_data"
    },
    {
     "data": {
      "application/vnd.jupyter.widget-view+json": {
       "model_id": "7679f4f2892845f5bb45d614194aff9c",
       "version_major": 2,
       "version_minor": 0
      },
      "text/plain": [
       "Validation: |          | 0/? [00:00<?, ?it/s]"
      ]
     },
     "metadata": {},
     "output_type": "display_data"
    },
    {
     "data": {
      "application/vnd.jupyter.widget-view+json": {
       "model_id": "046b9abae67a4eb9b04408ebec8a9d21",
       "version_major": 2,
       "version_minor": 0
      },
      "text/plain": [
       "Validation: |          | 0/? [00:00<?, ?it/s]"
      ]
     },
     "metadata": {},
     "output_type": "display_data"
    },
    {
     "data": {
      "application/vnd.jupyter.widget-view+json": {
       "model_id": "a59e22ae0c9d426797078600e51472f3",
       "version_major": 2,
       "version_minor": 0
      },
      "text/plain": [
       "Validation: |          | 0/? [00:00<?, ?it/s]"
      ]
     },
     "metadata": {},
     "output_type": "display_data"
    },
    {
     "data": {
      "application/vnd.jupyter.widget-view+json": {
       "model_id": "079607db423f4e9395bba0c75caf1aec",
       "version_major": 2,
       "version_minor": 0
      },
      "text/plain": [
       "Validation: |          | 0/? [00:00<?, ?it/s]"
      ]
     },
     "metadata": {},
     "output_type": "display_data"
    },
    {
     "data": {
      "application/vnd.jupyter.widget-view+json": {
       "model_id": "43aa111ff1f24f4cacfce11a8abc3467",
       "version_major": 2,
       "version_minor": 0
      },
      "text/plain": [
       "Validation: |          | 0/? [00:00<?, ?it/s]"
      ]
     },
     "metadata": {},
     "output_type": "display_data"
    },
    {
     "data": {
      "application/vnd.jupyter.widget-view+json": {
       "model_id": "acb0cc95315a482eab3c5786b057618b",
       "version_major": 2,
       "version_minor": 0
      },
      "text/plain": [
       "Validation: |          | 0/? [00:00<?, ?it/s]"
      ]
     },
     "metadata": {},
     "output_type": "display_data"
    },
    {
     "data": {
      "application/vnd.jupyter.widget-view+json": {
       "model_id": "88a3dafd6cf64660ad1889af1f560acb",
       "version_major": 2,
       "version_minor": 0
      },
      "text/plain": [
       "Validation: |          | 0/? [00:00<?, ?it/s]"
      ]
     },
     "metadata": {},
     "output_type": "display_data"
    },
    {
     "data": {
      "application/vnd.jupyter.widget-view+json": {
       "model_id": "633d7e9a2ef54a2eb99a04445c3e6e0e",
       "version_major": 2,
       "version_minor": 0
      },
      "text/plain": [
       "Validation: |          | 0/? [00:00<?, ?it/s]"
      ]
     },
     "metadata": {},
     "output_type": "display_data"
    },
    {
     "data": {
      "application/vnd.jupyter.widget-view+json": {
       "model_id": "274fe8b81cec4e9f983a41c5f4976ac4",
       "version_major": 2,
       "version_minor": 0
      },
      "text/plain": [
       "Validation: |          | 0/? [00:00<?, ?it/s]"
      ]
     },
     "metadata": {},
     "output_type": "display_data"
    },
    {
     "data": {
      "application/vnd.jupyter.widget-view+json": {
       "model_id": "6823a43d44d847f6930251d23ff4ea49",
       "version_major": 2,
       "version_minor": 0
      },
      "text/plain": [
       "Validation: |          | 0/? [00:00<?, ?it/s]"
      ]
     },
     "metadata": {},
     "output_type": "display_data"
    },
    {
     "data": {
      "application/vnd.jupyter.widget-view+json": {
       "model_id": "95639317a19e48118277e5339be6984c",
       "version_major": 2,
       "version_minor": 0
      },
      "text/plain": [
       "Validation: |          | 0/? [00:00<?, ?it/s]"
      ]
     },
     "metadata": {},
     "output_type": "display_data"
    },
    {
     "data": {
      "application/vnd.jupyter.widget-view+json": {
       "model_id": "56fc306980e44452b7ccc74b578c9839",
       "version_major": 2,
       "version_minor": 0
      },
      "text/plain": [
       "Validation: |          | 0/? [00:00<?, ?it/s]"
      ]
     },
     "metadata": {},
     "output_type": "display_data"
    },
    {
     "data": {
      "application/vnd.jupyter.widget-view+json": {
       "model_id": "456ac023d2a842eca9d4564084a4bf4f",
       "version_major": 2,
       "version_minor": 0
      },
      "text/plain": [
       "Validation: |          | 0/? [00:00<?, ?it/s]"
      ]
     },
     "metadata": {},
     "output_type": "display_data"
    },
    {
     "data": {
      "application/vnd.jupyter.widget-view+json": {
       "model_id": "2b34f08676654b23bea82486ec8be9f4",
       "version_major": 2,
       "version_minor": 0
      },
      "text/plain": [
       "Validation: |          | 0/? [00:00<?, ?it/s]"
      ]
     },
     "metadata": {},
     "output_type": "display_data"
    },
    {
     "data": {
      "application/vnd.jupyter.widget-view+json": {
       "model_id": "10c8eb672b5145128634e3a4d2cd559c",
       "version_major": 2,
       "version_minor": 0
      },
      "text/plain": [
       "Validation: |          | 0/? [00:00<?, ?it/s]"
      ]
     },
     "metadata": {},
     "output_type": "display_data"
    },
    {
     "data": {
      "application/vnd.jupyter.widget-view+json": {
       "model_id": "1c522bf9afcf4afe941cd8759e3cf6dc",
       "version_major": 2,
       "version_minor": 0
      },
      "text/plain": [
       "Validation: |          | 0/? [00:00<?, ?it/s]"
      ]
     },
     "metadata": {},
     "output_type": "display_data"
    },
    {
     "data": {
      "application/vnd.jupyter.widget-view+json": {
       "model_id": "b86aa7fe173c44208e1f88bce99ebf93",
       "version_major": 2,
       "version_minor": 0
      },
      "text/plain": [
       "Validation: |          | 0/? [00:00<?, ?it/s]"
      ]
     },
     "metadata": {},
     "output_type": "display_data"
    },
    {
     "data": {
      "application/vnd.jupyter.widget-view+json": {
       "model_id": "776d4b67a1654c19993d65c774015c69",
       "version_major": 2,
       "version_minor": 0
      },
      "text/plain": [
       "Validation: |          | 0/? [00:00<?, ?it/s]"
      ]
     },
     "metadata": {},
     "output_type": "display_data"
    },
    {
     "data": {
      "application/vnd.jupyter.widget-view+json": {
       "model_id": "ef380bb79e7a4d8397c2def807069bce",
       "version_major": 2,
       "version_minor": 0
      },
      "text/plain": [
       "Validation: |          | 0/? [00:00<?, ?it/s]"
      ]
     },
     "metadata": {},
     "output_type": "display_data"
    },
    {
     "data": {
      "application/vnd.jupyter.widget-view+json": {
       "model_id": "42612495a9e241e7b8ea3206b0c88371",
       "version_major": 2,
       "version_minor": 0
      },
      "text/plain": [
       "Validation: |          | 0/? [00:00<?, ?it/s]"
      ]
     },
     "metadata": {},
     "output_type": "display_data"
    },
    {
     "data": {
      "application/vnd.jupyter.widget-view+json": {
       "model_id": "e7410e1c48a74e04b68358e65e5380b8",
       "version_major": 2,
       "version_minor": 0
      },
      "text/plain": [
       "Validation: |          | 0/? [00:00<?, ?it/s]"
      ]
     },
     "metadata": {},
     "output_type": "display_data"
    },
    {
     "data": {
      "application/vnd.jupyter.widget-view+json": {
       "model_id": "b87569a6373245d4b480bfad0b458854",
       "version_major": 2,
       "version_minor": 0
      },
      "text/plain": [
       "Validation: |          | 0/? [00:00<?, ?it/s]"
      ]
     },
     "metadata": {},
     "output_type": "display_data"
    },
    {
     "data": {
      "application/vnd.jupyter.widget-view+json": {
       "model_id": "f5188c12e74649979e8eafa73d32d880",
       "version_major": 2,
       "version_minor": 0
      },
      "text/plain": [
       "Validation: |          | 0/? [00:00<?, ?it/s]"
      ]
     },
     "metadata": {},
     "output_type": "display_data"
    },
    {
     "data": {
      "application/vnd.jupyter.widget-view+json": {
       "model_id": "4e56d84eb17f4e798b7f0c4f89c262e2",
       "version_major": 2,
       "version_minor": 0
      },
      "text/plain": [
       "Validation: |          | 0/? [00:00<?, ?it/s]"
      ]
     },
     "metadata": {},
     "output_type": "display_data"
    },
    {
     "data": {
      "application/vnd.jupyter.widget-view+json": {
       "model_id": "8ad7e4173762427a831a2340270de335",
       "version_major": 2,
       "version_minor": 0
      },
      "text/plain": [
       "Validation: |          | 0/? [00:00<?, ?it/s]"
      ]
     },
     "metadata": {},
     "output_type": "display_data"
    },
    {
     "data": {
      "application/vnd.jupyter.widget-view+json": {
       "model_id": "3b2548b863ca4678984e321510aca30b",
       "version_major": 2,
       "version_minor": 0
      },
      "text/plain": [
       "Validation: |          | 0/? [00:00<?, ?it/s]"
      ]
     },
     "metadata": {},
     "output_type": "display_data"
    },
    {
     "data": {
      "application/vnd.jupyter.widget-view+json": {
       "model_id": "97514aacc8f64bd0a76b918ed7e13171",
       "version_major": 2,
       "version_minor": 0
      },
      "text/plain": [
       "Validation: |          | 0/? [00:00<?, ?it/s]"
      ]
     },
     "metadata": {},
     "output_type": "display_data"
    },
    {
     "data": {
      "application/vnd.jupyter.widget-view+json": {
       "model_id": "c0c4d69daec841439e67c5034c397363",
       "version_major": 2,
       "version_minor": 0
      },
      "text/plain": [
       "Validation: |          | 0/? [00:00<?, ?it/s]"
      ]
     },
     "metadata": {},
     "output_type": "display_data"
    },
    {
     "data": {
      "application/vnd.jupyter.widget-view+json": {
       "model_id": "1e97e94c1eaa437b980cf19d7583a345",
       "version_major": 2,
       "version_minor": 0
      },
      "text/plain": [
       "Validation: |          | 0/? [00:00<?, ?it/s]"
      ]
     },
     "metadata": {},
     "output_type": "display_data"
    },
    {
     "data": {
      "application/vnd.jupyter.widget-view+json": {
       "model_id": "0aa7c7ed9c624d9b8f0f18d9469d04a9",
       "version_major": 2,
       "version_minor": 0
      },
      "text/plain": [
       "Validation: |          | 0/? [00:00<?, ?it/s]"
      ]
     },
     "metadata": {},
     "output_type": "display_data"
    },
    {
     "data": {
      "application/vnd.jupyter.widget-view+json": {
       "model_id": "2d84f5af410249d8b707830a5f0dcfcc",
       "version_major": 2,
       "version_minor": 0
      },
      "text/plain": [
       "Validation: |          | 0/? [00:00<?, ?it/s]"
      ]
     },
     "metadata": {},
     "output_type": "display_data"
    },
    {
     "data": {
      "application/vnd.jupyter.widget-view+json": {
       "model_id": "a357830f07b44b88a63d44f29d5f0ef5",
       "version_major": 2,
       "version_minor": 0
      },
      "text/plain": [
       "Validation: |          | 0/? [00:00<?, ?it/s]"
      ]
     },
     "metadata": {},
     "output_type": "display_data"
    },
    {
     "data": {
      "application/vnd.jupyter.widget-view+json": {
       "model_id": "6dbc8514b55e49d4b892b209669ccbe3",
       "version_major": 2,
       "version_minor": 0
      },
      "text/plain": [
       "Validation: |          | 0/? [00:00<?, ?it/s]"
      ]
     },
     "metadata": {},
     "output_type": "display_data"
    },
    {
     "data": {
      "application/vnd.jupyter.widget-view+json": {
       "model_id": "9b528792bbd9464cb60c9c68e02e8cfd",
       "version_major": 2,
       "version_minor": 0
      },
      "text/plain": [
       "Validation: |          | 0/? [00:00<?, ?it/s]"
      ]
     },
     "metadata": {},
     "output_type": "display_data"
    },
    {
     "data": {
      "application/vnd.jupyter.widget-view+json": {
       "model_id": "e4a4e5e5042b420fb4b738d264e96d21",
       "version_major": 2,
       "version_minor": 0
      },
      "text/plain": [
       "VBox(children=(Label(value='7.502 MB of 7.502 MB uploaded\\r'), FloatProgress(value=1.0, max=1.0)))"
      ]
     },
     "metadata": {},
     "output_type": "display_data"
    },
    {
     "name": "stderr",
     "output_type": "stream",
     "text": [
      "wandb: WARNING Source type is set to 'repo' but some required information is missing from the environment. A job will not be created from this run. See https://docs.wandb.ai/guides/launch/create-job\n"
     ]
    },
    {
     "data": {
      "text/html": [
       "<style>\n",
       "    table.wandb td:nth-child(1) { padding: 0 10px; text-align: left ; width: auto;} td:nth-child(2) {text-align: left ; width: 100%}\n",
       "    .wandb-row { display: flex; flex-direction: row; flex-wrap: wrap; justify-content: flex-start; width: 100% }\n",
       "    .wandb-col { display: flex; flex-direction: column; flex-basis: 100%; flex: 1; padding: 10px; }\n",
       "    </style>\n",
       "<div class=\"wandb-row\"><div class=\"wandb-col\"><h3>Run history:</h3><br/><table class=\"wandb\"><tr><td>epoch</td><td>▁▁▁▁▂▂▂▂▂▃▃▃▃▃▄▄▄▄▄▄▅▅▅▅▅▅▆▆▆▆▆▇▇▇▇▇████</td></tr><tr><td>lr</td><td>███████████▇▇▇▇▇▇▇▇▆▆▆▆▆▅▅▅▅▄▄▄▄▃▃▃▂▂▂▂▁</td></tr><tr><td>train_loss</td><td>▆▆██▅▆▄▆▅▅▅▇▃▃▄▄▃▄▃▂▃▃▂▂▂▂▂▂▂▂▁▁▁▁▁▁▁▁▁▁</td></tr><tr><td>train_loss_repr</td><td>▁█▂▂▂▂▂▂▂▂▂▅▂▂▃▃▃▄▄▃▃▃▅▃▃▃▃▄▃▃▂▃▂▅▂▂▁▂▁▁</td></tr><tr><td>train_loss_target</td><td>▆▆██▅▆▄▆▅▅▅▆▃▃▄▄▃▃▃▂▃▃▂▂▂▂▂▂▂▂▁▁▁▁▁▁▁▁▁▁</td></tr><tr><td>trainer/global_step</td><td>▁▁▁▂▂▂▂▂▂▃▃▃▃▃▃▄▄▄▄▄▅▅▅▅▅▅▆▆▆▆▆▆▇▇▇▇▇███</td></tr><tr><td>val_loss</td><td>▄▄▆█▂▃▄▅▂▃▄▄▂▅▅▇▄▄▆▅▄█▁▅▅▄▅▅▇▅▆▅▇▇▅▅▆▇▅▆</td></tr><tr><td>val_loss_repr</td><td>▃▂▂▅▂▃▃▃▅▄▄▆▄▆▇▆▇▇▆▆▇█▆▇▆▄▅▄▆▄▄▄▃▃▂▂▂▂▁▁</td></tr><tr><td>val_loss_target</td><td>▅▅▆█▂▃▄▅▂▃▄▄▂▅▄▇▃▄▆▅▄▇▁▅▅▄▅▅▇▅▆▅▇█▆▅▆█▅▆</td></tr></table><br/></div><div class=\"wandb-col\"><h3>Run summary:</h3><br/><table class=\"wandb\"><tr><td>epoch</td><td>44</td></tr><tr><td>lr</td><td>0.00044</td></tr><tr><td>train_loss</td><td>0.0114</td></tr><tr><td>train_loss_repr</td><td>0.00363</td></tr><tr><td>train_loss_target</td><td>0.01917</td></tr><tr><td>trainer/global_step</td><td>6299</td></tr><tr><td>val_loss</td><td>0.14714</td></tr><tr><td>val_loss_repr</td><td>0.00346</td></tr><tr><td>val_loss_target</td><td>0.29083</td></tr></table><br/></div></div>"
      ],
      "text/plain": [
       "<IPython.core.display.HTML object>"
      ]
     },
     "metadata": {},
     "output_type": "display_data"
    },
    {
     "data": {
      "text/html": [
       " View run <strong style=\"color:#cdcd00\">SchNet_splitrand-nummol20000</strong> at: <a href='https://wandb.ai/azzouzi_lab/6-frag_target_240516/runs/v2d1mtod' target=\"_blank\">https://wandb.ai/azzouzi_lab/6-frag_target_240516/runs/v2d1mtod</a><br/>Synced 5 W&B file(s), 0 media file(s), 1 artifact file(s) and 0 other file(s)"
      ],
      "text/plain": [
       "<IPython.core.display.HTML object>"
      ]
     },
     "metadata": {},
     "output_type": "display_data"
    },
    {
     "data": {
      "text/html": [
       "Find logs at: <code>./wandb/run-20240517_150120-v2d1mtod/logs</code>"
      ],
      "text/plain": [
       "<IPython.core.display.HTML object>"
      ]
     },
     "metadata": {},
     "output_type": "display_data"
    },
    {
     "name": "stdout",
     "output_type": "stream",
     "text": [
      "Total time taken for model training: 1808.2568402290344 seconds\n",
      "config saved to data/representation_learning/6-frag/target/240517//SchNet/Full_data/\n",
      "data/representation_learning/6-frag/target/240517//SchNet/Full_data/epoch=24-val_loss=0.13-other_metric=0.00.ckpt\n",
      "Model loaded:  SchNet\n"
     ]
    },
    {
     "ename": "KeyError",
     "evalue": "'device'",
     "output_type": "error",
     "traceback": [
      "\u001b[0;31m---------------------------------------------------------------------------\u001b[0m",
      "\u001b[0;31mKeyError\u001b[0m                                  Traceback (most recent call last)",
      "File \u001b[0;32m~/STK_Search/STK_search/src/dev_scripts/run_representation_learning_polymer.py:163\u001b[0m\n\u001b[1;32m    161\u001b[0m args \u001b[38;5;241m=\u001b[39m argparser\u001b[38;5;241m.\u001b[39mparse_args()\n\u001b[1;32m    162\u001b[0m config_dir \u001b[38;5;241m=\u001b[39m args\u001b[38;5;241m.\u001b[39mconfig_dir\n\u001b[0;32m--> 163\u001b[0m \u001b[43mmain\u001b[49m\u001b[43m(\u001b[49m\u001b[43mconfig_dir\u001b[49m\u001b[43m)\u001b[49m\n",
      "File \u001b[0;32m~/STK_Search/STK_search/src/dev_scripts/run_representation_learning_polymer.py:47\u001b[0m, in \u001b[0;36mmain\u001b[0;34m(config_dir)\u001b[0m\n\u001b[1;32m     43\u001b[0m     file\u001b[38;5;241m.\u001b[39mwrite(\u001b[38;5;124mf\u001b[39m\u001b[38;5;124m\"\u001b[39m\u001b[38;5;124mNumber of test data loader: \u001b[39m\u001b[38;5;132;01m{\u001b[39;00m\u001b[38;5;28mlen\u001b[39m(test_loader)\u001b[38;5;132;01m}\u001b[39;00m\u001b[38;5;130;01m\\n\u001b[39;00m\u001b[38;5;124m\"\u001b[39m)\n\u001b[1;32m     44\u001b[0m train_models\u001b[38;5;241m.\u001b[39mload_and_run_model_training(\n\u001b[1;32m     45\u001b[0m     config, train_loader, val_loader, pl_model\u001b[38;5;241m.\u001b[39mPymodel_new\n\u001b[1;32m     46\u001b[0m )\n\u001b[0;32m---> 47\u001b[0m pymodel \u001b[38;5;241m=\u001b[39m \u001b[43mload_model\u001b[49m\u001b[43m(\u001b[49m\u001b[43mconfig_dir\u001b[49m\u001b[43m,\u001b[49m\u001b[43m \u001b[49m\u001b[43mconfig\u001b[49m\u001b[43m)\u001b[49m\n\u001b[1;32m     48\u001b[0m pymodel\u001b[38;5;241m.\u001b[39meval()\n\u001b[1;32m     49\u001b[0m \u001b[38;5;28mprint\u001b[39m(\u001b[38;5;124m\"\u001b[39m\u001b[38;5;124mModel loaded\u001b[39m\u001b[38;5;124m\"\u001b[39m)\n",
      "File \u001b[0;32m~/STK_Search/STK_search/src/dev_scripts/run_representation_learning_polymer.py:95\u001b[0m, in \u001b[0;36mload_model\u001b[0;34m(config_dir, config)\u001b[0m\n\u001b[1;32m     93\u001b[0m chkpt_path \u001b[38;5;241m=\u001b[39m config[\u001b[38;5;124m\"\u001b[39m\u001b[38;5;124mmodel_embedding_chkpt\u001b[39m\u001b[38;5;124m\"\u001b[39m]\n\u001b[1;32m     94\u001b[0m \u001b[38;5;28;01mif\u001b[39;00m os\u001b[38;5;241m.\u001b[39mpath\u001b[38;5;241m.\u001b[39mexists(chkpt_path):\n\u001b[0;32m---> 95\u001b[0m     checkpoint \u001b[38;5;241m=\u001b[39m torch\u001b[38;5;241m.\u001b[39mload(chkpt_path, map_location\u001b[38;5;241m=\u001b[39m\u001b[43mconfig\u001b[49m\u001b[43m[\u001b[49m\u001b[38;5;124;43m\"\u001b[39;49m\u001b[38;5;124;43mdevice\u001b[39;49m\u001b[38;5;124;43m\"\u001b[39;49m\u001b[43m]\u001b[49m)\n\u001b[1;32m     96\u001b[0m     pymodel\u001b[38;5;241m.\u001b[39mload_state_dict(state_dict\u001b[38;5;241m=\u001b[39mcheckpoint[\u001b[38;5;124m\"\u001b[39m\u001b[38;5;124mstate_dict\u001b[39m\u001b[38;5;124m\"\u001b[39m])\n\u001b[1;32m     98\u001b[0m \u001b[38;5;28;01mreturn\u001b[39;00m pymodel\n",
      "\u001b[0;31mKeyError\u001b[0m: 'device'"
     ]
    }
   ],
   "source": [
    "#retrain \n",
    "os.chdir(\"/rds/general/user/ma11115/home/STK_Search/STK_search\")\n",
    "\n",
    "%run src/dev_scripts/run_representation_learning_polymer.py --config_dir {config_dir}"
   ]
  },
  {
   "cell_type": "code",
   "execution_count": 9,
   "metadata": {},
   "outputs": [
    {
     "data": {
      "text/plain": [
       "'data/representation_learning/6-frag/target/240517//SchNet/Full_data/'"
      ]
     },
     "execution_count": 9,
     "metadata": {},
     "output_type": "execute_result"
    }
   ],
   "source": [
    "config[\"running_dir\"]"
   ]
  },
  {
   "cell_type": "code",
   "execution_count": null,
   "metadata": {},
   "outputs": [],
   "source": []
  }
 ],
 "metadata": {
  "kernelspec": {
   "display_name": "Geom3D",
   "language": "python",
   "name": "geom3d"
  },
  "language_info": {
   "codemirror_mode": {
    "name": "ipython",
    "version": 3
   },
   "file_extension": ".py",
   "mimetype": "text/x-python",
   "name": "python",
   "nbconvert_exporter": "python",
   "pygments_lexer": "ipython3",
   "version": "3.11.6"
  }
 },
 "nbformat": 4,
 "nbformat_minor": 2
}
