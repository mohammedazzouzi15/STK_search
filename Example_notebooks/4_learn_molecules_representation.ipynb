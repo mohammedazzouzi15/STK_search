{
 "cells": [
  {
   "cell_type": "code",
   "execution_count": 1,
   "metadata": {},
   "outputs": [
    {
     "data": {
      "text/plain": [
       "<module 'stk_search.utils.config_utils' from '/home/mohammed/Work/STK_search/src/stk_search/utils/config_utils.py'>"
      ]
     },
     "execution_count": 1,
     "metadata": {},
     "output_type": "execute_result"
    }
   ],
   "source": [
    "import os#\n",
    "#os.chdir('c:\\\\Users\\\\ma11115\\\\OneDrive - Imperial College London\\\\github_folder\\\\STK_SEARCH\\\\')\n",
    "os.chdir('/home/mohammed/Work/STK_search')\n",
    "from pathlib import Path#\n",
    "\n",
    "import pandas as pd\n",
    "import torch\n",
    "import numpy as np\n",
    "from stk_search.utils.config_utils import read_config, save_config\n",
    "from stk_search.utils import config_utils\n",
    "import datetime\n",
    "from stk_search.utils import update_datasets\n",
    "import importlib\n",
    "importlib.reload(config_utils)"
   ]
  },
  {
   "cell_type": "code",
   "execution_count": 12,
   "metadata": {},
   "outputs": [],
   "source": [
    "#Helper function to split the dataset\n",
    "from stk_search.geom3d import polymer_GNN_architecture_utils\n",
    "\n",
    "def check_building_block_present(df_total_path_new,config_dir):\n",
    "    df_total = pd.read_csv(df_total_path_new,low_memory=False)\n",
    "    config = read_config(config_dir)\n",
    "    bbs_dict = polymer_GNN_architecture_utils.get_bbs_dict(\n",
    "        config['pymongo_client'] , config['precursor_database_name']\n",
    "    )\n",
    "    bbs_dict\n",
    "    # check df_total has inchikey in bb_dict\n",
    "    for i in range(6):\n",
    "        df_total = df_total[df_total[f'InChIKey_{i}'].isin(bbs_dict.keys())]\n",
    "    df_total.to_csv(df_total_path_new, index=False)\n",
    "    return df_total\n",
    "\n",
    "def do_random_split(config,hide_best_molecules=True):\n",
    "    df_path = Path(\n",
    "            config[\"df_total\"]\n",
    "        )\n",
    "    if os.path.isfile(df_path):\n",
    "        df = pd.read_csv(df_path,low_memory=False)\n",
    "    else:\n",
    "        print(\"No dataframe found, will resort in a random split from the data in the database\")\n",
    "    def topk_split(topkmol, df,num_molecules_dataset=5000,target_name='target',hide_best_molecules=hide_best_molecules):\n",
    "        min_target_out_of_database = -np.sort(-df[target_name].values)[topkmol]\n",
    "        df_test = df[df[target_name]>=min_target_out_of_database]\n",
    "        if hide_best_molecules:\n",
    "            df_train = df[df[target_name]<min_target_out_of_database]\n",
    "        else:\n",
    "            df_train = df.copy()\n",
    "            print(df_train.shape[0])\n",
    "        # add random element from df to the test set\n",
    "        #df_test_random = df.sample(n=1000, random_state=1)\n",
    "        #df_test = pd.concat([df_test, df_test_random])\n",
    "        df_test.reset_index(drop=True, inplace=True)\n",
    "        list_col = [f'InChIKey_{x}' for x in range(6)]\n",
    "        list_col.append(target_name)\n",
    "        list_col.append('InChIKey')\n",
    "        df_train = df_train[list_col]\n",
    "        df_train = df_train[~df_train['InChIKey'].isin(df_test['InChIKey'])]\n",
    "        if num_molecules_dataset>df_train.shape[0]:\n",
    "            print(\"Warning: the number of molecules in the dataset is smaller than the number of molecules requested\")\n",
    "            num_molecules_dataset = df_train.shape[0]\n",
    "        df_train = df_train.sample(num_molecules_dataset)\n",
    "        df_val = df_train.sample(frac=0.1, random_state=1)\n",
    "        df_train = df_train[~df_train['InChIKey'].isin(df_val['InChIKey'])]\n",
    "        df_train.reset_index(drop=True, inplace=True)\n",
    "        df_val.reset_index(drop=True, inplace=True)\n",
    "        return df_train, df_val, df_test\n",
    "    topKmol = int(df.shape[0]*0.01)\n",
    "    df_train, df_val, df_test = topk_split(topKmol, df,config[\"num_molecules\"],config[\"target_name\"],hide_best_molecules=hide_best_molecules)\n",
    "    config_dir= config[\"running_dir\"]\n",
    "    df_train.to_csv(config_dir + \"df_train.csv\", index=False)\n",
    "    df_val.to_csv(config_dir + \"df_val.csv\", index=False)\n",
    "    df_test.to_csv(config_dir + \"df_test.csv\", index=False)\n",
    "    for key in ['df_train','df_val','df_test']:\n",
    "        check_building_block_present(config_dir + key + \".csv\",config_dir)\n",
    "    return df_train, df_val, df_test\n",
    "\n"
   ]
  },
  {
   "cell_type": "code",
   "execution_count": 13,
   "metadata": {},
   "outputs": [
    {
     "name": "stdout",
     "output_type": "stream",
     "text": [
      "74508\n"
     ]
    },
    {
     "data": {
      "text/html": [
       "<div>\n",
       "<style scoped>\n",
       "    .dataframe tbody tr th:only-of-type {\n",
       "        vertical-align: middle;\n",
       "    }\n",
       "\n",
       "    .dataframe tbody tr th {\n",
       "        vertical-align: top;\n",
       "    }\n",
       "\n",
       "    .dataframe thead th {\n",
       "        text-align: right;\n",
       "    }\n",
       "</style>\n",
       "<table border=\"1\" class=\"dataframe\">\n",
       "  <thead>\n",
       "    <tr style=\"text-align: right;\">\n",
       "      <th></th>\n",
       "      <th>Unnamed: 0</th>\n",
       "      <th>InChIKey</th>\n",
       "      <th>BB</th>\n",
       "      <th>electron affinity (eV)</th>\n",
       "      <th>homo lumo_gap (eV)</th>\n",
       "      <th>ionisation potential (eV)</th>\n",
       "      <th>total energy (au)</th>\n",
       "      <th>ES1</th>\n",
       "      <th>fosc1</th>\n",
       "      <th>InChIKey_0</th>\n",
       "      <th>InChIKey_1</th>\n",
       "      <th>InChIKey_2</th>\n",
       "      <th>InChIKey_3</th>\n",
       "      <th>InChIKey_4</th>\n",
       "      <th>InChIKey_5</th>\n",
       "      <th>target</th>\n",
       "    </tr>\n",
       "  </thead>\n",
       "  <tbody>\n",
       "    <tr>\n",
       "      <th>0</th>\n",
       "      <td>0</td>\n",
       "      <td>AAAIKLIUXQWZQC-SBRRWJCQSA-N</td>\n",
       "      <td>[{'InChIKey': 'SWJPEBQEEAHIGZ-UHFFFAOYSA-N'}, ...</td>\n",
       "      <td>3.7458</td>\n",
       "      <td>0.020987</td>\n",
       "      <td>7.3767</td>\n",
       "      <td>-251.681432</td>\n",
       "      <td>3.311</td>\n",
       "      <td>0.1454</td>\n",
       "      <td>SWJPEBQEEAHIGZ-UHFFFAOYSA-N</td>\n",
       "      <td>WLJMWJRNANCLLB-UQCOIBPSSA-N</td>\n",
       "      <td>QKOAHMWMROSOCB-UHFFFAOYSA-N</td>\n",
       "      <td>NACLVJFIPGLGGF-UHFFFAOYSA-N</td>\n",
       "      <td>WLJMWJRNANCLLB-UQCOIBPSSA-N</td>\n",
       "      <td>KESGZSFJWVCXKF-UHFFFAOYSA-N</td>\n",
       "      <td>-3.025136</td>\n",
       "    </tr>\n",
       "    <tr>\n",
       "      <th>1</th>\n",
       "      <td>1</td>\n",
       "      <td>AAALPPGKJQYWNO-NOPDUFPGSA-N</td>\n",
       "      <td>[{'InChIKey': 'AZYPAMWLUNRZKI-UHFFFAOYSA-N'}, ...</td>\n",
       "      <td>3.2475</td>\n",
       "      <td>0.014649</td>\n",
       "      <td>6.5768</td>\n",
       "      <td>-219.209051</td>\n",
       "      <td>2.674</td>\n",
       "      <td>0.1693</td>\n",
       "      <td>AZYPAMWLUNRZKI-UHFFFAOYSA-N</td>\n",
       "      <td>BMAXCOSCNAUKQK-WCIBSUBMSA-N</td>\n",
       "      <td>AVQCSVOAVAVAMJ-UHFFFAOYSA-N</td>\n",
       "      <td>WNSNPGHNIJOOPM-UHFFFAOYSA-N</td>\n",
       "      <td>YYTSOZXMJUHWJS-UHFFFAOYSA-N</td>\n",
       "      <td>CGQMQIAGYJZKNI-UHFFFAOYSA-N</td>\n",
       "      <td>-2.174143</td>\n",
       "    </tr>\n",
       "    <tr>\n",
       "      <th>2</th>\n",
       "      <td>2</td>\n",
       "      <td>AAAVCXUUFSMNCC-UBCNBMAWSA-N</td>\n",
       "      <td>[{'InChIKey': 'KYORXLIHDAZXPK-UHFFFAOYSA-N'}, ...</td>\n",
       "      <td>3.6878</td>\n",
       "      <td>0.054748</td>\n",
       "      <td>6.5672</td>\n",
       "      <td>-238.356300</td>\n",
       "      <td>2.554</td>\n",
       "      <td>0.1542</td>\n",
       "      <td>KYORXLIHDAZXPK-UHFFFAOYSA-N</td>\n",
       "      <td>VHGPRJAKJSOPER-CLTKARDFSA-N</td>\n",
       "      <td>SXRSYJAHJIIXFM-UHFFFAOYSA-N</td>\n",
       "      <td>UNOXOWXWZXWVFR-WMZJFQQLSA-N</td>\n",
       "      <td>BZXFPIODHNEVBA-VHSXEESVSA-N</td>\n",
       "      <td>NDROOZZFHGBQAJ-UHFFFAOYSA-N</td>\n",
       "      <td>-2.325116</td>\n",
       "    </tr>\n",
       "    <tr>\n",
       "      <th>3</th>\n",
       "      <td>3</td>\n",
       "      <td>AABBVYXCVOYVDW-UHFFFAOYSA-N</td>\n",
       "      <td>[{'InChIKey': 'ZQUFQULVODWNAL-UHFFFAOYSA-N'}, ...</td>\n",
       "      <td>2.2176</td>\n",
       "      <td>0.132006</td>\n",
       "      <td>5.8241</td>\n",
       "      <td>-200.622918</td>\n",
       "      <td>2.758</td>\n",
       "      <td>5.4769</td>\n",
       "      <td>ZQUFQULVODWNAL-UHFFFAOYSA-N</td>\n",
       "      <td>KEPNBEPTGHROGD-UHFFFAOYSA-N</td>\n",
       "      <td>APDAUBNBDJUQGW-UHFFFAOYSA-N</td>\n",
       "      <td>VEGYYSITGMCNND-UHFFFAOYSA-N</td>\n",
       "      <td>ZHXUWDPHUQHFOV-UHFFFAOYSA-N</td>\n",
       "      <td>MNIZKSJELYBCRS-UHFFFAOYSA-N</td>\n",
       "      <td>0.172435</td>\n",
       "    </tr>\n",
       "    <tr>\n",
       "      <th>4</th>\n",
       "      <td>4</td>\n",
       "      <td>AABGSZOIKXWDFV-ZOZSLMIISA-N</td>\n",
       "      <td>[{'InChIKey': 'YHOAKOTYECSOIZ-UHFFFAOYSA-N'}, ...</td>\n",
       "      <td>3.4602</td>\n",
       "      <td>0.105403</td>\n",
       "      <td>6.5770</td>\n",
       "      <td>-248.482482</td>\n",
       "      <td>2.926</td>\n",
       "      <td>1.5505</td>\n",
       "      <td>YHOAKOTYECSOIZ-UHFFFAOYSA-N</td>\n",
       "      <td>UVCFYBOLMFIWGF-FPYGCLRLSA-N</td>\n",
       "      <td>HFUBKQHDPJZQIW-UHFFFAOYSA-N</td>\n",
       "      <td>LPRVANXWMPVCRC-BAQGIRSFSA-N</td>\n",
       "      <td>YYTSOZXMJUHWJS-UHFFFAOYSA-N</td>\n",
       "      <td>MNIZKSJELYBCRS-UHFFFAOYSA-N</td>\n",
       "      <td>-0.960528</td>\n",
       "    </tr>\n",
       "    <tr>\n",
       "      <th>...</th>\n",
       "      <td>...</td>\n",
       "      <td>...</td>\n",
       "      <td>...</td>\n",
       "      <td>...</td>\n",
       "      <td>...</td>\n",
       "      <td>...</td>\n",
       "      <td>...</td>\n",
       "      <td>...</td>\n",
       "      <td>...</td>\n",
       "      <td>...</td>\n",
       "      <td>...</td>\n",
       "      <td>...</td>\n",
       "      <td>...</td>\n",
       "      <td>...</td>\n",
       "      <td>...</td>\n",
       "      <td>...</td>\n",
       "    </tr>\n",
       "    <tr>\n",
       "      <th>74503</th>\n",
       "      <td>74503</td>\n",
       "      <td>ZZYSUNFOVLRAFN-UHFFFAOYSA-N</td>\n",
       "      <td>[{'InChIKey': 'WBRIMLGNHKTADJ-UHFFFAOYSA-N'}, ...</td>\n",
       "      <td>2.0255</td>\n",
       "      <td>0.016826</td>\n",
       "      <td>6.0319</td>\n",
       "      <td>-188.068064</td>\n",
       "      <td>3.389</td>\n",
       "      <td>2.7829</td>\n",
       "      <td>WBRIMLGNHKTADJ-UHFFFAOYSA-N</td>\n",
       "      <td>WVGHJMFKJADIAM-UHFFFAOYSA-N</td>\n",
       "      <td>HZYBLPHGWLNIQV-UHFFFAOYSA-N</td>\n",
       "      <td>WBRIMLGNHKTADJ-UHFFFAOYSA-N</td>\n",
       "      <td>WVGHJMFKJADIAM-UHFFFAOYSA-N</td>\n",
       "      <td>DOXWISNBDAHQBD-UHFFFAOYSA-N</td>\n",
       "      <td>-0.476402</td>\n",
       "    </tr>\n",
       "    <tr>\n",
       "      <th>74504</th>\n",
       "      <td>74504</td>\n",
       "      <td>ZZZACLCMBMACSP-UHFFFAOYSA-N</td>\n",
       "      <td>[{'InChIKey': 'WVGHJMFKJADIAM-UHFFFAOYSA-N'}, ...</td>\n",
       "      <td>2.6251</td>\n",
       "      <td>0.048152</td>\n",
       "      <td>6.2825</td>\n",
       "      <td>-194.795068</td>\n",
       "      <td>2.742</td>\n",
       "      <td>0.7143</td>\n",
       "      <td>WVGHJMFKJADIAM-UHFFFAOYSA-N</td>\n",
       "      <td>GKKUHQQNQBVLSW-UHFFFAOYSA-N</td>\n",
       "      <td>WVGHJMFKJADIAM-UHFFFAOYSA-N</td>\n",
       "      <td>WVGHJMFKJADIAM-UHFFFAOYSA-N</td>\n",
       "      <td>HZYBLPHGWLNIQV-UHFFFAOYSA-N</td>\n",
       "      <td>DOXWISNBDAHQBD-UHFFFAOYSA-N</td>\n",
       "      <td>-1.186619</td>\n",
       "    </tr>\n",
       "    <tr>\n",
       "      <th>74505</th>\n",
       "      <td>74505</td>\n",
       "      <td>ZZZITEJEPMDYEK-UHFFFAOYSA-N</td>\n",
       "      <td>[{'InChIKey': 'AFVRECUINNLWPU-UHFFFAOYSA-N'}, ...</td>\n",
       "      <td>2.6539</td>\n",
       "      <td>0.005467</td>\n",
       "      <td>5.9820</td>\n",
       "      <td>-253.211741</td>\n",
       "      <td>3.539</td>\n",
       "      <td>0.2647</td>\n",
       "      <td>AFVRECUINNLWPU-UHFFFAOYSA-N</td>\n",
       "      <td>ZQUFQULVODWNAL-UHFFFAOYSA-N</td>\n",
       "      <td>SOESJFVMGGQDFQ-UHFFFAOYSA-N</td>\n",
       "      <td>SOESJFVMGGQDFQ-UHFFFAOYSA-N</td>\n",
       "      <td>ZQUFQULVODWNAL-UHFFFAOYSA-N</td>\n",
       "      <td>AFVRECUINNLWPU-UHFFFAOYSA-N</td>\n",
       "      <td>-1.598246</td>\n",
       "    </tr>\n",
       "    <tr>\n",
       "      <th>74506</th>\n",
       "      <td>74506</td>\n",
       "      <td>ZZZMJQCVJSAPPT-UHFFFAOYSA-N</td>\n",
       "      <td>[{'InChIKey': 'WBRIMLGNHKTADJ-UHFFFAOYSA-N'}, ...</td>\n",
       "      <td>2.2173</td>\n",
       "      <td>0.033492</td>\n",
       "      <td>5.7670</td>\n",
       "      <td>-211.437641</td>\n",
       "      <td>2.769</td>\n",
       "      <td>4.3747</td>\n",
       "      <td>WBRIMLGNHKTADJ-UHFFFAOYSA-N</td>\n",
       "      <td>SOESJFVMGGQDFQ-UHFFFAOYSA-N</td>\n",
       "      <td>SXRSYJAHJIIXFM-UHFFFAOYSA-N</td>\n",
       "      <td>SIGAQDSGJJFBIC-UHFFFAOYSA-N</td>\n",
       "      <td>KEPNBEPTGHROGD-UHFFFAOYSA-N</td>\n",
       "      <td>VEGYYSITGMCNND-UHFFFAOYSA-N</td>\n",
       "      <td>0.142948</td>\n",
       "    </tr>\n",
       "    <tr>\n",
       "      <th>74507</th>\n",
       "      <td>74507</td>\n",
       "      <td>ZZZZYFZBCWBIAR-NVHFXTRSSA-N</td>\n",
       "      <td>[{'InChIKey': 'AMGZARGPNNDZNG-UHFFFAOYSA-N'}, ...</td>\n",
       "      <td>3.5675</td>\n",
       "      <td>0.062951</td>\n",
       "      <td>6.8993</td>\n",
       "      <td>-261.744068</td>\n",
       "      <td>2.861</td>\n",
       "      <td>0.2859</td>\n",
       "      <td>AMGZARGPNNDZNG-UHFFFAOYSA-N</td>\n",
       "      <td>UVCFYBOLMFIWGF-FPYGCLRLSA-N</td>\n",
       "      <td>DDYWJTLRPAXDID-UHFFFAOYSA-N</td>\n",
       "      <td>NYQIXSSVRVKCHW-OQFOIZHKSA-N</td>\n",
       "      <td>ZYFAZQDJDGUYES-UHFFFAOYSA-N</td>\n",
       "      <td>SOESJFVMGGQDFQ-UHFFFAOYSA-N</td>\n",
       "      <td>-2.082086</td>\n",
       "    </tr>\n",
       "  </tbody>\n",
       "</table>\n",
       "<p>74508 rows × 16 columns</p>\n",
       "</div>"
      ],
      "text/plain": [
       "       Unnamed: 0                     InChIKey  \\\n",
       "0               0  AAAIKLIUXQWZQC-SBRRWJCQSA-N   \n",
       "1               1  AAALPPGKJQYWNO-NOPDUFPGSA-N   \n",
       "2               2  AAAVCXUUFSMNCC-UBCNBMAWSA-N   \n",
       "3               3  AABBVYXCVOYVDW-UHFFFAOYSA-N   \n",
       "4               4  AABGSZOIKXWDFV-ZOZSLMIISA-N   \n",
       "...           ...                          ...   \n",
       "74503       74503  ZZYSUNFOVLRAFN-UHFFFAOYSA-N   \n",
       "74504       74504  ZZZACLCMBMACSP-UHFFFAOYSA-N   \n",
       "74505       74505  ZZZITEJEPMDYEK-UHFFFAOYSA-N   \n",
       "74506       74506  ZZZMJQCVJSAPPT-UHFFFAOYSA-N   \n",
       "74507       74507  ZZZZYFZBCWBIAR-NVHFXTRSSA-N   \n",
       "\n",
       "                                                      BB  \\\n",
       "0      [{'InChIKey': 'SWJPEBQEEAHIGZ-UHFFFAOYSA-N'}, ...   \n",
       "1      [{'InChIKey': 'AZYPAMWLUNRZKI-UHFFFAOYSA-N'}, ...   \n",
       "2      [{'InChIKey': 'KYORXLIHDAZXPK-UHFFFAOYSA-N'}, ...   \n",
       "3      [{'InChIKey': 'ZQUFQULVODWNAL-UHFFFAOYSA-N'}, ...   \n",
       "4      [{'InChIKey': 'YHOAKOTYECSOIZ-UHFFFAOYSA-N'}, ...   \n",
       "...                                                  ...   \n",
       "74503  [{'InChIKey': 'WBRIMLGNHKTADJ-UHFFFAOYSA-N'}, ...   \n",
       "74504  [{'InChIKey': 'WVGHJMFKJADIAM-UHFFFAOYSA-N'}, ...   \n",
       "74505  [{'InChIKey': 'AFVRECUINNLWPU-UHFFFAOYSA-N'}, ...   \n",
       "74506  [{'InChIKey': 'WBRIMLGNHKTADJ-UHFFFAOYSA-N'}, ...   \n",
       "74507  [{'InChIKey': 'AMGZARGPNNDZNG-UHFFFAOYSA-N'}, ...   \n",
       "\n",
       "       electron affinity (eV)  homo lumo_gap (eV)  ionisation potential (eV)  \\\n",
       "0                      3.7458            0.020987                     7.3767   \n",
       "1                      3.2475            0.014649                     6.5768   \n",
       "2                      3.6878            0.054748                     6.5672   \n",
       "3                      2.2176            0.132006                     5.8241   \n",
       "4                      3.4602            0.105403                     6.5770   \n",
       "...                       ...                 ...                        ...   \n",
       "74503                  2.0255            0.016826                     6.0319   \n",
       "74504                  2.6251            0.048152                     6.2825   \n",
       "74505                  2.6539            0.005467                     5.9820   \n",
       "74506                  2.2173            0.033492                     5.7670   \n",
       "74507                  3.5675            0.062951                     6.8993   \n",
       "\n",
       "       total energy (au)    ES1   fosc1                   InChIKey_0  \\\n",
       "0            -251.681432  3.311  0.1454  SWJPEBQEEAHIGZ-UHFFFAOYSA-N   \n",
       "1            -219.209051  2.674  0.1693  AZYPAMWLUNRZKI-UHFFFAOYSA-N   \n",
       "2            -238.356300  2.554  0.1542  KYORXLIHDAZXPK-UHFFFAOYSA-N   \n",
       "3            -200.622918  2.758  5.4769  ZQUFQULVODWNAL-UHFFFAOYSA-N   \n",
       "4            -248.482482  2.926  1.5505  YHOAKOTYECSOIZ-UHFFFAOYSA-N   \n",
       "...                  ...    ...     ...                          ...   \n",
       "74503        -188.068064  3.389  2.7829  WBRIMLGNHKTADJ-UHFFFAOYSA-N   \n",
       "74504        -194.795068  2.742  0.7143  WVGHJMFKJADIAM-UHFFFAOYSA-N   \n",
       "74505        -253.211741  3.539  0.2647  AFVRECUINNLWPU-UHFFFAOYSA-N   \n",
       "74506        -211.437641  2.769  4.3747  WBRIMLGNHKTADJ-UHFFFAOYSA-N   \n",
       "74507        -261.744068  2.861  0.2859  AMGZARGPNNDZNG-UHFFFAOYSA-N   \n",
       "\n",
       "                        InChIKey_1                   InChIKey_2  \\\n",
       "0      WLJMWJRNANCLLB-UQCOIBPSSA-N  QKOAHMWMROSOCB-UHFFFAOYSA-N   \n",
       "1      BMAXCOSCNAUKQK-WCIBSUBMSA-N  AVQCSVOAVAVAMJ-UHFFFAOYSA-N   \n",
       "2      VHGPRJAKJSOPER-CLTKARDFSA-N  SXRSYJAHJIIXFM-UHFFFAOYSA-N   \n",
       "3      KEPNBEPTGHROGD-UHFFFAOYSA-N  APDAUBNBDJUQGW-UHFFFAOYSA-N   \n",
       "4      UVCFYBOLMFIWGF-FPYGCLRLSA-N  HFUBKQHDPJZQIW-UHFFFAOYSA-N   \n",
       "...                            ...                          ...   \n",
       "74503  WVGHJMFKJADIAM-UHFFFAOYSA-N  HZYBLPHGWLNIQV-UHFFFAOYSA-N   \n",
       "74504  GKKUHQQNQBVLSW-UHFFFAOYSA-N  WVGHJMFKJADIAM-UHFFFAOYSA-N   \n",
       "74505  ZQUFQULVODWNAL-UHFFFAOYSA-N  SOESJFVMGGQDFQ-UHFFFAOYSA-N   \n",
       "74506  SOESJFVMGGQDFQ-UHFFFAOYSA-N  SXRSYJAHJIIXFM-UHFFFAOYSA-N   \n",
       "74507  UVCFYBOLMFIWGF-FPYGCLRLSA-N  DDYWJTLRPAXDID-UHFFFAOYSA-N   \n",
       "\n",
       "                        InChIKey_3                   InChIKey_4  \\\n",
       "0      NACLVJFIPGLGGF-UHFFFAOYSA-N  WLJMWJRNANCLLB-UQCOIBPSSA-N   \n",
       "1      WNSNPGHNIJOOPM-UHFFFAOYSA-N  YYTSOZXMJUHWJS-UHFFFAOYSA-N   \n",
       "2      UNOXOWXWZXWVFR-WMZJFQQLSA-N  BZXFPIODHNEVBA-VHSXEESVSA-N   \n",
       "3      VEGYYSITGMCNND-UHFFFAOYSA-N  ZHXUWDPHUQHFOV-UHFFFAOYSA-N   \n",
       "4      LPRVANXWMPVCRC-BAQGIRSFSA-N  YYTSOZXMJUHWJS-UHFFFAOYSA-N   \n",
       "...                            ...                          ...   \n",
       "74503  WBRIMLGNHKTADJ-UHFFFAOYSA-N  WVGHJMFKJADIAM-UHFFFAOYSA-N   \n",
       "74504  WVGHJMFKJADIAM-UHFFFAOYSA-N  HZYBLPHGWLNIQV-UHFFFAOYSA-N   \n",
       "74505  SOESJFVMGGQDFQ-UHFFFAOYSA-N  ZQUFQULVODWNAL-UHFFFAOYSA-N   \n",
       "74506  SIGAQDSGJJFBIC-UHFFFAOYSA-N  KEPNBEPTGHROGD-UHFFFAOYSA-N   \n",
       "74507  NYQIXSSVRVKCHW-OQFOIZHKSA-N  ZYFAZQDJDGUYES-UHFFFAOYSA-N   \n",
       "\n",
       "                        InChIKey_5    target  \n",
       "0      KESGZSFJWVCXKF-UHFFFAOYSA-N -3.025136  \n",
       "1      CGQMQIAGYJZKNI-UHFFFAOYSA-N -2.174143  \n",
       "2      NDROOZZFHGBQAJ-UHFFFAOYSA-N -2.325116  \n",
       "3      MNIZKSJELYBCRS-UHFFFAOYSA-N  0.172435  \n",
       "4      MNIZKSJELYBCRS-UHFFFAOYSA-N -0.960528  \n",
       "...                            ...       ...  \n",
       "74503  DOXWISNBDAHQBD-UHFFFAOYSA-N -0.476402  \n",
       "74504  DOXWISNBDAHQBD-UHFFFAOYSA-N -1.186619  \n",
       "74505  AFVRECUINNLWPU-UHFFFAOYSA-N -1.598246  \n",
       "74506  VEGYYSITGMCNND-UHFFFAOYSA-N  0.142948  \n",
       "74507  SOESJFVMGGQDFQ-UHFFFAOYSA-N -2.082086  \n",
       "\n",
       "[74508 rows x 16 columns]"
      ]
     },
     "execution_count": 13,
     "metadata": {},
     "output_type": "execute_result"
    }
   ],
   "source": [
    "# load the database to learn from\n",
    "df_total_path_new = 'data/Full_dataset/New_target07072024.csv'\n",
    "#df_total_path_new = 'data/output/Full_dataset/30K_benchmark_150524.csv'\n",
    "df_total = pd.read_csv(df_total_path_new,low_memory=False)\n",
    "print(df_total.shape[0])\n",
    "df_total"
   ]
  },
  {
   "cell_type": "code",
   "execution_count": null,
   "metadata": {},
   "outputs": [],
   "source": []
  },
  {
   "cell_type": "code",
   "execution_count": 14,
   "metadata": {},
   "outputs": [
    {
     "name": "stdout",
     "output_type": "stream",
     "text": [
      "config loaded from data/representation_learning//6-frag/target/240726//SchNet/splitrand-nummol5000/\n",
      "config loaded from data/representation_learning//6-frag/target/240726//SchNet/splitrand-nummol5000/\n",
      "config loaded from data/representation_learning//6-frag/target/240726//SchNet/splitrand-nummol5000/\n",
      "config loaded from data/representation_learning//6-frag/target/240726//SchNet/splitrand-nummol5000/\n",
      "config loaded from data/representation_learning//6-frag/target/240726//SchNet/splitrand-nummol10000/\n",
      "config loaded from data/representation_learning//6-frag/target/240726//SchNet/splitrand-nummol10000/\n",
      "config loaded from data/representation_learning//6-frag/target/240726//SchNet/splitrand-nummol10000/\n",
      "config loaded from data/representation_learning//6-frag/target/240726//SchNet/splitrand-nummol10000/\n",
      "config loaded from data/representation_learning//6-frag/target/240726//SchNet/splitrand-nummol20000/\n",
      "config loaded from data/representation_learning//6-frag/target/240726//SchNet/splitrand-nummol20000/\n",
      "config loaded from data/representation_learning//6-frag/target/240726//SchNet/splitrand-nummol20000/\n",
      "config loaded from data/representation_learning//6-frag/target/240726//SchNet/splitrand-nummol20000/\n"
     ]
    }
   ],
   "source": [
    "\n",
    "importlib.reload(update_datasets)\n",
    "importlib.reload(config_utils)\n",
    "config_dir_list = []\n",
    "df_total_path = df_total_path_new\n",
    "pymongo_client = \"mongodb://localhost:27017/\"\n",
    "for num_molecules in [5000,10000,20000]:\n",
    "    config = config_utils.generate_config(\n",
    "        num_molecules=num_molecules, df_path=df_total_path, max_epochs=200,\n",
    "        target_name = 'target', \n",
    "        running_dir = f\"data/representation_learning/\",\n",
    "    )\n",
    "    config['pymongo_client'] = pymongo_client\n",
    "    config['precursor_database_name'] = 'stk_mohammed_constructed'\n",
    "    config['database_name'] = 'stk_mohammed_constructed'\n",
    "    config['df_precursor'] = \"data/input/Prescursor_data/df_properties_24072024.pkl\"\n",
    "    config[\"ephemeral_path\"] = \"data/representation_learning/ephemeral/Random_split/\"\n",
    "    config['max_epochs'] = 10\n",
    "    config_dir= config[\"running_dir\"]\n",
    "    save_config(config,config_dir)\n",
    "    if config[\"split_type\"] == \"rand\":\n",
    "        df_train, df_val, df_test = do_random_split(config,hide_best_molecules=True)\n",
    "    \n",
    "    config_dir_list.append(config_dir)"
   ]
  },
  {
   "cell_type": "code",
   "execution_count": 6,
   "metadata": {},
   "outputs": [
    {
     "name": "stdout",
     "output_type": "stream",
     "text": [
      "config loaded from data/representation_learning/configs/Random_split_5000_molecules//6-frag/target/240724//SchNet/splitrand-nummol5000/\n"
     ]
    },
    {
     "name": "stderr",
     "output_type": "stream",
     "text": [
      "Failed to detect the name of this notebook, you can set it manually with the WANDB_NOTEBOOK_NAME environment variable to enable code saving.\n"
     ]
    },
    {
     "name": "stdout",
     "output_type": "stream",
     "text": [
      "Model loaded:  SchNet\n"
     ]
    },
    {
     "name": "stderr",
     "output_type": "stream",
     "text": [
      "\u001b[34m\u001b[1mwandb\u001b[0m: Currently logged in as: \u001b[33mmohammed-azzouzi15\u001b[0m (\u001b[33mazzouzi_lab\u001b[0m). Use \u001b[1m`wandb login --relogin`\u001b[0m to force relogin\n"
     ]
    },
    {
     "data": {
      "text/html": [
       "Tracking run with wandb version 0.17.5"
      ],
      "text/plain": [
       "<IPython.core.display.HTML object>"
      ]
     },
     "metadata": {},
     "output_type": "display_data"
    },
    {
     "data": {
      "text/html": [
       "Run data is saved locally in <code>./wandb/run-20240726_145950-r41a8ety</code>"
      ],
      "text/plain": [
       "<IPython.core.display.HTML object>"
      ]
     },
     "metadata": {},
     "output_type": "display_data"
    },
    {
     "data": {
      "text/html": [
       "Syncing run <strong><a href='https://wandb.ai/azzouzi_lab/6-frag_target_240724/runs/r41a8ety' target=\"_blank\">SchNet_splitrand-nummol5000</a></strong> to <a href='https://wandb.ai/azzouzi_lab/6-frag_target_240724' target=\"_blank\">Weights & Biases</a> (<a href='https://wandb.me/run' target=\"_blank\">docs</a>)<br/>"
      ],
      "text/plain": [
       "<IPython.core.display.HTML object>"
      ]
     },
     "metadata": {},
     "output_type": "display_data"
    },
    {
     "data": {
      "text/html": [
       " View project at <a href='https://wandb.ai/azzouzi_lab/6-frag_target_240724' target=\"_blank\">https://wandb.ai/azzouzi_lab/6-frag_target_240724</a>"
      ],
      "text/plain": [
       "<IPython.core.display.HTML object>"
      ]
     },
     "metadata": {},
     "output_type": "display_data"
    },
    {
     "data": {
      "text/html": [
       " View run at <a href='https://wandb.ai/azzouzi_lab/6-frag_target_240724/runs/r41a8ety' target=\"_blank\">https://wandb.ai/azzouzi_lab/6-frag_target_240724/runs/r41a8ety</a>"
      ],
      "text/plain": [
       "<IPython.core.display.HTML object>"
      ]
     },
     "metadata": {},
     "output_type": "display_data"
    },
    {
     "name": "stderr",
     "output_type": "stream",
     "text": [
      "GPU available: True (cuda), used: True\n",
      "TPU available: False, using: 0 TPU cores\n",
      "HPU available: False, using: 0 HPUs\n",
      "`Trainer(val_check_interval=1.0)` was configured so validation will run at the end of the training epoch..\n",
      "You are using a CUDA device ('NVIDIA GeForce RTX 4090') that has Tensor Cores. To properly utilize them, you should set `torch.set_float32_matmul_precision('medium' | 'high')` which will trade-off precision for performance. For more details, read https://pytorch.org/docs/stable/generated/torch.set_float32_matmul_precision.html#torch.set_float32_matmul_precision\n",
      "/home/mohammed/anaconda3/envs/stk_search/lib/python3.10/site-packages/lightning/pytorch/callbacks/model_checkpoint.py:652: Checkpoint directory /home/mohammed/Work/STK_search/data/representation_learning/configs/Random_split_5000_molecules/6-frag/target/240724/SchNet/splitrand-nummol5000/data/representation_learning/configs/Random_split_5000_molecules/6-frag/target/240724/SchNet/splitrand-nummol5000 exists and is not empty.\n",
      "LOCAL_RANK: 0 - CUDA_VISIBLE_DEVICES: [0]\n",
      "\n",
      "  | Name              | Type   | Params | Mode \n",
      "-----------------------------------------------------\n",
      "0 | molecule_3D_repr  | SchNet | 628 K  | train\n",
      "1 | graph_pred_linear | Linear | 129    | train\n",
      "2 | transform_to_opt  | Linear | 16.5 K | train\n",
      "-----------------------------------------------------\n",
      "645 K     Trainable params\n",
      "0         Non-trainable params\n",
      "645 K     Total params\n",
      "2.582     Total estimated model params size (MB)\n"
     ]
    },
    {
     "name": "stdout",
     "output_type": "stream",
     "text": [
      "Apply lr scheduler CosineAnnealingLR\n"
     ]
    },
    {
     "data": {
      "application/vnd.jupyter.widget-view+json": {
       "model_id": "4d09bd6e414445b7aca813a4168f9e04",
       "version_major": 2,
       "version_minor": 0
      },
      "text/plain": [
       "Sanity Checking: |          | 0/? [00:00<?, ?it/s]"
      ]
     },
     "metadata": {},
     "output_type": "display_data"
    },
    {
     "name": "stderr",
     "output_type": "stream",
     "text": [
      "/home/mohammed/anaconda3/envs/stk_search/lib/python3.10/site-packages/lightning/pytorch/trainer/connectors/data_connector.py:475: Your `val_dataloader`'s sampler has shuffling enabled, it is strongly recommended that you turn shuffling off for val/test dataloaders.\n",
      "/home/mohammed/anaconda3/envs/stk_search/lib/python3.10/site-packages/lightning/pytorch/trainer/connectors/data_connector.py:424: The 'val_dataloader' does not have many workers which may be a bottleneck. Consider increasing the value of the `num_workers` argument` to `num_workers=31` in the `DataLoader` to improve performance.\n",
      "/home/mohammed/anaconda3/envs/stk_search/lib/python3.10/site-packages/lightning/pytorch/trainer/connectors/data_connector.py:424: The 'train_dataloader' does not have many workers which may be a bottleneck. Consider increasing the value of the `num_workers` argument` to `num_workers=31` in the `DataLoader` to improve performance.\n"
     ]
    },
    {
     "data": {
      "application/vnd.jupyter.widget-view+json": {
       "model_id": "20022139d5d747669baa538cf581de39",
       "version_major": 2,
       "version_minor": 0
      },
      "text/plain": [
       "Training: |          | 0/? [00:00<?, ?it/s]"
      ]
     },
     "metadata": {},
     "output_type": "display_data"
    },
    {
     "data": {
      "application/vnd.jupyter.widget-view+json": {
       "model_id": "1ecd43a9f1c945ada6b1259119a3cc90",
       "version_major": 2,
       "version_minor": 0
      },
      "text/plain": [
       "Validation: |          | 0/? [00:00<?, ?it/s]"
      ]
     },
     "metadata": {},
     "output_type": "display_data"
    },
    {
     "data": {
      "application/vnd.jupyter.widget-view+json": {
       "model_id": "3070e1ac8aac4d94b97ce4c4497bd72f",
       "version_major": 2,
       "version_minor": 0
      },
      "text/plain": [
       "Validation: |          | 0/? [00:00<?, ?it/s]"
      ]
     },
     "metadata": {},
     "output_type": "display_data"
    },
    {
     "data": {
      "application/vnd.jupyter.widget-view+json": {
       "model_id": "8a206d54563843eabd73559d882071cd",
       "version_major": 2,
       "version_minor": 0
      },
      "text/plain": [
       "Validation: |          | 0/? [00:00<?, ?it/s]"
      ]
     },
     "metadata": {},
     "output_type": "display_data"
    },
    {
     "data": {
      "application/vnd.jupyter.widget-view+json": {
       "model_id": "38318ec9609b4f149fe912c3a1a5213e",
       "version_major": 2,
       "version_minor": 0
      },
      "text/plain": [
       "Validation: |          | 0/? [00:00<?, ?it/s]"
      ]
     },
     "metadata": {},
     "output_type": "display_data"
    },
    {
     "data": {
      "application/vnd.jupyter.widget-view+json": {
       "model_id": "e79681b3c8ca430580a25e281e657339",
       "version_major": 2,
       "version_minor": 0
      },
      "text/plain": [
       "Validation: |          | 0/? [00:00<?, ?it/s]"
      ]
     },
     "metadata": {},
     "output_type": "display_data"
    },
    {
     "data": {
      "application/vnd.jupyter.widget-view+json": {
       "model_id": "d6f862d77e4545459977e023cebd4d4d",
       "version_major": 2,
       "version_minor": 0
      },
      "text/plain": [
       "Validation: |          | 0/? [00:00<?, ?it/s]"
      ]
     },
     "metadata": {},
     "output_type": "display_data"
    },
    {
     "data": {
      "application/vnd.jupyter.widget-view+json": {
       "model_id": "b0b64502389d4e17acbcdece22a0c4ba",
       "version_major": 2,
       "version_minor": 0
      },
      "text/plain": [
       "Validation: |          | 0/? [00:00<?, ?it/s]"
      ]
     },
     "metadata": {},
     "output_type": "display_data"
    },
    {
     "data": {
      "application/vnd.jupyter.widget-view+json": {
       "model_id": "90f8295aa79f48328a131e03fbd46ad5",
       "version_major": 2,
       "version_minor": 0
      },
      "text/plain": [
       "Validation: |          | 0/? [00:00<?, ?it/s]"
      ]
     },
     "metadata": {},
     "output_type": "display_data"
    },
    {
     "data": {
      "application/vnd.jupyter.widget-view+json": {
       "model_id": "d27e0402d58848c78376570736601e42",
       "version_major": 2,
       "version_minor": 0
      },
      "text/plain": [
       "Validation: |          | 0/? [00:00<?, ?it/s]"
      ]
     },
     "metadata": {},
     "output_type": "display_data"
    },
    {
     "data": {
      "application/vnd.jupyter.widget-view+json": {
       "model_id": "8d6a6febe11940e89af2ed207b628db6",
       "version_major": 2,
       "version_minor": 0
      },
      "text/plain": [
       "Validation: |          | 0/? [00:00<?, ?it/s]"
      ]
     },
     "metadata": {},
     "output_type": "display_data"
    },
    {
     "data": {
      "application/vnd.jupyter.widget-view+json": {
       "model_id": "b98e5187acb94a159d8a65e5d4a795ee",
       "version_major": 2,
       "version_minor": 0
      },
      "text/plain": [
       "Validation: |          | 0/? [00:00<?, ?it/s]"
      ]
     },
     "metadata": {},
     "output_type": "display_data"
    },
    {
     "data": {
      "application/vnd.jupyter.widget-view+json": {
       "model_id": "429c2636c9c848058a403dba3a40f181",
       "version_major": 2,
       "version_minor": 0
      },
      "text/plain": [
       "Validation: |          | 0/? [00:00<?, ?it/s]"
      ]
     },
     "metadata": {},
     "output_type": "display_data"
    },
    {
     "data": {
      "application/vnd.jupyter.widget-view+json": {
       "model_id": "852c478bf8494ef4b0473cb309c2e0c2",
       "version_major": 2,
       "version_minor": 0
      },
      "text/plain": [
       "Validation: |          | 0/? [00:00<?, ?it/s]"
      ]
     },
     "metadata": {},
     "output_type": "display_data"
    },
    {
     "data": {
      "application/vnd.jupyter.widget-view+json": {
       "model_id": "21215aa0f6b44ea0aaee64d14f8802e5",
       "version_major": 2,
       "version_minor": 0
      },
      "text/plain": [
       "Validation: |          | 0/? [00:00<?, ?it/s]"
      ]
     },
     "metadata": {},
     "output_type": "display_data"
    },
    {
     "data": {
      "application/vnd.jupyter.widget-view+json": {
       "model_id": "0e78408f53a041b2acf0d97ea9c088cc",
       "version_major": 2,
       "version_minor": 0
      },
      "text/plain": [
       "Validation: |          | 0/? [00:00<?, ?it/s]"
      ]
     },
     "metadata": {},
     "output_type": "display_data"
    },
    {
     "data": {
      "application/vnd.jupyter.widget-view+json": {
       "model_id": "f86c4b201bbd479b8b2525c08f96e6cc",
       "version_major": 2,
       "version_minor": 0
      },
      "text/plain": [
       "Validation: |          | 0/? [00:00<?, ?it/s]"
      ]
     },
     "metadata": {},
     "output_type": "display_data"
    },
    {
     "data": {
      "application/vnd.jupyter.widget-view+json": {
       "model_id": "e9be20e3cc8447d1b3ac79d6012ec9e8",
       "version_major": 2,
       "version_minor": 0
      },
      "text/plain": [
       "Validation: |          | 0/? [00:00<?, ?it/s]"
      ]
     },
     "metadata": {},
     "output_type": "display_data"
    },
    {
     "data": {
      "application/vnd.jupyter.widget-view+json": {
       "model_id": "734df4d0e3534d9093e836c8d29aee71",
       "version_major": 2,
       "version_minor": 0
      },
      "text/plain": [
       "Validation: |          | 0/? [00:00<?, ?it/s]"
      ]
     },
     "metadata": {},
     "output_type": "display_data"
    },
    {
     "data": {
      "application/vnd.jupyter.widget-view+json": {
       "model_id": "9ed105ad0245458e8095ae5a1af48d00",
       "version_major": 2,
       "version_minor": 0
      },
      "text/plain": [
       "Validation: |          | 0/? [00:00<?, ?it/s]"
      ]
     },
     "metadata": {},
     "output_type": "display_data"
    },
    {
     "data": {
      "application/vnd.jupyter.widget-view+json": {
       "model_id": "7e39cf99d8354810bce6753f01ae37a9",
       "version_major": 2,
       "version_minor": 0
      },
      "text/plain": [
       "Validation: |          | 0/? [00:00<?, ?it/s]"
      ]
     },
     "metadata": {},
     "output_type": "display_data"
    },
    {
     "data": {
      "application/vnd.jupyter.widget-view+json": {
       "model_id": "2655274ec19249f2a03ef6ded471428f",
       "version_major": 2,
       "version_minor": 0
      },
      "text/plain": [
       "Validation: |          | 0/? [00:00<?, ?it/s]"
      ]
     },
     "metadata": {},
     "output_type": "display_data"
    },
    {
     "data": {
      "application/vnd.jupyter.widget-view+json": {
       "model_id": "68b1b145722c4ffeaa723f59475d98b6",
       "version_major": 2,
       "version_minor": 0
      },
      "text/plain": [
       "Validation: |          | 0/? [00:00<?, ?it/s]"
      ]
     },
     "metadata": {},
     "output_type": "display_data"
    },
    {
     "data": {
      "application/vnd.jupyter.widget-view+json": {
       "model_id": "010dc556db984e80904f9395134dac31",
       "version_major": 2,
       "version_minor": 0
      },
      "text/plain": [
       "Validation: |          | 0/? [00:00<?, ?it/s]"
      ]
     },
     "metadata": {},
     "output_type": "display_data"
    },
    {
     "data": {
      "application/vnd.jupyter.widget-view+json": {
       "model_id": "3f4906a85df24c0da8e8aa7a341eb700",
       "version_major": 2,
       "version_minor": 0
      },
      "text/plain": [
       "Validation: |          | 0/? [00:00<?, ?it/s]"
      ]
     },
     "metadata": {},
     "output_type": "display_data"
    },
    {
     "data": {
      "application/vnd.jupyter.widget-view+json": {
       "model_id": "6323f764229d45a99c8f17ec6b5ad63d",
       "version_major": 2,
       "version_minor": 0
      },
      "text/plain": [
       "Validation: |          | 0/? [00:00<?, ?it/s]"
      ]
     },
     "metadata": {},
     "output_type": "display_data"
    },
    {
     "data": {
      "application/vnd.jupyter.widget-view+json": {
       "model_id": "f0b7173c386a4bba943524094aadd83d",
       "version_major": 2,
       "version_minor": 0
      },
      "text/plain": [
       "Validation: |          | 0/? [00:00<?, ?it/s]"
      ]
     },
     "metadata": {},
     "output_type": "display_data"
    },
    {
     "data": {
      "application/vnd.jupyter.widget-view+json": {
       "model_id": "31b89b10da664586a63ecc3dc19fd3f0",
       "version_major": 2,
       "version_minor": 0
      },
      "text/plain": [
       "Validation: |          | 0/? [00:00<?, ?it/s]"
      ]
     },
     "metadata": {},
     "output_type": "display_data"
    },
    {
     "data": {
      "application/vnd.jupyter.widget-view+json": {
       "model_id": "5def357ec0b54bbdb3be055215afb418",
       "version_major": 2,
       "version_minor": 0
      },
      "text/plain": [
       "Validation: |          | 0/? [00:00<?, ?it/s]"
      ]
     },
     "metadata": {},
     "output_type": "display_data"
    },
    {
     "data": {
      "application/vnd.jupyter.widget-view+json": {
       "model_id": "c5d2dc0948ec408bbf363699d957a762",
       "version_major": 2,
       "version_minor": 0
      },
      "text/plain": [
       "Validation: |          | 0/? [00:00<?, ?it/s]"
      ]
     },
     "metadata": {},
     "output_type": "display_data"
    },
    {
     "data": {
      "application/vnd.jupyter.widget-view+json": {
       "model_id": "9597d0b294634b788ddcc1dc3e921bce",
       "version_major": 2,
       "version_minor": 0
      },
      "text/plain": [
       "Validation: |          | 0/? [00:00<?, ?it/s]"
      ]
     },
     "metadata": {},
     "output_type": "display_data"
    },
    {
     "data": {
      "application/vnd.jupyter.widget-view+json": {
       "model_id": "fb6eafd0c12a483fb05da0b99480e325",
       "version_major": 2,
       "version_minor": 0
      },
      "text/plain": [
       "Validation: |          | 0/? [00:00<?, ?it/s]"
      ]
     },
     "metadata": {},
     "output_type": "display_data"
    },
    {
     "data": {
      "application/vnd.jupyter.widget-view+json": {
       "model_id": "d93905ae51564193978509d2b7970641",
       "version_major": 2,
       "version_minor": 0
      },
      "text/plain": [
       "Validation: |          | 0/? [00:00<?, ?it/s]"
      ]
     },
     "metadata": {},
     "output_type": "display_data"
    },
    {
     "data": {
      "application/vnd.jupyter.widget-view+json": {
       "model_id": "b03d5d24bf944549bdefbe451273a545",
       "version_major": 2,
       "version_minor": 0
      },
      "text/plain": [
       "Validation: |          | 0/? [00:00<?, ?it/s]"
      ]
     },
     "metadata": {},
     "output_type": "display_data"
    },
    {
     "data": {
      "application/vnd.jupyter.widget-view+json": {
       "model_id": "e78caf08169b43d89596572e88859625",
       "version_major": 2,
       "version_minor": 0
      },
      "text/plain": [
       "Validation: |          | 0/? [00:00<?, ?it/s]"
      ]
     },
     "metadata": {},
     "output_type": "display_data"
    },
    {
     "data": {
      "application/vnd.jupyter.widget-view+json": {
       "model_id": "2ef19517ca234e1caa2ed20f2f20dfeb",
       "version_major": 2,
       "version_minor": 0
      },
      "text/plain": [
       "Validation: |          | 0/? [00:00<?, ?it/s]"
      ]
     },
     "metadata": {},
     "output_type": "display_data"
    },
    {
     "data": {
      "application/vnd.jupyter.widget-view+json": {
       "model_id": "c0687c52c6ad4e5abd262dec9b53403a",
       "version_major": 2,
       "version_minor": 0
      },
      "text/plain": [
       "Validation: |          | 0/? [00:00<?, ?it/s]"
      ]
     },
     "metadata": {},
     "output_type": "display_data"
    },
    {
     "data": {
      "application/vnd.jupyter.widget-view+json": {
       "model_id": "4fe6e1ea08cf47219629ad1782c2b264",
       "version_major": 2,
       "version_minor": 0
      },
      "text/plain": [
       "Validation: |          | 0/? [00:00<?, ?it/s]"
      ]
     },
     "metadata": {},
     "output_type": "display_data"
    },
    {
     "data": {
      "application/vnd.jupyter.widget-view+json": {
       "model_id": "440f7872748f41dc9ed5c5eec12bbb60",
       "version_major": 2,
       "version_minor": 0
      },
      "text/plain": [
       "Validation: |          | 0/? [00:00<?, ?it/s]"
      ]
     },
     "metadata": {},
     "output_type": "display_data"
    },
    {
     "data": {
      "application/vnd.jupyter.widget-view+json": {
       "model_id": "652831e897c442bf8b68ffa42dfb5989",
       "version_major": 2,
       "version_minor": 0
      },
      "text/plain": [
       "Validation: |          | 0/? [00:00<?, ?it/s]"
      ]
     },
     "metadata": {},
     "output_type": "display_data"
    },
    {
     "data": {
      "application/vnd.jupyter.widget-view+json": {
       "model_id": "997c343947a84cd0a1a0fb8502872306",
       "version_major": 2,
       "version_minor": 0
      },
      "text/plain": [
       "Validation: |          | 0/? [00:00<?, ?it/s]"
      ]
     },
     "metadata": {},
     "output_type": "display_data"
    },
    {
     "data": {
      "application/vnd.jupyter.widget-view+json": {
       "model_id": "79abf03d904a413e9fdebfa1b21f080c",
       "version_major": 2,
       "version_minor": 0
      },
      "text/plain": [
       "Validation: |          | 0/? [00:00<?, ?it/s]"
      ]
     },
     "metadata": {},
     "output_type": "display_data"
    },
    {
     "data": {
      "application/vnd.jupyter.widget-view+json": {
       "model_id": "29e47ea1bb65462bb26c28f10e2c0a6e",
       "version_major": 2,
       "version_minor": 0
      },
      "text/plain": [
       "Validation: |          | 0/? [00:00<?, ?it/s]"
      ]
     },
     "metadata": {},
     "output_type": "display_data"
    },
    {
     "data": {
      "application/vnd.jupyter.widget-view+json": {
       "model_id": "06d50fade50d4e30b6cba1b64688b31c",
       "version_major": 2,
       "version_minor": 0
      },
      "text/plain": [
       "Validation: |          | 0/? [00:00<?, ?it/s]"
      ]
     },
     "metadata": {},
     "output_type": "display_data"
    },
    {
     "data": {
      "application/vnd.jupyter.widget-view+json": {
       "model_id": "63299674932049d78f5dcecc7581f43f",
       "version_major": 2,
       "version_minor": 0
      },
      "text/plain": [
       "Validation: |          | 0/? [00:00<?, ?it/s]"
      ]
     },
     "metadata": {},
     "output_type": "display_data"
    },
    {
     "data": {
      "application/vnd.jupyter.widget-view+json": {
       "model_id": "9c0e4d51e6184ea2a34d04bacffa512e",
       "version_major": 2,
       "version_minor": 0
      },
      "text/plain": [
       "Validation: |          | 0/? [00:00<?, ?it/s]"
      ]
     },
     "metadata": {},
     "output_type": "display_data"
    },
    {
     "data": {
      "application/vnd.jupyter.widget-view+json": {
       "model_id": "b0c8efb818ef4732aa003b6f15d9f549",
       "version_major": 2,
       "version_minor": 0
      },
      "text/plain": [
       "Validation: |          | 0/? [00:00<?, ?it/s]"
      ]
     },
     "metadata": {},
     "output_type": "display_data"
    },
    {
     "data": {
      "application/vnd.jupyter.widget-view+json": {
       "model_id": "7eefef4a665d4d7b896731f5a9425487",
       "version_major": 2,
       "version_minor": 0
      },
      "text/plain": [
       "Validation: |          | 0/? [00:00<?, ?it/s]"
      ]
     },
     "metadata": {},
     "output_type": "display_data"
    },
    {
     "data": {
      "application/vnd.jupyter.widget-view+json": {
       "model_id": "09d53cb82d5e47ec9460b2a48c3cc4ff",
       "version_major": 2,
       "version_minor": 0
      },
      "text/plain": [
       "Validation: |          | 0/? [00:00<?, ?it/s]"
      ]
     },
     "metadata": {},
     "output_type": "display_data"
    },
    {
     "data": {
      "application/vnd.jupyter.widget-view+json": {
       "model_id": "a03c4f3f06e94872b97165eaeac10268",
       "version_major": 2,
       "version_minor": 0
      },
      "text/plain": [
       "Validation: |          | 0/? [00:00<?, ?it/s]"
      ]
     },
     "metadata": {},
     "output_type": "display_data"
    },
    {
     "data": {
      "application/vnd.jupyter.widget-view+json": {
       "model_id": "8c3e2ad2f19d497cb9b444395c265499",
       "version_major": 2,
       "version_minor": 0
      },
      "text/plain": [
       "Validation: |          | 0/? [00:00<?, ?it/s]"
      ]
     },
     "metadata": {},
     "output_type": "display_data"
    },
    {
     "data": {
      "application/vnd.jupyter.widget-view+json": {
       "model_id": "5e42e22d8d004f25bd958347e8deb03d",
       "version_major": 2,
       "version_minor": 0
      },
      "text/plain": [
       "Validation: |          | 0/? [00:00<?, ?it/s]"
      ]
     },
     "metadata": {},
     "output_type": "display_data"
    },
    {
     "data": {
      "application/vnd.jupyter.widget-view+json": {
       "model_id": "8a9fe86d32d54c11ab6cba55ca551757",
       "version_major": 2,
       "version_minor": 0
      },
      "text/plain": [
       "Validation: |          | 0/? [00:00<?, ?it/s]"
      ]
     },
     "metadata": {},
     "output_type": "display_data"
    },
    {
     "data": {
      "application/vnd.jupyter.widget-view+json": {
       "model_id": "689ced6ed4e04dd3ba6bc47dae13b466",
       "version_major": 2,
       "version_minor": 0
      },
      "text/plain": [
       "Validation: |          | 0/? [00:00<?, ?it/s]"
      ]
     },
     "metadata": {},
     "output_type": "display_data"
    },
    {
     "data": {
      "application/vnd.jupyter.widget-view+json": {
       "model_id": "5f80a4b176ac45658d08cc47cbe5fc09",
       "version_major": 2,
       "version_minor": 0
      },
      "text/plain": [
       "Validation: |          | 0/? [00:00<?, ?it/s]"
      ]
     },
     "metadata": {},
     "output_type": "display_data"
    },
    {
     "data": {
      "application/vnd.jupyter.widget-view+json": {
       "model_id": "0652a5c1aee947f69b577353a2a5e4c9",
       "version_major": 2,
       "version_minor": 0
      },
      "text/plain": [
       "Validation: |          | 0/? [00:00<?, ?it/s]"
      ]
     },
     "metadata": {},
     "output_type": "display_data"
    },
    {
     "data": {
      "application/vnd.jupyter.widget-view+json": {
       "model_id": "930c143da292411b8b1bd704df56ef86",
       "version_major": 2,
       "version_minor": 0
      },
      "text/plain": [
       "Validation: |          | 0/? [00:00<?, ?it/s]"
      ]
     },
     "metadata": {},
     "output_type": "display_data"
    },
    {
     "data": {
      "application/vnd.jupyter.widget-view+json": {
       "model_id": "981bacd0f7fe4d5a91f2b66fd6060ee9",
       "version_major": 2,
       "version_minor": 0
      },
      "text/plain": [
       "Validation: |          | 0/? [00:00<?, ?it/s]"
      ]
     },
     "metadata": {},
     "output_type": "display_data"
    },
    {
     "data": {
      "application/vnd.jupyter.widget-view+json": {
       "model_id": "ce7474860c23473293e633f5725a0f8e",
       "version_major": 2,
       "version_minor": 0
      },
      "text/plain": [
       "Validation: |          | 0/? [00:00<?, ?it/s]"
      ]
     },
     "metadata": {},
     "output_type": "display_data"
    },
    {
     "data": {
      "application/vnd.jupyter.widget-view+json": {
       "model_id": "6bc086562369430395bf7b4333eaefcf",
       "version_major": 2,
       "version_minor": 0
      },
      "text/plain": [
       "Validation: |          | 0/? [00:00<?, ?it/s]"
      ]
     },
     "metadata": {},
     "output_type": "display_data"
    },
    {
     "data": {
      "application/vnd.jupyter.widget-view+json": {
       "model_id": "94a0174230c041b28caf3c044f2d86b0",
       "version_major": 2,
       "version_minor": 0
      },
      "text/plain": [
       "Validation: |          | 0/? [00:00<?, ?it/s]"
      ]
     },
     "metadata": {},
     "output_type": "display_data"
    },
    {
     "data": {
      "application/vnd.jupyter.widget-view+json": {
       "model_id": "b5f24c56fd5f4c24b42eeda92b92001b",
       "version_major": 2,
       "version_minor": 0
      },
      "text/plain": [
       "Validation: |          | 0/? [00:00<?, ?it/s]"
      ]
     },
     "metadata": {},
     "output_type": "display_data"
    },
    {
     "data": {
      "application/vnd.jupyter.widget-view+json": {
       "model_id": "04b57b07209340cbab228ee62f905aa6",
       "version_major": 2,
       "version_minor": 0
      },
      "text/plain": [
       "Validation: |          | 0/? [00:00<?, ?it/s]"
      ]
     },
     "metadata": {},
     "output_type": "display_data"
    },
    {
     "data": {
      "application/vnd.jupyter.widget-view+json": {
       "model_id": "058c27e051954a40a728d163edc4a5b7",
       "version_major": 2,
       "version_minor": 0
      },
      "text/plain": [
       "Validation: |          | 0/? [00:00<?, ?it/s]"
      ]
     },
     "metadata": {},
     "output_type": "display_data"
    },
    {
     "data": {
      "application/vnd.jupyter.widget-view+json": {
       "model_id": "51611f37dfe144a6ac22f2c7688b6aed",
       "version_major": 2,
       "version_minor": 0
      },
      "text/plain": [
       "Validation: |          | 0/? [00:00<?, ?it/s]"
      ]
     },
     "metadata": {},
     "output_type": "display_data"
    },
    {
     "data": {
      "application/vnd.jupyter.widget-view+json": {
       "model_id": "cf202509f7bc40c98bd7bff36f69793c",
       "version_major": 2,
       "version_minor": 0
      },
      "text/plain": [
       "Validation: |          | 0/? [00:00<?, ?it/s]"
      ]
     },
     "metadata": {},
     "output_type": "display_data"
    },
    {
     "data": {
      "application/vnd.jupyter.widget-view+json": {
       "model_id": "feef459eddc742c78789b606d53d6464",
       "version_major": 2,
       "version_minor": 0
      },
      "text/plain": [
       "Validation: |          | 0/? [00:00<?, ?it/s]"
      ]
     },
     "metadata": {},
     "output_type": "display_data"
    },
    {
     "data": {
      "application/vnd.jupyter.widget-view+json": {
       "model_id": "2d0969d302054900b4c3659805d9a1cb",
       "version_major": 2,
       "version_minor": 0
      },
      "text/plain": [
       "Validation: |          | 0/? [00:00<?, ?it/s]"
      ]
     },
     "metadata": {},
     "output_type": "display_data"
    },
    {
     "data": {
      "application/vnd.jupyter.widget-view+json": {
       "model_id": "73dfdd73933c4325b3115fd612fda54b",
       "version_major": 2,
       "version_minor": 0
      },
      "text/plain": [
       "Validation: |          | 0/? [00:00<?, ?it/s]"
      ]
     },
     "metadata": {},
     "output_type": "display_data"
    },
    {
     "data": {
      "application/vnd.jupyter.widget-view+json": {
       "model_id": "9b93fe3ff48c4cb5876eab4740b21aa6",
       "version_major": 2,
       "version_minor": 0
      },
      "text/plain": [
       "Validation: |          | 0/? [00:00<?, ?it/s]"
      ]
     },
     "metadata": {},
     "output_type": "display_data"
    },
    {
     "data": {
      "application/vnd.jupyter.widget-view+json": {
       "model_id": "fa085100482b4473914f40a4be8b1a46",
       "version_major": 2,
       "version_minor": 0
      },
      "text/plain": [
       "VBox(children=(Label(value='7.501 MB of 7.501 MB uploaded\\r'), FloatProgress(value=1.0, max=1.0)))"
      ]
     },
     "metadata": {},
     "output_type": "display_data"
    },
    {
     "data": {
      "text/html": [
       "<style>\n",
       "    table.wandb td:nth-child(1) { padding: 0 10px; text-align: left ; width: auto;} td:nth-child(2) {text-align: left ; width: 100%}\n",
       "    .wandb-row { display: flex; flex-direction: row; flex-wrap: wrap; justify-content: flex-start; width: 100% }\n",
       "    .wandb-col { display: flex; flex-direction: column; flex-basis: 100%; flex: 1; padding: 10px; }\n",
       "    </style>\n",
       "<div class=\"wandb-row\"><div class=\"wandb-col\"><h3>Run history:</h3><br/><table class=\"wandb\"><tr><td>epoch</td><td>▁▁▁▂▂▂▂▂▂▃▃▃▃▃▄▄▄▄▄▄▅▅▅▅▅▆▆▆▆▆▆▇▇▇▇▇▇███</td></tr><tr><td>lr</td><td>███████████▇▇▇▇▇▇▇▆▆▆▆▆▅▅▅▅▄▄▄▄▃▃▃▃▂▂▂▁▁</td></tr><tr><td>train_loss</td><td>██▇▅▅▇▄▃▄▃▄▃▃▂▃▂▂▂▃▂▅▃▂▃▄▄▃▄▃▃▂▂▂▂▂▂▂▁▁▁</td></tr><tr><td>train_loss_repr</td><td>█▅▂▃▂▃▂▃▄▁▂▁▂▂▂▁▂▃▁▂▂▂▂▂▂▂▂▃▃▃▂▂▂▂▂▄▂▄▄▄</td></tr><tr><td>train_loss_target</td><td>██▇▅▅▇▄▃▄▃▄▃▃▂▃▂▂▂▃▂▅▃▂▃▄▄▃▄▃▃▂▂▂▂▂▂▂▁▁▁</td></tr><tr><td>trainer/global_step</td><td>▁▁▁▂▂▂▂▂▂▃▃▃▃▃▄▄▄▄▄▄▅▅▅▅▅▅▆▆▆▆▆▇▇▇▇▇▇███</td></tr><tr><td>val_loss</td><td>█▆▆▆▅▅▅▅▃▃▄▃▃▄▃▃▂▃▃▂▂▃▃▂▂▂▁▃▁▂▂▂▂▂▃▂▂▁▂▂</td></tr><tr><td>val_loss_repr</td><td>█▅▂▂▃▃▂▂▂▂▄▁▁▃▂▂▂▁▂▁▂▂▂▂▂▂▃▃▂▂▂▃▃▃▃▄▃▄▄▄</td></tr><tr><td>val_loss_target</td><td>█▆▆▆▅▅▅▅▃▃▄▃▃▄▄▃▂▃▃▂▂▃▃▂▂▂▁▃▁▂▂▂▂▂▃▂▂▁▁▂</td></tr></table><br/></div><div class=\"wandb-col\"><h3>Run summary:</h3><br/><table class=\"wandb\"><tr><td>epoch</td><td>68</td></tr><tr><td>lr</td><td>0.00037</td></tr><tr><td>train_loss</td><td>0.06986</td></tr><tr><td>train_loss_repr</td><td>0.00549</td></tr><tr><td>train_loss_target</td><td>0.13422</td></tr><tr><td>trainer/global_step</td><td>2414</td></tr><tr><td>val_loss</td><td>0.16208</td></tr><tr><td>val_loss_repr</td><td>0.0058</td></tr><tr><td>val_loss_target</td><td>0.31836</td></tr></table><br/></div></div>"
      ],
      "text/plain": [
       "<IPython.core.display.HTML object>"
      ]
     },
     "metadata": {},
     "output_type": "display_data"
    },
    {
     "data": {
      "text/html": [
       " View run <strong style=\"color:#cdcd00\">SchNet_splitrand-nummol5000</strong> at: <a href='https://wandb.ai/azzouzi_lab/6-frag_target_240724/runs/r41a8ety' target=\"_blank\">https://wandb.ai/azzouzi_lab/6-frag_target_240724/runs/r41a8ety</a><br/> View project at: <a href='https://wandb.ai/azzouzi_lab/6-frag_target_240724' target=\"_blank\">https://wandb.ai/azzouzi_lab/6-frag_target_240724</a><br/>Synced 6 W&B file(s), 0 media file(s), 1 artifact file(s) and 0 other file(s)"
      ],
      "text/plain": [
       "<IPython.core.display.HTML object>"
      ]
     },
     "metadata": {},
     "output_type": "display_data"
    },
    {
     "data": {
      "text/html": [
       "Find logs at: <code>./wandb/run-20240726_145950-r41a8ety/logs</code>"
      ],
      "text/plain": [
       "<IPython.core.display.HTML object>"
      ]
     },
     "metadata": {},
     "output_type": "display_data"
    },
    {
     "data": {
      "text/html": [
       "The new W&B backend becomes opt-out in version 0.18.0; try it out with `wandb.require(\"core\")`! See https://wandb.me/wandb-core for more information."
      ],
      "text/plain": [
       "<IPython.core.display.HTML object>"
      ]
     },
     "metadata": {},
     "output_type": "display_data"
    },
    {
     "name": "stdout",
     "output_type": "stream",
     "text": [
      "Total time taken for model training: 365.566148519516 seconds\n",
      "config loaded from data/representation_learning/configs/Random_split_5000_molecules//6-frag/target/240724//SchNet/splitrand-nummol5000/\n",
      "data/representation_learning/configs/Random_split_5000_molecules//6-frag/target/240724//SchNet/splitrand-nummol5000/epoch=29-val_loss=0.15-other_metric=0.00.ckpt\n",
      "data/representation_learning/configs/Random_split_5000_molecules//6-frag/target/240724//SchNet/splitrand-nummol5000/epoch=48-val_loss=0.14-other_metric=0.00.ckpt\n",
      "Model loaded:  SchNet\n",
      "Model loaded\n",
      "Model evaluation done\n",
      "MAE: 0.52, MSE: 0.46, R2: 0.58\n",
      "MAE: 0.51, MSE: 0.40, R2: 0.60\n",
      "MAE: 0.80, MSE: 0.76, R2: -173.28\n"
     ]
    }
   ],
   "source": [
    "#test script\n",
    "config_dir =  \"data/representation_learning/configs/Random_split_5000_molecules//6-frag/target/240724//SchNet/splitrand-nummol5000/\"\n",
    "%run src/dev_scripts/run_representation_learning_polymer.py --config_dir {config_dir}\n"
   ]
  },
  {
   "cell_type": "code",
   "execution_count": 19,
   "metadata": {},
   "outputs": [
    {
     "name": "stdout",
     "output_type": "stream",
     "text": [
      "9432175.pbs\n"
     ]
    }
   ],
   "source": [
    "\n",
    "# run model training including all data\n",
    "name = \"new_representation_different_embedding\"\n",
    "os.chdir('/rds/general/user/ma11115/home/STK_Search/STK_search')\n",
    "\n",
    "script=\"#!/bin/bash \\n\"+\\\n",
    "    \"#PBS -l walltime=23:59:01 \\n\"+\\\n",
    "    \"#PBS -l select=1:ncpus=4:mem=24gb:ngpus=1:gpu_type=RTX6000 \\n\"+\\\n",
    "    \" \\n\"+\\\n",
    "    \"module load anaconda3/personal \\n\"+ \\\n",
    "    \"source activate Geom3D     \\n\"\n",
    "for config_dir in config_dir_list:\n",
    "    script = script+\\\n",
    "        \"cd /rds/general/user/ma11115/home/STK_Search/STK_search/ \\n\"+\\\n",
    "        f\"python  src/dev_scripts/run_representation_learning_polymer.py --config_dir {config_dir}\\n\"\n",
    "#print(script) \n",
    "with open(f'HPC_bash_script/{name}.sh', 'wb') as f:\n",
    "    f.write( bytes(script, 'utf-8'))  \n",
    "sh_path = f'HPC_bash_script/{name}.sh'\n",
    "!qsub -e ./cache -o ./cache {sh_path}"
   ]
  },
  {
   "cell_type": "code",
   "execution_count": null,
   "metadata": {},
   "outputs": [],
   "source": []
  },
  {
   "cell_type": "markdown",
   "metadata": {},
   "source": [
    "## test representation\n"
   ]
  },
  {
   "cell_type": "markdown",
   "metadata": {},
   "source": []
  },
  {
   "cell_type": "code",
   "execution_count": 9,
   "metadata": {},
   "outputs": [],
   "source": [
    "from stk_search.geom3d import pl_model\n",
    "import torch.nn.functional as Functional\n",
    "from stk_search.geom3d import train_models\n",
    "from stk_search.Representation import  Representation_poly_3d\n",
    "\n",
    "import importlib\n",
    "importlib.reload(Representation_poly_3d)\n",
    "\n",
    "\n",
    "def load_representation_model(config_dir):\n",
    "    config = read_config(config_dir)\n",
    "    chkpt_path = config[\"model_embedding_chkpt\"]\n",
    "    checkpoint = torch.load(chkpt_path, map_location=config[\"device\"])\n",
    "    model, graph_pred_linear = pl_model.model_setup(config)\n",
    "    print(\"Model loaded: \", config[\"model_name\"])\n",
    "    # Pass the model and graph_pred_linear to the Pymodel constructor\n",
    "    pymodel = pl_model.Pymodel_new(model, graph_pred_linear, config)\n",
    "    # Load the state dictionary\n",
    "    pymodel.load_state_dict(state_dict=checkpoint[\"state_dict\"])\n",
    "    #pymodel.load_state_dict(state_dict=checkpoint[\"state_dict\"])\n",
    "    pymodel.to(config[\"device\"])\n",
    "    representation = Representation_poly_3d.Representation_poly_3d(pymodel,device='cpu',\n",
    "                                                                   mongo_client=config['pymongo_client'],\n",
    "                                                                   database=config['database_name'],)\n",
    "    return representation, pymodel"
   ]
  },
  {
   "cell_type": "code",
   "execution_count": null,
   "metadata": {},
   "outputs": [],
   "source": [
    "config_dir"
   ]
  },
  {
   "cell_type": "code",
   "execution_count": 10,
   "metadata": {},
   "outputs": [
    {
     "name": "stdout",
     "output_type": "stream",
     "text": [
      "config loaded from data/representation_learning/6-frag/target/240724//SchNet/splitrand-nummol5000/\n",
      "data/representation_learning/6-frag/target/240724//SchNet/splitrand-nummol5000/epoch=48-val_loss=0.14-other_metric=0.00.ckpt\n",
      "config loaded from data/representation_learning/6-frag/target/240724//SchNet/splitrand-nummol5000/\n",
      "Model loaded:  SchNet\n"
     ]
    },
    {
     "ename": "ServerSelectionTimeoutError",
     "evalue": "129.31.66.201:27017: timed out (configured timeouts: socketTimeoutMS: 20000.0ms, connectTimeoutMS: 20000.0ms), Timeout: 30s, Topology Description: <TopologyDescription id: 66a3a3b806b6a20e11cba9b2, topology_type: Unknown, servers: [<ServerDescription ('129.31.66.201', 27017) server_type: Unknown, rtt: None, error=NetworkTimeout('129.31.66.201:27017: timed out (configured timeouts: socketTimeoutMS: 20000.0ms, connectTimeoutMS: 20000.0ms)')>]>",
     "output_type": "error",
     "traceback": [
      "\u001b[0;31m---------------------------------------------------------------------------\u001b[0m",
      "\u001b[0;31mServerSelectionTimeoutError\u001b[0m               Traceback (most recent call last)",
      "Cell \u001b[0;32mIn[10], line 10\u001b[0m\n\u001b[1;32m      7\u001b[0m config_dir \u001b[38;5;241m=\u001b[39m \u001b[38;5;124m\"\u001b[39m\u001b[38;5;124mdata/representation_learning/6-frag/target/240724//SchNet/splitrand-nummol5000/\u001b[39m\u001b[38;5;124m\"\u001b[39m\n\u001b[1;32m      8\u001b[0m config, min_val_loss \u001b[38;5;241m=\u001b[39m train_models\u001b[38;5;241m.\u001b[39mget_best_embedding_model(config_dir)\n\u001b[0;32m---> 10\u001b[0m Representation, pymodel \u001b[38;5;241m=\u001b[39m \u001b[43mload_representation_model\u001b[49m\u001b[43m(\u001b[49m\u001b[43mconfig_dir\u001b[49m\u001b[43m)\u001b[49m\n\u001b[1;32m     11\u001b[0m \u001b[38;5;66;03m#representation.device = 'cpu'\u001b[39;00m\n",
      "Cell \u001b[0;32mIn[9], line 22\u001b[0m, in \u001b[0;36mload_representation_model\u001b[0;34m(config_dir)\u001b[0m\n\u001b[1;32m     20\u001b[0m \u001b[38;5;66;03m#pymodel.load_state_dict(state_dict=checkpoint[\"state_dict\"])\u001b[39;00m\n\u001b[1;32m     21\u001b[0m pymodel\u001b[38;5;241m.\u001b[39mto(config[\u001b[38;5;124m\"\u001b[39m\u001b[38;5;124mdevice\u001b[39m\u001b[38;5;124m\"\u001b[39m])\n\u001b[0;32m---> 22\u001b[0m representation \u001b[38;5;241m=\u001b[39m \u001b[43mRepresentation_poly_3d\u001b[49m\u001b[38;5;241;43m.\u001b[39;49m\u001b[43mRepresentation_poly_3d\u001b[49m\u001b[43m(\u001b[49m\u001b[43mpymodel\u001b[49m\u001b[43m,\u001b[49m\u001b[43mdevice\u001b[49m\u001b[38;5;241;43m=\u001b[39;49m\u001b[38;5;124;43m'\u001b[39;49m\u001b[38;5;124;43mcpu\u001b[39;49m\u001b[38;5;124;43m'\u001b[39;49m\u001b[43m,\u001b[49m\n\u001b[1;32m     23\u001b[0m \u001b[43m                                                               \u001b[49m\u001b[43mmongo_client\u001b[49m\u001b[38;5;241;43m=\u001b[39;49m\u001b[43mconfig\u001b[49m\u001b[43m[\u001b[49m\u001b[38;5;124;43m'\u001b[39;49m\u001b[38;5;124;43mpymongo_client\u001b[39;49m\u001b[38;5;124;43m'\u001b[39;49m\u001b[43m]\u001b[49m\u001b[43m,\u001b[49m\n\u001b[1;32m     24\u001b[0m \u001b[43m                                                               \u001b[49m\u001b[43mdatabase\u001b[49m\u001b[38;5;241;43m=\u001b[39;49m\u001b[43mconfig\u001b[49m\u001b[43m[\u001b[49m\u001b[38;5;124;43m'\u001b[39;49m\u001b[38;5;124;43mdatabase_name\u001b[39;49m\u001b[38;5;124;43m'\u001b[39;49m\u001b[43m]\u001b[49m\u001b[43m,\u001b[49m\u001b[43m)\u001b[49m\n\u001b[1;32m     25\u001b[0m \u001b[38;5;28;01mreturn\u001b[39;00m representation, pymodel\n",
      "File \u001b[0;32m~/Work/STK_search/src/stk_search/Representation/Representation_poly_3d.py:48\u001b[0m, in \u001b[0;36mRepresentation_poly_3d.__init__\u001b[0;34m(self, model_encoding, df_results, data, db_poly, db_frag, device, oligomer_size, mongo_client, database)\u001b[0m\n\u001b[1;32m     44\u001b[0m     \u001b[38;5;28mself\u001b[39m\u001b[38;5;241m.\u001b[39mdevice \u001b[38;5;241m=\u001b[39m device\n\u001b[1;32m     45\u001b[0m \u001b[38;5;66;03m# self.model_encoding = model_encoding\u001b[39;00m\n\u001b[1;32m     46\u001b[0m \u001b[38;5;66;03m# self.model_encoding.eval()\u001b[39;00m\n\u001b[1;32m     47\u001b[0m \u001b[38;5;66;03m# self.model_encoding.to(self.device)\u001b[39;00m\n\u001b[0;32m---> 48\u001b[0m \u001b[38;5;28;43mself\u001b[39;49m\u001b[38;5;241;43m.\u001b[39;49m\u001b[43mget_bbs_dict\u001b[49m\u001b[43m(\u001b[49m\n\u001b[1;32m     49\u001b[0m \u001b[43m    \u001b[49m\u001b[43mmongo_client\u001b[49m\u001b[43m,\u001b[49m\u001b[43m \u001b[49m\u001b[43mdatabase\u001b[49m\n\u001b[1;32m     50\u001b[0m \u001b[43m\u001b[49m\u001b[43m)\u001b[49m\n\u001b[1;32m     51\u001b[0m \u001b[38;5;28mself\u001b[39m\u001b[38;5;241m.\u001b[39mbatch_size \u001b[38;5;241m=\u001b[39m \u001b[38;5;241m100\u001b[39m\n\u001b[1;32m     52\u001b[0m \u001b[38;5;28mself\u001b[39m\u001b[38;5;241m.\u001b[39mpymodel \u001b[38;5;241m=\u001b[39m model_encoding\u001b[38;5;241m.\u001b[39mto(\u001b[38;5;28mself\u001b[39m\u001b[38;5;241m.\u001b[39mdevice)\n",
      "File \u001b[0;32m~/Work/STK_search/src/stk_search/Representation/Representation_poly_3d.py:176\u001b[0m, in \u001b[0;36mRepresentation_poly_3d.get_bbs_dict\u001b[0;34m(self, client, database)\u001b[0m\n\u001b[1;32m    174\u001b[0m \u001b[38;5;28;01mdef\u001b[39;00m \u001b[38;5;21mget_bbs_dict\u001b[39m(\u001b[38;5;28mself\u001b[39m, client, database):\n\u001b[1;32m    175\u001b[0m     client \u001b[38;5;241m=\u001b[39m pymongo\u001b[38;5;241m.\u001b[39mMongoClient(client)\n\u001b[0;32m--> 176\u001b[0m     db_mol \u001b[38;5;241m=\u001b[39m \u001b[43mstk\u001b[49m\u001b[38;5;241;43m.\u001b[39;49m\u001b[43mMoleculeMongoDb\u001b[49m\u001b[43m(\u001b[49m\n\u001b[1;32m    177\u001b[0m \u001b[43m        \u001b[49m\u001b[43mclient\u001b[49m\u001b[43m,\u001b[49m\n\u001b[1;32m    178\u001b[0m \u001b[43m        \u001b[49m\u001b[43mdatabase\u001b[49m\u001b[38;5;241;43m=\u001b[39;49m\u001b[43mdatabase\u001b[49m\u001b[43m,\u001b[49m\n\u001b[1;32m    179\u001b[0m \u001b[43m    \u001b[49m\u001b[43m)\u001b[49m\n\u001b[1;32m    180\u001b[0m     mols \u001b[38;5;241m=\u001b[39m db_mol\u001b[38;5;241m.\u001b[39mget_all()\n\u001b[1;32m    181\u001b[0m     bbs_dict \u001b[38;5;241m=\u001b[39m {}\n",
      "File \u001b[0;32m~/anaconda3/envs/stk_search/lib/python3.10/site-packages/stk/databases/mongo_db/molecule.py:387\u001b[0m, in \u001b[0;36mMoleculeMongoDb.__init__\u001b[0;34m(self, mongo_client, database, molecule_collection, position_matrix_collection, jsonizer, dejsonizer, put_lru_cache_size, get_lru_cache_size, indices)\u001b[0m\n\u001b[1;32m    383\u001b[0m \u001b[38;5;28mself\u001b[39m\u001b[38;5;241m.\u001b[39m_put \u001b[38;5;241m=\u001b[39m lru_cache(maxsize\u001b[38;5;241m=\u001b[39mput_lru_cache_size)(\u001b[38;5;28mself\u001b[39m\u001b[38;5;241m.\u001b[39m_put)\n\u001b[1;32m    385\u001b[0m \u001b[38;5;28;01mfor\u001b[39;00m index \u001b[38;5;129;01min\u001b[39;00m indices:\n\u001b[1;32m    386\u001b[0m     \u001b[38;5;66;03m# Do not create the same index twice.\u001b[39;00m\n\u001b[0;32m--> 387\u001b[0m     \u001b[38;5;28;01mif\u001b[39;00m \u001b[38;5;124mf\u001b[39m\u001b[38;5;124m'\u001b[39m\u001b[38;5;132;01m{\u001b[39;00mindex\u001b[38;5;132;01m}\u001b[39;00m\u001b[38;5;124m_1\u001b[39m\u001b[38;5;124m'\u001b[39m \u001b[38;5;129;01mnot\u001b[39;00m \u001b[38;5;129;01min\u001b[39;00m \u001b[38;5;28;43mself\u001b[39;49m\u001b[38;5;241;43m.\u001b[39;49m\u001b[43m_molecules\u001b[49m\u001b[38;5;241;43m.\u001b[39;49m\u001b[43mindex_information\u001b[49m\u001b[43m(\u001b[49m\u001b[43m)\u001b[49m:\n\u001b[1;32m    388\u001b[0m         \u001b[38;5;28mself\u001b[39m\u001b[38;5;241m.\u001b[39m_molecules\u001b[38;5;241m.\u001b[39mcreate_index(index)\n\u001b[1;32m    389\u001b[0m     \u001b[38;5;28;01mif\u001b[39;00m (\n\u001b[1;32m    390\u001b[0m         \u001b[38;5;124mf\u001b[39m\u001b[38;5;124m'\u001b[39m\u001b[38;5;132;01m{\u001b[39;00mindex\u001b[38;5;132;01m}\u001b[39;00m\u001b[38;5;124m_1\u001b[39m\u001b[38;5;124m'\u001b[39m\n\u001b[1;32m    391\u001b[0m         \u001b[38;5;129;01mnot\u001b[39;00m \u001b[38;5;129;01min\u001b[39;00m \u001b[38;5;28mself\u001b[39m\u001b[38;5;241m.\u001b[39m_position_matrices\u001b[38;5;241m.\u001b[39mindex_information()\n\u001b[1;32m    392\u001b[0m     ):\n",
      "File \u001b[0;32m~/anaconda3/envs/stk_search/lib/python3.10/site-packages/pymongo/collection.py:2328\u001b[0m, in \u001b[0;36mCollection.index_information\u001b[0;34m(self, session, comment)\u001b[0m\n\u001b[1;32m   2294\u001b[0m \u001b[38;5;28;01mdef\u001b[39;00m \u001b[38;5;21mindex_information\u001b[39m(\n\u001b[1;32m   2295\u001b[0m     \u001b[38;5;28mself\u001b[39m,\n\u001b[1;32m   2296\u001b[0m     session: Optional[ClientSession] \u001b[38;5;241m=\u001b[39m \u001b[38;5;28;01mNone\u001b[39;00m,\n\u001b[1;32m   2297\u001b[0m     comment: Optional[Any] \u001b[38;5;241m=\u001b[39m \u001b[38;5;28;01mNone\u001b[39;00m,\n\u001b[1;32m   2298\u001b[0m ) \u001b[38;5;241m-\u001b[39m\u001b[38;5;241m>\u001b[39m MutableMapping[\u001b[38;5;28mstr\u001b[39m, Any]:\n\u001b[1;32m   2299\u001b[0m \u001b[38;5;250m    \u001b[39m\u001b[38;5;124;03m\"\"\"Get information on this collection's indexes.\u001b[39;00m\n\u001b[1;32m   2300\u001b[0m \n\u001b[1;32m   2301\u001b[0m \u001b[38;5;124;03m    Returns a dictionary where the keys are index names (as\u001b[39;00m\n\u001b[0;32m   (...)\u001b[0m\n\u001b[1;32m   2326\u001b[0m \u001b[38;5;124;03m       Added ``session`` parameter.\u001b[39;00m\n\u001b[1;32m   2327\u001b[0m \u001b[38;5;124;03m    \"\"\"\u001b[39;00m\n\u001b[0;32m-> 2328\u001b[0m     cursor \u001b[38;5;241m=\u001b[39m \u001b[38;5;28;43mself\u001b[39;49m\u001b[38;5;241;43m.\u001b[39;49m\u001b[43mlist_indexes\u001b[49m\u001b[43m(\u001b[49m\u001b[43msession\u001b[49m\u001b[38;5;241;43m=\u001b[39;49m\u001b[43msession\u001b[49m\u001b[43m,\u001b[49m\u001b[43m \u001b[49m\u001b[43mcomment\u001b[49m\u001b[38;5;241;43m=\u001b[39;49m\u001b[43mcomment\u001b[49m\u001b[43m)\u001b[49m\n\u001b[1;32m   2329\u001b[0m     info \u001b[38;5;241m=\u001b[39m {}\n\u001b[1;32m   2330\u001b[0m     \u001b[38;5;28;01mfor\u001b[39;00m index \u001b[38;5;129;01min\u001b[39;00m cursor:\n",
      "File \u001b[0;32m~/anaconda3/envs/stk_search/lib/python3.10/site-packages/pymongo/collection.py:2290\u001b[0m, in \u001b[0;36mCollection.list_indexes\u001b[0;34m(self, session, comment)\u001b[0m\n\u001b[1;32m   2287\u001b[0m     \u001b[38;5;28;01mreturn\u001b[39;00m cmd_cursor\n\u001b[1;32m   2289\u001b[0m \u001b[38;5;28;01mwith\u001b[39;00m \u001b[38;5;28mself\u001b[39m\u001b[38;5;241m.\u001b[39m__database\u001b[38;5;241m.\u001b[39mclient\u001b[38;5;241m.\u001b[39m_tmp_session(session, \u001b[38;5;28;01mFalse\u001b[39;00m) \u001b[38;5;28;01mas\u001b[39;00m s:\n\u001b[0;32m-> 2290\u001b[0m     \u001b[38;5;28;01mreturn\u001b[39;00m \u001b[38;5;28;43mself\u001b[39;49m\u001b[38;5;241;43m.\u001b[39;49m\u001b[43m__database\u001b[49m\u001b[38;5;241;43m.\u001b[39;49m\u001b[43mclient\u001b[49m\u001b[38;5;241;43m.\u001b[39;49m\u001b[43m_retryable_read\u001b[49m\u001b[43m(\u001b[49m\n\u001b[1;32m   2291\u001b[0m \u001b[43m        \u001b[49m\u001b[43m_cmd\u001b[49m\u001b[43m,\u001b[49m\u001b[43m \u001b[49m\u001b[43mread_pref\u001b[49m\u001b[43m,\u001b[49m\u001b[43m \u001b[49m\u001b[43ms\u001b[49m\u001b[43m,\u001b[49m\u001b[43m \u001b[49m\u001b[43moperation\u001b[49m\u001b[38;5;241;43m=\u001b[39;49m\u001b[43m_Op\u001b[49m\u001b[38;5;241;43m.\u001b[39;49m\u001b[43mLIST_INDEXES\u001b[49m\n\u001b[1;32m   2292\u001b[0m \u001b[43m    \u001b[49m\u001b[43m)\u001b[49m\n",
      "File \u001b[0;32m~/anaconda3/envs/stk_search/lib/python3.10/site-packages/pymongo/mongo_client.py:1540\u001b[0m, in \u001b[0;36mMongoClient._retryable_read\u001b[0;34m(self, func, read_pref, session, operation, address, retryable, operation_id)\u001b[0m\n\u001b[1;32m   1535\u001b[0m \u001b[38;5;66;03m# Ensure that the client supports retrying on reads and there is no session in\u001b[39;00m\n\u001b[1;32m   1536\u001b[0m \u001b[38;5;66;03m# transaction, otherwise, we will not support retry behavior for this call.\u001b[39;00m\n\u001b[1;32m   1537\u001b[0m retryable \u001b[38;5;241m=\u001b[39m \u001b[38;5;28mbool\u001b[39m(\n\u001b[1;32m   1538\u001b[0m     retryable \u001b[38;5;129;01mand\u001b[39;00m \u001b[38;5;28mself\u001b[39m\u001b[38;5;241m.\u001b[39moptions\u001b[38;5;241m.\u001b[39mretry_reads \u001b[38;5;129;01mand\u001b[39;00m \u001b[38;5;129;01mnot\u001b[39;00m (session \u001b[38;5;129;01mand\u001b[39;00m session\u001b[38;5;241m.\u001b[39min_transaction)\n\u001b[1;32m   1539\u001b[0m )\n\u001b[0;32m-> 1540\u001b[0m \u001b[38;5;28;01mreturn\u001b[39;00m \u001b[38;5;28;43mself\u001b[39;49m\u001b[38;5;241;43m.\u001b[39;49m\u001b[43m_retry_internal\u001b[49m\u001b[43m(\u001b[49m\n\u001b[1;32m   1541\u001b[0m \u001b[43m    \u001b[49m\u001b[43mfunc\u001b[49m\u001b[43m,\u001b[49m\n\u001b[1;32m   1542\u001b[0m \u001b[43m    \u001b[49m\u001b[43msession\u001b[49m\u001b[43m,\u001b[49m\n\u001b[1;32m   1543\u001b[0m \u001b[43m    \u001b[49m\u001b[38;5;28;43;01mNone\u001b[39;49;00m\u001b[43m,\u001b[49m\n\u001b[1;32m   1544\u001b[0m \u001b[43m    \u001b[49m\u001b[43moperation\u001b[49m\u001b[43m,\u001b[49m\n\u001b[1;32m   1545\u001b[0m \u001b[43m    \u001b[49m\u001b[43mis_read\u001b[49m\u001b[38;5;241;43m=\u001b[39;49m\u001b[38;5;28;43;01mTrue\u001b[39;49;00m\u001b[43m,\u001b[49m\n\u001b[1;32m   1546\u001b[0m \u001b[43m    \u001b[49m\u001b[43maddress\u001b[49m\u001b[38;5;241;43m=\u001b[39;49m\u001b[43maddress\u001b[49m\u001b[43m,\u001b[49m\n\u001b[1;32m   1547\u001b[0m \u001b[43m    \u001b[49m\u001b[43mread_pref\u001b[49m\u001b[38;5;241;43m=\u001b[39;49m\u001b[43mread_pref\u001b[49m\u001b[43m,\u001b[49m\n\u001b[1;32m   1548\u001b[0m \u001b[43m    \u001b[49m\u001b[43mretryable\u001b[49m\u001b[38;5;241;43m=\u001b[39;49m\u001b[43mretryable\u001b[49m\u001b[43m,\u001b[49m\n\u001b[1;32m   1549\u001b[0m \u001b[43m    \u001b[49m\u001b[43moperation_id\u001b[49m\u001b[38;5;241;43m=\u001b[39;49m\u001b[43moperation_id\u001b[49m\u001b[43m,\u001b[49m\n\u001b[1;32m   1550\u001b[0m \u001b[43m\u001b[49m\u001b[43m)\u001b[49m\n",
      "File \u001b[0;32m~/anaconda3/envs/stk_search/lib/python3.10/site-packages/pymongo/_csot.py:108\u001b[0m, in \u001b[0;36mapply.<locals>.csot_wrapper\u001b[0;34m(self, *args, **kwargs)\u001b[0m\n\u001b[1;32m    106\u001b[0m         \u001b[38;5;28;01mwith\u001b[39;00m _TimeoutContext(timeout):\n\u001b[1;32m    107\u001b[0m             \u001b[38;5;28;01mreturn\u001b[39;00m func(\u001b[38;5;28mself\u001b[39m, \u001b[38;5;241m*\u001b[39margs, \u001b[38;5;241m*\u001b[39m\u001b[38;5;241m*\u001b[39mkwargs)\n\u001b[0;32m--> 108\u001b[0m \u001b[38;5;28;01mreturn\u001b[39;00m \u001b[43mfunc\u001b[49m\u001b[43m(\u001b[49m\u001b[38;5;28;43mself\u001b[39;49m\u001b[43m,\u001b[49m\u001b[43m \u001b[49m\u001b[38;5;241;43m*\u001b[39;49m\u001b[43margs\u001b[49m\u001b[43m,\u001b[49m\u001b[43m \u001b[49m\u001b[38;5;241;43m*\u001b[39;49m\u001b[38;5;241;43m*\u001b[39;49m\u001b[43mkwargs\u001b[49m\u001b[43m)\u001b[49m\n",
      "File \u001b[0;32m~/anaconda3/envs/stk_search/lib/python3.10/site-packages/pymongo/mongo_client.py:1507\u001b[0m, in \u001b[0;36mMongoClient._retry_internal\u001b[0;34m(self, func, session, bulk, operation, is_read, address, read_pref, retryable, operation_id)\u001b[0m\n\u001b[1;32m   1470\u001b[0m \u001b[38;5;129m@_csot\u001b[39m\u001b[38;5;241m.\u001b[39mapply\n\u001b[1;32m   1471\u001b[0m \u001b[38;5;28;01mdef\u001b[39;00m \u001b[38;5;21m_retry_internal\u001b[39m(\n\u001b[1;32m   1472\u001b[0m     \u001b[38;5;28mself\u001b[39m,\n\u001b[0;32m   (...)\u001b[0m\n\u001b[1;32m   1481\u001b[0m     operation_id: Optional[\u001b[38;5;28mint\u001b[39m] \u001b[38;5;241m=\u001b[39m \u001b[38;5;28;01mNone\u001b[39;00m,\n\u001b[1;32m   1482\u001b[0m ) \u001b[38;5;241m-\u001b[39m\u001b[38;5;241m>\u001b[39m T:\n\u001b[1;32m   1483\u001b[0m \u001b[38;5;250m    \u001b[39m\u001b[38;5;124;03m\"\"\"Internal retryable helper for all client transactions.\u001b[39;00m\n\u001b[1;32m   1484\u001b[0m \n\u001b[1;32m   1485\u001b[0m \u001b[38;5;124;03m    :param func: Callback function we want to retry\u001b[39;00m\n\u001b[0;32m   (...)\u001b[0m\n\u001b[1;32m   1494\u001b[0m \u001b[38;5;124;03m    :return: Output of the calling func()\u001b[39;00m\n\u001b[1;32m   1495\u001b[0m \u001b[38;5;124;03m    \"\"\"\u001b[39;00m\n\u001b[1;32m   1496\u001b[0m     \u001b[38;5;28;01mreturn\u001b[39;00m \u001b[43m_ClientConnectionRetryable\u001b[49m\u001b[43m(\u001b[49m\n\u001b[1;32m   1497\u001b[0m \u001b[43m        \u001b[49m\u001b[43mmongo_client\u001b[49m\u001b[38;5;241;43m=\u001b[39;49m\u001b[38;5;28;43mself\u001b[39;49m\u001b[43m,\u001b[49m\n\u001b[1;32m   1498\u001b[0m \u001b[43m        \u001b[49m\u001b[43mfunc\u001b[49m\u001b[38;5;241;43m=\u001b[39;49m\u001b[43mfunc\u001b[49m\u001b[43m,\u001b[49m\n\u001b[1;32m   1499\u001b[0m \u001b[43m        \u001b[49m\u001b[43mbulk\u001b[49m\u001b[38;5;241;43m=\u001b[39;49m\u001b[43mbulk\u001b[49m\u001b[43m,\u001b[49m\n\u001b[1;32m   1500\u001b[0m \u001b[43m        \u001b[49m\u001b[43moperation\u001b[49m\u001b[38;5;241;43m=\u001b[39;49m\u001b[43moperation\u001b[49m\u001b[43m,\u001b[49m\n\u001b[1;32m   1501\u001b[0m \u001b[43m        \u001b[49m\u001b[43mis_read\u001b[49m\u001b[38;5;241;43m=\u001b[39;49m\u001b[43mis_read\u001b[49m\u001b[43m,\u001b[49m\n\u001b[1;32m   1502\u001b[0m \u001b[43m        \u001b[49m\u001b[43msession\u001b[49m\u001b[38;5;241;43m=\u001b[39;49m\u001b[43msession\u001b[49m\u001b[43m,\u001b[49m\n\u001b[1;32m   1503\u001b[0m \u001b[43m        \u001b[49m\u001b[43mread_pref\u001b[49m\u001b[38;5;241;43m=\u001b[39;49m\u001b[43mread_pref\u001b[49m\u001b[43m,\u001b[49m\n\u001b[1;32m   1504\u001b[0m \u001b[43m        \u001b[49m\u001b[43maddress\u001b[49m\u001b[38;5;241;43m=\u001b[39;49m\u001b[43maddress\u001b[49m\u001b[43m,\u001b[49m\n\u001b[1;32m   1505\u001b[0m \u001b[43m        \u001b[49m\u001b[43mretryable\u001b[49m\u001b[38;5;241;43m=\u001b[39;49m\u001b[43mretryable\u001b[49m\u001b[43m,\u001b[49m\n\u001b[1;32m   1506\u001b[0m \u001b[43m        \u001b[49m\u001b[43moperation_id\u001b[49m\u001b[38;5;241;43m=\u001b[39;49m\u001b[43moperation_id\u001b[49m\u001b[43m,\u001b[49m\n\u001b[0;32m-> 1507\u001b[0m \u001b[43m    \u001b[49m\u001b[43m)\u001b[49m\u001b[38;5;241;43m.\u001b[39;49m\u001b[43mrun\u001b[49m\u001b[43m(\u001b[49m\u001b[43m)\u001b[49m\n",
      "File \u001b[0;32m~/anaconda3/envs/stk_search/lib/python3.10/site-packages/pymongo/mongo_client.py:2353\u001b[0m, in \u001b[0;36m_ClientConnectionRetryable.run\u001b[0;34m(self)\u001b[0m\n\u001b[1;32m   2351\u001b[0m \u001b[38;5;28mself\u001b[39m\u001b[38;5;241m.\u001b[39m_check_last_error(check_csot\u001b[38;5;241m=\u001b[39m\u001b[38;5;28;01mTrue\u001b[39;00m)\n\u001b[1;32m   2352\u001b[0m \u001b[38;5;28;01mtry\u001b[39;00m:\n\u001b[0;32m-> 2353\u001b[0m     \u001b[38;5;28;01mreturn\u001b[39;00m \u001b[38;5;28;43mself\u001b[39;49m\u001b[38;5;241;43m.\u001b[39;49m\u001b[43m_read\u001b[49m\u001b[43m(\u001b[49m\u001b[43m)\u001b[49m \u001b[38;5;28;01mif\u001b[39;00m \u001b[38;5;28mself\u001b[39m\u001b[38;5;241m.\u001b[39m_is_read \u001b[38;5;28;01melse\u001b[39;00m \u001b[38;5;28mself\u001b[39m\u001b[38;5;241m.\u001b[39m_write()\n\u001b[1;32m   2354\u001b[0m \u001b[38;5;28;01mexcept\u001b[39;00m ServerSelectionTimeoutError:\n\u001b[1;32m   2355\u001b[0m     \u001b[38;5;66;03m# The application may think the write was never attempted\u001b[39;00m\n\u001b[1;32m   2356\u001b[0m     \u001b[38;5;66;03m# if we raise ServerSelectionTimeoutError on the retry\u001b[39;00m\n\u001b[1;32m   2357\u001b[0m     \u001b[38;5;66;03m# attempt. Raise the original exception instead.\u001b[39;00m\n\u001b[1;32m   2358\u001b[0m     \u001b[38;5;28mself\u001b[39m\u001b[38;5;241m.\u001b[39m_check_last_error()\n",
      "File \u001b[0;32m~/anaconda3/envs/stk_search/lib/python3.10/site-packages/pymongo/mongo_client.py:2483\u001b[0m, in \u001b[0;36m_ClientConnectionRetryable._read\u001b[0;34m(self)\u001b[0m\n\u001b[1;32m   2478\u001b[0m \u001b[38;5;28;01mdef\u001b[39;00m \u001b[38;5;21m_read\u001b[39m(\u001b[38;5;28mself\u001b[39m) \u001b[38;5;241m-\u001b[39m\u001b[38;5;241m>\u001b[39m T:\n\u001b[1;32m   2479\u001b[0m \u001b[38;5;250m    \u001b[39m\u001b[38;5;124;03m\"\"\"Wrapper method for read-type retryable client executions\u001b[39;00m\n\u001b[1;32m   2480\u001b[0m \n\u001b[1;32m   2481\u001b[0m \u001b[38;5;124;03m    :return: Output for func()'s call\u001b[39;00m\n\u001b[1;32m   2482\u001b[0m \u001b[38;5;124;03m    \"\"\"\u001b[39;00m\n\u001b[0;32m-> 2483\u001b[0m     \u001b[38;5;28mself\u001b[39m\u001b[38;5;241m.\u001b[39m_server \u001b[38;5;241m=\u001b[39m \u001b[38;5;28;43mself\u001b[39;49m\u001b[38;5;241;43m.\u001b[39;49m\u001b[43m_get_server\u001b[49m\u001b[43m(\u001b[49m\u001b[43m)\u001b[49m\n\u001b[1;32m   2484\u001b[0m     \u001b[38;5;28;01massert\u001b[39;00m \u001b[38;5;28mself\u001b[39m\u001b[38;5;241m.\u001b[39m_read_pref \u001b[38;5;129;01mis\u001b[39;00m \u001b[38;5;129;01mnot\u001b[39;00m \u001b[38;5;28;01mNone\u001b[39;00m, \u001b[38;5;124m\"\u001b[39m\u001b[38;5;124mRead Preference required on read calls\u001b[39m\u001b[38;5;124m\"\u001b[39m\n\u001b[1;32m   2485\u001b[0m     \u001b[38;5;28;01mwith\u001b[39;00m \u001b[38;5;28mself\u001b[39m\u001b[38;5;241m.\u001b[39m_client\u001b[38;5;241m.\u001b[39m_conn_from_server(\u001b[38;5;28mself\u001b[39m\u001b[38;5;241m.\u001b[39m_read_pref, \u001b[38;5;28mself\u001b[39m\u001b[38;5;241m.\u001b[39m_server, \u001b[38;5;28mself\u001b[39m\u001b[38;5;241m.\u001b[39m_session) \u001b[38;5;28;01mas\u001b[39;00m (\n\u001b[1;32m   2486\u001b[0m         conn,\n\u001b[1;32m   2487\u001b[0m         read_pref,\n\u001b[1;32m   2488\u001b[0m     ):\n",
      "File \u001b[0;32m~/anaconda3/envs/stk_search/lib/python3.10/site-packages/pymongo/mongo_client.py:2439\u001b[0m, in \u001b[0;36m_ClientConnectionRetryable._get_server\u001b[0;34m(self)\u001b[0m\n\u001b[1;32m   2434\u001b[0m \u001b[38;5;28;01mdef\u001b[39;00m \u001b[38;5;21m_get_server\u001b[39m(\u001b[38;5;28mself\u001b[39m) \u001b[38;5;241m-\u001b[39m\u001b[38;5;241m>\u001b[39m Server:\n\u001b[1;32m   2435\u001b[0m \u001b[38;5;250m    \u001b[39m\u001b[38;5;124;03m\"\"\"Retrieves a server object based on provided object context\u001b[39;00m\n\u001b[1;32m   2436\u001b[0m \n\u001b[1;32m   2437\u001b[0m \u001b[38;5;124;03m    :return: Abstraction to connect to server\u001b[39;00m\n\u001b[1;32m   2438\u001b[0m \u001b[38;5;124;03m    \"\"\"\u001b[39;00m\n\u001b[0;32m-> 2439\u001b[0m     \u001b[38;5;28;01mreturn\u001b[39;00m \u001b[38;5;28;43mself\u001b[39;49m\u001b[38;5;241;43m.\u001b[39;49m\u001b[43m_client\u001b[49m\u001b[38;5;241;43m.\u001b[39;49m\u001b[43m_select_server\u001b[49m\u001b[43m(\u001b[49m\n\u001b[1;32m   2440\u001b[0m \u001b[43m        \u001b[49m\u001b[38;5;28;43mself\u001b[39;49m\u001b[38;5;241;43m.\u001b[39;49m\u001b[43m_server_selector\u001b[49m\u001b[43m,\u001b[49m\n\u001b[1;32m   2441\u001b[0m \u001b[43m        \u001b[49m\u001b[38;5;28;43mself\u001b[39;49m\u001b[38;5;241;43m.\u001b[39;49m\u001b[43m_session\u001b[49m\u001b[43m,\u001b[49m\n\u001b[1;32m   2442\u001b[0m \u001b[43m        \u001b[49m\u001b[38;5;28;43mself\u001b[39;49m\u001b[38;5;241;43m.\u001b[39;49m\u001b[43m_operation\u001b[49m\u001b[43m,\u001b[49m\n\u001b[1;32m   2443\u001b[0m \u001b[43m        \u001b[49m\u001b[43maddress\u001b[49m\u001b[38;5;241;43m=\u001b[39;49m\u001b[38;5;28;43mself\u001b[39;49m\u001b[38;5;241;43m.\u001b[39;49m\u001b[43m_address\u001b[49m\u001b[43m,\u001b[49m\n\u001b[1;32m   2444\u001b[0m \u001b[43m        \u001b[49m\u001b[43mdeprioritized_servers\u001b[49m\u001b[38;5;241;43m=\u001b[39;49m\u001b[38;5;28;43mself\u001b[39;49m\u001b[38;5;241;43m.\u001b[39;49m\u001b[43m_deprioritized_servers\u001b[49m\u001b[43m,\u001b[49m\n\u001b[1;32m   2445\u001b[0m \u001b[43m        \u001b[49m\u001b[43moperation_id\u001b[49m\u001b[38;5;241;43m=\u001b[39;49m\u001b[38;5;28;43mself\u001b[39;49m\u001b[38;5;241;43m.\u001b[39;49m\u001b[43m_operation_id\u001b[49m\u001b[43m,\u001b[49m\n\u001b[1;32m   2446\u001b[0m \u001b[43m    \u001b[49m\u001b[43m)\u001b[49m\n",
      "File \u001b[0;32m~/anaconda3/envs/stk_search/lib/python3.10/site-packages/pymongo/mongo_client.py:1322\u001b[0m, in \u001b[0;36mMongoClient._select_server\u001b[0;34m(self, server_selector, session, operation, address, deprioritized_servers, operation_id)\u001b[0m\n\u001b[1;32m   1320\u001b[0m             \u001b[38;5;28;01mraise\u001b[39;00m AutoReconnect(\u001b[38;5;124m\"\u001b[39m\u001b[38;5;124mserver \u001b[39m\u001b[38;5;132;01m%s\u001b[39;00m\u001b[38;5;124m:\u001b[39m\u001b[38;5;132;01m%s\u001b[39;00m\u001b[38;5;124m no longer available\u001b[39m\u001b[38;5;124m\"\u001b[39m \u001b[38;5;241m%\u001b[39m address)  \u001b[38;5;66;03m# noqa: UP031\u001b[39;00m\n\u001b[1;32m   1321\u001b[0m     \u001b[38;5;28;01melse\u001b[39;00m:\n\u001b[0;32m-> 1322\u001b[0m         server \u001b[38;5;241m=\u001b[39m \u001b[43mtopology\u001b[49m\u001b[38;5;241;43m.\u001b[39;49m\u001b[43mselect_server\u001b[49m\u001b[43m(\u001b[49m\n\u001b[1;32m   1323\u001b[0m \u001b[43m            \u001b[49m\u001b[43mserver_selector\u001b[49m\u001b[43m,\u001b[49m\n\u001b[1;32m   1324\u001b[0m \u001b[43m            \u001b[49m\u001b[43moperation\u001b[49m\u001b[43m,\u001b[49m\n\u001b[1;32m   1325\u001b[0m \u001b[43m            \u001b[49m\u001b[43mdeprioritized_servers\u001b[49m\u001b[38;5;241;43m=\u001b[39;49m\u001b[43mdeprioritized_servers\u001b[49m\u001b[43m,\u001b[49m\n\u001b[1;32m   1326\u001b[0m \u001b[43m            \u001b[49m\u001b[43moperation_id\u001b[49m\u001b[38;5;241;43m=\u001b[39;49m\u001b[43moperation_id\u001b[49m\u001b[43m,\u001b[49m\n\u001b[1;32m   1327\u001b[0m \u001b[43m        \u001b[49m\u001b[43m)\u001b[49m\n\u001b[1;32m   1328\u001b[0m     \u001b[38;5;28;01mreturn\u001b[39;00m server\n\u001b[1;32m   1329\u001b[0m \u001b[38;5;28;01mexcept\u001b[39;00m PyMongoError \u001b[38;5;28;01mas\u001b[39;00m exc:\n\u001b[1;32m   1330\u001b[0m     \u001b[38;5;66;03m# Server selection errors in a transaction are transient.\u001b[39;00m\n",
      "File \u001b[0;32m~/anaconda3/envs/stk_search/lib/python3.10/site-packages/pymongo/topology.py:368\u001b[0m, in \u001b[0;36mTopology.select_server\u001b[0;34m(self, selector, operation, server_selection_timeout, address, deprioritized_servers, operation_id)\u001b[0m\n\u001b[1;32m    358\u001b[0m \u001b[38;5;28;01mdef\u001b[39;00m \u001b[38;5;21mselect_server\u001b[39m(\n\u001b[1;32m    359\u001b[0m     \u001b[38;5;28mself\u001b[39m,\n\u001b[1;32m    360\u001b[0m     selector: Callable[[Selection], Selection],\n\u001b[0;32m   (...)\u001b[0m\n\u001b[1;32m    365\u001b[0m     operation_id: Optional[\u001b[38;5;28mint\u001b[39m] \u001b[38;5;241m=\u001b[39m \u001b[38;5;28;01mNone\u001b[39;00m,\n\u001b[1;32m    366\u001b[0m ) \u001b[38;5;241m-\u001b[39m\u001b[38;5;241m>\u001b[39m Server:\n\u001b[1;32m    367\u001b[0m \u001b[38;5;250m    \u001b[39m\u001b[38;5;124;03m\"\"\"Like select_servers, but choose a random server if several match.\"\"\"\u001b[39;00m\n\u001b[0;32m--> 368\u001b[0m     server \u001b[38;5;241m=\u001b[39m \u001b[38;5;28;43mself\u001b[39;49m\u001b[38;5;241;43m.\u001b[39;49m\u001b[43m_select_server\u001b[49m\u001b[43m(\u001b[49m\n\u001b[1;32m    369\u001b[0m \u001b[43m        \u001b[49m\u001b[43mselector\u001b[49m\u001b[43m,\u001b[49m\n\u001b[1;32m    370\u001b[0m \u001b[43m        \u001b[49m\u001b[43moperation\u001b[49m\u001b[43m,\u001b[49m\n\u001b[1;32m    371\u001b[0m \u001b[43m        \u001b[49m\u001b[43mserver_selection_timeout\u001b[49m\u001b[43m,\u001b[49m\n\u001b[1;32m    372\u001b[0m \u001b[43m        \u001b[49m\u001b[43maddress\u001b[49m\u001b[43m,\u001b[49m\n\u001b[1;32m    373\u001b[0m \u001b[43m        \u001b[49m\u001b[43mdeprioritized_servers\u001b[49m\u001b[43m,\u001b[49m\n\u001b[1;32m    374\u001b[0m \u001b[43m        \u001b[49m\u001b[43moperation_id\u001b[49m\u001b[38;5;241;43m=\u001b[39;49m\u001b[43moperation_id\u001b[49m\u001b[43m,\u001b[49m\n\u001b[1;32m    375\u001b[0m \u001b[43m    \u001b[49m\u001b[43m)\u001b[49m\n\u001b[1;32m    376\u001b[0m     \u001b[38;5;28;01mif\u001b[39;00m _csot\u001b[38;5;241m.\u001b[39mget_timeout():\n\u001b[1;32m    377\u001b[0m         _csot\u001b[38;5;241m.\u001b[39mset_rtt(server\u001b[38;5;241m.\u001b[39mdescription\u001b[38;5;241m.\u001b[39mmin_round_trip_time)\n",
      "File \u001b[0;32m~/anaconda3/envs/stk_search/lib/python3.10/site-packages/pymongo/topology.py:346\u001b[0m, in \u001b[0;36mTopology._select_server\u001b[0;34m(self, selector, operation, server_selection_timeout, address, deprioritized_servers, operation_id)\u001b[0m\n\u001b[1;32m    337\u001b[0m \u001b[38;5;28;01mdef\u001b[39;00m \u001b[38;5;21m_select_server\u001b[39m(\n\u001b[1;32m    338\u001b[0m     \u001b[38;5;28mself\u001b[39m,\n\u001b[1;32m    339\u001b[0m     selector: Callable[[Selection], Selection],\n\u001b[0;32m   (...)\u001b[0m\n\u001b[1;32m    344\u001b[0m     operation_id: Optional[\u001b[38;5;28mint\u001b[39m] \u001b[38;5;241m=\u001b[39m \u001b[38;5;28;01mNone\u001b[39;00m,\n\u001b[1;32m    345\u001b[0m ) \u001b[38;5;241m-\u001b[39m\u001b[38;5;241m>\u001b[39m Server:\n\u001b[0;32m--> 346\u001b[0m     servers \u001b[38;5;241m=\u001b[39m \u001b[38;5;28;43mself\u001b[39;49m\u001b[38;5;241;43m.\u001b[39;49m\u001b[43mselect_servers\u001b[49m\u001b[43m(\u001b[49m\n\u001b[1;32m    347\u001b[0m \u001b[43m        \u001b[49m\u001b[43mselector\u001b[49m\u001b[43m,\u001b[49m\u001b[43m \u001b[49m\u001b[43moperation\u001b[49m\u001b[43m,\u001b[49m\u001b[43m \u001b[49m\u001b[43mserver_selection_timeout\u001b[49m\u001b[43m,\u001b[49m\u001b[43m \u001b[49m\u001b[43maddress\u001b[49m\u001b[43m,\u001b[49m\u001b[43m \u001b[49m\u001b[43moperation_id\u001b[49m\n\u001b[1;32m    348\u001b[0m \u001b[43m    \u001b[49m\u001b[43m)\u001b[49m\n\u001b[1;32m    349\u001b[0m     servers \u001b[38;5;241m=\u001b[39m _filter_servers(servers, deprioritized_servers)\n\u001b[1;32m    350\u001b[0m     \u001b[38;5;28;01mif\u001b[39;00m \u001b[38;5;28mlen\u001b[39m(servers) \u001b[38;5;241m==\u001b[39m \u001b[38;5;241m1\u001b[39m:\n",
      "File \u001b[0;32m~/anaconda3/envs/stk_search/lib/python3.10/site-packages/pymongo/topology.py:253\u001b[0m, in \u001b[0;36mTopology.select_servers\u001b[0;34m(self, selector, operation, server_selection_timeout, address, operation_id)\u001b[0m\n\u001b[1;32m    250\u001b[0m     server_timeout \u001b[38;5;241m=\u001b[39m server_selection_timeout\n\u001b[1;32m    252\u001b[0m \u001b[38;5;28;01mwith\u001b[39;00m \u001b[38;5;28mself\u001b[39m\u001b[38;5;241m.\u001b[39m_lock:\n\u001b[0;32m--> 253\u001b[0m     server_descriptions \u001b[38;5;241m=\u001b[39m \u001b[38;5;28;43mself\u001b[39;49m\u001b[38;5;241;43m.\u001b[39;49m\u001b[43m_select_servers_loop\u001b[49m\u001b[43m(\u001b[49m\n\u001b[1;32m    254\u001b[0m \u001b[43m        \u001b[49m\u001b[43mselector\u001b[49m\u001b[43m,\u001b[49m\u001b[43m \u001b[49m\u001b[43mserver_timeout\u001b[49m\u001b[43m,\u001b[49m\u001b[43m \u001b[49m\u001b[43moperation\u001b[49m\u001b[43m,\u001b[49m\u001b[43m \u001b[49m\u001b[43moperation_id\u001b[49m\u001b[43m,\u001b[49m\u001b[43m \u001b[49m\u001b[43maddress\u001b[49m\n\u001b[1;32m    255\u001b[0m \u001b[43m    \u001b[49m\u001b[43m)\u001b[49m\n\u001b[1;32m    257\u001b[0m     \u001b[38;5;28;01mreturn\u001b[39;00m [\n\u001b[1;32m    258\u001b[0m         cast(Server, \u001b[38;5;28mself\u001b[39m\u001b[38;5;241m.\u001b[39mget_server_by_address(sd\u001b[38;5;241m.\u001b[39maddress)) \u001b[38;5;28;01mfor\u001b[39;00m sd \u001b[38;5;129;01min\u001b[39;00m server_descriptions\n\u001b[1;32m    259\u001b[0m     ]\n",
      "File \u001b[0;32m~/anaconda3/envs/stk_search/lib/python3.10/site-packages/pymongo/topology.py:303\u001b[0m, in \u001b[0;36mTopology._select_servers_loop\u001b[0;34m(self, selector, timeout, operation, operation_id, address)\u001b[0m\n\u001b[1;32m    292\u001b[0m     \u001b[38;5;28;01mif\u001b[39;00m _SERVER_SELECTION_LOGGER\u001b[38;5;241m.\u001b[39misEnabledFor(logging\u001b[38;5;241m.\u001b[39mDEBUG):\n\u001b[1;32m    293\u001b[0m         _debug_log(\n\u001b[1;32m    294\u001b[0m             _SERVER_SELECTION_LOGGER,\n\u001b[1;32m    295\u001b[0m             message\u001b[38;5;241m=\u001b[39m_ServerSelectionStatusMessage\u001b[38;5;241m.\u001b[39mFAILED,\n\u001b[0;32m   (...)\u001b[0m\n\u001b[1;32m    301\u001b[0m             failure\u001b[38;5;241m=\u001b[39m\u001b[38;5;28mself\u001b[39m\u001b[38;5;241m.\u001b[39m_error_message(selector),\n\u001b[1;32m    302\u001b[0m         )\n\u001b[0;32m--> 303\u001b[0m     \u001b[38;5;28;01mraise\u001b[39;00m ServerSelectionTimeoutError(\n\u001b[1;32m    304\u001b[0m         \u001b[38;5;124mf\u001b[39m\u001b[38;5;124m\"\u001b[39m\u001b[38;5;132;01m{\u001b[39;00m\u001b[38;5;28mself\u001b[39m\u001b[38;5;241m.\u001b[39m_error_message(selector)\u001b[38;5;132;01m}\u001b[39;00m\u001b[38;5;124m, Timeout: \u001b[39m\u001b[38;5;132;01m{\u001b[39;00mtimeout\u001b[38;5;132;01m}\u001b[39;00m\u001b[38;5;124ms, Topology Description: \u001b[39m\u001b[38;5;132;01m{\u001b[39;00m\u001b[38;5;28mself\u001b[39m\u001b[38;5;241m.\u001b[39mdescription\u001b[38;5;132;01m!r}\u001b[39;00m\u001b[38;5;124m\"\u001b[39m\n\u001b[1;32m    305\u001b[0m     )\n\u001b[1;32m    307\u001b[0m \u001b[38;5;28;01mif\u001b[39;00m \u001b[38;5;129;01mnot\u001b[39;00m logged_waiting:\n\u001b[1;32m    308\u001b[0m     _debug_log(\n\u001b[1;32m    309\u001b[0m         _SERVER_SELECTION_LOGGER,\n\u001b[1;32m    310\u001b[0m         message\u001b[38;5;241m=\u001b[39m_ServerSelectionStatusMessage\u001b[38;5;241m.\u001b[39mWAITING,\n\u001b[0;32m   (...)\u001b[0m\n\u001b[1;32m    316\u001b[0m         remainingTimeMS\u001b[38;5;241m=\u001b[39m\u001b[38;5;28mint\u001b[39m(end_time \u001b[38;5;241m-\u001b[39m time\u001b[38;5;241m.\u001b[39mmonotonic()),\n\u001b[1;32m    317\u001b[0m     )\n",
      "\u001b[0;31mServerSelectionTimeoutError\u001b[0m: 129.31.66.201:27017: timed out (configured timeouts: socketTimeoutMS: 20000.0ms, connectTimeoutMS: 20000.0ms), Timeout: 30s, Topology Description: <TopologyDescription id: 66a3a3b806b6a20e11cba9b2, topology_type: Unknown, servers: [<ServerDescription ('129.31.66.201', 27017) server_type: Unknown, rtt: None, error=NetworkTimeout('129.31.66.201:27017: timed out (configured timeouts: socketTimeoutMS: 20000.0ms, connectTimeoutMS: 20000.0ms)')>]>"
     ]
    }
   ],
   "source": [
    "# load the representation and the model \n",
    "\n",
    "from stk_search.Representation import  Representation_poly_3d\n",
    "import importlib\n",
    "importlib.reload(Representation_poly_3d)\n",
    "#config_dir = \"/rds/general/user/ma11115/home/STK_Search/STK_search/data/representation_learning/6-frag/target/240430/SchNet/splitrand-nummol68864/Emb_dim_12\"\n",
    "config_dir = \"data/representation_learning/6-frag/target/240724//SchNet/splitrand-nummol5000/\"\n",
    "config, min_val_loss = train_models.get_best_embedding_model(config_dir)\n",
    "\n",
    "Representation, pymodel = load_representation_model(config_dir)\n",
    "#representation.device = 'cpu'"
   ]
  },
  {
   "cell_type": "code",
   "execution_count": null,
   "metadata": {},
   "outputs": [
    {
     "name": "stdout",
     "output_type": "stream",
     "text": [
      "config loaded from /rds/general/user/ma11115/home/STK_Search/STK_search/data/representation_learning/6-frag/target/240430/SchNet/splitrand-nummol68864/Emb_dim_12\n"
     ]
    }
   ],
   "source": [
    "df_name = 'train'\n",
    "config = read_config(config_dir)\n",
    "df = pd.read_csv(config[\"running_dir\"] + f\"/df_{df_name}.csv\")\n",
    "df_train = df.sample(1000)\n",
    "df_elements_train = df_train[[f'InChIKey_{x}' for x in range(6)]]\n",
    "df_name = 'test'\n",
    "df_test = pd.read_csv(config[\"running_dir\"] + f\"/df_{df_name}.csv\")\n",
    "df_test = df_test.sample(1000)\n",
    "df_elements_test = df_test[[f'InChIKey_{x}' for x in range(6)]]\n",
    "df_name = 'val'\n",
    "df_val = pd.read_csv(config[\"running_dir\"] + f\"/df_{df_name}.csv\")\n",
    "df_val = df_val.sample(1000)\n",
    "df_elements_val = df_val[[f'InChIKey_{x}' for x in range(6)]]"
   ]
  },
  {
   "cell_type": "code",
   "execution_count": null,
   "metadata": {},
   "outputs": [
    {
     "data": {
      "application/vnd.jupyter.widget-view+json": {
       "model_id": "6fe380865c7d4376aab2821860b29c40",
       "version_major": 2,
       "version_minor": 0
      },
      "text/plain": [
       "Pandas Apply:   0%|          | 0/1000 [00:00<?, ?it/s]"
      ]
     },
     "metadata": {},
     "output_type": "display_data"
    },
    {
     "data": {
      "application/vnd.jupyter.widget-view+json": {
       "model_id": "2fe19d6f357341f5822476f5b3dc4471",
       "version_major": 2,
       "version_minor": 0
      },
      "text/plain": [
       "Pandas Apply:   0%|          | 0/1000 [00:00<?, ?it/s]"
      ]
     },
     "metadata": {},
     "output_type": "display_data"
    },
    {
     "data": {
      "application/vnd.jupyter.widget-view+json": {
       "model_id": "5e188b72bccc4af69ac884389152d5a8",
       "version_major": 2,
       "version_minor": 0
      },
      "text/plain": [
       "Pandas Apply:   0%|          | 0/1000 [00:00<?, ?it/s]"
      ]
     },
     "metadata": {},
     "output_type": "display_data"
    },
    {
     "data": {
      "application/vnd.jupyter.widget-view+json": {
       "model_id": "f35e916b23024fd5a80aa24ebbdb8d57",
       "version_major": 2,
       "version_minor": 0
      },
      "text/plain": [
       "Pandas Apply:   0%|          | 0/1000 [00:00<?, ?it/s]"
      ]
     },
     "metadata": {},
     "output_type": "display_data"
    },
    {
     "data": {
      "application/vnd.jupyter.widget-view+json": {
       "model_id": "d06795e0e3ec43de83a6993d23b4d45d",
       "version_major": 2,
       "version_minor": 0
      },
      "text/plain": [
       "Pandas Apply:   0%|          | 0/1000 [00:00<?, ?it/s]"
      ]
     },
     "metadata": {},
     "output_type": "display_data"
    },
    {
     "data": {
      "application/vnd.jupyter.widget-view+json": {
       "model_id": "ed868d0e12464b2aa7ba1fbfb0b4306a",
       "version_major": 2,
       "version_minor": 0
      },
      "text/plain": [
       "Pandas Apply:   0%|          | 0/1000 [00:00<?, ?it/s]"
      ]
     },
     "metadata": {},
     "output_type": "display_data"
    },
    {
     "data": {
      "image/png": "[encoded data removed]",
      "text/plain": [
       "<Figure size 640x480 with 1 Axes>"
      ]
     },
     "metadata": {},
     "output_type": "display_data"
    },
    {
     "name": "stdout",
     "output_type": "stream",
     "text": [
      "Training scores\n"
     ]
    }
   ],
   "source": [
    "def get_prediction_results(df_element):\n",
    "    with torch.no_grad():\n",
    "        X_rpr = Representation.generate_repr(df_element)\n",
    "        Y_pred = pymodel.graph_pred_linear(X_rpr).flatten(0).detach()\n",
    "    return Y_pred\n",
    "\n",
    "Y_pred_train = get_prediction_results(df_elements_train)\n",
    "Y_pred_test = get_prediction_results(df_elements_test)\n",
    "Y_pred_val = get_prediction_results(df_elements_val)\n",
    "\n",
    "Y_train = df_train['target'].values\n",
    "Y_test = df_test['target'].values\n",
    "Y_val = df_val['target'].values\n",
    "\n",
    "import matplotlib.pyplot as plt\n",
    "%matplotlib inline\n",
    "fig,ax = plt.subplots()\n",
    "ax.scatter(Y_train,Y_pred_train,label='train')  \n",
    "ax.scatter(Y_test,Y_pred_test,label='test')\n",
    "ax.scatter(Y_val,Y_pred_val,label='val')\n",
    "ax.set_xlabel(\"True target\")\n",
    "ax.set_ylabel(\"Predicted target\")\n",
    "ax.legend()\n",
    "plt.show()\n",
    "# print training scores\n",
    "print(\"Training scores\")\n",
    "\n"
   ]
  },
  {
   "cell_type": "code",
   "execution_count": null,
   "metadata": {},
   "outputs": [
    {
     "name": "stdout",
     "output_type": "stream",
     "text": [
      "MSE train: 0.41741392266360355, MAE train: 0.4676972189322651, R2 train: 0.5379552830780119\n",
      "MSE test: 0.15488473709521342, MAE test: 0.32240911147765006, R2 test: -31.378035371730427\n",
      "MSE val: 0.4015274467785838, MAE val: 0.4712140871078302, R2 val: 0.5621482989066203\n"
     ]
    }
   ],
   "source": [
    "def get_scores(Y_pred,Y_true):\n",
    "    from sklearn.metrics import mean_squared_error, mean_absolute_error, r2_score\n",
    "    mse = mean_squared_error(Y_true,Y_pred)\n",
    "    mae = mean_absolute_error(Y_true,Y_pred)\n",
    "    R2 = r2_score(Y_true,Y_pred)\n",
    "\n",
    "    return mse,mae, R2\n",
    "mse_train,mae_train, R2_train = get_scores(Y_pred_train,Y_train)\n",
    "mse_test,mae_test, R2_test = get_scores(Y_pred_test,Y_test)\n",
    "mse_val,mae_val, R2_val = get_scores(Y_pred_val,Y_val)\n",
    "print(f\"MSE train: {mse_train}, MAE train: {mae_train}, R2 train: {R2_train}\")\n",
    "print(f\"MSE test: {mse_test}, MAE test: {mae_test}, R2 test: {R2_test}\")\n",
    "print(f\"MSE val: {mse_val}, MAE val: {mae_val}, R2 val: {R2_val}\")"
   ]
  },
  {
   "cell_type": "code",
   "execution_count": null,
   "metadata": {},
   "outputs": [],
   "source": []
  }
 ],
 "metadata": {
  "kernelspec": {
   "display_name": "stk_search",
   "language": "python",
   "name": "python3"
  },
  "language_info": {
   "codemirror_mode": {
    "name": "ipython",
    "version": 3
   },
   "file_extension": ".py",
   "mimetype": "text/x-python",
   "name": "python",
   "nbconvert_exporter": "python",
   "pygments_lexer": "ipython3",
   "version": "3.10.14"
  }
 },
 "nbformat": 4,
 "nbformat_minor": 2
}
