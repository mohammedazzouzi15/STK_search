{
 "cells": [
  {
   "cell_type": "code",
   "execution_count": 1,
   "metadata": {},
   "outputs": [
    {
     "data": {
      "text/plain": [
       "<module 'stk_search.utils.config_utils' from '/media/mohammed/Work/STK_search/src/stk_search/utils/config_utils.py'>"
      ]
     },
     "execution_count": 1,
     "metadata": {},
     "output_type": "execute_result"
    }
   ],
   "source": [
    "import importlib\n",
    "import os\n",
    "from pathlib import Path\n",
    "\n",
    "import numpy as np\n",
    "import pandas as pd\n",
    "import torch\n",
    "\n",
    "from stk_search.utils import config_utils, update_datasets\n",
    "from stk_search.utils.config_utils import read_config, save_config\n",
    "\n",
    "importlib.reload(config_utils)"
   ]
  },
  {
   "cell_type": "code",
   "execution_count": 2,
   "metadata": {},
   "outputs": [],
   "source": [
    "#Helper function to split the dataset\n",
    "from stk_search.geom3d import polymer_GNN_architecture_utils\n",
    "\n",
    "\n",
    "def check_building_block_present(df_total_path_new,config_dir):\n",
    "    df_total = pd.read_csv(df_total_path_new,low_memory=False)\n",
    "    config = read_config(config_dir)\n",
    "    bbs_dict = polymer_GNN_architecture_utils.get_bbs_dict(\n",
    "        config[\"pymongo_client\"] , config[\"precursor_database_name\"]\n",
    "    )\n",
    "    bbs_dict\n",
    "    # check df_total has inchikey in bb_dict\n",
    "    for i in range(6):\n",
    "        df_total = df_total[df_total[f\"InChIKey_{i}\"].isin(bbs_dict.keys())]\n",
    "    df_total.to_csv(df_total_path_new, index=False)\n",
    "    return df_total\n",
    "\n",
    "def do_random_split(config,hide_best_molecules=True):\n",
    "    df_path = Path(\n",
    "            config[\"df_total\"]\n",
    "        )\n",
    "    if os.path.isfile(df_path):\n",
    "        df = pd.read_csv(df_path,low_memory=False)\n",
    "    else:\n",
    "        print(\"No dataframe found, will resort in a random split from the data in the database\")\n",
    "    def topk_split(topkmol, df,num_molecules_dataset=5000,target_name=\"target\",hide_best_molecules=hide_best_molecules):\n",
    "        min_target_out_of_database = -np.sort(-df[target_name].values)[topkmol]\n",
    "        df_test = df[df[target_name]>=min_target_out_of_database]\n",
    "        if hide_best_molecules:\n",
    "            df_train = df[df[target_name]<min_target_out_of_database]\n",
    "        else:\n",
    "            df_train = df.copy()\n",
    "            print(df_train.shape[0])\n",
    "        # add random element from df to the test set\n",
    "        #df_test_random = df.sample(n=1000, random_state=1)\n",
    "        #df_test = pd.concat([df_test, df_test_random])\n",
    "        df_test.reset_index(drop=True, inplace=True)\n",
    "        list_col = [f\"InChIKey_{x}\" for x in range(6)]\n",
    "        list_col.append(target_name)\n",
    "        list_col.append(\"InChIKey\")\n",
    "        df_train = df_train[list_col]\n",
    "        df_train = df_train[~df_train[\"InChIKey\"].isin(df_test[\"InChIKey\"])]\n",
    "        if num_molecules_dataset>df_train.shape[0]:\n",
    "            print(\"Warning: the number of molecules in the dataset is smaller than the number of molecules requested\")\n",
    "            num_molecules_dataset = df_train.shape[0]\n",
    "        df_train = df_train.sample(num_molecules_dataset)\n",
    "        df_val = df_train.sample(frac=0.1, random_state=1)\n",
    "        df_train = df_train[~df_train[\"InChIKey\"].isin(df_val[\"InChIKey\"])]\n",
    "        df_train.reset_index(drop=True, inplace=True)\n",
    "        df_val.reset_index(drop=True, inplace=True)\n",
    "        return df_train, df_val, df_test\n",
    "    topKmol = int(df.shape[0]*0.01)\n",
    "    df_train, df_val, df_test = topk_split(topKmol, df,config[\"num_molecules\"],config[\"target_name\"],hide_best_molecules=hide_best_molecules)\n",
    "    config_dir= config[\"running_dir\"]\n",
    "    df_train.to_csv(config_dir + \"df_train.csv\", index=False)\n",
    "    df_val.to_csv(config_dir + \"df_val.csv\", index=False)\n",
    "    df_test.to_csv(config_dir + \"df_test.csv\", index=False)\n",
    "    for key in [\"df_train\",\"df_val\",\"df_test\"]:\n",
    "        check_building_block_present(config_dir + key + \".csv\",config_dir)\n",
    "    return df_train, df_val, df_test\n",
    "\n"
   ]
  },
  {
   "cell_type": "code",
   "execution_count": 3,
   "metadata": {},
   "outputs": [
    {
     "name": "stdout",
     "output_type": "stream",
     "text": [
      "30000\n"
     ]
    },
    {
     "data": {
      "text/html": [
       "<div>\n",
       "<style scoped>\n",
       "    .dataframe tbody tr th:only-of-type {\n",
       "        vertical-align: middle;\n",
       "    }\n",
       "\n",
       "    .dataframe tbody tr th {\n",
       "        vertical-align: top;\n",
       "    }\n",
       "\n",
       "    .dataframe thead th {\n",
       "        text-align: right;\n",
       "    }\n",
       "</style>\n",
       "<table border=\"1\" class=\"dataframe\">\n",
       "  <thead>\n",
       "    <tr style=\"text-align: right;\">\n",
       "      <th></th>\n",
       "      <th>InChIKey</th>\n",
       "      <th>InChIKey_0</th>\n",
       "      <th>InChIKey_1</th>\n",
       "      <th>InChIKey_2</th>\n",
       "      <th>InChIKey_3</th>\n",
       "      <th>InChIKey_4</th>\n",
       "      <th>InChIKey_5</th>\n",
       "      <th>num_BB</th>\n",
       "      <th>_id_x</th>\n",
       "      <th>Host IP_x</th>\n",
       "      <th>...</th>\n",
       "      <th>Excited state energy (eV)</th>\n",
       "      <th>Excited state oscillator strength</th>\n",
       "      <th>Host IP_y</th>\n",
       "      <th>cal_folder_y</th>\n",
       "      <th>ES1</th>\n",
       "      <th>fosc1</th>\n",
       "      <th>target</th>\n",
       "      <th>2d_tani_pca_1</th>\n",
       "      <th>2d_tani_pca_2</th>\n",
       "      <th>PCA1</th>\n",
       "    </tr>\n",
       "  </thead>\n",
       "  <tbody>\n",
       "    <tr>\n",
       "      <th>0</th>\n",
       "      <td>CLUOOVKTWZALSH-UHFFFAOYSA-N</td>\n",
       "      <td>PNLCAIFEPYYUCC-UHFFFAOYSA-N</td>\n",
       "      <td>PNLCAIFEPYYUCC-UHFFFAOYSA-N</td>\n",
       "      <td>PNLCAIFEPYYUCC-UHFFFAOYSA-N</td>\n",
       "      <td>PNLCAIFEPYYUCC-UHFFFAOYSA-N</td>\n",
       "      <td>PNLCAIFEPYYUCC-UHFFFAOYSA-N</td>\n",
       "      <td>PNLCAIFEPYYUCC-UHFFFAOYSA-N</td>\n",
       "      <td>6.0</td>\n",
       "      <td>64d3e7f254f281add0b79e3b</td>\n",
       "      <td>129.31.64.208</td>\n",
       "      <td>...</td>\n",
       "      <td>[3.994, 4.042, 4.08, 4.086, 4.117, 4.135, 4.53...</td>\n",
       "      <td>[0.1243, 0.153, 1.1697, 0.0908, 0.0574, 0.225,...</td>\n",
       "      <td>129.31.64.208</td>\n",
       "      <td>/media/storage-jelfscompute4/ma11115/Database_...</td>\n",
       "      <td>3.994</td>\n",
       "      <td>0.1243</td>\n",
       "      <td>-2.507029</td>\n",
       "      <td>-1.481492</td>\n",
       "      <td>-0.711649</td>\n",
       "      <td>-1.481492</td>\n",
       "    </tr>\n",
       "    <tr>\n",
       "      <th>1</th>\n",
       "      <td>FIAQXLPLTBETIQ-UHFFFAOYSA-N</td>\n",
       "      <td>PNLCAIFEPYYUCC-UHFFFAOYSA-N</td>\n",
       "      <td>PNLCAIFEPYYUCC-UHFFFAOYSA-N</td>\n",
       "      <td>PNLCAIFEPYYUCC-UHFFFAOYSA-N</td>\n",
       "      <td>PNLCAIFEPYYUCC-UHFFFAOYSA-N</td>\n",
       "      <td>PNLCAIFEPYYUCC-UHFFFAOYSA-N</td>\n",
       "      <td>DNHRBCFMFYOUKM-UHFFFAOYSA-N</td>\n",
       "      <td>6.0</td>\n",
       "      <td>64d2671054f281add0ab9f7d</td>\n",
       "      <td>unknown</td>\n",
       "      <td>...</td>\n",
       "      <td>[3.97, 3.993, 4.033, 4.048, 4.1, 4.468, 4.493,...</td>\n",
       "      <td>[0.1121, 0.7001, 0.151, 0.2114, 0.4041, 0.0137...</td>\n",
       "      <td>NaN</td>\n",
       "      <td>NaN</td>\n",
       "      <td>3.970</td>\n",
       "      <td>0.1121</td>\n",
       "      <td>-2.572794</td>\n",
       "      <td>-1.426185</td>\n",
       "      <td>-0.714994</td>\n",
       "      <td>-1.426185</td>\n",
       "    </tr>\n",
       "    <tr>\n",
       "      <th>2</th>\n",
       "      <td>BPPOMYWNHKZIDY-UHFFFAOYSA-N</td>\n",
       "      <td>PNLCAIFEPYYUCC-UHFFFAOYSA-N</td>\n",
       "      <td>PNLCAIFEPYYUCC-UHFFFAOYSA-N</td>\n",
       "      <td>PNLCAIFEPYYUCC-UHFFFAOYSA-N</td>\n",
       "      <td>PNLCAIFEPYYUCC-UHFFFAOYSA-N</td>\n",
       "      <td>PNLCAIFEPYYUCC-UHFFFAOYSA-N</td>\n",
       "      <td>UANFRSYASSMVLC-UHFFFAOYSA-N</td>\n",
       "      <td>6.0</td>\n",
       "      <td>64d3d12454f281add0b6e27c</td>\n",
       "      <td>129.31.64.208</td>\n",
       "      <td>...</td>\n",
       "      <td>[3.309, 3.524, 3.539, 3.801, 3.968, 4.022, 4.0...</td>\n",
       "      <td>[0.0925, 0.0002, 0.0114, 0.0521, 0.0396, 0.962...</td>\n",
       "      <td>129.31.64.208</td>\n",
       "      <td>/media/storage-jelfscompute4/ma11115/Database_...</td>\n",
       "      <td>3.309</td>\n",
       "      <td>0.0925</td>\n",
       "      <td>-2.049258</td>\n",
       "      <td>-1.211625</td>\n",
       "      <td>-0.677382</td>\n",
       "      <td>-1.211625</td>\n",
       "    </tr>\n",
       "    <tr>\n",
       "      <th>3</th>\n",
       "      <td>VHLADBSIMMJWOE-UHFFFAOYSA-N</td>\n",
       "      <td>UANFRSYASSMVLC-UHFFFAOYSA-N</td>\n",
       "      <td>VQAFMTSSCUETHA-UHFFFAOYSA-N</td>\n",
       "      <td>PNLCAIFEPYYUCC-UHFFFAOYSA-N</td>\n",
       "      <td>VQAFMTSSCUETHA-UHFFFAOYSA-N</td>\n",
       "      <td>VQAFMTSSCUETHA-UHFFFAOYSA-N</td>\n",
       "      <td>VQAFMTSSCUETHA-UHFFFAOYSA-N</td>\n",
       "      <td>6.0</td>\n",
       "      <td>64d34e7654f281add0abce29</td>\n",
       "      <td>unknown</td>\n",
       "      <td>...</td>\n",
       "      <td>[3.415, 3.456, 3.562, 3.583, 3.615, 3.646, 3.6...</td>\n",
       "      <td>[0.0005, 0.0009, 0.0036, 0.0078, 0.0043, 0.011...</td>\n",
       "      <td>NaN</td>\n",
       "      <td>NaN</td>\n",
       "      <td>3.415</td>\n",
       "      <td>0.0005</td>\n",
       "      <td>-4.742130</td>\n",
       "      <td>-0.877781</td>\n",
       "      <td>-1.337407</td>\n",
       "      <td>-0.877781</td>\n",
       "    </tr>\n",
       "    <tr>\n",
       "      <th>4</th>\n",
       "      <td>DUPCULAXVLTLBX-UHFFFAOYSA-N</td>\n",
       "      <td>GKKUHQQNQBVLSW-UHFFFAOYSA-N</td>\n",
       "      <td>PNLCAIFEPYYUCC-UHFFFAOYSA-N</td>\n",
       "      <td>PNLCAIFEPYYUCC-UHFFFAOYSA-N</td>\n",
       "      <td>PNLCAIFEPYYUCC-UHFFFAOYSA-N</td>\n",
       "      <td>UANFRSYASSMVLC-UHFFFAOYSA-N</td>\n",
       "      <td>DNHRBCFMFYOUKM-UHFFFAOYSA-N</td>\n",
       "      <td>6.0</td>\n",
       "      <td>64d34ec654f281add0abcfc5</td>\n",
       "      <td>unknown</td>\n",
       "      <td>...</td>\n",
       "      <td>[2.841, 3.339, 3.483, 3.544, 3.685, 3.857, 3.8...</td>\n",
       "      <td>[0.3302, 0.0721, 0.0038, 0.0144, 0.2322, 0.102...</td>\n",
       "      <td>NaN</td>\n",
       "      <td>NaN</td>\n",
       "      <td>2.841</td>\n",
       "      <td>0.3302</td>\n",
       "      <td>-1.628323</td>\n",
       "      <td>-1.224275</td>\n",
       "      <td>-0.606765</td>\n",
       "      <td>-1.224275</td>\n",
       "    </tr>\n",
       "  </tbody>\n",
       "</table>\n",
       "<p>5 rows × 27 columns</p>\n",
       "</div>"
      ],
      "text/plain": [
       "                      InChIKey                   InChIKey_0  \\\n",
       "0  CLUOOVKTWZALSH-UHFFFAOYSA-N  PNLCAIFEPYYUCC-UHFFFAOYSA-N   \n",
       "1  FIAQXLPLTBETIQ-UHFFFAOYSA-N  PNLCAIFEPYYUCC-UHFFFAOYSA-N   \n",
       "2  BPPOMYWNHKZIDY-UHFFFAOYSA-N  PNLCAIFEPYYUCC-UHFFFAOYSA-N   \n",
       "3  VHLADBSIMMJWOE-UHFFFAOYSA-N  UANFRSYASSMVLC-UHFFFAOYSA-N   \n",
       "4  DUPCULAXVLTLBX-UHFFFAOYSA-N  GKKUHQQNQBVLSW-UHFFFAOYSA-N   \n",
       "\n",
       "                    InChIKey_1                   InChIKey_2  \\\n",
       "0  PNLCAIFEPYYUCC-UHFFFAOYSA-N  PNLCAIFEPYYUCC-UHFFFAOYSA-N   \n",
       "1  PNLCAIFEPYYUCC-UHFFFAOYSA-N  PNLCAIFEPYYUCC-UHFFFAOYSA-N   \n",
       "2  PNLCAIFEPYYUCC-UHFFFAOYSA-N  PNLCAIFEPYYUCC-UHFFFAOYSA-N   \n",
       "3  VQAFMTSSCUETHA-UHFFFAOYSA-N  PNLCAIFEPYYUCC-UHFFFAOYSA-N   \n",
       "4  PNLCAIFEPYYUCC-UHFFFAOYSA-N  PNLCAIFEPYYUCC-UHFFFAOYSA-N   \n",
       "\n",
       "                    InChIKey_3                   InChIKey_4  \\\n",
       "0  PNLCAIFEPYYUCC-UHFFFAOYSA-N  PNLCAIFEPYYUCC-UHFFFAOYSA-N   \n",
       "1  PNLCAIFEPYYUCC-UHFFFAOYSA-N  PNLCAIFEPYYUCC-UHFFFAOYSA-N   \n",
       "2  PNLCAIFEPYYUCC-UHFFFAOYSA-N  PNLCAIFEPYYUCC-UHFFFAOYSA-N   \n",
       "3  VQAFMTSSCUETHA-UHFFFAOYSA-N  VQAFMTSSCUETHA-UHFFFAOYSA-N   \n",
       "4  PNLCAIFEPYYUCC-UHFFFAOYSA-N  UANFRSYASSMVLC-UHFFFAOYSA-N   \n",
       "\n",
       "                    InChIKey_5  num_BB                     _id_x  \\\n",
       "0  PNLCAIFEPYYUCC-UHFFFAOYSA-N     6.0  64d3e7f254f281add0b79e3b   \n",
       "1  DNHRBCFMFYOUKM-UHFFFAOYSA-N     6.0  64d2671054f281add0ab9f7d   \n",
       "2  UANFRSYASSMVLC-UHFFFAOYSA-N     6.0  64d3d12454f281add0b6e27c   \n",
       "3  VQAFMTSSCUETHA-UHFFFAOYSA-N     6.0  64d34e7654f281add0abce29   \n",
       "4  DNHRBCFMFYOUKM-UHFFFAOYSA-N     6.0  64d34ec654f281add0abcfc5   \n",
       "\n",
       "       Host IP_x  ...                          Excited state energy (eV)  \\\n",
       "0  129.31.64.208  ...  [3.994, 4.042, 4.08, 4.086, 4.117, 4.135, 4.53...   \n",
       "1        unknown  ...  [3.97, 3.993, 4.033, 4.048, 4.1, 4.468, 4.493,...   \n",
       "2  129.31.64.208  ...  [3.309, 3.524, 3.539, 3.801, 3.968, 4.022, 4.0...   \n",
       "3        unknown  ...  [3.415, 3.456, 3.562, 3.583, 3.615, 3.646, 3.6...   \n",
       "4        unknown  ...  [2.841, 3.339, 3.483, 3.544, 3.685, 3.857, 3.8...   \n",
       "\n",
       "                   Excited state oscillator strength      Host IP_y  \\\n",
       "0  [0.1243, 0.153, 1.1697, 0.0908, 0.0574, 0.225,...  129.31.64.208   \n",
       "1  [0.1121, 0.7001, 0.151, 0.2114, 0.4041, 0.0137...            NaN   \n",
       "2  [0.0925, 0.0002, 0.0114, 0.0521, 0.0396, 0.962...  129.31.64.208   \n",
       "3  [0.0005, 0.0009, 0.0036, 0.0078, 0.0043, 0.011...            NaN   \n",
       "4  [0.3302, 0.0721, 0.0038, 0.0144, 0.2322, 0.102...            NaN   \n",
       "\n",
       "                                        cal_folder_y    ES1   fosc1    target  \\\n",
       "0  /media/storage-jelfscompute4/ma11115/Database_...  3.994  0.1243 -2.507029   \n",
       "1                                                NaN  3.970  0.1121 -2.572794   \n",
       "2  /media/storage-jelfscompute4/ma11115/Database_...  3.309  0.0925 -2.049258   \n",
       "3                                                NaN  3.415  0.0005 -4.742130   \n",
       "4                                                NaN  2.841  0.3302 -1.628323   \n",
       "\n",
       "  2d_tani_pca_1 2d_tani_pca_2      PCA1  \n",
       "0     -1.481492     -0.711649 -1.481492  \n",
       "1     -1.426185     -0.714994 -1.426185  \n",
       "2     -1.211625     -0.677382 -1.211625  \n",
       "3     -0.877781     -1.337407 -0.877781  \n",
       "4     -1.224275     -0.606765 -1.224275  \n",
       "\n",
       "[5 rows x 27 columns]"
      ]
     },
     "execution_count": 3,
     "metadata": {},
     "output_type": "execute_result"
    }
   ],
   "source": [
    "# load the database to learn from\n",
    "df_total_path = \"data_example/Molecule_database/30K_benchmark_150524.csv\"\n",
    "df_total = pd.read_csv(df_total_path,low_memory=False)\n",
    "print(df_total.shape[0])\n",
    "df_total.head() "
   ]
  },
  {
   "cell_type": "code",
   "execution_count": 4,
   "metadata": {},
   "outputs": [],
   "source": [
    "\n",
    "importlib.reload(update_datasets)\n",
    "importlib.reload(config_utils)\n",
    "config_dir_list = []\n",
    "pymongo_client = \"mongodb://localhost:27017/\"\n",
    "for num_molecules in [5000]:\n",
    "    config = config_utils.generate_config(\n",
    "        num_molecules=num_molecules, df_path=df_total_path, max_epochs=200,\n",
    "        target_name = \"target\", \n",
    "        running_dir = \"data_example/representation_learning/\",\n",
    "    )\n",
    "    config[\"pymongo_client\"] = pymongo_client\n",
    "    config[\"database_name\"] = \"stk_constructed\"\n",
    "    config[\"df_precursor\"] = \"data_example/precursor/df_properties.pkl\"\n",
    "    config[\"ephemeral_path\"] = \"data_example/representation_learning/ephemeral/Random_split/\"\n",
    "    config[\"max_epochs\"] = 10\n",
    "    config[\"precursor_database_name\"] = \"stk_precursor\"\n",
    "    config_dir= config[\"running_dir\"]\n",
    "    save_config(config,config_dir)\n",
    "    if config[\"split_type\"] == \"rand\":\n",
    "        df_train, df_val, df_test = do_random_split(config,hide_best_molecules=True)\n",
    "    \n",
    "    config_dir_list.append(config_dir)"
   ]
  },
  {
   "cell_type": "code",
   "execution_count": 5,
   "metadata": {},
   "outputs": [
    {
     "data": {
      "text/plain": [
       "'data_example/representation_learning//6-frag/target/241101//SchNet/splitrand-nummol5000/'"
      ]
     },
     "execution_count": 5,
     "metadata": {},
     "output_type": "execute_result"
    }
   ],
   "source": [
    "config_dir"
   ]
  },
  {
   "cell_type": "code",
   "execution_count": null,
   "metadata": {},
   "outputs": [
    {
     "name": "stderr",
     "output_type": "stream",
     "text": [
      "Failed to detect the name of this notebook, you can set it manually with the WANDB_NOTEBOOK_NAME environment variable to enable code saving.\n",
      "\u001b[34m\u001b[1mwandb\u001b[0m: Currently logged in as: \u001b[33mmohammed-azzouzi15\u001b[0m (\u001b[33mazzouzi_lab\u001b[0m). Use \u001b[1m`wandb login --relogin`\u001b[0m to force relogin\n"
     ]
    },
    {
     "data": {
      "text/html": [
       "wandb version 0.18.5 is available!  To upgrade, please run:\n",
       " $ pip install wandb --upgrade"
      ],
      "text/plain": [
       "<IPython.core.display.HTML object>"
      ]
     },
     "metadata": {},
     "output_type": "display_data"
    },
    {
     "data": {
      "text/html": [
       "Tracking run with wandb version 0.17.7"
      ],
      "text/plain": [
       "<IPython.core.display.HTML object>"
      ]
     },
     "metadata": {},
     "output_type": "display_data"
    },
    {
     "data": {
      "text/html": [
       "Run data is saved locally in <code>./wandb/run-20241101_154904-0llaw6ei</code>"
      ],
      "text/plain": [
       "<IPython.core.display.HTML object>"
      ]
     },
     "metadata": {},
     "output_type": "display_data"
    },
    {
     "data": {
      "text/html": [
       "Syncing run <strong><a href='https://wandb.ai/azzouzi_lab/6-frag_target_241101/runs/0llaw6ei' target=\"_blank\">SchNet_splitrand-nummol5000</a></strong> to <a href='https://wandb.ai/azzouzi_lab/6-frag_target_241101' target=\"_blank\">Weights & Biases</a> (<a href='https://wandb.me/run' target=\"_blank\">docs</a>)<br/>"
      ],
      "text/plain": [
       "<IPython.core.display.HTML object>"
      ]
     },
     "metadata": {},
     "output_type": "display_data"
    },
    {
     "data": {
      "text/html": [
       " View project at <a href='https://wandb.ai/azzouzi_lab/6-frag_target_241101' target=\"_blank\">https://wandb.ai/azzouzi_lab/6-frag_target_241101</a>"
      ],
      "text/plain": [
       "<IPython.core.display.HTML object>"
      ]
     },
     "metadata": {},
     "output_type": "display_data"
    },
    {
     "data": {
      "text/html": [
       " View run at <a href='https://wandb.ai/azzouzi_lab/6-frag_target_241101/runs/0llaw6ei' target=\"_blank\">https://wandb.ai/azzouzi_lab/6-frag_target_241101/runs/0llaw6ei</a>"
      ],
      "text/plain": [
       "<IPython.core.display.HTML object>"
      ]
     },
     "metadata": {},
     "output_type": "display_data"
    },
    {
     "name": "stderr",
     "output_type": "stream",
     "text": [
      "GPU available: True (cuda), used: True\n",
      "TPU available: False, using: 0 TPU cores\n",
      "HPU available: False, using: 0 HPUs\n",
      "`Trainer(val_check_interval=1.0)` was configured so validation will run at the end of the training epoch..\n",
      "You are using a CUDA device ('NVIDIA GeForce RTX 4090') that has Tensor Cores. To properly utilize them, you should set `torch.set_float32_matmul_precision('medium' | 'high')` which will trade-off precision for performance. For more details, read https://pytorch.org/docs/stable/generated/torch.set_float32_matmul_precision.html#torch.set_float32_matmul_precision\n",
      "/media/mohammed/Work/anaconda3/envs/stk_search/lib/python3.8/site-packages/lightning/pytorch/callbacks/model_checkpoint.py:652: Checkpoint directory /media/mohammed/Work/STK_search/Example_notebooks/data_example/representation_learning/6-frag/target/241101/SchNet/splitrand-nummol5000 exists and is not empty.\n",
      "LOCAL_RANK: 0 - CUDA_VISIBLE_DEVICES: [0]\n",
      "\n",
      "  | Name              | Type   | Params | Mode \n",
      "-----------------------------------------------------\n",
      "0 | molecule_3D_repr  | SchNet | 628 K  | train\n",
      "1 | graph_pred_linear | Linear | 129    | train\n",
      "2 | transform_to_opt  | Linear | 16.5 K | train\n",
      "-----------------------------------------------------\n",
      "645 K     Trainable params\n",
      "0         Non-trainable params\n",
      "645 K     Total params\n",
      "2.582     Total estimated model params size (MB)\n"
     ]
    },
    {
     "data": {
      "application/vnd.jupyter.widget-view+json": {
       "model_id": "f1d663dc1dcc461cb93e7f1a3cc5d8e0",
       "version_major": 2,
       "version_minor": 0
      },
      "text/plain": [
       "Sanity Checking: |          | 0/? [00:00<?, ?it/s]"
      ]
     },
     "metadata": {},
     "output_type": "display_data"
    },
    {
     "name": "stderr",
     "output_type": "stream",
     "text": [
      "/media/mohammed/Work/anaconda3/envs/stk_search/lib/python3.8/site-packages/lightning/pytorch/trainer/connectors/data_connector.py:475: Your `val_dataloader`'s sampler has shuffling enabled, it is strongly recommended that you turn shuffling off for val/test dataloaders.\n",
      "/media/mohammed/Work/anaconda3/envs/stk_search/lib/python3.8/site-packages/lightning/pytorch/trainer/connectors/data_connector.py:424: The 'val_dataloader' does not have many workers which may be a bottleneck. Consider increasing the value of the `num_workers` argument` to `num_workers=31` in the `DataLoader` to improve performance.\n",
      "/media/mohammed/Work/anaconda3/envs/stk_search/lib/python3.8/site-packages/lightning/pytorch/trainer/connectors/data_connector.py:424: The 'train_dataloader' does not have many workers which may be a bottleneck. Consider increasing the value of the `num_workers` argument` to `num_workers=31` in the `DataLoader` to improve performance.\n"
     ]
    },
    {
     "data": {
      "application/vnd.jupyter.widget-view+json": {
       "model_id": "960ceebe01c347e4a866205d8d10eec1",
       "version_major": 2,
       "version_minor": 0
      },
      "text/plain": [
       "Training: |          | 0/? [00:00<?, ?it/s]"
      ]
     },
     "metadata": {},
     "output_type": "display_data"
    },
    {
     "data": {
      "application/vnd.jupyter.widget-view+json": {
       "model_id": "6a8c7ce5574144ffbb3b7d27b7b4261a",
       "version_major": 2,
       "version_minor": 0
      },
      "text/plain": [
       "Validation: |          | 0/? [00:00<?, ?it/s]"
      ]
     },
     "metadata": {},
     "output_type": "display_data"
    },
    {
     "data": {
      "application/vnd.jupyter.widget-view+json": {
       "model_id": "29764b7c7a424c878b4b467afa07177e",
       "version_major": 2,
       "version_minor": 0
      },
      "text/plain": [
       "Validation: |          | 0/? [00:00<?, ?it/s]"
      ]
     },
     "metadata": {},
     "output_type": "display_data"
    },
    {
     "data": {
      "application/vnd.jupyter.widget-view+json": {
       "model_id": "a5c5e2f9f12f4d14bf604604c13de2b1",
       "version_major": 2,
       "version_minor": 0
      },
      "text/plain": [
       "Validation: |          | 0/? [00:00<?, ?it/s]"
      ]
     },
     "metadata": {},
     "output_type": "display_data"
    },
    {
     "data": {
      "application/vnd.jupyter.widget-view+json": {
       "model_id": "91b991157ed44c82a6eb16892dc39a06",
       "version_major": 2,
       "version_minor": 0
      },
      "text/plain": [
       "Validation: |          | 0/? [00:00<?, ?it/s]"
      ]
     },
     "metadata": {},
     "output_type": "display_data"
    },
    {
     "data": {
      "application/vnd.jupyter.widget-view+json": {
       "model_id": "6656898715684bc88b16718c793f09b1",
       "version_major": 2,
       "version_minor": 0
      },
      "text/plain": [
       "Validation: |          | 0/? [00:00<?, ?it/s]"
      ]
     },
     "metadata": {},
     "output_type": "display_data"
    },
    {
     "data": {
      "application/vnd.jupyter.widget-view+json": {
       "model_id": "65ed1b1c96374c728ed5d51a95222724",
       "version_major": 2,
       "version_minor": 0
      },
      "text/plain": [
       "Validation: |          | 0/? [00:00<?, ?it/s]"
      ]
     },
     "metadata": {},
     "output_type": "display_data"
    },
    {
     "data": {
      "application/vnd.jupyter.widget-view+json": {
       "model_id": "a108c33875f94ef3a5009c6ac8883575",
       "version_major": 2,
       "version_minor": 0
      },
      "text/plain": [
       "Validation: |          | 0/? [00:00<?, ?it/s]"
      ]
     },
     "metadata": {},
     "output_type": "display_data"
    },
    {
     "data": {
      "application/vnd.jupyter.widget-view+json": {
       "model_id": "146b528db29f41d2ac2ceaf87863bff8",
       "version_major": 2,
       "version_minor": 0
      },
      "text/plain": [
       "Validation: |          | 0/? [00:00<?, ?it/s]"
      ]
     },
     "metadata": {},
     "output_type": "display_data"
    },
    {
     "data": {
      "application/vnd.jupyter.widget-view+json": {
       "model_id": "4257adc3bf034d06a01785d9b41aa5d5",
       "version_major": 2,
       "version_minor": 0
      },
      "text/plain": [
       "Validation: |          | 0/? [00:00<?, ?it/s]"
      ]
     },
     "metadata": {},
     "output_type": "display_data"
    },
    {
     "data": {
      "application/vnd.jupyter.widget-view+json": {
       "model_id": "14971fa014eb4bff83a17403ba11a20a",
       "version_major": 2,
       "version_minor": 0
      },
      "text/plain": [
       "Validation: |          | 0/? [00:00<?, ?it/s]"
      ]
     },
     "metadata": {},
     "output_type": "display_data"
    },
    {
     "name": "stderr",
     "output_type": "stream",
     "text": [
      "`Trainer.fit` stopped: `max_epochs=10` reached.\n"
     ]
    },
    {
     "data": {
      "application/vnd.jupyter.widget-view+json": {
       "model_id": "ce43615270dc45b98cdf52906ea09385",
       "version_major": 2,
       "version_minor": 0
      },
      "text/plain": [
       "VBox(children=(Label(value='7.501 MB of 7.501 MB uploaded\\r'), FloatProgress(value=1.0, max=1.0)))"
      ]
     },
     "metadata": {},
     "output_type": "display_data"
    },
    {
     "data": {
      "text/html": [
       "<style>\n",
       "    table.wandb td:nth-child(1) { padding: 0 10px; text-align: left ; width: auto;} td:nth-child(2) {text-align: left ; width: 100%}\n",
       "    .wandb-row { display: flex; flex-direction: row; flex-wrap: wrap; justify-content: flex-start; width: 100% }\n",
       "    .wandb-col { display: flex; flex-direction: column; flex-basis: 100%; flex: 1; padding: 10px; }\n",
       "    </style>\n",
       "<div class=\"wandb-row\"><div class=\"wandb-col\"><h3>Run history:</h3><br/><table class=\"wandb\"><tr><td>epoch</td><td>▁▁▁▁▂▂▂▂▃▃▃▃▃▃▃▃▄▄▄▄▅▅▅▅▆▆▆▆▆▆▆▆▇▇▇▇████</td></tr><tr><td>lr</td><td>██▇▇▆▄▃▂▂▁</td></tr><tr><td>train_loss</td><td>██▅▃▂▃▃▄▂▅▃▄▃▃▁▂▃▃▃▃▄▂▄▂▃▂▁▂▁▂▂▆▁▂▂▃▂▂▁▁</td></tr><tr><td>train_loss_repr</td><td>█▃▂▁▁▁▁▁▁▁▁▁▁▁▁▁▁▁▁▁▁▁▁▁▁▁▁▁▁▁▁▁▁▁▁▁▁▁▁▁</td></tr><tr><td>train_loss_target</td><td>▆█▆▄▂▄▃▄▂▆▃▄▃▃▁▂▃▃▃▃▄▃▅▂▄▂▁▂▁▂▃▆▁▂▂▄▂▂▁▁</td></tr><tr><td>trainer/global_step</td><td>▁▁▁▂▂▂▂▂▂▃▃▃▃▃▃▄▄▄▄▄▅▅▅▅▅▅▆▆▆▆▆▇▇▇▇▇▇███</td></tr><tr><td>val_loss</td><td>█▅▄▆▅▂▂▂▂▁</td></tr><tr><td>val_loss_repr</td><td>█▁▁▂▁▂▂▃▃▃</td></tr><tr><td>val_loss_target</td><td>█▆▄▆▅▂▂▂▂▁</td></tr></table><br/></div><div class=\"wandb-col\"><h3>Run summary:</h3><br/><table class=\"wandb\"><tr><td>epoch</td><td>9</td></tr><tr><td>lr</td><td>1e-05</td></tr><tr><td>train_loss</td><td>0.34407</td></tr><tr><td>train_loss_repr</td><td>0.00592</td></tr><tr><td>train_loss_target</td><td>0.68222</td></tr><tr><td>trainer/global_step</td><td>269</td></tr><tr><td>val_loss</td><td>0.28697</td></tr><tr><td>val_loss_repr</td><td>0.00691</td></tr><tr><td>val_loss_target</td><td>0.56704</td></tr></table><br/></div></div>"
      ],
      "text/plain": [
       "<IPython.core.display.HTML object>"
      ]
     },
     "metadata": {},
     "output_type": "display_data"
    },
    {
     "data": {
      "text/html": [
       " View run <strong style=\"color:#cdcd00\">SchNet_splitrand-nummol5000</strong> at: <a href='https://wandb.ai/azzouzi_lab/6-frag_target_241101/runs/0llaw6ei' target=\"_blank\">https://wandb.ai/azzouzi_lab/6-frag_target_241101/runs/0llaw6ei</a><br/> View project at: <a href='https://wandb.ai/azzouzi_lab/6-frag_target_241101' target=\"_blank\">https://wandb.ai/azzouzi_lab/6-frag_target_241101</a><br/>Synced 6 W&B file(s), 0 media file(s), 1 artifact file(s) and 0 other file(s)"
      ],
      "text/plain": [
       "<IPython.core.display.HTML object>"
      ]
     },
     "metadata": {},
     "output_type": "display_data"
    },
    {
     "data": {
      "text/html": [
       "Find logs at: <code>./wandb/run-20241101_154904-0llaw6ei/logs</code>"
      ],
      "text/plain": [
       "<IPython.core.display.HTML object>"
      ]
     },
     "metadata": {},
     "output_type": "display_data"
    },
    {
     "data": {
      "text/html": [
       "The new W&B backend becomes opt-out in version 0.18.0; try it out with `wandb.require(\"core\")`! See https://wandb.me/wandb-core for more information."
      ],
      "text/plain": [
       "<IPython.core.display.HTML object>"
      ]
     },
     "metadata": {},
     "output_type": "display_data"
    },
    {
     "name": "stdout",
     "output_type": "stream",
     "text": [
      "Model loaded:  SchNet\n",
      "Model loaded\n"
     ]
    }
   ],
   "source": [
    "#test script\n",
    "config_dir =  config_dir_list[0]\n",
    "dev_scripts_dir = \"/media/mohammed/Work/STK_search/src/dev_scripts/\"\n",
    "%run {dev_scripts_dir}/run_representation_learning_polymer.py --config_dir {config_dir}\n"
   ]
  },
  {
   "cell_type": "code",
   "execution_count": null,
   "metadata": {},
   "outputs": [],
   "source": []
  },
  {
   "cell_type": "markdown",
   "metadata": {},
   "source": [
    "## test representation\n"
   ]
  },
  {
   "cell_type": "markdown",
   "metadata": {},
   "source": []
  },
  {
   "cell_type": "code",
   "execution_count": 4,
   "metadata": {},
   "outputs": [],
   "source": [
    "import importlib\n",
    "\n",
    "from stk_search.geom3d import pl_model, train_models\n",
    "from stk_search.Representation import Representation_poly_3d\n",
    "\n",
    "importlib.reload(Representation_poly_3d)\n",
    "\n",
    "\n",
    "def load_representation_model(config_dir):\n",
    "    config = read_config(config_dir)\n",
    "    chkpt_path = config[\"model_embedding_chkpt\"]\n",
    "    checkpoint = torch.load(chkpt_path, map_location=config[\"device\"])\n",
    "    model, graph_pred_linear = pl_model.model_setup(config)\n",
    "    print(\"Model loaded: \", config[\"model_name\"])\n",
    "    # Pass the model and graph_pred_linear to the Pymodel constructor\n",
    "    pymodel = pl_model.Pymodel_new(model, graph_pred_linear, config)\n",
    "    # Load the state dictionary\n",
    "    pymodel.load_state_dict(state_dict=checkpoint[\"state_dict\"])\n",
    "    pymodel.to(config[\"device\"])\n",
    "    representation = Representation_poly_3d.RepresentationPoly3d(pymodel,device=\"cpu\",\n",
    "                                                                   mongo_client=config[\"pymongo_client\"],\n",
    "                                                                   database=config[\"database_name\"])\n",
    "    return representation, pymodel"
   ]
  },
  {
   "cell_type": "code",
   "execution_count": 8,
   "metadata": {},
   "outputs": [
    {
     "name": "stdout",
     "output_type": "stream",
     "text": [
      "Model loaded:  SchNet\n"
     ]
    }
   ],
   "source": [
    "# load the Representation and the model \n",
    "\n",
    "importlib.reload(Representation_poly_3d)\n",
    "\n",
    "config_dir = \"/media/mohammed/Work/STK_search/Example_notebooks/data_example/representation_learning/6-frag/target/241101/SchNet/splitrand-nummol5000/\"\n",
    "\n",
    "\n",
    "config, min_val_loss = train_models.get_best_embedding_model(config_dir)\n",
    "\n",
    "Representation, pymodel = load_representation_model(config_dir)\n"
   ]
  },
  {
   "cell_type": "code",
   "execution_count": 9,
   "metadata": {},
   "outputs": [],
   "source": [
    "df_name = \"train\"\n",
    "config = read_config(config_dir)\n",
    "df = pd.read_csv(config[\"running_dir\"] + f\"/df_{df_name}.csv\")\n",
    "df_train = df.sample(1000)\n",
    "df_elements_train = df_train[[f\"InChIKey_{x}\" for x in range(6)]]\n",
    "df_name = \"test\"\n",
    "df_test = pd.read_csv(config[\"running_dir\"] + f\"/df_{df_name}.csv\")\n",
    "df_test = df_test.sample(100)\n",
    "df_elements_test = df_test[[f\"InChIKey_{x}\" for x in range(6)]]\n",
    "df_name = \"val\"\n",
    "df_val = pd.read_csv(config[\"running_dir\"] + f\"/df_{df_name}.csv\")\n",
    "df_val = df_val.sample(100)\n",
    "df_elements_val = df_val[[f\"InChIKey_{x}\" for x in range(6)]]"
   ]
  },
  {
   "cell_type": "code",
   "execution_count": 10,
   "metadata": {},
   "outputs": [
    {
     "data": {
      "image/png": "[encoded data removed]",
      "text/plain": [
       "<Figure size 640x480 with 1 Axes>"
      ]
     },
     "metadata": {},
     "output_type": "display_data"
    },
    {
     "name": "stdout",
     "output_type": "stream",
     "text": [
      "Training scores\n"
     ]
    }
   ],
   "source": [
    "def get_prediction_results(df_element):\n",
    "    with torch.no_grad():\n",
    "        X_rpr = Representation.generate_repr(df_element)\n",
    "        Y_pred = pymodel.graph_pred_linear(X_rpr).flatten(0).detach()\n",
    "    return Y_pred\n",
    "\n",
    "Y_pred_train = get_prediction_results(df_elements_train)\n",
    "Y_pred_test = get_prediction_results(df_elements_test)\n",
    "Y_pred_val = get_prediction_results(df_elements_val)\n",
    "\n",
    "Y_train = df_train[\"target\"].values\n",
    "Y_test = df_test[\"target\"].values\n",
    "Y_val = df_val[\"target\"].values\n",
    "\n",
    "import matplotlib.pyplot as plt\n",
    "\n",
    "%matplotlib inline\n",
    "fig,ax = plt.subplots()\n",
    "ax.scatter(Y_train,Y_pred_train,label=\"train\")  \n",
    "ax.scatter(Y_test,Y_pred_test,label=\"test\")\n",
    "ax.scatter(Y_val,Y_pred_val,label=\"val\")\n",
    "ax.set_xlabel(\"True target\")\n",
    "ax.set_ylabel(\"Predicted target\")\n",
    "ax.legend()\n",
    "plt.show()\n",
    "# print training scores\n",
    "print(\"Training scores\")\n",
    "\n"
   ]
  },
  {
   "cell_type": "code",
   "execution_count": 11,
   "metadata": {},
   "outputs": [
    {
     "name": "stdout",
     "output_type": "stream",
     "text": [
      "MSE train: 0.6435857705642836, MAE train: 0.5882598439581266, R2 train: 0.1387326357658799\n",
      "MSE test: 2.5878313703109757, MAE test: 1.5701341680123584, R2 test: -128.21427582635263\n",
      "MSE val: 0.7497352843891175, MAE val: 0.635094975911076, R2 val: 0.1362909749644785\n"
     ]
    }
   ],
   "source": [
    "def get_scores(Y_pred,Y_true):\n",
    "    from sklearn.metrics import (\n",
    "        mean_absolute_error,\n",
    "        mean_squared_error,\n",
    "        r2_score,\n",
    "    )\n",
    "    mse = mean_squared_error(Y_true,Y_pred)\n",
    "    mae = mean_absolute_error(Y_true,Y_pred)\n",
    "    R2 = r2_score(Y_true,Y_pred)\n",
    "\n",
    "    return mse,mae, R2\n",
    "mse_train,mae_train, R2_train = get_scores(Y_pred_train,Y_train)\n",
    "mse_test,mae_test, R2_test = get_scores(Y_pred_test,Y_test)\n",
    "mse_val,mae_val, R2_val = get_scores(Y_pred_val,Y_val)\n",
    "print(f\"MSE train: {mse_train}, MAE train: {mae_train}, R2 train: {R2_train}\")\n",
    "print(f\"MSE test: {mse_test}, MAE test: {mae_test}, R2 test: {R2_test}\")\n",
    "print(f\"MSE val: {mse_val}, MAE val: {mae_val}, R2 val: {R2_val}\")"
   ]
  },
  {
   "cell_type": "code",
   "execution_count": null,
   "metadata": {},
   "outputs": [],
   "source": []
  },
  {
   "cell_type": "code",
   "execution_count": null,
   "metadata": {},
   "outputs": [],
   "source": []
  }
 ],
 "metadata": {
  "kernelspec": {
   "display_name": "stk_search",
   "language": "python",
   "name": "python3"
  },
  "language_info": {
   "codemirror_mode": {
    "name": "ipython",
    "version": 3
   },
   "file_extension": ".py",
   "mimetype": "text/x-python",
   "name": "python",
   "nbconvert_exporter": "python",
   "pygments_lexer": "ipython3",
   "version": "3.8.19"
  }
 },
 "nbformat": 4,
 "nbformat_minor": 2
}
