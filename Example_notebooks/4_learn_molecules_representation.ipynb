{
 "cells": [
  {
   "cell_type": "code",
   "execution_count": 1,
   "metadata": {},
   "outputs": [
    {
     "data": {
      "text/plain": [
       "<module 'stk_search.utils.config_utils' from '/home/mohammed/Work/STK_search/src/stk_search/utils/config_utils.py'>"
      ]
     },
     "execution_count": 1,
     "metadata": {},
     "output_type": "execute_result"
    }
   ],
   "source": [
    "import os#\n",
    "#os.chdir('c:\\\\Users\\\\ma11115\\\\OneDrive - Imperial College London\\\\github_folder\\\\STK_SEARCH\\\\')\n",
    "os.chdir('/home/mohammed/Work/STK_search')\n",
    "from pathlib import Path#\n",
    "\n",
    "import pandas as pd\n",
    "import torch\n",
    "import numpy as np\n",
    "from stk_search.utils.config_utils import read_config, save_config\n",
    "from stk_search.utils import config_utils\n",
    "import datetime\n",
    "from stk_search.utils import update_datasets\n",
    "import importlib\n",
    "importlib.reload(config_utils)"
   ]
  },
  {
   "cell_type": "code",
   "execution_count": 12,
   "metadata": {},
   "outputs": [],
   "source": [
    "#Helper function to split the dataset\n",
    "from stk_search.geom3d import polymer_GNN_architecture_utils\n",
    "\n",
    "def check_building_block_present(df_total_path_new,config_dir):\n",
    "    df_total = pd.read_csv(df_total_path_new,low_memory=False)\n",
    "    config = read_config(config_dir)\n",
    "    bbs_dict = polymer_GNN_architecture_utils.get_bbs_dict(\n",
    "        config['pymongo_client'] , config['precursor_database_name']\n",
    "    )\n",
    "    bbs_dict\n",
    "    # check df_total has inchikey in bb_dict\n",
    "    for i in range(6):\n",
    "        df_total = df_total[df_total[f'InChIKey_{i}'].isin(bbs_dict.keys())]\n",
    "    df_total.to_csv(df_total_path_new, index=False)\n",
    "    return df_total\n",
    "\n",
    "def do_random_split(config,hide_best_molecules=True):\n",
    "    df_path = Path(\n",
    "            config[\"df_total\"]\n",
    "        )\n",
    "    if os.path.isfile(df_path):\n",
    "        df = pd.read_csv(df_path,low_memory=False)\n",
    "    else:\n",
    "        print(\"No dataframe found, will resort in a random split from the data in the database\")\n",
    "    def topk_split(topkmol, df,num_molecules_dataset=5000,target_name='target',hide_best_molecules=hide_best_molecules):\n",
    "        min_target_out_of_database = -np.sort(-df[target_name].values)[topkmol]\n",
    "        df_test = df[df[target_name]>=min_target_out_of_database]\n",
    "        if hide_best_molecules:\n",
    "            df_train = df[df[target_name]<min_target_out_of_database]\n",
    "        else:\n",
    "            df_train = df.copy()\n",
    "            print(df_train.shape[0])\n",
    "        # add random element from df to the test set\n",
    "        #df_test_random = df.sample(n=1000, random_state=1)\n",
    "        #df_test = pd.concat([df_test, df_test_random])\n",
    "        df_test.reset_index(drop=True, inplace=True)\n",
    "        list_col = [f'InChIKey_{x}' for x in range(6)]\n",
    "        list_col.append(target_name)\n",
    "        list_col.append('InChIKey')\n",
    "        df_train = df_train[list_col]\n",
    "        df_train = df_train[~df_train['InChIKey'].isin(df_test['InChIKey'])]\n",
    "        if num_molecules_dataset>df_train.shape[0]:\n",
    "            print(\"Warning: the number of molecules in the dataset is smaller than the number of molecules requested\")\n",
    "            num_molecules_dataset = df_train.shape[0]\n",
    "        df_train = df_train.sample(num_molecules_dataset)\n",
    "        df_val = df_train.sample(frac=0.1, random_state=1)\n",
    "        df_train = df_train[~df_train['InChIKey'].isin(df_val['InChIKey'])]\n",
    "        df_train.reset_index(drop=True, inplace=True)\n",
    "        df_val.reset_index(drop=True, inplace=True)\n",
    "        return df_train, df_val, df_test\n",
    "    topKmol = int(df.shape[0]*0.01)\n",
    "    df_train, df_val, df_test = topk_split(topKmol, df,config[\"num_molecules\"],config[\"target_name\"],hide_best_molecules=hide_best_molecules)\n",
    "    config_dir= config[\"running_dir\"]\n",
    "    df_train.to_csv(config_dir + \"df_train.csv\", index=False)\n",
    "    df_val.to_csv(config_dir + \"df_val.csv\", index=False)\n",
    "    df_test.to_csv(config_dir + \"df_test.csv\", index=False)\n",
    "    for key in ['df_train','df_val','df_test']:\n",
    "        check_building_block_present(config_dir + key + \".csv\",config_dir)\n",
    "    return df_train, df_val, df_test\n",
    "\n"
   ]
  },
  {
   "cell_type": "code",
   "execution_count": 13,
   "metadata": {},
   "outputs": [
    {
     "name": "stdout",
     "output_type": "stream",
     "text": [
      "74508\n"
     ]
    },
    {
     "data": {
      "text/html": [
       "<div>\n",
       "<style scoped>\n",
       "    .dataframe tbody tr th:only-of-type {\n",
       "        vertical-align: middle;\n",
       "    }\n",
       "\n",
       "    .dataframe tbody tr th {\n",
       "        vertical-align: top;\n",
       "    }\n",
       "\n",
       "    .dataframe thead th {\n",
       "        text-align: right;\n",
       "    }\n",
       "</style>\n",
       "<table border=\"1\" class=\"dataframe\">\n",
       "  <thead>\n",
       "    <tr style=\"text-align: right;\">\n",
       "      <th></th>\n",
       "      <th>Unnamed: 0</th>\n",
       "      <th>InChIKey</th>\n",
       "      <th>BB</th>\n",
       "      <th>electron affinity (eV)</th>\n",
       "      <th>homo lumo_gap (eV)</th>\n",
       "      <th>ionisation potential (eV)</th>\n",
       "      <th>total energy (au)</th>\n",
       "      <th>ES1</th>\n",
       "      <th>fosc1</th>\n",
       "      <th>InChIKey_0</th>\n",
       "      <th>InChIKey_1</th>\n",
       "      <th>InChIKey_2</th>\n",
       "      <th>InChIKey_3</th>\n",
       "      <th>InChIKey_4</th>\n",
       "      <th>InChIKey_5</th>\n",
       "      <th>target</th>\n",
       "    </tr>\n",
       "  </thead>\n",
       "  <tbody>\n",
       "    <tr>\n",
       "      <th>0</th>\n",
       "      <td>0</td>\n",
       "      <td>AAAIKLIUXQWZQC-SBRRWJCQSA-N</td>\n",
       "      <td>[{'InChIKey': 'SWJPEBQEEAHIGZ-UHFFFAOYSA-N'}, ...</td>\n",
       "      <td>3.7458</td>\n",
       "      <td>0.020987</td>\n",
       "      <td>7.3767</td>\n",
       "      <td>-251.681432</td>\n",
       "      <td>3.311</td>\n",
       "      <td>0.1454</td>\n",
       "      <td>SWJPEBQEEAHIGZ-UHFFFAOYSA-N</td>\n",
       "      <td>WLJMWJRNANCLLB-UQCOIBPSSA-N</td>\n",
       "      <td>QKOAHMWMROSOCB-UHFFFAOYSA-N</td>\n",
       "      <td>NACLVJFIPGLGGF-UHFFFAOYSA-N</td>\n",
       "      <td>WLJMWJRNANCLLB-UQCOIBPSSA-N</td>\n",
       "      <td>KESGZSFJWVCXKF-UHFFFAOYSA-N</td>\n",
       "      <td>-3.025136</td>\n",
       "    </tr>\n",
       "    <tr>\n",
       "      <th>1</th>\n",
       "      <td>1</td>\n",
       "      <td>AAALPPGKJQYWNO-NOPDUFPGSA-N</td>\n",
       "      <td>[{'InChIKey': 'AZYPAMWLUNRZKI-UHFFFAOYSA-N'}, ...</td>\n",
       "      <td>3.2475</td>\n",
       "      <td>0.014649</td>\n",
       "      <td>6.5768</td>\n",
       "      <td>-219.209051</td>\n",
       "      <td>2.674</td>\n",
       "      <td>0.1693</td>\n",
       "      <td>AZYPAMWLUNRZKI-UHFFFAOYSA-N</td>\n",
       "      <td>BMAXCOSCNAUKQK-WCIBSUBMSA-N</td>\n",
       "      <td>AVQCSVOAVAVAMJ-UHFFFAOYSA-N</td>\n",
       "      <td>WNSNPGHNIJOOPM-UHFFFAOYSA-N</td>\n",
       "      <td>YYTSOZXMJUHWJS-UHFFFAOYSA-N</td>\n",
       "      <td>CGQMQIAGYJZKNI-UHFFFAOYSA-N</td>\n",
       "      <td>-2.174143</td>\n",
       "    </tr>\n",
       "    <tr>\n",
       "      <th>2</th>\n",
       "      <td>2</td>\n",
       "      <td>AAAVCXUUFSMNCC-UBCNBMAWSA-N</td>\n",
       "      <td>[{'InChIKey': 'KYORXLIHDAZXPK-UHFFFAOYSA-N'}, ...</td>\n",
       "      <td>3.6878</td>\n",
       "      <td>0.054748</td>\n",
       "      <td>6.5672</td>\n",
       "      <td>-238.356300</td>\n",
       "      <td>2.554</td>\n",
       "      <td>0.1542</td>\n",
       "      <td>KYORXLIHDAZXPK-UHFFFAOYSA-N</td>\n",
       "      <td>VHGPRJAKJSOPER-CLTKARDFSA-N</td>\n",
       "      <td>SXRSYJAHJIIXFM-UHFFFAOYSA-N</td>\n",
       "      <td>UNOXOWXWZXWVFR-WMZJFQQLSA-N</td>\n",
       "      <td>BZXFPIODHNEVBA-VHSXEESVSA-N</td>\n",
       "      <td>NDROOZZFHGBQAJ-UHFFFAOYSA-N</td>\n",
       "      <td>-2.325116</td>\n",
       "    </tr>\n",
       "    <tr>\n",
       "      <th>3</th>\n",
       "      <td>3</td>\n",
       "      <td>AABBVYXCVOYVDW-UHFFFAOYSA-N</td>\n",
       "      <td>[{'InChIKey': 'ZQUFQULVODWNAL-UHFFFAOYSA-N'}, ...</td>\n",
       "      <td>2.2176</td>\n",
       "      <td>0.132006</td>\n",
       "      <td>5.8241</td>\n",
       "      <td>-200.622918</td>\n",
       "      <td>2.758</td>\n",
       "      <td>5.4769</td>\n",
       "      <td>ZQUFQULVODWNAL-UHFFFAOYSA-N</td>\n",
       "      <td>KEPNBEPTGHROGD-UHFFFAOYSA-N</td>\n",
       "      <td>APDAUBNBDJUQGW-UHFFFAOYSA-N</td>\n",
       "      <td>VEGYYSITGMCNND-UHFFFAOYSA-N</td>\n",
       "      <td>ZHXUWDPHUQHFOV-UHFFFAOYSA-N</td>\n",
       "      <td>MNIZKSJELYBCRS-UHFFFAOYSA-N</td>\n",
       "      <td>0.172435</td>\n",
       "    </tr>\n",
       "    <tr>\n",
       "      <th>4</th>\n",
       "      <td>4</td>\n",
       "      <td>AABGSZOIKXWDFV-ZOZSLMIISA-N</td>\n",
       "      <td>[{'InChIKey': 'YHOAKOTYECSOIZ-UHFFFAOYSA-N'}, ...</td>\n",
       "      <td>3.4602</td>\n",
       "      <td>0.105403</td>\n",
       "      <td>6.5770</td>\n",
       "      <td>-248.482482</td>\n",
       "      <td>2.926</td>\n",
       "      <td>1.5505</td>\n",
       "      <td>YHOAKOTYECSOIZ-UHFFFAOYSA-N</td>\n",
       "      <td>UVCFYBOLMFIWGF-FPYGCLRLSA-N</td>\n",
       "      <td>HFUBKQHDPJZQIW-UHFFFAOYSA-N</td>\n",
       "      <td>LPRVANXWMPVCRC-BAQGIRSFSA-N</td>\n",
       "      <td>YYTSOZXMJUHWJS-UHFFFAOYSA-N</td>\n",
       "      <td>MNIZKSJELYBCRS-UHFFFAOYSA-N</td>\n",
       "      <td>-0.960528</td>\n",
       "    </tr>\n",
       "    <tr>\n",
       "      <th>...</th>\n",
       "      <td>...</td>\n",
       "      <td>...</td>\n",
       "      <td>...</td>\n",
       "      <td>...</td>\n",
       "      <td>...</td>\n",
       "      <td>...</td>\n",
       "      <td>...</td>\n",
       "      <td>...</td>\n",
       "      <td>...</td>\n",
       "      <td>...</td>\n",
       "      <td>...</td>\n",
       "      <td>...</td>\n",
       "      <td>...</td>\n",
       "      <td>...</td>\n",
       "      <td>...</td>\n",
       "      <td>...</td>\n",
       "    </tr>\n",
       "    <tr>\n",
       "      <th>74503</th>\n",
       "      <td>74503</td>\n",
       "      <td>ZZYSUNFOVLRAFN-UHFFFAOYSA-N</td>\n",
       "      <td>[{'InChIKey': 'WBRIMLGNHKTADJ-UHFFFAOYSA-N'}, ...</td>\n",
       "      <td>2.0255</td>\n",
       "      <td>0.016826</td>\n",
       "      <td>6.0319</td>\n",
       "      <td>-188.068064</td>\n",
       "      <td>3.389</td>\n",
       "      <td>2.7829</td>\n",
       "      <td>WBRIMLGNHKTADJ-UHFFFAOYSA-N</td>\n",
       "      <td>WVGHJMFKJADIAM-UHFFFAOYSA-N</td>\n",
       "      <td>HZYBLPHGWLNIQV-UHFFFAOYSA-N</td>\n",
       "      <td>WBRIMLGNHKTADJ-UHFFFAOYSA-N</td>\n",
       "      <td>WVGHJMFKJADIAM-UHFFFAOYSA-N</td>\n",
       "      <td>DOXWISNBDAHQBD-UHFFFAOYSA-N</td>\n",
       "      <td>-0.476402</td>\n",
       "    </tr>\n",
       "    <tr>\n",
       "      <th>74504</th>\n",
       "      <td>74504</td>\n",
       "      <td>ZZZACLCMBMACSP-UHFFFAOYSA-N</td>\n",
       "      <td>[{'InChIKey': 'WVGHJMFKJADIAM-UHFFFAOYSA-N'}, ...</td>\n",
       "      <td>2.6251</td>\n",
       "      <td>0.048152</td>\n",
       "      <td>6.2825</td>\n",
       "      <td>-194.795068</td>\n",
       "      <td>2.742</td>\n",
       "      <td>0.7143</td>\n",
       "      <td>WVGHJMFKJADIAM-UHFFFAOYSA-N</td>\n",
       "      <td>GKKUHQQNQBVLSW-UHFFFAOYSA-N</td>\n",
       "      <td>WVGHJMFKJADIAM-UHFFFAOYSA-N</td>\n",
       "      <td>WVGHJMFKJADIAM-UHFFFAOYSA-N</td>\n",
       "      <td>HZYBLPHGWLNIQV-UHFFFAOYSA-N</td>\n",
       "      <td>DOXWISNBDAHQBD-UHFFFAOYSA-N</td>\n",
       "      <td>-1.186619</td>\n",
       "    </tr>\n",
       "    <tr>\n",
       "      <th>74505</th>\n",
       "      <td>74505</td>\n",
       "      <td>ZZZITEJEPMDYEK-UHFFFAOYSA-N</td>\n",
       "      <td>[{'InChIKey': 'AFVRECUINNLWPU-UHFFFAOYSA-N'}, ...</td>\n",
       "      <td>2.6539</td>\n",
       "      <td>0.005467</td>\n",
       "      <td>5.9820</td>\n",
       "      <td>-253.211741</td>\n",
       "      <td>3.539</td>\n",
       "      <td>0.2647</td>\n",
       "      <td>AFVRECUINNLWPU-UHFFFAOYSA-N</td>\n",
       "      <td>ZQUFQULVODWNAL-UHFFFAOYSA-N</td>\n",
       "      <td>SOESJFVMGGQDFQ-UHFFFAOYSA-N</td>\n",
       "      <td>SOESJFVMGGQDFQ-UHFFFAOYSA-N</td>\n",
       "      <td>ZQUFQULVODWNAL-UHFFFAOYSA-N</td>\n",
       "      <td>AFVRECUINNLWPU-UHFFFAOYSA-N</td>\n",
       "      <td>-1.598246</td>\n",
       "    </tr>\n",
       "    <tr>\n",
       "      <th>74506</th>\n",
       "      <td>74506</td>\n",
       "      <td>ZZZMJQCVJSAPPT-UHFFFAOYSA-N</td>\n",
       "      <td>[{'InChIKey': 'WBRIMLGNHKTADJ-UHFFFAOYSA-N'}, ...</td>\n",
       "      <td>2.2173</td>\n",
       "      <td>0.033492</td>\n",
       "      <td>5.7670</td>\n",
       "      <td>-211.437641</td>\n",
       "      <td>2.769</td>\n",
       "      <td>4.3747</td>\n",
       "      <td>WBRIMLGNHKTADJ-UHFFFAOYSA-N</td>\n",
       "      <td>SOESJFVMGGQDFQ-UHFFFAOYSA-N</td>\n",
       "      <td>SXRSYJAHJIIXFM-UHFFFAOYSA-N</td>\n",
       "      <td>SIGAQDSGJJFBIC-UHFFFAOYSA-N</td>\n",
       "      <td>KEPNBEPTGHROGD-UHFFFAOYSA-N</td>\n",
       "      <td>VEGYYSITGMCNND-UHFFFAOYSA-N</td>\n",
       "      <td>0.142948</td>\n",
       "    </tr>\n",
       "    <tr>\n",
       "      <th>74507</th>\n",
       "      <td>74507</td>\n",
       "      <td>ZZZZYFZBCWBIAR-NVHFXTRSSA-N</td>\n",
       "      <td>[{'InChIKey': 'AMGZARGPNNDZNG-UHFFFAOYSA-N'}, ...</td>\n",
       "      <td>3.5675</td>\n",
       "      <td>0.062951</td>\n",
       "      <td>6.8993</td>\n",
       "      <td>-261.744068</td>\n",
       "      <td>2.861</td>\n",
       "      <td>0.2859</td>\n",
       "      <td>AMGZARGPNNDZNG-UHFFFAOYSA-N</td>\n",
       "      <td>UVCFYBOLMFIWGF-FPYGCLRLSA-N</td>\n",
       "      <td>DDYWJTLRPAXDID-UHFFFAOYSA-N</td>\n",
       "      <td>NYQIXSSVRVKCHW-OQFOIZHKSA-N</td>\n",
       "      <td>ZYFAZQDJDGUYES-UHFFFAOYSA-N</td>\n",
       "      <td>SOESJFVMGGQDFQ-UHFFFAOYSA-N</td>\n",
       "      <td>-2.082086</td>\n",
       "    </tr>\n",
       "  </tbody>\n",
       "</table>\n",
       "<p>74508 rows × 16 columns</p>\n",
       "</div>"
      ],
      "text/plain": [
       "       Unnamed: 0                     InChIKey  \\\n",
       "0               0  AAAIKLIUXQWZQC-SBRRWJCQSA-N   \n",
       "1               1  AAALPPGKJQYWNO-NOPDUFPGSA-N   \n",
       "2               2  AAAVCXUUFSMNCC-UBCNBMAWSA-N   \n",
       "3               3  AABBVYXCVOYVDW-UHFFFAOYSA-N   \n",
       "4               4  AABGSZOIKXWDFV-ZOZSLMIISA-N   \n",
       "...           ...                          ...   \n",
       "74503       74503  ZZYSUNFOVLRAFN-UHFFFAOYSA-N   \n",
       "74504       74504  ZZZACLCMBMACSP-UHFFFAOYSA-N   \n",
       "74505       74505  ZZZITEJEPMDYEK-UHFFFAOYSA-N   \n",
       "74506       74506  ZZZMJQCVJSAPPT-UHFFFAOYSA-N   \n",
       "74507       74507  ZZZZYFZBCWBIAR-NVHFXTRSSA-N   \n",
       "\n",
       "                                                      BB  \\\n",
       "0      [{'InChIKey': 'SWJPEBQEEAHIGZ-UHFFFAOYSA-N'}, ...   \n",
       "1      [{'InChIKey': 'AZYPAMWLUNRZKI-UHFFFAOYSA-N'}, ...   \n",
       "2      [{'InChIKey': 'KYORXLIHDAZXPK-UHFFFAOYSA-N'}, ...   \n",
       "3      [{'InChIKey': 'ZQUFQULVODWNAL-UHFFFAOYSA-N'}, ...   \n",
       "4      [{'InChIKey': 'YHOAKOTYECSOIZ-UHFFFAOYSA-N'}, ...   \n",
       "...                                                  ...   \n",
       "74503  [{'InChIKey': 'WBRIMLGNHKTADJ-UHFFFAOYSA-N'}, ...   \n",
       "74504  [{'InChIKey': 'WVGHJMFKJADIAM-UHFFFAOYSA-N'}, ...   \n",
       "74505  [{'InChIKey': 'AFVRECUINNLWPU-UHFFFAOYSA-N'}, ...   \n",
       "74506  [{'InChIKey': 'WBRIMLGNHKTADJ-UHFFFAOYSA-N'}, ...   \n",
       "74507  [{'InChIKey': 'AMGZARGPNNDZNG-UHFFFAOYSA-N'}, ...   \n",
       "\n",
       "       electron affinity (eV)  homo lumo_gap (eV)  ionisation potential (eV)  \\\n",
       "0                      3.7458            0.020987                     7.3767   \n",
       "1                      3.2475            0.014649                     6.5768   \n",
       "2                      3.6878            0.054748                     6.5672   \n",
       "3                      2.2176            0.132006                     5.8241   \n",
       "4                      3.4602            0.105403                     6.5770   \n",
       "...                       ...                 ...                        ...   \n",
       "74503                  2.0255            0.016826                     6.0319   \n",
       "74504                  2.6251            0.048152                     6.2825   \n",
       "74505                  2.6539            0.005467                     5.9820   \n",
       "74506                  2.2173            0.033492                     5.7670   \n",
       "74507                  3.5675            0.062951                     6.8993   \n",
       "\n",
       "       total energy (au)    ES1   fosc1                   InChIKey_0  \\\n",
       "0            -251.681432  3.311  0.1454  SWJPEBQEEAHIGZ-UHFFFAOYSA-N   \n",
       "1            -219.209051  2.674  0.1693  AZYPAMWLUNRZKI-UHFFFAOYSA-N   \n",
       "2            -238.356300  2.554  0.1542  KYORXLIHDAZXPK-UHFFFAOYSA-N   \n",
       "3            -200.622918  2.758  5.4769  ZQUFQULVODWNAL-UHFFFAOYSA-N   \n",
       "4            -248.482482  2.926  1.5505  YHOAKOTYECSOIZ-UHFFFAOYSA-N   \n",
       "...                  ...    ...     ...                          ...   \n",
       "74503        -188.068064  3.389  2.7829  WBRIMLGNHKTADJ-UHFFFAOYSA-N   \n",
       "74504        -194.795068  2.742  0.7143  WVGHJMFKJADIAM-UHFFFAOYSA-N   \n",
       "74505        -253.211741  3.539  0.2647  AFVRECUINNLWPU-UHFFFAOYSA-N   \n",
       "74506        -211.437641  2.769  4.3747  WBRIMLGNHKTADJ-UHFFFAOYSA-N   \n",
       "74507        -261.744068  2.861  0.2859  AMGZARGPNNDZNG-UHFFFAOYSA-N   \n",
       "\n",
       "                        InChIKey_1                   InChIKey_2  \\\n",
       "0      WLJMWJRNANCLLB-UQCOIBPSSA-N  QKOAHMWMROSOCB-UHFFFAOYSA-N   \n",
       "1      BMAXCOSCNAUKQK-WCIBSUBMSA-N  AVQCSVOAVAVAMJ-UHFFFAOYSA-N   \n",
       "2      VHGPRJAKJSOPER-CLTKARDFSA-N  SXRSYJAHJIIXFM-UHFFFAOYSA-N   \n",
       "3      KEPNBEPTGHROGD-UHFFFAOYSA-N  APDAUBNBDJUQGW-UHFFFAOYSA-N   \n",
       "4      UVCFYBOLMFIWGF-FPYGCLRLSA-N  HFUBKQHDPJZQIW-UHFFFAOYSA-N   \n",
       "...                            ...                          ...   \n",
       "74503  WVGHJMFKJADIAM-UHFFFAOYSA-N  HZYBLPHGWLNIQV-UHFFFAOYSA-N   \n",
       "74504  GKKUHQQNQBVLSW-UHFFFAOYSA-N  WVGHJMFKJADIAM-UHFFFAOYSA-N   \n",
       "74505  ZQUFQULVODWNAL-UHFFFAOYSA-N  SOESJFVMGGQDFQ-UHFFFAOYSA-N   \n",
       "74506  SOESJFVMGGQDFQ-UHFFFAOYSA-N  SXRSYJAHJIIXFM-UHFFFAOYSA-N   \n",
       "74507  UVCFYBOLMFIWGF-FPYGCLRLSA-N  DDYWJTLRPAXDID-UHFFFAOYSA-N   \n",
       "\n",
       "                        InChIKey_3                   InChIKey_4  \\\n",
       "0      NACLVJFIPGLGGF-UHFFFAOYSA-N  WLJMWJRNANCLLB-UQCOIBPSSA-N   \n",
       "1      WNSNPGHNIJOOPM-UHFFFAOYSA-N  YYTSOZXMJUHWJS-UHFFFAOYSA-N   \n",
       "2      UNOXOWXWZXWVFR-WMZJFQQLSA-N  BZXFPIODHNEVBA-VHSXEESVSA-N   \n",
       "3      VEGYYSITGMCNND-UHFFFAOYSA-N  ZHXUWDPHUQHFOV-UHFFFAOYSA-N   \n",
       "4      LPRVANXWMPVCRC-BAQGIRSFSA-N  YYTSOZXMJUHWJS-UHFFFAOYSA-N   \n",
       "...                            ...                          ...   \n",
       "74503  WBRIMLGNHKTADJ-UHFFFAOYSA-N  WVGHJMFKJADIAM-UHFFFAOYSA-N   \n",
       "74504  WVGHJMFKJADIAM-UHFFFAOYSA-N  HZYBLPHGWLNIQV-UHFFFAOYSA-N   \n",
       "74505  SOESJFVMGGQDFQ-UHFFFAOYSA-N  ZQUFQULVODWNAL-UHFFFAOYSA-N   \n",
       "74506  SIGAQDSGJJFBIC-UHFFFAOYSA-N  KEPNBEPTGHROGD-UHFFFAOYSA-N   \n",
       "74507  NYQIXSSVRVKCHW-OQFOIZHKSA-N  ZYFAZQDJDGUYES-UHFFFAOYSA-N   \n",
       "\n",
       "                        InChIKey_5    target  \n",
       "0      KESGZSFJWVCXKF-UHFFFAOYSA-N -3.025136  \n",
       "1      CGQMQIAGYJZKNI-UHFFFAOYSA-N -2.174143  \n",
       "2      NDROOZZFHGBQAJ-UHFFFAOYSA-N -2.325116  \n",
       "3      MNIZKSJELYBCRS-UHFFFAOYSA-N  0.172435  \n",
       "4      MNIZKSJELYBCRS-UHFFFAOYSA-N -0.960528  \n",
       "...                            ...       ...  \n",
       "74503  DOXWISNBDAHQBD-UHFFFAOYSA-N -0.476402  \n",
       "74504  DOXWISNBDAHQBD-UHFFFAOYSA-N -1.186619  \n",
       "74505  AFVRECUINNLWPU-UHFFFAOYSA-N -1.598246  \n",
       "74506  VEGYYSITGMCNND-UHFFFAOYSA-N  0.142948  \n",
       "74507  SOESJFVMGGQDFQ-UHFFFAOYSA-N -2.082086  \n",
       "\n",
       "[74508 rows x 16 columns]"
      ]
     },
     "execution_count": 13,
     "metadata": {},
     "output_type": "execute_result"
    }
   ],
   "source": [
    "# load the database to learn from\n",
    "df_total_path_new = 'data/Full_dataset/New_target07072024.csv'\n",
    "#df_total_path_new = 'data/output/Full_dataset/30K_benchmark_150524.csv'\n",
    "df_total = pd.read_csv(df_total_path_new,low_memory=False)\n",
    "print(df_total.shape[0])\n",
    "df_total"
   ]
  },
  {
   "cell_type": "code",
   "execution_count": null,
   "metadata": {},
   "outputs": [],
   "source": []
  },
  {
   "cell_type": "code",
   "execution_count": 15,
   "metadata": {},
   "outputs": [
    {
     "name": "stdout",
     "output_type": "stream",
     "text": [
      "config loaded from data/representation_learning//6-frag/target/240726//SchNet/splitrand-nummol5000/\n",
      "config loaded from data/representation_learning//6-frag/target/240726//SchNet/splitrand-nummol5000/\n",
      "config loaded from data/representation_learning//6-frag/target/240726//SchNet/splitrand-nummol5000/\n",
      "config loaded from data/representation_learning//6-frag/target/240726//SchNet/splitrand-nummol5000/\n"
     ]
    }
   ],
   "source": [
    "\n",
    "importlib.reload(update_datasets)\n",
    "importlib.reload(config_utils)\n",
    "config_dir_list = []\n",
    "df_total_path = df_total_path_new\n",
    "pymongo_client = \"mongodb://localhost:27017/\"\n",
    "for num_molecules in [5000]:\n",
    "    config = config_utils.generate_config(\n",
    "        num_molecules=num_molecules, df_path=df_total_path, max_epochs=200,\n",
    "        target_name = 'target', \n",
    "        running_dir = f\"data/representation_learning/\",\n",
    "    )\n",
    "    config['pymongo_client'] = pymongo_client\n",
    "    config['precursor_database_name'] = 'stk_mohammed_constructed'\n",
    "    config['database_name'] = 'stk_mohammed_constructed'\n",
    "    config['df_precursor'] = \"data/input/Prescursor_data/df_properties_24072024.pkl\"\n",
    "    config[\"ephemeral_path\"] = \"data/representation_learning/ephemeral/Random_split/\"\n",
    "    config['max_epochs'] = 10\n",
    "    config_dir= config[\"running_dir\"]\n",
    "    save_config(config,config_dir)\n",
    "    if config[\"split_type\"] == \"rand\":\n",
    "        df_train, df_val, df_test = do_random_split(config,hide_best_molecules=True)\n",
    "    \n",
    "    config_dir_list.append(config_dir)"
   ]
  },
  {
   "cell_type": "code",
   "execution_count": 19,
   "metadata": {},
   "outputs": [
    {
     "name": "stdout",
     "output_type": "stream",
     "text": [
      "config loaded from data/representation_learning//6-frag/target/240726//SchNet/splitrand-nummol5000/\n"
     ]
    },
    {
     "data": {
      "application/vnd.jupyter.widget-view+json": {
       "model_id": "8f62f76bc64b4828907def5afb0a8761",
       "version_major": 2,
       "version_minor": 0
      },
      "text/plain": [
       "Pandas Apply:   0%|          | 0/4500 [00:00<?, ?it/s]"
      ]
     },
     "metadata": {},
     "output_type": "display_data"
    },
    {
     "data": {
      "application/vnd.jupyter.widget-view+json": {
       "model_id": "872cb942248a44de89bbde42979db2dc",
       "version_major": 2,
       "version_minor": 0
      },
      "text/plain": [
       "Pandas Apply:   0%|          | 0/4500 [00:00<?, ?it/s]"
      ]
     },
     "metadata": {},
     "output_type": "display_data"
    },
    {
     "data": {
      "application/vnd.jupyter.widget-view+json": {
       "model_id": "d3b0a12215a64335a28f303f609ea838",
       "version_major": 2,
       "version_minor": 0
      },
      "text/plain": [
       "Pandas Apply:   0%|          | 0/500 [00:00<?, ?it/s]"
      ]
     },
     "metadata": {},
     "output_type": "display_data"
    },
    {
     "data": {
      "application/vnd.jupyter.widget-view+json": {
       "model_id": "fa20f9ff8a85409eac64c1c8a0b03514",
       "version_major": 2,
       "version_minor": 0
      },
      "text/plain": [
       "Pandas Apply:   0%|          | 0/500 [00:00<?, ?it/s]"
      ]
     },
     "metadata": {},
     "output_type": "display_data"
    },
    {
     "data": {
      "application/vnd.jupyter.widget-view+json": {
       "model_id": "018d735a5bc54ca4ab84c9f5d32d5e86",
       "version_major": 2,
       "version_minor": 0
      },
      "text/plain": [
       "Pandas Apply:   0%|          | 0/746 [00:00<?, ?it/s]"
      ]
     },
     "metadata": {},
     "output_type": "display_data"
    },
    {
     "data": {
      "application/vnd.jupyter.widget-view+json": {
       "model_id": "f8c724b9462247e8998966f8b2d8e32d",
       "version_major": 2,
       "version_minor": 0
      },
      "text/plain": [
       "Pandas Apply:   0%|          | 0/746 [00:00<?, ?it/s]"
      ]
     },
     "metadata": {},
     "output_type": "display_data"
    },
    {
     "name": "stderr",
     "output_type": "stream",
     "text": [
      "Failed to detect the name of this notebook, you can set it manually with the WANDB_NOTEBOOK_NAME environment variable to enable code saving.\n"
     ]
    },
    {
     "name": "stdout",
     "output_type": "stream",
     "text": [
      "Model loaded:  SchNet\n"
     ]
    },
    {
     "name": "stderr",
     "output_type": "stream",
     "text": [
      "\u001b[34m\u001b[1mwandb\u001b[0m: Currently logged in as: \u001b[33mmohammed-azzouzi15\u001b[0m (\u001b[33mazzouzi_lab\u001b[0m). Use \u001b[1m`wandb login --relogin`\u001b[0m to force relogin\n"
     ]
    },
    {
     "data": {
      "text/html": [
       "Tracking run with wandb version 0.17.5"
      ],
      "text/plain": [
       "<IPython.core.display.HTML object>"
      ]
     },
     "metadata": {},
     "output_type": "display_data"
    },
    {
     "data": {
      "text/html": [
       "Run data is saved locally in <code>./wandb/run-20240726_153047-28zz30mh</code>"
      ],
      "text/plain": [
       "<IPython.core.display.HTML object>"
      ]
     },
     "metadata": {},
     "output_type": "display_data"
    },
    {
     "data": {
      "text/html": [
       "Syncing run <strong><a href='https://wandb.ai/azzouzi_lab/6-frag_target_240726/runs/28zz30mh' target=\"_blank\">SchNet_splitrand-nummol5000</a></strong> to <a href='https://wandb.ai/azzouzi_lab/6-frag_target_240726' target=\"_blank\">Weights & Biases</a> (<a href='https://wandb.me/run' target=\"_blank\">docs</a>)<br/>"
      ],
      "text/plain": [
       "<IPython.core.display.HTML object>"
      ]
     },
     "metadata": {},
     "output_type": "display_data"
    },
    {
     "data": {
      "text/html": [
       " View project at <a href='https://wandb.ai/azzouzi_lab/6-frag_target_240726' target=\"_blank\">https://wandb.ai/azzouzi_lab/6-frag_target_240726</a>"
      ],
      "text/plain": [
       "<IPython.core.display.HTML object>"
      ]
     },
     "metadata": {},
     "output_type": "display_data"
    },
    {
     "data": {
      "text/html": [
       " View run at <a href='https://wandb.ai/azzouzi_lab/6-frag_target_240726/runs/28zz30mh' target=\"_blank\">https://wandb.ai/azzouzi_lab/6-frag_target_240726/runs/28zz30mh</a>"
      ],
      "text/plain": [
       "<IPython.core.display.HTML object>"
      ]
     },
     "metadata": {},
     "output_type": "display_data"
    },
    {
     "name": "stderr",
     "output_type": "stream",
     "text": [
      "GPU available: True (cuda), used: True\n",
      "TPU available: False, using: 0 TPU cores\n",
      "HPU available: False, using: 0 HPUs\n",
      "`Trainer(val_check_interval=1.0)` was configured so validation will run at the end of the training epoch..\n",
      "You are using a CUDA device ('NVIDIA GeForce RTX 4090') that has Tensor Cores. To properly utilize them, you should set `torch.set_float32_matmul_precision('medium' | 'high')` which will trade-off precision for performance. For more details, read https://pytorch.org/docs/stable/generated/torch.set_float32_matmul_precision.html#torch.set_float32_matmul_precision\n",
      "LOCAL_RANK: 0 - CUDA_VISIBLE_DEVICES: [0]\n",
      "\n",
      "  | Name              | Type   | Params | Mode \n",
      "-----------------------------------------------------\n",
      "0 | molecule_3D_repr  | SchNet | 628 K  | train\n",
      "1 | graph_pred_linear | Linear | 129    | train\n",
      "2 | transform_to_opt  | Linear | 16.5 K | train\n",
      "-----------------------------------------------------\n",
      "645 K     Trainable params\n",
      "0         Non-trainable params\n",
      "645 K     Total params\n",
      "2.582     Total estimated model params size (MB)\n"
     ]
    },
    {
     "name": "stdout",
     "output_type": "stream",
     "text": [
      "Apply lr scheduler CosineAnnealingLR\n"
     ]
    },
    {
     "data": {
      "application/vnd.jupyter.widget-view+json": {
       "model_id": "c60bf34e002c48868c7c8a4845eca7d6",
       "version_major": 2,
       "version_minor": 0
      },
      "text/plain": [
       "Sanity Checking: |          | 0/? [00:00<?, ?it/s]"
      ]
     },
     "metadata": {},
     "output_type": "display_data"
    },
    {
     "name": "stderr",
     "output_type": "stream",
     "text": [
      "/home/mohammed/anaconda3/envs/stk_search/lib/python3.10/site-packages/lightning/pytorch/trainer/connectors/data_connector.py:475: Your `val_dataloader`'s sampler has shuffling enabled, it is strongly recommended that you turn shuffling off for val/test dataloaders.\n",
      "/home/mohammed/anaconda3/envs/stk_search/lib/python3.10/site-packages/lightning/pytorch/trainer/connectors/data_connector.py:424: The 'val_dataloader' does not have many workers which may be a bottleneck. Consider increasing the value of the `num_workers` argument` to `num_workers=31` in the `DataLoader` to improve performance.\n",
      "/home/mohammed/anaconda3/envs/stk_search/lib/python3.10/site-packages/lightning/pytorch/trainer/connectors/data_connector.py:424: The 'train_dataloader' does not have many workers which may be a bottleneck. Consider increasing the value of the `num_workers` argument` to `num_workers=31` in the `DataLoader` to improve performance.\n"
     ]
    },
    {
     "data": {
      "application/vnd.jupyter.widget-view+json": {
       "model_id": "5c1b77fc15824e35ad94db5bb76c8e93",
       "version_major": 2,
       "version_minor": 0
      },
      "text/plain": [
       "Training: |          | 0/? [00:00<?, ?it/s]"
      ]
     },
     "metadata": {},
     "output_type": "display_data"
    },
    {
     "data": {
      "application/vnd.jupyter.widget-view+json": {
       "model_id": "3d71b0763feb44b2b33208fcf2bbd8df",
       "version_major": 2,
       "version_minor": 0
      },
      "text/plain": [
       "Validation: |          | 0/? [00:00<?, ?it/s]"
      ]
     },
     "metadata": {},
     "output_type": "display_data"
    },
    {
     "data": {
      "application/vnd.jupyter.widget-view+json": {
       "model_id": "154da6024ed54c95b8a400b733ceff4d",
       "version_major": 2,
       "version_minor": 0
      },
      "text/plain": [
       "Validation: |          | 0/? [00:00<?, ?it/s]"
      ]
     },
     "metadata": {},
     "output_type": "display_data"
    },
    {
     "data": {
      "application/vnd.jupyter.widget-view+json": {
       "model_id": "39cd7c333c1044fb9aed6d36f1be4769",
       "version_major": 2,
       "version_minor": 0
      },
      "text/plain": [
       "Validation: |          | 0/? [00:00<?, ?it/s]"
      ]
     },
     "metadata": {},
     "output_type": "display_data"
    },
    {
     "data": {
      "application/vnd.jupyter.widget-view+json": {
       "model_id": "13290d9b263e4f0ab1e21831642899b7",
       "version_major": 2,
       "version_minor": 0
      },
      "text/plain": [
       "Validation: |          | 0/? [00:00<?, ?it/s]"
      ]
     },
     "metadata": {},
     "output_type": "display_data"
    },
    {
     "data": {
      "application/vnd.jupyter.widget-view+json": {
       "model_id": "20f9e5e648984d9083c5707d5734604e",
       "version_major": 2,
       "version_minor": 0
      },
      "text/plain": [
       "Validation: |          | 0/? [00:00<?, ?it/s]"
      ]
     },
     "metadata": {},
     "output_type": "display_data"
    },
    {
     "data": {
      "application/vnd.jupyter.widget-view+json": {
       "model_id": "2f7ea4c3ee9247f48f29e502a3a6c0d6",
       "version_major": 2,
       "version_minor": 0
      },
      "text/plain": [
       "Validation: |          | 0/? [00:00<?, ?it/s]"
      ]
     },
     "metadata": {},
     "output_type": "display_data"
    },
    {
     "data": {
      "application/vnd.jupyter.widget-view+json": {
       "model_id": "94fd9af9120d4a23a64e02352d19af73",
       "version_major": 2,
       "version_minor": 0
      },
      "text/plain": [
       "Validation: |          | 0/? [00:00<?, ?it/s]"
      ]
     },
     "metadata": {},
     "output_type": "display_data"
    },
    {
     "data": {
      "application/vnd.jupyter.widget-view+json": {
       "model_id": "b7d3379584b341709b17784ef38398b5",
       "version_major": 2,
       "version_minor": 0
      },
      "text/plain": [
       "Validation: |          | 0/? [00:00<?, ?it/s]"
      ]
     },
     "metadata": {},
     "output_type": "display_data"
    },
    {
     "data": {
      "application/vnd.jupyter.widget-view+json": {
       "model_id": "b10ce261932c451b9326ed25ef5f29d3",
       "version_major": 2,
       "version_minor": 0
      },
      "text/plain": [
       "Validation: |          | 0/? [00:00<?, ?it/s]"
      ]
     },
     "metadata": {},
     "output_type": "display_data"
    },
    {
     "data": {
      "application/vnd.jupyter.widget-view+json": {
       "model_id": "376e412e2a30465bb38b9094da6b2357",
       "version_major": 2,
       "version_minor": 0
      },
      "text/plain": [
       "Validation: |          | 0/? [00:00<?, ?it/s]"
      ]
     },
     "metadata": {},
     "output_type": "display_data"
    },
    {
     "name": "stderr",
     "output_type": "stream",
     "text": [
      "`Trainer.fit` stopped: `max_epochs=10` reached.\n"
     ]
    },
    {
     "data": {
      "application/vnd.jupyter.widget-view+json": {
       "model_id": "666b77c508334709a5b928626ed51294",
       "version_major": 2,
       "version_minor": 0
      },
      "text/plain": [
       "VBox(children=(Label(value='7.501 MB of 7.501 MB uploaded\\r'), FloatProgress(value=1.0, max=1.0)))"
      ]
     },
     "metadata": {},
     "output_type": "display_data"
    },
    {
     "data": {
      "text/html": [
       "<style>\n",
       "    table.wandb td:nth-child(1) { padding: 0 10px; text-align: left ; width: auto;} td:nth-child(2) {text-align: left ; width: 100%}\n",
       "    .wandb-row { display: flex; flex-direction: row; flex-wrap: wrap; justify-content: flex-start; width: 100% }\n",
       "    .wandb-col { display: flex; flex-direction: column; flex-basis: 100%; flex: 1; padding: 10px; }\n",
       "    </style>\n",
       "<div class=\"wandb-row\"><div class=\"wandb-col\"><h3>Run history:</h3><br/><table class=\"wandb\"><tr><td>epoch</td><td>▁▁▁▁▂▂▂▂▃▃▃▃▃▃▃▃▄▄▄▄▅▅▅▅▆▆▆▆▆▆▆▆▇▇▇▇████</td></tr><tr><td>lr</td><td>██▇▇▆▄▃▂▂▁</td></tr><tr><td>train_loss</td><td>█▆▄▄▃▆▄▂▃▃▃▄▅▃▃▄▂▂▃▂▃▄▃▂▂▂▂▂▃▂▂▂▂▂▂▂▁▃▃▃</td></tr><tr><td>train_loss_repr</td><td>█▃▂▂▁▁▁▁▁▁▁▁▁▁▁▁▁▁▁▁▁▁▁▁▁▁▁▁▁▁▁▁▁▁▁▁▁▁▁▁</td></tr><tr><td>train_loss_target</td><td>█▆▄▄▄▇▄▂▄▃▃▄▅▄▃▄▂▂▄▂▃▄▃▂▃▃▂▂▃▂▂▃▂▂▂▂▁▃▄▄</td></tr><tr><td>trainer/global_step</td><td>▁▁▁▂▂▂▂▂▂▃▃▃▃▃▃▄▄▄▄▄▅▅▅▅▅▅▆▆▆▆▆▇▇▇▇▇▇███</td></tr><tr><td>val_loss</td><td>█▂▃▄▂▂▁▂▃▂</td></tr><tr><td>val_loss_repr</td><td>█▃▃▃▁▁▁▂▂▂</td></tr><tr><td>val_loss_target</td><td>█▂▃▄▂▂▁▂▃▂</td></tr></table><br/></div><div class=\"wandb-col\"><h3>Run summary:</h3><br/><table class=\"wandb\"><tr><td>epoch</td><td>9</td></tr><tr><td>lr</td><td>1e-05</td></tr><tr><td>train_loss</td><td>0.18311</td></tr><tr><td>train_loss_repr</td><td>0.00621</td></tr><tr><td>train_loss_target</td><td>0.36001</td></tr><tr><td>trainer/global_step</td><td>349</td></tr><tr><td>val_loss</td><td>0.26314</td></tr><tr><td>val_loss_repr</td><td>0.0066</td></tr><tr><td>val_loss_target</td><td>0.51968</td></tr></table><br/></div></div>"
      ],
      "text/plain": [
       "<IPython.core.display.HTML object>"
      ]
     },
     "metadata": {},
     "output_type": "display_data"
    },
    {
     "data": {
      "text/html": [
       " View run <strong style=\"color:#cdcd00\">SchNet_splitrand-nummol5000</strong> at: <a href='https://wandb.ai/azzouzi_lab/6-frag_target_240726/runs/28zz30mh' target=\"_blank\">https://wandb.ai/azzouzi_lab/6-frag_target_240726/runs/28zz30mh</a><br/> View project at: <a href='https://wandb.ai/azzouzi_lab/6-frag_target_240726' target=\"_blank\">https://wandb.ai/azzouzi_lab/6-frag_target_240726</a><br/>Synced 6 W&B file(s), 0 media file(s), 1 artifact file(s) and 0 other file(s)"
      ],
      "text/plain": [
       "<IPython.core.display.HTML object>"
      ]
     },
     "metadata": {},
     "output_type": "display_data"
    },
    {
     "data": {
      "text/html": [
       "Find logs at: <code>./wandb/run-20240726_153047-28zz30mh/logs</code>"
      ],
      "text/plain": [
       "<IPython.core.display.HTML object>"
      ]
     },
     "metadata": {},
     "output_type": "display_data"
    },
    {
     "data": {
      "text/html": [
       "The new W&B backend becomes opt-out in version 0.18.0; try it out with `wandb.require(\"core\")`! See https://wandb.me/wandb-core for more information."
      ],
      "text/plain": [
       "<IPython.core.display.HTML object>"
      ]
     },
     "metadata": {},
     "output_type": "display_data"
    },
    {
     "name": "stdout",
     "output_type": "stream",
     "text": [
      "Total time taken for model training: 65.8684709072113 seconds\n",
      "config loaded from data/representation_learning//6-frag/target/240726//SchNet/splitrand-nummol5000/\n",
      "Model loaded:  SchNet\n",
      "Model loaded\n",
      "Model evaluation done\n",
      "MAE: 1.40, MSE: 2.88, R2: -1.60\n",
      "MAE: 1.41, MSE: 2.88, R2: -1.66\n",
      "MAE: 0.70, MSE: 0.50, R2: -112.90\n"
     ]
    }
   ],
   "source": [
    "#test script\n",
    "config_dir =  \"data/representation_learning//6-frag/target/240726//SchNet/splitrand-nummol5000/\"\n",
    "%run src/dev_scripts/run_representation_learning_polymer.py --config_dir {config_dir}\n"
   ]
  },
  {
   "cell_type": "code",
   "execution_count": 19,
   "metadata": {},
   "outputs": [
    {
     "name": "stdout",
     "output_type": "stream",
     "text": [
      "9432175.pbs\n"
     ]
    }
   ],
   "source": [
    "\n",
    "# run model training including all data\n",
    "name = \"new_representation_different_embedding\"\n",
    "os.chdir('/rds/general/user/ma11115/home/STK_Search/STK_search')\n",
    "\n",
    "script=\"#!/bin/bash \\n\"+\\\n",
    "    \"#PBS -l walltime=23:59:01 \\n\"+\\\n",
    "    \"#PBS -l select=1:ncpus=4:mem=24gb:ngpus=1:gpu_type=RTX6000 \\n\"+\\\n",
    "    \" \\n\"+\\\n",
    "    \"module load anaconda3/personal \\n\"+ \\\n",
    "    \"source activate Geom3D     \\n\"\n",
    "for config_dir in config_dir_list:\n",
    "    script = script+\\\n",
    "        \"cd /rds/general/user/ma11115/home/STK_Search/STK_search/ \\n\"+\\\n",
    "        f\"python  src/dev_scripts/run_representation_learning_polymer.py --config_dir {config_dir}\\n\"\n",
    "#print(script) \n",
    "with open(f'HPC_bash_script/{name}.sh', 'wb') as f:\n",
    "    f.write( bytes(script, 'utf-8'))  \n",
    "sh_path = f'HPC_bash_script/{name}.sh'\n",
    "!qsub -e ./cache -o ./cache {sh_path}"
   ]
  },
  {
   "cell_type": "code",
   "execution_count": null,
   "metadata": {},
   "outputs": [],
   "source": []
  },
  {
   "cell_type": "markdown",
   "metadata": {},
   "source": [
    "## test representation\n"
   ]
  },
  {
   "cell_type": "markdown",
   "metadata": {},
   "source": []
  },
  {
   "cell_type": "code",
   "execution_count": 20,
   "metadata": {},
   "outputs": [],
   "source": [
    "from stk_search.geom3d import pl_model\n",
    "import torch.nn.functional as Functional\n",
    "from stk_search.geom3d import train_models\n",
    "from stk_search.Representation import  Representation_poly_3d\n",
    "\n",
    "import importlib\n",
    "importlib.reload(Representation_poly_3d)\n",
    "\n",
    "\n",
    "def load_representation_model(config_dir):\n",
    "    config = read_config(config_dir)\n",
    "    chkpt_path = config[\"model_embedding_chkpt\"]\n",
    "    checkpoint = torch.load(chkpt_path, map_location=config[\"device\"])\n",
    "    model, graph_pred_linear = pl_model.model_setup(config)\n",
    "    print(\"Model loaded: \", config[\"model_name\"])\n",
    "    # Pass the model and graph_pred_linear to the Pymodel constructor\n",
    "    pymodel = pl_model.Pymodel_new(model, graph_pred_linear, config)\n",
    "    # Load the state dictionary\n",
    "    pymodel.load_state_dict(state_dict=checkpoint[\"state_dict\"])\n",
    "    #pymodel.load_state_dict(state_dict=checkpoint[\"state_dict\"])\n",
    "    pymodel.to(config[\"device\"])\n",
    "    representation = Representation_poly_3d.Representation_poly_3d(pymodel,device='cpu',\n",
    "                                                                   mongo_client=config['pymongo_client'],\n",
    "                                                                   database=config['database_name'],)\n",
    "    return representation, pymodel"
   ]
  },
  {
   "cell_type": "code",
   "execution_count": null,
   "metadata": {},
   "outputs": [],
   "source": [
    "config_dir"
   ]
  },
  {
   "cell_type": "code",
   "execution_count": 21,
   "metadata": {},
   "outputs": [
    {
     "name": "stdout",
     "output_type": "stream",
     "text": [
      "config loaded from data/representation_learning//6-frag/target/240726//SchNet/splitrand-nummol5000/\n",
      "data/representation_learning//6-frag/target/240726//SchNet/splitrand-nummol5000/epoch=6-val_loss=0.25-other_metric=0.00.ckpt\n",
      "config loaded from data/representation_learning//6-frag/target/240726//SchNet/splitrand-nummol5000/\n",
      "Model loaded:  SchNet\n"
     ]
    }
   ],
   "source": [
    "# load the representation and the model \n",
    "\n",
    "from stk_search.Representation import  Representation_poly_3d\n",
    "import importlib\n",
    "importlib.reload(Representation_poly_3d)\n",
    "#config_dir = \"/rds/general/user/ma11115/home/STK_Search/STK_search/data/representation_learning/6-frag/target/240430/SchNet/splitrand-nummol68864/Emb_dim_12\"\n",
    "config_dir = \"data/representation_learning//6-frag/target/240726//SchNet/splitrand-nummol5000/\"\n",
    "config, min_val_loss = train_models.get_best_embedding_model(config_dir)\n",
    "\n",
    "Representation, pymodel = load_representation_model(config_dir)\n",
    "#representation.device = 'cpu'"
   ]
  },
  {
   "cell_type": "code",
   "execution_count": 23,
   "metadata": {},
   "outputs": [
    {
     "name": "stdout",
     "output_type": "stream",
     "text": [
      "config loaded from data/representation_learning//6-frag/target/240726//SchNet/splitrand-nummol5000/\n"
     ]
    }
   ],
   "source": [
    "df_name = 'train'\n",
    "config = read_config(config_dir)\n",
    "df = pd.read_csv(config[\"running_dir\"] + f\"/df_{df_name}.csv\")\n",
    "df_train = df.sample(1000)\n",
    "df_elements_train = df_train[[f'InChIKey_{x}' for x in range(6)]]\n",
    "df_name = 'test'\n",
    "df_test = pd.read_csv(config[\"running_dir\"] + f\"/df_{df_name}.csv\")\n",
    "df_test = df_test.sample(100)\n",
    "df_elements_test = df_test[[f'InChIKey_{x}' for x in range(6)]]\n",
    "df_name = 'val'\n",
    "df_val = pd.read_csv(config[\"running_dir\"] + f\"/df_{df_name}.csv\")\n",
    "df_val = df_val.sample(100)\n",
    "df_elements_val = df_val[[f'InChIKey_{x}' for x in range(6)]]"
   ]
  },
  {
   "cell_type": "code",
   "execution_count": 24,
   "metadata": {},
   "outputs": [
    {
     "data": {
      "application/vnd.jupyter.widget-view+json": {
       "model_id": "95e53458d7dc4c43b2209a5aed6de7e9",
       "version_major": 2,
       "version_minor": 0
      },
      "text/plain": [
       "Pandas Apply:   0%|          | 0/1000 [00:00<?, ?it/s]"
      ]
     },
     "metadata": {},
     "output_type": "display_data"
    },
    {
     "data": {
      "application/vnd.jupyter.widget-view+json": {
       "model_id": "6ed9a00468654978b630ce69c18335be",
       "version_major": 2,
       "version_minor": 0
      },
      "text/plain": [
       "Pandas Apply:   0%|          | 0/1000 [00:00<?, ?it/s]"
      ]
     },
     "metadata": {},
     "output_type": "display_data"
    },
    {
     "data": {
      "application/vnd.jupyter.widget-view+json": {
       "model_id": "c080fa9b71d9480f840f5c290ffaaa5f",
       "version_major": 2,
       "version_minor": 0
      },
      "text/plain": [
       "Pandas Apply:   0%|          | 0/100 [00:00<?, ?it/s]"
      ]
     },
     "metadata": {},
     "output_type": "display_data"
    },
    {
     "data": {
      "application/vnd.jupyter.widget-view+json": {
       "model_id": "f23f0ca820a149938a2b1e1640206a55",
       "version_major": 2,
       "version_minor": 0
      },
      "text/plain": [
       "Pandas Apply:   0%|          | 0/100 [00:00<?, ?it/s]"
      ]
     },
     "metadata": {},
     "output_type": "display_data"
    },
    {
     "data": {
      "application/vnd.jupyter.widget-view+json": {
       "model_id": "6661b0a0c55946988ce974f817e37631",
       "version_major": 2,
       "version_minor": 0
      },
      "text/plain": [
       "Pandas Apply:   0%|          | 0/100 [00:00<?, ?it/s]"
      ]
     },
     "metadata": {},
     "output_type": "display_data"
    },
    {
     "data": {
      "application/vnd.jupyter.widget-view+json": {
       "model_id": "564e6e45487a4225802146ee5c81c183",
       "version_major": 2,
       "version_minor": 0
      },
      "text/plain": [
       "Pandas Apply:   0%|          | 0/100 [00:00<?, ?it/s]"
      ]
     },
     "metadata": {},
     "output_type": "display_data"
    },
    {
     "data": {
      "image/png": "[encoded data removed]",
      "text/plain": [
       "<Figure size 640x480 with 1 Axes>"
      ]
     },
     "metadata": {},
     "output_type": "display_data"
    },
    {
     "name": "stdout",
     "output_type": "stream",
     "text": [
      "Training scores\n"
     ]
    }
   ],
   "source": [
    "def get_prediction_results(df_element):\n",
    "    with torch.no_grad():\n",
    "        X_rpr = Representation.generate_repr(df_element)\n",
    "        Y_pred = pymodel.graph_pred_linear(X_rpr).flatten(0).detach()\n",
    "    return Y_pred\n",
    "\n",
    "Y_pred_train = get_prediction_results(df_elements_train)\n",
    "Y_pred_test = get_prediction_results(df_elements_test)\n",
    "Y_pred_val = get_prediction_results(df_elements_val)\n",
    "\n",
    "Y_train = df_train['target'].values\n",
    "Y_test = df_test['target'].values\n",
    "Y_val = df_val['target'].values\n",
    "\n",
    "import matplotlib.pyplot as plt\n",
    "%matplotlib inline\n",
    "fig,ax = plt.subplots()\n",
    "ax.scatter(Y_train,Y_pred_train,label='train')  \n",
    "ax.scatter(Y_test,Y_pred_test,label='test')\n",
    "ax.scatter(Y_val,Y_pred_val,label='val')\n",
    "ax.set_xlabel(\"True target\")\n",
    "ax.set_ylabel(\"Predicted target\")\n",
    "ax.legend()\n",
    "plt.show()\n",
    "# print training scores\n",
    "print(\"Training scores\")\n",
    "\n"
   ]
  },
  {
   "cell_type": "code",
   "execution_count": null,
   "metadata": {},
   "outputs": [
    {
     "name": "stdout",
     "output_type": "stream",
     "text": [
      "MSE train: 0.41741392266360355, MAE train: 0.4676972189322651, R2 train: 0.5379552830780119\n",
      "MSE test: 0.15488473709521342, MAE test: 0.32240911147765006, R2 test: -31.378035371730427\n",
      "MSE val: 0.4015274467785838, MAE val: 0.4712140871078302, R2 val: 0.5621482989066203\n"
     ]
    }
   ],
   "source": [
    "def get_scores(Y_pred,Y_true):\n",
    "    from sklearn.metrics import mean_squared_error, mean_absolute_error, r2_score\n",
    "    mse = mean_squared_error(Y_true,Y_pred)\n",
    "    mae = mean_absolute_error(Y_true,Y_pred)\n",
    "    R2 = r2_score(Y_true,Y_pred)\n",
    "\n",
    "    return mse,mae, R2\n",
    "mse_train,mae_train, R2_train = get_scores(Y_pred_train,Y_train)\n",
    "mse_test,mae_test, R2_test = get_scores(Y_pred_test,Y_test)\n",
    "mse_val,mae_val, R2_val = get_scores(Y_pred_val,Y_val)\n",
    "print(f\"MSE train: {mse_train}, MAE train: {mae_train}, R2 train: {R2_train}\")\n",
    "print(f\"MSE test: {mse_test}, MAE test: {mae_test}, R2 test: {R2_test}\")\n",
    "print(f\"MSE val: {mse_val}, MAE val: {mae_val}, R2 val: {R2_val}\")"
   ]
  },
  {
   "cell_type": "code",
   "execution_count": null,
   "metadata": {},
   "outputs": [],
   "source": []
  }
 ],
 "metadata": {
  "kernelspec": {
   "display_name": "stk_search",
   "language": "python",
   "name": "python3"
  },
  "language_info": {
   "codemirror_mode": {
    "name": "ipython",
    "version": 3
   },
   "file_extension": ".py",
   "mimetype": "text/x-python",
   "name": "python",
   "nbconvert_exporter": "python",
   "pygments_lexer": "ipython3",
   "version": "3.10.14"
  }
 },
 "nbformat": 4,
 "nbformat_minor": 2
}
