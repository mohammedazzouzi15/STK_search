{
 "cells": [
  {
   "cell_type": "code",
   "execution_count": 7,
   "metadata": {},
   "outputs": [],
   "source": [
    "import os#\n",
    "#os.chdir('c:\\\\Users\\\\ma11115\\\\OneDrive - Imperial College London\\\\github_folder\\\\STK_SEARCH\\\\')\n",
    "os.chdir(\"/rds/general/user/ma11115/home/STK_Search/STK_search\")\n",
    "from pathlib import Path#\n",
    "import pandas as pd\n",
    "import numpy as np\n",
    "from stk_search.Objective_function import IP_ES1_fosc\n",
    "from stk_search.utils import database_utils\n",
    "import importlib"
   ]
  },
  {
   "cell_type": "code",
   "execution_count": 2,
   "metadata": {},
   "outputs": [],
   "source": [
    "calculator = IP_ES1_fosc(oligomer_size =6)"
   ]
  },
  {
   "cell_type": "code",
   "execution_count": 16,
   "metadata": {},
   "outputs": [
    {
     "name": "stdout",
     "output_type": "stream",
     "text": [
      "29589\n"
     ]
    }
   ],
   "source": [
    "# load the data and the precursors dataset\n",
    "importlib.reload(database_utils)\n",
    "df_total_path = 'data/output/Full_dataset/filtered_data150524.csv'\n",
    "df_precursors_path =\"data/output/Prescursor_data/precursor_data_new_clustering.pkl\"\n",
    "df_total_new , df_precursors= database_utils.load_data_from_file(df_total_path, df_precursors_path,add_feature_frag=True)\n",
    "print(df_total_new.shape[0])"
   ]
  },
  {
   "cell_type": "code",
   "execution_count": 32,
   "metadata": {},
   "outputs": [],
   "source": [
    "df_precursors\n",
    "def generate_list_monomer(df_precursors,oligomer_size = 6,):\n",
    "    df_multi = pd.DataFrame()\n",
    "    for i in range(oligomer_size):\n",
    "        df_multi[f'InChIKey_{i}'] = df_precursors['InChIKey']\n",
    "\n",
    "    return df_multi\n",
    "df_elements = generate_list_monomer(df_precursors,oligomer_size = 6)"
   ]
  },
  {
   "cell_type": "code",
   "execution_count": 49,
   "metadata": {},
   "outputs": [
    {
     "name": "stdout",
     "output_type": "stream",
     "text": [
      "14\n"
     ]
    }
   ],
   "source": [
    "#split_df_elements to chunks and save them\n",
    "def split_df_elements(df_elements,chunk_size = 10):\n",
    "    n_chunks = int(np.ceil(df_elements.shape[0]/chunk_size))\n",
    "    os.makedirs('data/dataframe_to_run_calculations',exist_ok = True)\n",
    "    for i in range(n_chunks):\n",
    "        df_elements.iloc[i*chunk_size:(i+1)*chunk_size].to_csv(f'data/dataframe_to_run_calculations/df_elements_{i+1}.csv',index = False)\n",
    "    return n_chunks\n",
    "num_iterations = split_df_elements(df_elements,chunk_size = 20)\n",
    "print(num_iterations)"
   ]
  },
  {
   "cell_type": "code",
   "execution_count": 52,
   "metadata": {},
   "outputs": [
    {
     "name": "stdout",
     "output_type": "stream",
     "text": [
      "Fitness function: -1.9936456424839286 Inchikey: RVIGGSPUKFBKCN-UHFFFAOYSA-N\n",
      "Error in InChIKey_0    UVCFYBOLMFIWGF-FPYGCLRLSA-N\n",
      "InChIKey_1    UVCFYBOLMFIWGF-FPYGCLRLSA-N\n",
      "InChIKey_2    UVCFYBOLMFIWGF-FPYGCLRLSA-N\n",
      "InChIKey_3    UVCFYBOLMFIWGF-FPYGCLRLSA-N\n",
      "InChIKey_4    UVCFYBOLMFIWGF-FPYGCLRLSA-N\n",
      "InChIKey_5    UVCFYBOLMFIWGF-FPYGCLRLSA-N\n",
      "Name: 1, dtype: object\n",
      "Bad Conformer Id\n",
      "Error in InChIKey_0    PQZAHLJJGPAGBD-OQFOIZHKSA-N\n",
      "InChIKey_1    PQZAHLJJGPAGBD-OQFOIZHKSA-N\n",
      "InChIKey_2    PQZAHLJJGPAGBD-OQFOIZHKSA-N\n",
      "InChIKey_3    PQZAHLJJGPAGBD-OQFOIZHKSA-N\n",
      "InChIKey_4    PQZAHLJJGPAGBD-OQFOIZHKSA-N\n",
      "InChIKey_5    PQZAHLJJGPAGBD-OQFOIZHKSA-N\n",
      "Name: 2, dtype: object\n",
      "Bad Conformer Id\n",
      "Fitness function: -1.7252836757043173 Inchikey: NXUJZUWZLUEEKQ-UHFFFAOYSA-N\n"
     ]
    }
   ],
   "source": [
    "df_elements_1 = pd.read_csv('data/dataframe_to_run_calculations/df_elements_1.csv')\n",
    "%run src/dev_scripts/Calculate_polymer_properties.py --df_path \"data/dataframe_to_run_calculations/df_elements_1.csv\" --oligomer_size 6"
   ]
  },
  {
   "cell_type": "code",
   "execution_count": 51,
   "metadata": {},
   "outputs": [
    {
     "name": "stdout",
     "output_type": "stream",
     "text": [
      "9431399[].pbs\n"
     ]
    }
   ],
   "source": [
    "string_to_run = \"python src/dev_scripts/Calculate_polymer_properties.py --df_path 'data/dataframe_to_run_calculations/df_elements_{$PBS_ARRAY_INDEX}.csv' --oligomer_size 6\"\n",
    "script_qsub = \"#!/bin/bash \\n\"+\\\n",
    "    \"#PBS -l walltime=07:59:01 \\n\"+\\\n",
    "    f\"#PBS -l select=1:ncpus={30}:mem={50}gb:avx=true \\n\"+\\\n",
    "    f\"#PBS -J 1-{num_iterations} \\n\"+\\\n",
    "    \" \\n\"+\\\n",
    "    \"cd /rds/general/user/ma11115/home/STK_Search/STK_search \\n\"+\\\n",
    "    \"module load anaconda3/personal \\n\"+ \\\n",
    "    \"source activate Geom3D     \\n\"+\\\n",
    "    string_to_run\n",
    "import datetime\n",
    "def submit_job(script_qsub,):\n",
    "    now = datetime.datetime.now()\n",
    "    # print (now.strftime(\"%Y-%m-%d %H:%M:%S\"))\n",
    "    sh_file_name = (\n",
    "        f\"HPC_bash_script/runcalculations_{now.strftime('%M_%S_%f')}.sh\"\n",
    "    )\n",
    "    with open(sh_file_name, \"w\") as text_file:\n",
    "        text_file.write(script_qsub)\n",
    "\n",
    "    os.system(f\"qsub -e ./cache -o ./cache {sh_file_name}\")\n",
    "    return\n",
    "submit_job(script_qsub,)"
   ]
  }
 ],
 "metadata": {
  "kernelspec": {
   "display_name": "Geom3D",
   "language": "python",
   "name": "geom3d"
  },
  "language_info": {
   "codemirror_mode": {
    "name": "ipython",
    "version": 3
   },
   "file_extension": ".py",
   "mimetype": "text/x-python",
   "name": "python",
   "nbconvert_exporter": "python",
   "pygments_lexer": "ipython3",
   "version": "3.11.6"
  }
 },
 "nbformat": 4,
 "nbformat_minor": 2
}
