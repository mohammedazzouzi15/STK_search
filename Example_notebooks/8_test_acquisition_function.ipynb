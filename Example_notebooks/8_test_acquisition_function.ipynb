{
 "cells": [
  {
   "cell_type": "code",
   "execution_count": 1,
   "metadata": {},
   "outputs": [],
   "source": [
    "import os#\n",
    "os.chdir('c:\\\\Users\\\\ma11115\\\\OneDrive - Imperial College London\\\\github_folder\\\\STK_SEARCH\\\\')\n",
    "#os.chdir(\"/rds/general/user/ma11115/home/STK_Search/STK_search\")\n",
    "from pathlib import Path#\n",
    "import pandas as pd\n",
    "import torch\n",
    "import numpy as np\n",
    "import importlib\n",
    "from stk_search.utils import database_utils\n",
    "\n",
    "os.makedirs('data/output/search_experiment/search_exp_database', exist_ok=True)"
   ]
  },
  {
   "cell_type": "code",
   "execution_count": 2,
   "metadata": {},
   "outputs": [],
   "source": [
    "# run a search experiment with the new target\n",
    "from stk_search.utils import run_hpc_utils\n",
    "importlib.reload(run_hpc_utils)\n",
    "df_total_path_bench = 'data/output/Full_dataset/30K_benchmark_150524.csv'\n",
    "df_precursor_path =\"data/output/Prescursor_data/precursor_data_200324.pkl\"\n",
    "df_precursor_Mordred_path=\"data/output/Prescursor_data/df_PCA_mordred_descriptor_290224.pkl\"\n",
    "\n",
    "search_space_loc = \"data/input/EXP_search_space/6_frag_all_2024_05_10_12_55_00//search_space_0.pkl\"#\"data/input/EXP_search_space/6_frag_all_2024_05_11_22_40_37//search_space_0.pkl\""
   ]
  },
  {
   "cell_type": "code",
   "execution_count": 3,
   "metadata": {},
   "outputs": [
    {
     "name": "stdout",
     "output_type": "stream",
     "text": [
      "config loaded from data/representation_learning/splitrand-nummol20000\n",
      "Model loaded:  SchNet\n"
     ]
    }
   ],
   "source": [
    "from src.dev_scripts.run_search_new import load_representation_model\n",
    "config_dir_list_new = [f\"data/representation_learning/splitrand-nummol20000\"]\n",
    "config_dir = config_dir_list_new[0]\n",
    "from stk_search.Search_algorithm import BayesianOptimisation_ErrPred\n",
    "importlib.reload(BayesianOptimisation_ErrPred)\n",
    "BO = BayesianOptimisation_ErrPred.BayesianOptimisation_ErrPred(\n",
    "            which_acquisition='UCB_GNN', lim_counter=5\n",
    "        )\n",
    "BO.verbose = True\n",
    "# BO.normalise_input = False\n",
    "BO.device = \"cpu\"  # \"cuda:0\" if torch.cuda.is_available() else \"cpu\"\n",
    "BO.Representation, pymodel = load_representation_model(config_dir)\n",
    "BO.pred_model = pymodel.graph_pred_linear"
   ]
  },
  {
   "cell_type": "code",
   "execution_count": 4,
   "metadata": {},
   "outputs": [
    {
     "data": {
      "application/vnd.jupyter.widget-view+json": {
       "model_id": "6919f62a814b488c967a773e37a8c35d",
       "version_major": 2,
       "version_minor": 0
      },
      "text/plain": [
       "Pandas Apply:   0%|          | 0/101 [00:00<?, ?it/s]"
      ]
     },
     "metadata": {},
     "output_type": "display_data"
    },
    {
     "data": {
      "application/vnd.jupyter.widget-view+json": {
       "model_id": "8f69dd5fae1c42c399d6d66f175a3c5b",
       "version_major": 2,
       "version_minor": 0
      },
      "text/plain": [
       "Pandas Apply:   0%|          | 0/101 [00:00<?, ?it/s]"
      ]
     },
     "metadata": {},
     "output_type": "display_data"
    },
    {
     "name": "stderr",
     "output_type": "stream",
     "text": [
      "c:\\cond\\envs\\stk_search2\\lib\\site-packages\\botorch\\models\\utils\\assorted.py:174: InputDataWarning: Input data is not contained to the unit cube. Please consider min-max scaling the input data.\n",
      "  warnings.warn(msg, InputDataWarning)\n"
     ]
    }
   ],
   "source": [
    "\n",
    "df_Benchmark = pd.read_csv(df_total_path_bench)\n",
    "X_rpr = BO.Representation.generate_repr(df_Benchmark[[f'InChIKey_{i}' for i in range(6)]].loc[0:100,:])\n",
    "fitness_acquired = df_Benchmark['target'].loc[0:100]\n",
    "y_explored_BO =torch.tensor(fitness_acquired, dtype=torch.float64)\n",
    "y_pred_model = BO.pred_model(X_rpr.float())\n",
    "y_Err_BO_norm = y_explored_BO - y_pred_model.squeeze().detach().double()\n",
    "y_Err_BO_norm = (y_Err_BO_norm - y_Err_BO_norm.mean(axis=0)) / (\n",
    "            y_Err_BO_norm.std(axis=0)\n",
    "        )\n",
    "\n",
    "BO.target_normmean = y_Err_BO_norm.mean(axis=0)\n",
    "BO.target_normstd = y_Err_BO_norm.std(axis=0)\n",
    "y_Err_BO_norm = y_Err_BO_norm.reshape(-1, 1)\n",
    "        # train model\n",
    "BO.train_model(X_rpr.double(), y_Err_BO_norm)"
   ]
  },
  {
   "cell_type": "code",
   "execution_count": 5,
   "metadata": {},
   "outputs": [
    {
     "data": {
      "application/vnd.jupyter.widget-view+json": {
       "model_id": "3f2aca5ac28547ca8daf06bf26644a08",
       "version_major": 2,
       "version_minor": 0
      },
      "text/plain": [
       "Pandas Apply:   0%|          | 0/1401 [00:00<?, ?it/s]"
      ]
     },
     "metadata": {},
     "output_type": "display_data"
    },
    {
     "data": {
      "application/vnd.jupyter.widget-view+json": {
       "model_id": "9ee60b2e0927428d83465912068ec5cf",
       "version_major": 2,
       "version_minor": 0
      },
      "text/plain": [
       "Pandas Apply:   0%|          | 0/1400 [00:00<?, ?it/s]"
      ]
     },
     "metadata": {},
     "output_type": "display_data"
    }
   ],
   "source": [
    "X_rpr = BO.Representation.generate_repr(df_Benchmark[[f'InChIKey_{i}' for i in range(6)]].loc[100:1500,:])\n",
    "fitness_acquired = df_Benchmark['target'].loc[100:1500]\n",
    "best_f = torch.max((y_explored_BO)-y_explored_BO.mean()/y_explored_BO.std())#-y_explored_BO.mean()\n",
    "BO.which_acquisition = 'UCB_GNN'\n",
    "acquisition_values_UCB = BO.get_acquisition_values(best_f,X_rpr)\n",
    "BO.which_acquisition = 'EI_GNN'\n",
    "acquisition_values_EI = BO.get_acquisition_values(best_f,X_rpr)\n",
    "%matplotlib inline\n",
    "import matplotlib.pyplot as plt\n",
    "fig,axis = plt.subplots(1,2,figsize=(10,5))    \n",
    "cmap = axis[0].scatter(fitness_acquired,acquisition_values_EI, label='EI_GNN')\n",
    "cmap = axis[1].scatter(fitness_acquired,acquisition_values_UCB, label='UCB_GNN')\n",
    "axis[0].set_ylabel('Acquisition value EI_GNN')\n",
    "axis[1].set_ylabel('Acquisition value UCB_GNN')\n",
    "axis[0].set_xlabel('Combined target property')\n",
    "axis[1].set_xlabel('Combined target property')\n",
    "\n",
    "#plt.colorbar(cmap)\n",
    "fig.tight_layout()\n"
   ]
  },
  {
   "cell_type": "code",
   "execution_count": null,
   "metadata": {},
   "outputs": [],
   "source": []
  }
 ],
 "metadata": {
  "kernelspec": {
   "display_name": "stk_search2",
   "language": "python",
   "name": "python3"
  },
  "language_info": {
   "codemirror_mode": {
    "name": "ipython",
    "version": 3
   },
   "file_extension": ".py",
   "mimetype": "text/x-python",
   "name": "python",
   "nbconvert_exporter": "python",
   "pygments_lexer": "ipython3",
   "version": "3.10.14"
  }
 },
 "nbformat": 4,
 "nbformat_minor": 2
}
