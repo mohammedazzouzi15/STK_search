{
 "cells": [
  {
   "cell_type": "markdown",
   "metadata": {},
   "source": [
    "# initilise the search space\n"
   ]
  },
  {
   "cell_type": "markdown",
   "metadata": {},
   "source": []
  },
  {
   "cell_type": "code",
   "execution_count": 6,
   "metadata": {},
   "outputs": [],
   "source": [
    "\n",
    "import os\n",
    "os.chdir('c:\\\\Users\\\\ma11115\\\\OneDrive - Imperial College London\\\\github_folder\\\\STK_SEARCH\\\\')\n",
    "#os.chdir('/rds/general/user/ma11115/home/STK_Search/STK_search')\n",
    "\n",
    "from stk_search import Searched_space\n",
    "import importlib\n",
    "importlib.reload(Searched_space)\n",
    "import pickle\n",
    "import pymongo\n",
    "import pandas as pd\n",
    "import numpy as np\n",
    "from stk_search.utils import database_utils\n"
   ]
  },
  {
   "cell_type": "code",
   "execution_count": 28,
   "metadata": {},
   "outputs": [
    {
     "name": "stderr",
     "output_type": "stream",
     "text": [
      "C:\\Users\\ma11115\\OneDrive - Imperial College London\\github_folder\\STK_search\\src\\stk_search\\utils\\database_utils.py:109: DtypeWarning: Columns (20) have mixed types. Specify dtype option on import or set low_memory=False.\n",
      "  how=\"left\",\n"
     ]
    }
   ],
   "source": [
    "# load the data and the precursors dataset\n",
    "importlib.reload(database_utils)\n",
    "df_total_path = \"data/output/Full_dataset/New_target200324.csv\"\n",
    "df_precursors_path =\"data/output/Prescursor_data/precursor_data_200324.pkl\"\n",
    "df_total_new , df_precursors= database_utils.load_data_from_file(df_total_path, df_precursors_path)"
   ]
  },
  {
   "cell_type": "code",
   "execution_count": 35,
   "metadata": {},
   "outputs": [
    {
     "data": {
      "text/html": [
       "<div>\n",
       "<style scoped>\n",
       "    .dataframe tbody tr th:only-of-type {\n",
       "        vertical-align: middle;\n",
       "    }\n",
       "\n",
       "    .dataframe tbody tr th {\n",
       "        vertical-align: top;\n",
       "    }\n",
       "\n",
       "    .dataframe thead th {\n",
       "        text-align: right;\n",
       "    }\n",
       "</style>\n",
       "<table border=\"1\" class=\"dataframe\">\n",
       "  <thead>\n",
       "    <tr style=\"text-align: right;\">\n",
       "      <th></th>\n",
       "      <th>InChIKey</th>\n",
       "      <th>Atom_num</th>\n",
       "      <th>HOMO (eV)</th>\n",
       "      <th>LUMO (eV)</th>\n",
       "      <th>HOMO_LUMO_GAP (eV)</th>\n",
       "      <th>IP (eV)</th>\n",
       "      <th>EA (eV)</th>\n",
       "      <th>total energy (eV) vipea</th>\n",
       "      <th>First excited state Energy (eV)</th>\n",
       "      <th>First excited osc</th>\n",
       "      <th>...</th>\n",
       "      <th>pca1</th>\n",
       "      <th>pca2</th>\n",
       "      <th>pca3</th>\n",
       "      <th>pca4</th>\n",
       "      <th>pca5</th>\n",
       "      <th>pca6</th>\n",
       "      <th>pca7</th>\n",
       "      <th>pca8</th>\n",
       "      <th>pca9</th>\n",
       "      <th>check</th>\n",
       "    </tr>\n",
       "  </thead>\n",
       "  <tbody>\n",
       "    <tr>\n",
       "      <th>22</th>\n",
       "      <td>UBDUZEIOGICXGR-UHFFFAOYSA-N</td>\n",
       "      <td>23</td>\n",
       "      <td>-11.0580</td>\n",
       "      <td>-9.2262</td>\n",
       "      <td>1.831859</td>\n",
       "      <td>7.2473</td>\n",
       "      <td>3.4087</td>\n",
       "      <td>-1424.338027</td>\n",
       "      <td>[3.974, 4.064, 4.543, 5.465, 5.667]</td>\n",
       "      <td>[0.1439, 0.0525, 0.0581, 0.0106, 0.8344]</td>\n",
       "      <td>...</td>\n",
       "      <td>-10.270099</td>\n",
       "      <td>6.576304</td>\n",
       "      <td>5.054221</td>\n",
       "      <td>0.812202</td>\n",
       "      <td>4.189384</td>\n",
       "      <td>-0.401446</td>\n",
       "      <td>18.351993</td>\n",
       "      <td>-3.717433</td>\n",
       "      <td>-1.572372</td>\n",
       "      <td>1</td>\n",
       "    </tr>\n",
       "    <tr>\n",
       "      <th>300</th>\n",
       "      <td>OXQHVZWZYSWYCZ-KTAJNNJTSA-N</td>\n",
       "      <td>19</td>\n",
       "      <td>-11.6164</td>\n",
       "      <td>-9.6875</td>\n",
       "      <td>1.928885</td>\n",
       "      <td>7.4860</td>\n",
       "      <td>4.0829</td>\n",
       "      <td>-1364.603610</td>\n",
       "      <td>[3.292, 3.672, 3.85, 4.089, 4.397]</td>\n",
       "      <td>[0.0817, 0.1023, 0.0004, 0.6826, 0.1086]</td>\n",
       "      <td>...</td>\n",
       "      <td>11.493959</td>\n",
       "      <td>-13.390189</td>\n",
       "      <td>1.717817</td>\n",
       "      <td>1.448827</td>\n",
       "      <td>-5.754039</td>\n",
       "      <td>-7.415130</td>\n",
       "      <td>-1.148427</td>\n",
       "      <td>2.936538</td>\n",
       "      <td>0.453192</td>\n",
       "      <td>1</td>\n",
       "    </tr>\n",
       "    <tr>\n",
       "      <th>131</th>\n",
       "      <td>MUGDXWZSYKDJGU-ACAGNQJTSA-N</td>\n",
       "      <td>28</td>\n",
       "      <td>-11.3158</td>\n",
       "      <td>-9.6406</td>\n",
       "      <td>1.675210</td>\n",
       "      <td>7.1002</td>\n",
       "      <td>4.0569</td>\n",
       "      <td>-1687.388442</td>\n",
       "      <td>[3.455, 3.613, 3.729, 4.155, 4.357]</td>\n",
       "      <td>[0.1214, 0.0112, 0.0007, 0.3795, 0.5743]</td>\n",
       "      <td>...</td>\n",
       "      <td>6.309685</td>\n",
       "      <td>-7.964381</td>\n",
       "      <td>2.858713</td>\n",
       "      <td>2.557867</td>\n",
       "      <td>-1.139956</td>\n",
       "      <td>8.581606</td>\n",
       "      <td>-3.999364</td>\n",
       "      <td>4.754177</td>\n",
       "      <td>3.316671</td>\n",
       "      <td>1</td>\n",
       "    </tr>\n",
       "    <tr>\n",
       "      <th>53</th>\n",
       "      <td>CEOYQOFPBNOBGE-OQFOIZHKSA-N</td>\n",
       "      <td>22</td>\n",
       "      <td>-11.6456</td>\n",
       "      <td>-9.8128</td>\n",
       "      <td>1.832803</td>\n",
       "      <td>7.5728</td>\n",
       "      <td>4.1402</td>\n",
       "      <td>-1426.085681</td>\n",
       "      <td>[3.722, 3.835, 3.947, 4.103, 4.483]</td>\n",
       "      <td>[0.0001, 0.0069, 0.1923, 0.4318, 0.0177]</td>\n",
       "      <td>...</td>\n",
       "      <td>-8.817310</td>\n",
       "      <td>9.506401</td>\n",
       "      <td>-0.698424</td>\n",
       "      <td>1.335261</td>\n",
       "      <td>-7.361102</td>\n",
       "      <td>2.304261</td>\n",
       "      <td>-3.028533</td>\n",
       "      <td>2.165446</td>\n",
       "      <td>1.357211</td>\n",
       "      <td>1</td>\n",
       "    </tr>\n",
       "  </tbody>\n",
       "</table>\n",
       "<p>4 rows × 40 columns</p>\n",
       "</div>"
      ],
      "text/plain": [
       "                        InChIKey  Atom_num  HOMO (eV)  LUMO (eV)  \\\n",
       "22   UBDUZEIOGICXGR-UHFFFAOYSA-N        23   -11.0580    -9.2262   \n",
       "300  OXQHVZWZYSWYCZ-KTAJNNJTSA-N        19   -11.6164    -9.6875   \n",
       "131  MUGDXWZSYKDJGU-ACAGNQJTSA-N        28   -11.3158    -9.6406   \n",
       "53   CEOYQOFPBNOBGE-OQFOIZHKSA-N        22   -11.6456    -9.8128   \n",
       "\n",
       "     HOMO_LUMO_GAP (eV)  IP (eV)  EA (eV)  total energy (eV) vipea  \\\n",
       "22             1.831859   7.2473   3.4087             -1424.338027   \n",
       "300            1.928885   7.4860   4.0829             -1364.603610   \n",
       "131            1.675210   7.1002   4.0569             -1687.388442   \n",
       "53             1.832803   7.5728   4.1402             -1426.085681   \n",
       "\n",
       "         First excited state Energy (eV)  \\\n",
       "22   [3.974, 4.064, 4.543, 5.465, 5.667]   \n",
       "300   [3.292, 3.672, 3.85, 4.089, 4.397]   \n",
       "131  [3.455, 3.613, 3.729, 4.155, 4.357]   \n",
       "53   [3.722, 3.835, 3.947, 4.103, 4.483]   \n",
       "\n",
       "                            First excited osc  ...       pca1       pca2  \\\n",
       "22   [0.1439, 0.0525, 0.0581, 0.0106, 0.8344]  ... -10.270099   6.576304   \n",
       "300  [0.0817, 0.1023, 0.0004, 0.6826, 0.1086]  ...  11.493959 -13.390189   \n",
       "131  [0.1214, 0.0112, 0.0007, 0.3795, 0.5743]  ...   6.309685  -7.964381   \n",
       "53   [0.0001, 0.0069, 0.1923, 0.4318, 0.0177]  ...  -8.817310   9.506401   \n",
       "\n",
       "         pca3      pca4      pca5      pca6       pca7      pca8      pca9  \\\n",
       "22   5.054221  0.812202  4.189384 -0.401446  18.351993 -3.717433 -1.572372   \n",
       "300  1.717817  1.448827 -5.754039 -7.415130  -1.148427  2.936538  0.453192   \n",
       "131  2.858713  2.557867 -1.139956  8.581606  -3.999364  4.754177  3.316671   \n",
       "53  -0.698424  1.335261 -7.361102  2.304261  -3.028533  2.165446  1.357211   \n",
       "\n",
       "     check  \n",
       "22       1  \n",
       "300      1  \n",
       "131      1  \n",
       "53       1  \n",
       "\n",
       "[4 rows x 40 columns]"
      ]
     },
     "execution_count": 35,
     "metadata": {},
     "output_type": "execute_result"
    }
   ],
   "source": [
    "df_to_plot"
   ]
  },
  {
   "cell_type": "code",
   "execution_count": 38,
   "metadata": {},
   "outputs": [
    {
     "data": {
      "image/png": "[encoded data removed]",
      "text/plain": [
       "<IPython.core.display.Image object>"
      ]
     },
     "execution_count": 38,
     "metadata": {},
     "output_type": "execute_result"
    }
   ],
   "source": [
    "# plot some example of precursors\n",
    "from rdkit.Chem import Draw\n",
    "from rdkit import Chem\n",
    "mol_list = []\n",
    "mol_label = []\n",
    "df_to_plot = df_precursors.sample(4)\n",
    "df_to_plot['mol_opt_smiles'] = df_to_plot['mol_opt_2'].apply(lambda x : Chem.MolFromSmiles(Chem.MolToSmiles(x)))\n",
    "mol_list.extend(df_to_plot['mol_opt_smiles'].values)\n",
    "mol_label.extend(df_to_plot['InChIKey'].values)\n",
    "# Draw molecules\n",
    "img = Draw.MolsToGridImage(mol_list, molsPerRow=4, subImgSize=(300, 300),legends=[f\"{label}\" for label in mol_label])  # adjust molsPerRow and subImgSize as needed\n",
    "img"
   ]
  },
  {
   "cell_type": "code",
   "execution_count": 39,
   "metadata": {},
   "outputs": [
    {
     "name": "stdout",
     "output_type": "stream",
     "text": [
      "Index(['InChIKey'], dtype='object')\n"
     ]
    },
    {
     "data": {
      "application/vnd.jupyter.widget-view+json": {
       "model_id": "1a3a5b7f8e254993afba9086ca61d85d",
       "version_major": 2,
       "version_minor": 0
      },
      "text/plain": [
       "VBox(children=(Dropdown(description='Property of fragment:', options=('Atom_num', 'HOMO (eV)', 'LUMO (eV)', 'H…"
      ]
     },
     "metadata": {},
     "output_type": "display_data"
    },
    {
     "data": {
      "application/vnd.jupyter.widget-view+json": {
       "model_id": "22148f1832c042029de1651eaf7195d5",
       "version_major": 2,
       "version_minor": 0
      },
      "text/plain": [
       "VBox(children=(Dropdown(description='Syntax:', options=((0, 0, 0, 0, 0, 0), (0, 0, 0, 0, 0, 5), (0, 0, 0, 0, 4…"
      ]
     },
     "metadata": {},
     "output_type": "display_data"
    },
    {
     "data": {
      "application/vnd.jupyter.widget-view+json": {
       "model_id": "aff745fd9caa4738ab7f55b0e4237a02",
       "version_major": 2,
       "version_minor": 0
      },
      "text/plain": [
       "VBox(children=(SelectMultiple(description='Fragment 0', disabled=True, layout=Layout(height='100px'), options=…"
      ]
     },
     "metadata": {},
     "output_type": "display_data"
    },
    {
     "data": {
      "application/vnd.jupyter.widget-view+json": {
       "model_id": "884501b53e80422bbadbe614cebfdf6e",
       "version_major": 2,
       "version_minor": 0
      },
      "text/plain": [
       "VBox(children=(Text(value='', description='Label:'), Button(description='Add to histogram', style=ButtonStyle(…"
      ]
     },
     "metadata": {},
     "output_type": "display_data"
    },
    {
     "data": {
      "application/vnd.jupyter.widget-view+json": {
       "model_id": "10f46d1605b242e58fc146d9f717162d",
       "version_major": 2,
       "version_minor": 0
      },
      "text/plain": [
       "VBox(children=(interactive(children=(Output(),), _dom_classes=('widget-interact',)), interactive(children=(Dro…"
      ]
     },
     "metadata": {},
     "output_type": "display_data"
    }
   ],
   "source": [
    "#%%  generate the search space\n",
    "number_of_fragments = 6\n",
    "target_name = 'target' # specify the target name ( here target refers to the combined property)\n",
    "aim = 0.0 # specify the target value\n",
    "\n",
    "SP = Searched_space.Searched_Space(number_of_fragments=number_of_fragments,df=df_precursors,features_frag=df_precursors.columns[0:1],generation_type='conditional')\n",
    "print(SP.features_frag)\n",
    "SP.generate_interactive_condition_V2(df_total=df_total_new)"
   ]
  },
  {
   "cell_type": "code",
   "execution_count": 40,
   "metadata": {},
   "outputs": [
    {
     "name": "stdout",
     "output_type": "stream",
     "text": [
      "0 data\\search_space_properties_2023_09_11_12_03_15.pkl\n",
      "1 data\\search_space_properties_2023_09_21_16_41_29.pkl\n",
      "2 data\\search_space_properties_2023_09_22_09_04_06.pkl\n",
      "3 data\\search_space_properties_2023_10_30_11_19_54.pkl\n",
      "4 data\\search_space_properties_2023_10_30_15_51_43.pkl\n",
      "5 data\\search_space_properties_2023_10_30_15_52_38.pkl\n",
      "6 data\\search_space_properties_2023_10_30_15_54_12.pkl\n",
      "7 data\\search_space_properties_2023_10_30_15_54_29.pkl\n",
      "8 data\\search_space_properties_2023_10_30_16_15_58.pkl\n",
      "9 data\\search_space_properties_2023_10_30_16_20_54.pkl\n",
      "10 data\\search_space_properties_2024_05_07_11_27_14.pkl\n"
     ]
    }
   ],
   "source": [
    "import glob\n",
    "#%% \n",
    "\n",
    "search_spaces_dfs = glob.glob('data/*pkl')\n",
    "for id,df_path_SP in enumerate(search_spaces_dfs):\n",
    "    print(id,df_path_SP)\n"
   ]
  },
  {
   "cell_type": "code",
   "execution_count": 42,
   "metadata": {},
   "outputs": [
    {
     "data": {
      "text/html": [
       "<div>\n",
       "<style scoped>\n",
       "    .dataframe tbody tr th:only-of-type {\n",
       "        vertical-align: middle;\n",
       "    }\n",
       "\n",
       "    .dataframe tbody tr th {\n",
       "        vertical-align: top;\n",
       "    }\n",
       "\n",
       "    .dataframe thead th {\n",
       "        text-align: right;\n",
       "    }\n",
       "</style>\n",
       "<table border=\"1\" class=\"dataframe\">\n",
       "  <thead>\n",
       "    <tr style=\"text-align: right;\">\n",
       "      <th></th>\n",
       "      <th>number of elements</th>\n",
       "      <th>syntax</th>\n",
       "      <th>conditions</th>\n",
       "      <th>Elements in top 5%</th>\n",
       "      <th>number of elements evaluated</th>\n",
       "    </tr>\n",
       "  </thead>\n",
       "  <tbody>\n",
       "    <tr>\n",
       "      <th>0</th>\n",
       "      <td>820972403643456</td>\n",
       "      <td>[0, 1, 2, 3, 4, 5]</td>\n",
       "      <td>[[], [], [], [], [], []]</td>\n",
       "      <td>0</td>\n",
       "      <td>0</td>\n",
       "    </tr>\n",
       "  </tbody>\n",
       "</table>\n",
       "</div>"
      ],
      "text/plain": [
       "   number of elements              syntax                conditions  \\\n",
       "0     820972403643456  [0, 1, 2, 3, 4, 5]  [[], [], [], [], [], []]   \n",
       "\n",
       "   Elements in top 5%  number of elements evaluated  \n",
       "0                   0                             0  "
      ]
     },
     "execution_count": 42,
     "metadata": {},
     "output_type": "execute_result"
    }
   ],
   "source": [
    "df_SP = pd.read_pickle(search_spaces_dfs[10])\n",
    "df_SP"
   ]
  },
  {
   "cell_type": "code",
   "execution_count": 44,
   "metadata": {},
   "outputs": [
    {
     "name": "stdout",
     "output_type": "stream",
     "text": [
      "820972403643456\n",
      "[0, 1, 2, 3, 4, 5]\n",
      "[[], [], [], [], [], []]\n"
     ]
    }
   ],
   "source": [
    "# load the saved dataframe with all the tested conditions\n",
    "# and output it in order to select a few to add to the bactk experiment\n",
    "\n",
    "import pickle\n",
    "from datetime import datetime\n",
    "import os\n",
    "\n",
    "def save_SP_for_EXP(df:pd.DataFrame,index_list:list,exp_name:str,number_of_fragments):\n",
    "    time_now = datetime.now().strftime(\"%Y_%m_%d_%H_%M_%S\")\n",
    "    save_dir = f'data/input/EXP_search_space/{exp_name}_{time_now}/'\n",
    "    os.makedirs(save_dir,exist_ok=True)\n",
    "    SP = Searched_space.Searched_Space(number_of_fragments=number_of_fragments,df=df_precursors,features_frag=df_precursors.columns[0:1],generation_type='conditional')\n",
    "    SP.features_frag=SP.features_frag.append(df_precursors.columns[17:23])\n",
    "    SP.features_frag=SP.features_frag.append(df_precursors.columns[1:7])\n",
    "\n",
    "    for id in index_list:\n",
    "        SP.conditions_list = df['conditions'].values[id]\n",
    "        SP.syntax = list(df['syntax'].values[id])[:number_of_fragments]\n",
    "        #SP.redefine_search_space()\n",
    "        print(SP.space_size)\n",
    "        print(SP.syntax)\n",
    "        print(SP.conditions_list)\n",
    "        pickle.dump(SP,file=open(save_dir+f'/search_space_{id}.pkl','wb'))\n",
    "    return SP, save_dir\n",
    "experiment_name = '6_frag_all'\n",
    "SP,save_dir= save_SP_for_EXP(df_SP,[0],experiment_name,number_of_fragments)"
   ]
  }
 ],
 "metadata": {
  "kernelspec": {
   "display_name": "Geom3D",
   "language": "python",
   "name": "python3"
  },
  "language_info": {
   "codemirror_mode": {
    "name": "ipython",
    "version": 3
   },
   "file_extension": ".py",
   "mimetype": "text/x-python",
   "name": "python",
   "nbconvert_exporter": "python",
   "pygments_lexer": "ipython3",
   "version": "3.11.6"
  }
 },
 "nbformat": 4,
 "nbformat_minor": 2
}
