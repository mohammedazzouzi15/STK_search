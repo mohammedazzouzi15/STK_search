{
 "cells": [
  {
   "cell_type": "code",
   "execution_count": 1,
   "metadata": {},
   "outputs": [
    {
     "data": {
      "text/plain": [
       "'2.3.0+cu121'"
      ]
     },
     "execution_count": 1,
     "metadata": {},
     "output_type": "execute_result"
    }
   ],
   "source": [
    "import torch\n",
    "torch.__version__"
   ]
  },
  {
   "cell_type": "code",
   "execution_count": 2,
   "metadata": {},
   "outputs": [],
   "source": [
    "import os#\n",
    "os.chdir('/home/mohammed/Work/STK_search')\n",
    "#os.chdir(\"/rds/general/user/ma11115/home/STK_Search/STK_search\")\n",
    "from pathlib import Path#\n",
    "\n",
    "import pandas as pd\n",
    "import torch\n",
    "\n",
    "\n",
    "import numpy as np\n",
    "from stk_search.utils.config_utils import read_config, save_config\n",
    "from stk_search.utils import update_datasets\n",
    "import importlib\n",
    "importlib.reload(update_datasets)\n",
    "os.makedirs('data/output/search_experiment/search_exp_database', exist_ok=True)"
   ]
  },
  {
   "cell_type": "code",
   "execution_count": 3,
   "metadata": {},
   "outputs": [
    {
     "name": "stdout",
     "output_type": "stream",
     "text": [
      "[0, 1, 2, 3, 4, 5]\n",
      "[[], [], [], [], [], []]\n",
      "size of the search space is : 1.86e+14\n"
     ]
    },
    {
     "data": {
      "text/html": [
       "<div>\n",
       "<style scoped>\n",
       "    .dataframe tbody tr th:only-of-type {\n",
       "        vertical-align: middle;\n",
       "    }\n",
       "\n",
       "    .dataframe tbody tr th {\n",
       "        vertical-align: top;\n",
       "    }\n",
       "\n",
       "    .dataframe thead th {\n",
       "        text-align: right;\n",
       "    }\n",
       "</style>\n",
       "<table border=\"1\" class=\"dataframe\">\n",
       "  <thead>\n",
       "    <tr style=\"text-align: right;\">\n",
       "      <th></th>\n",
       "      <th>InChIKey</th>\n",
       "      <th>Atom_num</th>\n",
       "      <th>HOMO (eV)</th>\n",
       "      <th>LUMO (eV)</th>\n",
       "      <th>HOMO_LUMO_GAP (eV)</th>\n",
       "      <th>IP (eV)</th>\n",
       "      <th>EA (eV)</th>\n",
       "      <th>total energy (eV) vipea</th>\n",
       "      <th>First excited state Energy (eV)</th>\n",
       "      <th>First excited osc</th>\n",
       "      <th>...</th>\n",
       "      <th>pca8</th>\n",
       "      <th>pca9</th>\n",
       "      <th>mol_opt_smiles</th>\n",
       "      <th>mol_org</th>\n",
       "      <th>mol_org_smile</th>\n",
       "      <th>ECFP</th>\n",
       "      <th>num_atoms</th>\n",
       "      <th>num_rings</th>\n",
       "      <th>cluster</th>\n",
       "      <th>orgcluster</th>\n",
       "    </tr>\n",
       "  </thead>\n",
       "  <tbody>\n",
       "    <tr>\n",
       "      <th>0</th>\n",
       "      <td>KYORXLIHDAZXPK-UHFFFAOYSA-N</td>\n",
       "      <td>25</td>\n",
       "      <td>-11.5745</td>\n",
       "      <td>-10.1316</td>\n",
       "      <td>1.442883</td>\n",
       "      <td>7.1531</td>\n",
       "      <td>3.8935</td>\n",
       "      <td>-1699.611759</td>\n",
       "      <td>[2.97, 3.437, 3.827, 3.901, 4.181]</td>\n",
       "      <td>[0.1323, 0.3332, 0.001, 0.4911, 0.5211]</td>\n",
       "      <td>...</td>\n",
       "      <td>-0.561829</td>\n",
       "      <td>1.909060</td>\n",
       "      <td>&lt;rdkit.Chem.rdchem.Mol object at 0x72195f6813b0&gt;</td>\n",
       "      <td>&lt;rdkit.Chem.rdchem.Mol object at 0x72195f537a90&gt;</td>\n",
       "      <td>C=C1C(=O)c2c(sc3ccccc23)C1=C(C#N)C#N</td>\n",
       "      <td>[1, 1, 1, 0, 1, 1, 0, 1, 1, 1, 1, 0, 1, 0, 1, ...</td>\n",
       "      <td>25.0</td>\n",
       "      <td>3.0</td>\n",
       "      <td>0</td>\n",
       "      <td>0</td>\n",
       "    </tr>\n",
       "    <tr>\n",
       "      <th>2</th>\n",
       "      <td>UVCFYBOLMFIWGF-FPYGCLRLSA-N</td>\n",
       "      <td>22</td>\n",
       "      <td>-11.6536</td>\n",
       "      <td>-9.8300</td>\n",
       "      <td>1.823610</td>\n",
       "      <td>7.5190</td>\n",
       "      <td>4.1701</td>\n",
       "      <td>-1426.075709</td>\n",
       "      <td>[3.543, 3.828, 3.987, 4.107, 4.23]</td>\n",
       "      <td>[0.0026, 0.1704, 0.206, 0.2256, 0.0395]</td>\n",
       "      <td>...</td>\n",
       "      <td>3.484916</td>\n",
       "      <td>0.540030</td>\n",
       "      <td>&lt;rdkit.Chem.rdchem.Mol object at 0x72195f681e50&gt;</td>\n",
       "      <td>&lt;rdkit.Chem.rdchem.Mol object at 0x72195f537ae0&gt;</td>\n",
       "      <td>[H]/C=C1\\C(=O)c2c(F)cccc2C1=C(C#N)C#N</td>\n",
       "      <td>[1, 0, 0, 1, 0, 1, 0, 0, 1, 1, 1, 0, 0, 0, 0, ...</td>\n",
       "      <td>22.0</td>\n",
       "      <td>2.0</td>\n",
       "      <td>0</td>\n",
       "      <td>2</td>\n",
       "    </tr>\n",
       "    <tr>\n",
       "      <th>3</th>\n",
       "      <td>PQZAHLJJGPAGBD-OQFOIZHKSA-N</td>\n",
       "      <td>22</td>\n",
       "      <td>-11.5774</td>\n",
       "      <td>-9.8714</td>\n",
       "      <td>1.706007</td>\n",
       "      <td>7.5324</td>\n",
       "      <td>4.1806</td>\n",
       "      <td>-1426.205720</td>\n",
       "      <td>[3.779, 3.813, 4.035, 4.115, 4.429]</td>\n",
       "      <td>[0.0002, 0.0277, 0.1648, 0.3408, 0.0013]</td>\n",
       "      <td>...</td>\n",
       "      <td>8.579813</td>\n",
       "      <td>1.014201</td>\n",
       "      <td>&lt;rdkit.Chem.rdchem.Mol object at 0x72195f681ea0&gt;</td>\n",
       "      <td>&lt;rdkit.Chem.rdchem.Mol object at 0x72195f537b30&gt;</td>\n",
       "      <td>[H]/C=C1\\C(=O)c2ccc(F)cc2C1=C(C#N)C#N</td>\n",
       "      <td>[1, 0, 0, 1, 0, 1, 0, 0, 1, 1, 1, 0, 0, 0, 0, ...</td>\n",
       "      <td>22.0</td>\n",
       "      <td>2.0</td>\n",
       "      <td>0</td>\n",
       "      <td>3</td>\n",
       "    </tr>\n",
       "    <tr>\n",
       "      <th>4</th>\n",
       "      <td>HFUBKQHDPJZQIW-UHFFFAOYSA-N</td>\n",
       "      <td>13</td>\n",
       "      <td>-11.6185</td>\n",
       "      <td>-9.5986</td>\n",
       "      <td>2.019861</td>\n",
       "      <td>7.7105</td>\n",
       "      <td>3.7821</td>\n",
       "      <td>-1085.337355</td>\n",
       "      <td>[4.436, 4.438, 5.127, 5.751, 5.826]</td>\n",
       "      <td>[0.2419, 0.2902, 0.0, 0.0, 0.0098]</td>\n",
       "      <td>...</td>\n",
       "      <td>2.916314</td>\n",
       "      <td>1.085874</td>\n",
       "      <td>&lt;rdkit.Chem.rdchem.Mol object at 0x72195f681ef0&gt;</td>\n",
       "      <td>&lt;rdkit.Chem.rdchem.Mol object at 0x72195f537b80&gt;</td>\n",
       "      <td>Fc1cc2c(cc1F)N=S=N2</td>\n",
       "      <td>[0, 0, 0, 0, 0, 0, 1, 0, 0, 0, 0, 1, 1, 0, 0, ...</td>\n",
       "      <td>13.0</td>\n",
       "      <td>2.0</td>\n",
       "      <td>1</td>\n",
       "      <td>4</td>\n",
       "    </tr>\n",
       "    <tr>\n",
       "      <th>5</th>\n",
       "      <td>XORWEKRDQCXPID-UHFFFAOYSA-N</td>\n",
       "      <td>28</td>\n",
       "      <td>-11.3061</td>\n",
       "      <td>-9.1919</td>\n",
       "      <td>2.114258</td>\n",
       "      <td>7.1941</td>\n",
       "      <td>3.5724</td>\n",
       "      <td>-1474.375137</td>\n",
       "      <td>[3.81, 3.855, 4.251, 4.645, 4.799]</td>\n",
       "      <td>[0.1441, 0.2486, 0.0869, 0.0024, 0.0025]</td>\n",
       "      <td>...</td>\n",
       "      <td>3.638328</td>\n",
       "      <td>0.097783</td>\n",
       "      <td>&lt;rdkit.Chem.rdchem.Mol object at 0x72195f681f40&gt;</td>\n",
       "      <td>&lt;rdkit.Chem.rdchem.Mol object at 0x72195f537bd0&gt;</td>\n",
       "      <td>CCN1C(=O)c2cccc3cccc(c23)C1=O</td>\n",
       "      <td>[0, 1, 0, 0, 0, 0, 0, 0, 0, 0, 1, 0, 0, 0, 0, ...</td>\n",
       "      <td>28.0</td>\n",
       "      <td>3.0</td>\n",
       "      <td>1</td>\n",
       "      <td>5</td>\n",
       "    </tr>\n",
       "  </tbody>\n",
       "</table>\n",
       "<p>5 rows × 47 columns</p>\n",
       "</div>"
      ],
      "text/plain": [
       "                      InChIKey  Atom_num  HOMO (eV)  LUMO (eV)  \\\n",
       "0  KYORXLIHDAZXPK-UHFFFAOYSA-N        25   -11.5745   -10.1316   \n",
       "2  UVCFYBOLMFIWGF-FPYGCLRLSA-N        22   -11.6536    -9.8300   \n",
       "3  PQZAHLJJGPAGBD-OQFOIZHKSA-N        22   -11.5774    -9.8714   \n",
       "4  HFUBKQHDPJZQIW-UHFFFAOYSA-N        13   -11.6185    -9.5986   \n",
       "5  XORWEKRDQCXPID-UHFFFAOYSA-N        28   -11.3061    -9.1919   \n",
       "\n",
       "   HOMO_LUMO_GAP (eV)  IP (eV)  EA (eV)  total energy (eV) vipea  \\\n",
       "0            1.442883   7.1531   3.8935             -1699.611759   \n",
       "2            1.823610   7.5190   4.1701             -1426.075709   \n",
       "3            1.706007   7.5324   4.1806             -1426.205720   \n",
       "4            2.019861   7.7105   3.7821             -1085.337355   \n",
       "5            2.114258   7.1941   3.5724             -1474.375137   \n",
       "\n",
       "       First excited state Energy (eV)  \\\n",
       "0   [2.97, 3.437, 3.827, 3.901, 4.181]   \n",
       "2   [3.543, 3.828, 3.987, 4.107, 4.23]   \n",
       "3  [3.779, 3.813, 4.035, 4.115, 4.429]   \n",
       "4  [4.436, 4.438, 5.127, 5.751, 5.826]   \n",
       "5   [3.81, 3.855, 4.251, 4.645, 4.799]   \n",
       "\n",
       "                          First excited osc  ...      pca8      pca9  \\\n",
       "0   [0.1323, 0.3332, 0.001, 0.4911, 0.5211]  ... -0.561829  1.909060   \n",
       "2   [0.0026, 0.1704, 0.206, 0.2256, 0.0395]  ...  3.484916  0.540030   \n",
       "3  [0.0002, 0.0277, 0.1648, 0.3408, 0.0013]  ...  8.579813  1.014201   \n",
       "4        [0.2419, 0.2902, 0.0, 0.0, 0.0098]  ...  2.916314  1.085874   \n",
       "5  [0.1441, 0.2486, 0.0869, 0.0024, 0.0025]  ...  3.638328  0.097783   \n",
       "\n",
       "                                     mol_opt_smiles  \\\n",
       "0  <rdkit.Chem.rdchem.Mol object at 0x72195f6813b0>   \n",
       "2  <rdkit.Chem.rdchem.Mol object at 0x72195f681e50>   \n",
       "3  <rdkit.Chem.rdchem.Mol object at 0x72195f681ea0>   \n",
       "4  <rdkit.Chem.rdchem.Mol object at 0x72195f681ef0>   \n",
       "5  <rdkit.Chem.rdchem.Mol object at 0x72195f681f40>   \n",
       "\n",
       "                                            mol_org  \\\n",
       "0  <rdkit.Chem.rdchem.Mol object at 0x72195f537a90>   \n",
       "2  <rdkit.Chem.rdchem.Mol object at 0x72195f537ae0>   \n",
       "3  <rdkit.Chem.rdchem.Mol object at 0x72195f537b30>   \n",
       "4  <rdkit.Chem.rdchem.Mol object at 0x72195f537b80>   \n",
       "5  <rdkit.Chem.rdchem.Mol object at 0x72195f537bd0>   \n",
       "\n",
       "                           mol_org_smile  \\\n",
       "0   C=C1C(=O)c2c(sc3ccccc23)C1=C(C#N)C#N   \n",
       "2  [H]/C=C1\\C(=O)c2c(F)cccc2C1=C(C#N)C#N   \n",
       "3  [H]/C=C1\\C(=O)c2ccc(F)cc2C1=C(C#N)C#N   \n",
       "4                    Fc1cc2c(cc1F)N=S=N2   \n",
       "5          CCN1C(=O)c2cccc3cccc(c23)C1=O   \n",
       "\n",
       "                                                ECFP num_atoms  num_rings  \\\n",
       "0  [1, 1, 1, 0, 1, 1, 0, 1, 1, 1, 1, 0, 1, 0, 1, ...      25.0        3.0   \n",
       "2  [1, 0, 0, 1, 0, 1, 0, 0, 1, 1, 1, 0, 0, 0, 0, ...      22.0        2.0   \n",
       "3  [1, 0, 0, 1, 0, 1, 0, 0, 1, 1, 1, 0, 0, 0, 0, ...      22.0        2.0   \n",
       "4  [0, 0, 0, 0, 0, 0, 1, 0, 0, 0, 0, 1, 1, 0, 0, ...      13.0        2.0   \n",
       "5  [0, 1, 0, 0, 0, 0, 0, 0, 0, 0, 1, 0, 0, 0, 0, ...      28.0        3.0   \n",
       "\n",
       "   cluster  orgcluster  \n",
       "0        0           0  \n",
       "2        0           2  \n",
       "3        0           3  \n",
       "4        1           4  \n",
       "5        1           5  \n",
       "\n",
       "[5 rows x 47 columns]"
      ]
     },
     "execution_count": 3,
     "metadata": {},
     "output_type": "execute_result"
    }
   ],
   "source": [
    "# load Search space and check conditions\n",
    "import pickle\n",
    "search_space_loc = \"data/input/STK_search_space/search_space_test.pkl\"\n",
    "\n",
    "save_dir = 'data/input/STK_search_space'\n",
    "id = 'test'\n",
    "SP = pickle.load(open(save_dir+f'/search_space_{id}.pkl', 'rb'))\n",
    "SP.update()\n",
    "print(SP.syntax)\n",
    "print(SP.conditions_list)\n",
    "print(f\"size of the search space is : {SP.get_space_size():.2e}\")\n",
    "SP.df_precursors.head()"
   ]
  },
  {
   "cell_type": "code",
   "execution_count": 6,
   "metadata": {},
   "outputs": [],
   "source": [
    "from stk_search.Objective_function import  Look_up_table\n",
    "df_total_path = \"data/Full_dataset/New_target07072024.csv\"\n",
    "df_total = pd.read_csv(df_total_path)\n",
    "oligomer_size = 6\n",
    "target_name = 'target'\n",
    "aim = 'maximise'\n",
    "df_total['target'] = (\n",
    "        -np.abs(df_total[\"ES1\"] - 3)\n",
    "        - np.abs(df_total[\"ionisation potential (eV)\"] - 5.5)\n",
    "        + np.log10(df_total[\"fosc1\"])\n",
    "    )\n",
    "df_total.to_csv(df_total_path, index=False)\n",
    "# define the evaluation function\n",
    "objective_function = Look_up_table(\n",
    "            df_total, oligomer_size, target_name=target_name, aim=aim\n",
    "        )"
   ]
  },
  {
   "cell_type": "code",
   "execution_count": null,
   "metadata": {},
   "outputs": [
    {
     "name": "stdout",
     "output_type": "stream",
     "text": [
      "0    AAAIKLIUXQWZQC-SBRRWJCQSA-N\n",
      "Name: InChIKey, dtype: object\n"
     ]
    },
    {
     "data": {
      "text/plain": [
       "(-3.0251355934769806, 'AAAIKLIUXQWZQC-SBRRWJCQSA-N')"
      ]
     },
     "execution_count": 6,
     "metadata": {},
     "output_type": "execute_result"
    }
   ],
   "source": [
    "# test evaluation function\n",
    "molecule_id = 0\n",
    "molecule_properties = SP.check_df_for_element_from_SP(df_total).iloc[[molecule_id]]\n",
    "print(molecule_properties['InChIKey'])\n",
    "molecule_properties[[f'InChIKey_{x}' for x in range(oligomer_size)]]\n",
    "objective_function.evaluate_element(molecule_properties[[f'InChIKey_{x}' for x in range(oligomer_size)]])"
   ]
  },
  {
   "cell_type": "code",
   "execution_count": 553,
   "metadata": {},
   "outputs": [],
   "source": [
    "# initialise search algorithm \n",
    "from stk_search.Search_algorithm import BayesianOptimisation\n",
    "from stk_search.Search_algorithm import Ea_surrogate\n",
    "\n",
    "from stk_search.Search_algorithm.Search_algorithm import evolution_algorithm\n",
    "from stk_search.Search_algorithm import Search_algorithm\n",
    "importlib.reload(Search_algorithm)\n",
    "importlib.reload(Ea_surrogate)\n",
    "importlib.reload(BayesianOptimisation)\n",
    "which_acquisition = 'EI'\n",
    "lim_counter = 10\n",
    "BO_learned = BayesianOptimisation.BayesianOptimisation(which_acquisition=which_acquisition, lim_counter=lim_counter)\n",
    "EA = Search_algorithm.evolution_algorithm()\n",
    "SUEA = Ea_surrogate.Ea_surrogate()\n",
    "BO_Mord = BayesianOptimisation.BayesianOptimisation(which_acquisition=which_acquisition, lim_counter=lim_counter)"
   ]
  },
  {
   "cell_type": "code",
   "execution_count": null,
   "metadata": {},
   "outputs": [],
   "source": []
  },
  {
   "cell_type": "code",
   "execution_count": 584,
   "metadata": {},
   "outputs": [
    {
     "name": "stdout",
     "output_type": "stream",
     "text": [
      "config loaded from data/representation_learning//6-frag/target/240726//SchNet/splitrand-nummol5000/\n",
      "data/representation_learning//6-frag/target/240726//SchNet/splitrand-nummol5000/epoch=6-val_loss=0.25-other_metric=0.00.ckpt\n",
      "config loaded from data/representation_learning//6-frag/target/240726//SchNet/splitrand-nummol5000/\n",
      "Model loaded:  SchNet\n",
      "config loaded from data/representation_learning//6-frag/target/240726//SchNet/splitrand-nummol5000/\n",
      "Model loaded:  SchNet\n"
     ]
    },
    {
     "data": {
      "text/plain": [
       "(<stk_search.Representation.Representation_poly_3d.Representation_poly_3d at 0x721825000100>,\n",
       " Pymodel_new(\n",
       "   (molecule_3D_repr): SchNet(hidden_channels=128, num_filters=128, num_interactions=8, num_gaussians=51, cutoff=6)\n",
       "   (graph_pred_linear): Linear(in_features=128, out_features=1, bias=True)\n",
       "   (transform_to_opt): Linear(in_features=128, out_features=128, bias=True)\n",
       " ))"
      ]
     },
     "execution_count": 584,
     "metadata": {},
     "output_type": "execute_result"
    }
   ],
   "source": [
    "# load the representation and the model \n",
    "from stk_search.Search_algorithm import Ea_surrogate\n",
    "\n",
    "from stk_search.Representation import  Representation_poly_3d\n",
    "import importlib\n",
    "importlib.reload(Representation_poly_3d)\n",
    "from stk_search.geom3d import pl_model\n",
    "import torch.nn.functional as Functional\n",
    "from stk_search.geom3d import train_models\n",
    "from stk_search.Representation import  Representation_poly_3d\n",
    "\n",
    "import importlib\n",
    "importlib.reload(Representation_poly_3d)\n",
    "importlib.reload(Ea_surrogate)\n",
    "\n",
    "\n",
    "#config_dir = \"/rds/general/user/ma11115/home/STK_Search/STK_search/data/representation_learning/6-frag/target/240430/SchNet/splitrand-nummol68864/Emb_dim_12\"\n",
    "config_dir = \"data/representation_learning//6-frag/target/240726//SchNet/splitrand-nummol5000/\"\n",
    "config, min_val_loss = train_models.get_best_embedding_model(config_dir)\n",
    "\n",
    "SUEA = Ea_surrogate.Ea_surrogate()\n",
    "SUEA.config_dir = config_dir\n",
    "SUEA.load_representation_model()\n",
    "BO_learned.config_dir = config_dir\n",
    "BO_learned.load_representation_model()\n"
   ]
  },
  {
   "cell_type": "code",
   "execution_count": 585,
   "metadata": {},
   "outputs": [
    {
     "name": "stdout",
     "output_type": "stream",
     "text": [
      "number of element not in the representation dataframe  0\n",
      "Index(['PCA_0', 'PCA_1', 'PCA_2', 'PCA_3', 'PCA_4', 'PCA_5', 'PCA_6', 'PCA_7',\n",
      "       'PCA_8', 'PCA_9'],\n",
      "      dtype='object')\n"
     ]
    }
   ],
   "source": [
    "# initialise the representation of the molecules used\n",
    "# here we use the dataframe of the precursors that has PCA of desrciprtors calculated using mordred\n",
    "from stk_search.Representation import (\n",
    "    Representation_from_fragment,\n",
    "    Representation_3d_from_fragment,\n",
    ")\n",
    "\n",
    "df_representation_path = \"data/Prescursor_data/df_mordred_10072024.pkl\"\n",
    "df_representation = pd.read_pickle(df_representation_path)\n",
    "df_representation.dropna(axis=1, inplace=True)\n",
    "# check if the representation dataframe contains all the elements in teh search space\n",
    "print(\n",
    "    \"number of element not in the representation dataframe \",\n",
    "    -(SP.df_precursors[\"InChIKey\"].isin(df_representation[\"InChIKey\"]).sum()\n",
    "    - SP.df_precursors.shape[0]),\n",
    ")\n",
    "if -(SP.df_precursors[\"InChIKey\"].isin(df_representation[\"InChIKey\"]).sum() - SP.df_precursors.shape[0]) > 0:\n",
    "    SP.df_precursors = SP.df_precursors[SP.df_precursors[\"InChIKey\"].isin(df_representation[\"InChIKey\"])]\n",
    "    with open(search_space_loc, \"wb\") as f:\n",
    "        pickle.dump(SP, f)\n",
    "frag_properties = df_representation.select_dtypes(include=[np.number]).columns\n",
    "print(frag_properties)\n",
    "BO_Mord.Representation = Representation_from_fragment.Representation_from_fragment(\n",
    "    df_representation, frag_properties\n",
    ")\n"
   ]
  },
  {
   "cell_type": "code",
   "execution_count": 586,
   "metadata": {},
   "outputs": [
    {
     "name": "stdout",
     "output_type": "stream",
     "text": [
      "1    AAALPPGKJQYWNO-NOPDUFPGSA-N\n",
      "Name: InChIKey, dtype: object\n"
     ]
    },
    {
     "data": {
      "application/vnd.jupyter.widget-view+json": {
       "model_id": "a97edffc5c1742cf814060fb77744273",
       "version_major": 2,
       "version_minor": 0
      },
      "text/plain": [
       "Pandas Apply:   0%|          | 0/1 [00:00<?, ?it/s]"
      ]
     },
     "metadata": {},
     "output_type": "display_data"
    },
    {
     "data": {
      "application/vnd.jupyter.widget-view+json": {
       "model_id": "df1dd3e3c0f6440faa0bc77983f0237f",
       "version_major": 2,
       "version_minor": 0
      },
      "text/plain": [
       "Pandas Apply:   0%|          | 0/1 [00:00<?, ?it/s]"
      ]
     },
     "metadata": {},
     "output_type": "display_data"
    },
    {
     "name": "stdout",
     "output_type": "stream",
     "text": [
      "tensor([[ 0.0275,  0.0820, -0.1516,  0.0674, -0.3031,  0.0913, -0.1393,  0.3391,\n",
      "         -0.4593, -0.1130, -0.1284,  0.1396, -0.0595, -0.2241,  0.1550, -0.0926,\n",
      "         -0.1696,  0.1728, -0.2951, -0.0747,  0.4054,  0.0066, -0.4321, -0.2202,\n",
      "         -0.1451, -0.1414, -0.3035, -0.1777,  0.3847,  0.5285,  0.0600, -0.1541,\n",
      "          0.2574,  0.0569, -0.0825,  0.2275, -0.4752,  0.1922, -0.2855,  0.3261,\n",
      "          0.0462, -0.0641, -0.2083, -0.1360, -0.2742, -0.2875,  0.5056, -0.0575,\n",
      "          0.4322, -0.1054,  0.0386,  0.2309,  0.2772,  0.6248, -0.0165, -0.0329,\n",
      "         -0.1092, -0.4694, -0.1329,  0.4207, -0.1565,  0.1128,  0.3260,  0.2302,\n",
      "         -0.0478,  0.0820,  0.3135,  0.3259, -0.4335,  0.3931, -0.3818, -0.1310,\n",
      "         -0.0871, -0.2100, -0.3258,  0.3088,  0.2595,  0.2898,  0.0777,  0.4286,\n",
      "          0.0091,  0.1140,  0.1848,  0.4993,  0.2314,  0.1655, -0.0256,  0.1775,\n",
      "         -0.2790,  0.5883, -0.1826, -0.0053, -0.2362, -0.4164, -0.3960,  0.2435,\n",
      "          0.0759, -0.0149,  0.4343, -0.0743,  0.1562, -0.2616, -0.0151, -0.3194,\n",
      "         -0.3758,  0.3924, -0.4855,  0.1775,  0.3527, -0.0065, -0.0765, -0.2954,\n",
      "          0.1983,  0.3917, -0.2740,  0.3913, -0.0744, -0.1683,  0.2894,  0.3100,\n",
      "          0.3390, -0.3237,  0.3464, -0.1841,  0.0292, -0.1359,  0.0171,  0.3530]],\n",
      "       device='cuda:0')\n"
     ]
    },
    {
     "data": {
      "application/vnd.jupyter.widget-view+json": {
       "model_id": "02ed45ca2e534242b0afe5a6f21b6e06",
       "version_major": 2,
       "version_minor": 0
      },
      "text/plain": [
       "Pandas Apply:   0%|          | 0/1 [00:00<?, ?it/s]"
      ]
     },
     "metadata": {},
     "output_type": "display_data"
    },
    {
     "data": {
      "application/vnd.jupyter.widget-view+json": {
       "model_id": "b6925c8e34a046dd8bc93c8a8a6eea56",
       "version_major": 2,
       "version_minor": 0
      },
      "text/plain": [
       "Pandas Apply:   0%|          | 0/1 [00:00<?, ?it/s]"
      ]
     },
     "metadata": {},
     "output_type": "display_data"
    }
   ],
   "source": [
    "# test representation\n",
    "\n",
    "molecule_id = 0\n",
    "molecule_properties = SP.check_df_for_element_from_SP(df_total).iloc[[molecule_id]]\n",
    "print(molecule_properties['InChIKey'])\n",
    "molecule_properties[[f'InChIKey_{x}' for x in range(oligomer_size)]]\n",
    "X_rpr = SUEA.Representation.generate_repr(molecule_properties[[f'InChIKey_{x}' for x in range(oligomer_size)]])\n",
    "print(X_rpr)\n",
    "X_rpr = BO_learned.Representation.generate_repr(molecule_properties[[f'InChIKey_{x}' for x in range(oligomer_size)]])"
   ]
  },
  {
   "cell_type": "code",
   "execution_count": 649,
   "metadata": {},
   "outputs": [],
   "source": [
    "from stk_search import SearchExp\n",
    "\n",
    "importlib.reload(SearchExp)\n",
    "\n",
    "\n",
    "# set experiment conditions\n",
    "def define_and_run_search(\n",
    "    search_algorithm=EA,\n",
    "    num_elem_initialisation=50,\n",
    "    num_iteration=20,\n",
    "    number_of_iterations=num_iteration,\n",
    "    verbose=True,\n",
    "):\n",
    "\n",
    "    S_exp = SearchExp.SearchExp(\n",
    "        SP,\n",
    "        search_algorithm,\n",
    "        objective_function,\n",
    "        number_of_iterations,\n",
    "        verbose=verbose,\n",
    "    )\n",
    "    test_name = \"test\"\n",
    "    benchmark = True\n",
    "    S_exp.output_folder = (\n",
    "        f\"data/output/search_experiment/{oligomer_size}_frag/\" + test_name\n",
    "    )\n",
    "    S_exp.num_elem_initialisation = num_elem_initialisation\n",
    "    S_exp.benchmark = benchmark\n",
    "    S_exp.df_total = df_total\n",
    "    # Save search inputs\n",
    "    import json\n",
    "    import subprocess\n",
    "\n",
    "    def save_run_search_inputs(inputs, save_path=\"run_search_new_inputs.json\"):\n",
    "        # Get the current git version\n",
    "        git_version = (\n",
    "            subprocess.check_output([\"git\", \"rev-parse\", \"HEAD\"])\n",
    "            .strip()\n",
    "            .decode(\"utf-8\")\n",
    "        )\n",
    "\n",
    "        # Add the git version to the inputs\n",
    "        inputs[\"git_version\"] = git_version\n",
    "\n",
    "        # Save the inputs to a file\n",
    "        with open(save_path, \"w\") as f:\n",
    "            json.dump(inputs, f)\n",
    "\n",
    "        print(\"Inputs saved.\")\n",
    "\n",
    "    input_json = {}\n",
    "    input_json[\"search_space_loc\"] = search_space_loc\n",
    "    input_json[\"search_algorithm\"] = search_algorithm.name\n",
    "    input_json[\"objective_function\"] = objective_function.__str__()\n",
    "    input_json[\"number_of_iterations\"] = number_of_iterations\n",
    "    input_json[\"verbose\"] = verbose\n",
    "    input_json[\"num_elem_initialisation\"] = num_elem_initialisation\n",
    "    input_json[\"benchmark\"] = benchmark\n",
    "    input_json[\"df_total\"] = df_total_path\n",
    "    input_json[\"df_representation\"] = df_representation_path\n",
    "    input_json[\"frag_properties\"] = list(frag_properties)\n",
    "    input_json[\"which_acquisition\"] = which_acquisition\n",
    "    input_json[\"run_search_name\"] = S_exp.search_exp_name\n",
    "    input_json[\"search_output_folder\"] = S_exp.output_folder\n",
    "    input_json[\"date\"] = S_exp.date\n",
    "    input_json[\"oligomer_size\"] = oligomer_size\n",
    "    input_json[\"config_dir\"] = config_dir\n",
    "    save_path = f\"data/output/search_experiment/search_exp_database/{S_exp.search_exp_name}.json\"\n",
    "    os.makedirs(\n",
    "        \"data/output/search_experiment/search_exp_database\", exist_ok=True\n",
    "    )\n",
    "    save_run_search_inputs(input_json, save_path)\n",
    "    S_exp.run_seach()\n",
    "    return max(S_exp.ids_acquired)"
   ]
  },
  {
   "cell_type": "code",
   "execution_count": 650,
   "metadata": {},
   "outputs": [
    {
     "name": "stdout",
     "output_type": "stream",
     "text": [
      "Inputs saved.\n",
      "element Inchikey suggested: DUPCUMATAOYCNW-UHFFFAOYSA-N, Eval: -1.3804317275402906\n",
      "element Inchikey suggested: XEUPAZJFLJUXOY-UHFFFAOYSA-N, Eval: -2.475132642151542\n",
      "element Inchikey suggested: VDDPLJSRHZCQKN-WYMKRNKVSA-N, Eval: -0.3754104237375525\n",
      "element Inchikey suggested: PUPORGXYUOXLEN-IDAYOUIPSA-N, Eval: -0.5886452390898805\n",
      "element Inchikey suggested: DJXNMDBQWOMYSM-BXVAPQLOSA-N, Eval: -1.4686514392806562\n",
      "element Inchikey suggested: MBCSWOGTJYTQTP-RQPGLINKSA-N, Eval: -1.1249302437789392\n",
      "element Inchikey suggested: FNYHIWBJMXTBCK-KIBLKLHPSA-N, Eval: -2.0986392354737577\n",
      "element Inchikey suggested: FRWWGGKSDKCCBY-UHFFFAOYSA-N, Eval: -0.19326879971134736\n",
      "element Inchikey suggested: IEJHAAMFNOFELM-UHFFFAOYSA-N, Eval: -2.82818733218585\n",
      "element Inchikey suggested: DISFVHNRZVNPMA-UHFFFAOYSA-N, Eval: -0.22166979440866963\n",
      "element Inchikey suggested: BTQPTJMMNIVKSF-UHFFFAOYSA-N, Eval: -1.034425714300444\n",
      "element Inchikey suggested: VJCSLPQRLCVPRY-OUUCWOCCSA-N, Eval: -0.5807912133414354\n",
      "element Inchikey suggested: OJFMUOJHHXRQDZ-RLZCSYPLSA-N, Eval: -1.4435127498554854\n",
      "element Inchikey suggested: HETOVWKGUGVRRM-ICSILHCSSA-N, Eval: -0.8894824538197842\n",
      "element Inchikey suggested: QNSKLBXEAZXEMI-KZEIVMGFSA-N, Eval: -2.1933094722265123\n",
      "element Inchikey suggested: MGCMZUYPJRLWAV-UHFFFAOYSA-N, Eval: -1.8134269409343684\n",
      "element Inchikey suggested: OXWORLVJTUHZGE-UHFFFAOYSA-N, Eval: -1.186847338018353\n",
      "element Inchikey suggested: IDYRPAJLSBSPSU-UHFFFAOYSA-N, Eval: 0.316646718957342\n",
      "element Inchikey suggested: LAOBTYUIKAVUMD-UHFFFAOYSA-N, Eval: 0.23581605798091587\n",
      "element Inchikey suggested: UJSAOBAPMDRQCT-NTFVMDSBSA-N, Eval: -1.9392907856959092\n",
      "element Inchikey suggested: JSBFTSWLFPTWKQ-JIYIJCPSSA-N, Eval: -1.8685063894521268\n",
      "element Inchikey suggested: RNJIBJJTXCZOHW-UHFFFAOYSA-N, Eval: -0.9157720236161101\n",
      "element Inchikey suggested: BAGHERXVOBRSNO-UHFFFAOYSA-N, Eval: -0.463223219592646\n",
      "element Inchikey suggested: CFXVSKMQALJFMP-UHFFFAOYSA-N, Eval: -0.7210949674979268\n",
      "element Inchikey suggested: XUSAFCMAZMNLMX-UHFFFAOYSA-N, Eval: -1.6375112390394337\n",
      "element Inchikey suggested: XDYWUVFVAXZBKF-UHFFFAOYSA-N, Eval: -1.7765848403027773\n",
      "element Inchikey suggested: IYHGQXUPTFCPET-UHFFFAOYSA-N, Eval: -2.3233149811213503\n",
      "element Inchikey suggested: WZBVZCWATCXRFK-UHFFFAOYSA-N, Eval: -0.19936378753013873\n",
      "element Inchikey suggested: XHFHRBHNISMUKA-UHFFFAOYSA-N, Eval: 0.19613678338599216\n",
      "element Inchikey suggested: GDQAGWWRMDJRDW-JJHRWBALSA-N, Eval: -0.2960180885981304\n",
      "element Inchikey suggested: MXOKPIWLYPTQOM-UHFFFAOYSA-N, Eval: -0.0523509127346905\n",
      "element Inchikey suggested: VWYNKWDSDZXYHC-UHFFFAOYSA-N, Eval: -0.06989531518589465\n",
      "element Inchikey suggested: ZPTIHOWYDZMOQV-HXVVSZOSSA-N, Eval: -1.657972787026559\n",
      "element Inchikey suggested: WWCGZRDTPQYLLP-UHFFFAOYSA-N, Eval: -4.105159492661719\n",
      "element Inchikey suggested: ICXLFBCLTCCQHG-CAHBVUMWSA-N, Eval: -0.3842201347581572\n",
      "element Inchikey suggested: GCPKSJBGSMEYSF-JPFIOEMMSA-N, Eval: -2.2120465858624936\n",
      "element Inchikey suggested: JZBUMXCJQXRUJF-UHFFFAOYSA-N, Eval: -1.8977123333076586\n",
      "element Inchikey suggested: FMYHLRVULUGZQK-DTMWMUKOSA-N, Eval: -1.5753058400047766\n",
      "element Inchikey suggested: LTGRXRYVNLVRGA-UHFFFAOYSA-N, Eval: -2.854077139879544\n",
      "element Inchikey suggested: HLYIATZYJJJDLV-PONZDJLKSA-N, Eval: -2.07619898901888\n",
      "element Inchikey suggested: ANHOMOQZSCARIC-APTWKGOFSA-N, Eval: -1.3993757360506913\n",
      "element Inchikey suggested: VIZDYMUDSZYAGT-WZSKVQBVSA-N, Eval: -1.7269585952488504\n",
      "element Inchikey suggested: BPCXQVWAOVUPRH-UHFFFAOYSA-N, Eval: -1.5198968291865422\n",
      "element Inchikey suggested: LWBKYMWYIVJUOR-UHFFFAOYSA-N, Eval: -0.9847368458765757\n",
      "element Inchikey suggested: GMFDQWOONMDDKP-UHFFFAOYSA-N, Eval: -1.5991365628956125\n",
      "element Inchikey suggested: ONDGBBOYYWVHJU-LJRXJFHPSA-N, Eval: -0.9972515770908831\n",
      "element Inchikey suggested: OYODLNYMADYCOU-UHFFFAOYSA-N, Eval: -1.9214569494900808\n",
      "element Inchikey suggested: VGWPQMMIBYVMSV-UHFFFAOYSA-N, Eval: -1.7613011018273428\n",
      "element Inchikey suggested: NSFYGFKXNWHGBT-UHFFFAOYSA-N, Eval: 0.1798890586959666\n",
      "element Inchikey suggested: GAHYUURLBXGWHB-UHFFFAOYSA-N, Eval: -2.8918107430453626\n",
      "max fitness acquired: 0.316646718957342\n",
      "min fitness acquired: -4.105159492661719\n",
      "element Inchikey suggested: WQOSYAOMPUXPCY-UHFFFAOYSA-N, Eval: -1.1988248221703464\n",
      "iteration 0 completed\n",
      "max fitness acquired: 0.316646718957342\n",
      "min fitness acquired: -4.105159492661719\n",
      "new fitness acquired: -1.1988248221703464\n",
      "element Inchikey suggested: CBLKIBNONWJKQC-UHFFFAOYSA-N, Eval: -0.557135210651337\n",
      "iteration 1 completed\n",
      "max fitness acquired: 0.316646718957342\n",
      "min fitness acquired: -4.105159492661719\n",
      "new fitness acquired: -0.557135210651337\n",
      "element Inchikey suggested: CSTUWKPZCBQOMK-UHFFFAOYSA-N, Eval: -0.2670873144627388\n",
      "iteration 2 completed\n",
      "max fitness acquired: 0.316646718957342\n",
      "min fitness acquired: -4.105159492661719\n",
      "new fitness acquired: -0.2670873144627388\n",
      "element Inchikey suggested: IKJODTQQGFVGPU-UHFFFAOYSA-N, Eval: 0.0967957787703424\n",
      "iteration 3 completed\n",
      "max fitness acquired: 0.316646718957342\n",
      "min fitness acquired: -4.105159492661719\n",
      "new fitness acquired: 0.0967957787703424\n",
      "element Inchikey suggested: WYFVKANKYJKFMQ-UHFFFAOYSA-N, Eval: 0.1903221356085656\n",
      "iteration 4 completed\n",
      "max fitness acquired: 0.316646718957342\n",
      "min fitness acquired: -4.105159492661719\n",
      "new fitness acquired: 0.1903221356085656\n",
      "element Inchikey suggested: XBAOKSAZGKMZBC-UHFFFAOYSA-N, Eval: 0.07839344095994649\n",
      "iteration 5 completed\n",
      "max fitness acquired: 0.316646718957342\n",
      "min fitness acquired: -4.105159492661719\n",
      "new fitness acquired: 0.07839344095994649\n",
      "element Inchikey suggested: SBNHPKDJRNBJDZ-VVVVJFNUSA-N, Eval: -1.4429221660095317\n",
      "iteration 6 completed\n",
      "max fitness acquired: 0.316646718957342\n",
      "min fitness acquired: -4.105159492661719\n",
      "new fitness acquired: -1.4429221660095317\n",
      "element Inchikey suggested: OGVPHFRVIJVRBI-UHFFFAOYSA-N, Eval: 0.428574597304767\n",
      "iteration 7 completed\n",
      "max fitness acquired: 0.428574597304767\n",
      "min fitness acquired: -4.105159492661719\n",
      "new fitness acquired: 0.428574597304767\n",
      "element Inchikey suggested: ARWDWBBCUDGQJF-UHFFFAOYSA-N, Eval: 0.3994146011924983\n",
      "iteration 8 completed\n",
      "max fitness acquired: 0.428574597304767\n",
      "min fitness acquired: -4.105159492661719\n",
      "new fitness acquired: 0.3994146011924983\n",
      "element Inchikey suggested: NMZQZNCKDUHLLN-UHFFFAOYSA-N, Eval: 0.4896483923278361\n",
      "iteration 9 completed\n",
      "max fitness acquired: 0.4896483923278361\n",
      "min fitness acquired: -4.105159492661719\n",
      "new fitness acquired: 0.4896483923278361\n",
      "element Inchikey suggested: UJYHJRCAWFZZKO-UHFFFAOYSA-N, Eval: -0.18689172528553422\n",
      "iteration 10 completed\n",
      "max fitness acquired: 0.4896483923278361\n",
      "min fitness acquired: -4.105159492661719\n",
      "new fitness acquired: -0.18689172528553422\n",
      "element Inchikey suggested: QJXCLADUVGUGJO-UHFFFAOYSA-N, Eval: -0.16659366037931156\n",
      "iteration 11 completed\n",
      "max fitness acquired: 0.4896483923278361\n",
      "min fitness acquired: -4.105159492661719\n",
      "new fitness acquired: -0.16659366037931156\n",
      "element Inchikey suggested: HQFQPYKTEPWKKK-UHFFFAOYSA-N, Eval: -0.16119295318087024\n",
      "iteration 12 completed\n",
      "max fitness acquired: 0.4896483923278361\n",
      "min fitness acquired: -4.105159492661719\n",
      "new fitness acquired: -0.16119295318087024\n",
      "element Inchikey suggested: MTPQCBFUHDSYDJ-VKOZLBNWSA-N, Eval: -1.3954671315775347\n",
      "iteration 13 completed\n",
      "max fitness acquired: 0.4896483923278361\n",
      "min fitness acquired: -4.105159492661719\n",
      "new fitness acquired: -1.3954671315775347\n",
      "element Inchikey suggested: KNIOOGCDANHPFH-UHFFFAOYSA-N, Eval: -0.14870377981096783\n",
      "iteration 14 completed\n",
      "max fitness acquired: 0.4896483923278361\n",
      "min fitness acquired: -4.105159492661719\n",
      "new fitness acquired: -0.14870377981096783\n",
      "element Inchikey suggested: HBDWULHRMSHKBG-UHFFFAOYSA-N, Eval: -0.9659514487595947\n",
      "iteration 15 completed\n",
      "max fitness acquired: 0.4896483923278361\n",
      "min fitness acquired: -4.105159492661719\n",
      "new fitness acquired: -0.9659514487595947\n",
      "element Inchikey suggested: IBLPUTWERGMMLE-UHFFFAOYSA-N, Eval: 0.40682312940605614\n",
      "iteration 16 completed\n",
      "max fitness acquired: 0.4896483923278361\n",
      "min fitness acquired: -4.105159492661719\n",
      "new fitness acquired: 0.40682312940605614\n",
      "element Inchikey suggested: ICPHDZIQPLPRQS-UHFFFAOYSA-N, Eval: -0.06923428866157344\n",
      "iteration 17 completed\n",
      "max fitness acquired: 0.4896483923278361\n",
      "min fitness acquired: -4.105159492661719\n",
      "new fitness acquired: -0.06923428866157344\n",
      "element Inchikey suggested: SQPZUOQWKWIEDY-UHFFFAOYSA-N, Eval: 0.5080835820926242\n",
      "iteration 18 completed\n",
      "max fitness acquired: 0.5080835820926242\n",
      "min fitness acquired: -4.105159492661719\n",
      "new fitness acquired: 0.5080835820926242\n",
      "element Inchikey suggested: ODRPVAUBABJYNH-UHFFFAOYSA-N, Eval: -1.4053541601509525\n",
      "iteration 19 completed\n",
      "max fitness acquired: 0.5080835820926242\n",
      "min fitness acquired: -4.105159492661719\n",
      "new fitness acquired: -1.4053541601509525\n"
     ]
    },
    {
     "data": {
      "text/plain": [
       "69"
      ]
     },
     "execution_count": 650,
     "metadata": {},
     "output_type": "execute_result"
    }
   ],
   "source": [
    "define_and_run_search(search_algorithm=EA)"
   ]
  },
  {
   "cell_type": "code",
   "execution_count": 651,
   "metadata": {},
   "outputs": [
    {
     "name": "stdout",
     "output_type": "stream",
     "text": [
      "Inputs saved.\n",
      "element Inchikey suggested: LQUUOYDLTAAZFO-PORAZQCPSA-N, Eval: -0.6713622713665888\n",
      "element Inchikey suggested: QRQCVOVCAUTWIG-COOGGDMOSA-N, Eval: -1.272517322798027\n",
      "element Inchikey suggested: VMRSOZKFPXFASG-JBQXKKLXSA-N, Eval: -0.3563317070414882\n",
      "element Inchikey suggested: LPIIUTDIHLVVNQ-UHFFFAOYSA-N, Eval: -3.4454416512809245\n",
      "element Inchikey suggested: BVMYQLVUZXEMKF-UHFFFAOYSA-N, Eval: 0.2844852130789256\n",
      "element Inchikey suggested: GPCUXUYSAAEZIH-FDVSRXAVSA-N, Eval: -1.9418248524089767\n",
      "element Inchikey suggested: DIENIOLNTBQPFY-KPGMTVGESA-N, Eval: -0.21740855002152137\n",
      "element Inchikey suggested: DZZQIFSWRFTBEJ-IPPBACCNSA-N, Eval: -2.7046741428068772\n",
      "element Inchikey suggested: BKHYHRCTRYNSSS-UHFFFAOYSA-N, Eval: -1.4890483519174813\n",
      "element Inchikey suggested: QNDVCLUEQVXEMT-BWVPEESFSA-N, Eval: -2.4483846478455917\n",
      "element Inchikey suggested: YZXARELSGCCXFO-UHFFFAOYSA-N, Eval: -1.7681147870131797\n",
      "element Inchikey suggested: HBDQUSCALXEWCG-UHFFFAOYSA-N, Eval: 0.4640655583711908\n",
      "element Inchikey suggested: OMXURLQCXPRMTR-UHFFFAOYSA-N, Eval: -0.3302629482697764\n",
      "element Inchikey suggested: BKFQCTIOKNKRKA-UHFFFAOYSA-N, Eval: 0.5052561899606678\n",
      "element Inchikey suggested: QDDILJFLIZDODW-RSGQVFGASA-N, Eval: -3.294742391260023\n",
      "element Inchikey suggested: KNTDLTIHYCWNRR-UHFFFAOYSA-N, Eval: -0.782018943208137\n",
      "element Inchikey suggested: VTCBQHJTTHVBKW-UHFFFAOYSA-N, Eval: 0.3053745576815521\n",
      "element Inchikey suggested: FSIKOWJBGRZOPZ-UHFFFAOYSA-N, Eval: -0.7532541858975833\n",
      "element Inchikey suggested: RZMUWQWHJUSOML-DJVBIXDUSA-N, Eval: -1.8377256791556429\n",
      "element Inchikey suggested: PBTVFQGWSQIYMI-FTXZBQHXSA-N, Eval: -1.3567761065619184\n",
      "element Inchikey suggested: DVWCQALFWCMAKH-UHFFFAOYSA-N, Eval: -1.2234438005807635\n",
      "element Inchikey suggested: NGKHFLYRFVYTKA-JAVXJAORSA-N, Eval: -1.570064502313179\n",
      "element Inchikey suggested: OMGYMCIFKSLSOW-UHFFFAOYSA-N, Eval: -1.3192185278072035\n",
      "element Inchikey suggested: IWNIGIXNMMKDSR-UHFFFAOYSA-N, Eval: -0.7302015273905781\n",
      "element Inchikey suggested: DGVGMQKVUPHKTE-UHFFFAOYSA-N, Eval: -1.1466278209234502\n",
      "element Inchikey suggested: LKTMKYSYOLTYGW-UHFFFAOYSA-N, Eval: -1.5740304095693185\n",
      "element Inchikey suggested: NUHULAKLSLTTCE-UHFFFAOYSA-N, Eval: -1.2596016703014814\n",
      "element Inchikey suggested: QOJAUDDIQMAHAQ-UHFFFAOYSA-N, Eval: -3.4182353929735005\n",
      "element Inchikey suggested: MMPICYIVCTXNCK-UHFFFAOYSA-N, Eval: -1.4843474475763114\n",
      "element Inchikey suggested: CWFJOPMWFGKWTF-UHFFFAOYSA-N, Eval: -1.8269862575211069\n",
      "element Inchikey suggested: CNAPTOXOQARJRW-IRECXSHYSA-N, Eval: 0.009161862788580888\n",
      "element Inchikey suggested: QSWFQBBCHYERFR-XRBNGKSFSA-N, Eval: -0.4457457410113937\n",
      "element Inchikey suggested: ORMMOCDWGLBXQU-JIDIBDNHSA-N, Eval: -1.6637606189001393\n",
      "element Inchikey suggested: IAUSRMNBBXAIKG-KPRPFPDJSA-N, Eval: -1.5333594505464188\n",
      "element Inchikey suggested: UYKAEWFZMITNID-AQUGMHQTSA-N, Eval: -2.1547850794196304\n",
      "element Inchikey suggested: OVJYXUAOZDFZTB-OBUAHGEASA-N, Eval: -1.4675146808048323\n",
      "element Inchikey suggested: RWQFLSKKTSLXIC-HTVDVWKISA-N, Eval: -3.129281074285707\n",
      "element Inchikey suggested: OTYFGWBGDJXELH-FOSMDFFASA-N, Eval: -2.291338068890122\n",
      "element Inchikey suggested: GMIACFCTVOWZBH-CRKOEVGVSA-N, Eval: -1.2980305574459081\n",
      "element Inchikey suggested: IKMUBRQQFOYZJA-KIOAPOHKSA-N, Eval: -1.7927793981846014\n",
      "element Inchikey suggested: GEFQDPHZEKPPIP-UHFFFAOYSA-N, Eval: -1.6464421714262958\n",
      "element Inchikey suggested: YABOPUUADHZQAK-RMYZBZNXSA-N, Eval: -1.2783603820640854\n",
      "element Inchikey suggested: KGLVXZSMAVULJR-UHFFFAOYSA-N, Eval: -0.4423669044543122\n",
      "element Inchikey suggested: OXGVKHKOCDUUIT-UHFFFAOYSA-N, Eval: 0.36290894316173083\n",
      "element Inchikey suggested: FVVPEZJGYIUSJD-UHFFFAOYSA-N, Eval: -0.41169650384795864\n",
      "element Inchikey suggested: CJCWEHYNFQWWMD-UHFFFAOYSA-N, Eval: 0.07785755325872368\n",
      "element Inchikey suggested: SHFIAFPDJGOHMA-WBNFJKEISA-N, Eval: -0.7282665419545564\n",
      "element Inchikey suggested: YVQYJDRGTAVWCN-UHFFFAOYSA-N, Eval: -1.366990220877639\n",
      "element Inchikey suggested: SZSWGBWVCCWBII-MWBNBJEGSA-N, Eval: -1.2247338852718277\n",
      "element Inchikey suggested: XTQGIGQIAGWKKA-UHFFFAOYSA-N, Eval: -0.6876708866069807\n",
      "max fitness acquired: 0.5052561899606678\n",
      "min fitness acquired: -3.4454416512809245\n"
     ]
    },
    {
     "data": {
      "application/vnd.jupyter.widget-view+json": {
       "model_id": "1875bf7be9cb4d2793378dd9fe4f9767",
       "version_major": 2,
       "version_minor": 0
      },
      "text/plain": [
       "Pandas Apply:   0%|          | 0/103 [00:00<?, ?it/s]"
      ]
     },
     "metadata": {},
     "output_type": "display_data"
    },
    {
     "data": {
      "application/vnd.jupyter.widget-view+json": {
       "model_id": "7844965ccc5b4421996d17ee214db29d",
       "version_major": 2,
       "version_minor": 0
      },
      "text/plain": [
       "Pandas Apply:   0%|          | 0/28 [00:00<?, ?it/s]"
      ]
     },
     "metadata": {},
     "output_type": "display_data"
    },
    {
     "name": "stdout",
     "output_type": "stream",
     "text": [
      "new_element_df shape is  (103, 6)\n",
      "20\n",
      "element Inchikey suggested: XOPRDXOQZUEXGS-UHFFFAOYSA-N, Eval: 0.2662221773152229\n",
      "iteration 0 completed\n",
      "max fitness acquired: 0.5052561899606678\n",
      "min fitness acquired: -3.4454416512809245\n",
      "new fitness acquired: 0.2662221773152229\n"
     ]
    },
    {
     "data": {
      "application/vnd.jupyter.widget-view+json": {
       "model_id": "3f992fa1db1f4bfb80ccd11bad422d70",
       "version_major": 2,
       "version_minor": 0
      },
      "text/plain": [
       "Pandas Apply:   0%|          | 0/214 [00:00<?, ?it/s]"
      ]
     },
     "metadata": {},
     "output_type": "display_data"
    },
    {
     "data": {
      "application/vnd.jupyter.widget-view+json": {
       "model_id": "3b47b8a18b1c48d4a89f331037ee7d54",
       "version_major": 2,
       "version_minor": 0
      },
      "text/plain": [
       "Pandas Apply:   0%|          | 0/122 [00:00<?, ?it/s]"
      ]
     },
     "metadata": {},
     "output_type": "display_data"
    },
    {
     "name": "stdout",
     "output_type": "stream",
     "text": [
      "new_element_df shape is  (214, 6)\n",
      "19\n",
      "element Inchikey suggested: MJADDENYAUHALA-UHFFFAOYSA-N, Eval: 0.43831658385436134\n",
      "iteration 1 completed\n",
      "max fitness acquired: 0.5052561899606678\n",
      "min fitness acquired: -3.4454416512809245\n",
      "new fitness acquired: 0.43831658385436134\n"
     ]
    },
    {
     "data": {
      "application/vnd.jupyter.widget-view+json": {
       "model_id": "6ea3c3b91251439aaf31427e0c5e04d4",
       "version_major": 2,
       "version_minor": 0
      },
      "text/plain": [
       "Pandas Apply:   0%|          | 0/111 [00:00<?, ?it/s]"
      ]
     },
     "metadata": {},
     "output_type": "display_data"
    },
    {
     "data": {
      "application/vnd.jupyter.widget-view+json": {
       "model_id": "3d49ba92ef694bbcb0b713433ae9224f",
       "version_major": 2,
       "version_minor": 0
      },
      "text/plain": [
       "Pandas Apply:   0%|          | 0/16 [00:00<?, ?it/s]"
      ]
     },
     "metadata": {},
     "output_type": "display_data"
    },
    {
     "name": "stdout",
     "output_type": "stream",
     "text": [
      "new_element_df shape is  (111, 6)\n",
      "2\n",
      "element Inchikey suggested: MLPLEGIPIATRLG-UHFFFAOYSA-N, Eval: 0.27292315418197854\n",
      "iteration 2 completed\n",
      "max fitness acquired: 0.5052561899606678\n",
      "min fitness acquired: -3.4454416512809245\n",
      "new fitness acquired: 0.27292315418197854\n"
     ]
    },
    {
     "data": {
      "application/vnd.jupyter.widget-view+json": {
       "model_id": "96d60f282ba64083b9c35c8648f922e5",
       "version_major": 2,
       "version_minor": 0
      },
      "text/plain": [
       "Pandas Apply:   0%|          | 0/142 [00:00<?, ?it/s]"
      ]
     },
     "metadata": {},
     "output_type": "display_data"
    },
    {
     "data": {
      "application/vnd.jupyter.widget-view+json": {
       "model_id": "893af8dec9b44742ae198cb260d02da9",
       "version_major": 2,
       "version_minor": 0
      },
      "text/plain": [
       "Pandas Apply:   0%|          | 0/18 [00:00<?, ?it/s]"
      ]
     },
     "metadata": {},
     "output_type": "display_data"
    },
    {
     "name": "stdout",
     "output_type": "stream",
     "text": [
      "new_element_df shape is  (142, 6)\n",
      "0\n",
      "element Inchikey suggested: YGXDTFFXNJFBRO-UHFFFAOYSA-N, Eval: 0.3994611112894675\n",
      "iteration 3 completed\n",
      "max fitness acquired: 0.5052561899606678\n",
      "min fitness acquired: -3.4454416512809245\n",
      "new fitness acquired: 0.3994611112894675\n"
     ]
    },
    {
     "data": {
      "application/vnd.jupyter.widget-view+json": {
       "model_id": "1bf97bda3e71427bb540e7d7a0e18b0c",
       "version_major": 2,
       "version_minor": 0
      },
      "text/plain": [
       "Pandas Apply:   0%|          | 0/174 [00:00<?, ?it/s]"
      ]
     },
     "metadata": {},
     "output_type": "display_data"
    },
    {
     "data": {
      "application/vnd.jupyter.widget-view+json": {
       "model_id": "d112cc18544048218978e477e11c8f89",
       "version_major": 2,
       "version_minor": 0
      },
      "text/plain": [
       "Pandas Apply:   0%|          | 0/72 [00:00<?, ?it/s]"
      ]
     },
     "metadata": {},
     "output_type": "display_data"
    },
    {
     "name": "stdout",
     "output_type": "stream",
     "text": [
      "new_element_df shape is  (174, 6)\n",
      "8\n",
      "element Inchikey suggested: NYZQVUIHMYOWJL-UHFFFAOYSA-N, Eval: 0.288540026345397\n",
      "iteration 4 completed\n",
      "max fitness acquired: 0.5052561899606678\n",
      "min fitness acquired: -3.4454416512809245\n",
      "new fitness acquired: 0.288540026345397\n"
     ]
    },
    {
     "data": {
      "application/vnd.jupyter.widget-view+json": {
       "model_id": "7fb2e447630a4411b4b341235bb3b376",
       "version_major": 2,
       "version_minor": 0
      },
      "text/plain": [
       "Pandas Apply:   0%|          | 0/141 [00:00<?, ?it/s]"
      ]
     },
     "metadata": {},
     "output_type": "display_data"
    },
    {
     "data": {
      "application/vnd.jupyter.widget-view+json": {
       "model_id": "fc95aa9a39b54572aad81704aa44ab93",
       "version_major": 2,
       "version_minor": 0
      },
      "text/plain": [
       "Pandas Apply:   0%|          | 0/31 [00:00<?, ?it/s]"
      ]
     },
     "metadata": {},
     "output_type": "display_data"
    },
    {
     "name": "stdout",
     "output_type": "stream",
     "text": [
      "new_element_df shape is  (141, 6)\n",
      "28\n",
      "element Inchikey suggested: SSVNMUBRZLPETH-UHFFFAOYSA-N, Eval: 0.27033837607008204\n",
      "iteration 5 completed\n",
      "max fitness acquired: 0.5052561899606678\n",
      "min fitness acquired: -3.4454416512809245\n",
      "new fitness acquired: 0.27033837607008204\n"
     ]
    },
    {
     "data": {
      "application/vnd.jupyter.widget-view+json": {
       "model_id": "8375bf37fc844fada4830db16144ec83",
       "version_major": 2,
       "version_minor": 0
      },
      "text/plain": [
       "Pandas Apply:   0%|          | 0/110 [00:00<?, ?it/s]"
      ]
     },
     "metadata": {},
     "output_type": "display_data"
    },
    {
     "data": {
      "application/vnd.jupyter.widget-view+json": {
       "model_id": "95bfe6ffc04844e4849e3d9f7d4ab9dd",
       "version_major": 2,
       "version_minor": 0
      },
      "text/plain": [
       "Pandas Apply:   0%|          | 0/3 [00:00<?, ?it/s]"
      ]
     },
     "metadata": {},
     "output_type": "display_data"
    },
    {
     "name": "stdout",
     "output_type": "stream",
     "text": [
      "new_element_df shape is  (110, 6)\n",
      "15\n",
      "element Inchikey suggested: PNKVFFUNHABLRK-UHFFFAOYSA-N, Eval: 0.34747790910696874\n",
      "iteration 6 completed\n",
      "max fitness acquired: 0.5052561899606678\n",
      "min fitness acquired: -3.4454416512809245\n",
      "new fitness acquired: 0.34747790910696874\n"
     ]
    },
    {
     "data": {
      "application/vnd.jupyter.widget-view+json": {
       "model_id": "655821175e5f41108852788f570f2fc0",
       "version_major": 2,
       "version_minor": 0
      },
      "text/plain": [
       "Pandas Apply:   0%|          | 0/127 [00:00<?, ?it/s]"
      ]
     },
     "metadata": {},
     "output_type": "display_data"
    },
    {
     "data": {
      "application/vnd.jupyter.widget-view+json": {
       "model_id": "2d54b8cf04d144278fa467d2ec357069",
       "version_major": 2,
       "version_minor": 0
      },
      "text/plain": [
       "Pandas Apply:   0%|          | 0/12 [00:00<?, ?it/s]"
      ]
     },
     "metadata": {},
     "output_type": "display_data"
    },
    {
     "name": "stdout",
     "output_type": "stream",
     "text": [
      "new_element_df shape is  (127, 6)\n",
      "17\n",
      "element Inchikey suggested: XRZYWFDYTMJRLN-UHFFFAOYSA-N, Eval: 0.2803516257858216\n",
      "iteration 7 completed\n",
      "max fitness acquired: 0.5052561899606678\n",
      "min fitness acquired: -3.4454416512809245\n",
      "new fitness acquired: 0.2803516257858216\n"
     ]
    },
    {
     "data": {
      "application/vnd.jupyter.widget-view+json": {
       "model_id": "5c28bd1bf58e4835afa507ca700bfa3d",
       "version_major": 2,
       "version_minor": 0
      },
      "text/plain": [
       "Pandas Apply:   0%|          | 0/116 [00:00<?, ?it/s]"
      ]
     },
     "metadata": {},
     "output_type": "display_data"
    },
    {
     "data": {
      "application/vnd.jupyter.widget-view+json": {
       "model_id": "e6386782888b441c8774bc48967ecbc1",
       "version_major": 2,
       "version_minor": 0
      },
      "text/plain": [
       "Pandas Apply:   0%|          | 0/2 [00:00<?, ?it/s]"
      ]
     },
     "metadata": {},
     "output_type": "display_data"
    },
    {
     "name": "stdout",
     "output_type": "stream",
     "text": [
      "new_element_df shape is  (116, 6)\n",
      "16\n",
      "element Inchikey suggested: NYSJVXURNRXEJM-UHFFFAOYSA-N, Eval: 0.29737220918493057\n",
      "iteration 8 completed\n",
      "max fitness acquired: 0.5052561899606678\n",
      "min fitness acquired: -3.4454416512809245\n",
      "new fitness acquired: 0.29737220918493057\n"
     ]
    },
    {
     "data": {
      "application/vnd.jupyter.widget-view+json": {
       "model_id": "9f45e5ef99224144b5e13179c67dd012",
       "version_major": 2,
       "version_minor": 0
      },
      "text/plain": [
       "Pandas Apply:   0%|          | 0/401 [00:00<?, ?it/s]"
      ]
     },
     "metadata": {},
     "output_type": "display_data"
    },
    {
     "data": {
      "application/vnd.jupyter.widget-view+json": {
       "model_id": "f48325ceb3cd43938b24eaace0456fcc",
       "version_major": 2,
       "version_minor": 0
      },
      "text/plain": [
       "Pandas Apply:   0%|          | 0/124 [00:00<?, ?it/s]"
      ]
     },
     "metadata": {},
     "output_type": "display_data"
    },
    {
     "name": "stdout",
     "output_type": "stream",
     "text": [
      "new_element_df shape is  (401, 6)\n",
      "183\n",
      "element Inchikey suggested: SJUCNTLDLHHOHH-UHFFFAOYSA-N, Eval: 0.3210776615102565\n",
      "iteration 9 completed\n",
      "max fitness acquired: 0.5052561899606678\n",
      "min fitness acquired: -3.4454416512809245\n",
      "new fitness acquired: 0.3210776615102565\n"
     ]
    },
    {
     "data": {
      "application/vnd.jupyter.widget-view+json": {
       "model_id": "889296ee2f2f4779a3abce59ca79b3f9",
       "version_major": 2,
       "version_minor": 0
      },
      "text/plain": [
       "Pandas Apply:   0%|          | 0/251 [00:00<?, ?it/s]"
      ]
     },
     "metadata": {},
     "output_type": "display_data"
    },
    {
     "data": {
      "application/vnd.jupyter.widget-view+json": {
       "model_id": "b7ffef35432d4cca8cfb5a5c6340d2ba",
       "version_major": 2,
       "version_minor": 0
      },
      "text/plain": [
       "Pandas Apply:   0%|          | 0/13 [00:00<?, ?it/s]"
      ]
     },
     "metadata": {},
     "output_type": "display_data"
    },
    {
     "name": "stdout",
     "output_type": "stream",
     "text": [
      "new_element_df shape is  (251, 6)\n",
      "49\n",
      "element Inchikey suggested: WTVHZZSETLLXOV-UHFFFAOYSA-N, Eval: 0.2699205314617007\n",
      "iteration 10 completed\n",
      "max fitness acquired: 0.5052561899606678\n",
      "min fitness acquired: -3.4454416512809245\n",
      "new fitness acquired: 0.2699205314617007\n"
     ]
    },
    {
     "data": {
      "application/vnd.jupyter.widget-view+json": {
       "model_id": "f8cd63ec4ef04ab5ac7ec0309dda5332",
       "version_major": 2,
       "version_minor": 0
      },
      "text/plain": [
       "Pandas Apply:   0%|          | 0/106 [00:00<?, ?it/s]"
      ]
     },
     "metadata": {},
     "output_type": "display_data"
    },
    {
     "data": {
      "application/vnd.jupyter.widget-view+json": {
       "model_id": "705412eb53bd4b8aa1f3764dd9ad2dc1",
       "version_major": 2,
       "version_minor": 0
      },
      "text/plain": [
       "Pandas Apply:   0%|          | 0/3 [00:00<?, ?it/s]"
      ]
     },
     "metadata": {},
     "output_type": "display_data"
    },
    {
     "name": "stdout",
     "output_type": "stream",
     "text": [
      "new_element_df shape is  (106, 6)\n",
      "19\n",
      "element Inchikey suggested: BSNZQXACJZEOID-UHFFFAOYSA-N, Eval: 0.371235675751987\n",
      "iteration 11 completed\n",
      "max fitness acquired: 0.5052561899606678\n",
      "min fitness acquired: -3.4454416512809245\n",
      "new fitness acquired: 0.371235675751987\n"
     ]
    },
    {
     "data": {
      "application/vnd.jupyter.widget-view+json": {
       "model_id": "eec30c050ce24f479ab725e6d2b5d743",
       "version_major": 2,
       "version_minor": 0
      },
      "text/plain": [
       "Pandas Apply:   0%|          | 0/176 [00:00<?, ?it/s]"
      ]
     },
     "metadata": {},
     "output_type": "display_data"
    },
    {
     "data": {
      "application/vnd.jupyter.widget-view+json": {
       "model_id": "094f67ef73474e7a80802467574f0715",
       "version_major": 2,
       "version_minor": 0
      },
      "text/plain": [
       "Pandas Apply:   0%|          | 0/29 [00:00<?, ?it/s]"
      ]
     },
     "metadata": {},
     "output_type": "display_data"
    },
    {
     "name": "stdout",
     "output_type": "stream",
     "text": [
      "new_element_df shape is  (176, 6)\n",
      "11\n",
      "element Inchikey suggested: LGCXGRIJGKYJDP-UHFFFAOYSA-N, Eval: 0.637936021882021\n",
      "iteration 12 completed\n",
      "max fitness acquired: 0.637936021882021\n",
      "min fitness acquired: -3.4454416512809245\n",
      "new fitness acquired: 0.637936021882021\n"
     ]
    },
    {
     "data": {
      "application/vnd.jupyter.widget-view+json": {
       "model_id": "0471c3cf5deb4e5a8cf2514eefb0f79b",
       "version_major": 2,
       "version_minor": 0
      },
      "text/plain": [
       "Pandas Apply:   0%|          | 0/432 [00:00<?, ?it/s]"
      ]
     },
     "metadata": {},
     "output_type": "display_data"
    },
    {
     "data": {
      "application/vnd.jupyter.widget-view+json": {
       "model_id": "bd23da37f12a47499ed392082dc61346",
       "version_major": 2,
       "version_minor": 0
      },
      "text/plain": [
       "Pandas Apply:   0%|          | 0/92 [00:00<?, ?it/s]"
      ]
     },
     "metadata": {},
     "output_type": "display_data"
    },
    {
     "name": "stdout",
     "output_type": "stream",
     "text": [
      "new_element_df shape is  (432, 6)\n",
      "24\n",
      "element Inchikey suggested: GCICEPHMCRXIIN-UHFFFAOYSA-N, Eval: 0.24378336403873457\n",
      "iteration 13 completed\n",
      "max fitness acquired: 0.637936021882021\n",
      "min fitness acquired: -3.4454416512809245\n",
      "new fitness acquired: 0.24378336403873457\n"
     ]
    },
    {
     "data": {
      "application/vnd.jupyter.widget-view+json": {
       "model_id": "d58665e549264949a54d3570928c73c4",
       "version_major": 2,
       "version_minor": 0
      },
      "text/plain": [
       "Pandas Apply:   0%|          | 0/221 [00:00<?, ?it/s]"
      ]
     },
     "metadata": {},
     "output_type": "display_data"
    },
    {
     "data": {
      "application/vnd.jupyter.widget-view+json": {
       "model_id": "606f83ccf1d546f69460c4d582abb329",
       "version_major": 2,
       "version_minor": 0
      },
      "text/plain": [
       "Pandas Apply:   0%|          | 0/6 [00:00<?, ?it/s]"
      ]
     },
     "metadata": {},
     "output_type": "display_data"
    },
    {
     "name": "stdout",
     "output_type": "stream",
     "text": [
      "new_element_df shape is  (221, 6)\n",
      "27\n",
      "element Inchikey suggested: OSRUJRDFJZLTBP-UHFFFAOYSA-N, Eval: 0.361535095674547\n",
      "iteration 14 completed\n",
      "max fitness acquired: 0.637936021882021\n",
      "min fitness acquired: -3.4454416512809245\n",
      "new fitness acquired: 0.361535095674547\n"
     ]
    },
    {
     "data": {
      "application/vnd.jupyter.widget-view+json": {
       "model_id": "ebc5d3378f7949b9820280ec771fec4a",
       "version_major": 2,
       "version_minor": 0
      },
      "text/plain": [
       "Pandas Apply:   0%|          | 0/230 [00:00<?, ?it/s]"
      ]
     },
     "metadata": {},
     "output_type": "display_data"
    },
    {
     "data": {
      "application/vnd.jupyter.widget-view+json": {
       "model_id": "d50e7fe093c24f31a43b7937607575ea",
       "version_major": 2,
       "version_minor": 0
      },
      "text/plain": [
       "Pandas Apply:   0%|          | 0/5 [00:00<?, ?it/s]"
      ]
     },
     "metadata": {},
     "output_type": "display_data"
    },
    {
     "name": "stdout",
     "output_type": "stream",
     "text": [
      "new_element_df shape is  (230, 6)\n",
      "130\n",
      "element Inchikey suggested: CMPOWGWHVBEYTL-UHFFFAOYSA-N, Eval: 0.3685485572812317\n",
      "iteration 15 completed\n",
      "max fitness acquired: 0.637936021882021\n",
      "min fitness acquired: -3.4454416512809245\n",
      "new fitness acquired: 0.3685485572812317\n"
     ]
    },
    {
     "data": {
      "application/vnd.jupyter.widget-view+json": {
       "model_id": "ebd05fe611ff497c9c2a23eaeae08bc7",
       "version_major": 2,
       "version_minor": 0
      },
      "text/plain": [
       "Pandas Apply:   0%|          | 0/235 [00:00<?, ?it/s]"
      ]
     },
     "metadata": {},
     "output_type": "display_data"
    },
    {
     "data": {
      "application/vnd.jupyter.widget-view+json": {
       "model_id": "e71c098ff6ec4d8f8ab380a4d548a309",
       "version_major": 2,
       "version_minor": 0
      },
      "text/plain": [
       "Pandas Apply:   0%|          | 0/3 [00:00<?, ?it/s]"
      ]
     },
     "metadata": {},
     "output_type": "display_data"
    },
    {
     "name": "stdout",
     "output_type": "stream",
     "text": [
      "new_element_df shape is  (235, 6)\n",
      "155\n",
      "element Inchikey suggested: WGUOPLMCDRNVNV-UHFFFAOYSA-N, Eval: 0.36345222160776003\n",
      "iteration 16 completed\n",
      "max fitness acquired: 0.637936021882021\n",
      "min fitness acquired: -3.4454416512809245\n",
      "new fitness acquired: 0.36345222160776003\n"
     ]
    },
    {
     "data": {
      "application/vnd.jupyter.widget-view+json": {
       "model_id": "4defd92176794e49b0f66b055f8a5c99",
       "version_major": 2,
       "version_minor": 0
      },
      "text/plain": [
       "Pandas Apply:   0%|          | 0/319 [00:00<?, ?it/s]"
      ]
     },
     "metadata": {},
     "output_type": "display_data"
    },
    {
     "data": {
      "application/vnd.jupyter.widget-view+json": {
       "model_id": "2acbef5b8f7f4af19a2a55d219641b9f",
       "version_major": 2,
       "version_minor": 0
      },
      "text/plain": [
       "Pandas Apply:   0%|          | 0/4 [00:00<?, ?it/s]"
      ]
     },
     "metadata": {},
     "output_type": "display_data"
    },
    {
     "name": "stdout",
     "output_type": "stream",
     "text": [
      "new_element_df shape is  (319, 6)\n",
      "197\n",
      "element Inchikey suggested: WZTNWTIILGPEJP-UHFFFAOYSA-N, Eval: 0.5677016636292351\n",
      "iteration 17 completed\n",
      "max fitness acquired: 0.637936021882021\n",
      "min fitness acquired: -3.4454416512809245\n",
      "new fitness acquired: 0.5677016636292351\n"
     ]
    },
    {
     "data": {
      "application/vnd.jupyter.widget-view+json": {
       "model_id": "e52416bfa0ff4d8c9a6307c83b3a54dd",
       "version_major": 2,
       "version_minor": 0
      },
      "text/plain": [
       "Pandas Apply:   0%|          | 0/358 [00:00<?, ?it/s]"
      ]
     },
     "metadata": {},
     "output_type": "display_data"
    },
    {
     "data": {
      "application/vnd.jupyter.widget-view+json": {
       "model_id": "779394e61aaa454c97679b27adead391",
       "version_major": 2,
       "version_minor": 0
      },
      "text/plain": [
       "Pandas Apply:   0%|          | 0/24 [00:00<?, ?it/s]"
      ]
     },
     "metadata": {},
     "output_type": "display_data"
    },
    {
     "name": "stdout",
     "output_type": "stream",
     "text": [
      "new_element_df shape is  (358, 6)\n",
      "7\n",
      "element Inchikey suggested: CAHZWZYHUFJRAP-UHFFFAOYSA-N, Eval: 0.2765453607723556\n",
      "iteration 18 completed\n",
      "max fitness acquired: 0.637936021882021\n",
      "min fitness acquired: -3.4454416512809245\n",
      "new fitness acquired: 0.2765453607723556\n"
     ]
    },
    {
     "data": {
      "application/vnd.jupyter.widget-view+json": {
       "model_id": "a8b7adf33bac43dabe1f2a0ccbb42ce4",
       "version_major": 2,
       "version_minor": 0
      },
      "text/plain": [
       "Pandas Apply:   0%|          | 0/297 [00:00<?, ?it/s]"
      ]
     },
     "metadata": {},
     "output_type": "display_data"
    },
    {
     "data": {
      "application/vnd.jupyter.widget-view+json": {
       "model_id": "c9fda8ed33e94fe59d0eb4b823e651d3",
       "version_major": 2,
       "version_minor": 0
      },
      "text/plain": [
       "Pandas Apply:   0%|          | 0/7 [00:00<?, ?it/s]"
      ]
     },
     "metadata": {},
     "output_type": "display_data"
    },
    {
     "name": "stdout",
     "output_type": "stream",
     "text": [
      "new_element_df shape is  (297, 6)\n",
      "18\n",
      "element Inchikey suggested: XQGPRKAQEHJIOJ-UHFFFAOYSA-N, Eval: 0.20689057908396147\n",
      "iteration 19 completed\n",
      "max fitness acquired: 0.637936021882021\n",
      "min fitness acquired: -3.4454416512809245\n",
      "new fitness acquired: 0.20689057908396147\n"
     ]
    },
    {
     "data": {
      "text/plain": [
       "69"
      ]
     },
     "execution_count": 651,
     "metadata": {},
     "output_type": "execute_result"
    }
   ],
   "source": [
    "define_and_run_search(search_algorithm=SUEA)"
   ]
  },
  {
   "cell_type": "code",
   "execution_count": 652,
   "metadata": {},
   "outputs": [
    {
     "name": "stdout",
     "output_type": "stream",
     "text": [
      "Inputs saved.\n",
      "element Inchikey suggested: SYYXLDZARWYYJR-PNQUVVCRSA-N, Eval: -1.6790533843925946\n",
      "element Inchikey suggested: JKKQLOHXZAFVJA-UHFFFAOYSA-N, Eval: -1.9025832997223455\n",
      "element Inchikey suggested: SKPZIJAZIHEADN-UHFFFAOYSA-N, Eval: -2.5837688203476077\n",
      "element Inchikey suggested: KZURDLDUMFHKRE-UHFFFAOYSA-N, Eval: -1.0664341045960084\n",
      "element Inchikey suggested: WYWDVYBXPHPYIN-UHFFFAOYSA-N, Eval: 0.38005464337027484\n",
      "element Inchikey suggested: KTOOVNCARMXCFZ-UHFFFAOYSA-N, Eval: -0.6569905837375207\n",
      "element Inchikey suggested: HFWAUAKXRXQIKI-UHFFFAOYSA-N, Eval: 0.19658929668472536\n",
      "element Inchikey suggested: CMTZEQXKHIJDDD-WWXMDWTASA-N, Eval: -0.9788570616205511\n",
      "element Inchikey suggested: UESPZTWTMZCSJZ-UHFFFAOYSA-N, Eval: -0.1251577380996728\n",
      "element Inchikey suggested: YCHFHXKAHFUWCX-YLYVUXRMSA-N, Eval: -2.141844625347532\n",
      "element Inchikey suggested: GLOPEHVGCYZGPV-WOQZLCCUSA-N, Eval: -1.7109264813772693\n",
      "element Inchikey suggested: NKYYYDWTDUPPCE-LLJCYPMUSA-N, Eval: -2.2885428843515863\n",
      "element Inchikey suggested: JGOKZBSRGWXWKP-UBMOTSMSSA-N, Eval: -0.17337238830243074\n",
      "element Inchikey suggested: WDOXOKOABYFYCC-MJZQGPGMSA-N, Eval: -2.3880723883179282\n",
      "element Inchikey suggested: CRQXIYYPACLTOC-PPDIBHTLSA-N, Eval: -0.10371251905153178\n",
      "element Inchikey suggested: IUHWJFQFVWDPCM-FNSAWIKJSA-N, Eval: -1.149562793593117\n",
      "element Inchikey suggested: APDUABCDBUZEGJ-UHFFFAOYSA-N, Eval: -1.1262752096104411\n",
      "element Inchikey suggested: JTUOSOJVDVVYFZ-BVLYGJLTSA-N, Eval: -1.9051330931768458\n",
      "element Inchikey suggested: KEAGFLDUTPVNFZ-UHFFFAOYSA-N, Eval: -0.16267469132138201\n",
      "element Inchikey suggested: NSMSAANWXOLQLC-UHFFFAOYSA-N, Eval: -2.6063599913279623\n",
      "element Inchikey suggested: OQLLZQFEEQZISZ-LNAZMCQBSA-N, Eval: -1.5940183459760495\n",
      "element Inchikey suggested: NALPVHPYRWOGFT-UHFFFAOYSA-N, Eval: -1.8415911408763797\n",
      "element Inchikey suggested: OYGFLPUTAJACSZ-UHFFFAOYSA-N, Eval: -1.7009750396619556\n",
      "element Inchikey suggested: JGYIPBNOVIAGMC-UHFFFAOYSA-N, Eval: -1.1823259409340425\n",
      "element Inchikey suggested: KWMUXASKOZHXPF-OOAQWYOUSA-N, Eval: -1.5374530035897271\n",
      "element Inchikey suggested: MIGNMOINCKNGPC-JACJQHGZSA-N, Eval: -0.8791955014783271\n",
      "element Inchikey suggested: KHBLUCVPQZQWGN-FNSAWIKJSA-N, Eval: 0.3008850537893095\n",
      "element Inchikey suggested: JOZRTRCMSXHDGG-OKAIWCTOSA-N, Eval: -0.8620395904754047\n",
      "element Inchikey suggested: CXXNZGGXXKUXQW-UHFFFAOYSA-N, Eval: -0.8960081998737252\n",
      "element Inchikey suggested: DASDFURERWCNGZ-VSVMEZQCSA-N, Eval: -1.9323627056355313\n",
      "element Inchikey suggested: ZGESQOXLDYNXKT-UHFFFAOYSA-N, Eval: -1.5035358560759138\n",
      "element Inchikey suggested: MAHGGCALRAGUHG-UHFFFAOYSA-N, Eval: -1.2384046604449075\n",
      "element Inchikey suggested: SJGOFXIUVKQVBP-IUEOAILPSA-N, Eval: -2.005208200162775\n",
      "element Inchikey suggested: XJWRLVYFTOPVJC-HTVDVWKISA-N, Eval: -0.1617036326682576\n",
      "element Inchikey suggested: MIXJJGQNRWFJQM-CVUIAOGPSA-N, Eval: -0.23475777923369168\n",
      "element Inchikey suggested: WUIIXHLQVFAXOZ-UHFFFAOYSA-N, Eval: -1.9775151236378283\n",
      "element Inchikey suggested: FPCUNEFEQLSINM-UHFFFAOYSA-N, Eval: -0.6969588845446734\n",
      "element Inchikey suggested: GYDRHCXSIPJRHY-UHFFFAOYSA-N, Eval: -1.4037450153981152\n",
      "element Inchikey suggested: CNNQNXNCSKPPGG-DQGTYSGISA-N, Eval: -1.19184020196212\n",
      "element Inchikey suggested: AFIWJBXLZFSDLK-HDCDBCLTSA-N, Eval: -1.252281051793422\n",
      "element Inchikey suggested: IBFZFXBJARFYDG-LUKHMWGVSA-N, Eval: -0.5444388472874758\n",
      "element Inchikey suggested: PEJHXHZSMPWWLI-QAFFRGNXSA-N, Eval: -0.17329065427733326\n",
      "element Inchikey suggested: NYCQGJQWNRTZQJ-AIMOZCANSA-N, Eval: -1.6026052046849182\n",
      "element Inchikey suggested: IZEPOSHGQSAKOR-UHFFFAOYSA-N, Eval: -1.221431059437557\n",
      "element Inchikey suggested: NIMNTAQIPUVBFX-UHFFFAOYSA-N, Eval: 0.1509730317666158\n",
      "element Inchikey suggested: ONSSXGLBNCTHHN-AXPBCNCPSA-N, Eval: -1.6601373529592438\n",
      "element Inchikey suggested: AIHCMTAUZVZWDG-XLIKFESASA-N, Eval: -2.2040191780768024\n",
      "element Inchikey suggested: OJHWLMGPABMYHY-UHFFFAOYSA-N, Eval: -1.9388850454926831\n",
      "element Inchikey suggested: LYHDLQBXMYZNNU-FONZVJJCSA-N, Eval: -1.3663072622335675\n",
      "element Inchikey suggested: DEIZSBUNLNTHSK-QIXOJTTASA-N, Eval: -1.2962964796095107\n",
      "max fitness acquired: 0.38005464337027484\n",
      "min fitness acquired: -2.6063599913279623\n"
     ]
    },
    {
     "data": {
      "application/vnd.jupyter.widget-view+json": {
       "model_id": "cc5bfa571a464d76bdfb14837fb3b099",
       "version_major": 2,
       "version_minor": 0
      },
      "text/plain": [
       "Pandas Apply:   0%|          | 0/50 [00:00<?, ?it/s]"
      ]
     },
     "metadata": {},
     "output_type": "display_data"
    },
    {
     "data": {
      "application/vnd.jupyter.widget-view+json": {
       "model_id": "57680431511c406287b76bff355fa0db",
       "version_major": 2,
       "version_minor": 0
      },
      "text/plain": [
       "Pandas Apply:   0%|          | 0/44 [00:00<?, ?it/s]"
      ]
     },
     "metadata": {},
     "output_type": "display_data"
    },
    {
     "data": {
      "application/vnd.jupyter.widget-view+json": {
       "model_id": "47bc59ac157843219f30425aaa900ca7",
       "version_major": 2,
       "version_minor": 0
      },
      "text/plain": [
       "Pandas Apply:   0%|          | 0/86 [00:00<?, ?it/s]"
      ]
     },
     "metadata": {},
     "output_type": "display_data"
    },
    {
     "data": {
      "application/vnd.jupyter.widget-view+json": {
       "model_id": "c82a32e9b1864c8f92abd0ed79207123",
       "version_major": 2,
       "version_minor": 0
      },
      "text/plain": [
       "Pandas Apply:   0%|          | 0/27 [00:00<?, ?it/s]"
      ]
     },
     "metadata": {},
     "output_type": "display_data"
    },
    {
     "name": "stdout",
     "output_type": "stream",
     "text": [
      "size of representation dataset  2041\n"
     ]
    },
    {
     "data": {
      "application/vnd.jupyter.widget-view+json": {
       "model_id": "baef6d1058854ac4b18aa09d801e2e22",
       "version_major": 2,
       "version_minor": 0
      },
      "text/plain": [
       "Pandas Apply:   0%|          | 0/115 [00:00<?, ?it/s]"
      ]
     },
     "metadata": {},
     "output_type": "display_data"
    },
    {
     "data": {
      "application/vnd.jupyter.widget-view+json": {
       "model_id": "6883651528a74910af12253165d455ad",
       "version_major": 2,
       "version_minor": 0
      },
      "text/plain": [
       "Pandas Apply:   0%|          | 0/8 [00:00<?, ?it/s]"
      ]
     },
     "metadata": {},
     "output_type": "display_data"
    },
    {
     "name": "stdout",
     "output_type": "stream",
     "text": [
      "size of representation dataset  2049\n"
     ]
    },
    {
     "data": {
      "application/vnd.jupyter.widget-view+json": {
       "model_id": "5c3fc429d5c34be6bc6c1dee168b303c",
       "version_major": 2,
       "version_minor": 0
      },
      "text/plain": [
       "Pandas Apply:   0%|          | 0/146 [00:00<?, ?it/s]"
      ]
     },
     "metadata": {},
     "output_type": "display_data"
    },
    {
     "data": {
      "application/vnd.jupyter.widget-view+json": {
       "model_id": "0123813ef25944ebb4eed47f01e9772d",
       "version_major": 2,
       "version_minor": 0
      },
      "text/plain": [
       "Pandas Apply:   0%|          | 0/15 [00:00<?, ?it/s]"
      ]
     },
     "metadata": {},
     "output_type": "display_data"
    },
    {
     "name": "stdout",
     "output_type": "stream",
     "text": [
      "size of representation dataset  2064\n"
     ]
    },
    {
     "data": {
      "application/vnd.jupyter.widget-view+json": {
       "model_id": "d8c938ae77c34dda9d47a9545a38d3f1",
       "version_major": 2,
       "version_minor": 0
      },
      "text/plain": [
       "Pandas Apply:   0%|          | 0/160 [00:00<?, ?it/s]"
      ]
     },
     "metadata": {},
     "output_type": "display_data"
    },
    {
     "data": {
      "application/vnd.jupyter.widget-view+json": {
       "model_id": "bd5ad1f54b954512ba977083b1a8ef27",
       "version_major": 2,
       "version_minor": 0
      },
      "text/plain": [
       "Pandas Apply:   0%|          | 0/6 [00:00<?, ?it/s]"
      ]
     },
     "metadata": {},
     "output_type": "display_data"
    },
    {
     "name": "stdout",
     "output_type": "stream",
     "text": [
      "size of representation dataset  2070\n"
     ]
    },
    {
     "data": {
      "application/vnd.jupyter.widget-view+json": {
       "model_id": "1193f7d26d6f4df3a0a0bbfee9e3290e",
       "version_major": 2,
       "version_minor": 0
      },
      "text/plain": [
       "Pandas Apply:   0%|          | 0/176 [00:00<?, ?it/s]"
      ]
     },
     "metadata": {},
     "output_type": "display_data"
    },
    {
     "data": {
      "application/vnd.jupyter.widget-view+json": {
       "model_id": "8c8952625dc54f3798f8c63d5de349f3",
       "version_major": 2,
       "version_minor": 0
      },
      "text/plain": [
       "Pandas Apply:   0%|          | 0/16 [00:00<?, ?it/s]"
      ]
     },
     "metadata": {},
     "output_type": "display_data"
    },
    {
     "name": "stdout",
     "output_type": "stream",
     "text": [
      "size of representation dataset  2086\n"
     ]
    },
    {
     "data": {
      "application/vnd.jupyter.widget-view+json": {
       "model_id": "5e55223bd1664b97b9720410b19df94c",
       "version_major": 2,
       "version_minor": 0
      },
      "text/plain": [
       "Pandas Apply:   0%|          | 0/297 [00:00<?, ?it/s]"
      ]
     },
     "metadata": {},
     "output_type": "display_data"
    },
    {
     "data": {
      "application/vnd.jupyter.widget-view+json": {
       "model_id": "1397b7f4b97b4454a964257c548cbb89",
       "version_major": 2,
       "version_minor": 0
      },
      "text/plain": [
       "Pandas Apply:   0%|          | 0/3 [00:00<?, ?it/s]"
      ]
     },
     "metadata": {},
     "output_type": "display_data"
    },
    {
     "name": "stdout",
     "output_type": "stream",
     "text": [
      "size of representation dataset  2089\n"
     ]
    },
    {
     "data": {
      "application/vnd.jupyter.widget-view+json": {
       "model_id": "4160cfcd8d6440d988ede2d43027255b",
       "version_major": 2,
       "version_minor": 0
      },
      "text/plain": [
       "Pandas Apply:   0%|          | 0/297 [00:00<?, ?it/s]"
      ]
     },
     "metadata": {},
     "output_type": "display_data"
    },
    {
     "name": "stdout",
     "output_type": "stream",
     "text": [
      "size of representation dataset  2089\n"
     ]
    },
    {
     "data": {
      "application/vnd.jupyter.widget-view+json": {
       "model_id": "5f6b7f45fd8942e0a28fcfda79468f2f",
       "version_major": 2,
       "version_minor": 0
      },
      "text/plain": [
       "Pandas Apply:   0%|          | 0/298 [00:00<?, ?it/s]"
      ]
     },
     "metadata": {},
     "output_type": "display_data"
    },
    {
     "data": {
      "application/vnd.jupyter.widget-view+json": {
       "model_id": "967eee03c76f431a94f1d41941f5a9f8",
       "version_major": 2,
       "version_minor": 0
      },
      "text/plain": [
       "Pandas Apply:   0%|          | 0/1 [00:00<?, ?it/s]"
      ]
     },
     "metadata": {},
     "output_type": "display_data"
    },
    {
     "name": "stdout",
     "output_type": "stream",
     "text": [
      "size of representation dataset  2090\n"
     ]
    },
    {
     "data": {
      "application/vnd.jupyter.widget-view+json": {
       "model_id": "7dc4cf21680c48209d585de99c17c7c6",
       "version_major": 2,
       "version_minor": 0
      },
      "text/plain": [
       "Pandas Apply:   0%|          | 0/302 [00:00<?, ?it/s]"
      ]
     },
     "metadata": {},
     "output_type": "display_data"
    },
    {
     "data": {
      "application/vnd.jupyter.widget-view+json": {
       "model_id": "104bb51c729e4fb183537ffc56d66c6c",
       "version_major": 2,
       "version_minor": 0
      },
      "text/plain": [
       "Pandas Apply:   0%|          | 0/4 [00:00<?, ?it/s]"
      ]
     },
     "metadata": {},
     "output_type": "display_data"
    },
    {
     "name": "stdout",
     "output_type": "stream",
     "text": [
      "size of representation dataset  2094\n"
     ]
    },
    {
     "data": {
      "application/vnd.jupyter.widget-view+json": {
       "model_id": "30b851ea6bab45d68296c5c0f828abbd",
       "version_major": 2,
       "version_minor": 0
      },
      "text/plain": [
       "Pandas Apply:   0%|          | 0/303 [00:00<?, ?it/s]"
      ]
     },
     "metadata": {},
     "output_type": "display_data"
    },
    {
     "name": "stdout",
     "output_type": "stream",
     "text": [
      "size of representation dataset  2094\n"
     ]
    },
    {
     "data": {
      "application/vnd.jupyter.widget-view+json": {
       "model_id": "bc8c3a50d78648c78d0a2535f011bdc9",
       "version_major": 2,
       "version_minor": 0
      },
      "text/plain": [
       "Pandas Apply:   0%|          | 0/304 [00:00<?, ?it/s]"
      ]
     },
     "metadata": {},
     "output_type": "display_data"
    },
    {
     "data": {
      "application/vnd.jupyter.widget-view+json": {
       "model_id": "815e40263a5d4dd698c645a3246f0eb3",
       "version_major": 2,
       "version_minor": 0
      },
      "text/plain": [
       "Pandas Apply:   0%|          | 0/1 [00:00<?, ?it/s]"
      ]
     },
     "metadata": {},
     "output_type": "display_data"
    },
    {
     "name": "stdout",
     "output_type": "stream",
     "text": [
      "size of representation dataset  2095\n",
      "element Inchikey suggested: MSAAFKOGHJAYBV-UHFFFAOYSA-N, Eval: 0.07479926401428372\n",
      "iteration 0 completed\n",
      "max fitness acquired: 0.38005464337027484\n",
      "min fitness acquired: -2.6063599913279623\n",
      "new fitness acquired: 0.07479926401428372\n"
     ]
    },
    {
     "data": {
      "application/vnd.jupyter.widget-view+json": {
       "model_id": "9ce3e2619bb64be18f7dc4bb906007d1",
       "version_major": 2,
       "version_minor": 0
      },
      "text/plain": [
       "Pandas Apply:   0%|          | 0/51 [00:00<?, ?it/s]"
      ]
     },
     "metadata": {},
     "output_type": "display_data"
    },
    {
     "data": {
      "application/vnd.jupyter.widget-view+json": {
       "model_id": "b510ad896dd24093bd929129613ff80b",
       "version_major": 2,
       "version_minor": 0
      },
      "text/plain": [
       "Pandas Apply:   0%|          | 0/102 [00:00<?, ?it/s]"
      ]
     },
     "metadata": {},
     "output_type": "display_data"
    },
    {
     "data": {
      "application/vnd.jupyter.widget-view+json": {
       "model_id": "2efb46a18df744d18dc15c50502cfabe",
       "version_major": 2,
       "version_minor": 0
      },
      "text/plain": [
       "Pandas Apply:   0%|          | 0/17 [00:00<?, ?it/s]"
      ]
     },
     "metadata": {},
     "output_type": "display_data"
    },
    {
     "name": "stdout",
     "output_type": "stream",
     "text": [
      "size of representation dataset  2112\n"
     ]
    },
    {
     "data": {
      "application/vnd.jupyter.widget-view+json": {
       "model_id": "04effd403665401fafe3ba7c2cefbc65",
       "version_major": 2,
       "version_minor": 0
      },
      "text/plain": [
       "Pandas Apply:   0%|          | 0/116 [00:00<?, ?it/s]"
      ]
     },
     "metadata": {},
     "output_type": "display_data"
    },
    {
     "name": "stdout",
     "output_type": "stream",
     "text": [
      "size of representation dataset  2112\n"
     ]
    },
    {
     "data": {
      "application/vnd.jupyter.widget-view+json": {
       "model_id": "d67dc46c93cc4aaeac2da98ef6332497",
       "version_major": 2,
       "version_minor": 0
      },
      "text/plain": [
       "Pandas Apply:   0%|          | 0/134 [00:00<?, ?it/s]"
      ]
     },
     "metadata": {},
     "output_type": "display_data"
    },
    {
     "data": {
      "application/vnd.jupyter.widget-view+json": {
       "model_id": "70fd232299cb43679cf11f6e051a53aa",
       "version_major": 2,
       "version_minor": 0
      },
      "text/plain": [
       "Pandas Apply:   0%|          | 0/4 [00:00<?, ?it/s]"
      ]
     },
     "metadata": {},
     "output_type": "display_data"
    },
    {
     "name": "stdout",
     "output_type": "stream",
     "text": [
      "size of representation dataset  2116\n"
     ]
    },
    {
     "data": {
      "application/vnd.jupyter.widget-view+json": {
       "model_id": "b9bb8742f4a94e1cbf24d45d76157396",
       "version_major": 2,
       "version_minor": 0
      },
      "text/plain": [
       "Pandas Apply:   0%|          | 0/194 [00:00<?, ?it/s]"
      ]
     },
     "metadata": {},
     "output_type": "display_data"
    },
    {
     "data": {
      "application/vnd.jupyter.widget-view+json": {
       "model_id": "4332c3ea990e4117a245a1cacd352715",
       "version_major": 2,
       "version_minor": 0
      },
      "text/plain": [
       "Pandas Apply:   0%|          | 0/15 [00:00<?, ?it/s]"
      ]
     },
     "metadata": {},
     "output_type": "display_data"
    },
    {
     "name": "stdout",
     "output_type": "stream",
     "text": [
      "size of representation dataset  2131\n"
     ]
    },
    {
     "data": {
      "application/vnd.jupyter.widget-view+json": {
       "model_id": "a2ba4269563f4a32a038530f7c5dd2a7",
       "version_major": 2,
       "version_minor": 0
      },
      "text/plain": [
       "Pandas Apply:   0%|          | 0/195 [00:00<?, ?it/s]"
      ]
     },
     "metadata": {},
     "output_type": "display_data"
    },
    {
     "data": {
      "application/vnd.jupyter.widget-view+json": {
       "model_id": "0becdc11eb2e4834a35f96235a5ca826",
       "version_major": 2,
       "version_minor": 0
      },
      "text/plain": [
       "Pandas Apply:   0%|          | 0/1 [00:00<?, ?it/s]"
      ]
     },
     "metadata": {},
     "output_type": "display_data"
    },
    {
     "name": "stdout",
     "output_type": "stream",
     "text": [
      "size of representation dataset  2132\n"
     ]
    },
    {
     "data": {
      "application/vnd.jupyter.widget-view+json": {
       "model_id": "683cccd287e94f07be993cb34794bec2",
       "version_major": 2,
       "version_minor": 0
      },
      "text/plain": [
       "Pandas Apply:   0%|          | 0/197 [00:00<?, ?it/s]"
      ]
     },
     "metadata": {},
     "output_type": "display_data"
    },
    {
     "data": {
      "application/vnd.jupyter.widget-view+json": {
       "model_id": "0097cc9e3f374c3db79a50283ea56ac8",
       "version_major": 2,
       "version_minor": 0
      },
      "text/plain": [
       "Pandas Apply:   0%|          | 0/2 [00:00<?, ?it/s]"
      ]
     },
     "metadata": {},
     "output_type": "display_data"
    },
    {
     "name": "stdout",
     "output_type": "stream",
     "text": [
      "size of representation dataset  2134\n"
     ]
    },
    {
     "data": {
      "application/vnd.jupyter.widget-view+json": {
       "model_id": "5e0d6bb253ba446ca4bb37637d83180b",
       "version_major": 2,
       "version_minor": 0
      },
      "text/plain": [
       "Pandas Apply:   0%|          | 0/203 [00:00<?, ?it/s]"
      ]
     },
     "metadata": {},
     "output_type": "display_data"
    },
    {
     "data": {
      "application/vnd.jupyter.widget-view+json": {
       "model_id": "1b9d9dcf44e7468ebd33447238a9e7bd",
       "version_major": 2,
       "version_minor": 0
      },
      "text/plain": [
       "Pandas Apply:   0%|          | 0/5 [00:00<?, ?it/s]"
      ]
     },
     "metadata": {},
     "output_type": "display_data"
    },
    {
     "name": "stdout",
     "output_type": "stream",
     "text": [
      "size of representation dataset  2139\n"
     ]
    },
    {
     "data": {
      "application/vnd.jupyter.widget-view+json": {
       "model_id": "7768e366992a4a17abfb9ad6bbcb0032",
       "version_major": 2,
       "version_minor": 0
      },
      "text/plain": [
       "Pandas Apply:   0%|          | 0/228 [00:00<?, ?it/s]"
      ]
     },
     "metadata": {},
     "output_type": "display_data"
    },
    {
     "data": {
      "application/vnd.jupyter.widget-view+json": {
       "model_id": "0b00cb5172f044f0ab08b7e4047dff37",
       "version_major": 2,
       "version_minor": 0
      },
      "text/plain": [
       "Pandas Apply:   0%|          | 0/12 [00:00<?, ?it/s]"
      ]
     },
     "metadata": {},
     "output_type": "display_data"
    },
    {
     "name": "stdout",
     "output_type": "stream",
     "text": [
      "size of representation dataset  2151\n"
     ]
    },
    {
     "data": {
      "application/vnd.jupyter.widget-view+json": {
       "model_id": "eff0362709c0407aafaf93e83459230d",
       "version_major": 2,
       "version_minor": 0
      },
      "text/plain": [
       "Pandas Apply:   0%|          | 0/229 [00:00<?, ?it/s]"
      ]
     },
     "metadata": {},
     "output_type": "display_data"
    },
    {
     "data": {
      "application/vnd.jupyter.widget-view+json": {
       "model_id": "fe4a54c276dc41a59750705c924c6257",
       "version_major": 2,
       "version_minor": 0
      },
      "text/plain": [
       "Pandas Apply:   0%|          | 0/1 [00:00<?, ?it/s]"
      ]
     },
     "metadata": {},
     "output_type": "display_data"
    },
    {
     "name": "stdout",
     "output_type": "stream",
     "text": [
      "size of representation dataset  2152\n"
     ]
    },
    {
     "data": {
      "application/vnd.jupyter.widget-view+json": {
       "model_id": "59672bc940d24410ac8a65292be18114",
       "version_major": 2,
       "version_minor": 0
      },
      "text/plain": [
       "Pandas Apply:   0%|          | 0/236 [00:00<?, ?it/s]"
      ]
     },
     "metadata": {},
     "output_type": "display_data"
    },
    {
     "data": {
      "application/vnd.jupyter.widget-view+json": {
       "model_id": "26b9c87a41304b96ab1c0d3aa316c247",
       "version_major": 2,
       "version_minor": 0
      },
      "text/plain": [
       "Pandas Apply:   0%|          | 0/4 [00:00<?, ?it/s]"
      ]
     },
     "metadata": {},
     "output_type": "display_data"
    },
    {
     "name": "stdout",
     "output_type": "stream",
     "text": [
      "size of representation dataset  2156\n"
     ]
    },
    {
     "data": {
      "application/vnd.jupyter.widget-view+json": {
       "model_id": "d13710dce97943ab8d3e94dfebcbdbcb",
       "version_major": 2,
       "version_minor": 0
      },
      "text/plain": [
       "Pandas Apply:   0%|          | 0/260 [00:00<?, ?it/s]"
      ]
     },
     "metadata": {},
     "output_type": "display_data"
    },
    {
     "data": {
      "application/vnd.jupyter.widget-view+json": {
       "model_id": "e71757547c5342bb99f2d47d44f02afb",
       "version_major": 2,
       "version_minor": 0
      },
      "text/plain": [
       "Pandas Apply:   0%|          | 0/23 [00:00<?, ?it/s]"
      ]
     },
     "metadata": {},
     "output_type": "display_data"
    },
    {
     "name": "stdout",
     "output_type": "stream",
     "text": [
      "size of representation dataset  2179\n"
     ]
    },
    {
     "data": {
      "application/vnd.jupyter.widget-view+json": {
       "model_id": "920ae7ee3d8b4d5dbea617d99e93083b",
       "version_major": 2,
       "version_minor": 0
      },
      "text/plain": [
       "Pandas Apply:   0%|          | 0/265 [00:00<?, ?it/s]"
      ]
     },
     "metadata": {},
     "output_type": "display_data"
    },
    {
     "data": {
      "application/vnd.jupyter.widget-view+json": {
       "model_id": "156e13a6b76646da8870a6f58110c477",
       "version_major": 2,
       "version_minor": 0
      },
      "text/plain": [
       "Pandas Apply:   0%|          | 0/1 [00:00<?, ?it/s]"
      ]
     },
     "metadata": {},
     "output_type": "display_data"
    },
    {
     "name": "stdout",
     "output_type": "stream",
     "text": [
      "size of representation dataset  2180\n"
     ]
    },
    {
     "data": {
      "application/vnd.jupyter.widget-view+json": {
       "model_id": "0a4e41f1a1dc43cba7217399ec0fc96f",
       "version_major": 2,
       "version_minor": 0
      },
      "text/plain": [
       "Pandas Apply:   0%|          | 0/292 [00:00<?, ?it/s]"
      ]
     },
     "metadata": {},
     "output_type": "display_data"
    },
    {
     "data": {
      "application/vnd.jupyter.widget-view+json": {
       "model_id": "d992f822e50d4a23a052d47355f2b20b",
       "version_major": 2,
       "version_minor": 0
      },
      "text/plain": [
       "Pandas Apply:   0%|          | 0/27 [00:00<?, ?it/s]"
      ]
     },
     "metadata": {},
     "output_type": "display_data"
    },
    {
     "name": "stdout",
     "output_type": "stream",
     "text": [
      "size of representation dataset  2207\n"
     ]
    },
    {
     "data": {
      "application/vnd.jupyter.widget-view+json": {
       "model_id": "424c19960c724d43b923952979f0873e",
       "version_major": 2,
       "version_minor": 0
      },
      "text/plain": [
       "Pandas Apply:   0%|          | 0/344 [00:00<?, ?it/s]"
      ]
     },
     "metadata": {},
     "output_type": "display_data"
    },
    {
     "name": "stdout",
     "output_type": "stream",
     "text": [
      "size of representation dataset  2207\n",
      "element Inchikey suggested: AAQQFGNZZGGQAX-UHFFFAOYSA-N, Eval: 0.25527100978640793\n",
      "iteration 1 completed\n",
      "max fitness acquired: 0.38005464337027484\n",
      "min fitness acquired: -2.6063599913279623\n",
      "new fitness acquired: 0.25527100978640793\n"
     ]
    },
    {
     "data": {
      "application/vnd.jupyter.widget-view+json": {
       "model_id": "67723c7d03534aebb4211e7f81dc7869",
       "version_major": 2,
       "version_minor": 0
      },
      "text/plain": [
       "Pandas Apply:   0%|          | 0/52 [00:00<?, ?it/s]"
      ]
     },
     "metadata": {},
     "output_type": "display_data"
    },
    {
     "data": {
      "application/vnd.jupyter.widget-view+json": {
       "model_id": "cde4d1baf8d443e8b0b500a716c9436a",
       "version_major": 2,
       "version_minor": 0
      },
      "text/plain": [
       "Pandas Apply:   0%|          | 0/82 [00:00<?, ?it/s]"
      ]
     },
     "metadata": {},
     "output_type": "display_data"
    },
    {
     "data": {
      "application/vnd.jupyter.widget-view+json": {
       "model_id": "24093e558e3846ecab84d23e49144871",
       "version_major": 2,
       "version_minor": 0
      },
      "text/plain": [
       "Pandas Apply:   0%|          | 0/6 [00:00<?, ?it/s]"
      ]
     },
     "metadata": {},
     "output_type": "display_data"
    },
    {
     "name": "stdout",
     "output_type": "stream",
     "text": [
      "size of representation dataset  2213\n"
     ]
    },
    {
     "data": {
      "application/vnd.jupyter.widget-view+json": {
       "model_id": "84994facd540480dbd9654bd65dc583d",
       "version_major": 2,
       "version_minor": 0
      },
      "text/plain": [
       "Pandas Apply:   0%|          | 0/105 [00:00<?, ?it/s]"
      ]
     },
     "metadata": {},
     "output_type": "display_data"
    },
    {
     "data": {
      "application/vnd.jupyter.widget-view+json": {
       "model_id": "e0d0f63d1aa04c3d9e13e9f52bcbb789",
       "version_major": 2,
       "version_minor": 0
      },
      "text/plain": [
       "Pandas Apply:   0%|          | 0/7 [00:00<?, ?it/s]"
      ]
     },
     "metadata": {},
     "output_type": "display_data"
    },
    {
     "name": "stdout",
     "output_type": "stream",
     "text": [
      "size of representation dataset  2220\n"
     ]
    },
    {
     "data": {
      "application/vnd.jupyter.widget-view+json": {
       "model_id": "f90b330513e4416abd048b4f743f4159",
       "version_major": 2,
       "version_minor": 0
      },
      "text/plain": [
       "Pandas Apply:   0%|          | 0/137 [00:00<?, ?it/s]"
      ]
     },
     "metadata": {},
     "output_type": "display_data"
    },
    {
     "data": {
      "application/vnd.jupyter.widget-view+json": {
       "model_id": "7aad9ec6f72b499fa761fa708c2d0b94",
       "version_major": 2,
       "version_minor": 0
      },
      "text/plain": [
       "Pandas Apply:   0%|          | 0/5 [00:00<?, ?it/s]"
      ]
     },
     "metadata": {},
     "output_type": "display_data"
    },
    {
     "name": "stdout",
     "output_type": "stream",
     "text": [
      "size of representation dataset  2225\n"
     ]
    },
    {
     "data": {
      "application/vnd.jupyter.widget-view+json": {
       "model_id": "67943841da464ef391b8b07c55de3edd",
       "version_major": 2,
       "version_minor": 0
      },
      "text/plain": [
       "Pandas Apply:   0%|          | 0/192 [00:00<?, ?it/s]"
      ]
     },
     "metadata": {},
     "output_type": "display_data"
    },
    {
     "data": {
      "application/vnd.jupyter.widget-view+json": {
       "model_id": "a388603866ee49ba8059d97a9d86ba95",
       "version_major": 2,
       "version_minor": 0
      },
      "text/plain": [
       "Pandas Apply:   0%|          | 0/4 [00:00<?, ?it/s]"
      ]
     },
     "metadata": {},
     "output_type": "display_data"
    },
    {
     "name": "stdout",
     "output_type": "stream",
     "text": [
      "size of representation dataset  2229\n"
     ]
    },
    {
     "data": {
      "application/vnd.jupyter.widget-view+json": {
       "model_id": "9981651bf8084f288271dd49d616cf33",
       "version_major": 2,
       "version_minor": 0
      },
      "text/plain": [
       "Pandas Apply:   0%|          | 0/216 [00:00<?, ?it/s]"
      ]
     },
     "metadata": {},
     "output_type": "display_data"
    },
    {
     "name": "stdout",
     "output_type": "stream",
     "text": [
      "size of representation dataset  2229\n"
     ]
    },
    {
     "data": {
      "application/vnd.jupyter.widget-view+json": {
       "model_id": "cb9625d596f34fdba142954f300dee43",
       "version_major": 2,
       "version_minor": 0
      },
      "text/plain": [
       "Pandas Apply:   0%|          | 0/217 [00:00<?, ?it/s]"
      ]
     },
     "metadata": {},
     "output_type": "display_data"
    },
    {
     "data": {
      "application/vnd.jupyter.widget-view+json": {
       "model_id": "6f75ba880b324147b0cc8b3b40a3dfc9",
       "version_major": 2,
       "version_minor": 0
      },
      "text/plain": [
       "Pandas Apply:   0%|          | 0/1 [00:00<?, ?it/s]"
      ]
     },
     "metadata": {},
     "output_type": "display_data"
    },
    {
     "name": "stdout",
     "output_type": "stream",
     "text": [
      "size of representation dataset  2230\n"
     ]
    },
    {
     "data": {
      "application/vnd.jupyter.widget-view+json": {
       "model_id": "684f334648b74ec088b2319a5c924c2d",
       "version_major": 2,
       "version_minor": 0
      },
      "text/plain": [
       "Pandas Apply:   0%|          | 0/246 [00:00<?, ?it/s]"
      ]
     },
     "metadata": {},
     "output_type": "display_data"
    },
    {
     "data": {
      "application/vnd.jupyter.widget-view+json": {
       "model_id": "4eff7794086c418aabbdf34847e81f34",
       "version_major": 2,
       "version_minor": 0
      },
      "text/plain": [
       "Pandas Apply:   0%|          | 0/27 [00:00<?, ?it/s]"
      ]
     },
     "metadata": {},
     "output_type": "display_data"
    },
    {
     "name": "stdout",
     "output_type": "stream",
     "text": [
      "size of representation dataset  2257\n"
     ]
    },
    {
     "data": {
      "application/vnd.jupyter.widget-view+json": {
       "model_id": "be5508ab1b454fe4b6cff262dcd4ac5e",
       "version_major": 2,
       "version_minor": 0
      },
      "text/plain": [
       "Pandas Apply:   0%|          | 0/253 [00:00<?, ?it/s]"
      ]
     },
     "metadata": {},
     "output_type": "display_data"
    },
    {
     "data": {
      "application/vnd.jupyter.widget-view+json": {
       "model_id": "01049ad55cd44cddbc9b030bd99f0d02",
       "version_major": 2,
       "version_minor": 0
      },
      "text/plain": [
       "Pandas Apply:   0%|          | 0/5 [00:00<?, ?it/s]"
      ]
     },
     "metadata": {},
     "output_type": "display_data"
    },
    {
     "name": "stdout",
     "output_type": "stream",
     "text": [
      "size of representation dataset  2262\n"
     ]
    },
    {
     "data": {
      "application/vnd.jupyter.widget-view+json": {
       "model_id": "447a313664f248b99ebfc4cc7539adc8",
       "version_major": 2,
       "version_minor": 0
      },
      "text/plain": [
       "Pandas Apply:   0%|          | 0/256 [00:00<?, ?it/s]"
      ]
     },
     "metadata": {},
     "output_type": "display_data"
    },
    {
     "name": "stdout",
     "output_type": "stream",
     "text": [
      "size of representation dataset  2262\n"
     ]
    },
    {
     "data": {
      "application/vnd.jupyter.widget-view+json": {
       "model_id": "66a1fde5f97c4204b1c0db36e30a69a4",
       "version_major": 2,
       "version_minor": 0
      },
      "text/plain": [
       "Pandas Apply:   0%|          | 0/257 [00:00<?, ?it/s]"
      ]
     },
     "metadata": {},
     "output_type": "display_data"
    },
    {
     "name": "stdout",
     "output_type": "stream",
     "text": [
      "size of representation dataset  2262\n"
     ]
    },
    {
     "data": {
      "application/vnd.jupyter.widget-view+json": {
       "model_id": "51083195da51485bb5b5e5b3a90c9a64",
       "version_major": 2,
       "version_minor": 0
      },
      "text/plain": [
       "Pandas Apply:   0%|          | 0/257 [00:00<?, ?it/s]"
      ]
     },
     "metadata": {},
     "output_type": "display_data"
    },
    {
     "name": "stdout",
     "output_type": "stream",
     "text": [
      "size of representation dataset  2262\n"
     ]
    },
    {
     "data": {
      "application/vnd.jupyter.widget-view+json": {
       "model_id": "417a193ec5ef458f93dd7d9df2641bde",
       "version_major": 2,
       "version_minor": 0
      },
      "text/plain": [
       "Pandas Apply:   0%|          | 0/258 [00:00<?, ?it/s]"
      ]
     },
     "metadata": {},
     "output_type": "display_data"
    },
    {
     "data": {
      "application/vnd.jupyter.widget-view+json": {
       "model_id": "35d7f67e42644801b84f710ea3ec81a8",
       "version_major": 2,
       "version_minor": 0
      },
      "text/plain": [
       "Pandas Apply:   0%|          | 0/1 [00:00<?, ?it/s]"
      ]
     },
     "metadata": {},
     "output_type": "display_data"
    },
    {
     "name": "stdout",
     "output_type": "stream",
     "text": [
      "size of representation dataset  2263\n"
     ]
    },
    {
     "data": {
      "application/vnd.jupyter.widget-view+json": {
       "model_id": "a8d51b69eaa54da78e6f037caecb0dbd",
       "version_major": 2,
       "version_minor": 0
      },
      "text/plain": [
       "Pandas Apply:   0%|          | 0/266 [00:00<?, ?it/s]"
      ]
     },
     "metadata": {},
     "output_type": "display_data"
    },
    {
     "data": {
      "application/vnd.jupyter.widget-view+json": {
       "model_id": "064ff581bbca4eafb1ee9f49df617719",
       "version_major": 2,
       "version_minor": 0
      },
      "text/plain": [
       "Pandas Apply:   0%|          | 0/8 [00:00<?, ?it/s]"
      ]
     },
     "metadata": {},
     "output_type": "display_data"
    },
    {
     "name": "stdout",
     "output_type": "stream",
     "text": [
      "size of representation dataset  2271\n",
      "element Inchikey suggested: ZUFXXMAWXLFSOO-UHFFFAOYSA-N, Eval: -0.03385594789991653\n",
      "iteration 2 completed\n",
      "max fitness acquired: 0.38005464337027484\n",
      "min fitness acquired: -2.6063599913279623\n",
      "new fitness acquired: -0.03385594789991653\n"
     ]
    },
    {
     "data": {
      "application/vnd.jupyter.widget-view+json": {
       "model_id": "b21221e5d7c04e088a27f1ab1e2c30b3",
       "version_major": 2,
       "version_minor": 0
      },
      "text/plain": [
       "Pandas Apply:   0%|          | 0/53 [00:00<?, ?it/s]"
      ]
     },
     "metadata": {},
     "output_type": "display_data"
    },
    {
     "data": {
      "application/vnd.jupyter.widget-view+json": {
       "model_id": "1bbcc68fbb5b4009a5070d17f9eccbe9",
       "version_major": 2,
       "version_minor": 0
      },
      "text/plain": [
       "Pandas Apply:   0%|          | 0/87 [00:00<?, ?it/s]"
      ]
     },
     "metadata": {},
     "output_type": "display_data"
    },
    {
     "data": {
      "application/vnd.jupyter.widget-view+json": {
       "model_id": "e7a40ebca88e42dc85aad35479f725ff",
       "version_major": 2,
       "version_minor": 0
      },
      "text/plain": [
       "Pandas Apply:   0%|          | 0/3 [00:00<?, ?it/s]"
      ]
     },
     "metadata": {},
     "output_type": "display_data"
    },
    {
     "name": "stdout",
     "output_type": "stream",
     "text": [
      "size of representation dataset  2274\n"
     ]
    },
    {
     "data": {
      "application/vnd.jupyter.widget-view+json": {
       "model_id": "dc1c256b039b4503861e3ef818f5053e",
       "version_major": 2,
       "version_minor": 0
      },
      "text/plain": [
       "Pandas Apply:   0%|          | 0/97 [00:00<?, ?it/s]"
      ]
     },
     "metadata": {},
     "output_type": "display_data"
    },
    {
     "name": "stdout",
     "output_type": "stream",
     "text": [
      "size of representation dataset  2274\n"
     ]
    },
    {
     "data": {
      "application/vnd.jupyter.widget-view+json": {
       "model_id": "75d972d1c28749f2a7192b28ca4ffd05",
       "version_major": 2,
       "version_minor": 0
      },
      "text/plain": [
       "Pandas Apply:   0%|          | 0/101 [00:00<?, ?it/s]"
      ]
     },
     "metadata": {},
     "output_type": "display_data"
    },
    {
     "data": {
      "application/vnd.jupyter.widget-view+json": {
       "model_id": "5b83d06e5a92441bab8af7eb15f6110d",
       "version_major": 2,
       "version_minor": 0
      },
      "text/plain": [
       "Pandas Apply:   0%|          | 0/4 [00:00<?, ?it/s]"
      ]
     },
     "metadata": {},
     "output_type": "display_data"
    },
    {
     "name": "stdout",
     "output_type": "stream",
     "text": [
      "size of representation dataset  2278\n"
     ]
    },
    {
     "data": {
      "application/vnd.jupyter.widget-view+json": {
       "model_id": "7bc6100ce47545a6b49ecf7512c62f53",
       "version_major": 2,
       "version_minor": 0
      },
      "text/plain": [
       "Pandas Apply:   0%|          | 0/116 [00:00<?, ?it/s]"
      ]
     },
     "metadata": {},
     "output_type": "display_data"
    },
    {
     "name": "stdout",
     "output_type": "stream",
     "text": [
      "size of representation dataset  2278\n"
     ]
    },
    {
     "data": {
      "application/vnd.jupyter.widget-view+json": {
       "model_id": "8d092bee2df6445d8888b6f8e2bed363",
       "version_major": 2,
       "version_minor": 0
      },
      "text/plain": [
       "Pandas Apply:   0%|          | 0/120 [00:00<?, ?it/s]"
      ]
     },
     "metadata": {},
     "output_type": "display_data"
    },
    {
     "data": {
      "application/vnd.jupyter.widget-view+json": {
       "model_id": "b4a0a2950375419ab544b48b71e529f3",
       "version_major": 2,
       "version_minor": 0
      },
      "text/plain": [
       "Pandas Apply:   0%|          | 0/2 [00:00<?, ?it/s]"
      ]
     },
     "metadata": {},
     "output_type": "display_data"
    },
    {
     "name": "stdout",
     "output_type": "stream",
     "text": [
      "size of representation dataset  2280\n"
     ]
    },
    {
     "data": {
      "application/vnd.jupyter.widget-view+json": {
       "model_id": "30a2372a87a34e028b2f96ae896d0c26",
       "version_major": 2,
       "version_minor": 0
      },
      "text/plain": [
       "Pandas Apply:   0%|          | 0/133 [00:00<?, ?it/s]"
      ]
     },
     "metadata": {},
     "output_type": "display_data"
    },
    {
     "data": {
      "application/vnd.jupyter.widget-view+json": {
       "model_id": "4f5aa05f061d43e2ac24b8fe02112684",
       "version_major": 2,
       "version_minor": 0
      },
      "text/plain": [
       "Pandas Apply:   0%|          | 0/9 [00:00<?, ?it/s]"
      ]
     },
     "metadata": {},
     "output_type": "display_data"
    },
    {
     "name": "stdout",
     "output_type": "stream",
     "text": [
      "size of representation dataset  2289\n"
     ]
    },
    {
     "data": {
      "application/vnd.jupyter.widget-view+json": {
       "model_id": "d4f50c9c10f04570ad926259d56b5305",
       "version_major": 2,
       "version_minor": 0
      },
      "text/plain": [
       "Pandas Apply:   0%|          | 0/134 [00:00<?, ?it/s]"
      ]
     },
     "metadata": {},
     "output_type": "display_data"
    },
    {
     "name": "stdout",
     "output_type": "stream",
     "text": [
      "size of representation dataset  2289\n"
     ]
    },
    {
     "data": {
      "application/vnd.jupyter.widget-view+json": {
       "model_id": "e9542da70fe34b97bf13d3e6007c2229",
       "version_major": 2,
       "version_minor": 0
      },
      "text/plain": [
       "Pandas Apply:   0%|          | 0/151 [00:00<?, ?it/s]"
      ]
     },
     "metadata": {},
     "output_type": "display_data"
    },
    {
     "data": {
      "application/vnd.jupyter.widget-view+json": {
       "model_id": "70b065407dba4888bdb3c724ce8074c6",
       "version_major": 2,
       "version_minor": 0
      },
      "text/plain": [
       "Pandas Apply:   0%|          | 0/17 [00:00<?, ?it/s]"
      ]
     },
     "metadata": {},
     "output_type": "display_data"
    },
    {
     "name": "stdout",
     "output_type": "stream",
     "text": [
      "size of representation dataset  2306\n"
     ]
    },
    {
     "data": {
      "application/vnd.jupyter.widget-view+json": {
       "model_id": "5abfc760c1e0434fb8d83ee43c491876",
       "version_major": 2,
       "version_minor": 0
      },
      "text/plain": [
       "Pandas Apply:   0%|          | 0/237 [00:00<?, ?it/s]"
      ]
     },
     "metadata": {},
     "output_type": "display_data"
    },
    {
     "data": {
      "application/vnd.jupyter.widget-view+json": {
       "model_id": "37d854ef50ea49b19444ee510685ec63",
       "version_major": 2,
       "version_minor": 0
      },
      "text/plain": [
       "Pandas Apply:   0%|          | 0/85 [00:00<?, ?it/s]"
      ]
     },
     "metadata": {},
     "output_type": "display_data"
    },
    {
     "name": "stdout",
     "output_type": "stream",
     "text": [
      "size of representation dataset  2391\n"
     ]
    },
    {
     "data": {
      "application/vnd.jupyter.widget-view+json": {
       "model_id": "49f5b88b8b784e58b3901751736b6119",
       "version_major": 2,
       "version_minor": 0
      },
      "text/plain": [
       "Pandas Apply:   0%|          | 0/350 [00:00<?, ?it/s]"
      ]
     },
     "metadata": {},
     "output_type": "display_data"
    },
    {
     "data": {
      "application/vnd.jupyter.widget-view+json": {
       "model_id": "f4b38489d5634308ae3767405733ba4c",
       "version_major": 2,
       "version_minor": 0
      },
      "text/plain": [
       "Pandas Apply:   0%|          | 0/6 [00:00<?, ?it/s]"
      ]
     },
     "metadata": {},
     "output_type": "display_data"
    },
    {
     "name": "stdout",
     "output_type": "stream",
     "text": [
      "size of representation dataset  2397\n"
     ]
    },
    {
     "data": {
      "application/vnd.jupyter.widget-view+json": {
       "model_id": "f7e4f527c5994039b67cc5ab7922918a",
       "version_major": 2,
       "version_minor": 0
      },
      "text/plain": [
       "Pandas Apply:   0%|          | 0/352 [00:00<?, ?it/s]"
      ]
     },
     "metadata": {},
     "output_type": "display_data"
    },
    {
     "data": {
      "application/vnd.jupyter.widget-view+json": {
       "model_id": "a8696628f3964a799d68cec385527b90",
       "version_major": 2,
       "version_minor": 0
      },
      "text/plain": [
       "Pandas Apply:   0%|          | 0/2 [00:00<?, ?it/s]"
      ]
     },
     "metadata": {},
     "output_type": "display_data"
    },
    {
     "name": "stdout",
     "output_type": "stream",
     "text": [
      "size of representation dataset  2399\n"
     ]
    },
    {
     "data": {
      "application/vnd.jupyter.widget-view+json": {
       "model_id": "b5c04f6f1ee742e19cbca6a0d2785dcf",
       "version_major": 2,
       "version_minor": 0
      },
      "text/plain": [
       "Pandas Apply:   0%|          | 0/353 [00:00<?, ?it/s]"
      ]
     },
     "metadata": {},
     "output_type": "display_data"
    },
    {
     "data": {
      "application/vnd.jupyter.widget-view+json": {
       "model_id": "3c63dae61d0d4da99292d5c283b3e443",
       "version_major": 2,
       "version_minor": 0
      },
      "text/plain": [
       "Pandas Apply:   0%|          | 0/1 [00:00<?, ?it/s]"
      ]
     },
     "metadata": {},
     "output_type": "display_data"
    },
    {
     "name": "stdout",
     "output_type": "stream",
     "text": [
      "size of representation dataset  2400\n"
     ]
    },
    {
     "data": {
      "application/vnd.jupyter.widget-view+json": {
       "model_id": "925af0dbe5f146eebf3c59f83a3c6bb0",
       "version_major": 2,
       "version_minor": 0
      },
      "text/plain": [
       "Pandas Apply:   0%|          | 0/357 [00:00<?, ?it/s]"
      ]
     },
     "metadata": {},
     "output_type": "display_data"
    },
    {
     "data": {
      "application/vnd.jupyter.widget-view+json": {
       "model_id": "59266559f68f473dbb7e208200eed0ae",
       "version_major": 2,
       "version_minor": 0
      },
      "text/plain": [
       "Pandas Apply:   0%|          | 0/3 [00:00<?, ?it/s]"
      ]
     },
     "metadata": {},
     "output_type": "display_data"
    },
    {
     "name": "stdout",
     "output_type": "stream",
     "text": [
      "size of representation dataset  2403\n",
      "element Inchikey suggested: COSXQYKDGPXWAW-UHFFFAOYSA-N, Eval: 0.3144651836210839\n",
      "iteration 3 completed\n",
      "max fitness acquired: 0.38005464337027484\n",
      "min fitness acquired: -2.6063599913279623\n",
      "new fitness acquired: 0.3144651836210839\n"
     ]
    },
    {
     "data": {
      "application/vnd.jupyter.widget-view+json": {
       "model_id": "c6d336e11c91470ea82892b58a004afa",
       "version_major": 2,
       "version_minor": 0
      },
      "text/plain": [
       "Pandas Apply:   0%|          | 0/54 [00:00<?, ?it/s]"
      ]
     },
     "metadata": {},
     "output_type": "display_data"
    },
    {
     "data": {
      "application/vnd.jupyter.widget-view+json": {
       "model_id": "f99792426a504037817830ea5bcb6ee9",
       "version_major": 2,
       "version_minor": 0
      },
      "text/plain": [
       "Pandas Apply:   0%|          | 0/91 [00:00<?, ?it/s]"
      ]
     },
     "metadata": {},
     "output_type": "display_data"
    },
    {
     "name": "stdout",
     "output_type": "stream",
     "text": [
      "size of representation dataset  2403\n"
     ]
    },
    {
     "data": {
      "application/vnd.jupyter.widget-view+json": {
       "model_id": "4128272c048149eb8ba75f29afad98fc",
       "version_major": 2,
       "version_minor": 0
      },
      "text/plain": [
       "Pandas Apply:   0%|          | 0/102 [00:00<?, ?it/s]"
      ]
     },
     "metadata": {},
     "output_type": "display_data"
    },
    {
     "data": {
      "application/vnd.jupyter.widget-view+json": {
       "model_id": "a782838af6d14a30b55618639570ef4e",
       "version_major": 2,
       "version_minor": 0
      },
      "text/plain": [
       "Pandas Apply:   0%|          | 0/2 [00:00<?, ?it/s]"
      ]
     },
     "metadata": {},
     "output_type": "display_data"
    },
    {
     "name": "stdout",
     "output_type": "stream",
     "text": [
      "size of representation dataset  2405\n"
     ]
    },
    {
     "data": {
      "application/vnd.jupyter.widget-view+json": {
       "model_id": "2fb9046682674e83bfd4309d72103a87",
       "version_major": 2,
       "version_minor": 0
      },
      "text/plain": [
       "Pandas Apply:   0%|          | 0/117 [00:00<?, ?it/s]"
      ]
     },
     "metadata": {},
     "output_type": "display_data"
    },
    {
     "data": {
      "application/vnd.jupyter.widget-view+json": {
       "model_id": "2c0d2883ed424579946d7d1e8eebf8de",
       "version_major": 2,
       "version_minor": 0
      },
      "text/plain": [
       "Pandas Apply:   0%|          | 0/14 [00:00<?, ?it/s]"
      ]
     },
     "metadata": {},
     "output_type": "display_data"
    },
    {
     "name": "stdout",
     "output_type": "stream",
     "text": [
      "size of representation dataset  2419\n"
     ]
    },
    {
     "data": {
      "application/vnd.jupyter.widget-view+json": {
       "model_id": "7a4303ef525c4f3bbd7582d414151363",
       "version_major": 2,
       "version_minor": 0
      },
      "text/plain": [
       "Pandas Apply:   0%|          | 0/120 [00:00<?, ?it/s]"
      ]
     },
     "metadata": {},
     "output_type": "display_data"
    },
    {
     "name": "stdout",
     "output_type": "stream",
     "text": [
      "size of representation dataset  2419\n"
     ]
    },
    {
     "data": {
      "application/vnd.jupyter.widget-view+json": {
       "model_id": "ce81f66b4c044e34871b4bc3a4a71d80",
       "version_major": 2,
       "version_minor": 0
      },
      "text/plain": [
       "Pandas Apply:   0%|          | 0/125 [00:00<?, ?it/s]"
      ]
     },
     "metadata": {},
     "output_type": "display_data"
    },
    {
     "name": "stdout",
     "output_type": "stream",
     "text": [
      "size of representation dataset  2419\n"
     ]
    },
    {
     "data": {
      "application/vnd.jupyter.widget-view+json": {
       "model_id": "7bc38e7434854acfaf4676ab4fa444df",
       "version_major": 2,
       "version_minor": 0
      },
      "text/plain": [
       "Pandas Apply:   0%|          | 0/148 [00:00<?, ?it/s]"
      ]
     },
     "metadata": {},
     "output_type": "display_data"
    },
    {
     "name": "stdout",
     "output_type": "stream",
     "text": [
      "size of representation dataset  2419\n"
     ]
    },
    {
     "data": {
      "application/vnd.jupyter.widget-view+json": {
       "model_id": "de24690727c8492faf937b7a8f2e8493",
       "version_major": 2,
       "version_minor": 0
      },
      "text/plain": [
       "Pandas Apply:   0%|          | 0/148 [00:00<?, ?it/s]"
      ]
     },
     "metadata": {},
     "output_type": "display_data"
    },
    {
     "name": "stdout",
     "output_type": "stream",
     "text": [
      "size of representation dataset  2419\n"
     ]
    },
    {
     "data": {
      "application/vnd.jupyter.widget-view+json": {
       "model_id": "9b372b566b46462086aa123eaf1df6aa",
       "version_major": 2,
       "version_minor": 0
      },
      "text/plain": [
       "Pandas Apply:   0%|          | 0/155 [00:00<?, ?it/s]"
      ]
     },
     "metadata": {},
     "output_type": "display_data"
    },
    {
     "data": {
      "application/vnd.jupyter.widget-view+json": {
       "model_id": "aa1baa5602f0436fa3817d7159f68484",
       "version_major": 2,
       "version_minor": 0
      },
      "text/plain": [
       "Pandas Apply:   0%|          | 0/7 [00:00<?, ?it/s]"
      ]
     },
     "metadata": {},
     "output_type": "display_data"
    },
    {
     "name": "stdout",
     "output_type": "stream",
     "text": [
      "size of representation dataset  2426\n"
     ]
    },
    {
     "data": {
      "application/vnd.jupyter.widget-view+json": {
       "model_id": "a87b3b953f5c4f9f86f78c2ada6423e5",
       "version_major": 2,
       "version_minor": 0
      },
      "text/plain": [
       "Pandas Apply:   0%|          | 0/161 [00:00<?, ?it/s]"
      ]
     },
     "metadata": {},
     "output_type": "display_data"
    },
    {
     "name": "stdout",
     "output_type": "stream",
     "text": [
      "size of representation dataset  2426\n"
     ]
    },
    {
     "data": {
      "application/vnd.jupyter.widget-view+json": {
       "model_id": "29c9d8ddd403434eb118be43fa43cc4c",
       "version_major": 2,
       "version_minor": 0
      },
      "text/plain": [
       "Pandas Apply:   0%|          | 0/277 [00:00<?, ?it/s]"
      ]
     },
     "metadata": {},
     "output_type": "display_data"
    },
    {
     "name": "stdout",
     "output_type": "stream",
     "text": [
      "size of representation dataset  2426\n"
     ]
    },
    {
     "data": {
      "application/vnd.jupyter.widget-view+json": {
       "model_id": "7a85b1a4dc0a4219855b1a634c540bf6",
       "version_major": 2,
       "version_minor": 0
      },
      "text/plain": [
       "Pandas Apply:   0%|          | 0/282 [00:00<?, ?it/s]"
      ]
     },
     "metadata": {},
     "output_type": "display_data"
    },
    {
     "data": {
      "application/vnd.jupyter.widget-view+json": {
       "model_id": "3ea909b6397747a7b8d191a99719b3a3",
       "version_major": 2,
       "version_minor": 0
      },
      "text/plain": [
       "Pandas Apply:   0%|          | 0/3 [00:00<?, ?it/s]"
      ]
     },
     "metadata": {},
     "output_type": "display_data"
    },
    {
     "name": "stdout",
     "output_type": "stream",
     "text": [
      "size of representation dataset  2429\n",
      "element Inchikey suggested: VZXUOVKUEQGMJK-UHFFFAOYSA-N, Eval: 0.34006574856421135\n",
      "iteration 4 completed\n",
      "max fitness acquired: 0.38005464337027484\n",
      "min fitness acquired: -2.6063599913279623\n",
      "new fitness acquired: 0.34006574856421135\n"
     ]
    },
    {
     "data": {
      "application/vnd.jupyter.widget-view+json": {
       "model_id": "b621548b017141818c77657b9dd8b5c7",
       "version_major": 2,
       "version_minor": 0
      },
      "text/plain": [
       "Pandas Apply:   0%|          | 0/55 [00:00<?, ?it/s]"
      ]
     },
     "metadata": {},
     "output_type": "display_data"
    },
    {
     "data": {
      "application/vnd.jupyter.widget-view+json": {
       "model_id": "2ffd9529d0f74ab0abf530dd15167af2",
       "version_major": 2,
       "version_minor": 0
      },
      "text/plain": [
       "Pandas Apply:   0%|          | 0/78 [00:00<?, ?it/s]"
      ]
     },
     "metadata": {},
     "output_type": "display_data"
    },
    {
     "data": {
      "application/vnd.jupyter.widget-view+json": {
       "model_id": "543c4c9c9ed9473682bab05efc0c4da6",
       "version_major": 2,
       "version_minor": 0
      },
      "text/plain": [
       "Pandas Apply:   0%|          | 0/2 [00:00<?, ?it/s]"
      ]
     },
     "metadata": {},
     "output_type": "display_data"
    },
    {
     "name": "stdout",
     "output_type": "stream",
     "text": [
      "size of representation dataset  2431\n"
     ]
    },
    {
     "data": {
      "application/vnd.jupyter.widget-view+json": {
       "model_id": "79052e70c2d848cc97a8cef4e2a6b0f1",
       "version_major": 2,
       "version_minor": 0
      },
      "text/plain": [
       "Pandas Apply:   0%|          | 0/90 [00:00<?, ?it/s]"
      ]
     },
     "metadata": {},
     "output_type": "display_data"
    },
    {
     "data": {
      "application/vnd.jupyter.widget-view+json": {
       "model_id": "c9bb0ae643684a84880a23b1665d3d06",
       "version_major": 2,
       "version_minor": 0
      },
      "text/plain": [
       "Pandas Apply:   0%|          | 0/3 [00:00<?, ?it/s]"
      ]
     },
     "metadata": {},
     "output_type": "display_data"
    },
    {
     "name": "stdout",
     "output_type": "stream",
     "text": [
      "size of representation dataset  2434\n"
     ]
    },
    {
     "data": {
      "application/vnd.jupyter.widget-view+json": {
       "model_id": "57084e9decff45e598ea01c821e2fed8",
       "version_major": 2,
       "version_minor": 0
      },
      "text/plain": [
       "Pandas Apply:   0%|          | 0/97 [00:00<?, ?it/s]"
      ]
     },
     "metadata": {},
     "output_type": "display_data"
    },
    {
     "data": {
      "application/vnd.jupyter.widget-view+json": {
       "model_id": "41c5a4220801494ab2fc0855c2a5b9ab",
       "version_major": 2,
       "version_minor": 0
      },
      "text/plain": [
       "Pandas Apply:   0%|          | 0/1 [00:00<?, ?it/s]"
      ]
     },
     "metadata": {},
     "output_type": "display_data"
    },
    {
     "name": "stdout",
     "output_type": "stream",
     "text": [
      "size of representation dataset  2435\n"
     ]
    },
    {
     "data": {
      "application/vnd.jupyter.widget-view+json": {
       "model_id": "305fe6eb0480443184faee2643f8888c",
       "version_major": 2,
       "version_minor": 0
      },
      "text/plain": [
       "Pandas Apply:   0%|          | 0/155 [00:00<?, ?it/s]"
      ]
     },
     "metadata": {},
     "output_type": "display_data"
    },
    {
     "name": "stdout",
     "output_type": "stream",
     "text": [
      "size of representation dataset  2435\n"
     ]
    },
    {
     "data": {
      "application/vnd.jupyter.widget-view+json": {
       "model_id": "6cb1b433a6204aeaa21c7a9e61d57692",
       "version_major": 2,
       "version_minor": 0
      },
      "text/plain": [
       "Pandas Apply:   0%|          | 0/165 [00:00<?, ?it/s]"
      ]
     },
     "metadata": {},
     "output_type": "display_data"
    },
    {
     "name": "stdout",
     "output_type": "stream",
     "text": [
      "size of representation dataset  2435\n"
     ]
    },
    {
     "data": {
      "application/vnd.jupyter.widget-view+json": {
       "model_id": "4f263135ae6d4010b524939a8cc293ea",
       "version_major": 2,
       "version_minor": 0
      },
      "text/plain": [
       "Pandas Apply:   0%|          | 0/166 [00:00<?, ?it/s]"
      ]
     },
     "metadata": {},
     "output_type": "display_data"
    },
    {
     "name": "stdout",
     "output_type": "stream",
     "text": [
      "size of representation dataset  2435\n"
     ]
    },
    {
     "data": {
      "application/vnd.jupyter.widget-view+json": {
       "model_id": "33c66a417a4d47788de15143ac7c9c82",
       "version_major": 2,
       "version_minor": 0
      },
      "text/plain": [
       "Pandas Apply:   0%|          | 0/170 [00:00<?, ?it/s]"
      ]
     },
     "metadata": {},
     "output_type": "display_data"
    },
    {
     "name": "stdout",
     "output_type": "stream",
     "text": [
      "size of representation dataset  2435\n"
     ]
    },
    {
     "data": {
      "application/vnd.jupyter.widget-view+json": {
       "model_id": "53020351f7b74d65b150199d3c618976",
       "version_major": 2,
       "version_minor": 0
      },
      "text/plain": [
       "Pandas Apply:   0%|          | 0/208 [00:00<?, ?it/s]"
      ]
     },
     "metadata": {},
     "output_type": "display_data"
    },
    {
     "name": "stdout",
     "output_type": "stream",
     "text": [
      "size of representation dataset  2435\n"
     ]
    },
    {
     "data": {
      "application/vnd.jupyter.widget-view+json": {
       "model_id": "bac4411009e2417888d4db7abc7097be",
       "version_major": 2,
       "version_minor": 0
      },
      "text/plain": [
       "Pandas Apply:   0%|          | 0/208 [00:00<?, ?it/s]"
      ]
     },
     "metadata": {},
     "output_type": "display_data"
    },
    {
     "name": "stdout",
     "output_type": "stream",
     "text": [
      "size of representation dataset  2435\n"
     ]
    },
    {
     "data": {
      "application/vnd.jupyter.widget-view+json": {
       "model_id": "d5320f21ebfb4a1183b48aa6a808d133",
       "version_major": 2,
       "version_minor": 0
      },
      "text/plain": [
       "Pandas Apply:   0%|          | 0/208 [00:00<?, ?it/s]"
      ]
     },
     "metadata": {},
     "output_type": "display_data"
    },
    {
     "name": "stdout",
     "output_type": "stream",
     "text": [
      "size of representation dataset  2435\n"
     ]
    },
    {
     "data": {
      "application/vnd.jupyter.widget-view+json": {
       "model_id": "228d73a1b1fc4fd69ce7640dd8a28ebe",
       "version_major": 2,
       "version_minor": 0
      },
      "text/plain": [
       "Pandas Apply:   0%|          | 0/218 [00:00<?, ?it/s]"
      ]
     },
     "metadata": {},
     "output_type": "display_data"
    },
    {
     "data": {
      "application/vnd.jupyter.widget-view+json": {
       "model_id": "90a1d612fb1d42e084848105e11b267d",
       "version_major": 2,
       "version_minor": 0
      },
      "text/plain": [
       "Pandas Apply:   0%|          | 0/8 [00:00<?, ?it/s]"
      ]
     },
     "metadata": {},
     "output_type": "display_data"
    },
    {
     "name": "stdout",
     "output_type": "stream",
     "text": [
      "size of representation dataset  2443\n",
      "element Inchikey suggested: RBGNKNDHIPAEES-UHFFFAOYSA-N, Eval: 0.27496098535765146\n",
      "iteration 5 completed\n",
      "max fitness acquired: 0.38005464337027484\n",
      "min fitness acquired: -2.6063599913279623\n",
      "new fitness acquired: 0.27496098535765146\n"
     ]
    },
    {
     "data": {
      "application/vnd.jupyter.widget-view+json": {
       "model_id": "d34f340b6c524c08ab90e97628d5ba5e",
       "version_major": 2,
       "version_minor": 0
      },
      "text/plain": [
       "Pandas Apply:   0%|          | 0/56 [00:00<?, ?it/s]"
      ]
     },
     "metadata": {},
     "output_type": "display_data"
    },
    {
     "data": {
      "application/vnd.jupyter.widget-view+json": {
       "model_id": "e8843d1042fb4d7dbd987358abec88ea",
       "version_major": 2,
       "version_minor": 0
      },
      "text/plain": [
       "Pandas Apply:   0%|          | 0/75 [00:00<?, ?it/s]"
      ]
     },
     "metadata": {},
     "output_type": "display_data"
    },
    {
     "name": "stdout",
     "output_type": "stream",
     "text": [
      "size of representation dataset  2443\n"
     ]
    },
    {
     "data": {
      "application/vnd.jupyter.widget-view+json": {
       "model_id": "f76d9a0e34d141aea381d51feb461807",
       "version_major": 2,
       "version_minor": 0
      },
      "text/plain": [
       "Pandas Apply:   0%|          | 0/88 [00:00<?, ?it/s]"
      ]
     },
     "metadata": {},
     "output_type": "display_data"
    },
    {
     "name": "stdout",
     "output_type": "stream",
     "text": [
      "size of representation dataset  2443\n"
     ]
    },
    {
     "data": {
      "application/vnd.jupyter.widget-view+json": {
       "model_id": "34206009e3fc47d7b1a61e4b2659755f",
       "version_major": 2,
       "version_minor": 0
      },
      "text/plain": [
       "Pandas Apply:   0%|          | 0/133 [00:00<?, ?it/s]"
      ]
     },
     "metadata": {},
     "output_type": "display_data"
    },
    {
     "name": "stdout",
     "output_type": "stream",
     "text": [
      "size of representation dataset  2443\n"
     ]
    },
    {
     "data": {
      "application/vnd.jupyter.widget-view+json": {
       "model_id": "70431224c7f149aeab3da51b7c226df1",
       "version_major": 2,
       "version_minor": 0
      },
      "text/plain": [
       "Pandas Apply:   0%|          | 0/139 [00:00<?, ?it/s]"
      ]
     },
     "metadata": {},
     "output_type": "display_data"
    },
    {
     "data": {
      "application/vnd.jupyter.widget-view+json": {
       "model_id": "406592e7e8274c7291df48283bb1da82",
       "version_major": 2,
       "version_minor": 0
      },
      "text/plain": [
       "Pandas Apply:   0%|          | 0/6 [00:00<?, ?it/s]"
      ]
     },
     "metadata": {},
     "output_type": "display_data"
    },
    {
     "name": "stdout",
     "output_type": "stream",
     "text": [
      "size of representation dataset  2449\n"
     ]
    },
    {
     "data": {
      "application/vnd.jupyter.widget-view+json": {
       "model_id": "d43815b5537a4b1492c57127defe1acc",
       "version_major": 2,
       "version_minor": 0
      },
      "text/plain": [
       "Pandas Apply:   0%|          | 0/140 [00:00<?, ?it/s]"
      ]
     },
     "metadata": {},
     "output_type": "display_data"
    },
    {
     "name": "stdout",
     "output_type": "stream",
     "text": [
      "size of representation dataset  2449\n"
     ]
    },
    {
     "data": {
      "application/vnd.jupyter.widget-view+json": {
       "model_id": "05026443699d4175affba5483865b39c",
       "version_major": 2,
       "version_minor": 0
      },
      "text/plain": [
       "Pandas Apply:   0%|          | 0/149 [00:00<?, ?it/s]"
      ]
     },
     "metadata": {},
     "output_type": "display_data"
    },
    {
     "data": {
      "application/vnd.jupyter.widget-view+json": {
       "model_id": "3c93a770372d4c11824c1ee89a233b44",
       "version_major": 2,
       "version_minor": 0
      },
      "text/plain": [
       "Pandas Apply:   0%|          | 0/1 [00:00<?, ?it/s]"
      ]
     },
     "metadata": {},
     "output_type": "display_data"
    },
    {
     "name": "stdout",
     "output_type": "stream",
     "text": [
      "size of representation dataset  2450\n"
     ]
    },
    {
     "data": {
      "application/vnd.jupyter.widget-view+json": {
       "model_id": "3f85d78ba6264e2897f927f28fad3d81",
       "version_major": 2,
       "version_minor": 0
      },
      "text/plain": [
       "Pandas Apply:   0%|          | 0/225 [00:00<?, ?it/s]"
      ]
     },
     "metadata": {},
     "output_type": "display_data"
    },
    {
     "data": {
      "application/vnd.jupyter.widget-view+json": {
       "model_id": "90b0f11d28c4416899497d3d104cb24a",
       "version_major": 2,
       "version_minor": 0
      },
      "text/plain": [
       "Pandas Apply:   0%|          | 0/75 [00:00<?, ?it/s]"
      ]
     },
     "metadata": {},
     "output_type": "display_data"
    },
    {
     "name": "stdout",
     "output_type": "stream",
     "text": [
      "size of representation dataset  2525\n"
     ]
    },
    {
     "data": {
      "application/vnd.jupyter.widget-view+json": {
       "model_id": "520bc8bb642b4f7c9a8df8d1de0bc287",
       "version_major": 2,
       "version_minor": 0
      },
      "text/plain": [
       "Pandas Apply:   0%|          | 0/234 [00:00<?, ?it/s]"
      ]
     },
     "metadata": {},
     "output_type": "display_data"
    },
    {
     "data": {
      "application/vnd.jupyter.widget-view+json": {
       "model_id": "b5ff385a9e2449e5b0f46ca1578ed87c",
       "version_major": 2,
       "version_minor": 0
      },
      "text/plain": [
       "Pandas Apply:   0%|          | 0/1 [00:00<?, ?it/s]"
      ]
     },
     "metadata": {},
     "output_type": "display_data"
    },
    {
     "name": "stdout",
     "output_type": "stream",
     "text": [
      "size of representation dataset  2526\n"
     ]
    },
    {
     "data": {
      "application/vnd.jupyter.widget-view+json": {
       "model_id": "fcd3e95511a746519a3ee54878980624",
       "version_major": 2,
       "version_minor": 0
      },
      "text/plain": [
       "Pandas Apply:   0%|          | 0/238 [00:00<?, ?it/s]"
      ]
     },
     "metadata": {},
     "output_type": "display_data"
    },
    {
     "data": {
      "application/vnd.jupyter.widget-view+json": {
       "model_id": "629cf0ea085240f49c633751e54b7b63",
       "version_major": 2,
       "version_minor": 0
      },
      "text/plain": [
       "Pandas Apply:   0%|          | 0/3 [00:00<?, ?it/s]"
      ]
     },
     "metadata": {},
     "output_type": "display_data"
    },
    {
     "name": "stdout",
     "output_type": "stream",
     "text": [
      "size of representation dataset  2529\n"
     ]
    },
    {
     "data": {
      "application/vnd.jupyter.widget-view+json": {
       "model_id": "bbae7923d46b4793bc1c3619ac1c34f1",
       "version_major": 2,
       "version_minor": 0
      },
      "text/plain": [
       "Pandas Apply:   0%|          | 0/240 [00:00<?, ?it/s]"
      ]
     },
     "metadata": {},
     "output_type": "display_data"
    },
    {
     "data": {
      "application/vnd.jupyter.widget-view+json": {
       "model_id": "9a308732ccf04134b12d96db630cc817",
       "version_major": 2,
       "version_minor": 0
      },
      "text/plain": [
       "Pandas Apply:   0%|          | 0/2 [00:00<?, ?it/s]"
      ]
     },
     "metadata": {},
     "output_type": "display_data"
    },
    {
     "name": "stdout",
     "output_type": "stream",
     "text": [
      "size of representation dataset  2531\n"
     ]
    },
    {
     "data": {
      "application/vnd.jupyter.widget-view+json": {
       "model_id": "053906ad42044f06b676d0660a4e3876",
       "version_major": 2,
       "version_minor": 0
      },
      "text/plain": [
       "Pandas Apply:   0%|          | 0/246 [00:00<?, ?it/s]"
      ]
     },
     "metadata": {},
     "output_type": "display_data"
    },
    {
     "data": {
      "application/vnd.jupyter.widget-view+json": {
       "model_id": "9f86937ee0694cdea68fb0552b15c6b8",
       "version_major": 2,
       "version_minor": 0
      },
      "text/plain": [
       "Pandas Apply:   0%|          | 0/6 [00:00<?, ?it/s]"
      ]
     },
     "metadata": {},
     "output_type": "display_data"
    },
    {
     "name": "stdout",
     "output_type": "stream",
     "text": [
      "size of representation dataset  2537\n",
      "element Inchikey suggested: GEVCBMILMKCVCV-UHFFFAOYSA-N, Eval: 0.34305947045485496\n",
      "iteration 6 completed\n",
      "max fitness acquired: 0.38005464337027484\n",
      "min fitness acquired: -2.6063599913279623\n",
      "new fitness acquired: 0.34305947045485496\n"
     ]
    },
    {
     "data": {
      "application/vnd.jupyter.widget-view+json": {
       "model_id": "12c6e8c8318d4d02b75f5d993fcf6052",
       "version_major": 2,
       "version_minor": 0
      },
      "text/plain": [
       "Pandas Apply:   0%|          | 0/57 [00:00<?, ?it/s]"
      ]
     },
     "metadata": {},
     "output_type": "display_data"
    },
    {
     "data": {
      "application/vnd.jupyter.widget-view+json": {
       "model_id": "837cabd29b1f467fa190826a752bd3fb",
       "version_major": 2,
       "version_minor": 0
      },
      "text/plain": [
       "Pandas Apply:   0%|          | 0/87 [00:00<?, ?it/s]"
      ]
     },
     "metadata": {},
     "output_type": "display_data"
    },
    {
     "name": "stdout",
     "output_type": "stream",
     "text": [
      "size of representation dataset  2537\n"
     ]
    },
    {
     "data": {
      "application/vnd.jupyter.widget-view+json": {
       "model_id": "aa6ff1fe87794d78afcf498ee7b498ed",
       "version_major": 2,
       "version_minor": 0
      },
      "text/plain": [
       "Pandas Apply:   0%|          | 0/99 [00:00<?, ?it/s]"
      ]
     },
     "metadata": {},
     "output_type": "display_data"
    },
    {
     "name": "stdout",
     "output_type": "stream",
     "text": [
      "size of representation dataset  2537\n"
     ]
    },
    {
     "data": {
      "application/vnd.jupyter.widget-view+json": {
       "model_id": "660388e032484e49a19f53266b199ab8",
       "version_major": 2,
       "version_minor": 0
      },
      "text/plain": [
       "Pandas Apply:   0%|          | 0/108 [00:00<?, ?it/s]"
      ]
     },
     "metadata": {},
     "output_type": "display_data"
    },
    {
     "name": "stdout",
     "output_type": "stream",
     "text": [
      "size of representation dataset  2537\n"
     ]
    },
    {
     "data": {
      "application/vnd.jupyter.widget-view+json": {
       "model_id": "536669543bfb4858979fc6044cbe4536",
       "version_major": 2,
       "version_minor": 0
      },
      "text/plain": [
       "Pandas Apply:   0%|          | 0/115 [00:00<?, ?it/s]"
      ]
     },
     "metadata": {},
     "output_type": "display_data"
    },
    {
     "data": {
      "application/vnd.jupyter.widget-view+json": {
       "model_id": "ae959b43d3b74f228911c87a741f5844",
       "version_major": 2,
       "version_minor": 0
      },
      "text/plain": [
       "Pandas Apply:   0%|          | 0/4 [00:00<?, ?it/s]"
      ]
     },
     "metadata": {},
     "output_type": "display_data"
    },
    {
     "name": "stdout",
     "output_type": "stream",
     "text": [
      "size of representation dataset  2541\n"
     ]
    },
    {
     "data": {
      "application/vnd.jupyter.widget-view+json": {
       "model_id": "2fe46bc2c53f4d17a396b553c7bf7c91",
       "version_major": 2,
       "version_minor": 0
      },
      "text/plain": [
       "Pandas Apply:   0%|          | 0/126 [00:00<?, ?it/s]"
      ]
     },
     "metadata": {},
     "output_type": "display_data"
    },
    {
     "name": "stdout",
     "output_type": "stream",
     "text": [
      "size of representation dataset  2541\n"
     ]
    },
    {
     "data": {
      "application/vnd.jupyter.widget-view+json": {
       "model_id": "94ceb5192c94407bbc1ec997bf170c18",
       "version_major": 2,
       "version_minor": 0
      },
      "text/plain": [
       "Pandas Apply:   0%|          | 0/135 [00:00<?, ?it/s]"
      ]
     },
     "metadata": {},
     "output_type": "display_data"
    },
    {
     "data": {
      "application/vnd.jupyter.widget-view+json": {
       "model_id": "0a057984c2604c9cb75594d52d4f269e",
       "version_major": 2,
       "version_minor": 0
      },
      "text/plain": [
       "Pandas Apply:   0%|          | 0/2 [00:00<?, ?it/s]"
      ]
     },
     "metadata": {},
     "output_type": "display_data"
    },
    {
     "name": "stdout",
     "output_type": "stream",
     "text": [
      "size of representation dataset  2543\n"
     ]
    },
    {
     "data": {
      "application/vnd.jupyter.widget-view+json": {
       "model_id": "4935309a6bc94dbd9128488fd22e74bf",
       "version_major": 2,
       "version_minor": 0
      },
      "text/plain": [
       "Pandas Apply:   0%|          | 0/139 [00:00<?, ?it/s]"
      ]
     },
     "metadata": {},
     "output_type": "display_data"
    },
    {
     "name": "stdout",
     "output_type": "stream",
     "text": [
      "size of representation dataset  2543\n"
     ]
    },
    {
     "data": {
      "application/vnd.jupyter.widget-view+json": {
       "model_id": "223b39c0fc694d2880970bbf3d369d66",
       "version_major": 2,
       "version_minor": 0
      },
      "text/plain": [
       "Pandas Apply:   0%|          | 0/139 [00:00<?, ?it/s]"
      ]
     },
     "metadata": {},
     "output_type": "display_data"
    },
    {
     "name": "stdout",
     "output_type": "stream",
     "text": [
      "size of representation dataset  2543\n"
     ]
    },
    {
     "data": {
      "application/vnd.jupyter.widget-view+json": {
       "model_id": "8943637a24eb4eb39b3c9e6d47c8e255",
       "version_major": 2,
       "version_minor": 0
      },
      "text/plain": [
       "Pandas Apply:   0%|          | 0/153 [00:00<?, ?it/s]"
      ]
     },
     "metadata": {},
     "output_type": "display_data"
    },
    {
     "data": {
      "application/vnd.jupyter.widget-view+json": {
       "model_id": "6b835155e91c44dfab302be2de41edea",
       "version_major": 2,
       "version_minor": 0
      },
      "text/plain": [
       "Pandas Apply:   0%|          | 0/8 [00:00<?, ?it/s]"
      ]
     },
     "metadata": {},
     "output_type": "display_data"
    },
    {
     "name": "stdout",
     "output_type": "stream",
     "text": [
      "size of representation dataset  2551\n"
     ]
    },
    {
     "data": {
      "application/vnd.jupyter.widget-view+json": {
       "model_id": "97b5704908244d4498811bec2b749843",
       "version_major": 2,
       "version_minor": 0
      },
      "text/plain": [
       "Pandas Apply:   0%|          | 0/157 [00:00<?, ?it/s]"
      ]
     },
     "metadata": {},
     "output_type": "display_data"
    },
    {
     "name": "stdout",
     "output_type": "stream",
     "text": [
      "size of representation dataset  2551\n"
     ]
    },
    {
     "data": {
      "application/vnd.jupyter.widget-view+json": {
       "model_id": "7a2efbd3341f4a209db91394317d0011",
       "version_major": 2,
       "version_minor": 0
      },
      "text/plain": [
       "Pandas Apply:   0%|          | 0/158 [00:00<?, ?it/s]"
      ]
     },
     "metadata": {},
     "output_type": "display_data"
    },
    {
     "data": {
      "application/vnd.jupyter.widget-view+json": {
       "model_id": "ff0c227438764efba5abd053ee5cb385",
       "version_major": 2,
       "version_minor": 0
      },
      "text/plain": [
       "Pandas Apply:   0%|          | 0/1 [00:00<?, ?it/s]"
      ]
     },
     "metadata": {},
     "output_type": "display_data"
    },
    {
     "name": "stdout",
     "output_type": "stream",
     "text": [
      "size of representation dataset  2552\n"
     ]
    },
    {
     "data": {
      "application/vnd.jupyter.widget-view+json": {
       "model_id": "652637f8179e4b269177ab38068a0f5b",
       "version_major": 2,
       "version_minor": 0
      },
      "text/plain": [
       "Pandas Apply:   0%|          | 0/159 [00:00<?, ?it/s]"
      ]
     },
     "metadata": {},
     "output_type": "display_data"
    },
    {
     "data": {
      "application/vnd.jupyter.widget-view+json": {
       "model_id": "213ec8bc1bc84162824db567b2b89b12",
       "version_major": 2,
       "version_minor": 0
      },
      "text/plain": [
       "Pandas Apply:   0%|          | 0/1 [00:00<?, ?it/s]"
      ]
     },
     "metadata": {},
     "output_type": "display_data"
    },
    {
     "name": "stdout",
     "output_type": "stream",
     "text": [
      "size of representation dataset  2553\n",
      "element Inchikey suggested: YMYBDFLDLQKZFI-UHFFFAOYSA-N, Eval: 0.07969829217615532\n",
      "iteration 7 completed\n",
      "max fitness acquired: 0.38005464337027484\n",
      "min fitness acquired: -2.6063599913279623\n",
      "new fitness acquired: 0.07969829217615532\n"
     ]
    },
    {
     "data": {
      "application/vnd.jupyter.widget-view+json": {
       "model_id": "0a3afb296b8b4856b8c4ef605bad59e1",
       "version_major": 2,
       "version_minor": 0
      },
      "text/plain": [
       "Pandas Apply:   0%|          | 0/58 [00:00<?, ?it/s]"
      ]
     },
     "metadata": {},
     "output_type": "display_data"
    },
    {
     "data": {
      "application/vnd.jupyter.widget-view+json": {
       "model_id": "4497dee51a814a3a86989f3b123b4eca",
       "version_major": 2,
       "version_minor": 0
      },
      "text/plain": [
       "Pandas Apply:   0%|          | 0/85 [00:00<?, ?it/s]"
      ]
     },
     "metadata": {},
     "output_type": "display_data"
    },
    {
     "name": "stdout",
     "output_type": "stream",
     "text": [
      "size of representation dataset  2553\n"
     ]
    },
    {
     "data": {
      "application/vnd.jupyter.widget-view+json": {
       "model_id": "e4b3937d0c8248f1a99a7e8e7deebc09",
       "version_major": 2,
       "version_minor": 0
      },
      "text/plain": [
       "Pandas Apply:   0%|          | 0/86 [00:00<?, ?it/s]"
      ]
     },
     "metadata": {},
     "output_type": "display_data"
    },
    {
     "name": "stdout",
     "output_type": "stream",
     "text": [
      "size of representation dataset  2553\n"
     ]
    },
    {
     "data": {
      "application/vnd.jupyter.widget-view+json": {
       "model_id": "ae0db5c8939045cfadf18010972b97cd",
       "version_major": 2,
       "version_minor": 0
      },
      "text/plain": [
       "Pandas Apply:   0%|          | 0/89 [00:00<?, ?it/s]"
      ]
     },
     "metadata": {},
     "output_type": "display_data"
    },
    {
     "data": {
      "application/vnd.jupyter.widget-view+json": {
       "model_id": "c2b6df86bd5b4b22bbfcf0d47e6d01c5",
       "version_major": 2,
       "version_minor": 0
      },
      "text/plain": [
       "Pandas Apply:   0%|          | 0/3 [00:00<?, ?it/s]"
      ]
     },
     "metadata": {},
     "output_type": "display_data"
    },
    {
     "name": "stdout",
     "output_type": "stream",
     "text": [
      "size of representation dataset  2556\n"
     ]
    },
    {
     "data": {
      "application/vnd.jupyter.widget-view+json": {
       "model_id": "79936381b6c44fb981492a1d53221772",
       "version_major": 2,
       "version_minor": 0
      },
      "text/plain": [
       "Pandas Apply:   0%|          | 0/95 [00:00<?, ?it/s]"
      ]
     },
     "metadata": {},
     "output_type": "display_data"
    },
    {
     "name": "stdout",
     "output_type": "stream",
     "text": [
      "size of representation dataset  2556\n"
     ]
    },
    {
     "data": {
      "application/vnd.jupyter.widget-view+json": {
       "model_id": "878a485818e549459364879a49c1a16a",
       "version_major": 2,
       "version_minor": 0
      },
      "text/plain": [
       "Pandas Apply:   0%|          | 0/186 [00:00<?, ?it/s]"
      ]
     },
     "metadata": {},
     "output_type": "display_data"
    },
    {
     "name": "stdout",
     "output_type": "stream",
     "text": [
      "size of representation dataset  2556\n"
     ]
    },
    {
     "data": {
      "application/vnd.jupyter.widget-view+json": {
       "model_id": "d0752a79430e4d63a092d4630410ac6e",
       "version_major": 2,
       "version_minor": 0
      },
      "text/plain": [
       "Pandas Apply:   0%|          | 0/228 [00:00<?, ?it/s]"
      ]
     },
     "metadata": {},
     "output_type": "display_data"
    },
    {
     "data": {
      "application/vnd.jupyter.widget-view+json": {
       "model_id": "b2db7534f3864c6a8a1aaad4f8ceb80c",
       "version_major": 2,
       "version_minor": 0
      },
      "text/plain": [
       "Pandas Apply:   0%|          | 0/25 [00:00<?, ?it/s]"
      ]
     },
     "metadata": {},
     "output_type": "display_data"
    },
    {
     "name": "stdout",
     "output_type": "stream",
     "text": [
      "size of representation dataset  2581\n"
     ]
    },
    {
     "data": {
      "application/vnd.jupyter.widget-view+json": {
       "model_id": "c9b5178abe504699a6df1bbc52a07846",
       "version_major": 2,
       "version_minor": 0
      },
      "text/plain": [
       "Pandas Apply:   0%|          | 0/234 [00:00<?, ?it/s]"
      ]
     },
     "metadata": {},
     "output_type": "display_data"
    },
    {
     "name": "stdout",
     "output_type": "stream",
     "text": [
      "size of representation dataset  2581\n"
     ]
    },
    {
     "data": {
      "application/vnd.jupyter.widget-view+json": {
       "model_id": "8e73f6135f2f410d94431656896543c8",
       "version_major": 2,
       "version_minor": 0
      },
      "text/plain": [
       "Pandas Apply:   0%|          | 0/298 [00:00<?, ?it/s]"
      ]
     },
     "metadata": {},
     "output_type": "display_data"
    },
    {
     "data": {
      "application/vnd.jupyter.widget-view+json": {
       "model_id": "6df1427ef66940cb8254a65642ff0d62",
       "version_major": 2,
       "version_minor": 0
      },
      "text/plain": [
       "Pandas Apply:   0%|          | 0/60 [00:00<?, ?it/s]"
      ]
     },
     "metadata": {},
     "output_type": "display_data"
    },
    {
     "name": "stdout",
     "output_type": "stream",
     "text": [
      "size of representation dataset  2641\n"
     ]
    },
    {
     "data": {
      "application/vnd.jupyter.widget-view+json": {
       "model_id": "0b6cd3c615f94a2b8b20a4b3d58c6cda",
       "version_major": 2,
       "version_minor": 0
      },
      "text/plain": [
       "Pandas Apply:   0%|          | 0/304 [00:00<?, ?it/s]"
      ]
     },
     "metadata": {},
     "output_type": "display_data"
    },
    {
     "name": "stdout",
     "output_type": "stream",
     "text": [
      "size of representation dataset  2641\n"
     ]
    },
    {
     "data": {
      "application/vnd.jupyter.widget-view+json": {
       "model_id": "a56250f5a0a9499daac23a1a03cb37a2",
       "version_major": 2,
       "version_minor": 0
      },
      "text/plain": [
       "Pandas Apply:   0%|          | 0/310 [00:00<?, ?it/s]"
      ]
     },
     "metadata": {},
     "output_type": "display_data"
    },
    {
     "name": "stdout",
     "output_type": "stream",
     "text": [
      "size of representation dataset  2641\n"
     ]
    },
    {
     "data": {
      "application/vnd.jupyter.widget-view+json": {
       "model_id": "e3ba212fa4844dcb88bf3b25aab2ea7d",
       "version_major": 2,
       "version_minor": 0
      },
      "text/plain": [
       "Pandas Apply:   0%|          | 0/316 [00:00<?, ?it/s]"
      ]
     },
     "metadata": {},
     "output_type": "display_data"
    },
    {
     "data": {
      "application/vnd.jupyter.widget-view+json": {
       "model_id": "8bef9c76d26b4f549d6612ddf3bafa98",
       "version_major": 2,
       "version_minor": 0
      },
      "text/plain": [
       "Pandas Apply:   0%|          | 0/6 [00:00<?, ?it/s]"
      ]
     },
     "metadata": {},
     "output_type": "display_data"
    },
    {
     "name": "stdout",
     "output_type": "stream",
     "text": [
      "size of representation dataset  2647\n",
      "element Inchikey suggested: VOHUGKLZFBSYQF-UHFFFAOYSA-N, Eval: 0.39645210044783696\n",
      "iteration 8 completed\n",
      "max fitness acquired: 0.39645210044783696\n",
      "min fitness acquired: -2.6063599913279623\n",
      "new fitness acquired: 0.39645210044783696\n"
     ]
    },
    {
     "data": {
      "application/vnd.jupyter.widget-view+json": {
       "model_id": "909b537d40e84f1486601ca7504d4338",
       "version_major": 2,
       "version_minor": 0
      },
      "text/plain": [
       "Pandas Apply:   0%|          | 0/59 [00:00<?, ?it/s]"
      ]
     },
     "metadata": {},
     "output_type": "display_data"
    },
    {
     "data": {
      "application/vnd.jupyter.widget-view+json": {
       "model_id": "ff77ed10fb5145fbb4e1a45084b36cd4",
       "version_major": 2,
       "version_minor": 0
      },
      "text/plain": [
       "Pandas Apply:   0%|          | 0/130 [00:00<?, ?it/s]"
      ]
     },
     "metadata": {},
     "output_type": "display_data"
    },
    {
     "data": {
      "application/vnd.jupyter.widget-view+json": {
       "model_id": "833247f709354e64bbe50c72a2d9b0a8",
       "version_major": 2,
       "version_minor": 0
      },
      "text/plain": [
       "Pandas Apply:   0%|          | 0/2 [00:00<?, ?it/s]"
      ]
     },
     "metadata": {},
     "output_type": "display_data"
    },
    {
     "name": "stdout",
     "output_type": "stream",
     "text": [
      "size of representation dataset  2649\n"
     ]
    },
    {
     "data": {
      "application/vnd.jupyter.widget-view+json": {
       "model_id": "a06e61ec4f6a4d9b8e7a1fe56a1e70fa",
       "version_major": 2,
       "version_minor": 0
      },
      "text/plain": [
       "Pandas Apply:   0%|          | 0/138 [00:00<?, ?it/s]"
      ]
     },
     "metadata": {},
     "output_type": "display_data"
    },
    {
     "name": "stdout",
     "output_type": "stream",
     "text": [
      "size of representation dataset  2649\n"
     ]
    },
    {
     "data": {
      "application/vnd.jupyter.widget-view+json": {
       "model_id": "2ea2adf821af4a9b9acc6e0797114c13",
       "version_major": 2,
       "version_minor": 0
      },
      "text/plain": [
       "Pandas Apply:   0%|          | 0/168 [00:00<?, ?it/s]"
      ]
     },
     "metadata": {},
     "output_type": "display_data"
    },
    {
     "data": {
      "application/vnd.jupyter.widget-view+json": {
       "model_id": "837e04add78f4473a7300216eab71df5",
       "version_major": 2,
       "version_minor": 0
      },
      "text/plain": [
       "Pandas Apply:   0%|          | 0/1 [00:00<?, ?it/s]"
      ]
     },
     "metadata": {},
     "output_type": "display_data"
    },
    {
     "name": "stdout",
     "output_type": "stream",
     "text": [
      "size of representation dataset  2650\n"
     ]
    },
    {
     "data": {
      "application/vnd.jupyter.widget-view+json": {
       "model_id": "e7341c1f3ee04a34a7ba7c87cb74f654",
       "version_major": 2,
       "version_minor": 0
      },
      "text/plain": [
       "Pandas Apply:   0%|          | 0/242 [00:00<?, ?it/s]"
      ]
     },
     "metadata": {},
     "output_type": "display_data"
    },
    {
     "name": "stdout",
     "output_type": "stream",
     "text": [
      "size of representation dataset  2650\n"
     ]
    },
    {
     "data": {
      "application/vnd.jupyter.widget-view+json": {
       "model_id": "9a0ffd7e78764967b02e3ec82e68ac01",
       "version_major": 2,
       "version_minor": 0
      },
      "text/plain": [
       "Pandas Apply:   0%|          | 0/246 [00:00<?, ?it/s]"
      ]
     },
     "metadata": {},
     "output_type": "display_data"
    },
    {
     "data": {
      "application/vnd.jupyter.widget-view+json": {
       "model_id": "3fbd7317867140ae91cd63d95b4c62a2",
       "version_major": 2,
       "version_minor": 0
      },
      "text/plain": [
       "Pandas Apply:   0%|          | 0/2 [00:00<?, ?it/s]"
      ]
     },
     "metadata": {},
     "output_type": "display_data"
    },
    {
     "name": "stdout",
     "output_type": "stream",
     "text": [
      "size of representation dataset  2652\n"
     ]
    },
    {
     "data": {
      "application/vnd.jupyter.widget-view+json": {
       "model_id": "6ea97c3983174ac491977946a2a50aed",
       "version_major": 2,
       "version_minor": 0
      },
      "text/plain": [
       "Pandas Apply:   0%|          | 0/277 [00:00<?, ?it/s]"
      ]
     },
     "metadata": {},
     "output_type": "display_data"
    },
    {
     "name": "stdout",
     "output_type": "stream",
     "text": [
      "size of representation dataset  2652\n"
     ]
    },
    {
     "data": {
      "application/vnd.jupyter.widget-view+json": {
       "model_id": "850756c2e2984b92beea685563b5448f",
       "version_major": 2,
       "version_minor": 0
      },
      "text/plain": [
       "Pandas Apply:   0%|          | 0/287 [00:00<?, ?it/s]"
      ]
     },
     "metadata": {},
     "output_type": "display_data"
    },
    {
     "data": {
      "application/vnd.jupyter.widget-view+json": {
       "model_id": "cf0ebc1d1ca44dc1ae6bc51ee9e1a9d1",
       "version_major": 2,
       "version_minor": 0
      },
      "text/plain": [
       "Pandas Apply:   0%|          | 0/10 [00:00<?, ?it/s]"
      ]
     },
     "metadata": {},
     "output_type": "display_data"
    },
    {
     "name": "stdout",
     "output_type": "stream",
     "text": [
      "size of representation dataset  2662\n"
     ]
    },
    {
     "data": {
      "application/vnd.jupyter.widget-view+json": {
       "model_id": "7d6931bff3d54dc9a896160b4f2162c4",
       "version_major": 2,
       "version_minor": 0
      },
      "text/plain": [
       "Pandas Apply:   0%|          | 0/313 [00:00<?, ?it/s]"
      ]
     },
     "metadata": {},
     "output_type": "display_data"
    },
    {
     "data": {
      "application/vnd.jupyter.widget-view+json": {
       "model_id": "ca8d7336cf7a427eb7b47a355bec3014",
       "version_major": 2,
       "version_minor": 0
      },
      "text/plain": [
       "Pandas Apply:   0%|          | 0/7 [00:00<?, ?it/s]"
      ]
     },
     "metadata": {},
     "output_type": "display_data"
    },
    {
     "name": "stdout",
     "output_type": "stream",
     "text": [
      "size of representation dataset  2669\n"
     ]
    },
    {
     "data": {
      "application/vnd.jupyter.widget-view+json": {
       "model_id": "d33f5377518f4f43a9bc62970698dac9",
       "version_major": 2,
       "version_minor": 0
      },
      "text/plain": [
       "Pandas Apply:   0%|          | 0/315 [00:00<?, ?it/s]"
      ]
     },
     "metadata": {},
     "output_type": "display_data"
    },
    {
     "data": {
      "application/vnd.jupyter.widget-view+json": {
       "model_id": "a8a3d2397d98478580873c4d57267872",
       "version_major": 2,
       "version_minor": 0
      },
      "text/plain": [
       "Pandas Apply:   0%|          | 0/2 [00:00<?, ?it/s]"
      ]
     },
     "metadata": {},
     "output_type": "display_data"
    },
    {
     "name": "stdout",
     "output_type": "stream",
     "text": [
      "size of representation dataset  2671\n"
     ]
    },
    {
     "data": {
      "application/vnd.jupyter.widget-view+json": {
       "model_id": "b5d8efde57584f1084c652750bd9c6af",
       "version_major": 2,
       "version_minor": 0
      },
      "text/plain": [
       "Pandas Apply:   0%|          | 0/316 [00:00<?, ?it/s]"
      ]
     },
     "metadata": {},
     "output_type": "display_data"
    },
    {
     "data": {
      "application/vnd.jupyter.widget-view+json": {
       "model_id": "68b224e79b3540c1a4e9958698309de7",
       "version_major": 2,
       "version_minor": 0
      },
      "text/plain": [
       "Pandas Apply:   0%|          | 0/1 [00:00<?, ?it/s]"
      ]
     },
     "metadata": {},
     "output_type": "display_data"
    },
    {
     "name": "stdout",
     "output_type": "stream",
     "text": [
      "size of representation dataset  2672\n"
     ]
    },
    {
     "data": {
      "application/vnd.jupyter.widget-view+json": {
       "model_id": "0e96d7c67d194158973e61c8bd73f6d2",
       "version_major": 2,
       "version_minor": 0
      },
      "text/plain": [
       "Pandas Apply:   0%|          | 0/468 [00:00<?, ?it/s]"
      ]
     },
     "metadata": {},
     "output_type": "display_data"
    },
    {
     "data": {
      "application/vnd.jupyter.widget-view+json": {
       "model_id": "688ec9ba51764fd2937f17df29c080fe",
       "version_major": 2,
       "version_minor": 0
      },
      "text/plain": [
       "Pandas Apply:   0%|          | 0/136 [00:00<?, ?it/s]"
      ]
     },
     "metadata": {},
     "output_type": "display_data"
    },
    {
     "name": "stdout",
     "output_type": "stream",
     "text": [
      "size of representation dataset  2808\n"
     ]
    },
    {
     "data": {
      "application/vnd.jupyter.widget-view+json": {
       "model_id": "54ad4524b26d4221b95eafb7b0280de9",
       "version_major": 2,
       "version_minor": 0
      },
      "text/plain": [
       "Pandas Apply:   0%|          | 0/478 [00:00<?, ?it/s]"
      ]
     },
     "metadata": {},
     "output_type": "display_data"
    },
    {
     "name": "stdout",
     "output_type": "stream",
     "text": [
      "size of representation dataset  2808\n"
     ]
    },
    {
     "data": {
      "application/vnd.jupyter.widget-view+json": {
       "model_id": "92498779df424b0c97d09a20be48a156",
       "version_major": 2,
       "version_minor": 0
      },
      "text/plain": [
       "Pandas Apply:   0%|          | 0/483 [00:00<?, ?it/s]"
      ]
     },
     "metadata": {},
     "output_type": "display_data"
    },
    {
     "data": {
      "application/vnd.jupyter.widget-view+json": {
       "model_id": "0f95e8fd75b54b958d5ec525650d7c3a",
       "version_major": 2,
       "version_minor": 0
      },
      "text/plain": [
       "Pandas Apply:   0%|          | 0/1 [00:00<?, ?it/s]"
      ]
     },
     "metadata": {},
     "output_type": "display_data"
    },
    {
     "name": "stdout",
     "output_type": "stream",
     "text": [
      "size of representation dataset  2809\n"
     ]
    },
    {
     "data": {
      "application/vnd.jupyter.widget-view+json": {
       "model_id": "6737990c83ac449e8516d89ef300132f",
       "version_major": 2,
       "version_minor": 0
      },
      "text/plain": [
       "Pandas Apply:   0%|          | 0/523 [00:00<?, ?it/s]"
      ]
     },
     "metadata": {},
     "output_type": "display_data"
    },
    {
     "data": {
      "application/vnd.jupyter.widget-view+json": {
       "model_id": "0abc84336bc74fabadfd96df4ebb5816",
       "version_major": 2,
       "version_minor": 0
      },
      "text/plain": [
       "Pandas Apply:   0%|          | 0/29 [00:00<?, ?it/s]"
      ]
     },
     "metadata": {},
     "output_type": "display_data"
    },
    {
     "name": "stdout",
     "output_type": "stream",
     "text": [
      "size of representation dataset  2838\n"
     ]
    },
    {
     "data": {
      "application/vnd.jupyter.widget-view+json": {
       "model_id": "36052bb4ac174d8bb64df9cf9714d35c",
       "version_major": 2,
       "version_minor": 0
      },
      "text/plain": [
       "Pandas Apply:   0%|          | 0/528 [00:00<?, ?it/s]"
      ]
     },
     "metadata": {},
     "output_type": "display_data"
    },
    {
     "data": {
      "application/vnd.jupyter.widget-view+json": {
       "model_id": "3f1cd7a716574fc5984c48ccb406004e",
       "version_major": 2,
       "version_minor": 0
      },
      "text/plain": [
       "Pandas Apply:   0%|          | 0/4 [00:00<?, ?it/s]"
      ]
     },
     "metadata": {},
     "output_type": "display_data"
    },
    {
     "name": "stdout",
     "output_type": "stream",
     "text": [
      "size of representation dataset  2842\n"
     ]
    },
    {
     "data": {
      "application/vnd.jupyter.widget-view+json": {
       "model_id": "4dcab82264f44b79a69e40922f03677c",
       "version_major": 2,
       "version_minor": 0
      },
      "text/plain": [
       "Pandas Apply:   0%|          | 0/544 [00:00<?, ?it/s]"
      ]
     },
     "metadata": {},
     "output_type": "display_data"
    },
    {
     "data": {
      "application/vnd.jupyter.widget-view+json": {
       "model_id": "dcd34275adbd46e1b5e116621f28e45f",
       "version_major": 2,
       "version_minor": 0
      },
      "text/plain": [
       "Pandas Apply:   0%|          | 0/16 [00:00<?, ?it/s]"
      ]
     },
     "metadata": {},
     "output_type": "display_data"
    },
    {
     "name": "stdout",
     "output_type": "stream",
     "text": [
      "size of representation dataset  2858\n"
     ]
    },
    {
     "data": {
      "application/vnd.jupyter.widget-view+json": {
       "model_id": "c3ceebba60f84583971a8a2ae7a56dfa",
       "version_major": 2,
       "version_minor": 0
      },
      "text/plain": [
       "Pandas Apply:   0%|          | 0/550 [00:00<?, ?it/s]"
      ]
     },
     "metadata": {},
     "output_type": "display_data"
    },
    {
     "data": {
      "application/vnd.jupyter.widget-view+json": {
       "model_id": "9ece3d0bfdfd4f5d98c9c5680462f68b",
       "version_major": 2,
       "version_minor": 0
      },
      "text/plain": [
       "Pandas Apply:   0%|          | 0/4 [00:00<?, ?it/s]"
      ]
     },
     "metadata": {},
     "output_type": "display_data"
    },
    {
     "name": "stdout",
     "output_type": "stream",
     "text": [
      "size of representation dataset  2862\n"
     ]
    },
    {
     "data": {
      "application/vnd.jupyter.widget-view+json": {
       "model_id": "4a1a0fe4365a495d83ad59149e12c05b",
       "version_major": 2,
       "version_minor": 0
      },
      "text/plain": [
       "Pandas Apply:   0%|          | 0/568 [00:00<?, ?it/s]"
      ]
     },
     "metadata": {},
     "output_type": "display_data"
    },
    {
     "data": {
      "application/vnd.jupyter.widget-view+json": {
       "model_id": "8536505317a6479a8226d2121e2f1e9d",
       "version_major": 2,
       "version_minor": 0
      },
      "text/plain": [
       "Pandas Apply:   0%|          | 0/15 [00:00<?, ?it/s]"
      ]
     },
     "metadata": {},
     "output_type": "display_data"
    },
    {
     "name": "stdout",
     "output_type": "stream",
     "text": [
      "size of representation dataset  2877\n"
     ]
    },
    {
     "data": {
      "application/vnd.jupyter.widget-view+json": {
       "model_id": "cf5912f4e0124f6097c9ef9abe40949d",
       "version_major": 2,
       "version_minor": 0
      },
      "text/plain": [
       "Pandas Apply:   0%|          | 0/568 [00:00<?, ?it/s]"
      ]
     },
     "metadata": {},
     "output_type": "display_data"
    },
    {
     "name": "stdout",
     "output_type": "stream",
     "text": [
      "size of representation dataset  2877\n"
     ]
    },
    {
     "data": {
      "application/vnd.jupyter.widget-view+json": {
       "model_id": "f892abb1452e4e3d847e236f36389edd",
       "version_major": 2,
       "version_minor": 0
      },
      "text/plain": [
       "Pandas Apply:   0%|          | 0/656 [00:00<?, ?it/s]"
      ]
     },
     "metadata": {},
     "output_type": "display_data"
    },
    {
     "data": {
      "application/vnd.jupyter.widget-view+json": {
       "model_id": "e47822593f29471fa6ee3a19ff1e1b07",
       "version_major": 2,
       "version_minor": 0
      },
      "text/plain": [
       "Pandas Apply:   0%|          | 0/85 [00:00<?, ?it/s]"
      ]
     },
     "metadata": {},
     "output_type": "display_data"
    },
    {
     "name": "stdout",
     "output_type": "stream",
     "text": [
      "size of representation dataset  2962\n"
     ]
    },
    {
     "data": {
      "application/vnd.jupyter.widget-view+json": {
       "model_id": "cc117100542b4fbdb59cf43f856494f5",
       "version_major": 2,
       "version_minor": 0
      },
      "text/plain": [
       "Pandas Apply:   0%|          | 0/664 [00:00<?, ?it/s]"
      ]
     },
     "metadata": {},
     "output_type": "display_data"
    },
    {
     "data": {
      "application/vnd.jupyter.widget-view+json": {
       "model_id": "898e735e85e24de68d20d662392db7fb",
       "version_major": 2,
       "version_minor": 0
      },
      "text/plain": [
       "Pandas Apply:   0%|          | 0/8 [00:00<?, ?it/s]"
      ]
     },
     "metadata": {},
     "output_type": "display_data"
    },
    {
     "name": "stdout",
     "output_type": "stream",
     "text": [
      "size of representation dataset  2970\n"
     ]
    },
    {
     "data": {
      "application/vnd.jupyter.widget-view+json": {
       "model_id": "158684fb1247483f9d48e6a33b36fb63",
       "version_major": 2,
       "version_minor": 0
      },
      "text/plain": [
       "Pandas Apply:   0%|          | 0/672 [00:00<?, ?it/s]"
      ]
     },
     "metadata": {},
     "output_type": "display_data"
    },
    {
     "data": {
      "application/vnd.jupyter.widget-view+json": {
       "model_id": "b7cabc11d00f4b96931c9036171c954a",
       "version_major": 2,
       "version_minor": 0
      },
      "text/plain": [
       "Pandas Apply:   0%|          | 0/8 [00:00<?, ?it/s]"
      ]
     },
     "metadata": {},
     "output_type": "display_data"
    },
    {
     "name": "stdout",
     "output_type": "stream",
     "text": [
      "size of representation dataset  2978\n",
      "element Inchikey suggested: KFJIBNXHKVDMES-UHFFFAOYSA-N, Eval: -0.27767142715794013\n",
      "iteration 9 completed\n",
      "max fitness acquired: 0.39645210044783696\n",
      "min fitness acquired: -2.6063599913279623\n",
      "new fitness acquired: -0.27767142715794013\n"
     ]
    },
    {
     "data": {
      "application/vnd.jupyter.widget-view+json": {
       "model_id": "403cf220fbe2462b85fe806d505e4654",
       "version_major": 2,
       "version_minor": 0
      },
      "text/plain": [
       "Pandas Apply:   0%|          | 0/60 [00:00<?, ?it/s]"
      ]
     },
     "metadata": {},
     "output_type": "display_data"
    },
    {
     "data": {
      "application/vnd.jupyter.widget-view+json": {
       "model_id": "c1e08f8a91ae407a92a24bded9d49e1d",
       "version_major": 2,
       "version_minor": 0
      },
      "text/plain": [
       "Pandas Apply:   0%|          | 0/134 [00:00<?, ?it/s]"
      ]
     },
     "metadata": {},
     "output_type": "display_data"
    },
    {
     "name": "stdout",
     "output_type": "stream",
     "text": [
      "size of representation dataset  2978\n"
     ]
    },
    {
     "data": {
      "application/vnd.jupyter.widget-view+json": {
       "model_id": "1798bbec374c45d4862ffa851b1ace7b",
       "version_major": 2,
       "version_minor": 0
      },
      "text/plain": [
       "Pandas Apply:   0%|          | 0/163 [00:00<?, ?it/s]"
      ]
     },
     "metadata": {},
     "output_type": "display_data"
    },
    {
     "data": {
      "application/vnd.jupyter.widget-view+json": {
       "model_id": "16dbaeea065048ef8c783c050e3a22d3",
       "version_major": 2,
       "version_minor": 0
      },
      "text/plain": [
       "Pandas Apply:   0%|          | 0/3 [00:00<?, ?it/s]"
      ]
     },
     "metadata": {},
     "output_type": "display_data"
    },
    {
     "name": "stdout",
     "output_type": "stream",
     "text": [
      "size of representation dataset  2981\n"
     ]
    },
    {
     "data": {
      "application/vnd.jupyter.widget-view+json": {
       "model_id": "5d6cc06eb78f4ebc9b0f733f573bd3c2",
       "version_major": 2,
       "version_minor": 0
      },
      "text/plain": [
       "Pandas Apply:   0%|          | 0/210 [00:00<?, ?it/s]"
      ]
     },
     "metadata": {},
     "output_type": "display_data"
    },
    {
     "data": {
      "application/vnd.jupyter.widget-view+json": {
       "model_id": "93f3057c93f14234b319be2ffb3b4b56",
       "version_major": 2,
       "version_minor": 0
      },
      "text/plain": [
       "Pandas Apply:   0%|          | 0/6 [00:00<?, ?it/s]"
      ]
     },
     "metadata": {},
     "output_type": "display_data"
    },
    {
     "name": "stdout",
     "output_type": "stream",
     "text": [
      "size of representation dataset  2987\n"
     ]
    },
    {
     "data": {
      "application/vnd.jupyter.widget-view+json": {
       "model_id": "7e1bc2f2b10e4ac98faf166e85d41e50",
       "version_major": 2,
       "version_minor": 0
      },
      "text/plain": [
       "Pandas Apply:   0%|          | 0/226 [00:00<?, ?it/s]"
      ]
     },
     "metadata": {},
     "output_type": "display_data"
    },
    {
     "name": "stdout",
     "output_type": "stream",
     "text": [
      "size of representation dataset  2987\n"
     ]
    },
    {
     "data": {
      "application/vnd.jupyter.widget-view+json": {
       "model_id": "cd37ccfba30445ccafd7ee8c843a0428",
       "version_major": 2,
       "version_minor": 0
      },
      "text/plain": [
       "Pandas Apply:   0%|          | 0/250 [00:00<?, ?it/s]"
      ]
     },
     "metadata": {},
     "output_type": "display_data"
    },
    {
     "data": {
      "application/vnd.jupyter.widget-view+json": {
       "model_id": "48c915f2ef4e4445886bc50e9b78e232",
       "version_major": 2,
       "version_minor": 0
      },
      "text/plain": [
       "Pandas Apply:   0%|          | 0/1 [00:00<?, ?it/s]"
      ]
     },
     "metadata": {},
     "output_type": "display_data"
    },
    {
     "name": "stdout",
     "output_type": "stream",
     "text": [
      "size of representation dataset  2988\n"
     ]
    },
    {
     "data": {
      "application/vnd.jupyter.widget-view+json": {
       "model_id": "cf516da0397c4c0489c4a8aea5dd066e",
       "version_major": 2,
       "version_minor": 0
      },
      "text/plain": [
       "Pandas Apply:   0%|          | 0/262 [00:00<?, ?it/s]"
      ]
     },
     "metadata": {},
     "output_type": "display_data"
    },
    {
     "name": "stdout",
     "output_type": "stream",
     "text": [
      "size of representation dataset  2988\n"
     ]
    },
    {
     "data": {
      "application/vnd.jupyter.widget-view+json": {
       "model_id": "a9aee09c019a4237b411ae0f40f63212",
       "version_major": 2,
       "version_minor": 0
      },
      "text/plain": [
       "Pandas Apply:   0%|          | 0/262 [00:00<?, ?it/s]"
      ]
     },
     "metadata": {},
     "output_type": "display_data"
    },
    {
     "name": "stdout",
     "output_type": "stream",
     "text": [
      "size of representation dataset  2988\n"
     ]
    },
    {
     "data": {
      "application/vnd.jupyter.widget-view+json": {
       "model_id": "4097827a4bc246988193e380dcdb543b",
       "version_major": 2,
       "version_minor": 0
      },
      "text/plain": [
       "Pandas Apply:   0%|          | 0/264 [00:00<?, ?it/s]"
      ]
     },
     "metadata": {},
     "output_type": "display_data"
    },
    {
     "name": "stdout",
     "output_type": "stream",
     "text": [
      "size of representation dataset  2988\n"
     ]
    },
    {
     "data": {
      "application/vnd.jupyter.widget-view+json": {
       "model_id": "6fc2f1ff1b79495f84a2eb34dda30889",
       "version_major": 2,
       "version_minor": 0
      },
      "text/plain": [
       "Pandas Apply:   0%|          | 0/292 [00:00<?, ?it/s]"
      ]
     },
     "metadata": {},
     "output_type": "display_data"
    },
    {
     "data": {
      "application/vnd.jupyter.widget-view+json": {
       "model_id": "e06aef822fc148ab840cd1bac6287849",
       "version_major": 2,
       "version_minor": 0
      },
      "text/plain": [
       "Pandas Apply:   0%|          | 0/4 [00:00<?, ?it/s]"
      ]
     },
     "metadata": {},
     "output_type": "display_data"
    },
    {
     "name": "stdout",
     "output_type": "stream",
     "text": [
      "size of representation dataset  2992\n"
     ]
    },
    {
     "data": {
      "application/vnd.jupyter.widget-view+json": {
       "model_id": "984c9eabd17b4a6ca36e5e93ee6672be",
       "version_major": 2,
       "version_minor": 0
      },
      "text/plain": [
       "Pandas Apply:   0%|          | 0/302 [00:00<?, ?it/s]"
      ]
     },
     "metadata": {},
     "output_type": "display_data"
    },
    {
     "name": "stdout",
     "output_type": "stream",
     "text": [
      "size of representation dataset  2992\n"
     ]
    },
    {
     "data": {
      "application/vnd.jupyter.widget-view+json": {
       "model_id": "ed0990936e4c4086a5ccf6d1a7eece40",
       "version_major": 2,
       "version_minor": 0
      },
      "text/plain": [
       "Pandas Apply:   0%|          | 0/315 [00:00<?, ?it/s]"
      ]
     },
     "metadata": {},
     "output_type": "display_data"
    },
    {
     "data": {
      "application/vnd.jupyter.widget-view+json": {
       "model_id": "9f012b553f7f419fa438d4088f1a9d8b",
       "version_major": 2,
       "version_minor": 0
      },
      "text/plain": [
       "Pandas Apply:   0%|          | 0/6 [00:00<?, ?it/s]"
      ]
     },
     "metadata": {},
     "output_type": "display_data"
    },
    {
     "name": "stdout",
     "output_type": "stream",
     "text": [
      "size of representation dataset  2998\n"
     ]
    },
    {
     "data": {
      "application/vnd.jupyter.widget-view+json": {
       "model_id": "2d7167b0341645d4beee3e9f887f86cc",
       "version_major": 2,
       "version_minor": 0
      },
      "text/plain": [
       "Pandas Apply:   0%|          | 0/366 [00:00<?, ?it/s]"
      ]
     },
     "metadata": {},
     "output_type": "display_data"
    },
    {
     "data": {
      "application/vnd.jupyter.widget-view+json": {
       "model_id": "a4bdd7ea42904bfa9da605be31cf18ff",
       "version_major": 2,
       "version_minor": 0
      },
      "text/plain": [
       "Pandas Apply:   0%|          | 0/43 [00:00<?, ?it/s]"
      ]
     },
     "metadata": {},
     "output_type": "display_data"
    },
    {
     "name": "stdout",
     "output_type": "stream",
     "text": [
      "size of representation dataset  3041\n"
     ]
    },
    {
     "data": {
      "application/vnd.jupyter.widget-view+json": {
       "model_id": "3b9faf4fdfd547538550710190b0b7d9",
       "version_major": 2,
       "version_minor": 0
      },
      "text/plain": [
       "Pandas Apply:   0%|          | 0/370 [00:00<?, ?it/s]"
      ]
     },
     "metadata": {},
     "output_type": "display_data"
    },
    {
     "data": {
      "application/vnd.jupyter.widget-view+json": {
       "model_id": "0b53801e8e8a46f387c3d17451d8194e",
       "version_major": 2,
       "version_minor": 0
      },
      "text/plain": [
       "Pandas Apply:   0%|          | 0/1 [00:00<?, ?it/s]"
      ]
     },
     "metadata": {},
     "output_type": "display_data"
    },
    {
     "name": "stdout",
     "output_type": "stream",
     "text": [
      "size of representation dataset  3042\n"
     ]
    },
    {
     "data": {
      "application/vnd.jupyter.widget-view+json": {
       "model_id": "7c88702554ab4a14a454dc1adc9b43ba",
       "version_major": 2,
       "version_minor": 0
      },
      "text/plain": [
       "Pandas Apply:   0%|          | 0/381 [00:00<?, ?it/s]"
      ]
     },
     "metadata": {},
     "output_type": "display_data"
    },
    {
     "name": "stdout",
     "output_type": "stream",
     "text": [
      "size of representation dataset  3042\n"
     ]
    },
    {
     "data": {
      "application/vnd.jupyter.widget-view+json": {
       "model_id": "e644e131b2c64a4f86a57b98ce5fb840",
       "version_major": 2,
       "version_minor": 0
      },
      "text/plain": [
       "Pandas Apply:   0%|          | 0/384 [00:00<?, ?it/s]"
      ]
     },
     "metadata": {},
     "output_type": "display_data"
    },
    {
     "data": {
      "application/vnd.jupyter.widget-view+json": {
       "model_id": "c7c064e896474e8d8e62a19961f81170",
       "version_major": 2,
       "version_minor": 0
      },
      "text/plain": [
       "Pandas Apply:   0%|          | 0/3 [00:00<?, ?it/s]"
      ]
     },
     "metadata": {},
     "output_type": "display_data"
    },
    {
     "name": "stdout",
     "output_type": "stream",
     "text": [
      "size of representation dataset  3045\n"
     ]
    },
    {
     "data": {
      "application/vnd.jupyter.widget-view+json": {
       "model_id": "ae1a0c9fe131447585bc27c092cbc762",
       "version_major": 2,
       "version_minor": 0
      },
      "text/plain": [
       "Pandas Apply:   0%|          | 0/385 [00:00<?, ?it/s]"
      ]
     },
     "metadata": {},
     "output_type": "display_data"
    },
    {
     "name": "stdout",
     "output_type": "stream",
     "text": [
      "size of representation dataset  3045\n"
     ]
    },
    {
     "data": {
      "application/vnd.jupyter.widget-view+json": {
       "model_id": "00539701f3654f839f5f90bb1ba85d98",
       "version_major": 2,
       "version_minor": 0
      },
      "text/plain": [
       "Pandas Apply:   0%|          | 0/388 [00:00<?, ?it/s]"
      ]
     },
     "metadata": {},
     "output_type": "display_data"
    },
    {
     "data": {
      "application/vnd.jupyter.widget-view+json": {
       "model_id": "ca2c56c5d72c46a487d38281ca881937",
       "version_major": 2,
       "version_minor": 0
      },
      "text/plain": [
       "Pandas Apply:   0%|          | 0/1 [00:00<?, ?it/s]"
      ]
     },
     "metadata": {},
     "output_type": "display_data"
    },
    {
     "name": "stdout",
     "output_type": "stream",
     "text": [
      "size of representation dataset  3046\n"
     ]
    },
    {
     "data": {
      "application/vnd.jupyter.widget-view+json": {
       "model_id": "34c3f2ba3a9b4e0f957997b4d8fb7fd1",
       "version_major": 2,
       "version_minor": 0
      },
      "text/plain": [
       "Pandas Apply:   0%|          | 0/389 [00:00<?, ?it/s]"
      ]
     },
     "metadata": {},
     "output_type": "display_data"
    },
    {
     "name": "stdout",
     "output_type": "stream",
     "text": [
      "size of representation dataset  3046\n"
     ]
    },
    {
     "data": {
      "application/vnd.jupyter.widget-view+json": {
       "model_id": "7248696b0e7241ac8618fa0f91ebac19",
       "version_major": 2,
       "version_minor": 0
      },
      "text/plain": [
       "Pandas Apply:   0%|          | 0/392 [00:00<?, ?it/s]"
      ]
     },
     "metadata": {},
     "output_type": "display_data"
    },
    {
     "data": {
      "application/vnd.jupyter.widget-view+json": {
       "model_id": "72b1816c54f34890ba32be752529c99e",
       "version_major": 2,
       "version_minor": 0
      },
      "text/plain": [
       "Pandas Apply:   0%|          | 0/1 [00:00<?, ?it/s]"
      ]
     },
     "metadata": {},
     "output_type": "display_data"
    },
    {
     "name": "stdout",
     "output_type": "stream",
     "text": [
      "size of representation dataset  3047\n"
     ]
    },
    {
     "data": {
      "application/vnd.jupyter.widget-view+json": {
       "model_id": "b1c7a56b933b41e98392bc36d95ff94a",
       "version_major": 2,
       "version_minor": 0
      },
      "text/plain": [
       "Pandas Apply:   0%|          | 0/396 [00:00<?, ?it/s]"
      ]
     },
     "metadata": {},
     "output_type": "display_data"
    },
    {
     "data": {
      "application/vnd.jupyter.widget-view+json": {
       "model_id": "9c48ab8512ed4f3694c24591e0dd2a18",
       "version_major": 2,
       "version_minor": 0
      },
      "text/plain": [
       "Pandas Apply:   0%|          | 0/2 [00:00<?, ?it/s]"
      ]
     },
     "metadata": {},
     "output_type": "display_data"
    },
    {
     "name": "stdout",
     "output_type": "stream",
     "text": [
      "size of representation dataset  3049\n"
     ]
    },
    {
     "data": {
      "application/vnd.jupyter.widget-view+json": {
       "model_id": "3b21485218b846d3b114af000fbef884",
       "version_major": 2,
       "version_minor": 0
      },
      "text/plain": [
       "Pandas Apply:   0%|          | 0/397 [00:00<?, ?it/s]"
      ]
     },
     "metadata": {},
     "output_type": "display_data"
    },
    {
     "data": {
      "application/vnd.jupyter.widget-view+json": {
       "model_id": "56021c063edc49458b2faf6f9808f040",
       "version_major": 2,
       "version_minor": 0
      },
      "text/plain": [
       "Pandas Apply:   0%|          | 0/1 [00:00<?, ?it/s]"
      ]
     },
     "metadata": {},
     "output_type": "display_data"
    },
    {
     "name": "stdout",
     "output_type": "stream",
     "text": [
      "size of representation dataset  3050\n"
     ]
    },
    {
     "data": {
      "application/vnd.jupyter.widget-view+json": {
       "model_id": "50f9dde76f184ea88312122622c1f386",
       "version_major": 2,
       "version_minor": 0
      },
      "text/plain": [
       "Pandas Apply:   0%|          | 0/401 [00:00<?, ?it/s]"
      ]
     },
     "metadata": {},
     "output_type": "display_data"
    },
    {
     "name": "stdout",
     "output_type": "stream",
     "text": [
      "size of representation dataset  3050\n"
     ]
    },
    {
     "data": {
      "application/vnd.jupyter.widget-view+json": {
       "model_id": "921cd597f3744943b8f20a93e0764908",
       "version_major": 2,
       "version_minor": 0
      },
      "text/plain": [
       "Pandas Apply:   0%|          | 0/467 [00:00<?, ?it/s]"
      ]
     },
     "metadata": {},
     "output_type": "display_data"
    },
    {
     "data": {
      "application/vnd.jupyter.widget-view+json": {
       "model_id": "5ca7d66653444cc99aa3762eaaaf7ec7",
       "version_major": 2,
       "version_minor": 0
      },
      "text/plain": [
       "Pandas Apply:   0%|          | 0/1 [00:00<?, ?it/s]"
      ]
     },
     "metadata": {},
     "output_type": "display_data"
    },
    {
     "name": "stdout",
     "output_type": "stream",
     "text": [
      "size of representation dataset  3051\n"
     ]
    },
    {
     "data": {
      "application/vnd.jupyter.widget-view+json": {
       "model_id": "80cb14b8a15d4b8dbe69e29449234e2f",
       "version_major": 2,
       "version_minor": 0
      },
      "text/plain": [
       "Pandas Apply:   0%|          | 0/469 [00:00<?, ?it/s]"
      ]
     },
     "metadata": {},
     "output_type": "display_data"
    },
    {
     "name": "stdout",
     "output_type": "stream",
     "text": [
      "size of representation dataset  3051\n"
     ]
    },
    {
     "data": {
      "application/vnd.jupyter.widget-view+json": {
       "model_id": "96e56d3bebc64e55baada3572cc427f2",
       "version_major": 2,
       "version_minor": 0
      },
      "text/plain": [
       "Pandas Apply:   0%|          | 0/473 [00:00<?, ?it/s]"
      ]
     },
     "metadata": {},
     "output_type": "display_data"
    },
    {
     "data": {
      "application/vnd.jupyter.widget-view+json": {
       "model_id": "464fae350cb74b9cab385e6570da63cd",
       "version_major": 2,
       "version_minor": 0
      },
      "text/plain": [
       "Pandas Apply:   0%|          | 0/1 [00:00<?, ?it/s]"
      ]
     },
     "metadata": {},
     "output_type": "display_data"
    },
    {
     "name": "stdout",
     "output_type": "stream",
     "text": [
      "size of representation dataset  3052\n",
      "element Inchikey suggested: HZVPJUSEVHKKCL-UHFFFAOYSA-N, Eval: 0.26270679315854206\n",
      "iteration 10 completed\n",
      "max fitness acquired: 0.39645210044783696\n",
      "min fitness acquired: -2.6063599913279623\n",
      "new fitness acquired: 0.26270679315854206\n"
     ]
    },
    {
     "data": {
      "application/vnd.jupyter.widget-view+json": {
       "model_id": "a001961a8cc2433bb83221fbcdd09846",
       "version_major": 2,
       "version_minor": 0
      },
      "text/plain": [
       "Pandas Apply:   0%|          | 0/61 [00:00<?, ?it/s]"
      ]
     },
     "metadata": {},
     "output_type": "display_data"
    },
    {
     "data": {
      "application/vnd.jupyter.widget-view+json": {
       "model_id": "951bdb7becbf4db7bab1bb89af894378",
       "version_major": 2,
       "version_minor": 0
      },
      "text/plain": [
       "Pandas Apply:   0%|          | 0/140 [00:00<?, ?it/s]"
      ]
     },
     "metadata": {},
     "output_type": "display_data"
    },
    {
     "name": "stdout",
     "output_type": "stream",
     "text": [
      "size of representation dataset  3052\n"
     ]
    },
    {
     "data": {
      "application/vnd.jupyter.widget-view+json": {
       "model_id": "2cce3808d99d43b3bb6af2df7df7453b",
       "version_major": 2,
       "version_minor": 0
      },
      "text/plain": [
       "Pandas Apply:   0%|          | 0/145 [00:00<?, ?it/s]"
      ]
     },
     "metadata": {},
     "output_type": "display_data"
    },
    {
     "name": "stdout",
     "output_type": "stream",
     "text": [
      "size of representation dataset  3052\n"
     ]
    },
    {
     "data": {
      "application/vnd.jupyter.widget-view+json": {
       "model_id": "95a9854aa749423f8d5e680db7e9c085",
       "version_major": 2,
       "version_minor": 0
      },
      "text/plain": [
       "Pandas Apply:   0%|          | 0/150 [00:00<?, ?it/s]"
      ]
     },
     "metadata": {},
     "output_type": "display_data"
    },
    {
     "name": "stdout",
     "output_type": "stream",
     "text": [
      "size of representation dataset  3052\n"
     ]
    },
    {
     "data": {
      "application/vnd.jupyter.widget-view+json": {
       "model_id": "5199cfa8a02e49c394bc2e184532e4e8",
       "version_major": 2,
       "version_minor": 0
      },
      "text/plain": [
       "Pandas Apply:   0%|          | 0/155 [00:00<?, ?it/s]"
      ]
     },
     "metadata": {},
     "output_type": "display_data"
    },
    {
     "data": {
      "application/vnd.jupyter.widget-view+json": {
       "model_id": "9658306f838f497ab52a572be92ad95c",
       "version_major": 2,
       "version_minor": 0
      },
      "text/plain": [
       "Pandas Apply:   0%|          | 0/1 [00:00<?, ?it/s]"
      ]
     },
     "metadata": {},
     "output_type": "display_data"
    },
    {
     "name": "stdout",
     "output_type": "stream",
     "text": [
      "size of representation dataset  3053\n"
     ]
    },
    {
     "data": {
      "application/vnd.jupyter.widget-view+json": {
       "model_id": "07d568232ee64faa9224cf45e425b5e8",
       "version_major": 2,
       "version_minor": 0
      },
      "text/plain": [
       "Pandas Apply:   0%|          | 0/179 [00:00<?, ?it/s]"
      ]
     },
     "metadata": {},
     "output_type": "display_data"
    },
    {
     "data": {
      "application/vnd.jupyter.widget-view+json": {
       "model_id": "7814b993ab214bbcbcc66d303bf4e9ec",
       "version_major": 2,
       "version_minor": 0
      },
      "text/plain": [
       "Pandas Apply:   0%|          | 0/5 [00:00<?, ?it/s]"
      ]
     },
     "metadata": {},
     "output_type": "display_data"
    },
    {
     "name": "stdout",
     "output_type": "stream",
     "text": [
      "size of representation dataset  3058\n"
     ]
    },
    {
     "data": {
      "application/vnd.jupyter.widget-view+json": {
       "model_id": "206263987f944d3aaab360aa1467023f",
       "version_major": 2,
       "version_minor": 0
      },
      "text/plain": [
       "Pandas Apply:   0%|          | 0/183 [00:00<?, ?it/s]"
      ]
     },
     "metadata": {},
     "output_type": "display_data"
    },
    {
     "name": "stdout",
     "output_type": "stream",
     "text": [
      "size of representation dataset  3058\n"
     ]
    },
    {
     "data": {
      "application/vnd.jupyter.widget-view+json": {
       "model_id": "cdbb947e54b5491ab703bfb81d01aaae",
       "version_major": 2,
       "version_minor": 0
      },
      "text/plain": [
       "Pandas Apply:   0%|          | 0/185 [00:00<?, ?it/s]"
      ]
     },
     "metadata": {},
     "output_type": "display_data"
    },
    {
     "name": "stdout",
     "output_type": "stream",
     "text": [
      "size of representation dataset  3058\n"
     ]
    },
    {
     "data": {
      "application/vnd.jupyter.widget-view+json": {
       "model_id": "8a02efe544014401800bb4ef8be31969",
       "version_major": 2,
       "version_minor": 0
      },
      "text/plain": [
       "Pandas Apply:   0%|          | 0/189 [00:00<?, ?it/s]"
      ]
     },
     "metadata": {},
     "output_type": "display_data"
    },
    {
     "name": "stdout",
     "output_type": "stream",
     "text": [
      "size of representation dataset  3058\n"
     ]
    },
    {
     "data": {
      "application/vnd.jupyter.widget-view+json": {
       "model_id": "9b0056dc801a4dc69b18213f7fba40ee",
       "version_major": 2,
       "version_minor": 0
      },
      "text/plain": [
       "Pandas Apply:   0%|          | 0/196 [00:00<?, ?it/s]"
      ]
     },
     "metadata": {},
     "output_type": "display_data"
    },
    {
     "name": "stdout",
     "output_type": "stream",
     "text": [
      "size of representation dataset  3058\n"
     ]
    },
    {
     "data": {
      "application/vnd.jupyter.widget-view+json": {
       "model_id": "a23143444ff14c19821775fb99926cee",
       "version_major": 2,
       "version_minor": 0
      },
      "text/plain": [
       "Pandas Apply:   0%|          | 0/213 [00:00<?, ?it/s]"
      ]
     },
     "metadata": {},
     "output_type": "display_data"
    },
    {
     "data": {
      "application/vnd.jupyter.widget-view+json": {
       "model_id": "1c25353659a74a9ebf1a4b024c16a7cd",
       "version_major": 2,
       "version_minor": 0
      },
      "text/plain": [
       "Pandas Apply:   0%|          | 0/10 [00:00<?, ?it/s]"
      ]
     },
     "metadata": {},
     "output_type": "display_data"
    },
    {
     "name": "stdout",
     "output_type": "stream",
     "text": [
      "size of representation dataset  3068\n"
     ]
    },
    {
     "data": {
      "application/vnd.jupyter.widget-view+json": {
       "model_id": "8abc147e641546bd9a064c1454f509c2",
       "version_major": 2,
       "version_minor": 0
      },
      "text/plain": [
       "Pandas Apply:   0%|          | 0/226 [00:00<?, ?it/s]"
      ]
     },
     "metadata": {},
     "output_type": "display_data"
    },
    {
     "data": {
      "application/vnd.jupyter.widget-view+json": {
       "model_id": "fe746985f8f94497840cf4e4d859ef06",
       "version_major": 2,
       "version_minor": 0
      },
      "text/plain": [
       "Pandas Apply:   0%|          | 0/4 [00:00<?, ?it/s]"
      ]
     },
     "metadata": {},
     "output_type": "display_data"
    },
    {
     "name": "stdout",
     "output_type": "stream",
     "text": [
      "size of representation dataset  3072\n"
     ]
    },
    {
     "data": {
      "application/vnd.jupyter.widget-view+json": {
       "model_id": "506282eaa14e4620995f3074b2cd8a0b",
       "version_major": 2,
       "version_minor": 0
      },
      "text/plain": [
       "Pandas Apply:   0%|          | 0/232 [00:00<?, ?it/s]"
      ]
     },
     "metadata": {},
     "output_type": "display_data"
    },
    {
     "data": {
      "application/vnd.jupyter.widget-view+json": {
       "model_id": "93d95fd236e4461baf1946f02d7b941b",
       "version_major": 2,
       "version_minor": 0
      },
      "text/plain": [
       "Pandas Apply:   0%|          | 0/5 [00:00<?, ?it/s]"
      ]
     },
     "metadata": {},
     "output_type": "display_data"
    },
    {
     "name": "stdout",
     "output_type": "stream",
     "text": [
      "size of representation dataset  3077\n"
     ]
    },
    {
     "data": {
      "application/vnd.jupyter.widget-view+json": {
       "model_id": "d448f51470da4d1ca0f875573ad35d89",
       "version_major": 2,
       "version_minor": 0
      },
      "text/plain": [
       "Pandas Apply:   0%|          | 0/243 [00:00<?, ?it/s]"
      ]
     },
     "metadata": {},
     "output_type": "display_data"
    },
    {
     "data": {
      "application/vnd.jupyter.widget-view+json": {
       "model_id": "02d34bcf71084d8496a741b2c5ea44b4",
       "version_major": 2,
       "version_minor": 0
      },
      "text/plain": [
       "Pandas Apply:   0%|          | 0/3 [00:00<?, ?it/s]"
      ]
     },
     "metadata": {},
     "output_type": "display_data"
    },
    {
     "name": "stdout",
     "output_type": "stream",
     "text": [
      "size of representation dataset  3080\n"
     ]
    },
    {
     "data": {
      "application/vnd.jupyter.widget-view+json": {
       "model_id": "5bd23856c61c47efbfed0560c550df3b",
       "version_major": 2,
       "version_minor": 0
      },
      "text/plain": [
       "Pandas Apply:   0%|          | 0/255 [00:00<?, ?it/s]"
      ]
     },
     "metadata": {},
     "output_type": "display_data"
    },
    {
     "data": {
      "application/vnd.jupyter.widget-view+json": {
       "model_id": "8d2d83673cf14d19a7222ded35e125f8",
       "version_major": 2,
       "version_minor": 0
      },
      "text/plain": [
       "Pandas Apply:   0%|          | 0/4 [00:00<?, ?it/s]"
      ]
     },
     "metadata": {},
     "output_type": "display_data"
    },
    {
     "name": "stdout",
     "output_type": "stream",
     "text": [
      "size of representation dataset  3084\n"
     ]
    },
    {
     "data": {
      "application/vnd.jupyter.widget-view+json": {
       "model_id": "0b70e8af7f434674a23aa5ded06ee365",
       "version_major": 2,
       "version_minor": 0
      },
      "text/plain": [
       "Pandas Apply:   0%|          | 0/271 [00:00<?, ?it/s]"
      ]
     },
     "metadata": {},
     "output_type": "display_data"
    },
    {
     "data": {
      "application/vnd.jupyter.widget-view+json": {
       "model_id": "9c2fe01dfab042808d812598d8ce8cdb",
       "version_major": 2,
       "version_minor": 0
      },
      "text/plain": [
       "Pandas Apply:   0%|          | 0/2 [00:00<?, ?it/s]"
      ]
     },
     "metadata": {},
     "output_type": "display_data"
    },
    {
     "name": "stdout",
     "output_type": "stream",
     "text": [
      "size of representation dataset  3086\n"
     ]
    },
    {
     "data": {
      "application/vnd.jupyter.widget-view+json": {
       "model_id": "345afec95d5c4943a7bb6b96b1748a00",
       "version_major": 2,
       "version_minor": 0
      },
      "text/plain": [
       "Pandas Apply:   0%|          | 0/277 [00:00<?, ?it/s]"
      ]
     },
     "metadata": {},
     "output_type": "display_data"
    },
    {
     "name": "stdout",
     "output_type": "stream",
     "text": [
      "size of representation dataset  3086\n"
     ]
    },
    {
     "data": {
      "application/vnd.jupyter.widget-view+json": {
       "model_id": "0c804d7de3b64e6f93ab5ed4e1d1d733",
       "version_major": 2,
       "version_minor": 0
      },
      "text/plain": [
       "Pandas Apply:   0%|          | 0/281 [00:00<?, ?it/s]"
      ]
     },
     "metadata": {},
     "output_type": "display_data"
    },
    {
     "data": {
      "application/vnd.jupyter.widget-view+json": {
       "model_id": "3218e7e212c34221a2ba7bc9a9c85d10",
       "version_major": 2,
       "version_minor": 0
      },
      "text/plain": [
       "Pandas Apply:   0%|          | 0/3 [00:00<?, ?it/s]"
      ]
     },
     "metadata": {},
     "output_type": "display_data"
    },
    {
     "name": "stdout",
     "output_type": "stream",
     "text": [
      "size of representation dataset  3089\n"
     ]
    },
    {
     "data": {
      "application/vnd.jupyter.widget-view+json": {
       "model_id": "9bf6191ad00b43c28a9df6895f184dc2",
       "version_major": 2,
       "version_minor": 0
      },
      "text/plain": [
       "Pandas Apply:   0%|          | 0/286 [00:00<?, ?it/s]"
      ]
     },
     "metadata": {},
     "output_type": "display_data"
    },
    {
     "data": {
      "application/vnd.jupyter.widget-view+json": {
       "model_id": "1a1b780acba34a478dc530c2058ba626",
       "version_major": 2,
       "version_minor": 0
      },
      "text/plain": [
       "Pandas Apply:   0%|          | 0/5 [00:00<?, ?it/s]"
      ]
     },
     "metadata": {},
     "output_type": "display_data"
    },
    {
     "name": "stdout",
     "output_type": "stream",
     "text": [
      "size of representation dataset  3094\n"
     ]
    },
    {
     "data": {
      "application/vnd.jupyter.widget-view+json": {
       "model_id": "99eecc0733e142cba14fa961247b5d86",
       "version_major": 2,
       "version_minor": 0
      },
      "text/plain": [
       "Pandas Apply:   0%|          | 0/291 [00:00<?, ?it/s]"
      ]
     },
     "metadata": {},
     "output_type": "display_data"
    },
    {
     "data": {
      "application/vnd.jupyter.widget-view+json": {
       "model_id": "55151eced04d4059ab07caa02012ce66",
       "version_major": 2,
       "version_minor": 0
      },
      "text/plain": [
       "Pandas Apply:   0%|          | 0/4 [00:00<?, ?it/s]"
      ]
     },
     "metadata": {},
     "output_type": "display_data"
    },
    {
     "name": "stdout",
     "output_type": "stream",
     "text": [
      "size of representation dataset  3098\n"
     ]
    },
    {
     "data": {
      "application/vnd.jupyter.widget-view+json": {
       "model_id": "2ce6a53a34184a3cb0775715895f0260",
       "version_major": 2,
       "version_minor": 0
      },
      "text/plain": [
       "Pandas Apply:   0%|          | 0/297 [00:00<?, ?it/s]"
      ]
     },
     "metadata": {},
     "output_type": "display_data"
    },
    {
     "data": {
      "application/vnd.jupyter.widget-view+json": {
       "model_id": "969d533e69dc4e21bf5bb37a77fdefcc",
       "version_major": 2,
       "version_minor": 0
      },
      "text/plain": [
       "Pandas Apply:   0%|          | 0/2 [00:00<?, ?it/s]"
      ]
     },
     "metadata": {},
     "output_type": "display_data"
    },
    {
     "name": "stdout",
     "output_type": "stream",
     "text": [
      "size of representation dataset  3100\n"
     ]
    },
    {
     "data": {
      "application/vnd.jupyter.widget-view+json": {
       "model_id": "97c82d846b9340979dcbe261bb31dd12",
       "version_major": 2,
       "version_minor": 0
      },
      "text/plain": [
       "Pandas Apply:   0%|          | 0/302 [00:00<?, ?it/s]"
      ]
     },
     "metadata": {},
     "output_type": "display_data"
    },
    {
     "name": "stdout",
     "output_type": "stream",
     "text": [
      "size of representation dataset  3100\n"
     ]
    },
    {
     "data": {
      "application/vnd.jupyter.widget-view+json": {
       "model_id": "693192f9d7fd4341a6e4eb72720190f9",
       "version_major": 2,
       "version_minor": 0
      },
      "text/plain": [
       "Pandas Apply:   0%|          | 0/309 [00:00<?, ?it/s]"
      ]
     },
     "metadata": {},
     "output_type": "display_data"
    },
    {
     "data": {
      "application/vnd.jupyter.widget-view+json": {
       "model_id": "a8aa1545f55a4486870b20447a742ef4",
       "version_major": 2,
       "version_minor": 0
      },
      "text/plain": [
       "Pandas Apply:   0%|          | 0/2 [00:00<?, ?it/s]"
      ]
     },
     "metadata": {},
     "output_type": "display_data"
    },
    {
     "name": "stdout",
     "output_type": "stream",
     "text": [
      "size of representation dataset  3102\n",
      "element Inchikey suggested: PIMXKOGQCSPUGN-UHFFFAOYSA-N, Eval: 0.5306924435373005\n",
      "iteration 11 completed\n",
      "max fitness acquired: 0.5306924435373005\n",
      "min fitness acquired: -2.6063599913279623\n",
      "new fitness acquired: 0.5306924435373005\n"
     ]
    },
    {
     "data": {
      "application/vnd.jupyter.widget-view+json": {
       "model_id": "1ee34667321f42d19e769340457114a7",
       "version_major": 2,
       "version_minor": 0
      },
      "text/plain": [
       "Pandas Apply:   0%|          | 0/62 [00:00<?, ?it/s]"
      ]
     },
     "metadata": {},
     "output_type": "display_data"
    },
    {
     "data": {
      "application/vnd.jupyter.widget-view+json": {
       "model_id": "bfa4bfe7c10a442a9ec76ca0a0306541",
       "version_major": 2,
       "version_minor": 0
      },
      "text/plain": [
       "Pandas Apply:   0%|          | 0/136 [00:00<?, ?it/s]"
      ]
     },
     "metadata": {},
     "output_type": "display_data"
    },
    {
     "name": "stdout",
     "output_type": "stream",
     "text": [
      "size of representation dataset  3102\n"
     ]
    },
    {
     "data": {
      "application/vnd.jupyter.widget-view+json": {
       "model_id": "ec63425e8223485381927afe8b04f1fa",
       "version_major": 2,
       "version_minor": 0
      },
      "text/plain": [
       "Pandas Apply:   0%|          | 0/150 [00:00<?, ?it/s]"
      ]
     },
     "metadata": {},
     "output_type": "display_data"
    },
    {
     "data": {
      "application/vnd.jupyter.widget-view+json": {
       "model_id": "aaec23d1615f4e5d8d87bdbadb7e3d73",
       "version_major": 2,
       "version_minor": 0
      },
      "text/plain": [
       "Pandas Apply:   0%|          | 0/8 [00:00<?, ?it/s]"
      ]
     },
     "metadata": {},
     "output_type": "display_data"
    },
    {
     "name": "stdout",
     "output_type": "stream",
     "text": [
      "size of representation dataset  3110\n"
     ]
    },
    {
     "data": {
      "application/vnd.jupyter.widget-view+json": {
       "model_id": "a52a4478795a465cad338d1cb4c603b3",
       "version_major": 2,
       "version_minor": 0
      },
      "text/plain": [
       "Pandas Apply:   0%|          | 0/151 [00:00<?, ?it/s]"
      ]
     },
     "metadata": {},
     "output_type": "display_data"
    },
    {
     "name": "stdout",
     "output_type": "stream",
     "text": [
      "size of representation dataset  3110\n"
     ]
    },
    {
     "data": {
      "application/vnd.jupyter.widget-view+json": {
       "model_id": "9c81779b8b014b2aa3cc14210ac76249",
       "version_major": 2,
       "version_minor": 0
      },
      "text/plain": [
       "Pandas Apply:   0%|          | 0/176 [00:00<?, ?it/s]"
      ]
     },
     "metadata": {},
     "output_type": "display_data"
    },
    {
     "data": {
      "application/vnd.jupyter.widget-view+json": {
       "model_id": "bfba0840b6ac4126853dffc5da9bf5ee",
       "version_major": 2,
       "version_minor": 0
      },
      "text/plain": [
       "Pandas Apply:   0%|          | 0/8 [00:00<?, ?it/s]"
      ]
     },
     "metadata": {},
     "output_type": "display_data"
    },
    {
     "name": "stdout",
     "output_type": "stream",
     "text": [
      "size of representation dataset  3118\n"
     ]
    },
    {
     "data": {
      "application/vnd.jupyter.widget-view+json": {
       "model_id": "3c5943aaa18743fda401db594b9535d5",
       "version_major": 2,
       "version_minor": 0
      },
      "text/plain": [
       "Pandas Apply:   0%|          | 0/179 [00:00<?, ?it/s]"
      ]
     },
     "metadata": {},
     "output_type": "display_data"
    },
    {
     "data": {
      "application/vnd.jupyter.widget-view+json": {
       "model_id": "abae74e98bcb4eddaaf7aabdf9ca301e",
       "version_major": 2,
       "version_minor": 0
      },
      "text/plain": [
       "Pandas Apply:   0%|          | 0/2 [00:00<?, ?it/s]"
      ]
     },
     "metadata": {},
     "output_type": "display_data"
    },
    {
     "name": "stdout",
     "output_type": "stream",
     "text": [
      "size of representation dataset  3120\n"
     ]
    },
    {
     "data": {
      "application/vnd.jupyter.widget-view+json": {
       "model_id": "894b934b275f4559930a79e8a85a822c",
       "version_major": 2,
       "version_minor": 0
      },
      "text/plain": [
       "Pandas Apply:   0%|          | 0/181 [00:00<?, ?it/s]"
      ]
     },
     "metadata": {},
     "output_type": "display_data"
    },
    {
     "name": "stdout",
     "output_type": "stream",
     "text": [
      "size of representation dataset  3120\n"
     ]
    },
    {
     "data": {
      "application/vnd.jupyter.widget-view+json": {
       "model_id": "7b2986714b5b460288e7b99ad6242ece",
       "version_major": 2,
       "version_minor": 0
      },
      "text/plain": [
       "Pandas Apply:   0%|          | 0/185 [00:00<?, ?it/s]"
      ]
     },
     "metadata": {},
     "output_type": "display_data"
    },
    {
     "name": "stdout",
     "output_type": "stream",
     "text": [
      "size of representation dataset  3120\n"
     ]
    },
    {
     "data": {
      "application/vnd.jupyter.widget-view+json": {
       "model_id": "a4ffe9c860f94ff8bbd37c063fa4afd4",
       "version_major": 2,
       "version_minor": 0
      },
      "text/plain": [
       "Pandas Apply:   0%|          | 0/189 [00:00<?, ?it/s]"
      ]
     },
     "metadata": {},
     "output_type": "display_data"
    },
    {
     "name": "stdout",
     "output_type": "stream",
     "text": [
      "size of representation dataset  3120\n"
     ]
    },
    {
     "data": {
      "application/vnd.jupyter.widget-view+json": {
       "model_id": "83f59af2b6214c8b9485d12827302c5e",
       "version_major": 2,
       "version_minor": 0
      },
      "text/plain": [
       "Pandas Apply:   0%|          | 0/193 [00:00<?, ?it/s]"
      ]
     },
     "metadata": {},
     "output_type": "display_data"
    },
    {
     "data": {
      "application/vnd.jupyter.widget-view+json": {
       "model_id": "0e006875bf3347e7b4abe9dcc545094c",
       "version_major": 2,
       "version_minor": 0
      },
      "text/plain": [
       "Pandas Apply:   0%|          | 0/2 [00:00<?, ?it/s]"
      ]
     },
     "metadata": {},
     "output_type": "display_data"
    },
    {
     "name": "stdout",
     "output_type": "stream",
     "text": [
      "size of representation dataset  3122\n"
     ]
    },
    {
     "data": {
      "application/vnd.jupyter.widget-view+json": {
       "model_id": "f8e3753ebd464f33822db6692ba32ba6",
       "version_major": 2,
       "version_minor": 0
      },
      "text/plain": [
       "Pandas Apply:   0%|          | 0/280 [00:00<?, ?it/s]"
      ]
     },
     "metadata": {},
     "output_type": "display_data"
    },
    {
     "name": "stdout",
     "output_type": "stream",
     "text": [
      "size of representation dataset  3122\n"
     ]
    },
    {
     "data": {
      "application/vnd.jupyter.widget-view+json": {
       "model_id": "354694a81e12415f99f4a04e14afc1a1",
       "version_major": 2,
       "version_minor": 0
      },
      "text/plain": [
       "Pandas Apply:   0%|          | 0/325 [00:00<?, ?it/s]"
      ]
     },
     "metadata": {},
     "output_type": "display_data"
    },
    {
     "data": {
      "application/vnd.jupyter.widget-view+json": {
       "model_id": "3afce66da9e846feac443e961c3a68e3",
       "version_major": 2,
       "version_minor": 0
      },
      "text/plain": [
       "Pandas Apply:   0%|          | 0/8 [00:00<?, ?it/s]"
      ]
     },
     "metadata": {},
     "output_type": "display_data"
    },
    {
     "name": "stdout",
     "output_type": "stream",
     "text": [
      "size of representation dataset  3130\n"
     ]
    },
    {
     "data": {
      "application/vnd.jupyter.widget-view+json": {
       "model_id": "264c191cac8d45b8a4f2d03791d6e0da",
       "version_major": 2,
       "version_minor": 0
      },
      "text/plain": [
       "Pandas Apply:   0%|          | 0/327 [00:00<?, ?it/s]"
      ]
     },
     "metadata": {},
     "output_type": "display_data"
    },
    {
     "data": {
      "application/vnd.jupyter.widget-view+json": {
       "model_id": "b0476bfb3be34e7597488d8d9c14f2ae",
       "version_major": 2,
       "version_minor": 0
      },
      "text/plain": [
       "Pandas Apply:   0%|          | 0/1 [00:00<?, ?it/s]"
      ]
     },
     "metadata": {},
     "output_type": "display_data"
    },
    {
     "name": "stdout",
     "output_type": "stream",
     "text": [
      "size of representation dataset  3131\n"
     ]
    },
    {
     "data": {
      "application/vnd.jupyter.widget-view+json": {
       "model_id": "c3f93a4b16bd45e7b72b5bf58a9bac73",
       "version_major": 2,
       "version_minor": 0
      },
      "text/plain": [
       "Pandas Apply:   0%|          | 0/327 [00:00<?, ?it/s]"
      ]
     },
     "metadata": {},
     "output_type": "display_data"
    },
    {
     "name": "stdout",
     "output_type": "stream",
     "text": [
      "size of representation dataset  3131\n"
     ]
    },
    {
     "data": {
      "application/vnd.jupyter.widget-view+json": {
       "model_id": "65833a7291f7495180f5cad82903cc02",
       "version_major": 2,
       "version_minor": 0
      },
      "text/plain": [
       "Pandas Apply:   0%|          | 0/342 [00:00<?, ?it/s]"
      ]
     },
     "metadata": {},
     "output_type": "display_data"
    },
    {
     "name": "stdout",
     "output_type": "stream",
     "text": [
      "size of representation dataset  3131\n"
     ]
    },
    {
     "data": {
      "application/vnd.jupyter.widget-view+json": {
       "model_id": "8016f5331a594f4b84719cc314ccf681",
       "version_major": 2,
       "version_minor": 0
      },
      "text/plain": [
       "Pandas Apply:   0%|          | 0/352 [00:00<?, ?it/s]"
      ]
     },
     "metadata": {},
     "output_type": "display_data"
    },
    {
     "name": "stdout",
     "output_type": "stream",
     "text": [
      "size of representation dataset  3131\n"
     ]
    },
    {
     "data": {
      "application/vnd.jupyter.widget-view+json": {
       "model_id": "ed819732fc894f87bb057164577c5843",
       "version_major": 2,
       "version_minor": 0
      },
      "text/plain": [
       "Pandas Apply:   0%|          | 0/361 [00:00<?, ?it/s]"
      ]
     },
     "metadata": {},
     "output_type": "display_data"
    },
    {
     "data": {
      "application/vnd.jupyter.widget-view+json": {
       "model_id": "c92c2aeb6fd0481087f4e962c04ff6e8",
       "version_major": 2,
       "version_minor": 0
      },
      "text/plain": [
       "Pandas Apply:   0%|          | 0/1 [00:00<?, ?it/s]"
      ]
     },
     "metadata": {},
     "output_type": "display_data"
    },
    {
     "name": "stdout",
     "output_type": "stream",
     "text": [
      "size of representation dataset  3132\n"
     ]
    },
    {
     "data": {
      "application/vnd.jupyter.widget-view+json": {
       "model_id": "1b2a16983aba428ab32d3c1d008becd5",
       "version_major": 2,
       "version_minor": 0
      },
      "text/plain": [
       "Pandas Apply:   0%|          | 0/388 [00:00<?, ?it/s]"
      ]
     },
     "metadata": {},
     "output_type": "display_data"
    },
    {
     "data": {
      "application/vnd.jupyter.widget-view+json": {
       "model_id": "2e4c081b66c541cf811c26298cd50735",
       "version_major": 2,
       "version_minor": 0
      },
      "text/plain": [
       "Pandas Apply:   0%|          | 0/2 [00:00<?, ?it/s]"
      ]
     },
     "metadata": {},
     "output_type": "display_data"
    },
    {
     "name": "stdout",
     "output_type": "stream",
     "text": [
      "size of representation dataset  3134\n"
     ]
    },
    {
     "data": {
      "application/vnd.jupyter.widget-view+json": {
       "model_id": "50fd51d8456e4a3a95e2160a1ff39b9f",
       "version_major": 2,
       "version_minor": 0
      },
      "text/plain": [
       "Pandas Apply:   0%|          | 0/392 [00:00<?, ?it/s]"
      ]
     },
     "metadata": {},
     "output_type": "display_data"
    },
    {
     "name": "stdout",
     "output_type": "stream",
     "text": [
      "size of representation dataset  3134\n"
     ]
    },
    {
     "data": {
      "application/vnd.jupyter.widget-view+json": {
       "model_id": "6440fe88e7574a16b19436342a4565f2",
       "version_major": 2,
       "version_minor": 0
      },
      "text/plain": [
       "Pandas Apply:   0%|          | 0/398 [00:00<?, ?it/s]"
      ]
     },
     "metadata": {},
     "output_type": "display_data"
    },
    {
     "data": {
      "application/vnd.jupyter.widget-view+json": {
       "model_id": "66a56387c88f4a6fa587bccf340eedb8",
       "version_major": 2,
       "version_minor": 0
      },
      "text/plain": [
       "Pandas Apply:   0%|          | 0/5 [00:00<?, ?it/s]"
      ]
     },
     "metadata": {},
     "output_type": "display_data"
    },
    {
     "name": "stdout",
     "output_type": "stream",
     "text": [
      "size of representation dataset  3139\n"
     ]
    },
    {
     "data": {
      "application/vnd.jupyter.widget-view+json": {
       "model_id": "3910370112bd4fe1a24d31e492636eee",
       "version_major": 2,
       "version_minor": 0
      },
      "text/plain": [
       "Pandas Apply:   0%|          | 0/404 [00:00<?, ?it/s]"
      ]
     },
     "metadata": {},
     "output_type": "display_data"
    },
    {
     "data": {
      "application/vnd.jupyter.widget-view+json": {
       "model_id": "4d540a25c291447ebc74574a93fde001",
       "version_major": 2,
       "version_minor": 0
      },
      "text/plain": [
       "Pandas Apply:   0%|          | 0/6 [00:00<?, ?it/s]"
      ]
     },
     "metadata": {},
     "output_type": "display_data"
    },
    {
     "name": "stdout",
     "output_type": "stream",
     "text": [
      "size of representation dataset  3145\n"
     ]
    },
    {
     "data": {
      "application/vnd.jupyter.widget-view+json": {
       "model_id": "02dc191af79641408e25d92cd7ee9b98",
       "version_major": 2,
       "version_minor": 0
      },
      "text/plain": [
       "Pandas Apply:   0%|          | 0/406 [00:00<?, ?it/s]"
      ]
     },
     "metadata": {},
     "output_type": "display_data"
    },
    {
     "name": "stdout",
     "output_type": "stream",
     "text": [
      "size of representation dataset  3145\n"
     ]
    },
    {
     "data": {
      "application/vnd.jupyter.widget-view+json": {
       "model_id": "63975b98b8ba45e887f1660057892060",
       "version_major": 2,
       "version_minor": 0
      },
      "text/plain": [
       "Pandas Apply:   0%|          | 0/408 [00:00<?, ?it/s]"
      ]
     },
     "metadata": {},
     "output_type": "display_data"
    },
    {
     "data": {
      "application/vnd.jupyter.widget-view+json": {
       "model_id": "64ea71d6ff4147ff9c8602b212631504",
       "version_major": 2,
       "version_minor": 0
      },
      "text/plain": [
       "Pandas Apply:   0%|          | 0/1 [00:00<?, ?it/s]"
      ]
     },
     "metadata": {},
     "output_type": "display_data"
    },
    {
     "name": "stdout",
     "output_type": "stream",
     "text": [
      "size of representation dataset  3146\n"
     ]
    },
    {
     "data": {
      "application/vnd.jupyter.widget-view+json": {
       "model_id": "9e37ed2787164eeea6fe3dc4dec39b7a",
       "version_major": 2,
       "version_minor": 0
      },
      "text/plain": [
       "Pandas Apply:   0%|          | 0/412 [00:00<?, ?it/s]"
      ]
     },
     "metadata": {},
     "output_type": "display_data"
    },
    {
     "name": "stdout",
     "output_type": "stream",
     "text": [
      "size of representation dataset  3146\n"
     ]
    },
    {
     "data": {
      "application/vnd.jupyter.widget-view+json": {
       "model_id": "62fd90e0db3f470cbd79eaa08198fa7e",
       "version_major": 2,
       "version_minor": 0
      },
      "text/plain": [
       "Pandas Apply:   0%|          | 0/446 [00:00<?, ?it/s]"
      ]
     },
     "metadata": {},
     "output_type": "display_data"
    },
    {
     "data": {
      "application/vnd.jupyter.widget-view+json": {
       "model_id": "025ec24532c54c71ae79fe4a238ca9fb",
       "version_major": 2,
       "version_minor": 0
      },
      "text/plain": [
       "Pandas Apply:   0%|          | 0/22 [00:00<?, ?it/s]"
      ]
     },
     "metadata": {},
     "output_type": "display_data"
    },
    {
     "name": "stdout",
     "output_type": "stream",
     "text": [
      "size of representation dataset  3168\n"
     ]
    },
    {
     "data": {
      "application/vnd.jupyter.widget-view+json": {
       "model_id": "06fe3bc1ffec48c78dfa849f308290ce",
       "version_major": 2,
       "version_minor": 0
      },
      "text/plain": [
       "Pandas Apply:   0%|          | 0/461 [00:00<?, ?it/s]"
      ]
     },
     "metadata": {},
     "output_type": "display_data"
    },
    {
     "data": {
      "application/vnd.jupyter.widget-view+json": {
       "model_id": "a84552135ccb4b36acb0db3d38d65f7a",
       "version_major": 2,
       "version_minor": 0
      },
      "text/plain": [
       "Pandas Apply:   0%|          | 0/1 [00:00<?, ?it/s]"
      ]
     },
     "metadata": {},
     "output_type": "display_data"
    },
    {
     "name": "stdout",
     "output_type": "stream",
     "text": [
      "size of representation dataset  3169\n"
     ]
    },
    {
     "data": {
      "application/vnd.jupyter.widget-view+json": {
       "model_id": "4f6e5597f55f4c24ab978f61c9bcd426",
       "version_major": 2,
       "version_minor": 0
      },
      "text/plain": [
       "Pandas Apply:   0%|          | 0/475 [00:00<?, ?it/s]"
      ]
     },
     "metadata": {},
     "output_type": "display_data"
    },
    {
     "data": {
      "application/vnd.jupyter.widget-view+json": {
       "model_id": "cfa8cdaf69ce49fcb712cf58dfcd5445",
       "version_major": 2,
       "version_minor": 0
      },
      "text/plain": [
       "Pandas Apply:   0%|          | 0/2 [00:00<?, ?it/s]"
      ]
     },
     "metadata": {},
     "output_type": "display_data"
    },
    {
     "name": "stdout",
     "output_type": "stream",
     "text": [
      "size of representation dataset  3171\n"
     ]
    },
    {
     "data": {
      "application/vnd.jupyter.widget-view+json": {
       "model_id": "cb1041b22d2d47718cc322a1875dd8fc",
       "version_major": 2,
       "version_minor": 0
      },
      "text/plain": [
       "Pandas Apply:   0%|          | 0/478 [00:00<?, ?it/s]"
      ]
     },
     "metadata": {},
     "output_type": "display_data"
    },
    {
     "data": {
      "application/vnd.jupyter.widget-view+json": {
       "model_id": "34b606fc78a549149e22b5f5f8f11824",
       "version_major": 2,
       "version_minor": 0
      },
      "text/plain": [
       "Pandas Apply:   0%|          | 0/2 [00:00<?, ?it/s]"
      ]
     },
     "metadata": {},
     "output_type": "display_data"
    },
    {
     "name": "stdout",
     "output_type": "stream",
     "text": [
      "size of representation dataset  3173\n",
      "element Inchikey suggested: VYUMOFCBXSEATH-UHFFFAOYSA-N, Eval: 0.47787413730722683\n",
      "iteration 12 completed\n",
      "max fitness acquired: 0.5306924435373005\n",
      "min fitness acquired: -2.6063599913279623\n",
      "new fitness acquired: 0.47787413730722683\n"
     ]
    },
    {
     "data": {
      "application/vnd.jupyter.widget-view+json": {
       "model_id": "153912ae418a4aa4a99152627a782386",
       "version_major": 2,
       "version_minor": 0
      },
      "text/plain": [
       "Pandas Apply:   0%|          | 0/63 [00:00<?, ?it/s]"
      ]
     },
     "metadata": {},
     "output_type": "display_data"
    },
    {
     "data": {
      "application/vnd.jupyter.widget-view+json": {
       "model_id": "fc499973a9d84fbcaa57cf2be99603a4",
       "version_major": 2,
       "version_minor": 0
      },
      "text/plain": [
       "Pandas Apply:   0%|          | 0/137 [00:00<?, ?it/s]"
      ]
     },
     "metadata": {},
     "output_type": "display_data"
    },
    {
     "name": "stdout",
     "output_type": "stream",
     "text": [
      "size of representation dataset  3173\n"
     ]
    },
    {
     "data": {
      "application/vnd.jupyter.widget-view+json": {
       "model_id": "051121b699f94f76ad9f8f7d9d763b44",
       "version_major": 2,
       "version_minor": 0
      },
      "text/plain": [
       "Pandas Apply:   0%|          | 0/146 [00:00<?, ?it/s]"
      ]
     },
     "metadata": {},
     "output_type": "display_data"
    },
    {
     "name": "stdout",
     "output_type": "stream",
     "text": [
      "size of representation dataset  3173\n"
     ]
    },
    {
     "data": {
      "application/vnd.jupyter.widget-view+json": {
       "model_id": "4f5af3b3e1a9493b9709ec99e5cefbda",
       "version_major": 2,
       "version_minor": 0
      },
      "text/plain": [
       "Pandas Apply:   0%|          | 0/182 [00:00<?, ?it/s]"
      ]
     },
     "metadata": {},
     "output_type": "display_data"
    },
    {
     "data": {
      "application/vnd.jupyter.widget-view+json": {
       "model_id": "c08edf62bf9b4728b0eca6a20ca838c4",
       "version_major": 2,
       "version_minor": 0
      },
      "text/plain": [
       "Pandas Apply:   0%|          | 0/4 [00:00<?, ?it/s]"
      ]
     },
     "metadata": {},
     "output_type": "display_data"
    },
    {
     "name": "stdout",
     "output_type": "stream",
     "text": [
      "size of representation dataset  3177\n"
     ]
    },
    {
     "data": {
      "application/vnd.jupyter.widget-view+json": {
       "model_id": "e05a577dbac44e319e6690d59a6250c7",
       "version_major": 2,
       "version_minor": 0
      },
      "text/plain": [
       "Pandas Apply:   0%|          | 0/261 [00:00<?, ?it/s]"
      ]
     },
     "metadata": {},
     "output_type": "display_data"
    },
    {
     "data": {
      "application/vnd.jupyter.widget-view+json": {
       "model_id": "f472619f5b5843cbbc4494684f8534e0",
       "version_major": 2,
       "version_minor": 0
      },
      "text/plain": [
       "Pandas Apply:   0%|          | 0/7 [00:00<?, ?it/s]"
      ]
     },
     "metadata": {},
     "output_type": "display_data"
    },
    {
     "name": "stdout",
     "output_type": "stream",
     "text": [
      "size of representation dataset  3184\n"
     ]
    },
    {
     "data": {
      "application/vnd.jupyter.widget-view+json": {
       "model_id": "874065ed350c45f19b6c50281e9eb673",
       "version_major": 2,
       "version_minor": 0
      },
      "text/plain": [
       "Pandas Apply:   0%|          | 0/301 [00:00<?, ?it/s]"
      ]
     },
     "metadata": {},
     "output_type": "display_data"
    },
    {
     "data": {
      "application/vnd.jupyter.widget-view+json": {
       "model_id": "a3804a14e5424ee0988d455b21aa16ad",
       "version_major": 2,
       "version_minor": 0
      },
      "text/plain": [
       "Pandas Apply:   0%|          | 0/5 [00:00<?, ?it/s]"
      ]
     },
     "metadata": {},
     "output_type": "display_data"
    },
    {
     "name": "stdout",
     "output_type": "stream",
     "text": [
      "size of representation dataset  3189\n"
     ]
    },
    {
     "data": {
      "application/vnd.jupyter.widget-view+json": {
       "model_id": "c94f84cc7976414593cae1b5ece94366",
       "version_major": 2,
       "version_minor": 0
      },
      "text/plain": [
       "Pandas Apply:   0%|          | 0/302 [00:00<?, ?it/s]"
      ]
     },
     "metadata": {},
     "output_type": "display_data"
    },
    {
     "name": "stdout",
     "output_type": "stream",
     "text": [
      "size of representation dataset  3189\n"
     ]
    },
    {
     "data": {
      "application/vnd.jupyter.widget-view+json": {
       "model_id": "c517bc2dbfbc4823a268d77a87730f1c",
       "version_major": 2,
       "version_minor": 0
      },
      "text/plain": [
       "Pandas Apply:   0%|          | 0/318 [00:00<?, ?it/s]"
      ]
     },
     "metadata": {},
     "output_type": "display_data"
    },
    {
     "name": "stdout",
     "output_type": "stream",
     "text": [
      "size of representation dataset  3189\n"
     ]
    },
    {
     "data": {
      "application/vnd.jupyter.widget-view+json": {
       "model_id": "534277f2367946cda9d118b14005496f",
       "version_major": 2,
       "version_minor": 0
      },
      "text/plain": [
       "Pandas Apply:   0%|          | 0/320 [00:00<?, ?it/s]"
      ]
     },
     "metadata": {},
     "output_type": "display_data"
    },
    {
     "name": "stdout",
     "output_type": "stream",
     "text": [
      "size of representation dataset  3189\n"
     ]
    },
    {
     "data": {
      "application/vnd.jupyter.widget-view+json": {
       "model_id": "76c019049dd045ef846d853539db4ada",
       "version_major": 2,
       "version_minor": 0
      },
      "text/plain": [
       "Pandas Apply:   0%|          | 0/322 [00:00<?, ?it/s]"
      ]
     },
     "metadata": {},
     "output_type": "display_data"
    },
    {
     "data": {
      "application/vnd.jupyter.widget-view+json": {
       "model_id": "4b240dd2152c464187b33ae522b260cf",
       "version_major": 2,
       "version_minor": 0
      },
      "text/plain": [
       "Pandas Apply:   0%|          | 0/1 [00:00<?, ?it/s]"
      ]
     },
     "metadata": {},
     "output_type": "display_data"
    },
    {
     "name": "stdout",
     "output_type": "stream",
     "text": [
      "size of representation dataset  3190\n"
     ]
    },
    {
     "data": {
      "application/vnd.jupyter.widget-view+json": {
       "model_id": "5cc117f46d5b4254957b0356bfee7dba",
       "version_major": 2,
       "version_minor": 0
      },
      "text/plain": [
       "Pandas Apply:   0%|          | 0/323 [00:00<?, ?it/s]"
      ]
     },
     "metadata": {},
     "output_type": "display_data"
    },
    {
     "name": "stdout",
     "output_type": "stream",
     "text": [
      "size of representation dataset  3190\n"
     ]
    },
    {
     "data": {
      "application/vnd.jupyter.widget-view+json": {
       "model_id": "4030a51d37f84cc5b06343c28feb0941",
       "version_major": 2,
       "version_minor": 0
      },
      "text/plain": [
       "Pandas Apply:   0%|          | 0/324 [00:00<?, ?it/s]"
      ]
     },
     "metadata": {},
     "output_type": "display_data"
    },
    {
     "name": "stdout",
     "output_type": "stream",
     "text": [
      "size of representation dataset  3190\n"
     ]
    },
    {
     "data": {
      "application/vnd.jupyter.widget-view+json": {
       "model_id": "388926189d77474c8e926b9cd5c33744",
       "version_major": 2,
       "version_minor": 0
      },
      "text/plain": [
       "Pandas Apply:   0%|          | 0/324 [00:00<?, ?it/s]"
      ]
     },
     "metadata": {},
     "output_type": "display_data"
    },
    {
     "name": "stdout",
     "output_type": "stream",
     "text": [
      "size of representation dataset  3190\n"
     ]
    },
    {
     "data": {
      "application/vnd.jupyter.widget-view+json": {
       "model_id": "b987f30a7ade4d069519f1beef3885d1",
       "version_major": 2,
       "version_minor": 0
      },
      "text/plain": [
       "Pandas Apply:   0%|          | 0/327 [00:00<?, ?it/s]"
      ]
     },
     "metadata": {},
     "output_type": "display_data"
    },
    {
     "name": "stdout",
     "output_type": "stream",
     "text": [
      "size of representation dataset  3190\n"
     ]
    },
    {
     "data": {
      "application/vnd.jupyter.widget-view+json": {
       "model_id": "e82117e912dd4e5eb040b3523ffbed1c",
       "version_major": 2,
       "version_minor": 0
      },
      "text/plain": [
       "Pandas Apply:   0%|          | 0/329 [00:00<?, ?it/s]"
      ]
     },
     "metadata": {},
     "output_type": "display_data"
    },
    {
     "data": {
      "application/vnd.jupyter.widget-view+json": {
       "model_id": "cc14b7e3f07f4ea7bebd0036899967b9",
       "version_major": 2,
       "version_minor": 0
      },
      "text/plain": [
       "Pandas Apply:   0%|          | 0/2 [00:00<?, ?it/s]"
      ]
     },
     "metadata": {},
     "output_type": "display_data"
    },
    {
     "name": "stdout",
     "output_type": "stream",
     "text": [
      "size of representation dataset  3192\n",
      "element Inchikey suggested: GCQKXBDYIZLCNR-UHFFFAOYSA-N, Eval: -0.07711426090772644\n",
      "iteration 13 completed\n",
      "max fitness acquired: 0.5306924435373005\n",
      "min fitness acquired: -2.6063599913279623\n",
      "new fitness acquired: -0.07711426090772644\n"
     ]
    },
    {
     "data": {
      "application/vnd.jupyter.widget-view+json": {
       "model_id": "34fe5f4833ed4ad2b1f0b45bf8bb430c",
       "version_major": 2,
       "version_minor": 0
      },
      "text/plain": [
       "Pandas Apply:   0%|          | 0/64 [00:00<?, ?it/s]"
      ]
     },
     "metadata": {},
     "output_type": "display_data"
    },
    {
     "data": {
      "application/vnd.jupyter.widget-view+json": {
       "model_id": "5542433ff7624219b02d6b06e5b734a5",
       "version_major": 2,
       "version_minor": 0
      },
      "text/plain": [
       "Pandas Apply:   0%|          | 0/136 [00:00<?, ?it/s]"
      ]
     },
     "metadata": {},
     "output_type": "display_data"
    },
    {
     "name": "stdout",
     "output_type": "stream",
     "text": [
      "size of representation dataset  3192\n"
     ]
    },
    {
     "data": {
      "application/vnd.jupyter.widget-view+json": {
       "model_id": "eb54aff346ed4ada84cf398fcc4c8486",
       "version_major": 2,
       "version_minor": 0
      },
      "text/plain": [
       "Pandas Apply:   0%|          | 0/306 [00:00<?, ?it/s]"
      ]
     },
     "metadata": {},
     "output_type": "display_data"
    },
    {
     "data": {
      "application/vnd.jupyter.widget-view+json": {
       "model_id": "e7fefcb8780b4a468029cc6ae897dfcd",
       "version_major": 2,
       "version_minor": 0
      },
      "text/plain": [
       "Pandas Apply:   0%|          | 0/11 [00:00<?, ?it/s]"
      ]
     },
     "metadata": {},
     "output_type": "display_data"
    },
    {
     "name": "stdout",
     "output_type": "stream",
     "text": [
      "size of representation dataset  3203\n"
     ]
    },
    {
     "data": {
      "application/vnd.jupyter.widget-view+json": {
       "model_id": "dd29cc9a5d774240a2b6c7da899fcba8",
       "version_major": 2,
       "version_minor": 0
      },
      "text/plain": [
       "Pandas Apply:   0%|          | 0/322 [00:00<?, ?it/s]"
      ]
     },
     "metadata": {},
     "output_type": "display_data"
    },
    {
     "data": {
      "application/vnd.jupyter.widget-view+json": {
       "model_id": "d925e6ec38ff4fd488e3cba66026c875",
       "version_major": 2,
       "version_minor": 0
      },
      "text/plain": [
       "Pandas Apply:   0%|          | 0/13 [00:00<?, ?it/s]"
      ]
     },
     "metadata": {},
     "output_type": "display_data"
    },
    {
     "name": "stdout",
     "output_type": "stream",
     "text": [
      "size of representation dataset  3216\n"
     ]
    },
    {
     "data": {
      "application/vnd.jupyter.widget-view+json": {
       "model_id": "d31ae405452a4b4f9f7120c27f6d2d91",
       "version_major": 2,
       "version_minor": 0
      },
      "text/plain": [
       "Pandas Apply:   0%|          | 0/324 [00:00<?, ?it/s]"
      ]
     },
     "metadata": {},
     "output_type": "display_data"
    },
    {
     "name": "stdout",
     "output_type": "stream",
     "text": [
      "size of representation dataset  3216\n"
     ]
    },
    {
     "data": {
      "application/vnd.jupyter.widget-view+json": {
       "model_id": "b9986b02148c4f7bb45ab75f054e7f41",
       "version_major": 2,
       "version_minor": 0
      },
      "text/plain": [
       "Pandas Apply:   0%|          | 0/326 [00:00<?, ?it/s]"
      ]
     },
     "metadata": {},
     "output_type": "display_data"
    },
    {
     "name": "stdout",
     "output_type": "stream",
     "text": [
      "size of representation dataset  3216\n"
     ]
    },
    {
     "data": {
      "application/vnd.jupyter.widget-view+json": {
       "model_id": "ebc1fc99929b4c06af1ff1ccc0d9097b",
       "version_major": 2,
       "version_minor": 0
      },
      "text/plain": [
       "Pandas Apply:   0%|          | 0/366 [00:00<?, ?it/s]"
      ]
     },
     "metadata": {},
     "output_type": "display_data"
    },
    {
     "name": "stdout",
     "output_type": "stream",
     "text": [
      "size of representation dataset  3216\n"
     ]
    },
    {
     "data": {
      "application/vnd.jupyter.widget-view+json": {
       "model_id": "7736c78dc37545df92c0de3559faa388",
       "version_major": 2,
       "version_minor": 0
      },
      "text/plain": [
       "Pandas Apply:   0%|          | 0/366 [00:00<?, ?it/s]"
      ]
     },
     "metadata": {},
     "output_type": "display_data"
    },
    {
     "name": "stdout",
     "output_type": "stream",
     "text": [
      "size of representation dataset  3216\n"
     ]
    },
    {
     "data": {
      "application/vnd.jupyter.widget-view+json": {
       "model_id": "37ead3a309574edeb67aeaa46e5c1581",
       "version_major": 2,
       "version_minor": 0
      },
      "text/plain": [
       "Pandas Apply:   0%|          | 0/373 [00:00<?, ?it/s]"
      ]
     },
     "metadata": {},
     "output_type": "display_data"
    },
    {
     "data": {
      "application/vnd.jupyter.widget-view+json": {
       "model_id": "17630dcdcbca4d4f9cdaaf841eb18aca",
       "version_major": 2,
       "version_minor": 0
      },
      "text/plain": [
       "Pandas Apply:   0%|          | 0/1 [00:00<?, ?it/s]"
      ]
     },
     "metadata": {},
     "output_type": "display_data"
    },
    {
     "name": "stdout",
     "output_type": "stream",
     "text": [
      "size of representation dataset  3217\n"
     ]
    },
    {
     "data": {
      "application/vnd.jupyter.widget-view+json": {
       "model_id": "c761ec413e3f41eda946e24763121bba",
       "version_major": 2,
       "version_minor": 0
      },
      "text/plain": [
       "Pandas Apply:   0%|          | 0/393 [00:00<?, ?it/s]"
      ]
     },
     "metadata": {},
     "output_type": "display_data"
    },
    {
     "data": {
      "application/vnd.jupyter.widget-view+json": {
       "model_id": "ded4bc5cd4304d2da9819f389e70becd",
       "version_major": 2,
       "version_minor": 0
      },
      "text/plain": [
       "Pandas Apply:   0%|          | 0/2 [00:00<?, ?it/s]"
      ]
     },
     "metadata": {},
     "output_type": "display_data"
    },
    {
     "name": "stdout",
     "output_type": "stream",
     "text": [
      "size of representation dataset  3219\n"
     ]
    },
    {
     "data": {
      "application/vnd.jupyter.widget-view+json": {
       "model_id": "ea073edc9d28417999becbb4f78f6413",
       "version_major": 2,
       "version_minor": 0
      },
      "text/plain": [
       "Pandas Apply:   0%|          | 0/394 [00:00<?, ?it/s]"
      ]
     },
     "metadata": {},
     "output_type": "display_data"
    },
    {
     "name": "stdout",
     "output_type": "stream",
     "text": [
      "size of representation dataset  3219\n"
     ]
    },
    {
     "data": {
      "application/vnd.jupyter.widget-view+json": {
       "model_id": "7027fa004441477d99f394242ce0fa0e",
       "version_major": 2,
       "version_minor": 0
      },
      "text/plain": [
       "Pandas Apply:   0%|          | 0/403 [00:00<?, ?it/s]"
      ]
     },
     "metadata": {},
     "output_type": "display_data"
    },
    {
     "name": "stdout",
     "output_type": "stream",
     "text": [
      "size of representation dataset  3219\n",
      "element Inchikey suggested: YRLMGGBDECQSLC-UHFFFAOYSA-N, Eval: 0.43059374426914476\n",
      "iteration 14 completed\n",
      "max fitness acquired: 0.5306924435373005\n",
      "min fitness acquired: -2.6063599913279623\n",
      "new fitness acquired: 0.43059374426914476\n"
     ]
    },
    {
     "data": {
      "application/vnd.jupyter.widget-view+json": {
       "model_id": "3d905d73a1974c3bb6d78b4a1f547ad7",
       "version_major": 2,
       "version_minor": 0
      },
      "text/plain": [
       "Pandas Apply:   0%|          | 0/65 [00:00<?, ?it/s]"
      ]
     },
     "metadata": {},
     "output_type": "display_data"
    },
    {
     "data": {
      "application/vnd.jupyter.widget-view+json": {
       "model_id": "55e6e4ad914546e1bc85573e06c56710",
       "version_major": 2,
       "version_minor": 0
      },
      "text/plain": [
       "Pandas Apply:   0%|          | 0/84 [00:00<?, ?it/s]"
      ]
     },
     "metadata": {},
     "output_type": "display_data"
    },
    {
     "name": "stdout",
     "output_type": "stream",
     "text": [
      "size of representation dataset  3219\n"
     ]
    },
    {
     "data": {
      "application/vnd.jupyter.widget-view+json": {
       "model_id": "47e83f806fbc46558707b6d118966139",
       "version_major": 2,
       "version_minor": 0
      },
      "text/plain": [
       "Pandas Apply:   0%|          | 0/105 [00:00<?, ?it/s]"
      ]
     },
     "metadata": {},
     "output_type": "display_data"
    },
    {
     "data": {
      "application/vnd.jupyter.widget-view+json": {
       "model_id": "67849d3800c1408b86915e25358f6a4f",
       "version_major": 2,
       "version_minor": 0
      },
      "text/plain": [
       "Pandas Apply:   0%|          | 0/1 [00:00<?, ?it/s]"
      ]
     },
     "metadata": {},
     "output_type": "display_data"
    },
    {
     "name": "stdout",
     "output_type": "stream",
     "text": [
      "size of representation dataset  3220\n"
     ]
    },
    {
     "data": {
      "application/vnd.jupyter.widget-view+json": {
       "model_id": "4270deb6846a437088240e404dbb7112",
       "version_major": 2,
       "version_minor": 0
      },
      "text/plain": [
       "Pandas Apply:   0%|          | 0/128 [00:00<?, ?it/s]"
      ]
     },
     "metadata": {},
     "output_type": "display_data"
    },
    {
     "name": "stdout",
     "output_type": "stream",
     "text": [
      "size of representation dataset  3220\n"
     ]
    },
    {
     "data": {
      "application/vnd.jupyter.widget-view+json": {
       "model_id": "caf87dc1746640a3a8497b79b6729c8e",
       "version_major": 2,
       "version_minor": 0
      },
      "text/plain": [
       "Pandas Apply:   0%|          | 0/164 [00:00<?, ?it/s]"
      ]
     },
     "metadata": {},
     "output_type": "display_data"
    },
    {
     "name": "stdout",
     "output_type": "stream",
     "text": [
      "size of representation dataset  3220\n"
     ]
    },
    {
     "data": {
      "application/vnd.jupyter.widget-view+json": {
       "model_id": "219e92eb033a491ebd9f646836275844",
       "version_major": 2,
       "version_minor": 0
      },
      "text/plain": [
       "Pandas Apply:   0%|          | 0/176 [00:00<?, ?it/s]"
      ]
     },
     "metadata": {},
     "output_type": "display_data"
    },
    {
     "name": "stdout",
     "output_type": "stream",
     "text": [
      "size of representation dataset  3220\n"
     ]
    },
    {
     "data": {
      "application/vnd.jupyter.widget-view+json": {
       "model_id": "2dae04c8dc504d3188330fcac7438659",
       "version_major": 2,
       "version_minor": 0
      },
      "text/plain": [
       "Pandas Apply:   0%|          | 0/177 [00:00<?, ?it/s]"
      ]
     },
     "metadata": {},
     "output_type": "display_data"
    },
    {
     "name": "stdout",
     "output_type": "stream",
     "text": [
      "size of representation dataset  3220\n"
     ]
    },
    {
     "data": {
      "application/vnd.jupyter.widget-view+json": {
       "model_id": "3fbe8750093c4813be57095f3e5b883b",
       "version_major": 2,
       "version_minor": 0
      },
      "text/plain": [
       "Pandas Apply:   0%|          | 0/189 [00:00<?, ?it/s]"
      ]
     },
     "metadata": {},
     "output_type": "display_data"
    },
    {
     "name": "stdout",
     "output_type": "stream",
     "text": [
      "size of representation dataset  3220\n"
     ]
    },
    {
     "data": {
      "application/vnd.jupyter.widget-view+json": {
       "model_id": "9adcaf7ecfac4b4c9ce67d995b32aed4",
       "version_major": 2,
       "version_minor": 0
      },
      "text/plain": [
       "Pandas Apply:   0%|          | 0/192 [00:00<?, ?it/s]"
      ]
     },
     "metadata": {},
     "output_type": "display_data"
    },
    {
     "name": "stdout",
     "output_type": "stream",
     "text": [
      "size of representation dataset  3220\n"
     ]
    },
    {
     "data": {
      "application/vnd.jupyter.widget-view+json": {
       "model_id": "2f2e12226d1541b489ce3e3a1e048f3c",
       "version_major": 2,
       "version_minor": 0
      },
      "text/plain": [
       "Pandas Apply:   0%|          | 0/194 [00:00<?, ?it/s]"
      ]
     },
     "metadata": {},
     "output_type": "display_data"
    },
    {
     "data": {
      "application/vnd.jupyter.widget-view+json": {
       "model_id": "68b097232e45438d85750c861f6c27f2",
       "version_major": 2,
       "version_minor": 0
      },
      "text/plain": [
       "Pandas Apply:   0%|          | 0/1 [00:00<?, ?it/s]"
      ]
     },
     "metadata": {},
     "output_type": "display_data"
    },
    {
     "name": "stdout",
     "output_type": "stream",
     "text": [
      "size of representation dataset  3221\n"
     ]
    },
    {
     "data": {
      "application/vnd.jupyter.widget-view+json": {
       "model_id": "787760ff057f45639f7cb261f4d6fab7",
       "version_major": 2,
       "version_minor": 0
      },
      "text/plain": [
       "Pandas Apply:   0%|          | 0/285 [00:00<?, ?it/s]"
      ]
     },
     "metadata": {},
     "output_type": "display_data"
    },
    {
     "name": "stdout",
     "output_type": "stream",
     "text": [
      "size of representation dataset  3221\n"
     ]
    },
    {
     "data": {
      "application/vnd.jupyter.widget-view+json": {
       "model_id": "9be9d3ca77574a27a2369215fd28393b",
       "version_major": 2,
       "version_minor": 0
      },
      "text/plain": [
       "Pandas Apply:   0%|          | 0/287 [00:00<?, ?it/s]"
      ]
     },
     "metadata": {},
     "output_type": "display_data"
    },
    {
     "data": {
      "application/vnd.jupyter.widget-view+json": {
       "model_id": "906949d560264275a942b5bb19191658",
       "version_major": 2,
       "version_minor": 0
      },
      "text/plain": [
       "Pandas Apply:   0%|          | 0/2 [00:00<?, ?it/s]"
      ]
     },
     "metadata": {},
     "output_type": "display_data"
    },
    {
     "name": "stdout",
     "output_type": "stream",
     "text": [
      "size of representation dataset  3223\n"
     ]
    },
    {
     "data": {
      "application/vnd.jupyter.widget-view+json": {
       "model_id": "251cb8d6a3674ae0bedc59a236e4cc7e",
       "version_major": 2,
       "version_minor": 0
      },
      "text/plain": [
       "Pandas Apply:   0%|          | 0/297 [00:00<?, ?it/s]"
      ]
     },
     "metadata": {},
     "output_type": "display_data"
    },
    {
     "name": "stdout",
     "output_type": "stream",
     "text": [
      "size of representation dataset  3223\n"
     ]
    },
    {
     "data": {
      "application/vnd.jupyter.widget-view+json": {
       "model_id": "968a27b7956741bd8c8dae536c9013d0",
       "version_major": 2,
       "version_minor": 0
      },
      "text/plain": [
       "Pandas Apply:   0%|          | 0/310 [00:00<?, ?it/s]"
      ]
     },
     "metadata": {},
     "output_type": "display_data"
    },
    {
     "data": {
      "application/vnd.jupyter.widget-view+json": {
       "model_id": "cdbe7f07bcdd45b3b741c5711c55b4cb",
       "version_major": 2,
       "version_minor": 0
      },
      "text/plain": [
       "Pandas Apply:   0%|          | 0/7 [00:00<?, ?it/s]"
      ]
     },
     "metadata": {},
     "output_type": "display_data"
    },
    {
     "name": "stdout",
     "output_type": "stream",
     "text": [
      "size of representation dataset  3230\n",
      "element Inchikey suggested: SKTZGKJATIYTTD-UHFFFAOYSA-N, Eval: 0.2522970759204841\n",
      "iteration 15 completed\n",
      "max fitness acquired: 0.5306924435373005\n",
      "min fitness acquired: -2.6063599913279623\n",
      "new fitness acquired: 0.2522970759204841\n"
     ]
    },
    {
     "data": {
      "application/vnd.jupyter.widget-view+json": {
       "model_id": "1c6d0c886db44ebf974b2acc86450820",
       "version_major": 2,
       "version_minor": 0
      },
      "text/plain": [
       "Pandas Apply:   0%|          | 0/66 [00:00<?, ?it/s]"
      ]
     },
     "metadata": {},
     "output_type": "display_data"
    },
    {
     "data": {
      "application/vnd.jupyter.widget-view+json": {
       "model_id": "e2466ebedb824a149dbad2851372f56c",
       "version_major": 2,
       "version_minor": 0
      },
      "text/plain": [
       "Pandas Apply:   0%|          | 0/91 [00:00<?, ?it/s]"
      ]
     },
     "metadata": {},
     "output_type": "display_data"
    },
    {
     "name": "stdout",
     "output_type": "stream",
     "text": [
      "size of representation dataset  3230\n"
     ]
    },
    {
     "data": {
      "application/vnd.jupyter.widget-view+json": {
       "model_id": "619cbd468c124cbd8e429b6ec584af71",
       "version_major": 2,
       "version_minor": 0
      },
      "text/plain": [
       "Pandas Apply:   0%|          | 0/100 [00:00<?, ?it/s]"
      ]
     },
     "metadata": {},
     "output_type": "display_data"
    },
    {
     "name": "stdout",
     "output_type": "stream",
     "text": [
      "size of representation dataset  3230\n"
     ]
    },
    {
     "data": {
      "application/vnd.jupyter.widget-view+json": {
       "model_id": "d30f86885f9949548042eeeb80e6d2f3",
       "version_major": 2,
       "version_minor": 0
      },
      "text/plain": [
       "Pandas Apply:   0%|          | 0/217 [00:00<?, ?it/s]"
      ]
     },
     "metadata": {},
     "output_type": "display_data"
    },
    {
     "name": "stdout",
     "output_type": "stream",
     "text": [
      "size of representation dataset  3230\n"
     ]
    },
    {
     "data": {
      "application/vnd.jupyter.widget-view+json": {
       "model_id": "76038f0bfc52468591985825416ebc18",
       "version_major": 2,
       "version_minor": 0
      },
      "text/plain": [
       "Pandas Apply:   0%|          | 0/291 [00:00<?, ?it/s]"
      ]
     },
     "metadata": {},
     "output_type": "display_data"
    },
    {
     "data": {
      "application/vnd.jupyter.widget-view+json": {
       "model_id": "6d957a6293dc46f4a6a245592007d0c5",
       "version_major": 2,
       "version_minor": 0
      },
      "text/plain": [
       "Pandas Apply:   0%|          | 0/9 [00:00<?, ?it/s]"
      ]
     },
     "metadata": {},
     "output_type": "display_data"
    },
    {
     "name": "stdout",
     "output_type": "stream",
     "text": [
      "size of representation dataset  3239\n"
     ]
    },
    {
     "data": {
      "application/vnd.jupyter.widget-view+json": {
       "model_id": "d31d7455c420475eaade3eba8fbdd47f",
       "version_major": 2,
       "version_minor": 0
      },
      "text/plain": [
       "Pandas Apply:   0%|          | 0/301 [00:00<?, ?it/s]"
      ]
     },
     "metadata": {},
     "output_type": "display_data"
    },
    {
     "data": {
      "application/vnd.jupyter.widget-view+json": {
       "model_id": "8c16a255727f4c8d92e40cac873b593f",
       "version_major": 2,
       "version_minor": 0
      },
      "text/plain": [
       "Pandas Apply:   0%|          | 0/2 [00:00<?, ?it/s]"
      ]
     },
     "metadata": {},
     "output_type": "display_data"
    },
    {
     "name": "stdout",
     "output_type": "stream",
     "text": [
      "size of representation dataset  3241\n"
     ]
    },
    {
     "data": {
      "application/vnd.jupyter.widget-view+json": {
       "model_id": "5c84448747f6431b9413fdd4f9e2d1d6",
       "version_major": 2,
       "version_minor": 0
      },
      "text/plain": [
       "Pandas Apply:   0%|          | 0/314 [00:00<?, ?it/s]"
      ]
     },
     "metadata": {},
     "output_type": "display_data"
    },
    {
     "data": {
      "application/vnd.jupyter.widget-view+json": {
       "model_id": "1d0985b39165479d8d21d4accf97b1ac",
       "version_major": 2,
       "version_minor": 0
      },
      "text/plain": [
       "Pandas Apply:   0%|          | 0/13 [00:00<?, ?it/s]"
      ]
     },
     "metadata": {},
     "output_type": "display_data"
    },
    {
     "name": "stdout",
     "output_type": "stream",
     "text": [
      "size of representation dataset  3254\n"
     ]
    },
    {
     "data": {
      "application/vnd.jupyter.widget-view+json": {
       "model_id": "6900b60a7ef74d0bb7855f839633aae9",
       "version_major": 2,
       "version_minor": 0
      },
      "text/plain": [
       "Pandas Apply:   0%|          | 0/320 [00:00<?, ?it/s]"
      ]
     },
     "metadata": {},
     "output_type": "display_data"
    },
    {
     "name": "stdout",
     "output_type": "stream",
     "text": [
      "size of representation dataset  3254\n"
     ]
    },
    {
     "data": {
      "application/vnd.jupyter.widget-view+json": {
       "model_id": "1bed326fbd734abba007d562f92c84df",
       "version_major": 2,
       "version_minor": 0
      },
      "text/plain": [
       "Pandas Apply:   0%|          | 0/335 [00:00<?, ?it/s]"
      ]
     },
     "metadata": {},
     "output_type": "display_data"
    },
    {
     "data": {
      "application/vnd.jupyter.widget-view+json": {
       "model_id": "a8d5fbffce4a44f1a9d8517ece2d9322",
       "version_major": 2,
       "version_minor": 0
      },
      "text/plain": [
       "Pandas Apply:   0%|          | 0/8 [00:00<?, ?it/s]"
      ]
     },
     "metadata": {},
     "output_type": "display_data"
    },
    {
     "name": "stdout",
     "output_type": "stream",
     "text": [
      "size of representation dataset  3262\n"
     ]
    },
    {
     "data": {
      "application/vnd.jupyter.widget-view+json": {
       "model_id": "0b98004103574311816d5cdc8a2f7ad8",
       "version_major": 2,
       "version_minor": 0
      },
      "text/plain": [
       "Pandas Apply:   0%|          | 0/336 [00:00<?, ?it/s]"
      ]
     },
     "metadata": {},
     "output_type": "display_data"
    },
    {
     "name": "stdout",
     "output_type": "stream",
     "text": [
      "size of representation dataset  3262\n"
     ]
    },
    {
     "data": {
      "application/vnd.jupyter.widget-view+json": {
       "model_id": "d660499c898d4f4687b74a8024b0ac38",
       "version_major": 2,
       "version_minor": 0
      },
      "text/plain": [
       "Pandas Apply:   0%|          | 0/340 [00:00<?, ?it/s]"
      ]
     },
     "metadata": {},
     "output_type": "display_data"
    },
    {
     "name": "stdout",
     "output_type": "stream",
     "text": [
      "size of representation dataset  3262\n"
     ]
    },
    {
     "data": {
      "application/vnd.jupyter.widget-view+json": {
       "model_id": "2610e37396124913bbc00ffca4492f84",
       "version_major": 2,
       "version_minor": 0
      },
      "text/plain": [
       "Pandas Apply:   0%|          | 0/346 [00:00<?, ?it/s]"
      ]
     },
     "metadata": {},
     "output_type": "display_data"
    },
    {
     "name": "stdout",
     "output_type": "stream",
     "text": [
      "size of representation dataset  3262\n"
     ]
    },
    {
     "data": {
      "application/vnd.jupyter.widget-view+json": {
       "model_id": "fb41093f32f44a2b80ea41adf8686678",
       "version_major": 2,
       "version_minor": 0
      },
      "text/plain": [
       "Pandas Apply:   0%|          | 0/352 [00:00<?, ?it/s]"
      ]
     },
     "metadata": {},
     "output_type": "display_data"
    },
    {
     "data": {
      "application/vnd.jupyter.widget-view+json": {
       "model_id": "68a8bfce134143bfa4f39d5f094e96e4",
       "version_major": 2,
       "version_minor": 0
      },
      "text/plain": [
       "Pandas Apply:   0%|          | 0/3 [00:00<?, ?it/s]"
      ]
     },
     "metadata": {},
     "output_type": "display_data"
    },
    {
     "name": "stdout",
     "output_type": "stream",
     "text": [
      "size of representation dataset  3265\n"
     ]
    },
    {
     "data": {
      "application/vnd.jupyter.widget-view+json": {
       "model_id": "b82958269f31432180f7335fee00e5a0",
       "version_major": 2,
       "version_minor": 0
      },
      "text/plain": [
       "Pandas Apply:   0%|          | 0/354 [00:00<?, ?it/s]"
      ]
     },
     "metadata": {},
     "output_type": "display_data"
    },
    {
     "name": "stdout",
     "output_type": "stream",
     "text": [
      "size of representation dataset  3265\n"
     ]
    },
    {
     "data": {
      "application/vnd.jupyter.widget-view+json": {
       "model_id": "89a094364a414986bd546d53080006ac",
       "version_major": 2,
       "version_minor": 0
      },
      "text/plain": [
       "Pandas Apply:   0%|          | 0/362 [00:00<?, ?it/s]"
      ]
     },
     "metadata": {},
     "output_type": "display_data"
    },
    {
     "name": "stdout",
     "output_type": "stream",
     "text": [
      "size of representation dataset  3265\n",
      "element Inchikey suggested: ZWJJHRQDHKKKBP-UHFFFAOYSA-N, Eval: 0.4019752635965541\n",
      "iteration 16 completed\n",
      "max fitness acquired: 0.5306924435373005\n",
      "min fitness acquired: -2.6063599913279623\n",
      "new fitness acquired: 0.4019752635965541\n"
     ]
    },
    {
     "data": {
      "application/vnd.jupyter.widget-view+json": {
       "model_id": "f92e1713d8bf439fbda34cfa2633f1ef",
       "version_major": 2,
       "version_minor": 0
      },
      "text/plain": [
       "Pandas Apply:   0%|          | 0/67 [00:00<?, ?it/s]"
      ]
     },
     "metadata": {},
     "output_type": "display_data"
    },
    {
     "data": {
      "application/vnd.jupyter.widget-view+json": {
       "model_id": "604bb8cc5af541959b0def4167dd857a",
       "version_major": 2,
       "version_minor": 0
      },
      "text/plain": [
       "Pandas Apply:   0%|          | 0/86 [00:00<?, ?it/s]"
      ]
     },
     "metadata": {},
     "output_type": "display_data"
    },
    {
     "name": "stdout",
     "output_type": "stream",
     "text": [
      "size of representation dataset  3265\n"
     ]
    },
    {
     "data": {
      "application/vnd.jupyter.widget-view+json": {
       "model_id": "7b46957f53514f7298211d4b3dd07d09",
       "version_major": 2,
       "version_minor": 0
      },
      "text/plain": [
       "Pandas Apply:   0%|          | 0/94 [00:00<?, ?it/s]"
      ]
     },
     "metadata": {},
     "output_type": "display_data"
    },
    {
     "name": "stdout",
     "output_type": "stream",
     "text": [
      "size of representation dataset  3265\n"
     ]
    },
    {
     "data": {
      "application/vnd.jupyter.widget-view+json": {
       "model_id": "ffdc5ee415a64a5e848dd686e65cd05a",
       "version_major": 2,
       "version_minor": 0
      },
      "text/plain": [
       "Pandas Apply:   0%|          | 0/96 [00:00<?, ?it/s]"
      ]
     },
     "metadata": {},
     "output_type": "display_data"
    },
    {
     "name": "stdout",
     "output_type": "stream",
     "text": [
      "size of representation dataset  3265\n"
     ]
    },
    {
     "data": {
      "application/vnd.jupyter.widget-view+json": {
       "model_id": "3e9c80c0f0d146f3b7d66bcdecd9df7d",
       "version_major": 2,
       "version_minor": 0
      },
      "text/plain": [
       "Pandas Apply:   0%|          | 0/102 [00:00<?, ?it/s]"
      ]
     },
     "metadata": {},
     "output_type": "display_data"
    },
    {
     "name": "stdout",
     "output_type": "stream",
     "text": [
      "size of representation dataset  3265\n"
     ]
    },
    {
     "data": {
      "application/vnd.jupyter.widget-view+json": {
       "model_id": "723310f8a9254c06b51d5fee0131a10a",
       "version_major": 2,
       "version_minor": 0
      },
      "text/plain": [
       "Pandas Apply:   0%|          | 0/231 [00:00<?, ?it/s]"
      ]
     },
     "metadata": {},
     "output_type": "display_data"
    },
    {
     "name": "stdout",
     "output_type": "stream",
     "text": [
      "size of representation dataset  3265\n"
     ]
    },
    {
     "data": {
      "application/vnd.jupyter.widget-view+json": {
       "model_id": "c45057d191d84f0e911a99b2da171091",
       "version_major": 2,
       "version_minor": 0
      },
      "text/plain": [
       "Pandas Apply:   0%|          | 0/257 [00:00<?, ?it/s]"
      ]
     },
     "metadata": {},
     "output_type": "display_data"
    },
    {
     "name": "stdout",
     "output_type": "stream",
     "text": [
      "size of representation dataset  3265\n"
     ]
    },
    {
     "data": {
      "application/vnd.jupyter.widget-view+json": {
       "model_id": "1b83a3153690463ea3cba0a096599935",
       "version_major": 2,
       "version_minor": 0
      },
      "text/plain": [
       "Pandas Apply:   0%|          | 0/260 [00:00<?, ?it/s]"
      ]
     },
     "metadata": {},
     "output_type": "display_data"
    },
    {
     "data": {
      "application/vnd.jupyter.widget-view+json": {
       "model_id": "4bb7f965269347b69e89a8436ac7efc7",
       "version_major": 2,
       "version_minor": 0
      },
      "text/plain": [
       "Pandas Apply:   0%|          | 0/1 [00:00<?, ?it/s]"
      ]
     },
     "metadata": {},
     "output_type": "display_data"
    },
    {
     "name": "stdout",
     "output_type": "stream",
     "text": [
      "size of representation dataset  3266\n"
     ]
    },
    {
     "data": {
      "application/vnd.jupyter.widget-view+json": {
       "model_id": "f6c52313f8954821bb7cea21aee1559b",
       "version_major": 2,
       "version_minor": 0
      },
      "text/plain": [
       "Pandas Apply:   0%|          | 0/270 [00:00<?, ?it/s]"
      ]
     },
     "metadata": {},
     "output_type": "display_data"
    },
    {
     "data": {
      "application/vnd.jupyter.widget-view+json": {
       "model_id": "5b2bf018a2e0446eaa2d42e33f7badb4",
       "version_major": 2,
       "version_minor": 0
      },
      "text/plain": [
       "Pandas Apply:   0%|          | 0/1 [00:00<?, ?it/s]"
      ]
     },
     "metadata": {},
     "output_type": "display_data"
    },
    {
     "name": "stdout",
     "output_type": "stream",
     "text": [
      "size of representation dataset  3267\n"
     ]
    },
    {
     "data": {
      "application/vnd.jupyter.widget-view+json": {
       "model_id": "3ba9eb5a22234c10b3fe41e7b34892b4",
       "version_major": 2,
       "version_minor": 0
      },
      "text/plain": [
       "Pandas Apply:   0%|          | 0/308 [00:00<?, ?it/s]"
      ]
     },
     "metadata": {},
     "output_type": "display_data"
    },
    {
     "data": {
      "application/vnd.jupyter.widget-view+json": {
       "model_id": "f96e31bf57844646ae2a14c768375b05",
       "version_major": 2,
       "version_minor": 0
      },
      "text/plain": [
       "Pandas Apply:   0%|          | 0/2 [00:00<?, ?it/s]"
      ]
     },
     "metadata": {},
     "output_type": "display_data"
    },
    {
     "name": "stdout",
     "output_type": "stream",
     "text": [
      "size of representation dataset  3269\n"
     ]
    },
    {
     "data": {
      "application/vnd.jupyter.widget-view+json": {
       "model_id": "5ce2466b9b134b7e98ff785481fb4ab7",
       "version_major": 2,
       "version_minor": 0
      },
      "text/plain": [
       "Pandas Apply:   0%|          | 0/435 [00:00<?, ?it/s]"
      ]
     },
     "metadata": {},
     "output_type": "display_data"
    },
    {
     "data": {
      "application/vnd.jupyter.widget-view+json": {
       "model_id": "1e7e8d76d98846c7842cce6f48e6ef3e",
       "version_major": 2,
       "version_minor": 0
      },
      "text/plain": [
       "Pandas Apply:   0%|          | 0/3 [00:00<?, ?it/s]"
      ]
     },
     "metadata": {},
     "output_type": "display_data"
    },
    {
     "name": "stdout",
     "output_type": "stream",
     "text": [
      "size of representation dataset  3272\n"
     ]
    },
    {
     "data": {
      "application/vnd.jupyter.widget-view+json": {
       "model_id": "a3a76422aefa441dbd7541377832fb01",
       "version_major": 2,
       "version_minor": 0
      },
      "text/plain": [
       "Pandas Apply:   0%|          | 0/435 [00:00<?, ?it/s]"
      ]
     },
     "metadata": {},
     "output_type": "display_data"
    },
    {
     "name": "stdout",
     "output_type": "stream",
     "text": [
      "size of representation dataset  3272\n",
      "element Inchikey suggested: VTIVUHBUCDJPNX-UHFFFAOYSA-N, Eval: 0.28257431900900265\n",
      "iteration 17 completed\n",
      "max fitness acquired: 0.5306924435373005\n",
      "min fitness acquired: -2.6063599913279623\n",
      "new fitness acquired: 0.28257431900900265\n"
     ]
    },
    {
     "data": {
      "application/vnd.jupyter.widget-view+json": {
       "model_id": "925b9dcafa924059bc7d79bed5fe9eaf",
       "version_major": 2,
       "version_minor": 0
      },
      "text/plain": [
       "Pandas Apply:   0%|          | 0/68 [00:00<?, ?it/s]"
      ]
     },
     "metadata": {},
     "output_type": "display_data"
    },
    {
     "data": {
      "application/vnd.jupyter.widget-view+json": {
       "model_id": "7aaa060fa137462b96dffd9ec6621b64",
       "version_major": 2,
       "version_minor": 0
      },
      "text/plain": [
       "Pandas Apply:   0%|          | 0/92 [00:00<?, ?it/s]"
      ]
     },
     "metadata": {},
     "output_type": "display_data"
    },
    {
     "name": "stdout",
     "output_type": "stream",
     "text": [
      "size of representation dataset  3272\n"
     ]
    },
    {
     "data": {
      "application/vnd.jupyter.widget-view+json": {
       "model_id": "6c721e5348d848c194b2e0e149af5c83",
       "version_major": 2,
       "version_minor": 0
      },
      "text/plain": [
       "Pandas Apply:   0%|          | 0/232 [00:00<?, ?it/s]"
      ]
     },
     "metadata": {},
     "output_type": "display_data"
    },
    {
     "data": {
      "application/vnd.jupyter.widget-view+json": {
       "model_id": "dc88268300fb4c20b2a477d53aeb1b80",
       "version_major": 2,
       "version_minor": 0
      },
      "text/plain": [
       "Pandas Apply:   0%|          | 0/3 [00:00<?, ?it/s]"
      ]
     },
     "metadata": {},
     "output_type": "display_data"
    },
    {
     "name": "stdout",
     "output_type": "stream",
     "text": [
      "size of representation dataset  3275\n"
     ]
    },
    {
     "data": {
      "application/vnd.jupyter.widget-view+json": {
       "model_id": "4242612690dd469da3ac43b9acde5c9d",
       "version_major": 2,
       "version_minor": 0
      },
      "text/plain": [
       "Pandas Apply:   0%|          | 0/261 [00:00<?, ?it/s]"
      ]
     },
     "metadata": {},
     "output_type": "display_data"
    },
    {
     "data": {
      "application/vnd.jupyter.widget-view+json": {
       "model_id": "8177f60aff7d43a5a08b2af64d2870e3",
       "version_major": 2,
       "version_minor": 0
      },
      "text/plain": [
       "Pandas Apply:   0%|          | 0/9 [00:00<?, ?it/s]"
      ]
     },
     "metadata": {},
     "output_type": "display_data"
    },
    {
     "name": "stdout",
     "output_type": "stream",
     "text": [
      "size of representation dataset  3284\n"
     ]
    },
    {
     "data": {
      "application/vnd.jupyter.widget-view+json": {
       "model_id": "021e73da2d774b45ab79e85071ab26b6",
       "version_major": 2,
       "version_minor": 0
      },
      "text/plain": [
       "Pandas Apply:   0%|          | 0/261 [00:00<?, ?it/s]"
      ]
     },
     "metadata": {},
     "output_type": "display_data"
    },
    {
     "name": "stdout",
     "output_type": "stream",
     "text": [
      "size of representation dataset  3284\n"
     ]
    },
    {
     "data": {
      "application/vnd.jupyter.widget-view+json": {
       "model_id": "0d6f968931a3498c9e6314428177acea",
       "version_major": 2,
       "version_minor": 0
      },
      "text/plain": [
       "Pandas Apply:   0%|          | 0/271 [00:00<?, ?it/s]"
      ]
     },
     "metadata": {},
     "output_type": "display_data"
    },
    {
     "data": {
      "application/vnd.jupyter.widget-view+json": {
       "model_id": "13b31ac747744d84b54fb4cb415134a9",
       "version_major": 2,
       "version_minor": 0
      },
      "text/plain": [
       "Pandas Apply:   0%|          | 0/4 [00:00<?, ?it/s]"
      ]
     },
     "metadata": {},
     "output_type": "display_data"
    },
    {
     "name": "stdout",
     "output_type": "stream",
     "text": [
      "size of representation dataset  3288\n"
     ]
    },
    {
     "data": {
      "application/vnd.jupyter.widget-view+json": {
       "model_id": "acd1f1ce5b274850b5d856f4b4f856e7",
       "version_major": 2,
       "version_minor": 0
      },
      "text/plain": [
       "Pandas Apply:   0%|          | 0/277 [00:00<?, ?it/s]"
      ]
     },
     "metadata": {},
     "output_type": "display_data"
    },
    {
     "data": {
      "application/vnd.jupyter.widget-view+json": {
       "model_id": "da76fa277cfe458a9944af172969aa4c",
       "version_major": 2,
       "version_minor": 0
      },
      "text/plain": [
       "Pandas Apply:   0%|          | 0/3 [00:00<?, ?it/s]"
      ]
     },
     "metadata": {},
     "output_type": "display_data"
    },
    {
     "name": "stdout",
     "output_type": "stream",
     "text": [
      "size of representation dataset  3291\n"
     ]
    },
    {
     "data": {
      "application/vnd.jupyter.widget-view+json": {
       "model_id": "b9f6b6514ff149538c476e3d970adae4",
       "version_major": 2,
       "version_minor": 0
      },
      "text/plain": [
       "Pandas Apply:   0%|          | 0/277 [00:00<?, ?it/s]"
      ]
     },
     "metadata": {},
     "output_type": "display_data"
    },
    {
     "name": "stdout",
     "output_type": "stream",
     "text": [
      "size of representation dataset  3291\n"
     ]
    },
    {
     "data": {
      "application/vnd.jupyter.widget-view+json": {
       "model_id": "9b2f8e78b47b44bfa8d6f96d523b86c9",
       "version_major": 2,
       "version_minor": 0
      },
      "text/plain": [
       "Pandas Apply:   0%|          | 0/277 [00:00<?, ?it/s]"
      ]
     },
     "metadata": {},
     "output_type": "display_data"
    },
    {
     "name": "stdout",
     "output_type": "stream",
     "text": [
      "size of representation dataset  3291\n"
     ]
    },
    {
     "data": {
      "application/vnd.jupyter.widget-view+json": {
       "model_id": "a939ef5848434a3d9e73ee1af9238d43",
       "version_major": 2,
       "version_minor": 0
      },
      "text/plain": [
       "Pandas Apply:   0%|          | 0/278 [00:00<?, ?it/s]"
      ]
     },
     "metadata": {},
     "output_type": "display_data"
    },
    {
     "name": "stdout",
     "output_type": "stream",
     "text": [
      "size of representation dataset  3291\n"
     ]
    },
    {
     "data": {
      "application/vnd.jupyter.widget-view+json": {
       "model_id": "ceb74b4336ab432b870ecf92a9983d31",
       "version_major": 2,
       "version_minor": 0
      },
      "text/plain": [
       "Pandas Apply:   0%|          | 0/288 [00:00<?, ?it/s]"
      ]
     },
     "metadata": {},
     "output_type": "display_data"
    },
    {
     "name": "stdout",
     "output_type": "stream",
     "text": [
      "size of representation dataset  3291\n"
     ]
    },
    {
     "data": {
      "application/vnd.jupyter.widget-view+json": {
       "model_id": "008b34fd1563444bb069d3fa10d0f27e",
       "version_major": 2,
       "version_minor": 0
      },
      "text/plain": [
       "Pandas Apply:   0%|          | 0/291 [00:00<?, ?it/s]"
      ]
     },
     "metadata": {},
     "output_type": "display_data"
    },
    {
     "name": "stdout",
     "output_type": "stream",
     "text": [
      "size of representation dataset  3291\n"
     ]
    },
    {
     "data": {
      "application/vnd.jupyter.widget-view+json": {
       "model_id": "6189c46767a44375a65528901bb14b87",
       "version_major": 2,
       "version_minor": 0
      },
      "text/plain": [
       "Pandas Apply:   0%|          | 0/291 [00:00<?, ?it/s]"
      ]
     },
     "metadata": {},
     "output_type": "display_data"
    },
    {
     "name": "stdout",
     "output_type": "stream",
     "text": [
      "size of representation dataset  3291\n",
      "element Inchikey suggested: LURVQQIWOUUICC-UHFFFAOYSA-N, Eval: 0.3462095303340996\n",
      "iteration 18 completed\n",
      "max fitness acquired: 0.5306924435373005\n",
      "min fitness acquired: -2.6063599913279623\n",
      "new fitness acquired: 0.3462095303340996\n"
     ]
    },
    {
     "data": {
      "application/vnd.jupyter.widget-view+json": {
       "model_id": "87b7a60570cd49dc834b61642a357ff5",
       "version_major": 2,
       "version_minor": 0
      },
      "text/plain": [
       "Pandas Apply:   0%|          | 0/69 [00:00<?, ?it/s]"
      ]
     },
     "metadata": {},
     "output_type": "display_data"
    },
    {
     "data": {
      "application/vnd.jupyter.widget-view+json": {
       "model_id": "802664acf9204e9b8dc0cacc4be39331",
       "version_major": 2,
       "version_minor": 0
      },
      "text/plain": [
       "Pandas Apply:   0%|          | 0/93 [00:00<?, ?it/s]"
      ]
     },
     "metadata": {},
     "output_type": "display_data"
    },
    {
     "name": "stdout",
     "output_type": "stream",
     "text": [
      "size of representation dataset  3291\n"
     ]
    },
    {
     "data": {
      "application/vnd.jupyter.widget-view+json": {
       "model_id": "b452bc5ab9a04b9f8119e7a4f1e39c5b",
       "version_major": 2,
       "version_minor": 0
      },
      "text/plain": [
       "Pandas Apply:   0%|          | 0/228 [00:00<?, ?it/s]"
      ]
     },
     "metadata": {},
     "output_type": "display_data"
    },
    {
     "name": "stdout",
     "output_type": "stream",
     "text": [
      "size of representation dataset  3291\n"
     ]
    },
    {
     "data": {
      "application/vnd.jupyter.widget-view+json": {
       "model_id": "a8065c60f5ea4e5a9774ff09c406fe64",
       "version_major": 2,
       "version_minor": 0
      },
      "text/plain": [
       "Pandas Apply:   0%|          | 0/244 [00:00<?, ?it/s]"
      ]
     },
     "metadata": {},
     "output_type": "display_data"
    },
    {
     "name": "stdout",
     "output_type": "stream",
     "text": [
      "size of representation dataset  3291\n"
     ]
    },
    {
     "data": {
      "application/vnd.jupyter.widget-view+json": {
       "model_id": "6a5217cdac2e43e688cab281ca3919e6",
       "version_major": 2,
       "version_minor": 0
      },
      "text/plain": [
       "Pandas Apply:   0%|          | 0/246 [00:00<?, ?it/s]"
      ]
     },
     "metadata": {},
     "output_type": "display_data"
    },
    {
     "name": "stdout",
     "output_type": "stream",
     "text": [
      "size of representation dataset  3291\n"
     ]
    },
    {
     "data": {
      "application/vnd.jupyter.widget-view+json": {
       "model_id": "f884989f52a04de8bccbb4f010b9103d",
       "version_major": 2,
       "version_minor": 0
      },
      "text/plain": [
       "Pandas Apply:   0%|          | 0/253 [00:00<?, ?it/s]"
      ]
     },
     "metadata": {},
     "output_type": "display_data"
    },
    {
     "data": {
      "application/vnd.jupyter.widget-view+json": {
       "model_id": "0cf2dcd8ea9b422a9e731aff6c79b9f3",
       "version_major": 2,
       "version_minor": 0
      },
      "text/plain": [
       "Pandas Apply:   0%|          | 0/3 [00:00<?, ?it/s]"
      ]
     },
     "metadata": {},
     "output_type": "display_data"
    },
    {
     "name": "stdout",
     "output_type": "stream",
     "text": [
      "size of representation dataset  3294\n"
     ]
    },
    {
     "data": {
      "application/vnd.jupyter.widget-view+json": {
       "model_id": "b31b72d9800142e3b88154f7fbd2f7b3",
       "version_major": 2,
       "version_minor": 0
      },
      "text/plain": [
       "Pandas Apply:   0%|          | 0/254 [00:00<?, ?it/s]"
      ]
     },
     "metadata": {},
     "output_type": "display_data"
    },
    {
     "data": {
      "application/vnd.jupyter.widget-view+json": {
       "model_id": "20de8f0ce352490bb4b2a7201c6b4358",
       "version_major": 2,
       "version_minor": 0
      },
      "text/plain": [
       "Pandas Apply:   0%|          | 0/1 [00:00<?, ?it/s]"
      ]
     },
     "metadata": {},
     "output_type": "display_data"
    },
    {
     "name": "stdout",
     "output_type": "stream",
     "text": [
      "size of representation dataset  3295\n"
     ]
    },
    {
     "data": {
      "application/vnd.jupyter.widget-view+json": {
       "model_id": "f558687658494523a7b73fcb9a765ed8",
       "version_major": 2,
       "version_minor": 0
      },
      "text/plain": [
       "Pandas Apply:   0%|          | 0/254 [00:00<?, ?it/s]"
      ]
     },
     "metadata": {},
     "output_type": "display_data"
    },
    {
     "name": "stdout",
     "output_type": "stream",
     "text": [
      "size of representation dataset  3295\n"
     ]
    },
    {
     "data": {
      "application/vnd.jupyter.widget-view+json": {
       "model_id": "8d327803432847818906965c8384f033",
       "version_major": 2,
       "version_minor": 0
      },
      "text/plain": [
       "Pandas Apply:   0%|          | 0/265 [00:00<?, ?it/s]"
      ]
     },
     "metadata": {},
     "output_type": "display_data"
    },
    {
     "data": {
      "application/vnd.jupyter.widget-view+json": {
       "model_id": "f4a4c7bfee74440ab7d2d8dbedbb5677",
       "version_major": 2,
       "version_minor": 0
      },
      "text/plain": [
       "Pandas Apply:   0%|          | 0/9 [00:00<?, ?it/s]"
      ]
     },
     "metadata": {},
     "output_type": "display_data"
    },
    {
     "name": "stdout",
     "output_type": "stream",
     "text": [
      "size of representation dataset  3304\n"
     ]
    },
    {
     "data": {
      "application/vnd.jupyter.widget-view+json": {
       "model_id": "2db624ed5e2b4b5e8092462d629c46ff",
       "version_major": 2,
       "version_minor": 0
      },
      "text/plain": [
       "Pandas Apply:   0%|          | 0/271 [00:00<?, ?it/s]"
      ]
     },
     "metadata": {},
     "output_type": "display_data"
    },
    {
     "name": "stdout",
     "output_type": "stream",
     "text": [
      "size of representation dataset  3304\n"
     ]
    },
    {
     "data": {
      "application/vnd.jupyter.widget-view+json": {
       "model_id": "60612947b4f042e99a1cf20192f440fe",
       "version_major": 2,
       "version_minor": 0
      },
      "text/plain": [
       "Pandas Apply:   0%|          | 0/278 [00:00<?, ?it/s]"
      ]
     },
     "metadata": {},
     "output_type": "display_data"
    },
    {
     "name": "stdout",
     "output_type": "stream",
     "text": [
      "size of representation dataset  3304\n"
     ]
    },
    {
     "data": {
      "application/vnd.jupyter.widget-view+json": {
       "model_id": "6876ec8e8a78439aa4b44dd425ba861d",
       "version_major": 2,
       "version_minor": 0
      },
      "text/plain": [
       "Pandas Apply:   0%|          | 0/285 [00:00<?, ?it/s]"
      ]
     },
     "metadata": {},
     "output_type": "display_data"
    },
    {
     "name": "stdout",
     "output_type": "stream",
     "text": [
      "size of representation dataset  3304\n",
      "element Inchikey suggested: DYKIZKQPRBCKBV-UHFFFAOYSA-N, Eval: 0.38068834852582123\n",
      "iteration 19 completed\n",
      "max fitness acquired: 0.5306924435373005\n",
      "min fitness acquired: -2.6063599913279623\n",
      "new fitness acquired: 0.38068834852582123\n"
     ]
    },
    {
     "data": {
      "text/plain": [
       "69"
      ]
     },
     "execution_count": 652,
     "metadata": {},
     "output_type": "execute_result"
    }
   ],
   "source": [
    "define_and_run_search(search_algorithm=BO_learned)"
   ]
  },
  {
   "cell_type": "code",
   "execution_count": 653,
   "metadata": {},
   "outputs": [
    {
     "name": "stdout",
     "output_type": "stream",
     "text": [
      "Inputs saved.\n",
      "element Inchikey suggested: HNHDTRASSNVVNW-UHFFFAOYSA-N, Eval: -1.5623889054288553\n",
      "element Inchikey suggested: JPKAFMFBWIWFEI-UHFFFAOYSA-N, Eval: 0.22142589414616032\n",
      "element Inchikey suggested: NUBQKCIBQUQBDC-KOKCXWAISA-N, Eval: -2.761049283499556\n",
      "element Inchikey suggested: UEDHWJXKIAXTAA-UHFFFAOYSA-N, Eval: -1.7565735756194751\n",
      "element Inchikey suggested: OECGNZDANRUYDO-RIDPHKLGSA-N, Eval: -2.469377361631282\n",
      "element Inchikey suggested: QTHIBERHBHTTPJ-UHFFFAOYSA-N, Eval: -2.6505503986742927\n",
      "element Inchikey suggested: DUTAOOGKQLFQCJ-UHFFFAOYSA-N, Eval: -2.4899979233571394\n",
      "element Inchikey suggested: MIQDDTCZGNSEGN-HQILZYGMSA-N, Eval: -2.019325861192966\n",
      "element Inchikey suggested: KWNAABOPSCHNLR-GFDBJVIDSA-N, Eval: 0.14497052633714624\n",
      "element Inchikey suggested: ZOSOHTBDDRGSAN-OWJFSFLBSA-N, Eval: -0.4675935208383425\n",
      "element Inchikey suggested: WZNNFEGQZMNFAX-UHFFFAOYSA-N, Eval: -0.037491256860859745\n",
      "element Inchikey suggested: LMLNPPIMDVCCGS-LTKUFQEZSA-N, Eval: 0.1071097121684349\n",
      "element Inchikey suggested: KFLVQUWECZHVJS-UHFFFAOYSA-N, Eval: -1.145156228353534\n",
      "element Inchikey suggested: BXGXYCYTSQBVJQ-UHFFFAOYSA-N, Eval: -3.3769315444204135\n",
      "element Inchikey suggested: YWUDOIWDEGGTMP-NUCCTBTRSA-N, Eval: -1.2744974177746045\n",
      "element Inchikey suggested: ZVBSKFDSQWVTNO-UHFFFAOYSA-N, Eval: 0.03518727175148195\n",
      "element Inchikey suggested: WBQPGLIOGKDDHH-UHFFFAOYSA-N, Eval: -3.8519266520291824\n",
      "element Inchikey suggested: HQQIZRFUDFMWDH-YQOHNZFASA-N, Eval: -0.9573210440940083\n",
      "element Inchikey suggested: CFNYDEGESFHUGH-UHFFFAOYSA-N, Eval: -1.4021152096053078\n",
      "element Inchikey suggested: JQPXDQQJWPWBQS-UHFFFAOYSA-N, Eval: -0.8366168192345069\n",
      "element Inchikey suggested: FGYHMXFQCZNKKG-DJBVYZKNSA-N, Eval: 0.0917964380204821\n",
      "element Inchikey suggested: FDXYPOLXDZXTEJ-UHFFFAOYSA-N, Eval: -3.1439083105017462\n",
      "element Inchikey suggested: KHIZUFRHLUQYPD-WJKJOUJKSA-N, Eval: -0.7321174307029001\n",
      "element Inchikey suggested: DJEYXELIEZCVJX-UHFFFAOYSA-N, Eval: -1.8305256500086022\n",
      "element Inchikey suggested: NREODFPUHVDFJH-UHFFFAOYSA-N, Eval: 0.41357930164181966\n",
      "element Inchikey suggested: FJYSCGJMKVLQQX-OWJVGSFTSA-N, Eval: -0.6092816599529621\n",
      "element Inchikey suggested: XYOHDEMHSDVBFI-SQMIFUJASA-N, Eval: 0.048768657377948\n",
      "element Inchikey suggested: CQJHTWDHKQBTKP-UHFFFAOYSA-N, Eval: 0.46698069341455073\n",
      "element Inchikey suggested: OVCYTNAYNHGXDD-UHFFFAOYSA-N, Eval: -0.29988476396722774\n",
      "element Inchikey suggested: JQFPMYDCBPLLFY-PTVHQQPNSA-N, Eval: -3.5590470471100466\n",
      "element Inchikey suggested: YXHLUMIKLXGMLT-UHFFFAOYSA-N, Eval: -2.500984594873927\n",
      "element Inchikey suggested: NKXJFBNSUUSTAE-UHFFFAOYSA-N, Eval: -3.3307161432802643\n",
      "element Inchikey suggested: PBKAFDGZDQKGPY-RHCMASHESA-N, Eval: -1.642244915146621\n",
      "element Inchikey suggested: TUHBDSZKTBANQA-FONZVJJCSA-N, Eval: -1.2747949701840198\n",
      "element Inchikey suggested: GTLCQYAJAFSNNA-UHFFFAOYSA-N, Eval: -0.8074110485208279\n",
      "element Inchikey suggested: ILAMUTVRCALJSV-UHFFFAOYSA-N, Eval: -4.415988758288394\n",
      "element Inchikey suggested: GBIINLCFRFQCJW-HBHSWBPBSA-N, Eval: -0.764134946524832\n",
      "element Inchikey suggested: KWPPRXBNUYJTAY-UHFFFAOYSA-N, Eval: -2.3463159367181463\n",
      "element Inchikey suggested: BOAFTGWBEJVLIL-UHFFFAOYSA-N, Eval: -2.1218438982798835\n",
      "element Inchikey suggested: FVLUJNVVXSPYTO-UHFFFAOYSA-N, Eval: 0.3635888001222577\n",
      "element Inchikey suggested: HPADPXIWXTYHDA-VPSBLXEASA-N, Eval: 0.2386638582716215\n",
      "element Inchikey suggested: ZYLYHFGCSZKSJA-UHFFFAOYSA-N, Eval: 0.3868460774320013\n",
      "element Inchikey suggested: NOSINIYGSJKZGW-KFEOWSDQSA-N, Eval: -1.9752290702743325\n",
      "element Inchikey suggested: CMQRPQABJDKFFA-UHFFFAOYSA-N, Eval: -3.253368280269024\n",
      "element Inchikey suggested: ITTBHKPVFPTCPI-CIEWLVHQSA-N, Eval: 0.21061050907200873\n",
      "element Inchikey suggested: FMYHLRVULUGZQK-DTMWMUKOSA-N, Eval: -1.5753058400047766\n",
      "element Inchikey suggested: ATZAADNDPLANOP-UHFFFAOYSA-N, Eval: -1.155072080004134\n",
      "element Inchikey suggested: SRLHHCVPMZMHAL-UHFFFAOYSA-N, Eval: -1.686822081683498\n",
      "element Inchikey suggested: JVDUQTVNYGNXLC-UHFFFAOYSA-N, Eval: -1.4782074925878002\n",
      "element Inchikey suggested: SJMNALSHYMOEMF-XOHYFVHRSA-N, Eval: -1.1824932284381062\n",
      "max fitness acquired: 0.46698069341455073\n",
      "min fitness acquired: -4.415988758288394\n",
      "element Inchikey suggested: CKGHVGWJUOOQME-UHFFFAOYSA-N, Eval: 0.441705063132223\n",
      "iteration 0 completed\n",
      "max fitness acquired: 0.46698069341455073\n",
      "min fitness acquired: -4.415988758288394\n",
      "new fitness acquired: 0.441705063132223\n",
      "element Inchikey suggested: OXQSDQASTDTCKY-IHMICIGVSA-N, Eval: 0.07146350836291016\n",
      "iteration 1 completed\n",
      "max fitness acquired: 0.46698069341455073\n",
      "min fitness acquired: -4.415988758288394\n",
      "new fitness acquired: 0.07146350836291016\n",
      "element Inchikey suggested: SQDGTLUCDALDEQ-UHFFFAOYSA-N, Eval: -0.6376562832448294\n",
      "iteration 2 completed\n",
      "max fitness acquired: 0.46698069341455073\n",
      "min fitness acquired: -4.415988758288394\n",
      "new fitness acquired: -0.6376562832448294\n",
      "element Inchikey suggested: VBCJAUHBFXGUTG-UHFFFAOYSA-N, Eval: 0.03232364760152906\n",
      "iteration 3 completed\n",
      "max fitness acquired: 0.46698069341455073\n",
      "min fitness acquired: -4.415988758288394\n",
      "new fitness acquired: 0.03232364760152906\n",
      "element Inchikey suggested: DQPHCANXQFCDNC-UHFFFAOYSA-N, Eval: 0.3161424136115407\n",
      "iteration 4 completed\n",
      "max fitness acquired: 0.46698069341455073\n",
      "min fitness acquired: -4.415988758288394\n",
      "new fitness acquired: 0.3161424136115407\n",
      "element Inchikey suggested: QCPAIXNPKCXUFK-UHFFFAOYSA-N, Eval: 0.32770002527278397\n",
      "iteration 5 completed\n",
      "max fitness acquired: 0.46698069341455073\n",
      "min fitness acquired: -4.415988758288394\n",
      "new fitness acquired: 0.32770002527278397\n",
      "element Inchikey suggested: NFGHOAIMIAATIU-UHFFFAOYSA-N, Eval: 0.3862947392069247\n",
      "iteration 6 completed\n",
      "max fitness acquired: 0.46698069341455073\n",
      "min fitness acquired: -4.415988758288394\n",
      "new fitness acquired: 0.3862947392069247\n",
      "element Inchikey suggested: OWMHJSZTZHESRH-UHFFFAOYSA-N, Eval: -0.08702044582409074\n",
      "iteration 7 completed\n",
      "max fitness acquired: 0.46698069341455073\n",
      "min fitness acquired: -4.415988758288394\n",
      "new fitness acquired: -0.08702044582409074\n",
      "element Inchikey suggested: IQDNYVLVSNEMPM-UHFFFAOYSA-N, Eval: 0.18649119018583127\n",
      "iteration 8 completed\n",
      "max fitness acquired: 0.46698069341455073\n",
      "min fitness acquired: -4.415988758288394\n",
      "new fitness acquired: 0.18649119018583127\n",
      "element Inchikey suggested: AKMPIVXIDREDMG-UHFFFAOYSA-N, Eval: 0.06572852481701208\n",
      "iteration 9 completed\n",
      "max fitness acquired: 0.46698069341455073\n",
      "min fitness acquired: -4.415988758288394\n",
      "new fitness acquired: 0.06572852481701208\n",
      "element Inchikey suggested: WNKJANDIZAMTNZ-UHFFFAOYSA-N, Eval: 0.1307827072854748\n",
      "iteration 10 completed\n",
      "max fitness acquired: 0.46698069341455073\n",
      "min fitness acquired: -4.415988758288394\n",
      "new fitness acquired: 0.1307827072854748\n",
      "element Inchikey suggested: BRNMXKTWQWDRBS-UHFFFAOYSA-N, Eval: 0.13512288546710582\n",
      "iteration 11 completed\n",
      "max fitness acquired: 0.46698069341455073\n",
      "min fitness acquired: -4.415988758288394\n",
      "new fitness acquired: 0.13512288546710582\n",
      "element Inchikey suggested: KRTGXKPDGINPEA-UHFFFAOYSA-N, Eval: 0.25032914791513616\n",
      "iteration 12 completed\n",
      "max fitness acquired: 0.46698069341455073\n",
      "min fitness acquired: -4.415988758288394\n",
      "new fitness acquired: 0.25032914791513616\n",
      "element Inchikey suggested: NRLSBUPGFOBZAQ-UHFFFAOYSA-N, Eval: 0.4822635378627882\n",
      "iteration 13 completed\n",
      "max fitness acquired: 0.4822635378627882\n",
      "min fitness acquired: -4.415988758288394\n",
      "new fitness acquired: 0.4822635378627882\n",
      "element Inchikey suggested: HGNOARYCHDUQSW-BDQLZKRKSA-N, Eval: -0.6058745092399029\n",
      "iteration 14 completed\n",
      "max fitness acquired: 0.4822635378627882\n",
      "min fitness acquired: -4.415988758288394\n",
      "new fitness acquired: -0.6058745092399029\n",
      "element Inchikey suggested: WUWCSCHPYPBTOD-NXEFEZKASA-N, Eval: 0.2875231441749553\n",
      "iteration 15 completed\n",
      "max fitness acquired: 0.4822635378627882\n",
      "min fitness acquired: -4.415988758288394\n",
      "new fitness acquired: 0.2875231441749553\n",
      "element Inchikey suggested: MGTTVEFRAQYWOE-UHFFFAOYSA-N, Eval: 0.26352627598947653\n",
      "iteration 16 completed\n",
      "max fitness acquired: 0.4822635378627882\n",
      "min fitness acquired: -4.415988758288394\n",
      "new fitness acquired: 0.26352627598947653\n",
      "element Inchikey suggested: PHUDECRKHFNSCW-UHFFFAOYSA-N, Eval: 0.5322918675004042\n",
      "iteration 17 completed\n",
      "max fitness acquired: 0.5322918675004042\n",
      "min fitness acquired: -4.415988758288394\n",
      "new fitness acquired: 0.5322918675004042\n",
      "element Inchikey suggested: YAACOQLZXQMDEM-UHFFFAOYSA-N, Eval: 0.3910113157273466\n",
      "iteration 18 completed\n",
      "max fitness acquired: 0.5322918675004042\n",
      "min fitness acquired: -4.415988758288394\n",
      "new fitness acquired: 0.3910113157273466\n",
      "element Inchikey suggested: CHCBZIPVRCCVSG-UHFFFAOYSA-N, Eval: 0.35651736414919055\n",
      "iteration 19 completed\n",
      "max fitness acquired: 0.5322918675004042\n",
      "min fitness acquired: -4.415988758288394\n",
      "new fitness acquired: 0.35651736414919055\n"
     ]
    },
    {
     "data": {
      "text/plain": [
       "69"
      ]
     },
     "execution_count": 653,
     "metadata": {},
     "output_type": "execute_result"
    }
   ],
   "source": [
    "define_and_run_search(search_algorithm=BO_Mord)"
   ]
  },
  {
   "cell_type": "markdown",
   "metadata": {},
   "source": [
    "## using a helper function "
   ]
  },
  {
   "cell_type": "code",
   "execution_count": 654,
   "metadata": {},
   "outputs": [
    {
     "name": "stdout",
     "output_type": "stream",
     "text": [
      "src/dev_scripts/run_search_new.py  --case BO_precursor --test_name new_target --target target --aim maximise --benchmark 1 --num_iteration 20 --num_elem_initialisation 50 --which_acquisition EI --df_path data/Full_dataset/New_target07072024.csv --df_representation_path data/Prescursor_data/df_frag_xtb_properties.pkl --config_dir /rds/general/user/ma11115/home/Geom3D/Geom3D/training/SchNet_frag/ --search_space_loc data/input/STK_search_space/search_space_test.pkl --frag_properties selected --lim_counter 10 --budget None\n",
      " number of fragment 6\n",
      "True benchmark\n",
      "BO_precursor   case  \n",
      "Index(['Atom_num', 'HOMO (eV)', 'LUMO (eV)', 'HOMO_LUMO_GAP (eV)', 'IP (eV)',\n",
      "       'EA (eV)', '1 Excited state Energy (eV)', '1 Excited state Osc',\n",
      "       '2 Excited state Energy (eV)', '2 Excited state Osc',\n",
      "       '3 Excited state Energy (eV)', '3 Excited state Osc'],\n",
      "      dtype='object')\n",
      "Inputs saved.\n",
      "element Inchikey suggested: GHRJIDDTLUXOMV-OBXPLWTPSA-N, Eval: -1.6650894602110369\n",
      "element Inchikey suggested: DJLXEOHSXHPVLR-UHFFFAOYSA-N, Eval: 0.0921248068593645\n",
      "element Inchikey suggested: WRVPXYRKSHRDIH-YTJPZGGZSA-N, Eval: -1.713188974794737\n",
      "element Inchikey suggested: FHPMMAGLQGAAHB-IMVJZMAJSA-N, Eval: -1.314833593360737\n",
      "element Inchikey suggested: YPQOYTCEKSZKCH-UHFFFAOYSA-N, Eval: -0.4902258241391453\n",
      "element Inchikey suggested: QVGBOXZGWQVHFH-KQOYITCJSA-N, Eval: -1.7658139530919856\n",
      "element Inchikey suggested: WXSVIAXKYNMCDY-UHFFFAOYSA-N, Eval: -1.4336463300658582\n",
      "element Inchikey suggested: FRRWTHGMGFDDJG-UHFFFAOYSA-N, Eval: 0.2520608599291554\n",
      "element Inchikey suggested: VFSACEBVWLGJSR-DVAGYCIVSA-N, Eval: -1.184478626217357\n",
      "element Inchikey suggested: CHCJVWPGBAVAJL-UHFFFAOYSA-N, Eval: 0.4923646920040393\n",
      "element Inchikey suggested: RUZXNQIUBLCJDI-HBDZPKCRSA-N, Eval: -2.1189557099644256\n",
      "element Inchikey suggested: SRUKHMMETOCROR-UHFFFAOYSA-N, Eval: -1.4779920726131586\n",
      "element Inchikey suggested: CAHZWZYHUFJRAP-UHFFFAOYSA-N, Eval: 0.2765453607723556\n",
      "element Inchikey suggested: KLKGNWLFXNUSJC-ABBZURPVSA-N, Eval: -2.0813778442789914\n",
      "element Inchikey suggested: HWYILENGIOCIFV-UHFFFAOYSA-N, Eval: -0.2409790353397097\n",
      "element Inchikey suggested: OSUIAOLPIGSUCO-UHFFFAOYSA-N, Eval: -0.4022043430880178\n",
      "element Inchikey suggested: JRMJMJXWLGDTKN-UHFFFAOYSA-N, Eval: -2.3786335044061566\n",
      "element Inchikey suggested: MLRVXTWUORBYLF-XXPMDTSPSA-N, Eval: -0.9641124261352452\n",
      "element Inchikey suggested: RPOUKIYRJPBHNT-UHFFFAOYSA-N, Eval: -1.3176864715952266\n",
      "element Inchikey suggested: JEGNLQDMMHNOSB-UHFFFAOYSA-N, Eval: -1.2973363584949014\n",
      "element Inchikey suggested: MTFCEHPIDSUOCW-BYDMSBDESA-N, Eval: -0.3990417112108974\n",
      "element Inchikey suggested: VKRFTUVLLQFMJI-OSGURRSGSA-N, Eval: -1.5759867050007148\n",
      "element Inchikey suggested: UXPAAGNAGAOVHA-TXAZAFTHSA-N, Eval: -0.8900220084641874\n",
      "element Inchikey suggested: OTLGNONIIOBFEJ-UHFFFAOYSA-N, Eval: -3.4774400086720374\n",
      "element Inchikey suggested: BLGATCIULKAWMC-XKWWPXSDSA-N, Eval: -0.5401462513069912\n",
      "element Inchikey suggested: SXNSONRMFQIPCY-IRWBXMRWSA-N, Eval: -1.357719791637999\n",
      "element Inchikey suggested: YUOJVVFIBUYRPR-UHFFFAOYSA-N, Eval: -1.113507496238705\n",
      "element Inchikey suggested: ZSPIZCMKLRGNQF-UHFFFAOYSA-N, Eval: -0.8289736364154882\n",
      "element Inchikey suggested: UYXSFHFZZCUEOX-UHFFFAOYSA-N, Eval: -0.4902853876657534\n",
      "element Inchikey suggested: QNEHIARTJKKLGP-KXYJPHMPSA-N, Eval: -2.4597462879505576\n",
      "element Inchikey suggested: WBXJLXWYXLFBDN-OKCVXOCRSA-N, Eval: -1.2270976463731738\n",
      "element Inchikey suggested: VUFAKFVUTUIXAP-UHFFFAOYSA-N, Eval: -3.3287874862246567\n",
      "element Inchikey suggested: UGDQYPCCTLYZNZ-UHFFFAOYSA-N, Eval: -1.9362865683724229\n",
      "element Inchikey suggested: BLUQENRYYYFCQA-UHFFFAOYSA-N, Eval: -1.1245985252211068\n",
      "element Inchikey suggested: HWBVFUNCHGNVDN-NCDSEBCXSA-N, Eval: -3.142941968657781\n",
      "element Inchikey suggested: FPUDNUHCPGEZAW-UHFFFAOYSA-N, Eval: -1.4348528692484877\n",
      "element Inchikey suggested: MAVCVELGXUQKRI-UHFFFAOYSA-N, Eval: -1.3765078095793326\n",
      "element Inchikey suggested: XRZJLRCJFAXQJC-UHFFFAOYSA-N, Eval: -2.8182107430453627\n",
      "element Inchikey suggested: FBGYQNVAUVLCFI-UHFFFAOYSA-N, Eval: -0.4176306232361577\n",
      "element Inchikey suggested: LOKMHAGVEZPUIJ-UHFFFAOYSA-N, Eval: -0.6227498598140562\n",
      "element Inchikey suggested: WOXCBVGWZVWANZ-UHFFFAOYSA-N, Eval: -1.5227435063953954\n",
      "element Inchikey suggested: OHCCXZNHBWLUEN-IVNCECFKSA-N, Eval: -2.050268725373937\n",
      "element Inchikey suggested: GEVCBMILMKCVCV-UHFFFAOYSA-N, Eval: 0.3430594704548549\n",
      "element Inchikey suggested: KCGPCQTVEXIOBD-UHFFFAOYSA-N, Eval: -0.8284233637312588\n",
      "element Inchikey suggested: PEZCCSVQZVTIAK-KPBBBUKSSA-N, Eval: -3.612280705266081\n",
      "element Inchikey suggested: AUBQIURWDDBBLI-UHFFFAOYSA-N, Eval: 0.0714426814583264\n",
      "element Inchikey suggested: HRRCHUONEIJHSP-UHFFFAOYSA-N, Eval: -0.8550120849661593\n",
      "element Inchikey suggested: ZUCKFNKAPBYXCQ-UHFFFAOYSA-N, Eval: -1.6721286541302256\n",
      "element Inchikey suggested: YJBDZANZWFANFT-RIKIPNEESA-N, Eval: -2.877799828238083\n",
      "element Inchikey suggested: SKZNENWTBHUDQT-UHFFFAOYSA-N, Eval: -2.1885989762158893\n",
      "max fitness acquired: 0.4923646920040393\n",
      "min fitness acquired: -3.612280705266081\n",
      "element Inchikey suggested: MSVYXTNGKNKCJT-UHFFFAOYSA-N, Eval: 0.4215562527564931\n",
      "iteration 0 completed\n",
      "max fitness acquired: 0.4923646920040393\n",
      "min fitness acquired: -3.612280705266081\n",
      "new fitness acquired: 0.4215562527564931\n",
      "element Inchikey suggested: WIHCBPMDDRHXGK-UHFFFAOYSA-N, Eval: 0.4197762253710717\n",
      "iteration 1 completed\n",
      "max fitness acquired: 0.4923646920040393\n",
      "min fitness acquired: -3.612280705266081\n",
      "new fitness acquired: 0.4197762253710717\n",
      "element Inchikey suggested: SBXFJIRSJAUATH-UHFFFAOYSA-N, Eval: 0.2921687446257941\n",
      "iteration 2 completed\n",
      "max fitness acquired: 0.4923646920040393\n",
      "min fitness acquired: -3.612280705266081\n",
      "new fitness acquired: 0.2921687446257941\n",
      "element Inchikey suggested: IUFOHLKFIQOSGX-UHFFFAOYSA-N, Eval: 0.3169736147944317\n",
      "iteration 3 completed\n",
      "max fitness acquired: 0.4923646920040393\n",
      "min fitness acquired: -3.612280705266081\n",
      "new fitness acquired: 0.3169736147944317\n",
      "element Inchikey suggested: MSLFNZREAYJULO-UHFFFAOYSA-N, Eval: 0.3589090227674827\n",
      "iteration 4 completed\n",
      "max fitness acquired: 0.4923646920040393\n",
      "min fitness acquired: -3.612280705266081\n",
      "new fitness acquired: 0.3589090227674827\n",
      "element Inchikey suggested: BTSKJKMEYFLWRT-UHFFFAOYSA-N, Eval: 0.0106006628157212\n",
      "iteration 5 completed\n",
      "max fitness acquired: 0.4923646920040393\n",
      "min fitness acquired: -3.612280705266081\n",
      "new fitness acquired: 0.0106006628157212\n",
      "element Inchikey suggested: UFSWECJYOKQVPD-UHFFFAOYSA-N, Eval: -2.7137754016455387\n",
      "iteration 6 completed\n",
      "max fitness acquired: 0.4923646920040393\n",
      "min fitness acquired: -3.612280705266081\n",
      "new fitness acquired: -2.7137754016455387\n",
      "element Inchikey suggested: ZIPKCAUVMWXDRR-UHFFFAOYSA-N, Eval: -0.0743816899004172\n",
      "iteration 7 completed\n",
      "max fitness acquired: 0.4923646920040393\n",
      "min fitness acquired: -3.612280705266081\n",
      "new fitness acquired: -0.0743816899004172\n",
      "element Inchikey suggested: FHNJJSVCKSVOSO-UHFFFAOYSA-N, Eval: 0.3763811138388935\n",
      "iteration 8 completed\n",
      "max fitness acquired: 0.4923646920040393\n",
      "min fitness acquired: -3.612280705266081\n",
      "new fitness acquired: 0.3763811138388935\n",
      "element Inchikey suggested: CAABOZNAPDNAFL-UHFFFAOYSA-N, Eval: 0.198404727392379\n",
      "iteration 9 completed\n",
      "max fitness acquired: 0.4923646920040393\n",
      "min fitness acquired: -3.612280705266081\n",
      "new fitness acquired: 0.198404727392379\n",
      "element Inchikey suggested: MPUANGGWKQMNRE-UHFFFAOYSA-N, Eval: 0.4091433625475515\n",
      "iteration 10 completed\n",
      "max fitness acquired: 0.4923646920040393\n",
      "min fitness acquired: -3.612280705266081\n",
      "new fitness acquired: 0.4091433625475515\n",
      "element Inchikey suggested: NQXPQUJLEKWMAK-UHFFFAOYSA-N, Eval: 0.3418410989623714\n",
      "iteration 11 completed\n",
      "max fitness acquired: 0.4923646920040393\n",
      "min fitness acquired: -3.612280705266081\n",
      "new fitness acquired: 0.3418410989623714\n",
      "element Inchikey suggested: GPOWYVYXMVLOOK-UHFFFAOYSA-N, Eval: 0.3681829503219479\n",
      "iteration 12 completed\n",
      "max fitness acquired: 0.4923646920040393\n",
      "min fitness acquired: -3.612280705266081\n",
      "new fitness acquired: 0.3681829503219479\n",
      "element Inchikey suggested: KSOSAVRMOQJROM-UHFFFAOYSA-N, Eval: 0.1188151300602504\n",
      "iteration 13 completed\n",
      "max fitness acquired: 0.4923646920040393\n",
      "min fitness acquired: -3.612280705266081\n",
      "new fitness acquired: 0.1188151300602504\n",
      "element Inchikey suggested: RDNISQODLYBJSF-UHFFFAOYSA-N, Eval: 0.0325060054305318\n",
      "iteration 14 completed\n",
      "max fitness acquired: 0.4923646920040393\n",
      "min fitness acquired: -3.612280705266081\n",
      "new fitness acquired: 0.0325060054305318\n",
      "element Inchikey suggested: NIHQMXAMUXFLOQ-UHFFFAOYSA-N, Eval: -0.1202569746687055\n",
      "iteration 15 completed\n",
      "max fitness acquired: 0.4923646920040393\n",
      "min fitness acquired: -3.612280705266081\n",
      "new fitness acquired: -0.1202569746687055\n",
      "element Inchikey suggested: VGQHDGVTEALAJJ-UHFFFAOYSA-N, Eval: 0.393914916803126\n",
      "iteration 16 completed\n",
      "max fitness acquired: 0.4923646920040393\n",
      "min fitness acquired: -3.612280705266081\n",
      "new fitness acquired: 0.393914916803126\n",
      "element Inchikey suggested: MPQYJQJDCCZIMT-UHFFFAOYSA-N, Eval: 0.56291582540778\n",
      "iteration 17 completed\n",
      "max fitness acquired: 0.56291582540778\n",
      "min fitness acquired: -3.612280705266081\n",
      "new fitness acquired: 0.56291582540778\n",
      "element Inchikey suggested: ANLJMRRWNPYUCF-UHFFFAOYSA-N, Eval: 0.531037896131476\n",
      "iteration 18 completed\n",
      "max fitness acquired: 0.56291582540778\n",
      "min fitness acquired: -3.612280705266081\n",
      "new fitness acquired: 0.531037896131476\n",
      "element Inchikey suggested: OQZQILSMCVFZSW-UHFFFAOYSA-N, Eval: 0.2186507868518528\n",
      "iteration 19 completed\n",
      "max fitness acquired: 0.56291582540778\n",
      "min fitness acquired: -3.612280705266081\n",
      "new fitness acquired: 0.2186507868518528\n"
     ]
    },
    {
     "data": {
      "text/plain": [
       "<Figure size 640x480 with 0 Axes>"
      ]
     },
     "metadata": {},
     "output_type": "display_data"
    }
   ],
   "source": [
    "# run a search experiment with the new target\n",
    "from stk_search.utils import run_hpc_utils\n",
    "importlib.reload(run_hpc_utils)\n",
    "case_name = 'BO_precursor'#'BO_learned'\n",
    "df_total_path = \"data/Full_dataset/New_target07072024.csv\"\n",
    "df_representation_path =\"data/Prescursor_data/df_frag_xtb_properties.pkl\"\n",
    "exp_name = \"new_target\"\n",
    "search_space_loc = \"data/input/STK_search_space/search_space_test.pkl\"\n",
    "which_acquisition = \"EI\"\n",
    "\n",
    "string_to_run_notbook, script_qsub = run_hpc_utils.generate_string_run(\n",
    "                case=case_name,\n",
    "                target=\"target\",\n",
    "                aim='maximise',\n",
    "                num_elem_initialisation=50,\n",
    "                num_iteration=20,\n",
    "                df_path=df_total_path,\n",
    "                benchmark=True,\n",
    "                test_name= exp_name,\n",
    "                df_representation_path=df_representation_path,\n",
    "                frag_properties=\"selected\",\n",
    "                search_space_loc = search_space_loc,\n",
    "                which_acquisition = which_acquisition,\n",
    "            )\n",
    "\n",
    "%run $string_to_run_notbook"
   ]
  },
  {
   "cell_type": "code",
   "execution_count": null,
   "metadata": {},
   "outputs": [],
   "source": []
  },
  {
   "cell_type": "markdown",
   "metadata": {},
   "source": [
    "# load results and plot some metrics"
   ]
  },
  {
   "cell_type": "code",
   "execution_count": 655,
   "metadata": {},
   "outputs": [
    {
     "name": "stdout",
     "output_type": "stream",
     "text": [
      "(7, 28)\n"
     ]
    },
    {
     "data": {
      "text/html": [
       "<div>\n",
       "<style scoped>\n",
       "    .dataframe tbody tr th:only-of-type {\n",
       "        vertical-align: middle;\n",
       "    }\n",
       "\n",
       "    .dataframe tbody tr th {\n",
       "        vertical-align: top;\n",
       "    }\n",
       "\n",
       "    .dataframe thead th {\n",
       "        text-align: right;\n",
       "    }\n",
       "</style>\n",
       "<table border=\"1\" class=\"dataframe\">\n",
       "  <thead>\n",
       "    <tr style=\"text-align: right;\">\n",
       "      <th></th>\n",
       "      <th>search_space_loc</th>\n",
       "      <th>search_algorithm</th>\n",
       "      <th>objective_function</th>\n",
       "      <th>number_of_iterations</th>\n",
       "      <th>verbose</th>\n",
       "      <th>num_elem_initialisation</th>\n",
       "      <th>benchmark</th>\n",
       "      <th>df_total</th>\n",
       "      <th>df_representation</th>\n",
       "      <th>frag_properties</th>\n",
       "      <th>...</th>\n",
       "      <th>test_name</th>\n",
       "      <th>case</th>\n",
       "      <th>target_name</th>\n",
       "      <th>aim</th>\n",
       "      <th>lim_counter</th>\n",
       "      <th>df_path</th>\n",
       "      <th>df_representation_path</th>\n",
       "      <th>dataset_representation_path</th>\n",
       "      <th>budget</th>\n",
       "      <th>search_exp_file</th>\n",
       "    </tr>\n",
       "  </thead>\n",
       "  <tbody>\n",
       "    <tr>\n",
       "      <th>0</th>\n",
       "      <td>data/input/STK_search_space/search_space_test.pkl</td>\n",
       "      <td>Evolution_algorithm</td>\n",
       "      <td>&lt;stk_search.Objective_function.Look_up_table o...</td>\n",
       "      <td>20.0</td>\n",
       "      <td>True</td>\n",
       "      <td>50</td>\n",
       "      <td>True</td>\n",
       "      <td>data/Full_dataset/New_target07072024.csv</td>\n",
       "      <td>data/Prescursor_data/df_frag_xtb_properties.pkl</td>\n",
       "      <td>[PCA_0, PCA_1, PCA_2, PCA_3, PCA_4, PCA_5, PCA...</td>\n",
       "      <td>...</td>\n",
       "      <td>NaN</td>\n",
       "      <td>NaN</td>\n",
       "      <td>NaN</td>\n",
       "      <td>NaN</td>\n",
       "      <td>NaN</td>\n",
       "      <td>NaN</td>\n",
       "      <td>NaN</td>\n",
       "      <td>NaN</td>\n",
       "      <td>NaN</td>\n",
       "      <td>data/output/search_experiment/6_frag/test/2024...</td>\n",
       "    </tr>\n",
       "    <tr>\n",
       "      <th>1</th>\n",
       "      <td>data/input/STK_search_space/search_space_test.pkl</td>\n",
       "      <td>Evolution_algorithm</td>\n",
       "      <td>&lt;stk_search.Objective_function.Look_up_table o...</td>\n",
       "      <td>20.0</td>\n",
       "      <td>True</td>\n",
       "      <td>50</td>\n",
       "      <td>True</td>\n",
       "      <td>data/Full_dataset/New_target07072024.csv</td>\n",
       "      <td>data/Prescursor_data/df_frag_xtb_properties.pkl</td>\n",
       "      <td>[PCA_0, PCA_1, PCA_2, PCA_3, PCA_4, PCA_5, PCA...</td>\n",
       "      <td>...</td>\n",
       "      <td>NaN</td>\n",
       "      <td>NaN</td>\n",
       "      <td>NaN</td>\n",
       "      <td>NaN</td>\n",
       "      <td>NaN</td>\n",
       "      <td>NaN</td>\n",
       "      <td>NaN</td>\n",
       "      <td>NaN</td>\n",
       "      <td>NaN</td>\n",
       "      <td>data/output/search_experiment/6_frag/test/2024...</td>\n",
       "    </tr>\n",
       "    <tr>\n",
       "      <th>2</th>\n",
       "      <td>data/input/STK_search_space/search_space_test.pkl</td>\n",
       "      <td>Bayesian_Optimisation</td>\n",
       "      <td>&lt;stk_search.Objective_function.Look_up_table o...</td>\n",
       "      <td>20.0</td>\n",
       "      <td>True</td>\n",
       "      <td>50</td>\n",
       "      <td>True</td>\n",
       "      <td>data/Full_dataset/New_target07072024.csv</td>\n",
       "      <td>data/Prescursor_data/df_frag_xtb_properties.pkl</td>\n",
       "      <td>[PCA_0, PCA_1, PCA_2, PCA_3, PCA_4, PCA_5, PCA...</td>\n",
       "      <td>...</td>\n",
       "      <td>NaN</td>\n",
       "      <td>NaN</td>\n",
       "      <td>NaN</td>\n",
       "      <td>NaN</td>\n",
       "      <td>NaN</td>\n",
       "      <td>NaN</td>\n",
       "      <td>NaN</td>\n",
       "      <td>NaN</td>\n",
       "      <td>NaN</td>\n",
       "      <td>data/output/search_experiment/6_frag/test/2024...</td>\n",
       "    </tr>\n",
       "    <tr>\n",
       "      <th>3</th>\n",
       "      <td>data/input/STK_search_space/search_space_test.pkl</td>\n",
       "      <td>Bayesian_Optimisation</td>\n",
       "      <td>&lt;stk_search.Objective_function.Look_up_table o...</td>\n",
       "      <td>20.0</td>\n",
       "      <td>True</td>\n",
       "      <td>50</td>\n",
       "      <td>True</td>\n",
       "      <td>data/Full_dataset/New_target07072024.csv</td>\n",
       "      <td>data/Prescursor_data/df_frag_xtb_properties.pkl</td>\n",
       "      <td>[PCA_0, PCA_1, PCA_2, PCA_3, PCA_4, PCA_5, PCA...</td>\n",
       "      <td>...</td>\n",
       "      <td>NaN</td>\n",
       "      <td>NaN</td>\n",
       "      <td>NaN</td>\n",
       "      <td>NaN</td>\n",
       "      <td>NaN</td>\n",
       "      <td>NaN</td>\n",
       "      <td>NaN</td>\n",
       "      <td>NaN</td>\n",
       "      <td>NaN</td>\n",
       "      <td>data/output/search_experiment/6_frag/test/2024...</td>\n",
       "    </tr>\n",
       "    <tr>\n",
       "      <th>4</th>\n",
       "      <td>data/input/STK_search_space/search_space_test.pkl</td>\n",
       "      <td>NaN</td>\n",
       "      <td>NaN</td>\n",
       "      <td>NaN</td>\n",
       "      <td>NaN</td>\n",
       "      <td>50</td>\n",
       "      <td>True</td>\n",
       "      <td>NaN</td>\n",
       "      <td>NaN</td>\n",
       "      <td>selected</td>\n",
       "      <td>...</td>\n",
       "      <td>new_target</td>\n",
       "      <td>BO_precursor</td>\n",
       "      <td>target</td>\n",
       "      <td>maximise</td>\n",
       "      <td>10.0</td>\n",
       "      <td>data/Full_dataset/New_target07072024.csv</td>\n",
       "      <td>data/Prescursor_data/df_frag_xtb_properties.pkl</td>\n",
       "      <td></td>\n",
       "      <td>NaN</td>\n",
       "      <td>data/output/search_experiment/6_frag/new_targe...</td>\n",
       "    </tr>\n",
       "  </tbody>\n",
       "</table>\n",
       "<p>5 rows × 28 columns</p>\n",
       "</div>"
      ],
      "text/plain": [
       "                                    search_space_loc       search_algorithm  \\\n",
       "0  data/input/STK_search_space/search_space_test.pkl    Evolution_algorithm   \n",
       "1  data/input/STK_search_space/search_space_test.pkl    Evolution_algorithm   \n",
       "2  data/input/STK_search_space/search_space_test.pkl  Bayesian_Optimisation   \n",
       "3  data/input/STK_search_space/search_space_test.pkl  Bayesian_Optimisation   \n",
       "4  data/input/STK_search_space/search_space_test.pkl                    NaN   \n",
       "\n",
       "                                  objective_function  number_of_iterations  \\\n",
       "0  <stk_search.Objective_function.Look_up_table o...                  20.0   \n",
       "1  <stk_search.Objective_function.Look_up_table o...                  20.0   \n",
       "2  <stk_search.Objective_function.Look_up_table o...                  20.0   \n",
       "3  <stk_search.Objective_function.Look_up_table o...                  20.0   \n",
       "4                                                NaN                   NaN   \n",
       "\n",
       "  verbose  num_elem_initialisation  benchmark  \\\n",
       "0    True                       50       True   \n",
       "1    True                       50       True   \n",
       "2    True                       50       True   \n",
       "3    True                       50       True   \n",
       "4     NaN                       50       True   \n",
       "\n",
       "                                   df_total  \\\n",
       "0  data/Full_dataset/New_target07072024.csv   \n",
       "1  data/Full_dataset/New_target07072024.csv   \n",
       "2  data/Full_dataset/New_target07072024.csv   \n",
       "3  data/Full_dataset/New_target07072024.csv   \n",
       "4                                       NaN   \n",
       "\n",
       "                                 df_representation  \\\n",
       "0  data/Prescursor_data/df_frag_xtb_properties.pkl   \n",
       "1  data/Prescursor_data/df_frag_xtb_properties.pkl   \n",
       "2  data/Prescursor_data/df_frag_xtb_properties.pkl   \n",
       "3  data/Prescursor_data/df_frag_xtb_properties.pkl   \n",
       "4                                              NaN   \n",
       "\n",
       "                                     frag_properties  ...   test_name  \\\n",
       "0  [PCA_0, PCA_1, PCA_2, PCA_3, PCA_4, PCA_5, PCA...  ...         NaN   \n",
       "1  [PCA_0, PCA_1, PCA_2, PCA_3, PCA_4, PCA_5, PCA...  ...         NaN   \n",
       "2  [PCA_0, PCA_1, PCA_2, PCA_3, PCA_4, PCA_5, PCA...  ...         NaN   \n",
       "3  [PCA_0, PCA_1, PCA_2, PCA_3, PCA_4, PCA_5, PCA...  ...         NaN   \n",
       "4                                           selected  ...  new_target   \n",
       "\n",
       "           case target_name       aim  lim_counter  \\\n",
       "0           NaN         NaN       NaN          NaN   \n",
       "1           NaN         NaN       NaN          NaN   \n",
       "2           NaN         NaN       NaN          NaN   \n",
       "3           NaN         NaN       NaN          NaN   \n",
       "4  BO_precursor      target  maximise         10.0   \n",
       "\n",
       "                                    df_path  \\\n",
       "0                                       NaN   \n",
       "1                                       NaN   \n",
       "2                                       NaN   \n",
       "3                                       NaN   \n",
       "4  data/Full_dataset/New_target07072024.csv   \n",
       "\n",
       "                            df_representation_path  \\\n",
       "0                                              NaN   \n",
       "1                                              NaN   \n",
       "2                                              NaN   \n",
       "3                                              NaN   \n",
       "4  data/Prescursor_data/df_frag_xtb_properties.pkl   \n",
       "\n",
       "   dataset_representation_path budget  \\\n",
       "0                          NaN    NaN   \n",
       "1                          NaN    NaN   \n",
       "2                          NaN    NaN   \n",
       "3                          NaN    NaN   \n",
       "4                                 NaN   \n",
       "\n",
       "                                     search_exp_file  \n",
       "0  data/output/search_experiment/6_frag/test/2024...  \n",
       "1  data/output/search_experiment/6_frag/test/2024...  \n",
       "2  data/output/search_experiment/6_frag/test/2024...  \n",
       "3  data/output/search_experiment/6_frag/test/2024...  \n",
       "4  data/output/search_experiment/6_frag/new_targe...  \n",
       "\n",
       "[5 rows x 28 columns]"
      ]
     },
     "execution_count": 655,
     "metadata": {},
     "output_type": "execute_result"
    }
   ],
   "source": [
    "\n",
    "import glob\n",
    "import pickle\n",
    "import json\n",
    "def load_search_list(df):\n",
    "    search_list = []\n",
    "    for index, row in df.iterrows():\n",
    "        search_list.append(pickle.load(open(row['search_exp_file'], \"rb\")))\n",
    "    return search_list\n",
    "save_path = f\"data/output/search_experiment/search_exp_database\"\n",
    "json_files = glob.glob(f\"{save_path}/*.json\")\n",
    "list_json = []\n",
    "for json_file in json_files:\n",
    "    try:\n",
    "        with open(json_file, 'r') as f:\n",
    "            list_json.append(json.load(f))\n",
    "        f.close()\n",
    "    except: \n",
    "        print('error oppening',json_file)\n",
    "df = pd.DataFrame(list_json)\n",
    "df['search_exp_file'] = df['search_output_folder']+\"/\"+df['date']+\"/results_\"+df['run_search_name']+'.pkl'\n",
    "#df = df[~df['benchmark']]\n",
    "print(df.shape)\n",
    "df_all = df.copy()\n",
    "df_all.head()\n"
   ]
  },
  {
   "cell_type": "code",
   "execution_count": 673,
   "metadata": {},
   "outputs": [
    {
     "name": "stdout",
     "output_type": "stream",
     "text": [
      "(7, 28)\n",
      "4\n"
     ]
    },
    {
     "data": {
      "text/html": [
       "<div>\n",
       "<style scoped>\n",
       "    .dataframe tbody tr th:only-of-type {\n",
       "        vertical-align: middle;\n",
       "    }\n",
       "\n",
       "    .dataframe tbody tr th {\n",
       "        vertical-align: top;\n",
       "    }\n",
       "\n",
       "    .dataframe thead tr th {\n",
       "        text-align: left;\n",
       "    }\n",
       "\n",
       "    .dataframe thead tr:last-of-type th {\n",
       "        text-align: right;\n",
       "    }\n",
       "</style>\n",
       "<table border=\"1\" class=\"dataframe\">\n",
       "  <thead>\n",
       "    <tr>\n",
       "      <th></th>\n",
       "      <th></th>\n",
       "      <th></th>\n",
       "      <th colspan=\"8\" halign=\"left\">number_of_iterations</th>\n",
       "      <th colspan=\"2\" halign=\"left\">num_elem_initialisation</th>\n",
       "      <th>...</th>\n",
       "      <th colspan=\"2\" halign=\"left\">lim_counter</th>\n",
       "      <th colspan=\"8\" halign=\"left\">budget</th>\n",
       "    </tr>\n",
       "    <tr>\n",
       "      <th></th>\n",
       "      <th></th>\n",
       "      <th></th>\n",
       "      <th>count</th>\n",
       "      <th>mean</th>\n",
       "      <th>std</th>\n",
       "      <th>min</th>\n",
       "      <th>25%</th>\n",
       "      <th>50%</th>\n",
       "      <th>75%</th>\n",
       "      <th>max</th>\n",
       "      <th>count</th>\n",
       "      <th>mean</th>\n",
       "      <th>...</th>\n",
       "      <th>75%</th>\n",
       "      <th>max</th>\n",
       "      <th>count</th>\n",
       "      <th>mean</th>\n",
       "      <th>std</th>\n",
       "      <th>min</th>\n",
       "      <th>25%</th>\n",
       "      <th>50%</th>\n",
       "      <th>75%</th>\n",
       "      <th>max</th>\n",
       "    </tr>\n",
       "    <tr>\n",
       "      <th>which_acquisition</th>\n",
       "      <th>config_dir</th>\n",
       "      <th>search_algorithm</th>\n",
       "      <th></th>\n",
       "      <th></th>\n",
       "      <th></th>\n",
       "      <th></th>\n",
       "      <th></th>\n",
       "      <th></th>\n",
       "      <th></th>\n",
       "      <th></th>\n",
       "      <th></th>\n",
       "      <th></th>\n",
       "      <th></th>\n",
       "      <th></th>\n",
       "      <th></th>\n",
       "      <th></th>\n",
       "      <th></th>\n",
       "      <th></th>\n",
       "      <th></th>\n",
       "      <th></th>\n",
       "      <th></th>\n",
       "      <th></th>\n",
       "      <th></th>\n",
       "    </tr>\n",
       "  </thead>\n",
       "  <tbody>\n",
       "    <tr>\n",
       "      <th rowspan=\"3\" valign=\"top\">EI</th>\n",
       "      <th rowspan=\"3\" valign=\"top\">data/representation_learning//6-frag/target/240726//SchNet/splitrand-nummol5000/</th>\n",
       "      <th>Bayesian_Optimisation</th>\n",
       "      <td>3.0</td>\n",
       "      <td>20.0</td>\n",
       "      <td>0.0</td>\n",
       "      <td>20.0</td>\n",
       "      <td>20.0</td>\n",
       "      <td>20.0</td>\n",
       "      <td>20.0</td>\n",
       "      <td>20.0</td>\n",
       "      <td>3.0</td>\n",
       "      <td>50.0</td>\n",
       "      <td>...</td>\n",
       "      <td>NaN</td>\n",
       "      <td>NaN</td>\n",
       "      <td>0.0</td>\n",
       "      <td>NaN</td>\n",
       "      <td>NaN</td>\n",
       "      <td>NaN</td>\n",
       "      <td>NaN</td>\n",
       "      <td>NaN</td>\n",
       "      <td>NaN</td>\n",
       "      <td>NaN</td>\n",
       "    </tr>\n",
       "    <tr>\n",
       "      <th>Evolution_algorithm</th>\n",
       "      <td>2.0</td>\n",
       "      <td>20.0</td>\n",
       "      <td>0.0</td>\n",
       "      <td>20.0</td>\n",
       "      <td>20.0</td>\n",
       "      <td>20.0</td>\n",
       "      <td>20.0</td>\n",
       "      <td>20.0</td>\n",
       "      <td>2.0</td>\n",
       "      <td>50.0</td>\n",
       "      <td>...</td>\n",
       "      <td>NaN</td>\n",
       "      <td>NaN</td>\n",
       "      <td>0.0</td>\n",
       "      <td>NaN</td>\n",
       "      <td>NaN</td>\n",
       "      <td>NaN</td>\n",
       "      <td>NaN</td>\n",
       "      <td>NaN</td>\n",
       "      <td>NaN</td>\n",
       "      <td>NaN</td>\n",
       "    </tr>\n",
       "    <tr>\n",
       "      <th>Surrogate_EA</th>\n",
       "      <td>1.0</td>\n",
       "      <td>20.0</td>\n",
       "      <td>NaN</td>\n",
       "      <td>20.0</td>\n",
       "      <td>20.0</td>\n",
       "      <td>20.0</td>\n",
       "      <td>20.0</td>\n",
       "      <td>20.0</td>\n",
       "      <td>1.0</td>\n",
       "      <td>50.0</td>\n",
       "      <td>...</td>\n",
       "      <td>NaN</td>\n",
       "      <td>NaN</td>\n",
       "      <td>0.0</td>\n",
       "      <td>NaN</td>\n",
       "      <td>NaN</td>\n",
       "      <td>NaN</td>\n",
       "      <td>NaN</td>\n",
       "      <td>NaN</td>\n",
       "      <td>NaN</td>\n",
       "      <td>NaN</td>\n",
       "    </tr>\n",
       "  </tbody>\n",
       "</table>\n",
       "<p>3 rows × 48 columns</p>\n",
       "</div>"
      ],
      "text/plain": [
       "                                                                                           number_of_iterations  \\\n",
       "                                                                                                          count   \n",
       "which_acquisition config_dir                                         search_algorithm                             \n",
       "EI                data/representation_learning//6-frag/target/240... Bayesian_Optimisation                  3.0   \n",
       "                                                                     Evolution_algorithm                    2.0   \n",
       "                                                                     Surrogate_EA                           1.0   \n",
       "\n",
       "                                                                                                  \\\n",
       "                                                                                            mean   \n",
       "which_acquisition config_dir                                         search_algorithm              \n",
       "EI                data/representation_learning//6-frag/target/240... Bayesian_Optimisation  20.0   \n",
       "                                                                     Evolution_algorithm    20.0   \n",
       "                                                                     Surrogate_EA           20.0   \n",
       "\n",
       "                                                                                                 \\\n",
       "                                                                                            std   \n",
       "which_acquisition config_dir                                         search_algorithm             \n",
       "EI                data/representation_learning//6-frag/target/240... Bayesian_Optimisation  0.0   \n",
       "                                                                     Evolution_algorithm    0.0   \n",
       "                                                                     Surrogate_EA           NaN   \n",
       "\n",
       "                                                                                                  \\\n",
       "                                                                                             min   \n",
       "which_acquisition config_dir                                         search_algorithm              \n",
       "EI                data/representation_learning//6-frag/target/240... Bayesian_Optimisation  20.0   \n",
       "                                                                     Evolution_algorithm    20.0   \n",
       "                                                                     Surrogate_EA           20.0   \n",
       "\n",
       "                                                                                                  \\\n",
       "                                                                                             25%   \n",
       "which_acquisition config_dir                                         search_algorithm              \n",
       "EI                data/representation_learning//6-frag/target/240... Bayesian_Optimisation  20.0   \n",
       "                                                                     Evolution_algorithm    20.0   \n",
       "                                                                     Surrogate_EA           20.0   \n",
       "\n",
       "                                                                                                  \\\n",
       "                                                                                             50%   \n",
       "which_acquisition config_dir                                         search_algorithm              \n",
       "EI                data/representation_learning//6-frag/target/240... Bayesian_Optimisation  20.0   \n",
       "                                                                     Evolution_algorithm    20.0   \n",
       "                                                                     Surrogate_EA           20.0   \n",
       "\n",
       "                                                                                                  \\\n",
       "                                                                                             75%   \n",
       "which_acquisition config_dir                                         search_algorithm              \n",
       "EI                data/representation_learning//6-frag/target/240... Bayesian_Optimisation  20.0   \n",
       "                                                                     Evolution_algorithm    20.0   \n",
       "                                                                     Surrogate_EA           20.0   \n",
       "\n",
       "                                                                                                  \\\n",
       "                                                                                             max   \n",
       "which_acquisition config_dir                                         search_algorithm              \n",
       "EI                data/representation_learning//6-frag/target/240... Bayesian_Optimisation  20.0   \n",
       "                                                                     Evolution_algorithm    20.0   \n",
       "                                                                     Surrogate_EA           20.0   \n",
       "\n",
       "                                                                                           num_elem_initialisation  \\\n",
       "                                                                                                             count   \n",
       "which_acquisition config_dir                                         search_algorithm                                \n",
       "EI                data/representation_learning//6-frag/target/240... Bayesian_Optimisation                     3.0   \n",
       "                                                                     Evolution_algorithm                       2.0   \n",
       "                                                                     Surrogate_EA                              1.0   \n",
       "\n",
       "                                                                                                  \\\n",
       "                                                                                            mean   \n",
       "which_acquisition config_dir                                         search_algorithm              \n",
       "EI                data/representation_learning//6-frag/target/240... Bayesian_Optimisation  50.0   \n",
       "                                                                     Evolution_algorithm    50.0   \n",
       "                                                                     Surrogate_EA           50.0   \n",
       "\n",
       "                                                                                            ...  \\\n",
       "                                                                                            ...   \n",
       "which_acquisition config_dir                                         search_algorithm       ...   \n",
       "EI                data/representation_learning//6-frag/target/240... Bayesian_Optimisation  ...   \n",
       "                                                                     Evolution_algorithm    ...   \n",
       "                                                                     Surrogate_EA           ...   \n",
       "\n",
       "                                                                                           lim_counter  \\\n",
       "                                                                                                   75%   \n",
       "which_acquisition config_dir                                         search_algorithm                    \n",
       "EI                data/representation_learning//6-frag/target/240... Bayesian_Optimisation         NaN   \n",
       "                                                                     Evolution_algorithm           NaN   \n",
       "                                                                     Surrogate_EA                  NaN   \n",
       "\n",
       "                                                                                                \\\n",
       "                                                                                           max   \n",
       "which_acquisition config_dir                                         search_algorithm            \n",
       "EI                data/representation_learning//6-frag/target/240... Bayesian_Optimisation NaN   \n",
       "                                                                     Evolution_algorithm   NaN   \n",
       "                                                                     Surrogate_EA          NaN   \n",
       "\n",
       "                                                                                           budget  \\\n",
       "                                                                                            count   \n",
       "which_acquisition config_dir                                         search_algorithm               \n",
       "EI                data/representation_learning//6-frag/target/240... Bayesian_Optimisation    0.0   \n",
       "                                                                     Evolution_algorithm      0.0   \n",
       "                                                                     Surrogate_EA             0.0   \n",
       "\n",
       "                                                                                                 \\\n",
       "                                                                                           mean   \n",
       "which_acquisition config_dir                                         search_algorithm             \n",
       "EI                data/representation_learning//6-frag/target/240... Bayesian_Optimisation  NaN   \n",
       "                                                                     Evolution_algorithm    NaN   \n",
       "                                                                     Surrogate_EA           NaN   \n",
       "\n",
       "                                                                                                \\\n",
       "                                                                                           std   \n",
       "which_acquisition config_dir                                         search_algorithm            \n",
       "EI                data/representation_learning//6-frag/target/240... Bayesian_Optimisation NaN   \n",
       "                                                                     Evolution_algorithm   NaN   \n",
       "                                                                     Surrogate_EA          NaN   \n",
       "\n",
       "                                                                                                \\\n",
       "                                                                                           min   \n",
       "which_acquisition config_dir                                         search_algorithm            \n",
       "EI                data/representation_learning//6-frag/target/240... Bayesian_Optimisation NaN   \n",
       "                                                                     Evolution_algorithm   NaN   \n",
       "                                                                     Surrogate_EA          NaN   \n",
       "\n",
       "                                                                                                \\\n",
       "                                                                                           25%   \n",
       "which_acquisition config_dir                                         search_algorithm            \n",
       "EI                data/representation_learning//6-frag/target/240... Bayesian_Optimisation NaN   \n",
       "                                                                     Evolution_algorithm   NaN   \n",
       "                                                                     Surrogate_EA          NaN   \n",
       "\n",
       "                                                                                                \\\n",
       "                                                                                           50%   \n",
       "which_acquisition config_dir                                         search_algorithm            \n",
       "EI                data/representation_learning//6-frag/target/240... Bayesian_Optimisation NaN   \n",
       "                                                                     Evolution_algorithm   NaN   \n",
       "                                                                     Surrogate_EA          NaN   \n",
       "\n",
       "                                                                                                \\\n",
       "                                                                                           75%   \n",
       "which_acquisition config_dir                                         search_algorithm            \n",
       "EI                data/representation_learning//6-frag/target/240... Bayesian_Optimisation NaN   \n",
       "                                                                     Evolution_algorithm   NaN   \n",
       "                                                                     Surrogate_EA          NaN   \n",
       "\n",
       "                                                                                                \n",
       "                                                                                           max  \n",
       "which_acquisition config_dir                                         search_algorithm           \n",
       "EI                data/representation_learning//6-frag/target/240... Bayesian_Optimisation NaN  \n",
       "                                                                     Evolution_algorithm   NaN  \n",
       "                                                                     Surrogate_EA          NaN  \n",
       "\n",
       "[3 rows x 48 columns]"
      ]
     },
     "execution_count": 673,
     "metadata": {},
     "output_type": "execute_result"
    }
   ],
   "source": [
    "num_iteration = 20\n",
    "num_elem_initialisation = 50\n",
    "oligomer_size = 6 \n",
    "#df_filtered = df_all[df_all['num_iteration']==num_iteration]\n",
    "#df_filtered = df_filtered[df_filtered['num_elem_initialisation']==num_elem_initialisation]\n",
    "df_filtered = df_all[df_all['oligomer_size']==oligomer_size]\n",
    "print(df_filtered.shape)\n",
    "df_list = df_filtered.groupby(['which_acquisition','config_dir','search_algorithm'])\n",
    "print(len(df_list))\n",
    "df_filtered.groupby(['which_acquisition','config_dir','search_algorithm']).describe()"
   ]
  },
  {
   "cell_type": "code",
   "execution_count": 674,
   "metadata": {},
   "outputs": [
    {
     "data": {
      "text/html": [
       "<div>\n",
       "<style scoped>\n",
       "    .dataframe tbody tr th:only-of-type {\n",
       "        vertical-align: middle;\n",
       "    }\n",
       "\n",
       "    .dataframe tbody tr th {\n",
       "        vertical-align: top;\n",
       "    }\n",
       "\n",
       "    .dataframe thead th {\n",
       "        text-align: right;\n",
       "    }\n",
       "</style>\n",
       "<table border=\"1\" class=\"dataframe\">\n",
       "  <thead>\n",
       "    <tr style=\"text-align: right;\">\n",
       "      <th></th>\n",
       "      <th>search_space_loc</th>\n",
       "      <th>search_algorithm</th>\n",
       "      <th>objective_function</th>\n",
       "      <th>number_of_iterations</th>\n",
       "      <th>verbose</th>\n",
       "      <th>num_elem_initialisation</th>\n",
       "      <th>benchmark</th>\n",
       "      <th>df_total</th>\n",
       "      <th>df_representation</th>\n",
       "      <th>frag_properties</th>\n",
       "      <th>...</th>\n",
       "      <th>target_name</th>\n",
       "      <th>aim</th>\n",
       "      <th>lim_counter</th>\n",
       "      <th>df_path</th>\n",
       "      <th>df_representation_path</th>\n",
       "      <th>dataset_representation_path</th>\n",
       "      <th>budget</th>\n",
       "      <th>search_exp_file</th>\n",
       "      <th>max_num_eval</th>\n",
       "      <th>key</th>\n",
       "    </tr>\n",
       "  </thead>\n",
       "  <tbody>\n",
       "    <tr>\n",
       "      <th>0</th>\n",
       "      <td>data/input/STK_search_space/search_space_test.pkl</td>\n",
       "      <td>Evolution_algorithm</td>\n",
       "      <td>&lt;stk_search.Objective_function.Look_up_table o...</td>\n",
       "      <td>20.0</td>\n",
       "      <td>True</td>\n",
       "      <td>50</td>\n",
       "      <td>True</td>\n",
       "      <td>data/Full_dataset/New_target07072024.csv</td>\n",
       "      <td>data/Prescursor_data/df_frag_xtb_properties.pkl</td>\n",
       "      <td>[PCA_0, PCA_1, PCA_2, PCA_3, PCA_4, PCA_5, PCA...</td>\n",
       "      <td>...</td>\n",
       "      <td>NaN</td>\n",
       "      <td>NaN</td>\n",
       "      <td>NaN</td>\n",
       "      <td>NaN</td>\n",
       "      <td>NaN</td>\n",
       "      <td>NaN</td>\n",
       "      <td>NaN</td>\n",
       "      <td>data/output/search_experiment/6_frag/test/2024...</td>\n",
       "      <td>70</td>\n",
       "      <td>EI_data/representation_learning//6-frag/target...</td>\n",
       "    </tr>\n",
       "    <tr>\n",
       "      <th>1</th>\n",
       "      <td>data/input/STK_search_space/search_space_test.pkl</td>\n",
       "      <td>Evolution_algorithm</td>\n",
       "      <td>&lt;stk_search.Objective_function.Look_up_table o...</td>\n",
       "      <td>20.0</td>\n",
       "      <td>True</td>\n",
       "      <td>50</td>\n",
       "      <td>True</td>\n",
       "      <td>data/Full_dataset/New_target07072024.csv</td>\n",
       "      <td>data/Prescursor_data/df_frag_xtb_properties.pkl</td>\n",
       "      <td>[PCA_0, PCA_1, PCA_2, PCA_3, PCA_4, PCA_5, PCA...</td>\n",
       "      <td>...</td>\n",
       "      <td>NaN</td>\n",
       "      <td>NaN</td>\n",
       "      <td>NaN</td>\n",
       "      <td>NaN</td>\n",
       "      <td>NaN</td>\n",
       "      <td>NaN</td>\n",
       "      <td>NaN</td>\n",
       "      <td>data/output/search_experiment/6_frag/test/2024...</td>\n",
       "      <td>70</td>\n",
       "      <td>EI_data/representation_learning//6-frag/target...</td>\n",
       "    </tr>\n",
       "    <tr>\n",
       "      <th>2</th>\n",
       "      <td>data/input/STK_search_space/search_space_test.pkl</td>\n",
       "      <td>Bayesian_Optimisation</td>\n",
       "      <td>&lt;stk_search.Objective_function.Look_up_table o...</td>\n",
       "      <td>20.0</td>\n",
       "      <td>True</td>\n",
       "      <td>50</td>\n",
       "      <td>True</td>\n",
       "      <td>data/Full_dataset/New_target07072024.csv</td>\n",
       "      <td>data/Prescursor_data/df_frag_xtb_properties.pkl</td>\n",
       "      <td>[PCA_0, PCA_1, PCA_2, PCA_3, PCA_4, PCA_5, PCA...</td>\n",
       "      <td>...</td>\n",
       "      <td>NaN</td>\n",
       "      <td>NaN</td>\n",
       "      <td>NaN</td>\n",
       "      <td>NaN</td>\n",
       "      <td>NaN</td>\n",
       "      <td>NaN</td>\n",
       "      <td>NaN</td>\n",
       "      <td>data/output/search_experiment/6_frag/test/2024...</td>\n",
       "      <td>70</td>\n",
       "      <td>EI_data/representation_learning//6-frag/target...</td>\n",
       "    </tr>\n",
       "    <tr>\n",
       "      <th>3</th>\n",
       "      <td>data/input/STK_search_space/search_space_test.pkl</td>\n",
       "      <td>Bayesian_Optimisation</td>\n",
       "      <td>&lt;stk_search.Objective_function.Look_up_table o...</td>\n",
       "      <td>20.0</td>\n",
       "      <td>True</td>\n",
       "      <td>50</td>\n",
       "      <td>True</td>\n",
       "      <td>data/Full_dataset/New_target07072024.csv</td>\n",
       "      <td>data/Prescursor_data/df_frag_xtb_properties.pkl</td>\n",
       "      <td>[PCA_0, PCA_1, PCA_2, PCA_3, PCA_4, PCA_5, PCA...</td>\n",
       "      <td>...</td>\n",
       "      <td>NaN</td>\n",
       "      <td>NaN</td>\n",
       "      <td>NaN</td>\n",
       "      <td>NaN</td>\n",
       "      <td>NaN</td>\n",
       "      <td>NaN</td>\n",
       "      <td>NaN</td>\n",
       "      <td>data/output/search_experiment/6_frag/test/2024...</td>\n",
       "      <td>70</td>\n",
       "      <td>EI_data/representation_learning//6-frag/target...</td>\n",
       "    </tr>\n",
       "    <tr>\n",
       "      <th>5</th>\n",
       "      <td>data/input/STK_search_space/search_space_test.pkl</td>\n",
       "      <td>Bayesian_Optimisation</td>\n",
       "      <td>&lt;stk_search.Objective_function.Look_up_table o...</td>\n",
       "      <td>20.0</td>\n",
       "      <td>True</td>\n",
       "      <td>50</td>\n",
       "      <td>True</td>\n",
       "      <td>data/Full_dataset/New_target07072024.csv</td>\n",
       "      <td>data/Prescursor_data/df_frag_xtb_properties.pkl</td>\n",
       "      <td>[PCA_0, PCA_1, PCA_2, PCA_3, PCA_4, PCA_5, PCA...</td>\n",
       "      <td>...</td>\n",
       "      <td>NaN</td>\n",
       "      <td>NaN</td>\n",
       "      <td>NaN</td>\n",
       "      <td>NaN</td>\n",
       "      <td>NaN</td>\n",
       "      <td>NaN</td>\n",
       "      <td>NaN</td>\n",
       "      <td>data/output/search_experiment/6_frag/test/2024...</td>\n",
       "      <td>52</td>\n",
       "      <td>EI_data/representation_learning//6-frag/target...</td>\n",
       "    </tr>\n",
       "    <tr>\n",
       "      <th>6</th>\n",
       "      <td>data/input/STK_search_space/search_space_test.pkl</td>\n",
       "      <td>Surrogate_EA</td>\n",
       "      <td>&lt;stk_search.Objective_function.Look_up_table o...</td>\n",
       "      <td>20.0</td>\n",
       "      <td>True</td>\n",
       "      <td>50</td>\n",
       "      <td>True</td>\n",
       "      <td>data/Full_dataset/New_target07072024.csv</td>\n",
       "      <td>data/Prescursor_data/df_frag_xtb_properties.pkl</td>\n",
       "      <td>[PCA_0, PCA_1, PCA_2, PCA_3, PCA_4, PCA_5, PCA...</td>\n",
       "      <td>...</td>\n",
       "      <td>NaN</td>\n",
       "      <td>NaN</td>\n",
       "      <td>NaN</td>\n",
       "      <td>NaN</td>\n",
       "      <td>NaN</td>\n",
       "      <td>NaN</td>\n",
       "      <td>NaN</td>\n",
       "      <td>data/output/search_experiment/6_frag/test/2024...</td>\n",
       "      <td>70</td>\n",
       "      <td>EI_data/representation_learning//6-frag/target...</td>\n",
       "    </tr>\n",
       "  </tbody>\n",
       "</table>\n",
       "<p>6 rows × 30 columns</p>\n",
       "</div>"
      ],
      "text/plain": [
       "                                    search_space_loc       search_algorithm  \\\n",
       "0  data/input/STK_search_space/search_space_test.pkl    Evolution_algorithm   \n",
       "1  data/input/STK_search_space/search_space_test.pkl    Evolution_algorithm   \n",
       "2  data/input/STK_search_space/search_space_test.pkl  Bayesian_Optimisation   \n",
       "3  data/input/STK_search_space/search_space_test.pkl  Bayesian_Optimisation   \n",
       "5  data/input/STK_search_space/search_space_test.pkl  Bayesian_Optimisation   \n",
       "6  data/input/STK_search_space/search_space_test.pkl           Surrogate_EA   \n",
       "\n",
       "                                  objective_function  number_of_iterations  \\\n",
       "0  <stk_search.Objective_function.Look_up_table o...                  20.0   \n",
       "1  <stk_search.Objective_function.Look_up_table o...                  20.0   \n",
       "2  <stk_search.Objective_function.Look_up_table o...                  20.0   \n",
       "3  <stk_search.Objective_function.Look_up_table o...                  20.0   \n",
       "5  <stk_search.Objective_function.Look_up_table o...                  20.0   \n",
       "6  <stk_search.Objective_function.Look_up_table o...                  20.0   \n",
       "\n",
       "  verbose  num_elem_initialisation  benchmark  \\\n",
       "0    True                       50       True   \n",
       "1    True                       50       True   \n",
       "2    True                       50       True   \n",
       "3    True                       50       True   \n",
       "5    True                       50       True   \n",
       "6    True                       50       True   \n",
       "\n",
       "                                   df_total  \\\n",
       "0  data/Full_dataset/New_target07072024.csv   \n",
       "1  data/Full_dataset/New_target07072024.csv   \n",
       "2  data/Full_dataset/New_target07072024.csv   \n",
       "3  data/Full_dataset/New_target07072024.csv   \n",
       "5  data/Full_dataset/New_target07072024.csv   \n",
       "6  data/Full_dataset/New_target07072024.csv   \n",
       "\n",
       "                                 df_representation  \\\n",
       "0  data/Prescursor_data/df_frag_xtb_properties.pkl   \n",
       "1  data/Prescursor_data/df_frag_xtb_properties.pkl   \n",
       "2  data/Prescursor_data/df_frag_xtb_properties.pkl   \n",
       "3  data/Prescursor_data/df_frag_xtb_properties.pkl   \n",
       "5  data/Prescursor_data/df_frag_xtb_properties.pkl   \n",
       "6  data/Prescursor_data/df_frag_xtb_properties.pkl   \n",
       "\n",
       "                                     frag_properties  ... target_name  aim  \\\n",
       "0  [PCA_0, PCA_1, PCA_2, PCA_3, PCA_4, PCA_5, PCA...  ...         NaN  NaN   \n",
       "1  [PCA_0, PCA_1, PCA_2, PCA_3, PCA_4, PCA_5, PCA...  ...         NaN  NaN   \n",
       "2  [PCA_0, PCA_1, PCA_2, PCA_3, PCA_4, PCA_5, PCA...  ...         NaN  NaN   \n",
       "3  [PCA_0, PCA_1, PCA_2, PCA_3, PCA_4, PCA_5, PCA...  ...         NaN  NaN   \n",
       "5  [PCA_0, PCA_1, PCA_2, PCA_3, PCA_4, PCA_5, PCA...  ...         NaN  NaN   \n",
       "6  [PCA_0, PCA_1, PCA_2, PCA_3, PCA_4, PCA_5, PCA...  ...         NaN  NaN   \n",
       "\n",
       "  lim_counter df_path  df_representation_path dataset_representation_path  \\\n",
       "0         NaN     NaN                     NaN                         NaN   \n",
       "1         NaN     NaN                     NaN                         NaN   \n",
       "2         NaN     NaN                     NaN                         NaN   \n",
       "3         NaN     NaN                     NaN                         NaN   \n",
       "5         NaN     NaN                     NaN                         NaN   \n",
       "6         NaN     NaN                     NaN                         NaN   \n",
       "\n",
       "  budget                                    search_exp_file max_num_eval  \\\n",
       "0    NaN  data/output/search_experiment/6_frag/test/2024...           70   \n",
       "1    NaN  data/output/search_experiment/6_frag/test/2024...           70   \n",
       "2    NaN  data/output/search_experiment/6_frag/test/2024...           70   \n",
       "3    NaN  data/output/search_experiment/6_frag/test/2024...           70   \n",
       "5    NaN  data/output/search_experiment/6_frag/test/2024...           52   \n",
       "6    NaN  data/output/search_experiment/6_frag/test/2024...           70   \n",
       "\n",
       "                                                 key  \n",
       "0  EI_data/representation_learning//6-frag/target...  \n",
       "1  EI_data/representation_learning//6-frag/target...  \n",
       "2  EI_data/representation_learning//6-frag/target...  \n",
       "3  EI_data/representation_learning//6-frag/target...  \n",
       "5  EI_data/representation_learning//6-frag/target...  \n",
       "6  EI_data/representation_learning//6-frag/target...  \n",
       "\n",
       "[6 rows x 30 columns]"
      ]
     },
     "execution_count": 674,
     "metadata": {},
     "output_type": "execute_result"
    }
   ],
   "source": [
    "df"
   ]
  },
  {
   "cell_type": "code",
   "execution_count": 702,
   "metadata": {},
   "outputs": [
    {
     "data": {
      "text/html": [
       "<div>\n",
       "<style scoped>\n",
       "    .dataframe tbody tr th:only-of-type {\n",
       "        vertical-align: middle;\n",
       "    }\n",
       "\n",
       "    .dataframe tbody tr th {\n",
       "        vertical-align: top;\n",
       "    }\n",
       "\n",
       "    .dataframe thead th {\n",
       "        text-align: right;\n",
       "    }\n",
       "</style>\n",
       "<table border=\"1\" class=\"dataframe\">\n",
       "  <thead>\n",
       "    <tr style=\"text-align: right;\">\n",
       "      <th></th>\n",
       "      <th>index</th>\n",
       "      <th>number of explorations with min iterations</th>\n",
       "      <th>df_path</th>\n",
       "      <th>key</th>\n",
       "      <th>case</th>\n",
       "      <th>num_mol_training</th>\n",
       "      <th>wide</th>\n",
       "      <th>narrow</th>\n",
       "      <th>total</th>\n",
       "    </tr>\n",
       "  </thead>\n",
       "  <tbody>\n",
       "    <tr>\n",
       "      <th>0</th>\n",
       "      <td>EI_data/representation_learning//6-frag/target...</td>\n",
       "      <td>2</td>\n",
       "      <td>data/Full_dataset/New_target07072024.csv</td>\n",
       "      <td>EI_data/representation_learning//6-frag/target...</td>\n",
       "      <td>Bayesian</td>\n",
       "      <td>5000/_Bayesian_Optimisation</td>\n",
       "      <td>False</td>\n",
       "      <td>False</td>\n",
       "      <td>False</td>\n",
       "    </tr>\n",
       "    <tr>\n",
       "      <th>1</th>\n",
       "      <td>EI_data/representation_learning//6-frag/target...</td>\n",
       "      <td>2</td>\n",
       "      <td>data/Full_dataset/New_target07072024.csv</td>\n",
       "      <td>EI_data/representation_learning//6-frag/target...</td>\n",
       "      <td>Evolution</td>\n",
       "      <td>5000/_Evolution_algorithm</td>\n",
       "      <td>False</td>\n",
       "      <td>False</td>\n",
       "      <td>False</td>\n",
       "    </tr>\n",
       "    <tr>\n",
       "      <th>2</th>\n",
       "      <td>EI_data/representation_learning//6-frag/target...</td>\n",
       "      <td>1</td>\n",
       "      <td>data/Full_dataset/New_target07072024.csv</td>\n",
       "      <td>EI_data/representation_learning//6-frag/target...</td>\n",
       "      <td>Surrogate</td>\n",
       "      <td>5000/_Surrogate_EA</td>\n",
       "      <td>False</td>\n",
       "      <td>False</td>\n",
       "      <td>False</td>\n",
       "    </tr>\n",
       "  </tbody>\n",
       "</table>\n",
       "</div>"
      ],
      "text/plain": [
       "                                               index  \\\n",
       "0  EI_data/representation_learning//6-frag/target...   \n",
       "1  EI_data/representation_learning//6-frag/target...   \n",
       "2  EI_data/representation_learning//6-frag/target...   \n",
       "\n",
       "   number of explorations with min iterations  \\\n",
       "0                                           2   \n",
       "1                                           2   \n",
       "2                                           1   \n",
       "\n",
       "                                    df_path  \\\n",
       "0  data/Full_dataset/New_target07072024.csv   \n",
       "1  data/Full_dataset/New_target07072024.csv   \n",
       "2  data/Full_dataset/New_target07072024.csv   \n",
       "\n",
       "                                                 key       case  \\\n",
       "0  EI_data/representation_learning//6-frag/target...   Bayesian   \n",
       "1  EI_data/representation_learning//6-frag/target...  Evolution   \n",
       "2  EI_data/representation_learning//6-frag/target...  Surrogate   \n",
       "\n",
       "              num_mol_training   wide  narrow  total  \n",
       "0  5000/_Bayesian_Optimisation  False   False  False  \n",
       "1    5000/_Evolution_algorithm  False   False  False  \n",
       "2           5000/_Surrogate_EA  False   False  False  "
      ]
     },
     "execution_count": 702,
     "metadata": {},
     "output_type": "execute_result"
    }
   ],
   "source": [
    "import pandas as pd\n",
    "def join_name(x):\n",
    "    return '_'.join(x)\n",
    "\n",
    "def load_search_list(df,min_num_iteration):\n",
    "    search_list = []\n",
    "    for index, row in df.iterrows():\n",
    "        if min_num_iteration <= row['max_num_eval']:\n",
    "            search_list.append(pd.read_pickle(row['search_exp_file']))\n",
    "    return search_list\n",
    "def get_results_length(x):\n",
    "    try:\n",
    "        return len(pd.read_pickle(x)['fitness_acquired'])\n",
    "    except Exception as e:\n",
    "        #print(e)\n",
    "        return 0\n",
    "results_dict = {}\n",
    "num_searches_with_min, df_plot_dict = {}, {}\n",
    "min_num_iteration = 60\n",
    "for name , df in df_list:\n",
    "    if len(df) != 0: \n",
    "        df['max_num_eval']=df['search_exp_file'].apply(lambda x: get_results_length(x))\n",
    "        key = join_name(name)\n",
    "        df['key'] = key\n",
    "        if df['max_num_eval'].max() >= min_num_iteration:\n",
    "            results_dict[key] = load_search_list(df,min_num_iteration)\n",
    "            num_searches_with_min[key] = (len(results_dict[key]), df['df_total'].values[0])\n",
    "df_summary_1 = pd.DataFrame.from_dict(num_searches_with_min, orient='index',columns=['number of explorations with min iterations','df_path'])\n",
    "#df_summary = df_summary.merge(df_summary_1, left_index=True, right_index=True)\n",
    "df_summary_1['key'] = df_summary_1.index    \n",
    "df_summary_1['case'] = df_summary_1['key'].apply(lambda x: x.split('_')[3])#+'_'+x.split('_')[2])\n",
    "df_summary_1['num_mol_training'] = df_summary_1['key'].apply(lambda x: x.split('nummol')[-1])\n",
    "df_summary_1['wide']=df_summary_1['key'].apply(lambda x: '_wide' in x)\n",
    "df_summary_1['narrow']=df_summary_1['key'].apply(lambda x: '_narrow' in x)\n",
    "df_summary_1['total']=df_summary_1['key'].apply(lambda x: '_total' in x)\n",
    "#df_summary_1['key'] = df_summary_1['case'] \n",
    "df_summary_1.reset_index(inplace=True)\n",
    "df_summary_1"
   ]
  },
  {
   "cell_type": "code",
   "execution_count": 703,
   "metadata": {},
   "outputs": [],
   "source": [
    "import datetime\n",
    "import pickle\n",
    "from stk_search.utils import Search_results_plot\n",
    "from stk_search.utils import plot_results_all\n",
    "import importlib\n",
    "importlib.reload(Search_results_plot)\n",
    "importlib.reload(plot_results_all)\n",
    "save_folder = 'data/figures/'+datetime.datetime.now().strftime(\"_%Y_%m_%d\")\n",
    "plot_function_list_single = [Search_results_plot.plot_simple_regret,Search_results_plot.plot_inst_regret,Search_results_plot.plot_cumulative_regret,\n",
    "                      Search_results_plot.plot_number_of_molecule_discovered,Search_results_plot.plot_rate_of_discovery,]\n",
    "plot_function_list_multi = [Search_results_plot.plot_simple_regret_batch,Search_results_plot.plot_number_of_molecule_discovered_sum,Search_results_plot.plot_total_rate_of_discovery, ]"
   ]
  },
  {
   "cell_type": "code",
   "execution_count": 704,
   "metadata": {},
   "outputs": [
    {
     "name": "stdout",
     "output_type": "stream",
     "text": [
      " keys : 0    EI_data/representation_learning//6-frag/target...\n",
      "1    EI_data/representation_learning//6-frag/target...\n",
      "2    EI_data/representation_learning//6-frag/target...\n",
      "Name: key, dtype: object\n"
     ]
    },
    {
     "name": "stderr",
     "output_type": "stream",
     "text": [
      "/home/mohammed/anaconda3/envs/stk_search2/lib/python3.8/site-packages/numpy/core/_methods.py:269: RuntimeWarning: Degrees of freedom <= 0 for slice\n",
      "  ret = _var(a, axis=axis, dtype=dtype, out=out, ddof=ddof,\n",
      "/home/mohammed/anaconda3/envs/stk_search2/lib/python3.8/site-packages/numpy/core/_methods.py:226: RuntimeWarning: invalid value encountered in divide\n",
      "  arrmean = um.true_divide(arrmean, div, out=arrmean,\n",
      "/home/mohammed/anaconda3/envs/stk_search2/lib/python3.8/site-packages/numpy/core/_methods.py:261: RuntimeWarning: invalid value encountered in scalar divide\n",
      "  ret = ret.dtype.type(ret / rcount)\n"
     ]
    },
    {
     "data": {
      "image/png": "[encoded data removed]",
      "text/plain": [
       "<Figure size 1500x1500 with 9 Axes>"
      ]
     },
     "metadata": {},
     "output_type": "display_data"
    }
   ],
   "source": [
    "%matplotlib inline\n",
    "df_plot = df_summary_1.copy()\n",
    "df_plot = df_plot.iloc[[0,1,2]]\n",
    "fig, axes,metric_dict_res = plot_results_all.plot_metric(df_plot,plot_function_list_single,results_dict,df_list,nb_iterations=70)\n",
    "\n",
    "#axes[0].legend(df_plot['case'].values)"
   ]
  },
  {
   "cell_type": "code",
   "execution_count": 691,
   "metadata": {},
   "outputs": [
    {
     "data": {
      "text/plain": [
       "'Bayesian'"
      ]
     },
     "execution_count": 691,
     "metadata": {},
     "output_type": "execute_result"
    }
   ],
   "source": [
    "df_summary_1['key'][0].split('_')[3]"
   ]
  }
 ],
 "metadata": {
  "kernelspec": {
   "display_name": "STKSearch",
   "language": "python",
   "name": "python3"
  },
  "language_info": {
   "codemirror_mode": {
    "name": "ipython",
    "version": 3
   },
   "file_extension": ".py",
   "mimetype": "text/x-python",
   "name": "python",
   "nbconvert_exporter": "python",
   "pygments_lexer": "ipython3",
   "version": "3.8.19"
  }
 },
 "nbformat": 4,
 "nbformat_minor": 2
}
