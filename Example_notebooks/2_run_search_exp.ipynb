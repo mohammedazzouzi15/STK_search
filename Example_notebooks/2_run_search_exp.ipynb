{
 "cells": [
  {
   "cell_type": "code",
   "execution_count": 1,
   "metadata": {},
   "outputs": [
    {
     "data": {
      "text/plain": [
       "<module 'stk_search.utils.update_datasets' from 'C:\\\\Users\\\\ma11115\\\\OneDrive - Imperial College London\\\\github_folder\\\\STK_search\\\\src\\\\stk_search\\\\utils\\\\update_datasets.py'>"
      ]
     },
     "execution_count": 1,
     "metadata": {},
     "output_type": "execute_result"
    }
   ],
   "source": [
    "import os#\n",
    "os.chdir('c:\\\\Users\\\\ma11115\\\\OneDrive - Imperial College London\\\\github_folder\\\\STK_SEARCH\\\\')\n",
    "#os.chdir(\"/rds/general/user/ma11115/home/STK_Search/STK_search\")\n",
    "from pathlib import Path#\n",
    "\n",
    "import pandas as pd\n",
    "import torch\n",
    "import numpy as np\n",
    "from stk_search.utils.config_utils import read_config, save_config\n",
    "from stk_search.utils import update_datasets\n",
    "import importlib\n",
    "importlib.reload(update_datasets)"
   ]
  },
  {
   "cell_type": "code",
   "execution_count": 9,
   "metadata": {},
   "outputs": [
    {
     "name": "stdout",
     "output_type": "stream",
     "text": [
      "src/dev_scripts/run_search_new.py  --case BO_precursor --test_name new_target --target target --aim maximise --benchmark 1 --num_iteration 2 --num_elem_initialisation 50 --which_acquisition EI --df_path data/output/Full_dataset/New_target200324.csv --df_precursors_path data/output/Prescursor_data/precursor_data_200324.pkl --config_dir /rds/general/user/ma11115/home/Geom3D/Geom3D/training/SchNet_frag/ --search_space_loc data/input/search_space/test/search_space1.pkl --frag_properties selected --lim_counter 10\n",
      " number of fragment 6\n",
      "True benchmark\n"
     ]
    },
    {
     "name": "stderr",
     "output_type": "stream",
     "text": [
      "C:\\Users\\ma11115\\OneDrive - Imperial College London\\github_folder\\STK_search\\src\\dev_scripts\\run_search_new.py:50: DtypeWarning: Columns (20) have mixed types. Specify dtype option on import or set low_memory=False.\n",
      "  df_total = pd.read_csv(df_path)\n"
     ]
    },
    {
     "name": "stdout",
     "output_type": "stream",
     "text": [
      "BO_precursor   case  \n",
      "Index(['Atom_num', 'HOMO (eV)', 'LUMO (eV)', 'HOMO_LUMO_GAP (eV)', 'IP (eV)',\n",
      "       'EA (eV)', '1 Excited state Energy (eV)', '1 Excited state Osc',\n",
      "       '2 Excited state Energy (eV)', '2 Excited state Osc',\n",
      "       '3 Excited state Energy (eV)', '3 Excited state Osc'],\n",
      "      dtype='object')\n",
      "Inputs saved.\n",
      "element Inchikey suggested: RNEXACFTXLDVTO-UHFFFAOYSA-N, Eval: -1.843057149439776\n",
      "element Inchikey suggested: CRKWPXOHLUHPDS-MPEKYDAASA-N, Eval: -0.2930321810884516\n",
      "element Inchikey suggested: CGHSNKMDTZDTHF-UHFFFAOYSA-N, Eval: -1.159750321274828\n",
      "element Inchikey suggested: MIQDDTCZGNSEGN-HQILZYGMSA-N, Eval: -2.019325861192966\n",
      "element Inchikey suggested: ACLMODMVFZEZMT-UHFFFAOYSA-N, Eval: -1.808525167293411\n",
      "element Inchikey suggested: HMYIYITXEFTEJJ-DBOAKCCCSA-N, Eval: -4.0657\n",
      "element Inchikey suggested: MYTLDRNGXNJFLN-UHFFFAOYSA-N, Eval: -0.5811162158320039\n",
      "element Inchikey suggested: QEGFSLZXQATGCH-OKCVXOCRSA-N, Eval: -1.196281792020672\n",
      "element Inchikey suggested: VAQANIDTLHWWQM-UHFFFAOYSA-N, Eval: -1.5442831573502456\n",
      "element Inchikey suggested: FOKMTXJKIFEUGF-UHFFFAOYSA-N, Eval: -0.4020925501971201\n",
      "element Inchikey suggested: DBJYSDPDBJXJIU-UHFFFAOYSA-N, Eval: -2.264053123769907\n",
      "element Inchikey suggested: NJOKHBTXWZFUIB-UHFFFAOYSA-N, Eval: -1.5075710387853662\n",
      "element Inchikey suggested: PLZVHRMKROPNRD-UHFFFAOYSA-N, Eval: -1.340213065672197\n",
      "element Inchikey suggested: NBZNFXXLMBFSRN-ZUGVVQKDSA-N, Eval: -3.0667406450918846\n",
      "element Inchikey suggested: MVPWWAXDWMBXPF-BXWLGQDISA-N, Eval: -1.004671548667741\n",
      "element Inchikey suggested: HTIOOQURSOUNGC-UHFFFAOYSA-N, Eval: -1.7377037355690397\n",
      "element Inchikey suggested: MUPKCRPTNLHIDC-WKULSOCRSA-N, Eval: -1.236372778257563\n",
      "element Inchikey suggested: WTTONOQVMDPYSH-GNFDVKHWSA-N, Eval: -2.436185475053176\n",
      "element Inchikey suggested: SCESUOCLLOSVFZ-HGMRCBETSA-N, Eval: -1.761573845196053\n",
      "element Inchikey suggested: BOYNKIWBPQMTQC-UHFFFAOYSA-N, Eval: -2.88908029403677\n",
      "element Inchikey suggested: RCQYXTRJHGSDKU-UHFFFAOYSA-N, Eval: -2.634473177610689\n",
      "element Inchikey suggested: YNIONSWXRKZOIW-UHFFFAOYSA-N, Eval: -1.2295646470835109\n",
      "element Inchikey suggested: ISBOCYGUDWQAGO-RETZTXEYSA-N, Eval: -0.7585629397285871\n",
      "element Inchikey suggested: JMEUANANXHCWKK-UHFFFAOYSA-N, Eval: -1.9820716375308696\n",
      "element Inchikey suggested: AGGVPBWQDCSNDZ-SBXMUCCLSA-N, Eval: -1.4458402445907856\n",
      "element Inchikey suggested: VDSCUHZQESXLGJ-UHFFFAOYSA-N, Eval: -1.5317476375821657\n",
      "element Inchikey suggested: GHULISZOWOTLQE-UHFFFAOYSA-N, Eval: -2.183399678480379\n",
      "element Inchikey suggested: RQMIFGJCALETPH-UHFFFAOYSA-N, Eval: -1.730670520501626\n",
      "element Inchikey suggested: ZLIQZULAVOUXLY-UHFFFAOYSA-N, Eval: -2.220536169296377\n",
      "element Inchikey suggested: NTQLZCYZLDUBRE-MMGZGYBMSA-N, Eval: -0.9781588327216392\n",
      "element Inchikey suggested: PFNHFTIBJWBMTL-IURWMYGYSA-N, Eval: -0.9014120437969502\n",
      "element Inchikey suggested: WJVSEKOANYUHTD-WMILAWAJSA-N, Eval: -0.6889939468194413\n",
      "element Inchikey suggested: LSOIZCNUVVLNEU-UHFFFAOYSA-N, Eval: -0.5694711775092569\n",
      "element Inchikey suggested: OWJDGTSJZPGAMI-UHFFFAOYSA-N, Eval: -2.443684935776022\n",
      "element Inchikey suggested: VWXDQFSSBBYVIT-UHFFFAOYSA-N, Eval: -1.4438597485579805\n",
      "element Inchikey suggested: MPQLQKGXERCWHJ-UHFFFAOYSA-N, Eval: -2.307086643357144\n",
      "element Inchikey suggested: UWOQUWJLXJTXDV-AEUUOICLSA-N, Eval: -3.7552816599529626\n",
      "element Inchikey suggested: FVCUYYMXKAFXIX-UHFFFAOYSA-N, Eval: -1.2909015686917291\n",
      "element Inchikey suggested: ZVQPBFMJUROXEB-UHFFFAOYSA-N, Eval: -1.4220790998652868\n",
      "element Inchikey suggested: JMAXYMNTYODWFU-UHFFFAOYSA-N, Eval: -0.9072041007371436\n",
      "element Inchikey suggested: ANIOAZWXKVHSCO-UGWVNTRHSA-N, Eval: -2.59123280676638\n",
      "element Inchikey suggested: SSDMXECFQGLAPE-UHFFFAOYSA-N, Eval: -3.3652400086720373\n",
      "element Inchikey suggested: SPHCFKGZHHNMRL-ZRUDIRFBSA-N, Eval: -1.0276055538715614\n",
      "element Inchikey suggested: APQMHYZGKUFSFO-UHFFFAOYSA-N, Eval: -0.5616568817326366\n",
      "element Inchikey suggested: MZIYXVCXOPHLRA-UHFFFAOYSA-N, Eval: -0.5592952431455518\n",
      "element Inchikey suggested: SKWWVYKWKLLADC-UHFFFAOYSA-N, Eval: -3.0119075122407697\n",
      "element Inchikey suggested: ZQCKWINZNGXYRY-CHVBVBDWSA-N, Eval: -1.2344483368225878\n",
      "element Inchikey suggested: GSABBBYWTXPHIB-UHFFFAOYSA-N, Eval: -1.0131566768647762\n",
      "element Inchikey suggested: UJDXZVCQEDGNSK-UHFFFAOYSA-N, Eval: -1.6381716232008623\n",
      "element Inchikey suggested: BWYORUIFMSQYNV-UHFFFAOYSA-N, Eval: -3.974972163982408\n",
      "max fitness acquired: -0.2930321810884516\n",
      "min fitness acquired: -4.0657\n",
      "element Inchikey suggested: IJYBDNJHRXZYAU-UHFFFAOYSA-N, Eval: -0.1145235229826866\n",
      "iteration 0 completed\n",
      "max fitness acquired: -0.1145235229826866\n",
      "min fitness acquired: -4.0657\n",
      "new fitness acquired: -0.1145235229826866\n",
      "element Inchikey suggested: LPPRPWAHXXQNPT-ZRARCMSGSA-N, Eval: -0.9508502381520711\n",
      "iteration 1 completed\n",
      "max fitness acquired: -0.1145235229826866\n",
      "min fitness acquired: -4.0657\n",
      "new fitness acquired: -0.9508502381520711\n"
     ]
    }
   ],
   "source": [
    "# run a search experiment with the new target\n",
    "from stk_search.utils import run_hpc_utils\n",
    "importlib.reload(run_hpc_utils)\n",
    "case_name = 'BO_precursor'#'BO_learned'\n",
    "df_total_path = \"data/output/Full_dataset/New_target200324.csv\"\n",
    "df_precursors_path =\"data/output/Prescursor_data/precursor_data_200324.pkl\"\n",
    "exp_name = \"new_target\"\n",
    "search_space_loc = \"data/input/search_space/test/search_space1.pkl\"\n",
    "which_acquisition = \"EI\"\n",
    "\n",
    "string_to_run_notbook, script_qsub = run_hpc_utils.generate_string_run(\n",
    "                case=case_name,\n",
    "                target=\"target\",\n",
    "                aim='maximise',\n",
    "                num_elem_initialisation=50,\n",
    "                num_iteration=2,\n",
    "                df_path=df_total_path,\n",
    "                benchmark=True,\n",
    "                test_name= exp_name,\n",
    "                df_precursors_path=df_precursors_path,\n",
    "                frag_properties=\"selected\",\n",
    "                search_space_loc = search_space_loc,\n",
    "                which_acquisition = which_acquisition,\n",
    "            )\n",
    "\n",
    "%run $string_to_run_notbook"
   ]
  },
  {
   "cell_type": "code",
   "execution_count": 5,
   "metadata": {},
   "outputs": [],
   "source": [
    "import stko\n",
    "stko.cal"
   ]
  },
  {
   "cell_type": "code",
   "execution_count": null,
   "metadata": {},
   "outputs": [],
   "source": []
  }
 ],
 "metadata": {
  "kernelspec": {
   "display_name": "Geom3D",
   "language": "python",
   "name": "python3"
  },
  "language_info": {
   "codemirror_mode": {
    "name": "ipython",
    "version": 3
   },
   "file_extension": ".py",
   "mimetype": "text/x-python",
   "name": "python",
   "nbconvert_exporter": "python",
   "pygments_lexer": "ipython3",
   "version": "3.11.6"
  }
 },
 "nbformat": 4,
 "nbformat_minor": 2
}
