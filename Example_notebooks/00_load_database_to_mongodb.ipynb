{
 "cells": [
  {
   "cell_type": "code",
   "execution_count": null,
   "metadata": {},
   "outputs": [],
   "source": []
  },
  {
   "cell_type": "markdown",
   "metadata": {},
   "source": [
    "# this notebook helps load the data to the mongodb database"
   ]
  },
  {
   "cell_type": "markdown",
   "metadata": {},
   "source": []
  },
  {
   "cell_type": "code",
   "execution_count": 1,
   "metadata": {},
   "outputs": [],
   "source": [
    "import pymongo\n",
    "import json\n",
    "import stk"
   ]
  },
  {
   "cell_type": "code",
   "execution_count": 3,
   "metadata": {},
   "outputs": [],
   "source": [
    "# this is to load the database to learn from into the mongodb database\n",
    "# this is done only once and it can take a while to load all the data back to your database\n",
    "def add_files_to_mongo_db(client,database_name,collection_name,data_base_folder):\n",
    "    \"\"\"This function takes a json file and add it to the mongo database.\n",
    "    \n",
    "    Parameters\n",
    "    ----------\n",
    "    calculator : object\n",
    "        object of the class Precursor_calculation.CalculatePrecursor()\n",
    "    collection_name : str\n",
    "        name of the collection to add, this needs to match the name of the json file in the data_base_folder\n",
    "    data_base_folder : str\n",
    "        path to the folder where the json file is located\n",
    "    \"\"\"  # noqa: D401\n",
    "    import json\n",
    "    from pymongo import MongoClient\n",
    "\n",
    "    client = MongoClient(client)\n",
    "    db = client[database_name]\n",
    "    collection = db[collection_name]\n",
    "    json_file = data_base_folder + collection_name + \".json\"\n",
    "    with open(json_file) as f:\n",
    "        file_data = json.load(f)\n",
    "    for file in file_data:\n",
    "        file.pop(\"_id\", None)\n",
    "        collection.update_many(\n",
    "                filter={\"InChIKey\": file[\"InChIKey\"]},\n",
    "                update={\"$set\": file},\n",
    "                upsert=True,\n",
    "            )\n",
    "    client.close()\n",
    "\n"
   ]
  },
  {
   "cell_type": "code",
   "execution_count": 7,
   "metadata": {},
   "outputs": [],
   "source": [
    "# add the fragments to the local database\n",
    "client = \"mongodb://localhost:27017/\"\n",
    "data_base_folder = \"data_example/fragment/files_for_database/\"\n",
    "data_base_name = \"stk_precursor\"\n",
    "client = \"mongodb://localhost:27017/\"\n",
    "add_files_to_mongo_db(client,data_base_name,'molecules',data_base_folder)\n",
    "add_files_to_mongo_db(client,data_base_name,'building_block_position_matrices',data_base_folder)\n",
    "#add_files_to_mongo_db(client,data_base_name,\"position_matrices\",data_base_folder)\n",
    "add_files_to_mongo_db(client,data_base_name,\"Precursors_IPEA\",data_base_folder)\n",
    "add_files_to_mongo_db(client,data_base_name,\"Precursors_opt\",data_base_folder)\n",
    "add_files_to_mongo_db(client,data_base_name,\"Precursors_Stda\",data_base_folder)\n"
   ]
  },
  {
   "cell_type": "code",
   "execution_count": 8,
   "metadata": {},
   "outputs": [],
   "source": [
    "# add the constructed molecules to the local database  \n",
    "data_base_folder = \"/media/mohammed/Work/Work/data_precurosr_Jelfs1/stk_constructed/\"\n",
    "data_base_name = \"stk_constructed\"\n",
    "client = \"mongodb://localhost:27017/\"\n",
    "\n",
    "add_files_to_mongo_db(client,data_base_name,\"building_block_position_matrices\",data_base_folder)\n",
    "add_files_to_mongo_db(client,data_base_name,\"constructed_molecules\",data_base_folder)\n",
    "add_files_to_mongo_db(client,data_base_name,\"molecules\",data_base_folder)\n",
    "add_files_to_mongo_db(client,data_base_name,\"position_matrices\",data_base_folder)\n",
    "add_files_to_mongo_db(client,data_base_name,\"BO_exp1_IPEA\",data_base_folder)\n",
    "add_files_to_mongo_db(client,data_base_name,\"BO_exp1_opt\",data_base_folder)\n",
    "add_files_to_mongo_db(client,data_base_name,\"BO_exp1_Stda\",data_base_folder)"
   ]
  },
  {
   "cell_type": "code",
   "execution_count": null,
   "metadata": {},
   "outputs": [],
   "source": []
  }
 ],
 "metadata": {
  "kernelspec": {
   "display_name": "stk_search",
   "language": "python",
   "name": "python3"
  },
  "language_info": {
   "codemirror_mode": {
    "name": "ipython",
    "version": 3
   },
   "file_extension": ".py",
   "mimetype": "text/x-python",
   "name": "python",
   "nbconvert_exporter": "python",
   "pygments_lexer": "ipython3",
   "version": "3.8.19"
  }
 },
 "nbformat": 4,
 "nbformat_minor": 2
}
