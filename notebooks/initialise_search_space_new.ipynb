{
 "cells": [
  {
   "cell_type": "code",
   "execution_count": 6,
   "metadata": {},
   "outputs": [],
   "source": [
    "\n",
    "import os\n",
    "os.chdir('c:\\\\Users\\\\ma11115\\\\OneDrive - Imperial College London\\\\github_folder\\\\STK_SEARCH\\\\')\n",
    "from stk_search.Search_space import Search_Space"
   ]
  },
  {
   "cell_type": "code",
   "execution_count": 7,
   "metadata": {},
   "outputs": [
    {
     "name": "stdout",
     "output_type": "stream",
     "text": [
      "Index(['InChIKey'], dtype='object')\n",
      "shape of the dataframe (64, 6)\n"
     ]
    },
    {
     "data": {
      "text/html": [
       "<div>\n",
       "<style scoped>\n",
       "    .dataframe tbody tr th:only-of-type {\n",
       "        vertical-align: middle;\n",
       "    }\n",
       "\n",
       "    .dataframe tbody tr th {\n",
       "        vertical-align: top;\n",
       "    }\n",
       "\n",
       "    .dataframe thead th {\n",
       "        text-align: right;\n",
       "    }\n",
       "</style>\n",
       "<table border=\"1\" class=\"dataframe\">\n",
       "  <thead>\n",
       "    <tr style=\"text-align: right;\">\n",
       "      <th></th>\n",
       "      <th>InChIKey_0</th>\n",
       "      <th>InChIKey_1</th>\n",
       "      <th>InChIKey_2</th>\n",
       "      <th>InChIKey_3</th>\n",
       "      <th>InChIKey_4</th>\n",
       "      <th>InChIKey_5</th>\n",
       "    </tr>\n",
       "  </thead>\n",
       "  <tbody>\n",
       "    <tr>\n",
       "      <th>0</th>\n",
       "      <td>KYORXLIHDAZXPK-UHFFFAOYSA-N</td>\n",
       "      <td>UVCFYBOLMFIWGF-FPYGCLRLSA-N</td>\n",
       "      <td>HFUBKQHDPJZQIW-UHFFFAOYSA-N</td>\n",
       "      <td>WNSNPGHNIJOOPM-UHFFFAOYSA-N</td>\n",
       "      <td>GESPTHHXNPDXDT-OQFOIZHKSA-N</td>\n",
       "      <td>KIYKHEOWZLJZSB-UHFFFAOYSA-N</td>\n",
       "    </tr>\n",
       "    <tr>\n",
       "      <th>1</th>\n",
       "      <td>KYORXLIHDAZXPK-UHFFFAOYSA-N</td>\n",
       "      <td>UVCFYBOLMFIWGF-FPYGCLRLSA-N</td>\n",
       "      <td>HFUBKQHDPJZQIW-UHFFFAOYSA-N</td>\n",
       "      <td>WNSNPGHNIJOOPM-UHFFFAOYSA-N</td>\n",
       "      <td>GESPTHHXNPDXDT-OQFOIZHKSA-N</td>\n",
       "      <td>CGQMQIAGYJZKNI-UHFFFAOYSA-N</td>\n",
       "    </tr>\n",
       "    <tr>\n",
       "      <th>2</th>\n",
       "      <td>KYORXLIHDAZXPK-UHFFFAOYSA-N</td>\n",
       "      <td>UVCFYBOLMFIWGF-FPYGCLRLSA-N</td>\n",
       "      <td>HFUBKQHDPJZQIW-UHFFFAOYSA-N</td>\n",
       "      <td>WNSNPGHNIJOOPM-UHFFFAOYSA-N</td>\n",
       "      <td>YYTSOZXMJUHWJS-UHFFFAOYSA-N</td>\n",
       "      <td>KIYKHEOWZLJZSB-UHFFFAOYSA-N</td>\n",
       "    </tr>\n",
       "    <tr>\n",
       "      <th>3</th>\n",
       "      <td>KYORXLIHDAZXPK-UHFFFAOYSA-N</td>\n",
       "      <td>UVCFYBOLMFIWGF-FPYGCLRLSA-N</td>\n",
       "      <td>HFUBKQHDPJZQIW-UHFFFAOYSA-N</td>\n",
       "      <td>WNSNPGHNIJOOPM-UHFFFAOYSA-N</td>\n",
       "      <td>YYTSOZXMJUHWJS-UHFFFAOYSA-N</td>\n",
       "      <td>CGQMQIAGYJZKNI-UHFFFAOYSA-N</td>\n",
       "    </tr>\n",
       "    <tr>\n",
       "      <th>4</th>\n",
       "      <td>KYORXLIHDAZXPK-UHFFFAOYSA-N</td>\n",
       "      <td>UVCFYBOLMFIWGF-FPYGCLRLSA-N</td>\n",
       "      <td>HFUBKQHDPJZQIW-UHFFFAOYSA-N</td>\n",
       "      <td>LPRVANXWMPVCRC-BAQGIRSFSA-N</td>\n",
       "      <td>GESPTHHXNPDXDT-OQFOIZHKSA-N</td>\n",
       "      <td>KIYKHEOWZLJZSB-UHFFFAOYSA-N</td>\n",
       "    </tr>\n",
       "  </tbody>\n",
       "</table>\n",
       "</div>"
      ],
      "text/plain": [
       "                    InChIKey_0                   InChIKey_1  \\\n",
       "0  KYORXLIHDAZXPK-UHFFFAOYSA-N  UVCFYBOLMFIWGF-FPYGCLRLSA-N   \n",
       "1  KYORXLIHDAZXPK-UHFFFAOYSA-N  UVCFYBOLMFIWGF-FPYGCLRLSA-N   \n",
       "2  KYORXLIHDAZXPK-UHFFFAOYSA-N  UVCFYBOLMFIWGF-FPYGCLRLSA-N   \n",
       "3  KYORXLIHDAZXPK-UHFFFAOYSA-N  UVCFYBOLMFIWGF-FPYGCLRLSA-N   \n",
       "4  KYORXLIHDAZXPK-UHFFFAOYSA-N  UVCFYBOLMFIWGF-FPYGCLRLSA-N   \n",
       "\n",
       "                    InChIKey_2                   InChIKey_3  \\\n",
       "0  HFUBKQHDPJZQIW-UHFFFAOYSA-N  WNSNPGHNIJOOPM-UHFFFAOYSA-N   \n",
       "1  HFUBKQHDPJZQIW-UHFFFAOYSA-N  WNSNPGHNIJOOPM-UHFFFAOYSA-N   \n",
       "2  HFUBKQHDPJZQIW-UHFFFAOYSA-N  WNSNPGHNIJOOPM-UHFFFAOYSA-N   \n",
       "3  HFUBKQHDPJZQIW-UHFFFAOYSA-N  WNSNPGHNIJOOPM-UHFFFAOYSA-N   \n",
       "4  HFUBKQHDPJZQIW-UHFFFAOYSA-N  LPRVANXWMPVCRC-BAQGIRSFSA-N   \n",
       "\n",
       "                    InChIKey_4                   InChIKey_5  \n",
       "0  GESPTHHXNPDXDT-OQFOIZHKSA-N  KIYKHEOWZLJZSB-UHFFFAOYSA-N  \n",
       "1  GESPTHHXNPDXDT-OQFOIZHKSA-N  CGQMQIAGYJZKNI-UHFFFAOYSA-N  \n",
       "2  YYTSOZXMJUHWJS-UHFFFAOYSA-N  KIYKHEOWZLJZSB-UHFFFAOYSA-N  \n",
       "3  YYTSOZXMJUHWJS-UHFFFAOYSA-N  CGQMQIAGYJZKNI-UHFFFAOYSA-N  \n",
       "4  GESPTHHXNPDXDT-OQFOIZHKSA-N  KIYKHEOWZLJZSB-UHFFFAOYSA-N  "
      ]
     },
     "execution_count": 7,
     "metadata": {},
     "output_type": "execute_result"
    }
   ],
   "source": [
    "import pandas as pd\n",
    "# Load the searched space\n",
    "df_precursors_path = 'Data/output/Prescursor_data/calculation_data_precursor_310823_clean.pkl'\n",
    "df_precursors=pd.read_pickle(df_precursors_path)\n",
    "\n",
    "SP = Search_Space(number_of_fragments=6,df=df_precursors,features_frag=df_precursors.columns[0:1],generation_type='manual')\n",
    "\n",
    "print(SP.features_frag)\n",
    "SP.generate_dataframe_with_search_space().head()"
   ]
  },
  {
   "cell_type": "code",
   "execution_count": 9,
   "metadata": {},
   "outputs": [
    {
     "data": {
      "image/png": "[encoded data removed]",
      "text/plain": [
       "<Figure size 640x480 with 1 Axes>"
      ]
     },
     "metadata": {},
     "output_type": "display_data"
    }
   ],
   "source": [
    "# save and load the search space\n",
    "import pickle\n",
    "output_folder = 'data/input/search_space/test'\n",
    "os.makedirs(output_folder,exist_ok=True)\n",
    "pickle.dump(SP,file=open(output_folder+'/search_space1.pkl','wb'))\n",
    "\n",
    "SP = pickle.load(open(output_folder+'/search_space1.pkl','rb'))\n",
    "SP.plot_chem_space()"
   ]
  },
  {
   "cell_type": "code",
   "execution_count": 11,
   "metadata": {},
   "outputs": [
    {
     "data": {
      "application/vnd.jupyter.widget-view+json": {
       "model_id": "9608edcea4544cb39c5f731d7833343d",
       "version_major": 2,
       "version_minor": 0
      },
      "text/plain": [
       "VBox(children=(Dropdown(description='Property of fragment:', options=('Atom_num', 'HOMO (eV)', 'LUMO (eV)', 'H…"
      ]
     },
     "metadata": {},
     "output_type": "display_data"
    },
    {
     "data": {
      "application/vnd.jupyter.widget-view+json": {
       "model_id": "47cd0b703b0745b2ab19b970aea3106d",
       "version_major": 2,
       "version_minor": 0
      },
      "text/plain": [
       "VBox(children=(SelectMultiple(description='Fragment 0', disabled=True, layout=Layout(height='200px'), options=…"
      ]
     },
     "metadata": {},
     "output_type": "display_data"
    },
    {
     "data": {
      "application/vnd.jupyter.widget-view+json": {
       "model_id": "504e45f7f03243dca611a2d03ab7c9c1",
       "version_major": 2,
       "version_minor": 0
      },
      "text/plain": [
       "interactive(children=(Dropdown(description='Value:', options=('Atom_num', 'HOMO (eV)', 'LUMO (eV)', 'HOMO_LUMO…"
      ]
     },
     "metadata": {},
     "output_type": "display_data"
    }
   ],
   "source": [
    "for i in range(SP.number_of_fragments):\n",
    "\n",
    "    SP.add_condition(\"'IP (eV)'#<#6.5\",i)\n",
    "SP.generate_interactive_condition()"
   ]
  },
  {
   "cell_type": "code",
   "execution_count": 13,
   "metadata": {},
   "outputs": [
    {
     "name": "stdout",
     "output_type": "stream",
     "text": [
      "shape of the dataframe (274625, 6)\n"
     ]
    },
    {
     "data": {
      "text/html": [
       "<div>\n",
       "<style scoped>\n",
       "    .dataframe tbody tr th:only-of-type {\n",
       "        vertical-align: middle;\n",
       "    }\n",
       "\n",
       "    .dataframe tbody tr th {\n",
       "        vertical-align: top;\n",
       "    }\n",
       "\n",
       "    .dataframe thead th {\n",
       "        text-align: right;\n",
       "    }\n",
       "</style>\n",
       "<table border=\"1\" class=\"dataframe\">\n",
       "  <thead>\n",
       "    <tr style=\"text-align: right;\">\n",
       "      <th></th>\n",
       "      <th>InChIKey_0</th>\n",
       "      <th>InChIKey_1</th>\n",
       "      <th>InChIKey_2</th>\n",
       "      <th>InChIKey_3</th>\n",
       "      <th>InChIKey_4</th>\n",
       "      <th>InChIKey_5</th>\n",
       "    </tr>\n",
       "  </thead>\n",
       "  <tbody>\n",
       "    <tr>\n",
       "      <th>0</th>\n",
       "      <td>ULRLMMWHCRPTDR-UHFFFAOYSA-N</td>\n",
       "      <td>ULRLMMWHCRPTDR-UHFFFAOYSA-N</td>\n",
       "      <td>ULRLMMWHCRPTDR-UHFFFAOYSA-N</td>\n",
       "      <td>ULRLMMWHCRPTDR-UHFFFAOYSA-N</td>\n",
       "      <td>ULRLMMWHCRPTDR-UHFFFAOYSA-N</td>\n",
       "      <td>ULRLMMWHCRPTDR-UHFFFAOYSA-N</td>\n",
       "    </tr>\n",
       "    <tr>\n",
       "      <th>1</th>\n",
       "      <td>ULRLMMWHCRPTDR-UHFFFAOYSA-N</td>\n",
       "      <td>ULRLMMWHCRPTDR-UHFFFAOYSA-N</td>\n",
       "      <td>YYTSOZXMJUHWJS-UHFFFAOYSA-N</td>\n",
       "      <td>YYTSOZXMJUHWJS-UHFFFAOYSA-N</td>\n",
       "      <td>ULRLMMWHCRPTDR-UHFFFAOYSA-N</td>\n",
       "      <td>ULRLMMWHCRPTDR-UHFFFAOYSA-N</td>\n",
       "    </tr>\n",
       "    <tr>\n",
       "      <th>2</th>\n",
       "      <td>ULRLMMWHCRPTDR-UHFFFAOYSA-N</td>\n",
       "      <td>ULRLMMWHCRPTDR-UHFFFAOYSA-N</td>\n",
       "      <td>MDMJCVVPAIPYQI-UHFFFAOYSA-N</td>\n",
       "      <td>MDMJCVVPAIPYQI-UHFFFAOYSA-N</td>\n",
       "      <td>ULRLMMWHCRPTDR-UHFFFAOYSA-N</td>\n",
       "      <td>ULRLMMWHCRPTDR-UHFFFAOYSA-N</td>\n",
       "    </tr>\n",
       "    <tr>\n",
       "      <th>3</th>\n",
       "      <td>ULRLMMWHCRPTDR-UHFFFAOYSA-N</td>\n",
       "      <td>ULRLMMWHCRPTDR-UHFFFAOYSA-N</td>\n",
       "      <td>HLGLBTFTIARMAA-UHFFFAOYSA-N</td>\n",
       "      <td>HLGLBTFTIARMAA-UHFFFAOYSA-N</td>\n",
       "      <td>ULRLMMWHCRPTDR-UHFFFAOYSA-N</td>\n",
       "      <td>ULRLMMWHCRPTDR-UHFFFAOYSA-N</td>\n",
       "    </tr>\n",
       "    <tr>\n",
       "      <th>4</th>\n",
       "      <td>ULRLMMWHCRPTDR-UHFFFAOYSA-N</td>\n",
       "      <td>ULRLMMWHCRPTDR-UHFFFAOYSA-N</td>\n",
       "      <td>XBJIOVVBXSFTER-UHFFFAOYSA-N</td>\n",
       "      <td>XBJIOVVBXSFTER-UHFFFAOYSA-N</td>\n",
       "      <td>ULRLMMWHCRPTDR-UHFFFAOYSA-N</td>\n",
       "      <td>ULRLMMWHCRPTDR-UHFFFAOYSA-N</td>\n",
       "    </tr>\n",
       "  </tbody>\n",
       "</table>\n",
       "</div>"
      ],
      "text/plain": [
       "                    InChIKey_0                   InChIKey_1  \\\n",
       "0  ULRLMMWHCRPTDR-UHFFFAOYSA-N  ULRLMMWHCRPTDR-UHFFFAOYSA-N   \n",
       "1  ULRLMMWHCRPTDR-UHFFFAOYSA-N  ULRLMMWHCRPTDR-UHFFFAOYSA-N   \n",
       "2  ULRLMMWHCRPTDR-UHFFFAOYSA-N  ULRLMMWHCRPTDR-UHFFFAOYSA-N   \n",
       "3  ULRLMMWHCRPTDR-UHFFFAOYSA-N  ULRLMMWHCRPTDR-UHFFFAOYSA-N   \n",
       "4  ULRLMMWHCRPTDR-UHFFFAOYSA-N  ULRLMMWHCRPTDR-UHFFFAOYSA-N   \n",
       "\n",
       "                    InChIKey_2                   InChIKey_3  \\\n",
       "0  ULRLMMWHCRPTDR-UHFFFAOYSA-N  ULRLMMWHCRPTDR-UHFFFAOYSA-N   \n",
       "1  YYTSOZXMJUHWJS-UHFFFAOYSA-N  YYTSOZXMJUHWJS-UHFFFAOYSA-N   \n",
       "2  MDMJCVVPAIPYQI-UHFFFAOYSA-N  MDMJCVVPAIPYQI-UHFFFAOYSA-N   \n",
       "3  HLGLBTFTIARMAA-UHFFFAOYSA-N  HLGLBTFTIARMAA-UHFFFAOYSA-N   \n",
       "4  XBJIOVVBXSFTER-UHFFFAOYSA-N  XBJIOVVBXSFTER-UHFFFAOYSA-N   \n",
       "\n",
       "                    InChIKey_4                   InChIKey_5  \n",
       "0  ULRLMMWHCRPTDR-UHFFFAOYSA-N  ULRLMMWHCRPTDR-UHFFFAOYSA-N  \n",
       "1  ULRLMMWHCRPTDR-UHFFFAOYSA-N  ULRLMMWHCRPTDR-UHFFFAOYSA-N  \n",
       "2  ULRLMMWHCRPTDR-UHFFFAOYSA-N  ULRLMMWHCRPTDR-UHFFFAOYSA-N  \n",
       "3  ULRLMMWHCRPTDR-UHFFFAOYSA-N  ULRLMMWHCRPTDR-UHFFFAOYSA-N  \n",
       "4  ULRLMMWHCRPTDR-UHFFFAOYSA-N  ULRLMMWHCRPTDR-UHFFFAOYSA-N  "
      ]
     },
     "execution_count": 13,
     "metadata": {},
     "output_type": "execute_result"
    }
   ],
   "source": [
    "SP.generation_type ='conditional'\n",
    "SP.syntax=[0,1,2,2,1,0]\n",
    "for i in range(SP.number_of_fragments):\n",
    "    SP.add_condition(\"'IP (eV)'#<#6.5\",i)\n",
    "SP.redefine_search_space().head()"
   ]
  },
  {
   "cell_type": "code",
   "execution_count": null,
   "metadata": {},
   "outputs": [],
   "source": []
  }
 ],
 "metadata": {
  "kernelspec": {
   "display_name": "Python 3",
   "language": "python",
   "name": "python3"
  },
  "language_info": {
   "codemirror_mode": {
    "name": "ipython",
    "version": 3
   },
   "file_extension": ".py",
   "mimetype": "text/x-python",
   "name": "python",
   "nbconvert_exporter": "python",
   "pygments_lexer": "ipython3",
   "version": "3.10.12"
  },
  "orig_nbformat": 4
 },
 "nbformat": 4,
 "nbformat_minor": 2
}
