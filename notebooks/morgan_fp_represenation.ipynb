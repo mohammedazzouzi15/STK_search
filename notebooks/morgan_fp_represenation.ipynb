{
 "cells": [
  {
   "cell_type": "code",
   "execution_count": 1,
   "metadata": {},
   "outputs": [],
   "source": [
    "import os\n",
    "os.chdir('/rds/general/user/cb1319/home/STK_search')"
   ]
  },
  {
   "cell_type": "code",
   "execution_count": 15,
   "metadata": {},
   "outputs": [],
   "source": [
    "import pandas as pd\n",
    "from src.stk_search import Database_utils\n",
    "#%% \n",
    "# Load the searched space\n",
    "df_path = '/rds/general/user/cb1319/home/GEOM3D/STK_path/data/output/Full_dataset/df_total_subset_16_11_23.csv'\n",
    "df_precursors_path = '/rds/general/user/cb1319/home/GEOM3D/STK_path/data/output/Prescursor_data/calculation_data_precursor_071123_clean.pkl'\n",
    "df_total, df_precursors = Database_utils.load_data_from_file(df_path, df_precursors_path)"
   ]
  },
  {
   "cell_type": "code",
   "execution_count": 16,
   "metadata": {},
   "outputs": [],
   "source": [
    "# take the first 500 rows of df_total\n",
    "df_total = df_total.head(1100)"
   ]
  },
  {
   "cell_type": "code",
   "execution_count": 17,
   "metadata": {},
   "outputs": [],
   "source": [
    "# Get NumPy arrays from DataFrame for the input and target\n",
    "y_IP = df_total['ionisation potential (eV)'].values\n",
    "X_6mer_inch = df_total['BB'].values\n",
    "X_frag_mol = df_precursors['mol_opt'].values\n",
    "X_frag_inch = df_precursors['InChIKey'].values\n",
    "keys_6mer = df_total['InChIKey'].values"
   ]
  },
  {
   "cell_type": "code",
   "execution_count": 18,
   "metadata": {},
   "outputs": [],
   "source": [
    "import os\n",
    "from collections import Counter\n",
    "from pathlib import Path\n",
    "\n",
    "import matplotlib.pyplot as plt\n",
    "import numpy as np\n",
    "import pandas as pd\n",
    "import seaborn as sns\n",
    "from IPython.display import display, HTML\n",
    "from rdkit import Chem\n",
    "from rdkit.Chem import AllChem, DataStructs, Draw, rdFMCS\n",
    "from scipy.cluster.hierarchy import dendrogram, fcluster, linkage\n",
    "from sklearn.decomposition import PCA\n",
    "from sklearn.cluster import HDBSCAN\n",
    "from tqdm import tqdm"
   ]
  },
  {
   "cell_type": "code",
   "execution_count": 21,
   "metadata": {},
   "outputs": [],
   "source": [
    "from tqdm import tqdm\n",
    "from rdkit import Chem\n",
    "from rdkit.Chem import AllChem\n",
    "import numpy as np\n",
    "from sklearn.feature_selection import VarianceThreshold\n",
    "import torch\n",
    "\n",
    "def featurise(X, keys, params=None):\n",
    "    \"\"\"\n",
    "    Function that takes your fingerprint generator and returns a matrix of molecular descriptors.\n",
    "\n",
    "    X: Input the values of the array in the dataframe\n",
    "    params: a dictionary of parameters for the featurizer (optional, if no params put params=None)\n",
    "    keys: list of InchIkeys of the 6mer\n",
    "    \"\"\"\n",
    "\n",
    "    features = []\n",
    "    m, n = X.shape\n",
    "\n",
    "    # Implement tqdm to show progress bar\n",
    "    for i in tqdm(range(m), desc=\"Featurizing molecules\"):\n",
    "        feature = np.zeros(m)\n",
    "        for j in range(n):\n",
    "            mol = X[i, j]\n",
    "            if mol is not None:\n",
    "                # try:\n",
    "                fingerprint = AllChem.GetMorganFingerprintAsBitVect(mol, radius=2, nBits=1024)\n",
    "                fingerprint_array = np.array(list(map(int, fingerprint.ToBitString())))\n",
    "                feature[0:len(fingerprint_array)] = fingerprint_array\n",
    "                # except ValueError:\n",
    "                #     print(f\"Skipping invalid fingerprint for molecule at position ({i}, {j})\")\n",
    "\n",
    "        features.append(feature)\n",
    "    \n",
    "    features = np.array(features)\n",
    "\n",
    "    print(f'Features before cleaning up invalid and zero variance values: {features.shape[0]}')\n",
    "\n",
    "    # Drop the features containing invalid values\n",
    "    features = features[:, ~np.isnan(features).any(axis=0)]\n",
    "\n",
    "    # Here, we removed all zero-variance features, i.e. features that have the same value in all samples.\n",
    "    selector = VarianceThreshold(threshold=0.0)\n",
    "    features = selector.fit_transform(features)\n",
    "    print(f'Number of molecular descriptors after removing invalid and zero variance features: {features.shape[1]}')\n",
    "    print(f'Shape of features: {features.shape}.\\n')\n",
    "    \n",
    "    features_tensor = torch.tensor(features, dtype=torch.float32)\n",
    "\n",
    "    return features_tensor\n"
   ]
  },
  {
   "cell_type": "code",
   "execution_count": 22,
   "metadata": {},
   "outputs": [
    {
     "name": "stdout",
     "output_type": "stream",
     "text": [
      "Number of Oligomers in the dataset: 1100\n",
      "Elements in X_6mers not converted: 0\n",
      "Shape of X_6mer_array: (1100, 6)\n"
     ]
    },
    {
     "name": "stderr",
     "output_type": "stream",
     "text": [
      "Featurizing molecules: 100%|██████████| 1100/1100 [00:00<00:00, 1293.79it/s]\n"
     ]
    },
    {
     "name": "stdout",
     "output_type": "stream",
     "text": [
      "Features before cleaning up invalid and zero variance values: 1100\n",
      "Number of molecular descriptors after removing invalid and zero variance features: 66\n",
      "Shape of features: (1100, 66).\n",
      "\n",
      "MorganFP generated for the dataset\n"
     ]
    }
   ],
   "source": [
    "print('Number of Oligomers in the dataset:', len(keys_6mer))\n",
    "\n",
    "X_6mer_mol = [[] for _ in range(6)]  # Create a list of lists to store molecules for each position\n",
    "inchkey_to_molecule = dict(zip(X_frag_inch, X_frag_mol))  # Creates a dictionary in the precursor data to associate one InchiKey to a molecule\n",
    "conversion_fail = 0\n",
    "\n",
    "for i in np.arange(0, 6, 1):  # For each molecule\n",
    "    mol_list = []\n",
    "    temp_list = df_total[f'InChIKey_{i}'].values  # Looks at the InChIKeys in each of the 6 columns\n",
    "    for j in range(len(temp_list)):\n",
    "        inchkey = temp_list[j]  # Looks at the individual InChIKey in each row\n",
    "        if inchkey in inchkey_to_molecule:\n",
    "            mol_list.append(inchkey_to_molecule[inchkey])\n",
    "        else:\n",
    "            conversion_fail += 1\n",
    "    X_6mer_mol[i] = mol_list  # Assign the list of molecules to the corresponding position\n",
    "\n",
    "print(f\"Elements in X_6mers not converted: {conversion_fail}\")\n",
    "\n",
    "# Adjusted part to create a NumPy array\n",
    "max_molecules = max(len(position) for position in X_6mer_mol)\n",
    "X_6mer_array = np.full((max_molecules, 6), None, dtype=object)\n",
    "\n",
    "for i, position in enumerate(X_6mer_mol):\n",
    "    X_6mer_array[:len(position), i] = position\n",
    "\n",
    "print(f\"Shape of X_6mer_array: {X_6mer_array.shape}\")    # make an array containing the different RDKit molecules in each fragment\n",
    "\n",
    "# Generate Morgan fingerprints for the dataset\n",
    "morgan_fingerprints = featurise(X_6mer_array, keys_6mer)\n",
    "\n",
    "print(\"MorganFP generated for the dataset\")\n",
    "\n"
   ]
  },
  {
   "cell_type": "code",
   "execution_count": 5,
   "metadata": {},
   "outputs": [
    {
     "name": "stdout",
     "output_type": "stream",
     "text": [
      "Number of Oligomers in the dataset: 1500\n"
     ]
    },
    {
     "name": "stderr",
     "output_type": "stream",
     "text": [
      "Featurizing molecules: 100%|██████████| 1500/1500 [00:01<00:00, 991.90it/s]\n"
     ]
    },
    {
     "name": "stdout",
     "output_type": "stream",
     "text": [
      "size of the features tensor: torch.Size([1500, 66])\n",
      "Finished featurising molecules and saved the dataframe with Morgan fingerprints\n"
     ]
    }
   ],
   "source": [
    "import importlib\n",
    "import os\n",
    "from src.stk_search.Search_algorithm import Representation_morgan_fp\n",
    "\n",
    "importlib.reload(Representation_morgan_fp)\n",
    "\n",
    "os.chdir('/rds/general/user/cb1319/home/STK_search')\n",
    "%run src/stk_search/Search_algorithm/Representation_morgan_fp.py"
   ]
  },
  {
   "cell_type": "code",
   "execution_count": 5,
   "metadata": {},
   "outputs": [],
   "source": [
    "import os\n",
    "os.chdir('/rds/general/user/cb1319/home/STK_search/src')"
   ]
  },
  {
   "cell_type": "code",
   "execution_count": 8,
   "metadata": {},
   "outputs": [
    {
     "ename": "ModuleNotFoundError",
     "evalue": "No module named 'stko.calculators'",
     "output_type": "error",
     "traceback": [
      "\u001b[0;31m---------------------------------------------------------------------------\u001b[0m",
      "\u001b[0;31mModuleNotFoundError\u001b[0m                       Traceback (most recent call last)",
      "Cell \u001b[0;32mIn[8], line 3\u001b[0m\n\u001b[1;32m      1\u001b[0m \u001b[38;5;28;01mimport\u001b[39;00m \u001b[38;5;21;01mimportlib\u001b[39;00m\n\u001b[1;32m      2\u001b[0m \u001b[38;5;28;01mimport\u001b[39;00m \u001b[38;5;21;01mos\u001b[39;00m\n\u001b[0;32m----> 3\u001b[0m \u001b[38;5;28;01mfrom\u001b[39;00m \u001b[38;5;21;01mdev_scripts\u001b[39;00m \u001b[38;5;28;01mimport\u001b[39;00m run_search\n\u001b[1;32m      5\u001b[0m importlib\u001b[38;5;241m.\u001b[39mreload(run_search)\n\u001b[1;32m      7\u001b[0m os\u001b[38;5;241m.\u001b[39mchdir(\u001b[38;5;124m'\u001b[39m\u001b[38;5;124m/rds/general/user/cb1319/home/STK_search/src\u001b[39m\u001b[38;5;124m'\u001b[39m)\n",
      "File \u001b[0;32m~/STK_search/src/dev_scripts/run_search.py:1\u001b[0m\n\u001b[0;32m----> 1\u001b[0m \u001b[38;5;28;01mfrom\u001b[39;00m \u001b[38;5;21;01mstk_search\u001b[39;00m \u001b[38;5;28;01mimport\u001b[39;00m Search_Exp\n\u001b[1;32m      2\u001b[0m \u001b[38;5;28;01mfrom\u001b[39;00m \u001b[38;5;21;01mstk_search\u001b[39;00m\u001b[38;5;21;01m.\u001b[39;00m\u001b[38;5;21;01mSearch_algorithm\u001b[39;00m \u001b[38;5;28;01mimport\u001b[39;00m Search_algorithm\n\u001b[1;32m      3\u001b[0m \u001b[38;5;28;01mfrom\u001b[39;00m \u001b[38;5;21;01mstk_search\u001b[39;00m\u001b[38;5;21;01m.\u001b[39;00m\u001b[38;5;21;01mSearch_algorithm\u001b[39;00m \u001b[38;5;28;01mimport\u001b[39;00m Bayesian_Optimisation\n",
      "File \u001b[0;32m~/STK_search/src/stk_search/Search_Exp.py:7\u001b[0m\n\u001b[1;32m      4\u001b[0m \u001b[38;5;28;01mfrom\u001b[39;00m \u001b[38;5;21;01mdatetime\u001b[39;00m \u001b[38;5;28;01mimport\u001b[39;00m datetime\n\u001b[1;32m      6\u001b[0m \u001b[38;5;66;03m# from Scripts.Search_algorithm import Search_Algorithm\u001b[39;00m\n\u001b[0;32m----> 7\u001b[0m \u001b[38;5;28;01mfrom\u001b[39;00m \u001b[38;5;21;01mstk_search\u001b[39;00m\u001b[38;5;21;01m.\u001b[39;00m\u001b[38;5;21;01mObjective_function\u001b[39;00m \u001b[38;5;28;01mimport\u001b[39;00m Objective_Function\n\u001b[1;32m      8\u001b[0m \u001b[38;5;28;01mimport\u001b[39;00m \u001b[38;5;21;01muuid\u001b[39;00m\n\u001b[1;32m     11\u001b[0m \u001b[38;5;28;01mclass\u001b[39;00m \u001b[38;5;21;01mSearch_exp\u001b[39;00m:\n",
      "File \u001b[0;32m~/STK_search/src/stk_search/Objective_function.py:10\u001b[0m\n\u001b[1;32m      7\u001b[0m \u001b[38;5;28;01mimport\u001b[39;00m \u001b[38;5;21;01mstk\u001b[39;00m\n\u001b[1;32m      8\u001b[0m \u001b[38;5;28;01mimport\u001b[39;00m \u001b[38;5;21;01mstko\u001b[39;00m\n\u001b[0;32m---> 10\u001b[0m \u001b[38;5;28;01mfrom\u001b[39;00m \u001b[38;5;21;01mstk_search\u001b[39;00m\u001b[38;5;21;01m.\u001b[39;00m\u001b[38;5;21;01mCalculators\u001b[39;00m\u001b[38;5;21;01m.\u001b[39;00m\u001b[38;5;21;01mSTDA_calculator\u001b[39;00m \u001b[38;5;28;01mimport\u001b[39;00m sTDA_XTB\n\u001b[1;32m     11\u001b[0m \u001b[38;5;28;01mfrom\u001b[39;00m \u001b[38;5;21;01mstk_search\u001b[39;00m\u001b[38;5;21;01m.\u001b[39;00m\u001b[38;5;21;01mCalculators\u001b[39;00m\u001b[38;5;21;01m.\u001b[39;00m\u001b[38;5;21;01mXTBcalculator\u001b[39;00m \u001b[38;5;28;01mimport\u001b[39;00m XTBEnergy2\n\u001b[1;32m     13\u001b[0m \u001b[38;5;28;01mdef\u001b[39;00m \u001b[38;5;21mget_inchi_key\u001b[39m(molecule):\n",
      "File \u001b[0;32m~/STK_search/src/stk_search/Calculators/STDA_calculator.py:7\u001b[0m\n\u001b[1;32m      4\u001b[0m \u001b[38;5;28;01mimport\u001b[39;00m \u001b[38;5;21;01msubprocess\u001b[39;00m \u001b[38;5;28;01mas\u001b[39;00m \u001b[38;5;21;01msp\u001b[39;00m\n\u001b[1;32m      5\u001b[0m \u001b[38;5;28;01mimport\u001b[39;00m \u001b[38;5;21;01muuid\u001b[39;00m\n\u001b[0;32m----> 7\u001b[0m \u001b[38;5;28;01mfrom\u001b[39;00m \u001b[38;5;21;01mstko\u001b[39;00m\u001b[38;5;21;01m.\u001b[39;00m\u001b[38;5;21;01mcalculators\u001b[39;00m \u001b[38;5;28;01mimport\u001b[39;00m Calculator\n\u001b[1;32m     10\u001b[0m \u001b[38;5;28;01mclass\u001b[39;00m \u001b[38;5;21;01msTDA_XTB\u001b[39;00m(Calculator):\n\u001b[1;32m     11\u001b[0m     \u001b[38;5;28;01mdef\u001b[39;00m \u001b[38;5;21m__init__\u001b[39m(\n\u001b[1;32m     12\u001b[0m         \u001b[38;5;28mself\u001b[39m,\n\u001b[1;32m     13\u001b[0m         STDA_bin_path,\n\u001b[0;32m   (...)\u001b[0m\n\u001b[1;32m     18\u001b[0m         state\u001b[38;5;241m=\u001b[39m\u001b[38;5;241m1\u001b[39m,\n\u001b[1;32m     19\u001b[0m     ):\n",
      "\u001b[0;31mModuleNotFoundError\u001b[0m: No module named 'stko.calculators'"
     ]
    }
   ],
   "source": [
    "import importlib\n",
    "import os\n",
    "from dev_scripts import run_search\n",
    "\n",
    "importlib.reload(run_search)\n",
    "\n",
    "os.chdir('/rds/general/user/cb1319/home/STK_search/src')\n",
    "%run src/dev_scripts/run_search.py --num_iteration 1 --test_name 'CB_Exp1' --case 'morgan_fp'"
   ]
  },
  {
   "cell_type": "code",
   "execution_count": 10,
   "metadata": {},
   "outputs": [
    {
     "ename": "ModuleNotFoundError",
     "evalue": "No module named 'stko.calculators'",
     "output_type": "error",
     "traceback": [
      "\u001b[0;31m---------------------------------------------------------------------------\u001b[0m",
      "\u001b[0;31mModuleNotFoundError\u001b[0m                       Traceback (most recent call last)",
      "Cell \u001b[0;32mIn[10], line 1\u001b[0m\n\u001b[0;32m----> 1\u001b[0m \u001b[38;5;28;01mimport\u001b[39;00m \u001b[38;5;21;01mstko\u001b[39;00m\u001b[38;5;21;01m.\u001b[39;00m\u001b[38;5;21;01mcalculators\u001b[39;00m\n",
      "\u001b[0;31mModuleNotFoundError\u001b[0m: No module named 'stko.calculators'"
     ]
    }
   ],
   "source": [
    "import stko.calculators"
   ]
  },
  {
   "cell_type": "code",
   "execution_count": null,
   "metadata": {},
   "outputs": [],
   "source": []
  }
 ],
 "metadata": {
  "kernelspec": {
   "display_name": "Python [conda env:Geom3D]",
   "language": "python",
   "name": "conda-env-Geom3D-py"
  }
 },
 "nbformat": 4,
 "nbformat_minor": 2
}
