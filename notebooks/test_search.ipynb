{
 "cells": [
  {
   "cell_type": "markdown",
   "metadata": {},
   "source": [
    "Notebook to search experiment using the HPC"
   ]
  },
  {
   "cell_type": "code",
   "execution_count": 2,
   "metadata": {},
   "outputs": [],
   "source": [
    "\n",
    "\n",
    "import os\n",
    "os.chdir('c:\\\\Users\\\\ma11115\\\\OneDrive - Imperial College London\\\\github_folder\\\\STK_SEARCH\\\\')\n",
    "#os.chdir('/rds/general/user/ma11115/home/BO_polymers')\n",
    "import sys  \n",
    "#sys.path.insert(0, '/rds/general/user/ma11115/home/BO_polymers/Scripts')\n"
   ]
  },
  {
   "cell_type": "code",
   "execution_count": 5,
   "metadata": {},
   "outputs": [],
   "source": [
    "\n",
    "import Search_Exp\n",
    "import numpy as np\n",
    "from Scripts.Search_algorithm import Search_Algorithm\n",
    "from Scripts.Search_algorithm import Bayesian_Optimisation\n",
    "import Search_algorithm\n",
    "import Objective_function\n",
    "import importlib\n",
    "importlib.reload(Search_Exp)\n",
    "importlib.reload(Search_algorithm)\n",
    "importlib.reload(Objective_function)\n",
    "def run_search():\n",
    "    search_space_loc = \"Inputs/exp1_2023_09_05_14_47_02/search_space_5.pkl\"\n",
    "    objective_function = Objective_function.IP_ES1_fosc(oligomer_size=6)\n",
    "    search_algorithm = Search_algorithm.Bayesian_Optimisation()\n",
    "    search_algorithm.which_acquisition='LOG_EI'\n",
    "    number_of_iterations = 5\n",
    "\n",
    "    S_exp =Search_Exp.Search_exp(search_space_loc, search_algorithm, objective_function, number_of_iterations,verbose= False)\n",
    "    S_exp.benchmark = True\n",
    "    S_exp.df_total = df_total\n",
    "    S_exp.num_elem_initialisation= 5\n",
    "    #S_exp.initialise_search_space()\n",
    "    S_exp.run_seach()"
   ]
  },
  {
   "cell_type": "code",
   "execution_count": 6,
   "metadata": {},
   "outputs": [
    {
     "data": {
      "text/plain": [
       "'Data/search_experiment'"
      ]
     },
     "execution_count": 6,
     "metadata": {},
     "output_type": "execute_result"
    }
   ],
   "source": [
    "search_space_loc = \"Inputs/exp1_2023_09_05_14_47_02/search_space_5.pkl\"\n",
    "objective_function = Objective_function.IP_ES1_fosc(oligomer_size=6)\n",
    "search_algorithm = Search_algorithm.Bayesian_Optimisation()\n",
    "search_algorithm.which_acquisition='LOG_EI'\n",
    "number_of_iterations = 5\n",
    "\n",
    "S_exp =Search_Exp.Search_exp(search_space_loc, search_algorithm, objective_function, number_of_iterations,verbose= True)\n",
    "S_exp.output_folder"
   ]
  },
  {
   "cell_type": "code",
   "execution_count": 4,
   "metadata": {},
   "outputs": [
    {
     "name": "stderr",
     "output_type": "stream",
     "text": [
      "/var/tmp/pbs.8213090.pbs/ipykernel_3125206/1181780217.py:16: DtypeWarning: Columns (18) have mixed types. Specify dtype option on import or set low_memory=False.\n",
      "  df_total = pd.read_csv('Data/df_total_new.csv2023_08_20')\n"
     ]
    },
    {
     "ename": "FileNotFoundError",
     "evalue": "[Errno 2] No such file or directory: 'Data/calculation_data_precursor_310823_clean.pkl'",
     "output_type": "error",
     "traceback": [
      "\u001b[0;31m---------------------------------------------------------------------------\u001b[0m",
      "\u001b[0;31mFileNotFoundError\u001b[0m                         Traceback (most recent call last)",
      "Cell \u001b[0;32mIn[4], line 21\u001b[0m\n\u001b[1;32m     19\u001b[0m df_total\u001b[39m=\u001b[39mdf_total[df_total[\u001b[39m'\u001b[39m\u001b[39mfosc1\u001b[39m\u001b[39m'\u001b[39m]\u001b[39m<\u001b[39m\u001b[39m11\u001b[39m]\n\u001b[1;32m     20\u001b[0m df_total[\u001b[39m'\u001b[39m\u001b[39mtarget\u001b[39m\u001b[39m'\u001b[39m] \u001b[39m=\u001b[39m \u001b[39m-\u001b[39mnp\u001b[39m.\u001b[39mabs(df_total[\u001b[39m'\u001b[39m\u001b[39mionisation potential (eV)\u001b[39m\u001b[39m'\u001b[39m]\u001b[39m.\u001b[39mvalues\u001b[39m-\u001b[39m\u001b[39m5.5\u001b[39m)\u001b[39m-\u001b[39m\u001b[39m1\u001b[39m\u001b[39m*\u001b[39mnp\u001b[39m.\u001b[39mabs(df_total[\u001b[39m'\u001b[39m\u001b[39mfosc1\u001b[39m\u001b[39m'\u001b[39m]\u001b[39m.\u001b[39mvalues\u001b[39m-\u001b[39m\u001b[39m10\u001b[39m)\u001b[39m-\u001b[39m\u001b[39m0.5\u001b[39m\u001b[39m*\u001b[39mnp\u001b[39m.\u001b[39mabs(df_total[\u001b[39m'\u001b[39m\u001b[39mES1\u001b[39m\u001b[39m'\u001b[39m]\u001b[39m.\u001b[39mvalues\u001b[39m-\u001b[39m\u001b[39m3\u001b[39m)\n\u001b[0;32m---> 21\u001b[0m df_total, df_precursors\u001b[39m=\u001b[39mprepare_df_for_plot(df_total)\n",
      "Cell \u001b[0;32mIn[4], line 10\u001b[0m, in \u001b[0;36mprepare_df_for_plot\u001b[0;34m(df_total_new, input_output_file)\u001b[0m\n\u001b[1;32m      8\u001b[0m \u001b[39mfor\u001b[39;00m i \u001b[39min\u001b[39;00m \u001b[39mrange\u001b[39m(\u001b[39m6\u001b[39m):\n\u001b[1;32m      9\u001b[0m     df_test[\u001b[39mf\u001b[39m\u001b[39m'\u001b[39m\u001b[39mInChIKey_\u001b[39m\u001b[39m{\u001b[39;00mi\u001b[39m}\u001b[39;00m\u001b[39m'\u001b[39m]\u001b[39m=\u001b[39mdf_test[\u001b[39mf\u001b[39m\u001b[39m'\u001b[39m\u001b[39mBB\u001b[39m\u001b[39m'\u001b[39m]\u001b[39m.\u001b[39mapply(\u001b[39mlambda\u001b[39;00m x: \u001b[39meval\u001b[39m(x)[i][\u001b[39m'\u001b[39m\u001b[39mInChIKey\u001b[39m\u001b[39m'\u001b[39m])\n\u001b[0;32m---> 10\u001b[0m df_precursors \u001b[39m=\u001b[39m pd\u001b[39m.\u001b[39;49mread_pickle(\u001b[39m'\u001b[39;49m\u001b[39mData/calculation_data_precursor_310823_clean.pkl\u001b[39;49m\u001b[39m'\u001b[39;49m)\n\u001b[1;32m     11\u001b[0m features_frag \u001b[39m=\u001b[39m df_precursors\u001b[39m.\u001b[39mcolumns[\u001b[39m1\u001b[39m:\u001b[39m7\u001b[39m]\u001b[39m.\u001b[39mappend(df_precursors\u001b[39m.\u001b[39mcolumns[\u001b[39m17\u001b[39m:\u001b[39m23\u001b[39m])\n\u001b[1;32m     12\u001b[0m features_frag \u001b[39m=\u001b[39m features_frag\u001b[39m.\u001b[39mappend(df_precursors\u001b[39m.\u001b[39mcolumns[\u001b[39m0\u001b[39m:\u001b[39m1\u001b[39m])\n",
      "File \u001b[0;32m~/anaconda3/envs/ML/lib/python3.10/site-packages/pandas/io/pickle.py:190\u001b[0m, in \u001b[0;36mread_pickle\u001b[0;34m(filepath_or_buffer, compression, storage_options)\u001b[0m\n\u001b[1;32m    124\u001b[0m \u001b[39m\u001b[39m\u001b[39m\"\"\"\u001b[39;00m\n\u001b[1;32m    125\u001b[0m \u001b[39mLoad pickled pandas object (or any object) from file.\u001b[39;00m\n\u001b[1;32m    126\u001b[0m \n\u001b[0;32m   (...)\u001b[0m\n\u001b[1;32m    187\u001b[0m \u001b[39m4    4    9\u001b[39;00m\n\u001b[1;32m    188\u001b[0m \u001b[39m\"\"\"\u001b[39;00m\n\u001b[1;32m    189\u001b[0m excs_to_catch \u001b[39m=\u001b[39m (\u001b[39mAttributeError\u001b[39;00m, \u001b[39mImportError\u001b[39;00m, \u001b[39mModuleNotFoundError\u001b[39;00m, \u001b[39mTypeError\u001b[39;00m)\n\u001b[0;32m--> 190\u001b[0m \u001b[39mwith\u001b[39;00m get_handle(\n\u001b[1;32m    191\u001b[0m     filepath_or_buffer,\n\u001b[1;32m    192\u001b[0m     \u001b[39m\"\u001b[39;49m\u001b[39mrb\u001b[39;49m\u001b[39m\"\u001b[39;49m,\n\u001b[1;32m    193\u001b[0m     compression\u001b[39m=\u001b[39;49mcompression,\n\u001b[1;32m    194\u001b[0m     is_text\u001b[39m=\u001b[39;49m\u001b[39mFalse\u001b[39;49;00m,\n\u001b[1;32m    195\u001b[0m     storage_options\u001b[39m=\u001b[39;49mstorage_options,\n\u001b[1;32m    196\u001b[0m ) \u001b[39mas\u001b[39;00m handles:\n\u001b[1;32m    197\u001b[0m \n\u001b[1;32m    198\u001b[0m     \u001b[39m# 1) try standard library Pickle\u001b[39;00m\n\u001b[1;32m    199\u001b[0m     \u001b[39m# 2) try pickle_compat (older pandas version) to handle subclass changes\u001b[39;00m\n\u001b[1;32m    200\u001b[0m     \u001b[39m# 3) try pickle_compat with latin-1 encoding upon a UnicodeDecodeError\u001b[39;00m\n\u001b[1;32m    202\u001b[0m     \u001b[39mtry\u001b[39;00m:\n\u001b[1;32m    203\u001b[0m         \u001b[39m# TypeError for Cython complaints about object.__new__ vs Tick.__new__\u001b[39;00m\n\u001b[1;32m    204\u001b[0m         \u001b[39mtry\u001b[39;00m:\n",
      "File \u001b[0;32m~/anaconda3/envs/ML/lib/python3.10/site-packages/pandas/io/common.py:865\u001b[0m, in \u001b[0;36mget_handle\u001b[0;34m(path_or_buf, mode, encoding, compression, memory_map, is_text, errors, storage_options)\u001b[0m\n\u001b[1;32m    856\u001b[0m         handle \u001b[39m=\u001b[39m \u001b[39mopen\u001b[39m(\n\u001b[1;32m    857\u001b[0m             handle,\n\u001b[1;32m    858\u001b[0m             ioargs\u001b[39m.\u001b[39mmode,\n\u001b[0;32m   (...)\u001b[0m\n\u001b[1;32m    861\u001b[0m             newline\u001b[39m=\u001b[39m\u001b[39m\"\u001b[39m\u001b[39m\"\u001b[39m,\n\u001b[1;32m    862\u001b[0m         )\n\u001b[1;32m    863\u001b[0m     \u001b[39melse\u001b[39;00m:\n\u001b[1;32m    864\u001b[0m         \u001b[39m# Binary mode\u001b[39;00m\n\u001b[0;32m--> 865\u001b[0m         handle \u001b[39m=\u001b[39m \u001b[39mopen\u001b[39;49m(handle, ioargs\u001b[39m.\u001b[39;49mmode)\n\u001b[1;32m    866\u001b[0m     handles\u001b[39m.\u001b[39mappend(handle)\n\u001b[1;32m    868\u001b[0m \u001b[39m# Convert BytesIO or file objects passed with an encoding\u001b[39;00m\n",
      "\u001b[0;31mFileNotFoundError\u001b[0m: [Errno 2] No such file or directory: 'Data/calculation_data_precursor_310823_clean.pkl'"
     ]
    }
   ],
   "source": [
    "import pandas as pd\n",
    "def prepare_df_for_plot(df_total_new:pd.DataFrame=[]):\n",
    "    df_test=df_total_new\n",
    "    for id,x in df_test.iterrows():\n",
    "        #print(x)\n",
    "        if len(eval(x['BB']))<6:\n",
    "            df_test.drop(id,inplace=True)\n",
    "    for i in range(6):\n",
    "        df_test[f'InChIKey_{i}']=df_test[f'BB'].apply(lambda x: eval(x)[i]['InChIKey'])\n",
    "    df_precursors = pd.read_pickle('Data/calculation_data_precursor_310823_clean.pkl')\n",
    "    features_frag = df_precursors.columns[1:7].append(df_precursors.columns[17:23])\n",
    "    features_frag = features_frag.append(df_precursors.columns[0:1])\n",
    "    for i in range(6):\n",
    "        df_test=df_test.merge(df_precursors[features_frag].add_suffix(f'_{i}'), on=f'InChIKey_{i}', how='left')\n",
    "    return df_test, df_precursors\n",
    "df_total = pd.read_csv('Data/df_total_new.csv2023_08_20')\n",
    "df_total.dropna(subset=['fosc1','BB'],inplace=True)\n",
    "df_total=df_total[df_total['fosc1']>0]\n",
    "df_total=df_total[df_total['fosc1']<11]\n",
    "df_total['target'] = -np.abs(df_total['ionisation potential (eV)'].values-5.5)-1*np.abs(df_total['fosc1'].values-10)-0.5*np.abs(df_total['ES1'].values-3)\n",
    "df_total, df_precursors=prepare_df_for_plot(df_total)\n"
   ]
  },
  {
   "cell_type": "code",
   "execution_count": 31,
   "metadata": {},
   "outputs": [
    {
     "name": "stdout",
     "output_type": "stream",
     "text": [
      "space too big but will take element randomly\n",
      "shape of the dataframe (1318200, 42)\n",
      "(37, 100)\n",
      "(31, 42)\n"
     ]
    },
    {
     "data": {
      "text/plain": [
       "(37, 100)"
      ]
     },
     "execution_count": 31,
     "metadata": {},
     "output_type": "execute_result"
    }
   ],
   "source": [
    "\n",
    "\n",
    "S_exp.search_space.redefine_search_space()\n",
    "print(S_exp.search_space.check_df_for_element_from_SP(df_to_check=df_total).shape)\n",
    "print(S_exp.df_search_space.shape)\n",
    "S_exp.search_space.check_df_for_element_from_SP(df_to_check=df_total).head()\n",
    "S_exp.df_searched_space.dropna(subset=['target']).shape"
   ]
  },
  {
   "cell_type": "code",
   "execution_count": 119,
   "metadata": {},
   "outputs": [
    {
     "data": {
      "text/plain": [
       "Index(['InChIKey_0', 'InChIKey_1', 'InChIKey_2', 'InChIKey_3', 'InChIKey_4',\n",
       "       'InChIKey_5'],\n",
       "      dtype='object')"
      ]
     },
     "execution_count": 119,
     "metadata": {},
     "output_type": "execute_result"
    }
   ],
   "source": [
    "S_exp.num_elem_initialisation = 1\n",
    "element_id = S_exp.search_algorithm.initial_suggestion(\n",
    "            search_space_df=S_exp.df_search_space,\n",
    "            num_elem_initialisation=S_exp.num_elem_initialisation,\n",
    "        )\n",
    "element = S_exp.df_search_space.loc[[element_id[0]], :]\n",
    "#results = element.merge(S_exp.df_searched_space,on=[f'InChIKey_{i}' for i in range(6)],how='left')\n",
    "#(results['InChIKey'],results['target'])\n",
    "element[[f'InChIKey_{i}' for i in range(6)]].keys()\n",
    "# check if element is in the search space\n",
    "\n",
    "#print(list_columns)"
   ]
  },
  {
   "cell_type": "code",
   "execution_count": 137,
   "metadata": {},
   "outputs": [
    {
     "data": {
      "text/plain": [
       "0"
      ]
     },
     "execution_count": 137,
     "metadata": {},
     "output_type": "execute_result"
    }
   ],
   "source": [
    "S_exp.df_search_space.index[0]"
   ]
  },
  {
   "cell_type": "code",
   "execution_count": 28,
   "metadata": {},
   "outputs": [
    {
     "data": {
      "text/plain": [
       "'PNLCAIFEPYYUCC-UHFFFAOYSA-N'"
      ]
     },
     "execution_count": 28,
     "metadata": {},
     "output_type": "execute_result"
    }
   ],
   "source": [
    "eval(df_total['BB'][0])[0]['InChIKey']"
   ]
  },
  {
   "cell_type": "code",
   "execution_count": 168,
   "metadata": {},
   "outputs": [
    {
     "name": "stdout",
     "output_type": "stream",
     "text": [
      "shape of the dataframe (390625, 42)\n"
     ]
    }
   ],
   "source": [
    "import Objective_function\n",
    "#Objective_function.evaluation_funct(1)\n",
    "\n",
    "#search_space_loc = \"Inputs/EXP1_2023_09_04_10_01_05/search_space_6.pkl\"\n",
    "objective_function = Objective_Function()\n",
    "search_algorithm = Search_Algorithm()\n",
    "number_of_iterations = 100\n",
    "\n",
    "\n",
    "S_exp = Search_exp(search_space_loc, search_algorithm, objective_function, number_of_iterations,verbose=False)\n",
    "\n",
    "S_exp.run_seach()"
   ]
  },
  {
   "cell_type": "code",
   "execution_count": 71,
   "metadata": {},
   "outputs": [
    {
     "name": "stdout",
     "output_type": "stream",
     "text": [
      "ULRLMMWHCRPTDR-UHFFFAOYSA-N\n",
      "ULRLMMWHCRPTDR-UHFFFAOYSA-N\n",
      "ULRLMMWHCRPTDR-UHFFFAOYSA-N\n",
      "ULRLMMWHCRPTDR-UHFFFAOYSA-N\n",
      "ULRLMMWHCRPTDR-UHFFFAOYSA-N\n",
      "ULRLMMWHCRPTDR-UHFFFAOYSA-N\n"
     ]
    }
   ],
   "source": [
    "S_exp.df_search_space.iloc[0].shape[0]\n",
    "# get columns names that contain InchiKey_\n",
    "InchiKey_cols = [col for col in S_exp.df_search_space.iloc[0].keys() if 'InChIKey_' in col]\n",
    "for fragment in S_exp.df_search_space.iloc[0][InchiKey_cols]:\n",
    "    print(fragment)"
   ]
  },
  {
   "cell_type": "code",
   "execution_count": 152,
   "metadata": {},
   "outputs": [
    {
     "data": {
      "text/plain": [
       "0.36641498771140457"
      ]
     },
     "execution_count": 152,
     "metadata": {},
     "output_type": "execute_result"
    }
   ],
   "source": [
    "float(np.random.random(1))"
   ]
  },
  {
   "cell_type": "code",
   "execution_count": 85,
   "metadata": {},
   "outputs": [
    {
     "data": {
      "text/plain": [
       "torch.Size([390625, 36])"
      ]
     },
     "execution_count": 85,
     "metadata": {},
     "output_type": "execute_result"
    }
   ],
   "source": [
    "df = S_exp.df_search_space\n",
    "numeric_cols = df.select_dtypes(include=['float64', 'int64']).columns\n",
    "df[numeric_cols]\n",
    "import torch\n",
    "torch.tensor(df[numeric_cols].values, dtype=torch.float).flatten(-1).shape\n"
   ]
  },
  {
   "cell_type": "code",
   "execution_count": 25,
   "metadata": {},
   "outputs": [],
   "source": [
    "import pymongo\n",
    "import stk\n",
    "import os\n",
    "import re\n",
    "import numpy as np\n",
    "import stko\n",
    "from Calculators.XTBcalculator import XTBEnergy2\n",
    "from Calculators.STDA_calculator import sTDA_XTB\n",
    "from Calculators import XTBcalculator\n",
    "import pickle\n",
    "\n",
    "def evaluation_funct(element):\n",
    "    # initialise the database\n",
    "    client = pymongo.MongoClient(\"mongodb://129.31.66.201/\")\n",
    "    db_mol = stk.MoleculeMongoDb(client, database='stk_mohammed_new',)\n",
    "    # define the path to xtb and stda\n",
    "    xtb_path = \"/rds/general/user/ma11115/home/anaconda3/envs/ML/bin/xtb\"\n",
    "    STDA_bin_path = '/rds/general/user/ma11115/home/bin/stda_files/xtb4stda/'\n",
    "    # define the output directories\n",
    "    Db_folder = '/rds/general/ephemeral/user/ma11115/ephemeral/BO_polymers'\n",
    "    output_dir_ipea = os.path.join(Db_folder, 'Database', 'xtb_calculations')\n",
    "    xtb_opt_output_dir = os.path.join(\n",
    "        Db_folder, 'Database', 'xtb_opt_output_dir')\n",
    "    output_dir_stda = os.path.join(Db_folder, 'Database', 'stda_output_dir')\n",
    "\n",
    "    database_new_calc = 'stk_mohammed_BO'\n",
    "    collection_name = 'BO_exp1'\n",
    "    polymer = Build_polymer(element,\n",
    "                            db=db_mol)\n",
    "    polymer = run_xtb_opt(polymer, xtb_path, xtb_opt_output_dir,\n",
    "                          database=database_new_calc, collection=collection_name+'_opt', client=client)\n",
    "    Inchikey = stk.InchiKey().get_key(polymer)\n",
    "\n",
    "    IP = run_xtb_ipea(polymer, xtb_path, output_dir_ipea, database=database_new_calc,\n",
    "                      target='ionisation potential (eV)', collection=collection_name+'_IPEA', client=client)\n",
    "    Es1 = run_stda(polymer, STDA_bin_path, output_dir_stda, property='Excited state energy (eV)',\n",
    "                   state=1, database='stk_mohammed_BO', collection=collection_name+'_Stda', client=client)\n",
    "    fosc_1 = run_stda(polymer, STDA_bin_path, output_dir_stda, property='Excited state oscillator strength',\n",
    "                      state=1, database='stk_mohammed_BO', collection=collection_name+'_Stda', client=client)\n",
    "    fitness_function = -np.abs(IP-5.5)-0.5*np.abs(Es1-3)-1*np.abs(fosc_1-10)\n",
    "    assert fitness_function < 0\n",
    "    return fitness_function, Inchikey\n",
    "\n",
    "\n",
    "def Build_polymer(element):\n",
    "    precursors = []\n",
    "    genes = \"ABCDEFGH\"\n",
    "    genes = genes[:element.shape[0]]\n",
    "    repeating_unit = \"\"\n",
    "    # joins the Genes to make a repeating unit string\n",
    "    repeating_unit = repeating_unit.join(genes)\n",
    "    for fragment in element:\n",
    "        mol = db.get({'InChIKey': fragment})\n",
    "        bb = stk.BuildingBlock.init_from_molecule(\n",
    "            mol, functional_groups=[stk.BromoFactory()])\n",
    "        precursors.append(bb)\n",
    "    polymer = stk.ConstructedMolecule(\n",
    "        stk.polymer.Linear(\n",
    "            building_blocks=precursors,\n",
    "            repeating_unit=repeating_unit,\n",
    "            num_repeating_units=1,\n",
    "            optimizer=stk.MCHammer()\n",
    "        )\n",
    "    )\n",
    "    return polymer\n",
    "\n",
    "\n",
    "def run_xtb_opt(polymer, xtb_path, xtb_opt_output_dir, database='stk_mohammed_BO', collection='test', client=None):\n",
    "    def save_xtb_opt_calculation(polymer, xtb_opt_output_dir, collection=None,InchiKey_initial=None):\n",
    "        def get_property_value(data, property_name):\n",
    "            for line in data:\n",
    "                if property_name in line:\n",
    "                    if property_name == 'cpu-time':\n",
    "                        property_value = re.findall(\n",
    "                            r\"[-+]?(?:\\d*\\.*\\d+)\", line)[-3] + \" h \"+re.findall(\n",
    "                            r\"[-+]?(?:\\d*\\.*\\d+)\", line)[-2] + \" min \" + re.findall(\n",
    "                            r\"[-+]?(?:\\d*\\.*\\d+)\", line)[-1] + \" s \"\n",
    "                        return property_value\n",
    "                    property_value = float(re.findall(\n",
    "                        r\"[-+]?(?:\\d*\\.*\\d+)\", line)[-1])  # float(words[3]) #\n",
    "                    return property_value\n",
    "        polymer_xtb_opt_calc = {'InChIKey': stk.get_inchi_key(polymer),\n",
    "                                'cal_folder': os.path.join(xtb_opt_output_dir, stk.get_inchi_key(polymer)),\n",
    "                                'Host IP': 'cx1',\n",
    "                                'InChIKey_initial':InchiKey_initial\n",
    "                                }\n",
    "        outfile = open(os.path.join(\n",
    "            polymer_xtb_opt_calc['cal_folder'], 'optimization_1.output'), 'r', encoding=\"utf8\")\n",
    "        data = outfile.readlines()\n",
    "        outfile.close()\n",
    "        polymer_xtb_opt_calc['cpu time'] = get_property_value(data, 'cpu-time')\n",
    "        polymer_xtb_opt_calc['total energy (au)'] = get_property_value(\n",
    "            data, 'TOTAL ENERGY')\n",
    "        polymer_xtb_opt_calc['HOMO-LUMO GAP (eV)'] = get_property_value(\n",
    "            data, 'HOMO-LUMO GAP')\n",
    "        collection.update_many(filter={'InChIKey': stk.get_inchi_key(polymer)}, update={\n",
    "                               '$set': polymer_xtb_opt_calc}, upsert=True)\n",
    "    collection = client[database][collection]\n",
    "    if collection.find_one({'InChIKey': stk.get_inchi_key(polymer)}) is not None:\n",
    "        print('already calculated', end=\"\\r\")\n",
    "        db_polymer = stk.ConstructedMoleculeMongoDb(\n",
    "            client, database=database,)\n",
    "        db_polymer.get({'InChIKey': stk.get_inchi_key(polymer)})\n",
    "        return polymer\n",
    "    if collection.find_one({'InChIKey_initial': stk.get_inchi_key(polymer)}) is not None:\n",
    "        print('already calculated', end=\"\\r\")\n",
    "        db_polymer = stk.ConstructedMoleculeMongoDb(\n",
    "            client, database=database,)\n",
    "        data = collection.find_one({'InChIKey_initial': stk.get_inchi_key(polymer)})\n",
    "        db_polymer.get({'InChIKey': data['InChIKey']})\n",
    "        return polymer\n",
    "    output_dir=os.path.join(\n",
    "                     xtb_opt_output_dir, stk.get_inchi_key(polymer))\n",
    "    InchiKey_initial = stk.get_inchi_key(polymer)\n",
    "    xtb = stko.OptimizerSequence(\n",
    "        stko.ETKDG(),\n",
    "        stko.XTB(xtb_path=xtb_path,\n",
    "                 output_dir=output_dir,\n",
    "                 unlimited_memory=False,\n",
    "                 num_cores=25,)\n",
    "    )\n",
    "    polymer = xtb.optimize(polymer)\n",
    "    new_output_dir=os.path.join(\n",
    "                     xtb_opt_output_dir, stk.get_inchi_key(polymer))\n",
    "    os.rename(output_dir, new_output_dir)\n",
    "    save_xtb_opt_calculation(\n",
    "        polymer, xtb_opt_output_dir, collection=collection,\n",
    "        InchiKey_initial=InchiKey_initial)\n",
    "    db_polymer = stk.ConstructedMoleculeMongoDb(\n",
    "        client, database=database,)\n",
    "    db_polymer.put(polymer)\n",
    "    return polymer\n",
    "\n",
    "\n",
    "def run_xtb_ipea(polymer, xtb_path, xtb_opt_output_dir, database='stk_mohammed_BO', collection='testIPEA',\n",
    "                 target='ionisation potential (eV)', client=None):\n",
    "    collection = client[database][collection]\n",
    "    XTB_results = collection.find_one({'InChIKey': stk.get_inchi_key(polymer)})\n",
    "    if XTB_results is not None:\n",
    "        print('already calculated', end=\"\\r\")\n",
    "        return XTB_results[target]\n",
    "    xtb = XTBEnergy2(xtb_path=xtb_path,\n",
    "                     output_dir=os.path.join(xtb_opt_output_dir, \n",
    "                                             stk.get_inchi_key(polymer)),\n",
    "                     unlimited_memory=False,\n",
    "                     calculate_ip_and_ea=True,\n",
    "                     num_cores=25,\n",
    "                     )\n",
    "    xtb_results = xtb.get_results(polymer)\n",
    "    XTB_results = {\n",
    "        'total energy (au)': xtb_results.get_total_energy()[0],\n",
    "        'homo lumo_gap (eV)': xtb_results.get_homo_lumo_gap()[0],\n",
    "        'electron affinity (eV)': xtb_results.get_electron_affinity()[0],\n",
    "        'ionisation potential (eV)': xtb_results.get_ionisation_potential()[0],\n",
    "        'InChIKey': stk.get_inchi_key(polymer),\n",
    "        'cal_folder': os.path.join(xtb_opt_output_dir, stk.get_inchi_key(polymer)),\n",
    "        'Host IP': 'cx1'}\n",
    "    collection.update_many(filter={'InChIKey': stk.get_inchi_key(\n",
    "        polymer)}, update={'$set': XTB_results}, upsert=True)\n",
    "    return XTB_results[target]\n",
    "\n",
    "\n",
    "def run_stda(polymer, STDA_bin_path, output_dir, property='Excited state energy (eV)', state=1, database='stk_mohammed', collection='test', client=None):\n",
    "    collection = client[database][collection]\n",
    "    STDA_results = collection.find_one(\n",
    "        {'InChIKey': stk.get_inchi_key(polymer)})\n",
    "    if STDA_results is not None:\n",
    "        print('already calculated', end=\"\\r\")\n",
    "        return STDA_results[property][state]\n",
    "    stda = sTDA_XTB(STDA_bin_path=STDA_bin_path,\n",
    "                    Num_threads=25,\n",
    "                    output_dir= os.path.join(output_dir, stk.get_inchi_key(polymer)),\n",
    "                    )\n",
    "    Excited_state_energy, Excited_state_osc = stda.get_results(polymer)\n",
    "    STDA_results = {'Excited state energy (eV)': Excited_state_energy,\n",
    "                    'Excited state oscillator strength': Excited_state_osc, \n",
    "                    'InChIKey': stk.get_inchi_key(polymer),\n",
    "                    'cal_folder': os.path.join(output_dir, stk.get_inchi_key(polymer)),\n",
    "                    'Host IP': 'cx1'}\n",
    "    collection.update_many(filter={'InChIKey': stk.get_inchi_key(\n",
    "        polymer)}, update={'$set': STDA_results}, upsert=True)\n",
    "    return STDA_results[property][state]"
   ]
  },
  {
   "cell_type": "code",
   "execution_count": 38,
   "metadata": {},
   "outputs": [],
   "source": [
    "import numpy as np\n",
    "import pandas as pd\n",
    "import torch\n",
    "from botorch.acquisition.analytic import ExpectedImprovement, LogExpectedImprovement\n",
    "from botorch.models import FixedNoiseGP, SingleTaskGP\n",
    "from gpytorch.mlls import ExactMarginalLogLikelihood\n",
    "from botorch import fit_gpytorch_model\n",
    "from botorch.acquisition.analytic import ExpectedImprovement, LogExpectedImprovement\n",
    "import os\n",
    "import pickle\n",
    "import stk\n",
    "from botorch import fit_gpytorch_model\n",
    "from botorch.acquisition import ExpectedImprovement\n",
    "from botorch.exceptions import BadInitialCandidatesWarning\n",
    "from botorch.models.gp_regression import SingleTaskGP\n",
    "from gpytorch.distributions import MultivariateNormal\n",
    "from gpytorch.kernels import ScaleKernel\n",
    "from gpytorch.likelihoods import GaussianLikelihood\n",
    "from gpytorch.means import ConstantMean\n",
    "from gpytorch.mlls import ExactMarginalLogLikelihood\n",
    "from sklearn.model_selection import train_test_split\n",
    "from argparse import ArgumentParser\n",
    "\n",
    "\n",
    "class Bayesian_Optimisation(Search_Algorithm):\n",
    "    def __init__(self):\n",
    "        self.which_acquisition = \"EI\"\n",
    "        self.kernel=TanimotoGP\n",
    "        self.device = \"cpu\"\n",
    "        self.likelihood = ExactMarginalLogLikelihood\n",
    "\n",
    "    def suggest_element(\n",
    "        self,\n",
    "        search_space_df: pd.DataFrame = [],\n",
    "        fitness_acquired: list = [],\n",
    "        ids_acquired: list = [],\n",
    "    ):\n",
    "        # get the element\n",
    "        searched_space_df = search_space_df.iloc[np.array(ids_acquired)]\n",
    "        numeric_cols = searched_space_df.select_dtypes(include=['float64', 'int64']).columns\n",
    "        # put numeric data from dataframe to tensor\n",
    "        X_explored_BO = torch.tensor(\n",
    "            searched_space_df[numeric_cols].values, dtype=torch.float, device=self.device)\n",
    "        # limit the dataframe to only the numeric data\n",
    "        y_explored_BO = torch.tensor(\n",
    "            fitness_acquired, dtype=torch.float, device=self.device\n",
    "        )\n",
    "        # normalise the data\n",
    "        if y_explored_BO.std() != 0:\n",
    "            y_explored_BO_norm = (y_explored_BO - y_explored_BO.mean()) / y_explored_BO.std()\n",
    "        else:\n",
    "            y_explored_BO_norm = y_explored_BO\n",
    "        y_explored_BO_norm = y_explored_BO_norm.reshape(-1,1) # for the GP\n",
    "        # construct and fit GP model\n",
    "        model = self.kernel(X_explored_BO, y_explored_BO_norm)\n",
    "        mll = self.likelihood(model.likelihood, model)\n",
    "        fit_gpytorch_model(mll)\n",
    "        # set up acquisition function\n",
    "        X_unsqueezed = torch.tensor(\n",
    "            search_space_df[numeric_cols].values, dtype=torch.float, device=self.device)\n",
    "        X_unsqueezed=X_unsqueezed.reshape(-1,1,X_unsqueezed.shape[1]) # for the GP\n",
    "        print(X_unsqueezed.shape)\n",
    "        acquisition_values = self.get_acquisition_values(model,best_f=y_explored_BO_norm.max().item(),\n",
    "                                                         X_unsqueezed=X_unsqueezed)\n",
    "        # select COF to acquire with maximal aquisition value, which is not in the acquired set already\n",
    "        ids_sorted_by_aquisition = acquisition_values.argsort(descending=True)\n",
    "        return ids_sorted_by_aquisition#[0].item()\n",
    "\n",
    "    def get_acquisition_values(self, model, best_f, X_unsqueezed):\n",
    "        # set up acquisition function\n",
    "        if self.which_acquisition == \"EI\":\n",
    "            acquisition_function = ExpectedImprovement(model, best_f=best_f)\n",
    "            with torch.no_grad():  # to avoid memory issues; we arent using the gradient...\n",
    "                acquisition_values = acquisition_function.forward(\n",
    "                    X_unsqueezed\n",
    "                )  # runs out of memory\n",
    "        elif self.which_acquisition == \"max_y_hat\":\n",
    "            with torch.no_grad():\n",
    "                acquisition_values = model.posterior(X_unsqueezed).mean.squeeze()\n",
    "        elif self.which_acquisition == \"max_sigma\":\n",
    "            with torch.no_grad():\n",
    "                acquisition_values = model.posterior(X_unsqueezed).variance.squeeze()\n",
    "        elif self.which_acquisition == \"LOG_EI\":\n",
    "            acquisition_function = LogExpectedImprovement(model, best_f=best_f)\n",
    "            with torch.no_grad():  # to avoid memory issues; we arent using the gradient...\n",
    "                acquisition_values = acquisition_function.forward(\n",
    "                    X_unsqueezed\n",
    "                )  # runs out of memory\n",
    "        else:\n",
    "            with torch.no_grad():\n",
    "                acquisition_values = model.posterior(X_unsqueezed).variance.squeeze()\n",
    "        return acquisition_values\n",
    "\n",
    "    def initial_suggestion(\n",
    "        self,\n",
    "        search_space_df: pd.DataFrame = [],\n",
    "        num_elem_initialisation: int = 10,\n",
    "    ):\n",
    "        return np.random.choice(\n",
    "            search_space_df.index, num_elem_initialisation, replace=False\n",
    "        )\n",
    "\n",
    "\n",
    "from tanimoto_kernel import TanimotoKernel\n",
    "\n",
    "# We define our custom GP surrogate model using the Tanimoto kernel\n",
    "class TanimotoGP(SingleTaskGP):\n",
    "\n",
    "    def __init__(self, train_X, train_Y):\n",
    "        super().__init__(train_X, train_Y, GaussianLikelihood())\n",
    "        self.mean_module = ConstantMean()\n",
    "        self.covar_module = ScaleKernel(base_kernel=TanimotoKernel())\n",
    "        self.to(train_X)  # make sure we're on the right device/dtype\n",
    "\n",
    "    def forward(self, x):\n",
    "        mean_x = self.mean_module(x)\n",
    "        covar_x = self.covar_module(x)\n",
    "        return MultivariateNormal(mean_x, covar_x)"
   ]
  },
  {
   "cell_type": "code",
   "execution_count": 16,
   "metadata": {},
   "outputs": [
    {
     "name": "stderr",
     "output_type": "stream",
     "text": [
      "c:\\Users\\ma11115\\OneDrive - Imperial College London\\github_folder\\BO_polymers\\.conda\\lib\\site-packages\\botorch\\models\\gpytorch.py:129: UserWarning: The model inputs are of type torch.float32. It is strongly recommended to use double precision in BoTorch, as this improves both precision and stability and can help avoid numerical errors. See https://github.com/pytorch/botorch/discussions/1444\n",
      "  warnings.warn(_get_single_precision_warning(X.dtype), UserWarning)\n",
      "c:\\Users\\ma11115\\OneDrive - Imperial College London\\github_folder\\BO_polymers\\.conda\\lib\\site-packages\\botorch\\models\\utils\\assorted.py:173: InputDataWarning: Input data is not contained to the unit cube. Please consider min-max scaling the input data.\n",
      "  warnings.warn(msg, InputDataWarning)\n"
     ]
    },
    {
     "ename": "RuntimeError",
     "evalue": "The size of tensor a (0) must match the size of tensor b (10) at non-singleton dimension 0",
     "output_type": "error",
     "traceback": [
      "\u001b[1;31m---------------------------------------------------------------------------\u001b[0m",
      "\u001b[1;31mRuntimeError\u001b[0m                              Traceback (most recent call last)",
      "Cell \u001b[1;32mIn[16], line 2\u001b[0m\n\u001b[0;32m      1\u001b[0m S_exp\u001b[39m.\u001b[39mids_acquired\n\u001b[1;32m----> 2\u001b[0m Bayesian_Optimisation()\u001b[39m.\u001b[39;49msuggest_element(search_space_df\u001b[39m=\u001b[39;49mS_exp\u001b[39m.\u001b[39;49mdf_search_space, fitness_acquired\u001b[39m=\u001b[39;49mS_exp\u001b[39m.\u001b[39;49mfitness_acquired, ids_acquired\u001b[39m=\u001b[39;49mS_exp\u001b[39m.\u001b[39;49mids_acquired)\n",
      "Cell \u001b[1;32mIn[15], line 57\u001b[0m, in \u001b[0;36mBayesian_Optimisation.suggest_element\u001b[1;34m(self, search_space_df, fitness_acquired, ids_acquired)\u001b[0m\n\u001b[0;32m     55\u001b[0m model \u001b[39m=\u001b[39m \u001b[39mself\u001b[39m\u001b[39m.\u001b[39mkernel(X_explored_BO, y_explored_BO_norm)\n\u001b[0;32m     56\u001b[0m mll \u001b[39m=\u001b[39m \u001b[39mself\u001b[39m\u001b[39m.\u001b[39mlikelihood(model\u001b[39m.\u001b[39mlikelihood, model)\n\u001b[1;32m---> 57\u001b[0m fit_gpytorch_model(mll)\n\u001b[0;32m     58\u001b[0m \u001b[39m# set up acquisition function\u001b[39;00m\n\u001b[0;32m     59\u001b[0m X_unsqueezed \u001b[39m=\u001b[39m torch\u001b[39m.\u001b[39mtensor(\n\u001b[0;32m     60\u001b[0m     search_space_df[numeric_cols]\u001b[39m.\u001b[39mvalues, dtype\u001b[39m=\u001b[39mtorch\u001b[39m.\u001b[39mfloat, device\u001b[39m=\u001b[39m\u001b[39mself\u001b[39m\u001b[39m.\u001b[39mdevice)\n",
      "File \u001b[1;32mc:\\Users\\ma11115\\OneDrive - Imperial College London\\github_folder\\BO_polymers\\.conda\\lib\\site-packages\\botorch\\fit.py:164\u001b[0m, in \u001b[0;36mfit_gpytorch_model\u001b[1;34m(mll, optimizer, optimizer_kwargs, exclude, max_retries, **kwargs)\u001b[0m\n\u001b[0;32m    158\u001b[0m \u001b[39mwith\u001b[39;00m (\n\u001b[0;32m    159\u001b[0m     nullcontext()\n\u001b[0;32m    160\u001b[0m     \u001b[39mif\u001b[39;00m exclude \u001b[39mis\u001b[39;00m \u001b[39mNone\u001b[39;00m\n\u001b[0;32m    161\u001b[0m     \u001b[39melse\u001b[39;00m requires_grad_ctx(mll, assignments\u001b[39m=\u001b[39m{name: \u001b[39mFalse\u001b[39;00m \u001b[39mfor\u001b[39;00m name \u001b[39min\u001b[39;00m exclude})\n\u001b[0;32m    162\u001b[0m ):\n\u001b[0;32m    163\u001b[0m     \u001b[39mtry\u001b[39;00m:\n\u001b[1;32m--> 164\u001b[0m         mll \u001b[39m=\u001b[39m fit_gpytorch_mll(\n\u001b[0;32m    165\u001b[0m             mll,\n\u001b[0;32m    166\u001b[0m             optimizer\u001b[39m=\u001b[39moptimizer,\n\u001b[0;32m    167\u001b[0m             optimizer_kwargs\u001b[39m=\u001b[39moptimizer_kwargs,\n\u001b[0;32m    168\u001b[0m             \u001b[39m*\u001b[39m\u001b[39m*\u001b[39mkwargs,\n\u001b[0;32m    169\u001b[0m         )\n\u001b[0;32m    170\u001b[0m     \u001b[39mexcept\u001b[39;00m ModelFittingError \u001b[39mas\u001b[39;00m err:\n\u001b[0;32m    171\u001b[0m         warn(\u001b[39mstr\u001b[39m(err), \u001b[39mRuntimeWarning\u001b[39;00m)\n",
      "File \u001b[1;32mc:\\Users\\ma11115\\OneDrive - Imperial College London\\github_folder\\BO_polymers\\.conda\\lib\\site-packages\\botorch\\fit.py:105\u001b[0m, in \u001b[0;36mfit_gpytorch_mll\u001b[1;34m(mll, closure, optimizer, closure_kwargs, optimizer_kwargs, **kwargs)\u001b[0m\n\u001b[0;32m    102\u001b[0m \u001b[39mif\u001b[39;00m optimizer \u001b[39mis\u001b[39;00m \u001b[39mnot\u001b[39;00m \u001b[39mNone\u001b[39;00m:  \u001b[39m# defer to per-method defaults\u001b[39;00m\n\u001b[0;32m    103\u001b[0m     kwargs[\u001b[39m\"\u001b[39m\u001b[39moptimizer\u001b[39m\u001b[39m\"\u001b[39m] \u001b[39m=\u001b[39m optimizer\n\u001b[1;32m--> 105\u001b[0m \u001b[39mreturn\u001b[39;00m FitGPyTorchMLL(\n\u001b[0;32m    106\u001b[0m     mll,\n\u001b[0;32m    107\u001b[0m     \u001b[39mtype\u001b[39m(mll\u001b[39m.\u001b[39mlikelihood),\n\u001b[0;32m    108\u001b[0m     \u001b[39mtype\u001b[39m(mll\u001b[39m.\u001b[39mmodel),\n\u001b[0;32m    109\u001b[0m     closure\u001b[39m=\u001b[39mclosure,\n\u001b[0;32m    110\u001b[0m     closure_kwargs\u001b[39m=\u001b[39mclosure_kwargs,\n\u001b[0;32m    111\u001b[0m     optimizer_kwargs\u001b[39m=\u001b[39moptimizer_kwargs,\n\u001b[0;32m    112\u001b[0m     \u001b[39m*\u001b[39m\u001b[39m*\u001b[39mkwargs,\n\u001b[0;32m    113\u001b[0m )\n",
      "File \u001b[1;32mc:\\Users\\ma11115\\OneDrive - Imperial College London\\github_folder\\BO_polymers\\.conda\\lib\\site-packages\\botorch\\utils\\dispatcher.py:93\u001b[0m, in \u001b[0;36mDispatcher.__call__\u001b[1;34m(self, *args, **kwargs)\u001b[0m\n\u001b[0;32m     91\u001b[0m func \u001b[39m=\u001b[39m \u001b[39mself\u001b[39m\u001b[39m.\u001b[39m\u001b[39m__getitem__\u001b[39m(types\u001b[39m=\u001b[39mtypes)\n\u001b[0;32m     92\u001b[0m \u001b[39mtry\u001b[39;00m:\n\u001b[1;32m---> 93\u001b[0m     \u001b[39mreturn\u001b[39;00m func(\u001b[39m*\u001b[39margs, \u001b[39m*\u001b[39m\u001b[39m*\u001b[39mkwargs)\n\u001b[0;32m     94\u001b[0m \u001b[39mexcept\u001b[39;00m MDNotImplementedError:\n\u001b[0;32m     95\u001b[0m     \u001b[39m# Traverses registered methods in order, yields whenever a match is found\u001b[39;00m\n\u001b[0;32m     96\u001b[0m     funcs \u001b[39m=\u001b[39m \u001b[39mself\u001b[39m\u001b[39m.\u001b[39mdispatch_iter(\u001b[39m*\u001b[39mtypes)\n",
      "File \u001b[1;32mc:\\Users\\ma11115\\OneDrive - Imperial College London\\github_folder\\BO_polymers\\.conda\\lib\\site-packages\\botorch\\fit.py:252\u001b[0m, in \u001b[0;36m_fit_fallback\u001b[1;34m(mll, _, __, closure, optimizer, closure_kwargs, optimizer_kwargs, max_attempts, warning_handler, caught_exception_types, **ignore)\u001b[0m\n\u001b[0;32m    250\u001b[0m \u001b[39mwith\u001b[39;00m catch_warnings(record\u001b[39m=\u001b[39m\u001b[39mTrue\u001b[39;00m) \u001b[39mas\u001b[39;00m warning_list, debug(\u001b[39mTrue\u001b[39;00m):\n\u001b[0;32m    251\u001b[0m     simplefilter(\u001b[39m\"\u001b[39m\u001b[39malways\u001b[39m\u001b[39m\"\u001b[39m, category\u001b[39m=\u001b[39mOptimizationWarning)\n\u001b[1;32m--> 252\u001b[0m     optimizer(mll, closure\u001b[39m=\u001b[39mclosure, \u001b[39m*\u001b[39m\u001b[39m*\u001b[39moptimizer_kwargs)\n\u001b[0;32m    254\u001b[0m \u001b[39m# Resolved warnings and determine whether or not to retry\u001b[39;00m\n\u001b[0;32m    255\u001b[0m done \u001b[39m=\u001b[39m \u001b[39mTrue\u001b[39;00m\n",
      "File \u001b[1;32mc:\\Users\\ma11115\\OneDrive - Imperial College London\\github_folder\\BO_polymers\\.conda\\lib\\site-packages\\botorch\\optim\\fit.py:120\u001b[0m, in \u001b[0;36mfit_gpytorch_mll_scipy\u001b[1;34m(mll, parameters, bounds, closure, closure_kwargs, method, options, callback, timeout_sec)\u001b[0m\n\u001b[0;32m    117\u001b[0m \u001b[39mif\u001b[39;00m closure_kwargs \u001b[39mis\u001b[39;00m \u001b[39mnot\u001b[39;00m \u001b[39mNone\u001b[39;00m:\n\u001b[0;32m    118\u001b[0m     closure \u001b[39m=\u001b[39m partial(closure, \u001b[39m*\u001b[39m\u001b[39m*\u001b[39mclosure_kwargs)\n\u001b[1;32m--> 120\u001b[0m result \u001b[39m=\u001b[39m scipy_minimize(\n\u001b[0;32m    121\u001b[0m     closure\u001b[39m=\u001b[39;49mclosure,\n\u001b[0;32m    122\u001b[0m     parameters\u001b[39m=\u001b[39;49mparameters,\n\u001b[0;32m    123\u001b[0m     bounds\u001b[39m=\u001b[39;49mbounds,\n\u001b[0;32m    124\u001b[0m     method\u001b[39m=\u001b[39;49mmethod,\n\u001b[0;32m    125\u001b[0m     options\u001b[39m=\u001b[39;49moptions,\n\u001b[0;32m    126\u001b[0m     callback\u001b[39m=\u001b[39;49mcallback,\n\u001b[0;32m    127\u001b[0m     timeout_sec\u001b[39m=\u001b[39;49mtimeout_sec,\n\u001b[0;32m    128\u001b[0m )\n\u001b[0;32m    129\u001b[0m \u001b[39mif\u001b[39;00m result\u001b[39m.\u001b[39mstatus \u001b[39m!=\u001b[39m OptimizationStatus\u001b[39m.\u001b[39mSUCCESS:\n\u001b[0;32m    130\u001b[0m     warn(\n\u001b[0;32m    131\u001b[0m         \u001b[39mf\u001b[39m\u001b[39m\"\u001b[39m\u001b[39m`scipy_minimize` terminated with status \u001b[39m\u001b[39m{\u001b[39;00mresult\u001b[39m.\u001b[39mstatus\u001b[39m}\u001b[39;00m\u001b[39m, displaying\u001b[39m\u001b[39m\"\u001b[39m\n\u001b[0;32m    132\u001b[0m         \u001b[39mf\u001b[39m\u001b[39m\"\u001b[39m\u001b[39m original message from `scipy.optimize.minimize`: \u001b[39m\u001b[39m{\u001b[39;00mresult\u001b[39m.\u001b[39mmessage\u001b[39m}\u001b[39;00m\u001b[39m\"\u001b[39m,\n\u001b[0;32m    133\u001b[0m         OptimizationWarning,\n\u001b[0;32m    134\u001b[0m     )\n",
      "File \u001b[1;32mc:\\Users\\ma11115\\OneDrive - Imperial College London\\github_folder\\BO_polymers\\.conda\\lib\\site-packages\\botorch\\optim\\core.py:109\u001b[0m, in \u001b[0;36mscipy_minimize\u001b[1;34m(closure, parameters, bounds, callback, x0, method, options, timeout_sec)\u001b[0m\n\u001b[0;32m    101\u001b[0m         result \u001b[39m=\u001b[39m OptimizationResult(\n\u001b[0;32m    102\u001b[0m             step\u001b[39m=\u001b[39m\u001b[39mnext\u001b[39m(call_counter),\n\u001b[0;32m    103\u001b[0m             fval\u001b[39m=\u001b[39m\u001b[39mfloat\u001b[39m(wrapped_closure(x)[\u001b[39m0\u001b[39m]),\n\u001b[0;32m    104\u001b[0m             status\u001b[39m=\u001b[39mOptimizationStatus\u001b[39m.\u001b[39mRUNNING,\n\u001b[0;32m    105\u001b[0m             runtime\u001b[39m=\u001b[39mmonotonic() \u001b[39m-\u001b[39m start_time,\n\u001b[0;32m    106\u001b[0m         )\n\u001b[0;32m    107\u001b[0m         \u001b[39mreturn\u001b[39;00m callback(parameters, result)  \u001b[39m# pyre-ignore [29]\u001b[39;00m\n\u001b[1;32m--> 109\u001b[0m raw \u001b[39m=\u001b[39m minimize_with_timeout(\n\u001b[0;32m    110\u001b[0m     wrapped_closure,\n\u001b[0;32m    111\u001b[0m     wrapped_closure\u001b[39m.\u001b[39;49mstate \u001b[39mif\u001b[39;49;00m x0 \u001b[39mis\u001b[39;49;00m \u001b[39mNone\u001b[39;49;00m \u001b[39melse\u001b[39;49;00m x0\u001b[39m.\u001b[39;49mastype(np_float64, copy\u001b[39m=\u001b[39;49m\u001b[39mFalse\u001b[39;49;00m),\n\u001b[0;32m    112\u001b[0m     jac\u001b[39m=\u001b[39;49m\u001b[39mTrue\u001b[39;49;00m,\n\u001b[0;32m    113\u001b[0m     bounds\u001b[39m=\u001b[39;49mbounds_np,\n\u001b[0;32m    114\u001b[0m     method\u001b[39m=\u001b[39;49mmethod,\n\u001b[0;32m    115\u001b[0m     options\u001b[39m=\u001b[39;49moptions,\n\u001b[0;32m    116\u001b[0m     callback\u001b[39m=\u001b[39;49mwrapped_callback,\n\u001b[0;32m    117\u001b[0m     timeout_sec\u001b[39m=\u001b[39;49mtimeout_sec,\n\u001b[0;32m    118\u001b[0m )\n\u001b[0;32m    120\u001b[0m \u001b[39m# Post-processing and outcome handling\u001b[39;00m\n\u001b[0;32m    121\u001b[0m wrapped_closure\u001b[39m.\u001b[39mstate \u001b[39m=\u001b[39m asarray(raw\u001b[39m.\u001b[39mx)  \u001b[39m# set parameter state to optimal values\u001b[39;00m\n",
      "File \u001b[1;32mc:\\Users\\ma11115\\OneDrive - Imperial College London\\github_folder\\BO_polymers\\.conda\\lib\\site-packages\\botorch\\optim\\utils\\timeout.py:80\u001b[0m, in \u001b[0;36mminimize_with_timeout\u001b[1;34m(fun, x0, args, method, jac, hess, hessp, bounds, constraints, tol, callback, options, timeout_sec)\u001b[0m\n\u001b[0;32m     77\u001b[0m     wrapped_callback \u001b[39m=\u001b[39m callback\n\u001b[0;32m     79\u001b[0m \u001b[39mtry\u001b[39;00m:\n\u001b[1;32m---> 80\u001b[0m     \u001b[39mreturn\u001b[39;00m optimize\u001b[39m.\u001b[39;49mminimize(\n\u001b[0;32m     81\u001b[0m         fun\u001b[39m=\u001b[39;49mfun,\n\u001b[0;32m     82\u001b[0m         x0\u001b[39m=\u001b[39;49mx0,\n\u001b[0;32m     83\u001b[0m         args\u001b[39m=\u001b[39;49margs,\n\u001b[0;32m     84\u001b[0m         method\u001b[39m=\u001b[39;49mmethod,\n\u001b[0;32m     85\u001b[0m         jac\u001b[39m=\u001b[39;49mjac,\n\u001b[0;32m     86\u001b[0m         hess\u001b[39m=\u001b[39;49mhess,\n\u001b[0;32m     87\u001b[0m         hessp\u001b[39m=\u001b[39;49mhessp,\n\u001b[0;32m     88\u001b[0m         bounds\u001b[39m=\u001b[39;49mbounds,\n\u001b[0;32m     89\u001b[0m         constraints\u001b[39m=\u001b[39;49mconstraints,\n\u001b[0;32m     90\u001b[0m         tol\u001b[39m=\u001b[39;49mtol,\n\u001b[0;32m     91\u001b[0m         callback\u001b[39m=\u001b[39;49mwrapped_callback,\n\u001b[0;32m     92\u001b[0m         options\u001b[39m=\u001b[39;49moptions,\n\u001b[0;32m     93\u001b[0m     )\n\u001b[0;32m     94\u001b[0m \u001b[39mexcept\u001b[39;00m OptimizationTimeoutError \u001b[39mas\u001b[39;00m e:\n\u001b[0;32m     95\u001b[0m     msg \u001b[39m=\u001b[39m \u001b[39mf\u001b[39m\u001b[39m\"\u001b[39m\u001b[39mOptimization timed out after \u001b[39m\u001b[39m{\u001b[39;00me\u001b[39m.\u001b[39mruntime\u001b[39m}\u001b[39;00m\u001b[39m seconds.\u001b[39m\u001b[39m\"\u001b[39m\n",
      "File \u001b[1;32mc:\\Users\\ma11115\\OneDrive - Imperial College London\\github_folder\\BO_polymers\\.conda\\lib\\site-packages\\scipy\\optimize\\_minimize.py:710\u001b[0m, in \u001b[0;36mminimize\u001b[1;34m(fun, x0, args, method, jac, hess, hessp, bounds, constraints, tol, callback, options)\u001b[0m\n\u001b[0;32m    707\u001b[0m     res \u001b[39m=\u001b[39m _minimize_newtoncg(fun, x0, args, jac, hess, hessp, callback,\n\u001b[0;32m    708\u001b[0m                              \u001b[39m*\u001b[39m\u001b[39m*\u001b[39moptions)\n\u001b[0;32m    709\u001b[0m \u001b[39melif\u001b[39;00m meth \u001b[39m==\u001b[39m \u001b[39m'\u001b[39m\u001b[39ml-bfgs-b\u001b[39m\u001b[39m'\u001b[39m:\n\u001b[1;32m--> 710\u001b[0m     res \u001b[39m=\u001b[39m _minimize_lbfgsb(fun, x0, args, jac, bounds,\n\u001b[0;32m    711\u001b[0m                            callback\u001b[39m=\u001b[39mcallback, \u001b[39m*\u001b[39m\u001b[39m*\u001b[39moptions)\n\u001b[0;32m    712\u001b[0m \u001b[39melif\u001b[39;00m meth \u001b[39m==\u001b[39m \u001b[39m'\u001b[39m\u001b[39mtnc\u001b[39m\u001b[39m'\u001b[39m:\n\u001b[0;32m    713\u001b[0m     res \u001b[39m=\u001b[39m _minimize_tnc(fun, x0, args, jac, bounds, callback\u001b[39m=\u001b[39mcallback,\n\u001b[0;32m    714\u001b[0m                         \u001b[39m*\u001b[39m\u001b[39m*\u001b[39moptions)\n",
      "File \u001b[1;32mc:\\Users\\ma11115\\OneDrive - Imperial College London\\github_folder\\BO_polymers\\.conda\\lib\\site-packages\\scipy\\optimize\\_lbfgsb_py.py:307\u001b[0m, in \u001b[0;36m_minimize_lbfgsb\u001b[1;34m(fun, x0, args, jac, bounds, disp, maxcor, ftol, gtol, eps, maxfun, maxiter, iprint, callback, maxls, finite_diff_rel_step, **unknown_options)\u001b[0m\n\u001b[0;32m    304\u001b[0m     \u001b[39melse\u001b[39;00m:\n\u001b[0;32m    305\u001b[0m         iprint \u001b[39m=\u001b[39m disp\n\u001b[1;32m--> 307\u001b[0m sf \u001b[39m=\u001b[39m _prepare_scalar_function(fun, x0, jac\u001b[39m=\u001b[39;49mjac, args\u001b[39m=\u001b[39;49margs, epsilon\u001b[39m=\u001b[39;49meps,\n\u001b[0;32m    308\u001b[0m                               bounds\u001b[39m=\u001b[39;49mnew_bounds,\n\u001b[0;32m    309\u001b[0m                               finite_diff_rel_step\u001b[39m=\u001b[39;49mfinite_diff_rel_step)\n\u001b[0;32m    311\u001b[0m func_and_grad \u001b[39m=\u001b[39m sf\u001b[39m.\u001b[39mfun_and_grad\n\u001b[0;32m    313\u001b[0m fortran_int \u001b[39m=\u001b[39m _lbfgsb\u001b[39m.\u001b[39mtypes\u001b[39m.\u001b[39mintvar\u001b[39m.\u001b[39mdtype\n",
      "File \u001b[1;32mc:\\Users\\ma11115\\OneDrive - Imperial College London\\github_folder\\BO_polymers\\.conda\\lib\\site-packages\\scipy\\optimize\\_optimize.py:383\u001b[0m, in \u001b[0;36m_prepare_scalar_function\u001b[1;34m(fun, x0, jac, args, bounds, epsilon, finite_diff_rel_step, hess)\u001b[0m\n\u001b[0;32m    379\u001b[0m     bounds \u001b[39m=\u001b[39m (\u001b[39m-\u001b[39mnp\u001b[39m.\u001b[39minf, np\u001b[39m.\u001b[39minf)\n\u001b[0;32m    381\u001b[0m \u001b[39m# ScalarFunction caches. Reuse of fun(x) during grad\u001b[39;00m\n\u001b[0;32m    382\u001b[0m \u001b[39m# calculation reduces overall function evaluations.\u001b[39;00m\n\u001b[1;32m--> 383\u001b[0m sf \u001b[39m=\u001b[39m ScalarFunction(fun, x0, args, grad, hess,\n\u001b[0;32m    384\u001b[0m                     finite_diff_rel_step, bounds, epsilon\u001b[39m=\u001b[39;49mepsilon)\n\u001b[0;32m    386\u001b[0m \u001b[39mreturn\u001b[39;00m sf\n",
      "File \u001b[1;32mc:\\Users\\ma11115\\OneDrive - Imperial College London\\github_folder\\BO_polymers\\.conda\\lib\\site-packages\\scipy\\optimize\\_differentiable_functions.py:158\u001b[0m, in \u001b[0;36mScalarFunction.__init__\u001b[1;34m(self, fun, x0, args, grad, hess, finite_diff_rel_step, finite_diff_bounds, epsilon)\u001b[0m\n\u001b[0;32m    155\u001b[0m     \u001b[39mself\u001b[39m\u001b[39m.\u001b[39mf \u001b[39m=\u001b[39m fun_wrapped(\u001b[39mself\u001b[39m\u001b[39m.\u001b[39mx)\n\u001b[0;32m    157\u001b[0m \u001b[39mself\u001b[39m\u001b[39m.\u001b[39m_update_fun_impl \u001b[39m=\u001b[39m update_fun\n\u001b[1;32m--> 158\u001b[0m \u001b[39mself\u001b[39;49m\u001b[39m.\u001b[39;49m_update_fun()\n\u001b[0;32m    160\u001b[0m \u001b[39m# Gradient evaluation\u001b[39;00m\n\u001b[0;32m    161\u001b[0m \u001b[39mif\u001b[39;00m \u001b[39mcallable\u001b[39m(grad):\n",
      "File \u001b[1;32mc:\\Users\\ma11115\\OneDrive - Imperial College London\\github_folder\\BO_polymers\\.conda\\lib\\site-packages\\scipy\\optimize\\_differentiable_functions.py:251\u001b[0m, in \u001b[0;36mScalarFunction._update_fun\u001b[1;34m(self)\u001b[0m\n\u001b[0;32m    249\u001b[0m \u001b[39mdef\u001b[39;00m \u001b[39m_update_fun\u001b[39m(\u001b[39mself\u001b[39m):\n\u001b[0;32m    250\u001b[0m     \u001b[39mif\u001b[39;00m \u001b[39mnot\u001b[39;00m \u001b[39mself\u001b[39m\u001b[39m.\u001b[39mf_updated:\n\u001b[1;32m--> 251\u001b[0m         \u001b[39mself\u001b[39;49m\u001b[39m.\u001b[39;49m_update_fun_impl()\n\u001b[0;32m    252\u001b[0m         \u001b[39mself\u001b[39m\u001b[39m.\u001b[39mf_updated \u001b[39m=\u001b[39m \u001b[39mTrue\u001b[39;00m\n",
      "File \u001b[1;32mc:\\Users\\ma11115\\OneDrive - Imperial College London\\github_folder\\BO_polymers\\.conda\\lib\\site-packages\\scipy\\optimize\\_differentiable_functions.py:155\u001b[0m, in \u001b[0;36mScalarFunction.__init__.<locals>.update_fun\u001b[1;34m()\u001b[0m\n\u001b[0;32m    154\u001b[0m \u001b[39mdef\u001b[39;00m \u001b[39mupdate_fun\u001b[39m():\n\u001b[1;32m--> 155\u001b[0m     \u001b[39mself\u001b[39m\u001b[39m.\u001b[39mf \u001b[39m=\u001b[39m fun_wrapped(\u001b[39mself\u001b[39;49m\u001b[39m.\u001b[39;49mx)\n",
      "File \u001b[1;32mc:\\Users\\ma11115\\OneDrive - Imperial College London\\github_folder\\BO_polymers\\.conda\\lib\\site-packages\\scipy\\optimize\\_differentiable_functions.py:137\u001b[0m, in \u001b[0;36mScalarFunction.__init__.<locals>.fun_wrapped\u001b[1;34m(x)\u001b[0m\n\u001b[0;32m    133\u001b[0m \u001b[39mself\u001b[39m\u001b[39m.\u001b[39mnfev \u001b[39m+\u001b[39m\u001b[39m=\u001b[39m \u001b[39m1\u001b[39m\n\u001b[0;32m    134\u001b[0m \u001b[39m# Send a copy because the user may overwrite it.\u001b[39;00m\n\u001b[0;32m    135\u001b[0m \u001b[39m# Overwriting results in undefined behaviour because\u001b[39;00m\n\u001b[0;32m    136\u001b[0m \u001b[39m# fun(self.x) will change self.x, with the two no longer linked.\u001b[39;00m\n\u001b[1;32m--> 137\u001b[0m fx \u001b[39m=\u001b[39m fun(np\u001b[39m.\u001b[39;49mcopy(x), \u001b[39m*\u001b[39;49margs)\n\u001b[0;32m    138\u001b[0m \u001b[39m# Make sure the function returns a true scalar\u001b[39;00m\n\u001b[0;32m    139\u001b[0m \u001b[39mif\u001b[39;00m \u001b[39mnot\u001b[39;00m np\u001b[39m.\u001b[39misscalar(fx):\n",
      "File \u001b[1;32mc:\\Users\\ma11115\\OneDrive - Imperial College London\\github_folder\\BO_polymers\\.conda\\lib\\site-packages\\scipy\\optimize\\_optimize.py:77\u001b[0m, in \u001b[0;36mMemoizeJac.__call__\u001b[1;34m(self, x, *args)\u001b[0m\n\u001b[0;32m     75\u001b[0m \u001b[39mdef\u001b[39;00m \u001b[39m__call__\u001b[39m(\u001b[39mself\u001b[39m, x, \u001b[39m*\u001b[39margs):\n\u001b[0;32m     76\u001b[0m \u001b[39m    \u001b[39m\u001b[39m\"\"\" returns the function value \"\"\"\u001b[39;00m\n\u001b[1;32m---> 77\u001b[0m     \u001b[39mself\u001b[39;49m\u001b[39m.\u001b[39;49m_compute_if_needed(x, \u001b[39m*\u001b[39;49margs)\n\u001b[0;32m     78\u001b[0m     \u001b[39mreturn\u001b[39;00m \u001b[39mself\u001b[39m\u001b[39m.\u001b[39m_value\n",
      "File \u001b[1;32mc:\\Users\\ma11115\\OneDrive - Imperial College London\\github_folder\\BO_polymers\\.conda\\lib\\site-packages\\scipy\\optimize\\_optimize.py:71\u001b[0m, in \u001b[0;36mMemoizeJac._compute_if_needed\u001b[1;34m(self, x, *args)\u001b[0m\n\u001b[0;32m     69\u001b[0m \u001b[39mif\u001b[39;00m \u001b[39mnot\u001b[39;00m np\u001b[39m.\u001b[39mall(x \u001b[39m==\u001b[39m \u001b[39mself\u001b[39m\u001b[39m.\u001b[39mx) \u001b[39mor\u001b[39;00m \u001b[39mself\u001b[39m\u001b[39m.\u001b[39m_value \u001b[39mis\u001b[39;00m \u001b[39mNone\u001b[39;00m \u001b[39mor\u001b[39;00m \u001b[39mself\u001b[39m\u001b[39m.\u001b[39mjac \u001b[39mis\u001b[39;00m \u001b[39mNone\u001b[39;00m:\n\u001b[0;32m     70\u001b[0m     \u001b[39mself\u001b[39m\u001b[39m.\u001b[39mx \u001b[39m=\u001b[39m np\u001b[39m.\u001b[39masarray(x)\u001b[39m.\u001b[39mcopy()\n\u001b[1;32m---> 71\u001b[0m     fg \u001b[39m=\u001b[39m \u001b[39mself\u001b[39;49m\u001b[39m.\u001b[39;49mfun(x, \u001b[39m*\u001b[39;49margs)\n\u001b[0;32m     72\u001b[0m     \u001b[39mself\u001b[39m\u001b[39m.\u001b[39mjac \u001b[39m=\u001b[39m fg[\u001b[39m1\u001b[39m]\n\u001b[0;32m     73\u001b[0m     \u001b[39mself\u001b[39m\u001b[39m.\u001b[39m_value \u001b[39m=\u001b[39m fg[\u001b[39m0\u001b[39m]\n",
      "File \u001b[1;32mc:\\Users\\ma11115\\OneDrive - Imperial College London\\github_folder\\BO_polymers\\.conda\\lib\\site-packages\\botorch\\optim\\closures\\core.py:160\u001b[0m, in \u001b[0;36mNdarrayOptimizationClosure.__call__\u001b[1;34m(self, state, **kwargs)\u001b[0m\n\u001b[0;32m    158\u001b[0m         index \u001b[39m+\u001b[39m\u001b[39m=\u001b[39m size\n\u001b[0;32m    159\u001b[0m \u001b[39mexcept\u001b[39;00m \u001b[39mRuntimeError\u001b[39;00m \u001b[39mas\u001b[39;00m e:\n\u001b[1;32m--> 160\u001b[0m     value, grads \u001b[39m=\u001b[39m _handle_numerical_errors(e, x\u001b[39m=\u001b[39;49m\u001b[39mself\u001b[39;49m\u001b[39m.\u001b[39;49mstate, dtype\u001b[39m=\u001b[39;49mnp_float64)\n\u001b[0;32m    162\u001b[0m \u001b[39mreturn\u001b[39;00m value, grads\n",
      "File \u001b[1;32mc:\\Users\\ma11115\\OneDrive - Imperial College London\\github_folder\\BO_polymers\\.conda\\lib\\site-packages\\botorch\\optim\\utils\\common.py:52\u001b[0m, in \u001b[0;36m_handle_numerical_errors\u001b[1;34m(error, x, dtype)\u001b[0m\n\u001b[0;32m     50\u001b[0m     _dtype \u001b[39m=\u001b[39m x\u001b[39m.\u001b[39mdtype \u001b[39mif\u001b[39;00m dtype \u001b[39mis\u001b[39;00m \u001b[39mNone\u001b[39;00m \u001b[39melse\u001b[39;00m dtype\n\u001b[0;32m     51\u001b[0m     \u001b[39mreturn\u001b[39;00m np\u001b[39m.\u001b[39mfull((), \u001b[39m\"\u001b[39m\u001b[39mnan\u001b[39m\u001b[39m\"\u001b[39m, dtype\u001b[39m=\u001b[39m_dtype), np\u001b[39m.\u001b[39mfull_like(x, \u001b[39m\"\u001b[39m\u001b[39mnan\u001b[39m\u001b[39m\"\u001b[39m, dtype\u001b[39m=\u001b[39m_dtype)\n\u001b[1;32m---> 52\u001b[0m \u001b[39mraise\u001b[39;00m error\n",
      "File \u001b[1;32mc:\\Users\\ma11115\\OneDrive - Imperial College London\\github_folder\\BO_polymers\\.conda\\lib\\site-packages\\botorch\\optim\\closures\\core.py:150\u001b[0m, in \u001b[0;36mNdarrayOptimizationClosure.__call__\u001b[1;34m(self, state, **kwargs)\u001b[0m\n\u001b[0;32m    147\u001b[0m     \u001b[39mself\u001b[39m\u001b[39m.\u001b[39mstate \u001b[39m=\u001b[39m state\n\u001b[0;32m    149\u001b[0m \u001b[39mtry\u001b[39;00m:\n\u001b[1;32m--> 150\u001b[0m     value_tensor, grad_tensors \u001b[39m=\u001b[39m \u001b[39mself\u001b[39m\u001b[39m.\u001b[39mclosure(\u001b[39m*\u001b[39m\u001b[39m*\u001b[39mkwargs)\n\u001b[0;32m    151\u001b[0m     value \u001b[39m=\u001b[39m \u001b[39mself\u001b[39m\u001b[39m.\u001b[39mas_array(value_tensor)\n\u001b[0;32m    152\u001b[0m     grads \u001b[39m=\u001b[39m \u001b[39mself\u001b[39m\u001b[39m.\u001b[39m_get_gradient_ndarray(fill_value\u001b[39m=\u001b[39m\u001b[39mself\u001b[39m\u001b[39m.\u001b[39mfill_value)\n",
      "File \u001b[1;32mc:\\Users\\ma11115\\OneDrive - Imperial College London\\github_folder\\BO_polymers\\.conda\\lib\\site-packages\\botorch\\optim\\closures\\core.py:64\u001b[0m, in \u001b[0;36mForwardBackwardClosure.__call__\u001b[1;34m(self, **kwargs)\u001b[0m\n\u001b[0;32m     62\u001b[0m \u001b[39mdef\u001b[39;00m \u001b[39m__call__\u001b[39m(\u001b[39mself\u001b[39m, \u001b[39m*\u001b[39m\u001b[39m*\u001b[39mkwargs: Any) \u001b[39m-\u001b[39m\u001b[39m>\u001b[39m Tuple[Tensor, Tuple[Optional[Tensor], \u001b[39m.\u001b[39m\u001b[39m.\u001b[39m\u001b[39m.\u001b[39m]]:\n\u001b[0;32m     63\u001b[0m     \u001b[39mwith\u001b[39;00m \u001b[39mself\u001b[39m\u001b[39m.\u001b[39mcontext_manager():\n\u001b[1;32m---> 64\u001b[0m         values \u001b[39m=\u001b[39m \u001b[39mself\u001b[39m\u001b[39m.\u001b[39mforward(\u001b[39m*\u001b[39m\u001b[39m*\u001b[39mkwargs)\n\u001b[0;32m     65\u001b[0m         value \u001b[39m=\u001b[39m values \u001b[39mif\u001b[39;00m \u001b[39mself\u001b[39m\u001b[39m.\u001b[39mreducer \u001b[39mis\u001b[39;00m \u001b[39mNone\u001b[39;00m \u001b[39melse\u001b[39;00m \u001b[39mself\u001b[39m\u001b[39m.\u001b[39mreducer(values)\n\u001b[0;32m     66\u001b[0m         \u001b[39mself\u001b[39m\u001b[39m.\u001b[39mbackward(value)\n",
      "File \u001b[1;32mc:\\Users\\ma11115\\OneDrive - Imperial College London\\github_folder\\BO_polymers\\.conda\\lib\\site-packages\\botorch\\optim\\closures\\model_closures.py:176\u001b[0m, in \u001b[0;36m_get_loss_closure_exact_internal.<locals>.closure\u001b[1;34m(**kwargs)\u001b[0m\n\u001b[0;32m    174\u001b[0m \u001b[39mdef\u001b[39;00m \u001b[39mclosure\u001b[39m(\u001b[39m*\u001b[39m\u001b[39m*\u001b[39mkwargs: Any) \u001b[39m-\u001b[39m\u001b[39m>\u001b[39m Tensor:\n\u001b[0;32m    175\u001b[0m     model_output \u001b[39m=\u001b[39m mll\u001b[39m.\u001b[39mmodel(\u001b[39m*\u001b[39mmll\u001b[39m.\u001b[39mmodel\u001b[39m.\u001b[39mtrain_inputs)\n\u001b[1;32m--> 176\u001b[0m     log_likelihood \u001b[39m=\u001b[39m mll(\n\u001b[0;32m    177\u001b[0m         model_output, mll\u001b[39m.\u001b[39mmodel\u001b[39m.\u001b[39mtrain_targets, \u001b[39m*\u001b[39mmll\u001b[39m.\u001b[39mmodel\u001b[39m.\u001b[39mtrain_inputs, \u001b[39m*\u001b[39m\u001b[39m*\u001b[39mkwargs\n\u001b[0;32m    178\u001b[0m     )\n\u001b[0;32m    179\u001b[0m     \u001b[39mreturn\u001b[39;00m \u001b[39m-\u001b[39mlog_likelihood\n",
      "File \u001b[1;32mc:\\Users\\ma11115\\OneDrive - Imperial College London\\github_folder\\BO_polymers\\.conda\\lib\\site-packages\\gpytorch\\module.py:31\u001b[0m, in \u001b[0;36mModule.__call__\u001b[1;34m(self, *inputs, **kwargs)\u001b[0m\n\u001b[0;32m     30\u001b[0m \u001b[39mdef\u001b[39;00m \u001b[39m__call__\u001b[39m(\u001b[39mself\u001b[39m, \u001b[39m*\u001b[39minputs, \u001b[39m*\u001b[39m\u001b[39m*\u001b[39mkwargs) \u001b[39m-\u001b[39m\u001b[39m>\u001b[39m Union[Tensor, Distribution, LinearOperator]:\n\u001b[1;32m---> 31\u001b[0m     outputs \u001b[39m=\u001b[39m \u001b[39mself\u001b[39m\u001b[39m.\u001b[39mforward(\u001b[39m*\u001b[39minputs, \u001b[39m*\u001b[39m\u001b[39m*\u001b[39mkwargs)\n\u001b[0;32m     32\u001b[0m     \u001b[39mif\u001b[39;00m \u001b[39misinstance\u001b[39m(outputs, \u001b[39mlist\u001b[39m):\n\u001b[0;32m     33\u001b[0m         \u001b[39mreturn\u001b[39;00m [_validate_module_outputs(output) \u001b[39mfor\u001b[39;00m output \u001b[39min\u001b[39;00m outputs]\n",
      "File \u001b[1;32mc:\\Users\\ma11115\\OneDrive - Imperial College London\\github_folder\\BO_polymers\\.conda\\lib\\site-packages\\gpytorch\\mlls\\exact_marginal_log_likelihood.py:64\u001b[0m, in \u001b[0;36mExactMarginalLogLikelihood.forward\u001b[1;34m(self, function_dist, target, *params)\u001b[0m\n\u001b[0;32m     62\u001b[0m \u001b[39m# Get the log prob of the marginal distribution\u001b[39;00m\n\u001b[0;32m     63\u001b[0m output \u001b[39m=\u001b[39m \u001b[39mself\u001b[39m\u001b[39m.\u001b[39mlikelihood(function_dist, \u001b[39m*\u001b[39mparams)\n\u001b[1;32m---> 64\u001b[0m res \u001b[39m=\u001b[39m output\u001b[39m.\u001b[39;49mlog_prob(target)\n\u001b[0;32m     65\u001b[0m res \u001b[39m=\u001b[39m \u001b[39mself\u001b[39m\u001b[39m.\u001b[39m_add_other_terms(res, params)\n\u001b[0;32m     67\u001b[0m \u001b[39m# Scale by the amount of data we have\u001b[39;00m\n",
      "File \u001b[1;32mc:\\Users\\ma11115\\OneDrive - Imperial College London\\github_folder\\BO_polymers\\.conda\\lib\\site-packages\\gpytorch\\distributions\\multivariate_normal.py:171\u001b[0m, in \u001b[0;36mMultivariateNormal.log_prob\u001b[1;34m(self, value)\u001b[0m\n\u001b[0;32m    166\u001b[0m \u001b[39m\u001b[39m\u001b[39mr\u001b[39m\u001b[39m\"\"\"\u001b[39;00m\n\u001b[0;32m    167\u001b[0m \u001b[39mSee :py:meth:`torch.distributions.Distribution.log_prob\u001b[39;00m\n\u001b[0;32m    168\u001b[0m \u001b[39m<torch.distributions.distribution.Distribution.log_prob>`.\u001b[39;00m\n\u001b[0;32m    169\u001b[0m \u001b[39m\"\"\"\u001b[39;00m\n\u001b[0;32m    170\u001b[0m \u001b[39mif\u001b[39;00m settings\u001b[39m.\u001b[39mfast_computations\u001b[39m.\u001b[39mlog_prob\u001b[39m.\u001b[39moff():\n\u001b[1;32m--> 171\u001b[0m     \u001b[39mreturn\u001b[39;00m \u001b[39msuper\u001b[39;49m()\u001b[39m.\u001b[39;49mlog_prob(value)\n\u001b[0;32m    173\u001b[0m \u001b[39mif\u001b[39;00m \u001b[39mself\u001b[39m\u001b[39m.\u001b[39m_validate_args:\n\u001b[0;32m    174\u001b[0m     \u001b[39mself\u001b[39m\u001b[39m.\u001b[39m_validate_sample(value)\n",
      "File \u001b[1;32mc:\\Users\\ma11115\\OneDrive - Imperial College London\\github_folder\\BO_polymers\\.conda\\lib\\site-packages\\torch\\distributions\\multivariate_normal.py:215\u001b[0m, in \u001b[0;36mMultivariateNormal.log_prob\u001b[1;34m(self, value)\u001b[0m\n\u001b[0;32m    213\u001b[0m \u001b[39mif\u001b[39;00m \u001b[39mself\u001b[39m\u001b[39m.\u001b[39m_validate_args:\n\u001b[0;32m    214\u001b[0m     \u001b[39mself\u001b[39m\u001b[39m.\u001b[39m_validate_sample(value)\n\u001b[1;32m--> 215\u001b[0m diff \u001b[39m=\u001b[39m value \u001b[39m-\u001b[39;49m \u001b[39mself\u001b[39;49m\u001b[39m.\u001b[39;49mloc\n\u001b[0;32m    216\u001b[0m M \u001b[39m=\u001b[39m _batch_mahalanobis(\u001b[39mself\u001b[39m\u001b[39m.\u001b[39m_unbroadcasted_scale_tril, diff)\n\u001b[0;32m    217\u001b[0m half_log_det \u001b[39m=\u001b[39m \u001b[39mself\u001b[39m\u001b[39m.\u001b[39m_unbroadcasted_scale_tril\u001b[39m.\u001b[39mdiagonal(dim1\u001b[39m=\u001b[39m\u001b[39m-\u001b[39m\u001b[39m2\u001b[39m, dim2\u001b[39m=\u001b[39m\u001b[39m-\u001b[39m\u001b[39m1\u001b[39m)\u001b[39m.\u001b[39mlog()\u001b[39m.\u001b[39msum(\u001b[39m-\u001b[39m\u001b[39m1\u001b[39m)\n",
      "\u001b[1;31mRuntimeError\u001b[0m: The size of tensor a (0) must match the size of tensor b (10) at non-singleton dimension 0"
     ]
    }
   ],
   "source": [
    "S_exp.ids_acquired\n",
    "Bayesian_Optimisation().suggest_element(search_space_df=S_exp.df_search_space, fitness_acquired=S_exp.fitness_acquired, ids_acquired=S_exp.ids_acquired)"
   ]
  },
  {
   "cell_type": "code",
   "execution_count": null,
   "metadata": {},
   "outputs": [
    {
     "data": {
      "text/plain": [
       "torch.Size([20, 1])"
      ]
     },
     "execution_count": 157,
     "metadata": {},
     "output_type": "execute_result"
    }
   ],
   "source": [
    "y_explored_BO = torch.tensor(\n",
    "            S_exp.fitness_acquired, dtype=torch.float, device=\"cpu\"\n",
    "        )\n",
    "y_explored_BO=y_explored_BO.reshape(-1,1)\n",
    "y_explored_BO.shape\n"
   ]
  },
  {
   "cell_type": "code",
   "execution_count": 43,
   "metadata": {},
   "outputs": [
    {
     "data": {
      "text/plain": [
       "tensor([[3.9680e+00, 2.2730e-01, 4.3930e+00, 1.9090e-01, 4.6860e+00, 4.0000e-03,\n",
       "         3.4290e+00, 5.6450e-01, 3.8270e+00, 1.0033e+00, 3.9840e+00, 8.8000e-03,\n",
       "         3.3740e+00, 4.8270e-01, 3.8150e+00, 9.6430e-01, 4.0650e+00, 4.3000e-03,\n",
       "         4.0040e+00, 2.1080e-01, 4.4040e+00, 2.6630e-01, 4.7650e+00, 5.6000e-03,\n",
       "         3.4290e+00, 5.6450e-01, 3.8270e+00, 1.0033e+00, 3.9840e+00, 8.8000e-03,\n",
       "         3.9680e+00, 2.2730e-01, 4.3930e+00, 1.9090e-01, 4.6860e+00, 4.0000e-03],\n",
       "        [4.0020e+00, 2.1270e-01, 4.4020e+00, 2.7040e-01, 4.6850e+00, 0.0000e+00,\n",
       "         4.0020e+00, 2.1270e-01, 4.4020e+00, 2.7040e-01, 4.6850e+00, 0.0000e+00,\n",
       "         3.9630e+00, 2.3180e-01, 4.3870e+00, 1.7300e-01, 4.6220e+00, 0.0000e+00,\n",
       "         4.1790e+00, 2.8750e-01, 4.4800e+00, 4.6350e-01, 4.7430e+00, 1.4200e-02,\n",
       "         4.0020e+00, 2.1270e-01, 4.4020e+00, 2.7040e-01, 4.6850e+00, 0.0000e+00,\n",
       "         4.0020e+00, 2.1270e-01, 4.4020e+00, 2.7040e-01, 4.6850e+00, 0.0000e+00],\n",
       "        [3.5990e+00, 6.8320e-01, 4.1150e+00, 1.1000e-03, 4.3500e+00, 3.0000e-04,\n",
       "         3.6740e+00, 4.2840e-01, 4.0810e+00, 7.2300e-02, 4.1850e+00, 7.0150e-01,\n",
       "         3.9630e+00, 2.3180e-01, 4.3870e+00, 1.7300e-01, 4.6220e+00, 0.0000e+00,\n",
       "         3.7100e+00, 6.8180e-01, 4.0780e+00, 0.0000e+00, 4.5490e+00, 2.0000e-04,\n",
       "         3.6740e+00, 4.2840e-01, 4.0810e+00, 7.2300e-02, 4.1850e+00, 7.0150e-01,\n",
       "         3.5990e+00, 6.8320e-01, 4.1150e+00, 1.1000e-03, 4.3500e+00, 3.0000e-04],\n",
       "        [4.1790e+00, 2.8750e-01, 4.4800e+00, 4.6350e-01, 4.7430e+00, 1.4200e-02,\n",
       "         4.0040e+00, 2.1080e-01, 4.4040e+00, 2.6630e-01, 4.7650e+00, 5.6000e-03,\n",
       "         3.5630e+00, 4.7040e-01, 3.8870e+00, 8.9000e-03, 4.0980e+00, 7.3280e-01,\n",
       "         3.6620e+00, 4.1980e-01, 3.8800e+00, 7.0000e-03, 4.1890e+00, 6.9510e-01,\n",
       "         4.0040e+00, 2.1080e-01, 4.4040e+00, 2.6630e-01, 4.7650e+00, 5.6000e-03,\n",
       "         4.1790e+00, 2.8750e-01, 4.4800e+00, 4.6350e-01, 4.7430e+00, 1.4200e-02],\n",
       "        [3.3740e+00, 4.8270e-01, 3.8150e+00, 9.6430e-01, 4.0650e+00, 4.3000e-03,\n",
       "         3.9630e+00, 2.3180e-01, 4.3870e+00, 1.7300e-01, 4.6220e+00, 0.0000e+00,\n",
       "         3.5630e+00, 4.7040e-01, 3.8870e+00, 8.9000e-03, 4.0980e+00, 7.3280e-01,\n",
       "         3.7450e+00, 6.7860e-01, 4.0040e+00, 2.7000e-03, 4.4990e+00, 3.0000e-04,\n",
       "         3.9630e+00, 2.3180e-01, 4.3870e+00, 1.7300e-01, 4.6220e+00, 0.0000e+00,\n",
       "         3.3740e+00, 4.8270e-01, 3.8150e+00, 9.6430e-01, 4.0650e+00, 4.3000e-03],\n",
       "        [4.2550e+00, 2.8570e-01, 4.4560e+00, 5.2090e-01, 4.8090e+00, 1.3600e-02,\n",
       "         3.6940e+00, 6.8440e-01, 3.9860e+00, 6.0000e-04, 4.3780e+00, 1.0000e-04,\n",
       "         3.6940e+00, 6.8440e-01, 3.9860e+00, 6.0000e-04, 4.3780e+00, 1.0000e-04,\n",
       "         3.6620e+00, 4.1980e-01, 3.8800e+00, 7.0000e-03, 4.1890e+00, 6.9510e-01,\n",
       "         3.6940e+00, 6.8440e-01, 3.9860e+00, 6.0000e-04, 4.3780e+00, 1.0000e-04,\n",
       "         4.2550e+00, 2.8570e-01, 4.4560e+00, 5.2090e-01, 4.8090e+00, 1.3600e-02],\n",
       "        [3.6730e+00, 6.9380e-01, 4.0760e+00, 7.0000e-04, 4.4440e+00, 2.0000e-04,\n",
       "         3.7100e+00, 6.8180e-01, 4.0780e+00, 0.0000e+00, 4.5490e+00, 2.0000e-04,\n",
       "         3.6730e+00, 6.9380e-01, 4.0760e+00, 7.0000e-04, 4.4440e+00, 2.0000e-04,\n",
       "         4.1790e+00, 2.8750e-01, 4.4800e+00, 4.6350e-01, 4.7430e+00, 1.4200e-02,\n",
       "         3.7100e+00, 6.8180e-01, 4.0780e+00, 0.0000e+00, 4.5490e+00, 2.0000e-04,\n",
       "         3.6730e+00, 6.9380e-01, 4.0760e+00, 7.0000e-04, 4.4440e+00, 2.0000e-04],\n",
       "        [4.1790e+00, 2.8750e-01, 4.4800e+00, 4.6350e-01, 4.7430e+00, 1.4200e-02,\n",
       "         3.9680e+00, 2.2730e-01, 4.3930e+00, 1.9090e-01, 4.6860e+00, 4.0000e-03,\n",
       "         3.9630e+00, 2.3180e-01, 4.3870e+00, 1.7300e-01, 4.6220e+00, 0.0000e+00,\n",
       "         4.1790e+00, 2.8750e-01, 4.4800e+00, 4.6350e-01, 4.7430e+00, 1.4200e-02,\n",
       "         3.9680e+00, 2.2730e-01, 4.3930e+00, 1.9090e-01, 4.6860e+00, 4.0000e-03,\n",
       "         4.1790e+00, 2.8750e-01, 4.4800e+00, 4.6350e-01, 4.7430e+00, 1.4200e-02],\n",
       "        [4.0040e+00, 2.1080e-01, 4.4040e+00, 2.6630e-01, 4.7650e+00, 5.6000e-03,\n",
       "         3.6730e+00, 6.9380e-01, 4.0760e+00, 7.0000e-04, 4.4440e+00, 2.0000e-04,\n",
       "         3.7100e+00, 6.8180e-01, 4.0780e+00, 0.0000e+00, 4.5490e+00, 2.0000e-04,\n",
       "         3.7100e+00, 6.8180e-01, 4.0780e+00, 0.0000e+00, 4.5490e+00, 2.0000e-04,\n",
       "         3.6730e+00, 6.9380e-01, 4.0760e+00, 7.0000e-04, 4.4440e+00, 2.0000e-04,\n",
       "         4.0040e+00, 2.1080e-01, 4.4040e+00, 2.6630e-01, 4.7650e+00, 5.6000e-03],\n",
       "        [3.3740e+00, 4.8270e-01, 3.8150e+00, 9.6430e-01, 4.0650e+00, 4.3000e-03,\n",
       "         4.3110e+00, 5.8900e-01, 4.5140e+00, 2.2180e-01, 4.7970e+00, 9.8000e-03,\n",
       "         4.1790e+00, 2.8750e-01, 4.4800e+00, 4.6350e-01, 4.7430e+00, 1.4200e-02,\n",
       "         3.3740e+00, 4.8270e-01, 3.8150e+00, 9.6430e-01, 4.0650e+00, 4.3000e-03,\n",
       "         4.3110e+00, 5.8900e-01, 4.5140e+00, 2.2180e-01, 4.7970e+00, 9.8000e-03,\n",
       "         3.3740e+00, 4.8270e-01, 3.8150e+00, 9.6430e-01, 4.0650e+00, 4.3000e-03]],\n",
       "       dtype=torch.float64)"
      ]
     },
     "execution_count": 43,
     "metadata": {},
     "output_type": "execute_result"
    }
   ],
   "source": [
    "search_space_df=S_exp.df_search_space\n",
    "ids_acquired=S_exp.ids_acquired\n",
    "searched_space_df = search_space_df.iloc[np.array(ids_acquired)]\n",
    "numeric_cols = searched_space_df.select_dtypes(include=['float64', 'int64']).columns\n",
    "# put numeric data from dataframe to tensor\n",
    "X_explored_BO = torch.tensor(\n",
    "    searched_space_df[numeric_cols].values, dtype=torch.float64, device=\"cpu\")\n",
    "X_explored_BO"
   ]
  },
  {
   "cell_type": "code",
   "execution_count": 21,
   "metadata": {},
   "outputs": [
    {
     "name": "stdout",
     "output_type": "stream",
     "text": [
      "shape of X: (24812, 72)\n",
      "shape of y_explored: (24812, 1)\n",
      "shape of X_explored: (24812, 72)\n",
      "# polymerss: 24812\n",
      "# iterations: 100\n",
      "# runs: 10\n",
      "fragment features considered: Index(['Atom_num', 'HOMO (eV)', 'LUMO (eV)', 'HOMO_LUMO_GAP (eV)', 'IP (eV)',\n",
      "       'EA (eV)', '1 Excited state Energy (eV)', '1 Excited state Osc',\n",
      "       '2 Excited state Energy (eV)', '2 Excited state Osc',\n",
      "       '3 Excited state Energy (eV)', '3 Excited state Osc', 'InChIKey'],\n",
      "      dtype='object')\n",
      "torch.Size([24812, 1, 72])\n",
      "torch.Size([24812, 1, 72])\n"
     ]
    }
   ],
   "source": [
    "def load_input_output_data(input_output_file='inputs_and_outputs.pkl'):\n",
    "    X = pd.read_pickle(input_output_file)['X']\n",
    "    print(\"shape of X:\", np.shape(X))\n",
    "\n",
    "    y_explored = pd.read_pickle(input_output_file)['Y_explored']\n",
    "    y_explored = np.reshape(y_explored, (np.size(y_explored), 1))  # for the GP\n",
    "    print(\"shape of y_explored:\", np.shape(y_explored))\n",
    "\n",
    "    X_explored = pd.read_pickle(input_output_file)['X_explored']\n",
    "    print(\"shape of X_explored:\", np.shape(X_explored))\n",
    "\n",
    "    nb_Oligomers = pd.read_pickle(input_output_file)['nb_Oligomers']\n",
    "    print(\"# polymerss:\", nb_Oligomers)\n",
    "\n",
    "    nb_iterations = pd.read_pickle(input_output_file)['nb_iterations']\n",
    "    print(\"# iterations:\", nb_iterations)\n",
    "\n",
    "    nb_runs = pd.read_pickle(input_output_file)['nb_runs']\n",
    "    print(\"# runs:\", nb_runs)\n",
    "\n",
    "    features_frag = pd.read_pickle(input_output_file)['features frag']\n",
    "    print(\"fragment features considered:\", features_frag)\n",
    "\n",
    "    fragement_names = pd.read_pickle(input_output_file)[\n",
    "        'fragement names']\n",
    "\n",
    "    # evaluation_funct(5550,fragement_names)\n",
    "    X = torch.from_numpy(X)\n",
    "    X_explored = torch.from_numpy(X_explored)\n",
    "    X_explored = X_explored.unsqueeze(1)\n",
    "    print(X_explored.size())\n",
    "    #y_explored = torch.from_numpy(y_explored)\n",
    "    X_unsqueezed = X.unsqueeze(1)\n",
    "    print(X_unsqueezed.size())\n",
    "    return X, y_explored, X_explored, nb_Oligomers,   fragement_names, X_unsqueezed\n",
    "\n",
    "\n",
    "X, y_explored, X_explored, nb_Oligomers,   fragement_names, X_unsqueezed = load_input_output_data(input_output_file='inputs_and_outputs_test_6_full.pkl')\n",
    "y_acquired=torch.from_numpy(y_explored)\n",
    "#X_explored=torch.from_numpy(X_explored)\n",
    "y_acquired = (y_acquired - torch.mean(y_acquired)\n",
    "                     ) / torch.std(y_acquired)\n",
    "X_explored=X_explored.squeeze()\n",
    "\n",
    "\n"
   ]
  },
  {
   "cell_type": "code",
   "execution_count": 48,
   "metadata": {},
   "outputs": [
    {
     "name": "stderr",
     "output_type": "stream",
     "text": [
      "c:\\Users\\ma11115\\OneDrive - Imperial College London\\github_folder\\BO_polymers\\.conda\\lib\\site-packages\\botorch\\models\\utils\\assorted.py:173: InputDataWarning: Input data is not contained to the unit cube. Please consider min-max scaling the input data.\n",
      "  warnings.warn(msg, InputDataWarning)\n",
      "c:\\Users\\ma11115\\OneDrive - Imperial College London\\github_folder\\BO_polymers\\.conda\\lib\\site-packages\\botorch\\models\\utils\\assorted.py:201: InputDataWarning: Input data is not standardized (mean = tensor([-0.0789], dtype=torch.float64), std = tensor([0.2498], dtype=torch.float64)). Please consider scaling the input to zero mean and unit variance.\n",
      "  warnings.warn(msg, InputDataWarning)\n"
     ]
    },
    {
     "data": {
      "image/png": "[encoded data removed]",
      "text/plain": [
       "<Figure size 500x700 with 1 Axes>"
      ]
     },
     "metadata": {},
     "output_type": "display_data"
    }
   ],
   "source": [
    "#model = TanimotoGP(X_explored[:300], y_acquired[:300])\n",
    "model = TanimotoGP(X_explored_BO, y_acquired[:10])\n",
    "\n",
    "mll = ExactMarginalLogLikelihood(model.likelihood, model)\n",
    "fit_gpytorch_model(mll)\n",
    "# plot the posterior\n",
    "%matplotlib inline\n",
    "import numpy as np\n",
    "import matplotlib.pyplot as plt\n",
    "\n",
    "fig, ax = plt.subplots(1, 1, figsize=(5, 7))\n",
    "ax.plot(y_acquired[:10].tolist(),model.posterior(X_explored_BO).mean.squeeze().tolist(), 'b.', markersize=10, label='predicted mean')\n",
    "ax.set_xlabel('$real value$', fontsize=16)\n",
    "ax.set_ylabel('$predicted value$', fontsize=16)\n",
    "ax.legend(loc='best', fontsize=16)\n",
    "ax.set_ylim([-1,1])\n",
    "plt.show()"
   ]
  },
  {
   "cell_type": "code",
   "execution_count": 52,
   "metadata": {},
   "outputs": [
    {
     "data": {
      "text/plain": [
       "tensor([[ 7.5603e-01,  1.1932e+00,  5.8620e-01, -6.3660e-01,  4.5212e-01,\n",
       "         -6.4400e-01, -8.9821e-01, -9.0253e-01, -9.1553e-01, -7.0336e-01,\n",
       "         -9.8048e-01,  2.2360e+00, -1.5635e+00, -1.2002e+00, -1.5112e+00,\n",
       "         -5.5699e-01, -1.6866e+00,  1.7320e+00, -1.5635e+00, -1.2002e+00,\n",
       "         -1.5112e+00, -5.5699e-01, -1.6866e+00,  1.7320e+00,  7.5603e-01,\n",
       "          1.1932e+00,  5.8620e-01, -6.3660e-01,  4.5212e-01, -6.4400e-01,\n",
       "          7.5603e-01,  1.1932e+00,  5.8620e-01, -6.3660e-01,  4.5212e-01,\n",
       "         -6.4400e-01],\n",
       "        [-1.4043e+00, -1.0537e+00, -1.3549e+00, -6.2262e-01, -1.5219e+00,\n",
       "          1.5584e+00,  4.7106e-02,  1.8281e+00,  6.3325e-02, -7.1982e-01,\n",
       "          8.2817e-02, -4.5116e-01,  6.5763e-01,  1.0014e+00,  4.7790e-01,\n",
       "         -5.7184e-01,  3.8388e-01, -5.7939e-01,  6.5763e-01,  1.0014e+00,\n",
       "          4.7790e-01, -5.7184e-01,  3.8388e-01, -5.7939e-01, -1.4043e+00,\n",
       "         -1.0537e+00, -1.3549e+00, -6.2262e-01, -1.5219e+00,  1.5584e+00,\n",
       "         -1.4043e+00, -1.0537e+00, -1.3549e+00, -6.2262e-01, -1.5219e+00,\n",
       "          1.5584e+00],\n",
       "        [ 7.5603e-01,  1.1932e+00,  5.8620e-01, -6.3660e-01,  4.5212e-01,\n",
       "         -6.4400e-01,  4.7106e-02,  1.8281e+00,  6.3325e-02, -7.1982e-01,\n",
       "          8.2817e-02, -4.5116e-01, -1.5635e+00, -1.2002e+00, -1.5112e+00,\n",
       "         -5.5699e-01, -1.6866e+00,  1.7320e+00, -1.5635e+00, -1.2002e+00,\n",
       "         -1.5112e+00, -5.5699e-01, -1.6866e+00,  1.7320e+00,  7.5603e-01,\n",
       "          1.1932e+00,  5.8620e-01, -6.3660e-01,  4.5212e-01, -6.4400e-01,\n",
       "          7.5603e-01,  1.1932e+00,  5.8620e-01, -6.3660e-01,  4.5212e-01,\n",
       "         -6.4400e-01],\n",
       "        [ 6.5569e-01,  1.3040e+00,  8.3861e-01, -6.3598e-01,  6.1712e-01,\n",
       "         -6.4254e-01, -2.4788e-01, -3.7219e-01, -6.4430e-01, -6.5802e-01,\n",
       "         -1.0629e+00, -4.2671e-01, -9.6710e-02, -7.1432e-01, -2.2105e-01,\n",
       "          1.9259e+00,  4.5940e-01, -5.7327e-01, -9.6710e-02, -7.1432e-01,\n",
       "         -2.2105e-01,  1.9259e+00,  4.5940e-01, -5.7327e-01,  6.5569e-01,\n",
       "          1.3040e+00,  8.3861e-01, -6.3598e-01,  6.1712e-01, -6.4254e-01,\n",
       "          6.5569e-01,  1.3040e+00,  8.3861e-01, -6.3598e-01,  6.1712e-01,\n",
       "         -6.4254e-01],\n",
       "        [ 2.2340e-02, -5.5784e-01, -9.5905e-02,  1.7138e+00,  5.2412e-01,\n",
       "         -6.3817e-01,  2.4289e+00, -7.7119e-01,  2.2983e+00, -7.0080e-01,\n",
       "          2.1125e+00, -4.5249e-01,  5.5447e-01,  1.1100e+00,  7.3654e-01,\n",
       "         -5.7118e-01,  5.5694e-01, -5.7786e-01,  5.5447e-01,  1.1100e+00,\n",
       "          7.3654e-01, -5.7118e-01,  5.5694e-01, -5.7786e-01,  2.2340e-02,\n",
       "         -5.5784e-01, -9.5905e-02,  1.7138e+00,  5.2412e-01, -6.3817e-01,\n",
       "          2.2340e-02, -5.5784e-01, -9.5905e-02,  1.7138e+00,  5.2412e-01,\n",
       "         -6.3817e-01],\n",
       "        [ 6.5569e-01,  1.3040e+00,  8.3861e-01, -6.3598e-01,  6.1712e-01,\n",
       "         -6.4254e-01,  2.4289e+00, -7.7119e-01,  2.2983e+00, -7.0080e-01,\n",
       "          2.1125e+00, -4.5249e-01,  5.5447e-01,  1.1100e+00,  7.3654e-01,\n",
       "         -5.7118e-01,  5.5694e-01, -5.7786e-01,  5.5447e-01,  1.1100e+00,\n",
       "          7.3654e-01, -5.7118e-01,  5.5694e-01, -5.7786e-01,  6.5569e-01,\n",
       "          1.3040e+00,  8.3861e-01, -6.3598e-01,  6.1712e-01, -6.4254e-01,\n",
       "          6.5569e-01,  1.3040e+00,  8.3861e-01, -6.3598e-01,  6.1712e-01,\n",
       "         -6.4254e-01],\n",
       "        [-1.4043e+00, -1.0537e+00, -1.3549e+00, -6.2262e-01, -1.5219e+00,\n",
       "          1.5584e+00, -8.9821e-01, -9.0253e-01, -9.1553e-01, -7.0336e-01,\n",
       "         -9.8048e-01,  2.2360e+00,  6.5763e-01,  1.0014e+00,  4.7790e-01,\n",
       "         -5.7184e-01,  3.8388e-01, -5.7939e-01,  6.5763e-01,  1.0014e+00,\n",
       "          4.7790e-01, -5.7184e-01,  3.8388e-01, -5.7939e-01, -1.4043e+00,\n",
       "         -1.0537e+00, -1.3549e+00, -6.2262e-01, -1.5219e+00,  1.5584e+00,\n",
       "         -1.4043e+00, -1.0537e+00, -1.3549e+00, -6.2262e-01, -1.5219e+00,\n",
       "          1.5584e+00],\n",
       "        [ 6.5569e-01,  1.3040e+00,  8.3861e-01, -6.3598e-01,  6.1712e-01,\n",
       "         -6.4254e-01,  2.4289e+00, -7.7119e-01,  2.2983e+00, -7.0080e-01,\n",
       "          2.1125e+00, -4.5249e-01, -9.6710e-02, -7.1432e-01, -2.2105e-01,\n",
       "          1.9259e+00,  4.5940e-01, -5.7327e-01, -9.6710e-02, -7.1432e-01,\n",
       "         -2.2105e-01,  1.9259e+00,  4.5940e-01, -5.7327e-01,  6.5569e-01,\n",
       "          1.3040e+00,  8.3861e-01, -6.3598e-01,  6.1712e-01, -6.4254e-01,\n",
       "          6.5569e-01,  1.3040e+00,  8.3861e-01, -6.3598e-01,  6.1712e-01,\n",
       "         -6.4254e-01],\n",
       "        [ 1.6966e+00, -2.8492e-01,  1.7611e+00, -9.9164e-02,  1.3071e+00,\n",
       "         -6.4546e-01,  4.2990e-02, -4.4680e-02,  9.4369e-01, -3.4262e-02,\n",
       "          1.2819e+00, -4.5294e-01,  1.6247e+00, -4.4691e-01,  1.6818e+00,\n",
       "         -7.1528e-04,  1.2806e+00, -5.8092e-01,  1.6247e+00, -4.4691e-01,\n",
       "          1.6818e+00, -7.1528e-04,  1.2806e+00, -5.8092e-01,  1.6966e+00,\n",
       "         -2.8492e-01,  1.7611e+00, -9.9164e-02,  1.3071e+00, -6.4546e-01,\n",
       "          1.6966e+00, -2.8492e-01,  1.7611e+00, -9.9164e-02,  1.3071e+00,\n",
       "         -6.4546e-01],\n",
       "        [-1.4043e+00, -1.0537e+00, -1.3549e+00, -6.2262e-01, -1.5219e+00,\n",
       "          1.5584e+00, -8.9821e-01, -9.0253e-01, -9.1553e-01, -7.0336e-01,\n",
       "         -9.8048e-01,  2.2360e+00, -1.5635e+00, -1.2002e+00, -1.5112e+00,\n",
       "         -5.5699e-01, -1.6866e+00,  1.7320e+00, -1.5635e+00, -1.2002e+00,\n",
       "         -1.5112e+00, -5.5699e-01, -1.6866e+00,  1.7320e+00, -1.4043e+00,\n",
       "         -1.0537e+00, -1.3549e+00, -6.2262e-01, -1.5219e+00,  1.5584e+00,\n",
       "         -1.4043e+00, -1.0537e+00, -1.3549e+00, -6.2262e-01, -1.5219e+00,\n",
       "          1.5584e+00],\n",
       "        [-1.4043e+00, -1.0537e+00, -1.3549e+00, -6.2262e-01, -1.5219e+00,\n",
       "          1.5584e+00, -9.0370e-01, -3.8175e-01, -7.8371e-01,  4.9846e-01,\n",
       "         -7.4132e-01, -4.4849e-01, -1.5635e+00, -1.2002e+00, -1.5112e+00,\n",
       "         -5.5699e-01, -1.6866e+00,  1.7320e+00, -1.5635e+00, -1.2002e+00,\n",
       "         -1.5112e+00, -5.5699e-01, -1.6866e+00,  1.7320e+00, -1.4043e+00,\n",
       "         -1.0537e+00, -1.3549e+00, -6.2262e-01, -1.5219e+00,  1.5584e+00,\n",
       "         -1.4043e+00, -1.0537e+00, -1.3549e+00, -6.2262e-01, -1.5219e+00,\n",
       "          1.5584e+00],\n",
       "        [-1.4043e+00, -1.0537e+00, -1.3549e+00, -6.2262e-01, -1.5219e+00,\n",
       "          1.5584e+00,  4.7106e-02,  1.8281e+00,  6.3325e-02, -7.1982e-01,\n",
       "          8.2817e-02, -4.5116e-01, -1.5635e+00, -1.2002e+00, -1.5112e+00,\n",
       "         -5.5699e-01, -1.6866e+00,  1.7320e+00, -1.5635e+00, -1.2002e+00,\n",
       "         -1.5112e+00, -5.5699e-01, -1.6866e+00,  1.7320e+00, -1.4043e+00,\n",
       "         -1.0537e+00, -1.3549e+00, -6.2262e-01, -1.5219e+00,  1.5584e+00,\n",
       "         -1.4043e+00, -1.0537e+00, -1.3549e+00, -6.2262e-01, -1.5219e+00,\n",
       "          1.5584e+00],\n",
       "        [ 1.6966e+00, -2.8492e-01,  1.7611e+00, -9.9164e-02,  1.3071e+00,\n",
       "         -6.4546e-01,  4.5871e-01,  3.1795e-02,  6.5579e-01, -8.7278e-02,\n",
       "          5.4336e-01, -4.5294e-01,  1.6247e+00, -4.4691e-01,  1.6818e+00,\n",
       "         -7.1528e-04,  1.2806e+00, -5.8092e-01,  1.6247e+00, -4.4691e-01,\n",
       "          1.6818e+00, -7.1528e-04,  1.2806e+00, -5.8092e-01,  1.6966e+00,\n",
       "         -2.8492e-01,  1.7611e+00, -9.9164e-02,  1.3071e+00, -6.4546e-01,\n",
       "          1.6966e+00, -2.8492e-01,  1.7611e+00, -9.9164e-02,  1.3071e+00,\n",
       "         -6.4546e-01],\n",
       "        [-1.4043e+00, -1.0537e+00, -1.3549e+00, -6.2262e-01, -1.5219e+00,\n",
       "          1.5584e+00, -9.0370e-01, -3.8175e-01, -7.8371e-01,  4.9846e-01,\n",
       "         -7.4132e-01, -4.4849e-01,  6.5763e-01,  1.0014e+00,  4.7790e-01,\n",
       "         -5.7184e-01,  3.8388e-01, -5.7939e-01,  6.5763e-01,  1.0014e+00,\n",
       "          4.7790e-01, -5.7184e-01,  3.8388e-01, -5.7939e-01, -1.4043e+00,\n",
       "         -1.0537e+00, -1.3549e+00, -6.2262e-01, -1.5219e+00,  1.5584e+00,\n",
       "         -1.4043e+00, -1.0537e+00, -1.3549e+00, -6.2262e-01, -1.5219e+00,\n",
       "          1.5584e+00],\n",
       "        [-1.4043e+00, -1.0537e+00, -1.3549e+00, -6.2262e-01, -1.5219e+00,\n",
       "          1.5584e+00, -9.5583e-02, -2.9031e-01, -2.8670e-01,  1.8970e+00,\n",
       "          4.4035e-02, -4.4849e-01,  6.5763e-01,  1.0014e+00,  4.7790e-01,\n",
       "         -5.7184e-01,  3.8388e-01, -5.7939e-01,  6.5763e-01,  1.0014e+00,\n",
       "          4.7790e-01, -5.7184e-01,  3.8388e-01, -5.7939e-01, -1.4043e+00,\n",
       "         -1.0537e+00, -1.3549e+00, -6.2262e-01, -1.5219e+00,  1.5584e+00,\n",
       "         -1.4043e+00, -1.0537e+00, -1.3549e+00, -6.2262e-01, -1.5219e+00,\n",
       "          1.5584e+00],\n",
       "        [ 7.5603e-01,  1.1932e+00,  5.8620e-01, -6.3660e-01,  4.5212e-01,\n",
       "         -6.4400e-01, -9.0370e-01, -3.8175e-01, -7.8371e-01,  4.9846e-01,\n",
       "         -7.4132e-01, -4.4849e-01, -1.5635e+00, -1.2002e+00, -1.5112e+00,\n",
       "         -5.5699e-01, -1.6866e+00,  1.7320e+00, -1.5635e+00, -1.2002e+00,\n",
       "         -1.5112e+00, -5.5699e-01, -1.6866e+00,  1.7320e+00,  7.5603e-01,\n",
       "          1.1932e+00,  5.8620e-01, -6.3660e-01,  4.5212e-01, -6.4400e-01,\n",
       "          7.5603e-01,  1.1932e+00,  5.8620e-01, -6.3660e-01,  4.5212e-01,\n",
       "         -6.4400e-01],\n",
       "        [ 2.2340e-02, -5.5784e-01, -9.5905e-02,  1.7138e+00,  5.2412e-01,\n",
       "         -6.3817e-01, -2.7394e-01, -2.9987e-01, -2.8064e-01,  2.0465e+00,\n",
       "          1.2160e-01, -4.4405e-01, -9.6710e-02, -7.1432e-01, -2.2105e-01,\n",
       "          1.9259e+00,  4.5940e-01, -5.7327e-01, -9.6710e-02, -7.1432e-01,\n",
       "         -2.2105e-01,  1.9259e+00,  4.5940e-01, -5.7327e-01,  2.2340e-02,\n",
       "         -5.5784e-01, -9.5905e-02,  1.7138e+00,  5.2412e-01, -6.3817e-01,\n",
       "          2.2340e-02, -5.5784e-01, -9.5905e-02,  1.7138e+00,  5.2412e-01,\n",
       "         -6.3817e-01],\n",
       "        [ 2.2340e-02, -5.5784e-01, -9.5905e-02,  1.7138e+00,  5.2412e-01,\n",
       "         -6.3817e-01, -2.4788e-01, -3.7219e-01, -6.4430e-01, -6.5802e-01,\n",
       "         -1.0629e+00, -4.2671e-01,  5.5447e-01,  1.1100e+00,  7.3654e-01,\n",
       "         -5.7118e-01,  5.5694e-01, -5.7786e-01,  5.5447e-01,  1.1100e+00,\n",
       "          7.3654e-01, -5.7118e-01,  5.5694e-01, -5.7786e-01,  2.2340e-02,\n",
       "         -5.5784e-01, -9.5905e-02,  1.7138e+00,  5.2412e-01, -6.3817e-01,\n",
       "          2.2340e-02, -5.5784e-01, -9.5905e-02,  1.7138e+00,  5.2412e-01,\n",
       "         -6.3817e-01],\n",
       "        [ 2.2340e-02, -5.5784e-01, -9.5905e-02,  1.7138e+00,  5.2412e-01,\n",
       "         -6.3817e-01, -2.7394e-01, -2.9987e-01, -2.8064e-01,  2.0465e+00,\n",
       "          1.2160e-01, -4.4405e-01,  5.5447e-01,  1.1100e+00,  7.3654e-01,\n",
       "         -5.7118e-01,  5.5694e-01, -5.7786e-01,  5.5447e-01,  1.1100e+00,\n",
       "          7.3654e-01, -5.7118e-01,  5.5694e-01, -5.7786e-01,  2.2340e-02,\n",
       "         -5.5784e-01, -9.5905e-02,  1.7138e+00,  5.2412e-01, -6.3817e-01,\n",
       "          2.2340e-02, -5.5784e-01, -9.5905e-02,  1.7138e+00,  5.2412e-01,\n",
       "         -6.3817e-01],\n",
       "        [ 2.2340e-02, -5.5784e-01, -9.5905e-02,  1.7138e+00,  5.2412e-01,\n",
       "         -6.3817e-01,  3.2014e-03,  1.9628e+00,  1.9061e-01, -7.1908e-01,\n",
       "          1.7169e-01, -4.4938e-01,  5.5447e-01,  1.1100e+00,  7.3654e-01,\n",
       "         -5.7118e-01,  5.5694e-01, -5.7786e-01,  5.5447e-01,  1.1100e+00,\n",
       "          7.3654e-01, -5.7118e-01,  5.5694e-01, -5.7786e-01,  2.2340e-02,\n",
       "         -5.5784e-01, -9.5905e-02,  1.7138e+00,  5.2412e-01, -6.3817e-01,\n",
       "          2.2340e-02, -5.5784e-01, -9.5905e-02,  1.7138e+00,  5.2412e-01,\n",
       "         -6.3817e-01],\n",
       "        [ 6.5569e-01,  1.3040e+00,  8.3861e-01, -6.3598e-01,  6.1712e-01,\n",
       "         -6.4254e-01, -2.7394e-01, -2.9987e-01, -2.8064e-01,  2.0465e+00,\n",
       "          1.2160e-01, -4.4405e-01, -9.6710e-02, -7.1432e-01, -2.2105e-01,\n",
       "          1.9259e+00,  4.5940e-01, -5.7327e-01, -9.6710e-02, -7.1432e-01,\n",
       "         -2.2105e-01,  1.9259e+00,  4.5940e-01, -5.7327e-01,  6.5569e-01,\n",
       "          1.3040e+00,  8.3861e-01, -6.3598e-01,  6.1712e-01, -6.4254e-01,\n",
       "          6.5569e-01,  1.3040e+00,  8.3861e-01, -6.3598e-01,  6.1712e-01,\n",
       "         -6.4254e-01],\n",
       "        [ 2.2340e-02, -5.5784e-01, -9.5905e-02,  1.7138e+00,  5.2412e-01,\n",
       "         -6.3817e-01, -2.1906e-01, -3.9380e-01, -6.3521e-01,  4.1912e-01,\n",
       "         -8.9160e-01, -4.4894e-01,  5.5447e-01,  1.1100e+00,  7.3654e-01,\n",
       "         -5.7118e-01,  5.5694e-01, -5.7786e-01,  5.5447e-01,  1.1100e+00,\n",
       "          7.3654e-01, -5.7118e-01,  5.5694e-01, -5.7786e-01,  2.2340e-02,\n",
       "         -5.5784e-01, -9.5905e-02,  1.7138e+00,  5.2412e-01, -6.3817e-01,\n",
       "          2.2340e-02, -5.5784e-01, -9.5905e-02,  1.7138e+00,  5.2412e-01,\n",
       "         -6.3817e-01],\n",
       "        [ 6.5569e-01,  1.3040e+00,  8.3861e-01, -6.3598e-01,  6.1712e-01,\n",
       "         -6.4254e-01,  3.2014e-03,  1.9628e+00,  1.9061e-01, -7.1908e-01,\n",
       "          1.7169e-01, -4.4938e-01, -9.6710e-02, -7.1432e-01, -2.2105e-01,\n",
       "          1.9259e+00,  4.5940e-01, -5.7327e-01, -9.6710e-02, -7.1432e-01,\n",
       "         -2.2105e-01,  1.9259e+00,  4.5940e-01, -5.7327e-01,  6.5569e-01,\n",
       "          1.3040e+00,  8.3861e-01, -6.3598e-01,  6.1712e-01, -6.4254e-01,\n",
       "          6.5569e-01,  1.3040e+00,  8.3861e-01, -6.3598e-01,  6.1712e-01,\n",
       "         -6.4254e-01],\n",
       "        [ 7.5603e-01,  1.1932e+00,  5.8620e-01, -6.3660e-01,  4.5212e-01,\n",
       "         -6.4400e-01, -8.9821e-01, -9.0253e-01, -9.1553e-01, -7.0336e-01,\n",
       "         -9.8048e-01,  2.2360e+00,  6.5763e-01,  1.0014e+00,  4.7790e-01,\n",
       "         -5.7184e-01,  3.8388e-01, -5.7939e-01,  6.5763e-01,  1.0014e+00,\n",
       "          4.7790e-01, -5.7184e-01,  3.8388e-01, -5.7939e-01,  7.5603e-01,\n",
       "          1.1932e+00,  5.8620e-01, -6.3660e-01,  4.5212e-01, -6.4400e-01,\n",
       "          7.5603e-01,  1.1932e+00,  5.8620e-01, -6.3660e-01,  4.5212e-01,\n",
       "         -6.4400e-01]], dtype=torch.float64)"
      ]
     },
     "execution_count": 52,
     "metadata": {},
     "output_type": "execute_result"
    }
   ],
   "source": [
    "from sklearn.preprocessing import StandardScaler\n",
    "X_explored_BO=StandardScaler().fit_transform(X_explored_BO)\n",
    "X_explored_BO=torch.from_numpy(X_explored_BO)\n",
    "X_explored_BO"
   ]
  },
  {
   "cell_type": "code",
   "execution_count": 53,
   "metadata": {},
   "outputs": [
    {
     "name": "stderr",
     "output_type": "stream",
     "text": [
      "c:\\Users\\ma11115\\OneDrive - Imperial College London\\github_folder\\BO_polymers\\.conda\\lib\\site-packages\\botorch\\models\\utils\\assorted.py:173: InputDataWarning: Input data is not contained to the unit cube. Please consider min-max scaling the input data.\n",
      "  warnings.warn(msg, InputDataWarning)\n"
     ]
    },
    {
     "data": {
      "text/plain": [
       "<matplotlib.collections.PathCollection at 0x1d910c65f30>"
      ]
     },
     "execution_count": 53,
     "metadata": {},
     "output_type": "execute_result"
    },
    {
     "data": {
      "image/png": "[encoded data removed]",
      "text/plain": [
       "<Figure size 640x480 with 1 Axes>"
      ]
     },
     "metadata": {},
     "output_type": "display_data"
    }
   ],
   "source": [
    "from gpytorch.mlls import ExactMarginalLogLikelihood as EMLL\n",
    "\n",
    "Bayesian_Opt=Bayesian_Optimisation()\n",
    "fitness_acquired = S_exp.fitness_acquired\n",
    "ids_acquired = S_exp.ids_acquired\n",
    "search_space_df = S_exp.df_search_space\n",
    "searched_space_df = search_space_df.loc[np.array(ids_acquired)]\n",
    "numeric_cols = searched_space_df.select_dtypes(include=['float64']).columns\n",
    "from gpytorch.mlls import ExactMarginalLogLikelihood as EMLL\n",
    "\n",
    "X_explored_BO = torch.tensor(\n",
    "    searched_space_df[numeric_cols].values, dtype=torch.float64)\n",
    "# limit the dataframe to only the numeric data\n",
    "y_explored_BO = torch.tensor(\n",
    "    fitness_acquired, dtype=torch.float64)\n",
    "# normalise the data\n",
    "if y_explored_BO.std() != 0:\n",
    "    y_explored_BO_norm = (y_explored_BO - torch.mean(y_explored_BO)) / torch.std(y_explored_BO)\n",
    "else:\n",
    "    y_explored_BO_norm = y_explored_BO\n",
    "#y_explored_BO_norm = y_explored_BO_norm.reshape(-1,1) # for the GP\n",
    "model2 = TanimotoGP(X_explored_BO, y_explored_BO_norm)\n",
    "mll = EMLL(model2.likelihood, model2)\n",
    "fit_gpytorch_model(mll)\n",
    "%matplotlib inline\n",
    "from matplotlib import pyplot as plt\n",
    "fig,ax=plt.subplots()\n",
    "ax.scatter(model2.posterior(X_explored_BO).mean.tolist(),y_explored_BO_norm)"
   ]
  },
  {
   "cell_type": "code",
   "execution_count": 51,
   "metadata": {},
   "outputs": [
    {
     "data": {
      "text/plain": [
       "tensor([3.6630e+00, 6.6400e-01, 3.9960e+00, 0.0000e+00, 4.3370e+00, 4.0000e-04,\n",
       "        2.9740e+00, 7.0000e-03, 3.3500e+00, 4.5000e-03, 3.6790e+00, 6.0490e-01,\n",
       "        2.9740e+00, 7.0000e-03, 3.3500e+00, 4.5000e-03, 3.6790e+00, 6.0490e-01,\n",
       "        2.9740e+00, 7.0000e-03, 3.3500e+00, 4.5000e-03, 3.6790e+00, 6.0490e-01,\n",
       "        3.6630e+00, 6.6400e-01, 3.9960e+00, 0.0000e+00, 4.3370e+00, 4.0000e-04,\n",
       "        3.6630e+00, 6.6400e-01, 3.9960e+00, 0.0000e+00, 4.3370e+00, 4.0000e-04],\n",
       "       dtype=torch.float64)"
      ]
     },
     "execution_count": 51,
     "metadata": {},
     "output_type": "execute_result"
    }
   ],
   "source": [
    "X_explored_BO[0]"
   ]
  },
  {
   "cell_type": "code",
   "execution_count": 2,
   "metadata": {},
   "outputs": [
    {
     "ename": "NameError",
     "evalue": "name 'plt' is not defined",
     "output_type": "error",
     "traceback": [
      "\u001b[0;31m---------------------------------------------------------------------------\u001b[0m",
      "\u001b[0;31mNameError\u001b[0m                                 Traceback (most recent call last)",
      "Cell \u001b[0;32mIn[2], line 1\u001b[0m\n\u001b[0;32m----> 1\u001b[0m fig,ax\u001b[39m=\u001b[39mplt\u001b[39m.\u001b[39msubplots()\n\u001b[1;32m      2\u001b[0m siz\u001b[39m=\u001b[39mX_explored_BO[:,\u001b[39m0\u001b[39m:\u001b[39m1\u001b[39m]\u001b[39m.\u001b[39munique()\u001b[39m.\u001b[39mshape[\u001b[39m0\u001b[39m]\n\u001b[1;32m      3\u001b[0m ax\u001b[39m.\u001b[39mscatter(X_explored_BO[:,\u001b[39m0\u001b[39m:\u001b[39m1\u001b[39m]\u001b[39m.\u001b[39munique(),y_explored_BO\u001b[39m.\u001b[39msort()\u001b[39m.\u001b[39mvalues[:siz])\n",
      "\u001b[0;31mNameError\u001b[0m: name 'plt' is not defined"
     ]
    }
   ],
   "source": [
    "fig,ax=plt.subplots()\n",
    "siz=X_explored_BO[:,0:1].unique().shape[0]\n",
    "ax.scatter(X_explored_BO[:,0:1].unique(),y_explored_BO.sort().values[:siz])\n"
   ]
  },
  {
   "cell_type": "code",
   "execution_count": 218,
   "metadata": {},
   "outputs": [
    {
     "name": "stderr",
     "output_type": "stream",
     "text": [
      "c:\\Users\\ma11115\\OneDrive - Imperial College London\\github_folder\\BO_polymers\\.conda\\lib\\site-packages\\botorch\\models\\utils\\assorted.py:173: InputDataWarning: Input data is not contained to the unit cube. Please consider min-max scaling the input data.\n",
      "  warnings.warn(msg, InputDataWarning)\n"
     ]
    },
    {
     "data": {
      "text/plain": [
       "ExactMarginalLogLikelihood(\n",
       "  (likelihood): GaussianLikelihood(\n",
       "    (noise_covar): HomoskedasticNoise(\n",
       "      (raw_noise_constraint): GreaterThan(1.000E-04)\n",
       "    )\n",
       "  )\n",
       "  (model): TanimotoGP(\n",
       "    (likelihood): GaussianLikelihood(\n",
       "      (noise_covar): HomoskedasticNoise(\n",
       "        (raw_noise_constraint): GreaterThan(1.000E-04)\n",
       "      )\n",
       "    )\n",
       "    (mean_module): ConstantMean()\n",
       "    (covar_module): ScaleKernel(\n",
       "      (base_kernel): TanimotoKernel()\n",
       "      (raw_outputscale_constraint): Positive()\n",
       "    )\n",
       "  )\n",
       ")"
      ]
     },
     "execution_count": 218,
     "metadata": {},
     "output_type": "execute_result"
    }
   ],
   "source": [
    "Bayesian_Opt=Bayesian_Optimisation()\n",
    "fitness_acquired = S_exp.fitness_acquired\n",
    "ids_acquired = S_exp.ids_acquired\n",
    "searched_space_df = search_space_df.iloc[np.array(ids_acquired)]\n",
    "numeric_cols = searched_space_df.select_dtypes(include=['float64', 'int64']).columns\n",
    "X_explored_BO = torch.tensor(\n",
    "    searched_space_df[numeric_cols].values, dtype=torch.float64)\n",
    "# limit the dataframe to only the numeric data\n",
    "y_explored_BO = torch.tensor(\n",
    "    fitness_acquired, dtype=torch.float64)\n",
    "# normalise the data\n",
    "if y_explored_BO.std() != 0:\n",
    "    y_explored_BO_norm = (y_explored_BO - y_explored_BO.mean()) / y_explored_BO.std()\n",
    "else:\n",
    "    y_explored_BO_norm = y_explored_BO\n",
    "y_explored_BO_norm = y_explored_BO_norm.reshape(-1,1) # for the GP\n",
    "model = Bayesian_Opt.kernel(X_explored_BO[:,0:3], y_explored_BO_norm)\n",
    "mll = Bayesian_Opt.likelihood(model.likelihood, model)\n",
    "fit_gpytorch_model(mll)"
   ]
  }
 ],
 "metadata": {
  "kernelspec": {
   "display_name": "Python 3",
   "language": "python",
   "name": "python3"
  },
  "language_info": {
   "codemirror_mode": {
    "name": "ipython",
    "version": 3
   },
   "file_extension": ".py",
   "mimetype": "text/x-python",
   "name": "python",
   "nbconvert_exporter": "python",
   "pygments_lexer": "ipython3",
   "version": "3.10.12"
  },
  "orig_nbformat": 4
 },
 "nbformat": 4,
 "nbformat_minor": 2
}
