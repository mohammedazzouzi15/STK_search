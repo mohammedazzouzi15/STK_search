{
 "cells": [
  {
   "cell_type": "code",
   "execution_count": 3,
   "metadata": {},
   "outputs": [],
   "source": [
    "\n",
    "import os\n",
    "os.chdir('c:\\\\Users\\\\ma11115\\\\OneDrive - Imperial College London\\\\github_folder\\\\STK_SEARCH\\\\')\n",
    "#import sys  \n",
    "#sys.path.insert(0, 'c:\\\\Users\\\\ma11115\\\\OneDrive - Imperial College London\\\\github_folder\\\\BO_polymers\\\\Scripts\\\\')"
   ]
  },
  {
   "cell_type": "code",
   "execution_count": 2,
   "metadata": {},
   "outputs": [
    {
     "name": "stderr",
     "output_type": "stream",
     "text": [
      "C:\\Users\\ma11115\\AppData\\Local\\Temp\\ipykernel_66500\\1053803153.py:18: DtypeWarning: Columns (18) have mixed types. Specify dtype option on import or set low_memory=False.\n",
      "  df_total = pd.read_csv('data/output/Full_datatset/df_total_new2023_08_20.csv')\n"
     ]
    }
   ],
   "source": [
    "# Load calculated data\n",
    "import pandas as pd\n",
    "import numpy as np\n",
    "def prepare_df_for_plot(df_total_new:pd.DataFrame=[]):\n",
    "    df_test=df_total_new\n",
    "    for id,x in df_test.iterrows():\n",
    "        #print(x)\n",
    "        if len(eval(x['BB']))<6:\n",
    "            df_test.drop(id,inplace=True)\n",
    "    for i in range(6):\n",
    "        df_test[f'InChIKey_{i}']=df_test[f'BB'].apply(lambda x: eval(x)[i]['InChIKey'])\n",
    "    df_precursors = pd.read_pickle('Data/output/Prescursor_data/calculation_data_precursor_310823_clean.pkl')\n",
    "    features_frag = df_precursors.columns[1:7].append(df_precursors.columns[17:23])\n",
    "    features_frag = features_frag.append(df_precursors.columns[0:1])\n",
    "    for i in range(6):\n",
    "        df_test=df_test.merge(df_precursors[features_frag].add_suffix(f'_{i}'), on=f'InChIKey_{i}', how='left')\n",
    "    return df_test, df_precursors\n",
    "df_total = pd.read_csv('data/output/Full_datatset/df_total_new2023_08_20.csv')\n",
    "df_total.dropna(subset=['fosc1','BB'],inplace=True)\n",
    "df_total=df_total[df_total['fosc1']>0]\n",
    "df_total=df_total[df_total['fosc1']<11]\n",
    "df_total['target'] = -np.abs(df_total['ionisation potential (eV)'].values-5.5)-1*np.abs(df_total['fosc1'].values-10)-0.5*np.abs(df_total['ES1'].values-3)\n",
    "df_total, df_precursors=prepare_df_for_plot(df_total)"
   ]
  },
  {
   "cell_type": "code",
   "execution_count": 17,
   "metadata": {},
   "outputs": [
    {
     "name": "stdout",
     "output_type": "stream",
     "text": [
      "shape of the dataframe (274625, 78)\n",
      "shape of the dataframe (274625, 78)\n"
     ]
    },
    {
     "name": "stderr",
     "output_type": "stream",
     "text": [
      "C:\\Users\\ma11115\\OneDrive - Imperial College London\\github_folder\\STK_search\\src\\stk_search\\Search_algorithm.py:264: UserWarning: To copy construct from a tensor, it is recommended to use sourceTensor.clone().detach() or sourceTensor.clone().detach().requires_grad_(True), rather than torch.tensor(sourceTensor).\n",
      "  torch.tensor(y_train, dtype=torch.float64, device=self.device),\n",
      "C:\\Users\\ma11115\\OneDrive - Imperial College London\\github_folder\\STK_search\\src\\stk_search\\Search_algorithm.py:264: UserWarning: To copy construct from a tensor, it is recommended to use sourceTensor.clone().detach() or sourceTensor.clone().detach().requires_grad_(True), rather than torch.tensor(sourceTensor).\n",
      "  torch.tensor(y_train, dtype=torch.float64, device=self.device),\n"
     ]
    },
    {
     "name": "stdout",
     "output_type": "stream",
     "text": [
      "element id suggested: 202126\n",
      "iteration 0 completed\n",
      "fitness acquired: [0   -10.4561\n",
      "Name: target, dtype: float64, 0   -11.1307\n",
      "Name: target, dtype: float64, 0   -8.8265\n",
      "Name: target, dtype: float64]\n",
      "InchiKey acquired: [0    CUMZCLOKVRTQEE-UHFFFAOYSA-N\n",
      "Name: InChIKey, dtype: object, 0    WTVKRTGRCJBEPC-UHFFFAOYSA-N\n",
      "Name: InChIKey, dtype: object, 0    YEKLQBLBTMECBJ-SBQNHEFTSA-N\n",
      "Name: InChIKey, dtype: object]\n",
      "ids acquired: [106283, 25876, 202126]\n",
      "element id suggested: 184513\n",
      "iteration 1 completed\n",
      "fitness acquired: [0   -10.4561\n",
      "Name: target, dtype: float64, 0   -11.1307\n",
      "Name: target, dtype: float64, 0   -8.8265\n",
      "Name: target, dtype: float64, 0   -4.2404\n",
      "Name: target, dtype: float64]\n",
      "InchiKey acquired: [0    CUMZCLOKVRTQEE-UHFFFAOYSA-N\n",
      "Name: InChIKey, dtype: object, 0    WTVKRTGRCJBEPC-UHFFFAOYSA-N\n",
      "Name: InChIKey, dtype: object, 0    YEKLQBLBTMECBJ-SBQNHEFTSA-N\n",
      "Name: InChIKey, dtype: object, 0    BOKWVLIBYJWCOR-UJIRSWQMSA-N\n",
      "Name: InChIKey, dtype: object]\n",
      "ids acquired: [106283, 25876, 202126, 184513]\n"
     ]
    },
    {
     "name": "stderr",
     "output_type": "stream",
     "text": [
      "C:\\Users\\ma11115\\OneDrive - Imperial College London\\github_folder\\STK_search\\src\\stk_search\\Search_algorithm.py:264: UserWarning: To copy construct from a tensor, it is recommended to use sourceTensor.clone().detach() or sourceTensor.clone().detach().requires_grad_(True), rather than torch.tensor(sourceTensor).\n",
      "  torch.tensor(y_train, dtype=torch.float64, device=self.device),\n"
     ]
    },
    {
     "name": "stdout",
     "output_type": "stream",
     "text": [
      "element id suggested: 181718\n",
      "iteration 2 completed\n",
      "fitness acquired: [0   -10.4561\n",
      "Name: target, dtype: float64, 0   -11.1307\n",
      "Name: target, dtype: float64, 0   -8.8265\n",
      "Name: target, dtype: float64, 0   -4.2404\n",
      "Name: target, dtype: float64, 0   -9.8226\n",
      "Name: target, dtype: float64]\n",
      "InchiKey acquired: [0    CUMZCLOKVRTQEE-UHFFFAOYSA-N\n",
      "Name: InChIKey, dtype: object, 0    WTVKRTGRCJBEPC-UHFFFAOYSA-N\n",
      "Name: InChIKey, dtype: object, 0    YEKLQBLBTMECBJ-SBQNHEFTSA-N\n",
      "Name: InChIKey, dtype: object, 0    BOKWVLIBYJWCOR-UJIRSWQMSA-N\n",
      "Name: InChIKey, dtype: object, 0    LJCKDEHPJDXDHA-QQYWVHQQSA-N\n",
      "Name: InChIKey, dtype: object]\n",
      "ids acquired: [106283, 25876, 202126, 184513, 181718]\n"
     ]
    },
    {
     "name": "stderr",
     "output_type": "stream",
     "text": [
      "C:\\Users\\ma11115\\OneDrive - Imperial College London\\github_folder\\STK_search\\src\\stk_search\\Search_algorithm.py:264: UserWarning: To copy construct from a tensor, it is recommended to use sourceTensor.clone().detach() or sourceTensor.clone().detach().requires_grad_(True), rather than torch.tensor(sourceTensor).\n",
      "  torch.tensor(y_train, dtype=torch.float64, device=self.device),\n"
     ]
    },
    {
     "name": "stdout",
     "output_type": "stream",
     "text": [
      "element id suggested: 192577\n",
      "iteration 3 completed\n",
      "fitness acquired: [0   -10.4561\n",
      "Name: target, dtype: float64, 0   -11.1307\n",
      "Name: target, dtype: float64, 0   -8.8265\n",
      "Name: target, dtype: float64, 0   -4.2404\n",
      "Name: target, dtype: float64, 0   -9.8226\n",
      "Name: target, dtype: float64, 0   -10.3518\n",
      "Name: target, dtype: float64]\n",
      "InchiKey acquired: [0    CUMZCLOKVRTQEE-UHFFFAOYSA-N\n",
      "Name: InChIKey, dtype: object, 0    WTVKRTGRCJBEPC-UHFFFAOYSA-N\n",
      "Name: InChIKey, dtype: object, 0    YEKLQBLBTMECBJ-SBQNHEFTSA-N\n",
      "Name: InChIKey, dtype: object, 0    BOKWVLIBYJWCOR-UJIRSWQMSA-N\n",
      "Name: InChIKey, dtype: object, 0    LJCKDEHPJDXDHA-QQYWVHQQSA-N\n",
      "Name: InChIKey, dtype: object, 0    RHDOKULKGJXXPJ-AZIADXHTSA-N\n",
      "Name: InChIKey, dtype: object]\n",
      "ids acquired: [106283, 25876, 202126, 184513, 181718, 192577]\n"
     ]
    },
    {
     "name": "stderr",
     "output_type": "stream",
     "text": [
      "C:\\Users\\ma11115\\OneDrive - Imperial College London\\github_folder\\STK_search\\src\\stk_search\\Search_algorithm.py:264: UserWarning: To copy construct from a tensor, it is recommended to use sourceTensor.clone().detach() or sourceTensor.clone().detach().requires_grad_(True), rather than torch.tensor(sourceTensor).\n",
      "  torch.tensor(y_train, dtype=torch.float64, device=self.device),\n"
     ]
    },
    {
     "name": "stdout",
     "output_type": "stream",
     "text": [
      "element id suggested: 150930\n",
      "iteration 4 completed\n",
      "fitness acquired: [0   -10.4561\n",
      "Name: target, dtype: float64, 0   -11.1307\n",
      "Name: target, dtype: float64, 0   -8.8265\n",
      "Name: target, dtype: float64, 0   -4.2404\n",
      "Name: target, dtype: float64, 0   -9.8226\n",
      "Name: target, dtype: float64, 0   -10.3518\n",
      "Name: target, dtype: float64, 0   -5.928\n",
      "Name: target, dtype: float64]\n",
      "InchiKey acquired: [0    CUMZCLOKVRTQEE-UHFFFAOYSA-N\n",
      "Name: InChIKey, dtype: object, 0    WTVKRTGRCJBEPC-UHFFFAOYSA-N\n",
      "Name: InChIKey, dtype: object, 0    YEKLQBLBTMECBJ-SBQNHEFTSA-N\n",
      "Name: InChIKey, dtype: object, 0    BOKWVLIBYJWCOR-UJIRSWQMSA-N\n",
      "Name: InChIKey, dtype: object, 0    LJCKDEHPJDXDHA-QQYWVHQQSA-N\n",
      "Name: InChIKey, dtype: object, 0    RHDOKULKGJXXPJ-AZIADXHTSA-N\n",
      "Name: InChIKey, dtype: object, 0    QRJYWRAGWQYVIA-BZWBBICYSA-N\n",
      "Name: InChIKey, dtype: object]\n",
      "ids acquired: [106283, 25876, 202126, 184513, 181718, 192577, 150930]\n"
     ]
    }
   ],
   "source": [
    "# Run search\n",
    "\n",
    "import stk_search.Search_Exp\n",
    "import numpy as np\n",
    "from stk_search.Search_algorithm import Search_Algorithm\n",
    "from stk_search.Search_algorithm import Bayesian_Optimisation\n",
    "import stk_search.Search_algorithm\n",
    "import stk_search.Objective_function\n",
    "import importlib\n",
    "importlib.reload(stk_search.Search_Exp)\n",
    "importlib.reload(stk_search.Search_algorithm)\n",
    "importlib.reload(stk_search.Objective_function)\n",
    "def run_search():\n",
    "    search_space_loc = \"data/input/EXP_search_sapce/TEST/search_space_1.pkl\"\n",
    "    objective_function = stk_search.Objective_function.Look_up_table(df_look_up=df_total,fragment_size=6)\n",
    "    search_algorithm = stk_search.Search_algorithm.Bayesian_Optimisation()\n",
    "    search_algorithm.which_acquisition='LOG_EI'\n",
    "    number_of_iterations = 5\n",
    "\n",
    "    S_exp =stk_search.Search_Exp.Search_exp(search_space_loc, search_algorithm, objective_function, number_of_iterations,verbose= True)\n",
    "    S_exp.benchmark = True\n",
    "    S_exp.df_total = df_total\n",
    "    S_exp.num_elem_initialisation= 2\n",
    "    S_exp.initialise_search_space()\n",
    "    return S_exp\n",
    "    #\n",
    "S_exp = run_search()\n",
    "S_exp.run_seach()\n"
   ]
  },
  {
   "cell_type": "code",
   "execution_count": 13,
   "metadata": {},
   "outputs": [
    {
     "name": "stdout",
     "output_type": "stream",
     "text": [
      "shape of the dataframe (64, 6)\n"
     ]
    }
   ],
   "source": [
    "import pickle\n",
    "search_space = pickle.load(open(\"data/input/search_space/test/search_space1.pkl\", \"rb\"))\n",
    "df_search_space = search_space.redefine_search_space()"
   ]
  },
  {
   "cell_type": "code",
   "execution_count": 14,
   "metadata": {},
   "outputs": [
    {
     "data": {
      "text/html": [
       "<div>\n",
       "<style scoped>\n",
       "    .dataframe tbody tr th:only-of-type {\n",
       "        vertical-align: middle;\n",
       "    }\n",
       "\n",
       "    .dataframe tbody tr th {\n",
       "        vertical-align: top;\n",
       "    }\n",
       "\n",
       "    .dataframe thead th {\n",
       "        text-align: right;\n",
       "    }\n",
       "</style>\n",
       "<table border=\"1\" class=\"dataframe\">\n",
       "  <thead>\n",
       "    <tr style=\"text-align: right;\">\n",
       "      <th></th>\n",
       "      <th>InChIKey_0</th>\n",
       "      <th>InChIKey_1</th>\n",
       "      <th>InChIKey_2</th>\n",
       "      <th>InChIKey_3</th>\n",
       "      <th>InChIKey_4</th>\n",
       "      <th>InChIKey_5</th>\n",
       "    </tr>\n",
       "  </thead>\n",
       "  <tbody>\n",
       "    <tr>\n",
       "      <th>0</th>\n",
       "      <td>KYORXLIHDAZXPK-UHFFFAOYSA-N</td>\n",
       "      <td>UVCFYBOLMFIWGF-FPYGCLRLSA-N</td>\n",
       "      <td>HFUBKQHDPJZQIW-UHFFFAOYSA-N</td>\n",
       "      <td>WNSNPGHNIJOOPM-UHFFFAOYSA-N</td>\n",
       "      <td>GESPTHHXNPDXDT-OQFOIZHKSA-N</td>\n",
       "      <td>KIYKHEOWZLJZSB-UHFFFAOYSA-N</td>\n",
       "    </tr>\n",
       "    <tr>\n",
       "      <th>1</th>\n",
       "      <td>KYORXLIHDAZXPK-UHFFFAOYSA-N</td>\n",
       "      <td>UVCFYBOLMFIWGF-FPYGCLRLSA-N</td>\n",
       "      <td>HFUBKQHDPJZQIW-UHFFFAOYSA-N</td>\n",
       "      <td>WNSNPGHNIJOOPM-UHFFFAOYSA-N</td>\n",
       "      <td>GESPTHHXNPDXDT-OQFOIZHKSA-N</td>\n",
       "      <td>CGQMQIAGYJZKNI-UHFFFAOYSA-N</td>\n",
       "    </tr>\n",
       "    <tr>\n",
       "      <th>2</th>\n",
       "      <td>KYORXLIHDAZXPK-UHFFFAOYSA-N</td>\n",
       "      <td>UVCFYBOLMFIWGF-FPYGCLRLSA-N</td>\n",
       "      <td>HFUBKQHDPJZQIW-UHFFFAOYSA-N</td>\n",
       "      <td>WNSNPGHNIJOOPM-UHFFFAOYSA-N</td>\n",
       "      <td>YYTSOZXMJUHWJS-UHFFFAOYSA-N</td>\n",
       "      <td>KIYKHEOWZLJZSB-UHFFFAOYSA-N</td>\n",
       "    </tr>\n",
       "    <tr>\n",
       "      <th>3</th>\n",
       "      <td>KYORXLIHDAZXPK-UHFFFAOYSA-N</td>\n",
       "      <td>UVCFYBOLMFIWGF-FPYGCLRLSA-N</td>\n",
       "      <td>HFUBKQHDPJZQIW-UHFFFAOYSA-N</td>\n",
       "      <td>WNSNPGHNIJOOPM-UHFFFAOYSA-N</td>\n",
       "      <td>YYTSOZXMJUHWJS-UHFFFAOYSA-N</td>\n",
       "      <td>CGQMQIAGYJZKNI-UHFFFAOYSA-N</td>\n",
       "    </tr>\n",
       "    <tr>\n",
       "      <th>4</th>\n",
       "      <td>KYORXLIHDAZXPK-UHFFFAOYSA-N</td>\n",
       "      <td>UVCFYBOLMFIWGF-FPYGCLRLSA-N</td>\n",
       "      <td>HFUBKQHDPJZQIW-UHFFFAOYSA-N</td>\n",
       "      <td>LPRVANXWMPVCRC-BAQGIRSFSA-N</td>\n",
       "      <td>GESPTHHXNPDXDT-OQFOIZHKSA-N</td>\n",
       "      <td>KIYKHEOWZLJZSB-UHFFFAOYSA-N</td>\n",
       "    </tr>\n",
       "    <tr>\n",
       "      <th>...</th>\n",
       "      <td>...</td>\n",
       "      <td>...</td>\n",
       "      <td>...</td>\n",
       "      <td>...</td>\n",
       "      <td>...</td>\n",
       "      <td>...</td>\n",
       "    </tr>\n",
       "    <tr>\n",
       "      <th>59</th>\n",
       "      <td>AMGZARGPNNDZNG-UHFFFAOYSA-N</td>\n",
       "      <td>PQZAHLJJGPAGBD-OQFOIZHKSA-N</td>\n",
       "      <td>XORWEKRDQCXPID-UHFFFAOYSA-N</td>\n",
       "      <td>WNSNPGHNIJOOPM-UHFFFAOYSA-N</td>\n",
       "      <td>YYTSOZXMJUHWJS-UHFFFAOYSA-N</td>\n",
       "      <td>CGQMQIAGYJZKNI-UHFFFAOYSA-N</td>\n",
       "    </tr>\n",
       "    <tr>\n",
       "      <th>60</th>\n",
       "      <td>AMGZARGPNNDZNG-UHFFFAOYSA-N</td>\n",
       "      <td>PQZAHLJJGPAGBD-OQFOIZHKSA-N</td>\n",
       "      <td>XORWEKRDQCXPID-UHFFFAOYSA-N</td>\n",
       "      <td>LPRVANXWMPVCRC-BAQGIRSFSA-N</td>\n",
       "      <td>GESPTHHXNPDXDT-OQFOIZHKSA-N</td>\n",
       "      <td>KIYKHEOWZLJZSB-UHFFFAOYSA-N</td>\n",
       "    </tr>\n",
       "    <tr>\n",
       "      <th>61</th>\n",
       "      <td>AMGZARGPNNDZNG-UHFFFAOYSA-N</td>\n",
       "      <td>PQZAHLJJGPAGBD-OQFOIZHKSA-N</td>\n",
       "      <td>XORWEKRDQCXPID-UHFFFAOYSA-N</td>\n",
       "      <td>LPRVANXWMPVCRC-BAQGIRSFSA-N</td>\n",
       "      <td>GESPTHHXNPDXDT-OQFOIZHKSA-N</td>\n",
       "      <td>CGQMQIAGYJZKNI-UHFFFAOYSA-N</td>\n",
       "    </tr>\n",
       "    <tr>\n",
       "      <th>62</th>\n",
       "      <td>AMGZARGPNNDZNG-UHFFFAOYSA-N</td>\n",
       "      <td>PQZAHLJJGPAGBD-OQFOIZHKSA-N</td>\n",
       "      <td>XORWEKRDQCXPID-UHFFFAOYSA-N</td>\n",
       "      <td>LPRVANXWMPVCRC-BAQGIRSFSA-N</td>\n",
       "      <td>YYTSOZXMJUHWJS-UHFFFAOYSA-N</td>\n",
       "      <td>KIYKHEOWZLJZSB-UHFFFAOYSA-N</td>\n",
       "    </tr>\n",
       "    <tr>\n",
       "      <th>63</th>\n",
       "      <td>AMGZARGPNNDZNG-UHFFFAOYSA-N</td>\n",
       "      <td>PQZAHLJJGPAGBD-OQFOIZHKSA-N</td>\n",
       "      <td>XORWEKRDQCXPID-UHFFFAOYSA-N</td>\n",
       "      <td>LPRVANXWMPVCRC-BAQGIRSFSA-N</td>\n",
       "      <td>YYTSOZXMJUHWJS-UHFFFAOYSA-N</td>\n",
       "      <td>CGQMQIAGYJZKNI-UHFFFAOYSA-N</td>\n",
       "    </tr>\n",
       "  </tbody>\n",
       "</table>\n",
       "<p>64 rows × 6 columns</p>\n",
       "</div>"
      ],
      "text/plain": [
       "                     InChIKey_0                   InChIKey_1  \\\n",
       "0   KYORXLIHDAZXPK-UHFFFAOYSA-N  UVCFYBOLMFIWGF-FPYGCLRLSA-N   \n",
       "1   KYORXLIHDAZXPK-UHFFFAOYSA-N  UVCFYBOLMFIWGF-FPYGCLRLSA-N   \n",
       "2   KYORXLIHDAZXPK-UHFFFAOYSA-N  UVCFYBOLMFIWGF-FPYGCLRLSA-N   \n",
       "3   KYORXLIHDAZXPK-UHFFFAOYSA-N  UVCFYBOLMFIWGF-FPYGCLRLSA-N   \n",
       "4   KYORXLIHDAZXPK-UHFFFAOYSA-N  UVCFYBOLMFIWGF-FPYGCLRLSA-N   \n",
       "..                          ...                          ...   \n",
       "59  AMGZARGPNNDZNG-UHFFFAOYSA-N  PQZAHLJJGPAGBD-OQFOIZHKSA-N   \n",
       "60  AMGZARGPNNDZNG-UHFFFAOYSA-N  PQZAHLJJGPAGBD-OQFOIZHKSA-N   \n",
       "61  AMGZARGPNNDZNG-UHFFFAOYSA-N  PQZAHLJJGPAGBD-OQFOIZHKSA-N   \n",
       "62  AMGZARGPNNDZNG-UHFFFAOYSA-N  PQZAHLJJGPAGBD-OQFOIZHKSA-N   \n",
       "63  AMGZARGPNNDZNG-UHFFFAOYSA-N  PQZAHLJJGPAGBD-OQFOIZHKSA-N   \n",
       "\n",
       "                     InChIKey_2                   InChIKey_3  \\\n",
       "0   HFUBKQHDPJZQIW-UHFFFAOYSA-N  WNSNPGHNIJOOPM-UHFFFAOYSA-N   \n",
       "1   HFUBKQHDPJZQIW-UHFFFAOYSA-N  WNSNPGHNIJOOPM-UHFFFAOYSA-N   \n",
       "2   HFUBKQHDPJZQIW-UHFFFAOYSA-N  WNSNPGHNIJOOPM-UHFFFAOYSA-N   \n",
       "3   HFUBKQHDPJZQIW-UHFFFAOYSA-N  WNSNPGHNIJOOPM-UHFFFAOYSA-N   \n",
       "4   HFUBKQHDPJZQIW-UHFFFAOYSA-N  LPRVANXWMPVCRC-BAQGIRSFSA-N   \n",
       "..                          ...                          ...   \n",
       "59  XORWEKRDQCXPID-UHFFFAOYSA-N  WNSNPGHNIJOOPM-UHFFFAOYSA-N   \n",
       "60  XORWEKRDQCXPID-UHFFFAOYSA-N  LPRVANXWMPVCRC-BAQGIRSFSA-N   \n",
       "61  XORWEKRDQCXPID-UHFFFAOYSA-N  LPRVANXWMPVCRC-BAQGIRSFSA-N   \n",
       "62  XORWEKRDQCXPID-UHFFFAOYSA-N  LPRVANXWMPVCRC-BAQGIRSFSA-N   \n",
       "63  XORWEKRDQCXPID-UHFFFAOYSA-N  LPRVANXWMPVCRC-BAQGIRSFSA-N   \n",
       "\n",
       "                     InChIKey_4                   InChIKey_5  \n",
       "0   GESPTHHXNPDXDT-OQFOIZHKSA-N  KIYKHEOWZLJZSB-UHFFFAOYSA-N  \n",
       "1   GESPTHHXNPDXDT-OQFOIZHKSA-N  CGQMQIAGYJZKNI-UHFFFAOYSA-N  \n",
       "2   YYTSOZXMJUHWJS-UHFFFAOYSA-N  KIYKHEOWZLJZSB-UHFFFAOYSA-N  \n",
       "3   YYTSOZXMJUHWJS-UHFFFAOYSA-N  CGQMQIAGYJZKNI-UHFFFAOYSA-N  \n",
       "4   GESPTHHXNPDXDT-OQFOIZHKSA-N  KIYKHEOWZLJZSB-UHFFFAOYSA-N  \n",
       "..                          ...                          ...  \n",
       "59  YYTSOZXMJUHWJS-UHFFFAOYSA-N  CGQMQIAGYJZKNI-UHFFFAOYSA-N  \n",
       "60  GESPTHHXNPDXDT-OQFOIZHKSA-N  KIYKHEOWZLJZSB-UHFFFAOYSA-N  \n",
       "61  GESPTHHXNPDXDT-OQFOIZHKSA-N  CGQMQIAGYJZKNI-UHFFFAOYSA-N  \n",
       "62  YYTSOZXMJUHWJS-UHFFFAOYSA-N  KIYKHEOWZLJZSB-UHFFFAOYSA-N  \n",
       "63  YYTSOZXMJUHWJS-UHFFFAOYSA-N  CGQMQIAGYJZKNI-UHFFFAOYSA-N  \n",
       "\n",
       "[64 rows x 6 columns]"
      ]
     },
     "execution_count": 14,
     "metadata": {},
     "output_type": "execute_result"
    }
   ],
   "source": [
    "df_search_space"
   ]
  },
  {
   "cell_type": "code",
   "execution_count": 12,
   "metadata": {},
   "outputs": [
    {
     "name": "stderr",
     "output_type": "stream",
     "text": [
      "C:\\Users\\ma11115\\AppData\\Local\\Temp\\ipykernel_8244\\2651251812.py:18: DtypeWarning: Columns (18) have mixed types. Specify dtype option on import or set low_memory=False.\n",
      "  df_total = pd.read_csv('data/output/Full_datatset/df_total_new2023_08_20.csv')\n"
     ]
    }
   ],
   "source": []
  },
  {
   "cell_type": "code",
   "execution_count": null,
   "metadata": {},
   "outputs": [],
   "source": []
  }
 ],
 "metadata": {
  "kernelspec": {
   "display_name": "Python 3",
   "language": "python",
   "name": "python3"
  },
  "language_info": {
   "codemirror_mode": {
    "name": "ipython",
    "version": 3
   },
   "file_extension": ".py",
   "mimetype": "text/x-python",
   "name": "python",
   "nbconvert_exporter": "python",
   "pygments_lexer": "ipython3",
   "version": "3.10.12"
  },
  "orig_nbformat": 4
 },
 "nbformat": 4,
 "nbformat_minor": 2
}
