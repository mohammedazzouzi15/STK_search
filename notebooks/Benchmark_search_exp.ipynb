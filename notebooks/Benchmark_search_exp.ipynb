{
 "cells": [
  {
   "cell_type": "code",
   "execution_count": 1,
   "metadata": {},
   "outputs": [],
   "source": [
    "\n",
    "import os\n",
    "os.chdir('c:\\\\Users\\\\ma11115\\\\OneDrive - Imperial College London\\\\github_folder\\\\STK_SEARCH\\\\')\n",
    "#import sys  \n",
    "#sys.path.insert(0, 'c:\\\\Users\\\\ma11115\\\\OneDrive - Imperial College London\\\\github_folder\\\\BO_polymers\\\\Scripts\\\\')"
   ]
  },
  {
   "cell_type": "code",
   "execution_count": 16,
   "metadata": {},
   "outputs": [
    {
     "name": "stderr",
     "output_type": "stream",
     "text": [
      "C:\\Users\\ma11115\\AppData\\Local\\Temp\\ipykernel_8244\\2651251812.py:18: DtypeWarning: Columns (18) have mixed types. Specify dtype option on import or set low_memory=False.\n",
      "  df_total = pd.read_csv('data/output/Full_datatset/df_total_new2023_08_20.csv')\n"
     ]
    }
   ],
   "source": [
    "# Load calculated data\n",
    "import pandas as pd\n",
    "import numpy as np\n",
    "def prepare_df_for_plot(df_total_new:pd.DataFrame=[]):\n",
    "    df_test=df_total_new\n",
    "    for id,x in df_test.iterrows():\n",
    "        #print(x)\n",
    "        if len(eval(x['BB']))<6:\n",
    "            df_test.drop(id,inplace=True)\n",
    "    for i in range(6):\n",
    "        df_test[f'InChIKey_{i}']=df_test[f'BB'].apply(lambda x: eval(x)[i]['InChIKey'])\n",
    "    df_precursors = pd.read_pickle('Data/output/Prescursor_data/calculation_data_precursor_310823_clean.pkl')\n",
    "    features_frag = df_precursors.columns[1:7].append(df_precursors.columns[17:23])\n",
    "    features_frag = features_frag.append(df_precursors.columns[0:1])\n",
    "    for i in range(6):\n",
    "        df_test=df_test.merge(df_precursors[features_frag].add_suffix(f'_{i}'), on=f'InChIKey_{i}', how='left')\n",
    "    return df_test, df_precursors\n",
    "df_total = pd.read_csv('data/output/Full_datatset/df_total_new2023_08_20.csv')\n",
    "df_total.dropna(subset=['fosc1','BB'],inplace=True)\n",
    "df_total=df_total[df_total['fosc1']>0]\n",
    "df_total=df_total[df_total['fosc1']<11]\n",
    "df_total['target'] = -np.abs(df_total['ionisation potential (eV)'].values-5.5)-1*np.abs(df_total['fosc1'].values-10)-0.5*np.abs(df_total['ES1'].values-3)\n",
    "df_total, df_precursors=prepare_df_for_plot(df_total)"
   ]
  },
  {
   "cell_type": "code",
   "execution_count": 15,
   "metadata": {},
   "outputs": [
    {
     "ename": "ModuleNotFoundError",
     "evalue": "No module named 'Scripts.Searched_space'",
     "output_type": "error",
     "traceback": [
      "\u001b[1;31m---------------------------------------------------------------------------\u001b[0m",
      "\u001b[1;31mModuleNotFoundError\u001b[0m                       Traceback (most recent call last)",
      "\u001b[1;32mc:\\Users\\ma11115\\OneDrive - Imperial College London\\github_folder\\STK_search\\notebooks\\Benchmark_search_exp.ipynb Cell 2\u001b[0m line \u001b[0;36m2\n\u001b[0;32m     <a href='vscode-notebook-cell:/c%3A/Users/ma11115/OneDrive%20-%20Imperial%20College%20London/github_folder/STK_search/notebooks/Benchmark_search_exp.ipynb#W1sZmlsZQ%3D%3D?line=26'>27</a>\u001b[0m     \u001b[39mreturn\u001b[39;00m S_exp\n\u001b[0;32m     <a href='vscode-notebook-cell:/c%3A/Users/ma11115/OneDrive%20-%20Imperial%20College%20London/github_folder/STK_search/notebooks/Benchmark_search_exp.ipynb#W1sZmlsZQ%3D%3D?line=27'>28</a>\u001b[0m     \u001b[39m#\u001b[39;00m\n\u001b[1;32m---> <a href='vscode-notebook-cell:/c%3A/Users/ma11115/OneDrive%20-%20Imperial%20College%20London/github_folder/STK_search/notebooks/Benchmark_search_exp.ipynb#W1sZmlsZQ%3D%3D?line=28'>29</a>\u001b[0m S_exp \u001b[39m=\u001b[39m run_search()\n\u001b[0;32m     <a href='vscode-notebook-cell:/c%3A/Users/ma11115/OneDrive%20-%20Imperial%20College%20London/github_folder/STK_search/notebooks/Benchmark_search_exp.ipynb#W1sZmlsZQ%3D%3D?line=29'>30</a>\u001b[0m S_exp\u001b[39m.\u001b[39mrun_seach()\n",
      "\u001b[1;32mc:\\Users\\ma11115\\OneDrive - Imperial College London\\github_folder\\STK_search\\notebooks\\Benchmark_search_exp.ipynb Cell 2\u001b[0m line \u001b[0;36m2\n\u001b[0;32m     <a href='vscode-notebook-cell:/c%3A/Users/ma11115/OneDrive%20-%20Imperial%20College%20London/github_folder/STK_search/notebooks/Benchmark_search_exp.ipynb#W1sZmlsZQ%3D%3D?line=23'>24</a>\u001b[0m S_exp\u001b[39m.\u001b[39mdf_total \u001b[39m=\u001b[39m df_total\n\u001b[0;32m     <a href='vscode-notebook-cell:/c%3A/Users/ma11115/OneDrive%20-%20Imperial%20College%20London/github_folder/STK_search/notebooks/Benchmark_search_exp.ipynb#W1sZmlsZQ%3D%3D?line=24'>25</a>\u001b[0m S_exp\u001b[39m.\u001b[39mnum_elem_initialisation\u001b[39m=\u001b[39m \u001b[39m2\u001b[39m\n\u001b[1;32m---> <a href='vscode-notebook-cell:/c%3A/Users/ma11115/OneDrive%20-%20Imperial%20College%20London/github_folder/STK_search/notebooks/Benchmark_search_exp.ipynb#W1sZmlsZQ%3D%3D?line=25'>26</a>\u001b[0m S_exp\u001b[39m.\u001b[39;49minitialise_search_space()\n\u001b[0;32m     <a href='vscode-notebook-cell:/c%3A/Users/ma11115/OneDrive%20-%20Imperial%20College%20London/github_folder/STK_search/notebooks/Benchmark_search_exp.ipynb#W1sZmlsZQ%3D%3D?line=26'>27</a>\u001b[0m \u001b[39mreturn\u001b[39;00m S_exp\n",
      "File \u001b[1;32m~\\OneDrive - Imperial College London\\github_folder\\STK_search\\src\\stk_search\\Search_Exp.py:40\u001b[0m, in \u001b[0;36mSearch_exp.initialise_search_space\u001b[1;34m(self)\u001b[0m\n\u001b[0;32m     38\u001b[0m \u001b[39mdef\u001b[39;00m \u001b[39minitialise_search_space\u001b[39m(\u001b[39mself\u001b[39m):\n\u001b[0;32m     39\u001b[0m     \u001b[39m# load the search space\u001b[39;00m\n\u001b[1;32m---> 40\u001b[0m     \u001b[39mself\u001b[39m\u001b[39m.\u001b[39msearch_space \u001b[39m=\u001b[39m pickle\u001b[39m.\u001b[39;49mload(\u001b[39mopen\u001b[39;49m(\u001b[39mself\u001b[39;49m\u001b[39m.\u001b[39;49msearch_space_loc, \u001b[39m\"\u001b[39;49m\u001b[39mrb\u001b[39;49m\u001b[39m\"\u001b[39;49m))\n\u001b[0;32m     41\u001b[0m     \u001b[39mself\u001b[39m\u001b[39m.\u001b[39mdf_search_space \u001b[39m=\u001b[39m \u001b[39mself\u001b[39m\u001b[39m.\u001b[39msearch_space\u001b[39m.\u001b[39mredefine_search_space()\n\u001b[0;32m     42\u001b[0m     \u001b[39mif\u001b[39;00m \u001b[39mself\u001b[39m\u001b[39m.\u001b[39mbenchmark:\n",
      "\u001b[1;31mModuleNotFoundError\u001b[0m: No module named 'Scripts.Searched_space'"
     ]
    }
   ],
   "source": [
    "# Run search\n",
    "\n",
    "import stk_search.Search_Exp\n",
    "import numpy as np\n",
    "from stk_search.Search_algorithm import Search_Algorithm\n",
    "from stk_search.Search_algorithm import Bayesian_Optimisation\n",
    "import stk_search.Search_algorithm\n",
    "import stk_search.Objective_function\n",
    "import importlib\n",
    "importlib.reload(stk_search.Search_Exp)\n",
    "importlib.reload(stk_search.Search_algorithm)\n",
    "importlib.reload(stk_search.Objective_function)\n",
    "def run_search():\n",
    "    search_space_loc = \"data/input/EXP_search_space/exp1_2023_09_08_13_19_55/search_space_1.pkl\"\n",
    "    objective_function = stk_search.Objective_function.IP_ES1_fosc(oligomer_size=6)\n",
    "    search_algorithm = stk_search.Search_algorithm.Bayesian_Optimisation()\n",
    "    search_algorithm.which_acquisition='LOG_EI'\n",
    "    number_of_iterations = 5\n",
    "\n",
    "    S_exp =stk_search.Search_Exp.Search_exp(search_space_loc, search_algorithm, objective_function, number_of_iterations,verbose= True)\n",
    "    S_exp.benchmark = True\n",
    "    S_exp.df_total = df_total\n",
    "    S_exp.num_elem_initialisation= 2\n",
    "    S_exp.initialise_search_space()\n",
    "    return S_exp\n",
    "    #\n",
    "S_exp = run_search()\n",
    "S_exp.run_seach()\n"
   ]
  },
  {
   "cell_type": "code",
   "execution_count": null,
   "metadata": {},
   "outputs": [],
   "source": []
  },
  {
   "cell_type": "code",
   "execution_count": 12,
   "metadata": {},
   "outputs": [
    {
     "name": "stderr",
     "output_type": "stream",
     "text": [
      "C:\\Users\\ma11115\\AppData\\Local\\Temp\\ipykernel_8244\\2651251812.py:18: DtypeWarning: Columns (18) have mixed types. Specify dtype option on import or set low_memory=False.\n",
      "  df_total = pd.read_csv('data/output/Full_datatset/df_total_new2023_08_20.csv')\n"
     ]
    }
   ],
   "source": []
  },
  {
   "cell_type": "code",
   "execution_count": null,
   "metadata": {},
   "outputs": [],
   "source": []
  }
 ],
 "metadata": {
  "kernelspec": {
   "display_name": "Python 3",
   "language": "python",
   "name": "python3"
  },
  "language_info": {
   "codemirror_mode": {
    "name": "ipython",
    "version": 3
   },
   "file_extension": ".py",
   "mimetype": "text/x-python",
   "name": "python",
   "nbconvert_exporter": "python",
   "pygments_lexer": "ipython3",
   "version": "3.10.12"
  },
  "orig_nbformat": 4
 },
 "nbformat": 4,
 "nbformat_minor": 2
}
