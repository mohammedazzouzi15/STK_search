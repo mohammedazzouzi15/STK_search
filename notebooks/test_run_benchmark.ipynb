{
 "cells": [
  {
   "cell_type": "code",
   "execution_count": 1,
   "metadata": {},
   "outputs": [],
   "source": [
    "import os\n",
    "os.chdir(\"/rds/general/user/ma11115/home/STK_Search/STK_search\")\n",
    "#os.chdir('..')"
   ]
  },
  {
   "cell_type": "code",
   "execution_count": 2,
   "metadata": {},
   "outputs": [
    {
     "name": "stdout",
     "output_type": "stream",
     "text": [
      "config loaded from /rds/general/user/ma11115/home/Geom3D/Geom3D/training/SchNet_frag/target_75000_0.0_frag_6\n",
      "loading model from checkpoint /rds/general/user/ma11115/home/Geom3D/Geom3D/training/SchNet_frag//target_75000_0.0_frag_6/epoch=59-val_loss=0.05-other_metric=0.00.ckpt\n",
      "max fitness acquired: -3.8863000000000003\n",
      "min fitness acquired: -11.8584\n",
      "df_elements shape is  (274, 6)\n",
      "X_unsqueezed shape is  torch.Size([274, 128])\n",
      "new_element_df shape is  (274, 6)\n",
      "22\n",
      "element id suggested: 100\n",
      "iteration 0 completed\n",
      "max fitness acquired: -3.7071000000000005\n",
      "min fitness acquired: -11.8584\n",
      "ids acquired: [0, 1, 2, 3, 4, 5, 6, 7, 8, 9, 10, 11, 12, 13, 14, 15, 16, 17, 18, 19, 20, 21, 22, 23, 24, 25, 26, 27, 28, 29, 30, 31, 32, 33, 34, 35, 36, 37, 38, 39, 40, 41, 42, 43, 44, 45, 46, 47, 48, 49, 50, 51, 52, 53, 54, 55, 56, 57, 58, 59, 60, 61, 62, 63, 64, 65, 66, 67, 68, 69, 70, 71, 72, 73, 74, 75, 76, 77, 78, 79, 80, 81, 82, 83, 84, 85, 86, 87, 88, 89, 90, 91, 92, 93, 94, 95, 96, 97, 98, 99, 100]\n",
      "new fitness acquired: -3.7071000000000005\n",
      "df_elements shape is  (326, 6)\n",
      "X_unsqueezed shape is  torch.Size([326, 128])\n",
      "new_element_df shape is  (326, 6)\n",
      "123\n",
      "element id suggested: 101\n",
      "iteration 1 completed\n",
      "max fitness acquired: -3.7071000000000005\n",
      "min fitness acquired: -11.8584\n",
      "ids acquired: [0, 1, 2, 3, 4, 5, 6, 7, 8, 9, 10, 11, 12, 13, 14, 15, 16, 17, 18, 19, 20, 21, 22, 23, 24, 25, 26, 27, 28, 29, 30, 31, 32, 33, 34, 35, 36, 37, 38, 39, 40, 41, 42, 43, 44, 45, 46, 47, 48, 49, 50, 51, 52, 53, 54, 55, 56, 57, 58, 59, 60, 61, 62, 63, 64, 65, 66, 67, 68, 69, 70, 71, 72, 73, 74, 75, 76, 77, 78, 79, 80, 81, 82, 83, 84, 85, 86, 87, 88, 89, 90, 91, 92, 93, 94, 95, 96, 97, 98, 99, 100, 101]\n",
      "new fitness acquired: -4.455400000000001\n",
      "config loaded from /rds/general/user/ma11115/home/Geom3D/Geom3D/training/SchNet_frag/target_75000_0.0_frag_6\n"
     ]
    }
   ],
   "source": [
    "search_space = 3\n",
    "import importlib\n",
    "#importlib.reload(Bayesian_Optimisation)\n",
    "#%run  src/dev_scripts/run_search.py --num_iteration 2 --num_elem_initialisation 10 --case ea_surrogate --test_name ea_surrogate --search_space_loc data/input/EXP_search_space/exp_111_2023_11_01_14_52_42/search_space_{search_space}.pkl\n",
    "test_name = 'ea_surrogate'\n",
    "dict_targets = {'target':0,'fosc1':10,'ES1':3,'IP':5.5}#\n",
    "target_name,aim ='target', 0\n",
    "num_molecules = 75000\n",
    "name = f\"{target_name}_{num_molecules}_{aim:.1f}_frag_6\"\n",
    "config_dir = f\"/rds/general/user/ma11115/home/Geom3D/Geom3D/training/SchNet_frag/{name}\"\n",
    "%run src/dev_scripts/run_search_test.py --num_iteration 2 --num_elem_initialisation 100 --case {test_name} --test_name {test_name}_{target_name}_{num_molecules} --config_dir {config_dir} --target {target_name} --aim {aim} --which_acquisition EI --lim_counter 5\n"
   ]
  },
  {
   "cell_type": "code",
   "execution_count": 7,
   "metadata": {},
   "outputs": [
    {
     "name": "stdout",
     "output_type": "stream",
     "text": [
      "graph_frag\n",
      "\n",
      "config loaded from /rds/general/user/ma11115/home/Geom3D/Geom3D/training/SchNet_frag/target_5000_0.0_frag_6\n",
      "target_5000_0.0_frag_6/epoch=97-val_loss=0.03-other_metric=0.00.ckpt\n",
      "load representation from  /rds/general/user/ma11115/home/Geom3D/Geom3D/training/SchNet_frag//target_5000_0.0_frag_6\n",
      "size of data list 75595\n",
      "loading model from checkpoint /rds/general/user/ma11115/home/Geom3D/Geom3D/training/SchNet_frag//target_5000_0.0_frag_6/epoch=97-val_loss=0.03-other_metric=0.00.ckpt\n",
      "max fitness acquired: -5.4199\n",
      "min fitness acquired: -11.594299999999999\n"
     ]
    },
    {
     "name": "stderr",
     "output_type": "stream",
     "text": [
      "/rds/general/user/ma11115/home/anaconda3/envs/Geom3D/lib/python3.11/site-packages/botorch/models/utils/assorted.py:173: InputDataWarning: Input data is not contained to the unit cube. Please consider min-max scaling the input data.\n",
      "  warnings.warn(msg, InputDataWarning)\n"
     ]
    },
    {
     "name": "stdout",
     "output_type": "stream",
     "text": [
      "started acquisition function optimisation\n",
      "element id suggested: 50\n",
      "iteration 0 completed\n",
      "max fitness acquired: -5.4199\n",
      "min fitness acquired: -11.594299999999999\n",
      "ids acquired: [0, 1, 2, 3, 4, 5, 6, 7, 8, 9, 10, 11, 12, 13, 14, 15, 16, 17, 18, 19, 20, 21, 22, 23, 24, 25, 26, 27, 28, 29, 30, 31, 32, 33, 34, 35, 36, 37, 38, 39, 40, 41, 42, 43, 44, 45, 46, 47, 48, 49, 50]\n",
      "new fitness acquired: -7.580399999999999\n"
     ]
    },
    {
     "name": "stderr",
     "output_type": "stream",
     "text": [
      "/rds/general/user/ma11115/home/anaconda3/envs/Geom3D/lib/python3.11/site-packages/botorch/models/utils/assorted.py:173: InputDataWarning: Input data is not contained to the unit cube. Please consider min-max scaling the input data.\n",
      "  warnings.warn(msg, InputDataWarning)\n"
     ]
    },
    {
     "name": "stdout",
     "output_type": "stream",
     "text": [
      "started acquisition function optimisation\n",
      "element id suggested: 51\n",
      "iteration 1 completed\n",
      "max fitness acquired: -5.4199\n",
      "min fitness acquired: -11.594299999999999\n",
      "ids acquired: [0, 1, 2, 3, 4, 5, 6, 7, 8, 9, 10, 11, 12, 13, 14, 15, 16, 17, 18, 19, 20, 21, 22, 23, 24, 25, 26, 27, 28, 29, 30, 31, 32, 33, 34, 35, 36, 37, 38, 39, 40, 41, 42, 43, 44, 45, 46, 47, 48, 49, 50, 51]\n",
      "new fitness acquired: -11.4009\n"
     ]
    },
    {
     "name": "stderr",
     "output_type": "stream",
     "text": [
      "/rds/general/user/ma11115/home/anaconda3/envs/Geom3D/lib/python3.11/site-packages/botorch/models/utils/assorted.py:173: InputDataWarning: Input data is not contained to the unit cube. Please consider min-max scaling the input data.\n",
      "  warnings.warn(msg, InputDataWarning)\n"
     ]
    },
    {
     "name": "stdout",
     "output_type": "stream",
     "text": [
      "started acquisition function optimisation\n",
      "element id suggested: 52\n",
      "iteration 2 completed\n",
      "max fitness acquired: -4.7034\n",
      "min fitness acquired: -11.594299999999999\n",
      "ids acquired: [0, 1, 2, 3, 4, 5, 6, 7, 8, 9, 10, 11, 12, 13, 14, 15, 16, 17, 18, 19, 20, 21, 22, 23, 24, 25, 26, 27, 28, 29, 30, 31, 32, 33, 34, 35, 36, 37, 38, 39, 40, 41, 42, 43, 44, 45, 46, 47, 48, 49, 50, 51, 52]\n",
      "new fitness acquired: -4.7034\n"
     ]
    },
    {
     "name": "stderr",
     "output_type": "stream",
     "text": [
      "/rds/general/user/ma11115/home/anaconda3/envs/Geom3D/lib/python3.11/site-packages/botorch/models/utils/assorted.py:173: InputDataWarning: Input data is not contained to the unit cube. Please consider min-max scaling the input data.\n",
      "  warnings.warn(msg, InputDataWarning)\n"
     ]
    },
    {
     "name": "stdout",
     "output_type": "stream",
     "text": [
      "started acquisition function optimisation\n",
      "element id suggested: 53\n",
      "iteration 3 completed\n",
      "max fitness acquired: -2.600600000000001\n",
      "min fitness acquired: -11.594299999999999\n",
      "ids acquired: [0, 1, 2, 3, 4, 5, 6, 7, 8, 9, 10, 11, 12, 13, 14, 15, 16, 17, 18, 19, 20, 21, 22, 23, 24, 25, 26, 27, 28, 29, 30, 31, 32, 33, 34, 35, 36, 37, 38, 39, 40, 41, 42, 43, 44, 45, 46, 47, 48, 49, 50, 51, 52, 53]\n",
      "new fitness acquired: -2.600600000000001\n"
     ]
    },
    {
     "name": "stderr",
     "output_type": "stream",
     "text": [
      "/rds/general/user/ma11115/home/anaconda3/envs/Geom3D/lib/python3.11/site-packages/botorch/models/utils/assorted.py:173: InputDataWarning: Input data is not contained to the unit cube. Please consider min-max scaling the input data.\n",
      "  warnings.warn(msg, InputDataWarning)\n"
     ]
    },
    {
     "name": "stdout",
     "output_type": "stream",
     "text": [
      "started acquisition function optimisation\n",
      "element id suggested: 54\n",
      "iteration 4 completed\n",
      "max fitness acquired: -2.600600000000001\n",
      "min fitness acquired: -11.594299999999999\n",
      "ids acquired: [0, 1, 2, 3, 4, 5, 6, 7, 8, 9, 10, 11, 12, 13, 14, 15, 16, 17, 18, 19, 20, 21, 22, 23, 24, 25, 26, 27, 28, 29, 30, 31, 32, 33, 34, 35, 36, 37, 38, 39, 40, 41, 42, 43, 44, 45, 46, 47, 48, 49, 50, 51, 52, 53, 54]\n",
      "new fitness acquired: -4.0699\n"
     ]
    },
    {
     "name": "stderr",
     "output_type": "stream",
     "text": [
      "/rds/general/user/ma11115/home/anaconda3/envs/Geom3D/lib/python3.11/site-packages/botorch/models/utils/assorted.py:173: InputDataWarning: Input data is not contained to the unit cube. Please consider min-max scaling the input data.\n",
      "  warnings.warn(msg, InputDataWarning)\n"
     ]
    },
    {
     "name": "stdout",
     "output_type": "stream",
     "text": [
      "started acquisition function optimisation\n",
      "element id suggested: 55\n",
      "iteration 5 completed\n",
      "max fitness acquired: -2.600600000000001\n",
      "min fitness acquired: -11.594299999999999\n",
      "ids acquired: [0, 1, 2, 3, 4, 5, 6, 7, 8, 9, 10, 11, 12, 13, 14, 15, 16, 17, 18, 19, 20, 21, 22, 23, 24, 25, 26, 27, 28, 29, 30, 31, 32, 33, 34, 35, 36, 37, 38, 39, 40, 41, 42, 43, 44, 45, 46, 47, 48, 49, 50, 51, 52, 53, 54, 55]\n",
      "new fitness acquired: -3.1169000000000002\n"
     ]
    },
    {
     "name": "stderr",
     "output_type": "stream",
     "text": [
      "/rds/general/user/ma11115/home/anaconda3/envs/Geom3D/lib/python3.11/site-packages/botorch/models/utils/assorted.py:173: InputDataWarning: Input data is not contained to the unit cube. Please consider min-max scaling the input data.\n",
      "  warnings.warn(msg, InputDataWarning)\n"
     ]
    },
    {
     "name": "stdout",
     "output_type": "stream",
     "text": [
      "started acquisition function optimisation\n",
      "element id suggested: 56\n",
      "iteration 6 completed\n",
      "max fitness acquired: -2.600600000000001\n",
      "min fitness acquired: -11.594299999999999\n",
      "ids acquired: [0, 1, 2, 3, 4, 5, 6, 7, 8, 9, 10, 11, 12, 13, 14, 15, 16, 17, 18, 19, 20, 21, 22, 23, 24, 25, 26, 27, 28, 29, 30, 31, 32, 33, 34, 35, 36, 37, 38, 39, 40, 41, 42, 43, 44, 45, 46, 47, 48, 49, 50, 51, 52, 53, 54, 55, 56]\n",
      "new fitness acquired: -3.6438999999999995\n"
     ]
    },
    {
     "name": "stderr",
     "output_type": "stream",
     "text": [
      "/rds/general/user/ma11115/home/anaconda3/envs/Geom3D/lib/python3.11/site-packages/botorch/models/utils/assorted.py:173: InputDataWarning: Input data is not contained to the unit cube. Please consider min-max scaling the input data.\n",
      "  warnings.warn(msg, InputDataWarning)\n"
     ]
    },
    {
     "name": "stdout",
     "output_type": "stream",
     "text": [
      "started acquisition function optimisation\n",
      "element id suggested: 57\n",
      "iteration 7 completed\n",
      "max fitness acquired: -2.600600000000001\n",
      "min fitness acquired: -11.594299999999999\n",
      "ids acquired: [0, 1, 2, 3, 4, 5, 6, 7, 8, 9, 10, 11, 12, 13, 14, 15, 16, 17, 18, 19, 20, 21, 22, 23, 24, 25, 26, 27, 28, 29, 30, 31, 32, 33, 34, 35, 36, 37, 38, 39, 40, 41, 42, 43, 44, 45, 46, 47, 48, 49, 50, 51, 52, 53, 54, 55, 56, 57]\n",
      "new fitness acquired: -10.1708\n"
     ]
    },
    {
     "name": "stderr",
     "output_type": "stream",
     "text": [
      "/rds/general/user/ma11115/home/anaconda3/envs/Geom3D/lib/python3.11/site-packages/botorch/models/utils/assorted.py:173: InputDataWarning: Input data is not contained to the unit cube. Please consider min-max scaling the input data.\n",
      "  warnings.warn(msg, InputDataWarning)\n"
     ]
    },
    {
     "name": "stdout",
     "output_type": "stream",
     "text": [
      "started acquisition function optimisation\n",
      "element id suggested: 58\n",
      "iteration 8 completed\n",
      "max fitness acquired: -2.600600000000001\n",
      "min fitness acquired: -11.594299999999999\n",
      "ids acquired: [0, 1, 2, 3, 4, 5, 6, 7, 8, 9, 10, 11, 12, 13, 14, 15, 16, 17, 18, 19, 20, 21, 22, 23, 24, 25, 26, 27, 28, 29, 30, 31, 32, 33, 34, 35, 36, 37, 38, 39, 40, 41, 42, 43, 44, 45, 46, 47, 48, 49, 50, 51, 52, 53, 54, 55, 56, 57, 58]\n",
      "new fitness acquired: -4.1385000000000005\n"
     ]
    },
    {
     "name": "stderr",
     "output_type": "stream",
     "text": [
      "/rds/general/user/ma11115/home/anaconda3/envs/Geom3D/lib/python3.11/site-packages/botorch/models/utils/assorted.py:173: InputDataWarning: Input data is not contained to the unit cube. Please consider min-max scaling the input data.\n",
      "  warnings.warn(msg, InputDataWarning)\n"
     ]
    },
    {
     "name": "stdout",
     "output_type": "stream",
     "text": [
      "started acquisition function optimisation\n",
      "element id suggested: 59\n",
      "iteration 9 completed\n",
      "max fitness acquired: -2.600600000000001\n",
      "min fitness acquired: -11.594299999999999\n",
      "ids acquired: [0, 1, 2, 3, 4, 5, 6, 7, 8, 9, 10, 11, 12, 13, 14, 15, 16, 17, 18, 19, 20, 21, 22, 23, 24, 25, 26, 27, 28, 29, 30, 31, 32, 33, 34, 35, 36, 37, 38, 39, 40, 41, 42, 43, 44, 45, 46, 47, 48, 49, 50, 51, 52, 53, 54, 55, 56, 57, 58, 59]\n",
      "new fitness acquired: -11.5236\n"
     ]
    },
    {
     "name": "stderr",
     "output_type": "stream",
     "text": [
      "/rds/general/user/ma11115/home/anaconda3/envs/Geom3D/lib/python3.11/site-packages/botorch/models/utils/assorted.py:173: InputDataWarning: Input data is not contained to the unit cube. Please consider min-max scaling the input data.\n",
      "  warnings.warn(msg, InputDataWarning)\n"
     ]
    },
    {
     "name": "stdout",
     "output_type": "stream",
     "text": [
      "started acquisition function optimisation\n",
      "element id suggested: 60\n",
      "iteration 10 completed\n",
      "max fitness acquired: -2.600600000000001\n",
      "min fitness acquired: -11.594299999999999\n",
      "ids acquired: [0, 1, 2, 3, 4, 5, 6, 7, 8, 9, 10, 11, 12, 13, 14, 15, 16, 17, 18, 19, 20, 21, 22, 23, 24, 25, 26, 27, 28, 29, 30, 31, 32, 33, 34, 35, 36, 37, 38, 39, 40, 41, 42, 43, 44, 45, 46, 47, 48, 49, 50, 51, 52, 53, 54, 55, 56, 57, 58, 59, 60]\n",
      "new fitness acquired: -10.0239\n"
     ]
    },
    {
     "name": "stderr",
     "output_type": "stream",
     "text": [
      "/rds/general/user/ma11115/home/anaconda3/envs/Geom3D/lib/python3.11/site-packages/botorch/models/utils/assorted.py:173: InputDataWarning: Input data is not contained to the unit cube. Please consider min-max scaling the input data.\n",
      "  warnings.warn(msg, InputDataWarning)\n"
     ]
    },
    {
     "name": "stdout",
     "output_type": "stream",
     "text": [
      "started acquisition function optimisation\n",
      "element id suggested: 61\n",
      "iteration 11 completed\n",
      "max fitness acquired: -2.600600000000001\n",
      "min fitness acquired: -11.594299999999999\n",
      "ids acquired: [0, 1, 2, 3, 4, 5, 6, 7, 8, 9, 10, 11, 12, 13, 14, 15, 16, 17, 18, 19, 20, 21, 22, 23, 24, 25, 26, 27, 28, 29, 30, 31, 32, 33, 34, 35, 36, 37, 38, 39, 40, 41, 42, 43, 44, 45, 46, 47, 48, 49, 50, 51, 52, 53, 54, 55, 56, 57, 58, 59, 60, 61]\n",
      "new fitness acquired: -11.343800000000002\n"
     ]
    },
    {
     "name": "stderr",
     "output_type": "stream",
     "text": [
      "/rds/general/user/ma11115/home/anaconda3/envs/Geom3D/lib/python3.11/site-packages/botorch/models/utils/assorted.py:173: InputDataWarning: Input data is not contained to the unit cube. Please consider min-max scaling the input data.\n",
      "  warnings.warn(msg, InputDataWarning)\n"
     ]
    },
    {
     "name": "stdout",
     "output_type": "stream",
     "text": [
      "started acquisition function optimisation\n",
      "element id suggested: 62\n",
      "iteration 12 completed\n",
      "max fitness acquired: -2.600600000000001\n",
      "min fitness acquired: -11.594299999999999\n",
      "ids acquired: [0, 1, 2, 3, 4, 5, 6, 7, 8, 9, 10, 11, 12, 13, 14, 15, 16, 17, 18, 19, 20, 21, 22, 23, 24, 25, 26, 27, 28, 29, 30, 31, 32, 33, 34, 35, 36, 37, 38, 39, 40, 41, 42, 43, 44, 45, 46, 47, 48, 49, 50, 51, 52, 53, 54, 55, 56, 57, 58, 59, 60, 61, 62]\n",
      "new fitness acquired: -5.2682\n"
     ]
    },
    {
     "name": "stderr",
     "output_type": "stream",
     "text": [
      "/rds/general/user/ma11115/home/anaconda3/envs/Geom3D/lib/python3.11/site-packages/botorch/models/utils/assorted.py:173: InputDataWarning: Input data is not contained to the unit cube. Please consider min-max scaling the input data.\n",
      "  warnings.warn(msg, InputDataWarning)\n"
     ]
    },
    {
     "name": "stdout",
     "output_type": "stream",
     "text": [
      "started acquisition function optimisation\n",
      "element id suggested: 63\n",
      "iteration 13 completed\n",
      "max fitness acquired: -2.600600000000001\n",
      "min fitness acquired: -11.594299999999999\n",
      "ids acquired: [0, 1, 2, 3, 4, 5, 6, 7, 8, 9, 10, 11, 12, 13, 14, 15, 16, 17, 18, 19, 20, 21, 22, 23, 24, 25, 26, 27, 28, 29, 30, 31, 32, 33, 34, 35, 36, 37, 38, 39, 40, 41, 42, 43, 44, 45, 46, 47, 48, 49, 50, 51, 52, 53, 54, 55, 56, 57, 58, 59, 60, 61, 62, 63]\n",
      "new fitness acquired: -3.0524999999999998\n"
     ]
    },
    {
     "name": "stderr",
     "output_type": "stream",
     "text": [
      "/rds/general/user/ma11115/home/anaconda3/envs/Geom3D/lib/python3.11/site-packages/botorch/models/utils/assorted.py:173: InputDataWarning: Input data is not contained to the unit cube. Please consider min-max scaling the input data.\n",
      "  warnings.warn(msg, InputDataWarning)\n"
     ]
    },
    {
     "name": "stdout",
     "output_type": "stream",
     "text": [
      "started acquisition function optimisation\n",
      "element id suggested: 64\n",
      "iteration 14 completed\n",
      "max fitness acquired: -2.600600000000001\n",
      "min fitness acquired: -11.594299999999999\n",
      "ids acquired: [0, 1, 2, 3, 4, 5, 6, 7, 8, 9, 10, 11, 12, 13, 14, 15, 16, 17, 18, 19, 20, 21, 22, 23, 24, 25, 26, 27, 28, 29, 30, 31, 32, 33, 34, 35, 36, 37, 38, 39, 40, 41, 42, 43, 44, 45, 46, 47, 48, 49, 50, 51, 52, 53, 54, 55, 56, 57, 58, 59, 60, 61, 62, 63, 64]\n",
      "new fitness acquired: -4.4872\n"
     ]
    },
    {
     "name": "stderr",
     "output_type": "stream",
     "text": [
      "/rds/general/user/ma11115/home/anaconda3/envs/Geom3D/lib/python3.11/site-packages/botorch/models/utils/assorted.py:173: InputDataWarning: Input data is not contained to the unit cube. Please consider min-max scaling the input data.\n",
      "  warnings.warn(msg, InputDataWarning)\n"
     ]
    },
    {
     "name": "stdout",
     "output_type": "stream",
     "text": [
      "started acquisition function optimisation\n",
      "element id suggested: 65\n",
      "iteration 15 completed\n",
      "max fitness acquired: -2.600600000000001\n",
      "min fitness acquired: -11.594299999999999\n",
      "ids acquired: [0, 1, 2, 3, 4, 5, 6, 7, 8, 9, 10, 11, 12, 13, 14, 15, 16, 17, 18, 19, 20, 21, 22, 23, 24, 25, 26, 27, 28, 29, 30, 31, 32, 33, 34, 35, 36, 37, 38, 39, 40, 41, 42, 43, 44, 45, 46, 47, 48, 49, 50, 51, 52, 53, 54, 55, 56, 57, 58, 59, 60, 61, 62, 63, 64, 65]\n",
      "new fitness acquired: -5.8652999999999995\n"
     ]
    },
    {
     "name": "stderr",
     "output_type": "stream",
     "text": [
      "/rds/general/user/ma11115/home/anaconda3/envs/Geom3D/lib/python3.11/site-packages/botorch/models/utils/assorted.py:173: InputDataWarning: Input data is not contained to the unit cube. Please consider min-max scaling the input data.\n",
      "  warnings.warn(msg, InputDataWarning)\n"
     ]
    },
    {
     "name": "stdout",
     "output_type": "stream",
     "text": [
      "started acquisition function optimisation\n",
      "element id suggested: 66\n",
      "iteration 16 completed\n",
      "max fitness acquired: -2.600600000000001\n",
      "min fitness acquired: -11.594299999999999\n",
      "ids acquired: [0, 1, 2, 3, 4, 5, 6, 7, 8, 9, 10, 11, 12, 13, 14, 15, 16, 17, 18, 19, 20, 21, 22, 23, 24, 25, 26, 27, 28, 29, 30, 31, 32, 33, 34, 35, 36, 37, 38, 39, 40, 41, 42, 43, 44, 45, 46, 47, 48, 49, 50, 51, 52, 53, 54, 55, 56, 57, 58, 59, 60, 61, 62, 63, 64, 65, 66]\n",
      "new fitness acquired: -6.013199999999999\n"
     ]
    },
    {
     "name": "stderr",
     "output_type": "stream",
     "text": [
      "/rds/general/user/ma11115/home/anaconda3/envs/Geom3D/lib/python3.11/site-packages/botorch/models/utils/assorted.py:173: InputDataWarning: Input data is not contained to the unit cube. Please consider min-max scaling the input data.\n",
      "  warnings.warn(msg, InputDataWarning)\n"
     ]
    },
    {
     "name": "stdout",
     "output_type": "stream",
     "text": [
      "started acquisition function optimisation\n",
      "element id suggested: 67\n",
      "iteration 17 completed\n",
      "max fitness acquired: -2.600600000000001\n",
      "min fitness acquired: -11.594299999999999\n",
      "ids acquired: [0, 1, 2, 3, 4, 5, 6, 7, 8, 9, 10, 11, 12, 13, 14, 15, 16, 17, 18, 19, 20, 21, 22, 23, 24, 25, 26, 27, 28, 29, 30, 31, 32, 33, 34, 35, 36, 37, 38, 39, 40, 41, 42, 43, 44, 45, 46, 47, 48, 49, 50, 51, 52, 53, 54, 55, 56, 57, 58, 59, 60, 61, 62, 63, 64, 65, 66, 67]\n",
      "new fitness acquired: -2.8377000000000008\n"
     ]
    },
    {
     "name": "stderr",
     "output_type": "stream",
     "text": [
      "/rds/general/user/ma11115/home/anaconda3/envs/Geom3D/lib/python3.11/site-packages/botorch/models/utils/assorted.py:173: InputDataWarning: Input data is not contained to the unit cube. Please consider min-max scaling the input data.\n",
      "  warnings.warn(msg, InputDataWarning)\n"
     ]
    },
    {
     "name": "stdout",
     "output_type": "stream",
     "text": [
      "started acquisition function optimisation\n",
      "element id suggested: 68\n",
      "iteration 18 completed\n",
      "max fitness acquired: -2.600600000000001\n",
      "min fitness acquired: -11.594299999999999\n",
      "ids acquired: [0, 1, 2, 3, 4, 5, 6, 7, 8, 9, 10, 11, 12, 13, 14, 15, 16, 17, 18, 19, 20, 21, 22, 23, 24, 25, 26, 27, 28, 29, 30, 31, 32, 33, 34, 35, 36, 37, 38, 39, 40, 41, 42, 43, 44, 45, 46, 47, 48, 49, 50, 51, 52, 53, 54, 55, 56, 57, 58, 59, 60, 61, 62, 63, 64, 65, 66, 67, 68]\n",
      "new fitness acquired: -4.2206\n"
     ]
    },
    {
     "name": "stderr",
     "output_type": "stream",
     "text": [
      "/rds/general/user/ma11115/home/anaconda3/envs/Geom3D/lib/python3.11/site-packages/botorch/models/utils/assorted.py:173: InputDataWarning: Input data is not contained to the unit cube. Please consider min-max scaling the input data.\n",
      "  warnings.warn(msg, InputDataWarning)\n"
     ]
    },
    {
     "name": "stdout",
     "output_type": "stream",
     "text": [
      "started acquisition function optimisation\n",
      "element id suggested: 69\n",
      "iteration 19 completed\n",
      "max fitness acquired: -2.600600000000001\n",
      "min fitness acquired: -11.594299999999999\n",
      "ids acquired: [0, 1, 2, 3, 4, 5, 6, 7, 8, 9, 10, 11, 12, 13, 14, 15, 16, 17, 18, 19, 20, 21, 22, 23, 24, 25, 26, 27, 28, 29, 30, 31, 32, 33, 34, 35, 36, 37, 38, 39, 40, 41, 42, 43, 44, 45, 46, 47, 48, 49, 50, 51, 52, 53, 54, 55, 56, 57, 58, 59, 60, 61, 62, 63, 64, 65, 66, 67, 68, 69]\n",
      "new fitness acquired: -5.0354\n",
      "config loaded from /rds/general/user/ma11115/home/Geom3D/Geom3D/training/SchNet_frag/target_5000_0.0_frag_6\n",
      "config loaded from /rds/general/user/ma11115/home/Geom3D/Geom3D/training/SchNet_frag/target_10000_0.0_frag_6\n",
      "target_10000_0.0_frag_6/epoch=83-val_loss=0.04-other_metric=0.00.ckpt\n",
      "load representation from  /rds/general/user/ma11115/home/Geom3D/Geom3D/training/SchNet_frag//target_10000_0.0_frag_6\n",
      "size of data list 75000\n",
      "loading model from checkpoint /rds/general/user/ma11115/home/Geom3D/Geom3D/training/SchNet_frag//target_10000_0.0_frag_6/epoch=83-val_loss=0.04-other_metric=0.00.ckpt\n",
      "max fitness acquired: -4.9435\n",
      "min fitness acquired: -11.8322\n"
     ]
    },
    {
     "name": "stderr",
     "output_type": "stream",
     "text": [
      "/rds/general/user/ma11115/home/anaconda3/envs/Geom3D/lib/python3.11/site-packages/botorch/models/utils/assorted.py:173: InputDataWarning: Input data is not contained to the unit cube. Please consider min-max scaling the input data.\n",
      "  warnings.warn(msg, InputDataWarning)\n"
     ]
    },
    {
     "name": "stdout",
     "output_type": "stream",
     "text": [
      "started acquisition function optimisation\n",
      "element id suggested: 50\n",
      "iteration 0 completed\n",
      "max fitness acquired: -4.9435\n",
      "min fitness acquired: -11.8322\n",
      "ids acquired: [0, 1, 2, 3, 4, 5, 6, 7, 8, 9, 10, 11, 12, 13, 14, 15, 16, 17, 18, 19, 20, 21, 22, 23, 24, 25, 26, 27, 28, 29, 30, 31, 32, 33, 34, 35, 36, 37, 38, 39, 40, 41, 42, 43, 44, 45, 46, 47, 48, 49, 50]\n",
      "new fitness acquired: -6.8873\n"
     ]
    },
    {
     "name": "stderr",
     "output_type": "stream",
     "text": [
      "/rds/general/user/ma11115/home/anaconda3/envs/Geom3D/lib/python3.11/site-packages/botorch/models/utils/assorted.py:173: InputDataWarning: Input data is not contained to the unit cube. Please consider min-max scaling the input data.\n",
      "  warnings.warn(msg, InputDataWarning)\n"
     ]
    },
    {
     "name": "stdout",
     "output_type": "stream",
     "text": [
      "started acquisition function optimisation\n",
      "element id suggested: 51\n",
      "iteration 1 completed\n",
      "max fitness acquired: -2.9042000000000003\n",
      "min fitness acquired: -11.8322\n",
      "ids acquired: [0, 1, 2, 3, 4, 5, 6, 7, 8, 9, 10, 11, 12, 13, 14, 15, 16, 17, 18, 19, 20, 21, 22, 23, 24, 25, 26, 27, 28, 29, 30, 31, 32, 33, 34, 35, 36, 37, 38, 39, 40, 41, 42, 43, 44, 45, 46, 47, 48, 49, 50, 51]\n",
      "new fitness acquired: -2.9042000000000003\n"
     ]
    },
    {
     "name": "stderr",
     "output_type": "stream",
     "text": [
      "/rds/general/user/ma11115/home/anaconda3/envs/Geom3D/lib/python3.11/site-packages/botorch/models/utils/assorted.py:173: InputDataWarning: Input data is not contained to the unit cube. Please consider min-max scaling the input data.\n",
      "  warnings.warn(msg, InputDataWarning)\n"
     ]
    },
    {
     "name": "stdout",
     "output_type": "stream",
     "text": [
      "started acquisition function optimisation\n",
      "element id suggested: 52\n",
      "iteration 2 completed\n",
      "max fitness acquired: -2.9042000000000003\n",
      "min fitness acquired: -11.8322\n",
      "ids acquired: [0, 1, 2, 3, 4, 5, 6, 7, 8, 9, 10, 11, 12, 13, 14, 15, 16, 17, 18, 19, 20, 21, 22, 23, 24, 25, 26, 27, 28, 29, 30, 31, 32, 33, 34, 35, 36, 37, 38, 39, 40, 41, 42, 43, 44, 45, 46, 47, 48, 49, 50, 51, 52]\n",
      "new fitness acquired: -4.0699\n"
     ]
    },
    {
     "name": "stderr",
     "output_type": "stream",
     "text": [
      "/rds/general/user/ma11115/home/anaconda3/envs/Geom3D/lib/python3.11/site-packages/botorch/models/utils/assorted.py:173: InputDataWarning: Input data is not contained to the unit cube. Please consider min-max scaling the input data.\n",
      "  warnings.warn(msg, InputDataWarning)\n"
     ]
    },
    {
     "name": "stdout",
     "output_type": "stream",
     "text": [
      "started acquisition function optimisation\n",
      "element id suggested: 53\n",
      "iteration 3 completed\n",
      "max fitness acquired: -2.9042000000000003\n",
      "min fitness acquired: -11.8322\n",
      "ids acquired: [0, 1, 2, 3, 4, 5, 6, 7, 8, 9, 10, 11, 12, 13, 14, 15, 16, 17, 18, 19, 20, 21, 22, 23, 24, 25, 26, 27, 28, 29, 30, 31, 32, 33, 34, 35, 36, 37, 38, 39, 40, 41, 42, 43, 44, 45, 46, 47, 48, 49, 50, 51, 52, 53]\n",
      "new fitness acquired: -2.9056999999999995\n"
     ]
    },
    {
     "name": "stderr",
     "output_type": "stream",
     "text": [
      "/rds/general/user/ma11115/home/anaconda3/envs/Geom3D/lib/python3.11/site-packages/botorch/models/utils/assorted.py:173: InputDataWarning: Input data is not contained to the unit cube. Please consider min-max scaling the input data.\n",
      "  warnings.warn(msg, InputDataWarning)\n"
     ]
    },
    {
     "name": "stdout",
     "output_type": "stream",
     "text": [
      "started acquisition function optimisation\n",
      "element id suggested: 54\n",
      "iteration 4 completed\n",
      "max fitness acquired: -2.9042000000000003\n",
      "min fitness acquired: -11.8322\n",
      "ids acquired: [0, 1, 2, 3, 4, 5, 6, 7, 8, 9, 10, 11, 12, 13, 14, 15, 16, 17, 18, 19, 20, 21, 22, 23, 24, 25, 26, 27, 28, 29, 30, 31, 32, 33, 34, 35, 36, 37, 38, 39, 40, 41, 42, 43, 44, 45, 46, 47, 48, 49, 50, 51, 52, 53, 54]\n",
      "new fitness acquired: -3.4834999999999994\n"
     ]
    },
    {
     "name": "stderr",
     "output_type": "stream",
     "text": [
      "/rds/general/user/ma11115/home/anaconda3/envs/Geom3D/lib/python3.11/site-packages/botorch/models/utils/assorted.py:173: InputDataWarning: Input data is not contained to the unit cube. Please consider min-max scaling the input data.\n",
      "  warnings.warn(msg, InputDataWarning)\n"
     ]
    },
    {
     "name": "stdout",
     "output_type": "stream",
     "text": [
      "started acquisition function optimisation\n",
      "element id suggested: 55\n",
      "iteration 5 completed\n",
      "max fitness acquired: -2.9042000000000003\n",
      "min fitness acquired: -11.8322\n",
      "ids acquired: [0, 1, 2, 3, 4, 5, 6, 7, 8, 9, 10, 11, 12, 13, 14, 15, 16, 17, 18, 19, 20, 21, 22, 23, 24, 25, 26, 27, 28, 29, 30, 31, 32, 33, 34, 35, 36, 37, 38, 39, 40, 41, 42, 43, 44, 45, 46, 47, 48, 49, 50, 51, 52, 53, 54, 55]\n",
      "new fitness acquired: -3.6442999999999994\n"
     ]
    },
    {
     "name": "stderr",
     "output_type": "stream",
     "text": [
      "/rds/general/user/ma11115/home/anaconda3/envs/Geom3D/lib/python3.11/site-packages/botorch/models/utils/assorted.py:173: InputDataWarning: Input data is not contained to the unit cube. Please consider min-max scaling the input data.\n",
      "  warnings.warn(msg, InputDataWarning)\n"
     ]
    },
    {
     "name": "stdout",
     "output_type": "stream",
     "text": [
      "started acquisition function optimisation\n",
      "element id suggested: 56\n",
      "iteration 6 completed\n",
      "max fitness acquired: -2.9042000000000003\n",
      "min fitness acquired: -11.8322\n",
      "ids acquired: [0, 1, 2, 3, 4, 5, 6, 7, 8, 9, 10, 11, 12, 13, 14, 15, 16, 17, 18, 19, 20, 21, 22, 23, 24, 25, 26, 27, 28, 29, 30, 31, 32, 33, 34, 35, 36, 37, 38, 39, 40, 41, 42, 43, 44, 45, 46, 47, 48, 49, 50, 51, 52, 53, 54, 55, 56]\n",
      "new fitness acquired: -3.3259\n"
     ]
    },
    {
     "name": "stderr",
     "output_type": "stream",
     "text": [
      "/rds/general/user/ma11115/home/anaconda3/envs/Geom3D/lib/python3.11/site-packages/botorch/models/utils/assorted.py:173: InputDataWarning: Input data is not contained to the unit cube. Please consider min-max scaling the input data.\n",
      "  warnings.warn(msg, InputDataWarning)\n"
     ]
    },
    {
     "name": "stdout",
     "output_type": "stream",
     "text": [
      "started acquisition function optimisation\n",
      "element id suggested: 57\n",
      "iteration 7 completed\n",
      "max fitness acquired: -2.9042000000000003\n",
      "min fitness acquired: -11.8322\n",
      "ids acquired: [0, 1, 2, 3, 4, 5, 6, 7, 8, 9, 10, 11, 12, 13, 14, 15, 16, 17, 18, 19, 20, 21, 22, 23, 24, 25, 26, 27, 28, 29, 30, 31, 32, 33, 34, 35, 36, 37, 38, 39, 40, 41, 42, 43, 44, 45, 46, 47, 48, 49, 50, 51, 52, 53, 54, 55, 56, 57]\n",
      "new fitness acquired: -3.9896000000000003\n"
     ]
    },
    {
     "name": "stderr",
     "output_type": "stream",
     "text": [
      "/rds/general/user/ma11115/home/anaconda3/envs/Geom3D/lib/python3.11/site-packages/botorch/models/utils/assorted.py:173: InputDataWarning: Input data is not contained to the unit cube. Please consider min-max scaling the input data.\n",
      "  warnings.warn(msg, InputDataWarning)\n"
     ]
    },
    {
     "name": "stdout",
     "output_type": "stream",
     "text": [
      "started acquisition function optimisation\n",
      "element id suggested: 58\n",
      "iteration 8 completed\n",
      "max fitness acquired: -2.9042000000000003\n",
      "min fitness acquired: -11.8322\n",
      "ids acquired: [0, 1, 2, 3, 4, 5, 6, 7, 8, 9, 10, 11, 12, 13, 14, 15, 16, 17, 18, 19, 20, 21, 22, 23, 24, 25, 26, 27, 28, 29, 30, 31, 32, 33, 34, 35, 36, 37, 38, 39, 40, 41, 42, 43, 44, 45, 46, 47, 48, 49, 50, 51, 52, 53, 54, 55, 56, 57, 58]\n",
      "new fitness acquired: -3.4994\n"
     ]
    },
    {
     "name": "stderr",
     "output_type": "stream",
     "text": [
      "/rds/general/user/ma11115/home/anaconda3/envs/Geom3D/lib/python3.11/site-packages/botorch/models/utils/assorted.py:173: InputDataWarning: Input data is not contained to the unit cube. Please consider min-max scaling the input data.\n",
      "  warnings.warn(msg, InputDataWarning)\n"
     ]
    },
    {
     "name": "stdout",
     "output_type": "stream",
     "text": [
      "started acquisition function optimisation\n",
      "element id suggested: 59\n",
      "iteration 9 completed\n",
      "max fitness acquired: -2.9042000000000003\n",
      "min fitness acquired: -11.8322\n",
      "ids acquired: [0, 1, 2, 3, 4, 5, 6, 7, 8, 9, 10, 11, 12, 13, 14, 15, 16, 17, 18, 19, 20, 21, 22, 23, 24, 25, 26, 27, 28, 29, 30, 31, 32, 33, 34, 35, 36, 37, 38, 39, 40, 41, 42, 43, 44, 45, 46, 47, 48, 49, 50, 51, 52, 53, 54, 55, 56, 57, 58, 59]\n",
      "new fitness acquired: -3.4052\n"
     ]
    },
    {
     "name": "stderr",
     "output_type": "stream",
     "text": [
      "/rds/general/user/ma11115/home/anaconda3/envs/Geom3D/lib/python3.11/site-packages/botorch/models/utils/assorted.py:173: InputDataWarning: Input data is not contained to the unit cube. Please consider min-max scaling the input data.\n",
      "  warnings.warn(msg, InputDataWarning)\n"
     ]
    },
    {
     "name": "stdout",
     "output_type": "stream",
     "text": [
      "started acquisition function optimisation\n",
      "element id suggested: 60\n",
      "iteration 10 completed\n",
      "max fitness acquired: -2.9042000000000003\n",
      "min fitness acquired: -11.8322\n",
      "ids acquired: [0, 1, 2, 3, 4, 5, 6, 7, 8, 9, 10, 11, 12, 13, 14, 15, 16, 17, 18, 19, 20, 21, 22, 23, 24, 25, 26, 27, 28, 29, 30, 31, 32, 33, 34, 35, 36, 37, 38, 39, 40, 41, 42, 43, 44, 45, 46, 47, 48, 49, 50, 51, 52, 53, 54, 55, 56, 57, 58, 59, 60]\n",
      "new fitness acquired: -4.3029\n"
     ]
    },
    {
     "name": "stderr",
     "output_type": "stream",
     "text": [
      "/rds/general/user/ma11115/home/anaconda3/envs/Geom3D/lib/python3.11/site-packages/botorch/models/utils/assorted.py:173: InputDataWarning: Input data is not contained to the unit cube. Please consider min-max scaling the input data.\n",
      "  warnings.warn(msg, InputDataWarning)\n"
     ]
    },
    {
     "name": "stdout",
     "output_type": "stream",
     "text": [
      "started acquisition function optimisation\n",
      "element id suggested: 61\n",
      "iteration 11 completed\n",
      "max fitness acquired: -2.9042000000000003\n",
      "min fitness acquired: -11.8322\n",
      "ids acquired: [0, 1, 2, 3, 4, 5, 6, 7, 8, 9, 10, 11, 12, 13, 14, 15, 16, 17, 18, 19, 20, 21, 22, 23, 24, 25, 26, 27, 28, 29, 30, 31, 32, 33, 34, 35, 36, 37, 38, 39, 40, 41, 42, 43, 44, 45, 46, 47, 48, 49, 50, 51, 52, 53, 54, 55, 56, 57, 58, 59, 60, 61]\n",
      "new fitness acquired: -10.2294\n"
     ]
    },
    {
     "name": "stderr",
     "output_type": "stream",
     "text": [
      "/rds/general/user/ma11115/home/anaconda3/envs/Geom3D/lib/python3.11/site-packages/botorch/models/utils/assorted.py:173: InputDataWarning: Input data is not contained to the unit cube. Please consider min-max scaling the input data.\n",
      "  warnings.warn(msg, InputDataWarning)\n"
     ]
    },
    {
     "name": "stdout",
     "output_type": "stream",
     "text": [
      "started acquisition function optimisation\n",
      "element id suggested: 62\n",
      "iteration 12 completed\n",
      "max fitness acquired: -2.9042000000000003\n",
      "min fitness acquired: -11.8322\n",
      "ids acquired: [0, 1, 2, 3, 4, 5, 6, 7, 8, 9, 10, 11, 12, 13, 14, 15, 16, 17, 18, 19, 20, 21, 22, 23, 24, 25, 26, 27, 28, 29, 30, 31, 32, 33, 34, 35, 36, 37, 38, 39, 40, 41, 42, 43, 44, 45, 46, 47, 48, 49, 50, 51, 52, 53, 54, 55, 56, 57, 58, 59, 60, 61, 62]\n",
      "new fitness acquired: -9.0392\n"
     ]
    },
    {
     "name": "stderr",
     "output_type": "stream",
     "text": [
      "/rds/general/user/ma11115/home/anaconda3/envs/Geom3D/lib/python3.11/site-packages/botorch/models/utils/assorted.py:173: InputDataWarning: Input data is not contained to the unit cube. Please consider min-max scaling the input data.\n",
      "  warnings.warn(msg, InputDataWarning)\n"
     ]
    },
    {
     "name": "stdout",
     "output_type": "stream",
     "text": [
      "started acquisition function optimisation\n",
      "element id suggested: 63\n",
      "iteration 13 completed\n",
      "max fitness acquired: -2.9042000000000003\n",
      "min fitness acquired: -11.8322\n",
      "ids acquired: [0, 1, 2, 3, 4, 5, 6, 7, 8, 9, 10, 11, 12, 13, 14, 15, 16, 17, 18, 19, 20, 21, 22, 23, 24, 25, 26, 27, 28, 29, 30, 31, 32, 33, 34, 35, 36, 37, 38, 39, 40, 41, 42, 43, 44, 45, 46, 47, 48, 49, 50, 51, 52, 53, 54, 55, 56, 57, 58, 59, 60, 61, 62, 63]\n",
      "new fitness acquired: -4.1455\n"
     ]
    },
    {
     "name": "stderr",
     "output_type": "stream",
     "text": [
      "/rds/general/user/ma11115/home/anaconda3/envs/Geom3D/lib/python3.11/site-packages/botorch/models/utils/assorted.py:173: InputDataWarning: Input data is not contained to the unit cube. Please consider min-max scaling the input data.\n",
      "  warnings.warn(msg, InputDataWarning)\n"
     ]
    },
    {
     "name": "stdout",
     "output_type": "stream",
     "text": [
      "started acquisition function optimisation\n",
      "element id suggested: 64\n",
      "iteration 14 completed\n",
      "max fitness acquired: -2.9042000000000003\n",
      "min fitness acquired: -11.8322\n",
      "ids acquired: [0, 1, 2, 3, 4, 5, 6, 7, 8, 9, 10, 11, 12, 13, 14, 15, 16, 17, 18, 19, 20, 21, 22, 23, 24, 25, 26, 27, 28, 29, 30, 31, 32, 33, 34, 35, 36, 37, 38, 39, 40, 41, 42, 43, 44, 45, 46, 47, 48, 49, 50, 51, 52, 53, 54, 55, 56, 57, 58, 59, 60, 61, 62, 63, 64]\n",
      "new fitness acquired: -4.0470999999999995\n"
     ]
    },
    {
     "name": "stderr",
     "output_type": "stream",
     "text": [
      "/rds/general/user/ma11115/home/anaconda3/envs/Geom3D/lib/python3.11/site-packages/botorch/models/utils/assorted.py:173: InputDataWarning: Input data is not contained to the unit cube. Please consider min-max scaling the input data.\n",
      "  warnings.warn(msg, InputDataWarning)\n"
     ]
    },
    {
     "name": "stdout",
     "output_type": "stream",
     "text": [
      "started acquisition function optimisation\n",
      "element id suggested: 65\n",
      "iteration 15 completed\n",
      "max fitness acquired: -2.9042000000000003\n",
      "min fitness acquired: -11.8322\n",
      "ids acquired: [0, 1, 2, 3, 4, 5, 6, 7, 8, 9, 10, 11, 12, 13, 14, 15, 16, 17, 18, 19, 20, 21, 22, 23, 24, 25, 26, 27, 28, 29, 30, 31, 32, 33, 34, 35, 36, 37, 38, 39, 40, 41, 42, 43, 44, 45, 46, 47, 48, 49, 50, 51, 52, 53, 54, 55, 56, 57, 58, 59, 60, 61, 62, 63, 64, 65]\n",
      "new fitness acquired: -4.9542\n"
     ]
    },
    {
     "name": "stderr",
     "output_type": "stream",
     "text": [
      "/rds/general/user/ma11115/home/anaconda3/envs/Geom3D/lib/python3.11/site-packages/botorch/models/utils/assorted.py:173: InputDataWarning: Input data is not contained to the unit cube. Please consider min-max scaling the input data.\n",
      "  warnings.warn(msg, InputDataWarning)\n"
     ]
    },
    {
     "name": "stdout",
     "output_type": "stream",
     "text": [
      "started acquisition function optimisation\n",
      "element id suggested: 66\n",
      "iteration 16 completed\n",
      "max fitness acquired: -2.9042000000000003\n",
      "min fitness acquired: -11.8322\n",
      "ids acquired: [0, 1, 2, 3, 4, 5, 6, 7, 8, 9, 10, 11, 12, 13, 14, 15, 16, 17, 18, 19, 20, 21, 22, 23, 24, 25, 26, 27, 28, 29, 30, 31, 32, 33, 34, 35, 36, 37, 38, 39, 40, 41, 42, 43, 44, 45, 46, 47, 48, 49, 50, 51, 52, 53, 54, 55, 56, 57, 58, 59, 60, 61, 62, 63, 64, 65, 66]\n",
      "new fitness acquired: -3.2842000000000002\n"
     ]
    },
    {
     "name": "stderr",
     "output_type": "stream",
     "text": [
      "/rds/general/user/ma11115/home/anaconda3/envs/Geom3D/lib/python3.11/site-packages/botorch/models/utils/assorted.py:173: InputDataWarning: Input data is not contained to the unit cube. Please consider min-max scaling the input data.\n",
      "  warnings.warn(msg, InputDataWarning)\n"
     ]
    },
    {
     "name": "stdout",
     "output_type": "stream",
     "text": [
      "started acquisition function optimisation\n",
      "element id suggested: 67\n",
      "iteration 17 completed\n",
      "max fitness acquired: -2.9042000000000003\n",
      "min fitness acquired: -11.8322\n",
      "ids acquired: [0, 1, 2, 3, 4, 5, 6, 7, 8, 9, 10, 11, 12, 13, 14, 15, 16, 17, 18, 19, 20, 21, 22, 23, 24, 25, 26, 27, 28, 29, 30, 31, 32, 33, 34, 35, 36, 37, 38, 39, 40, 41, 42, 43, 44, 45, 46, 47, 48, 49, 50, 51, 52, 53, 54, 55, 56, 57, 58, 59, 60, 61, 62, 63, 64, 65, 66, 67]\n",
      "new fitness acquired: -5.1424\n"
     ]
    },
    {
     "name": "stderr",
     "output_type": "stream",
     "text": [
      "/rds/general/user/ma11115/home/anaconda3/envs/Geom3D/lib/python3.11/site-packages/botorch/models/utils/assorted.py:173: InputDataWarning: Input data is not contained to the unit cube. Please consider min-max scaling the input data.\n",
      "  warnings.warn(msg, InputDataWarning)\n"
     ]
    },
    {
     "name": "stdout",
     "output_type": "stream",
     "text": [
      "started acquisition function optimisation\n",
      "element id suggested: 68\n",
      "iteration 18 completed\n",
      "max fitness acquired: -2.9042000000000003\n",
      "min fitness acquired: -11.8322\n",
      "ids acquired: [0, 1, 2, 3, 4, 5, 6, 7, 8, 9, 10, 11, 12, 13, 14, 15, 16, 17, 18, 19, 20, 21, 22, 23, 24, 25, 26, 27, 28, 29, 30, 31, 32, 33, 34, 35, 36, 37, 38, 39, 40, 41, 42, 43, 44, 45, 46, 47, 48, 49, 50, 51, 52, 53, 54, 55, 56, 57, 58, 59, 60, 61, 62, 63, 64, 65, 66, 67, 68]\n",
      "new fitness acquired: -3.2596999999999996\n"
     ]
    },
    {
     "name": "stderr",
     "output_type": "stream",
     "text": [
      "/rds/general/user/ma11115/home/anaconda3/envs/Geom3D/lib/python3.11/site-packages/botorch/models/utils/assorted.py:173: InputDataWarning: Input data is not contained to the unit cube. Please consider min-max scaling the input data.\n",
      "  warnings.warn(msg, InputDataWarning)\n"
     ]
    },
    {
     "name": "stdout",
     "output_type": "stream",
     "text": [
      "started acquisition function optimisation\n",
      "element id suggested: 69\n",
      "iteration 19 completed\n",
      "max fitness acquired: -2.9042000000000003\n",
      "min fitness acquired: -11.8322\n",
      "ids acquired: [0, 1, 2, 3, 4, 5, 6, 7, 8, 9, 10, 11, 12, 13, 14, 15, 16, 17, 18, 19, 20, 21, 22, 23, 24, 25, 26, 27, 28, 29, 30, 31, 32, 33, 34, 35, 36, 37, 38, 39, 40, 41, 42, 43, 44, 45, 46, 47, 48, 49, 50, 51, 52, 53, 54, 55, 56, 57, 58, 59, 60, 61, 62, 63, 64, 65, 66, 67, 68, 69]\n",
      "new fitness acquired: -7.548300000000001\n",
      "config loaded from /rds/general/user/ma11115/home/Geom3D/Geom3D/training/SchNet_frag/target_10000_0.0_frag_6\n",
      "config loaded from /rds/general/user/ma11115/home/Geom3D/Geom3D/training/SchNet_frag/target_40000_0.0_frag_6\n",
      "target_40000_0.0_frag_6/epoch=98-val_loss=0.05-other_metric=0.00.ckpt\n",
      "load representation from  /rds/general/user/ma11115/home/Geom3D/Geom3D/training/SchNet_frag//target_40000_0.0_frag_6\n",
      "size of data list 75000\n",
      "loading model from checkpoint /rds/general/user/ma11115/home/Geom3D/Geom3D/training/SchNet_frag//target_40000_0.0_frag_6/epoch=98-val_loss=0.05-other_metric=0.00.ckpt\n",
      "max fitness acquired: -3.9117\n",
      "min fitness acquired: -11.686200000000001\n"
     ]
    },
    {
     "name": "stderr",
     "output_type": "stream",
     "text": [
      "/rds/general/user/ma11115/home/anaconda3/envs/Geom3D/lib/python3.11/site-packages/botorch/models/utils/assorted.py:173: InputDataWarning: Input data is not contained to the unit cube. Please consider min-max scaling the input data.\n",
      "  warnings.warn(msg, InputDataWarning)\n"
     ]
    },
    {
     "name": "stdout",
     "output_type": "stream",
     "text": [
      "started acquisition function optimisation\n",
      "element id suggested: 50\n",
      "iteration 0 completed\n",
      "max fitness acquired: -3.9117\n",
      "min fitness acquired: -11.686200000000001\n",
      "ids acquired: [0, 1, 2, 3, 4, 5, 6, 7, 8, 9, 10, 11, 12, 13, 14, 15, 16, 17, 18, 19, 20, 21, 22, 23, 24, 25, 26, 27, 28, 29, 30, 31, 32, 33, 34, 35, 36, 37, 38, 39, 40, 41, 42, 43, 44, 45, 46, 47, 48, 49, 50]\n",
      "new fitness acquired: -11.6278\n"
     ]
    },
    {
     "name": "stderr",
     "output_type": "stream",
     "text": [
      "/rds/general/user/ma11115/home/anaconda3/envs/Geom3D/lib/python3.11/site-packages/botorch/models/utils/assorted.py:173: InputDataWarning: Input data is not contained to the unit cube. Please consider min-max scaling the input data.\n",
      "  warnings.warn(msg, InputDataWarning)\n"
     ]
    },
    {
     "name": "stdout",
     "output_type": "stream",
     "text": [
      "started acquisition function optimisation\n",
      "element id suggested: 51\n",
      "iteration 1 completed\n",
      "max fitness acquired: -3.9117\n",
      "min fitness acquired: -11.686200000000001\n",
      "ids acquired: [0, 1, 2, 3, 4, 5, 6, 7, 8, 9, 10, 11, 12, 13, 14, 15, 16, 17, 18, 19, 20, 21, 22, 23, 24, 25, 26, 27, 28, 29, 30, 31, 32, 33, 34, 35, 36, 37, 38, 39, 40, 41, 42, 43, 44, 45, 46, 47, 48, 49, 50, 51]\n",
      "new fitness acquired: -11.015\n"
     ]
    },
    {
     "name": "stderr",
     "output_type": "stream",
     "text": [
      "/rds/general/user/ma11115/home/anaconda3/envs/Geom3D/lib/python3.11/site-packages/botorch/models/utils/assorted.py:173: InputDataWarning: Input data is not contained to the unit cube. Please consider min-max scaling the input data.\n",
      "  warnings.warn(msg, InputDataWarning)\n"
     ]
    },
    {
     "name": "stdout",
     "output_type": "stream",
     "text": [
      "started acquisition function optimisation\n",
      "element id suggested: 52\n",
      "iteration 2 completed\n",
      "max fitness acquired: -3.9117\n",
      "min fitness acquired: -11.686200000000001\n",
      "ids acquired: [0, 1, 2, 3, 4, 5, 6, 7, 8, 9, 10, 11, 12, 13, 14, 15, 16, 17, 18, 19, 20, 21, 22, 23, 24, 25, 26, 27, 28, 29, 30, 31, 32, 33, 34, 35, 36, 37, 38, 39, 40, 41, 42, 43, 44, 45, 46, 47, 48, 49, 50, 51, 52]\n",
      "new fitness acquired: -4.6578\n"
     ]
    },
    {
     "name": "stderr",
     "output_type": "stream",
     "text": [
      "/rds/general/user/ma11115/home/anaconda3/envs/Geom3D/lib/python3.11/site-packages/botorch/models/utils/assorted.py:173: InputDataWarning: Input data is not contained to the unit cube. Please consider min-max scaling the input data.\n",
      "  warnings.warn(msg, InputDataWarning)\n"
     ]
    },
    {
     "name": "stdout",
     "output_type": "stream",
     "text": [
      "started acquisition function optimisation\n",
      "element id suggested: 53\n",
      "iteration 3 completed\n",
      "max fitness acquired: -3.9117\n",
      "min fitness acquired: -11.686200000000001\n",
      "ids acquired: [0, 1, 2, 3, 4, 5, 6, 7, 8, 9, 10, 11, 12, 13, 14, 15, 16, 17, 18, 19, 20, 21, 22, 23, 24, 25, 26, 27, 28, 29, 30, 31, 32, 33, 34, 35, 36, 37, 38, 39, 40, 41, 42, 43, 44, 45, 46, 47, 48, 49, 50, 51, 52, 53]\n",
      "new fitness acquired: -5.785799999999999\n"
     ]
    },
    {
     "name": "stderr",
     "output_type": "stream",
     "text": [
      "/rds/general/user/ma11115/home/anaconda3/envs/Geom3D/lib/python3.11/site-packages/botorch/models/utils/assorted.py:173: InputDataWarning: Input data is not contained to the unit cube. Please consider min-max scaling the input data.\n",
      "  warnings.warn(msg, InputDataWarning)\n"
     ]
    },
    {
     "name": "stdout",
     "output_type": "stream",
     "text": [
      "started acquisition function optimisation\n",
      "element id suggested: 54\n",
      "iteration 4 completed\n",
      "max fitness acquired: -3.9117\n",
      "min fitness acquired: -11.686200000000001\n",
      "ids acquired: [0, 1, 2, 3, 4, 5, 6, 7, 8, 9, 10, 11, 12, 13, 14, 15, 16, 17, 18, 19, 20, 21, 22, 23, 24, 25, 26, 27, 28, 29, 30, 31, 32, 33, 34, 35, 36, 37, 38, 39, 40, 41, 42, 43, 44, 45, 46, 47, 48, 49, 50, 51, 52, 53, 54]\n",
      "new fitness acquired: -4.5902\n"
     ]
    },
    {
     "name": "stderr",
     "output_type": "stream",
     "text": [
      "/rds/general/user/ma11115/home/anaconda3/envs/Geom3D/lib/python3.11/site-packages/botorch/models/utils/assorted.py:173: InputDataWarning: Input data is not contained to the unit cube. Please consider min-max scaling the input data.\n",
      "  warnings.warn(msg, InputDataWarning)\n"
     ]
    },
    {
     "name": "stdout",
     "output_type": "stream",
     "text": [
      "started acquisition function optimisation\n",
      "element id suggested: 55\n",
      "iteration 5 completed\n",
      "max fitness acquired: -3.3416999999999994\n",
      "min fitness acquired: -11.686200000000001\n",
      "ids acquired: [0, 1, 2, 3, 4, 5, 6, 7, 8, 9, 10, 11, 12, 13, 14, 15, 16, 17, 18, 19, 20, 21, 22, 23, 24, 25, 26, 27, 28, 29, 30, 31, 32, 33, 34, 35, 36, 37, 38, 39, 40, 41, 42, 43, 44, 45, 46, 47, 48, 49, 50, 51, 52, 53, 54, 55]\n",
      "new fitness acquired: -3.3416999999999994\n"
     ]
    },
    {
     "name": "stderr",
     "output_type": "stream",
     "text": [
      "/rds/general/user/ma11115/home/anaconda3/envs/Geom3D/lib/python3.11/site-packages/botorch/models/utils/assorted.py:173: InputDataWarning: Input data is not contained to the unit cube. Please consider min-max scaling the input data.\n",
      "  warnings.warn(msg, InputDataWarning)\n"
     ]
    },
    {
     "name": "stdout",
     "output_type": "stream",
     "text": [
      "started acquisition function optimisation\n",
      "element id suggested: 56\n",
      "iteration 6 completed\n",
      "max fitness acquired: -1.0552000000000001\n",
      "min fitness acquired: -11.686200000000001\n",
      "ids acquired: [0, 1, 2, 3, 4, 5, 6, 7, 8, 9, 10, 11, 12, 13, 14, 15, 16, 17, 18, 19, 20, 21, 22, 23, 24, 25, 26, 27, 28, 29, 30, 31, 32, 33, 34, 35, 36, 37, 38, 39, 40, 41, 42, 43, 44, 45, 46, 47, 48, 49, 50, 51, 52, 53, 54, 55, 56]\n",
      "new fitness acquired: -1.0552000000000001\n"
     ]
    },
    {
     "name": "stderr",
     "output_type": "stream",
     "text": [
      "/rds/general/user/ma11115/home/anaconda3/envs/Geom3D/lib/python3.11/site-packages/botorch/models/utils/assorted.py:173: InputDataWarning: Input data is not contained to the unit cube. Please consider min-max scaling the input data.\n",
      "  warnings.warn(msg, InputDataWarning)\n"
     ]
    },
    {
     "name": "stdout",
     "output_type": "stream",
     "text": [
      "started acquisition function optimisation\n",
      "element id suggested: 57\n",
      "iteration 7 completed\n",
      "max fitness acquired: -1.0552000000000001\n",
      "min fitness acquired: -11.686200000000001\n",
      "ids acquired: [0, 1, 2, 3, 4, 5, 6, 7, 8, 9, 10, 11, 12, 13, 14, 15, 16, 17, 18, 19, 20, 21, 22, 23, 24, 25, 26, 27, 28, 29, 30, 31, 32, 33, 34, 35, 36, 37, 38, 39, 40, 41, 42, 43, 44, 45, 46, 47, 48, 49, 50, 51, 52, 53, 54, 55, 56, 57]\n",
      "new fitness acquired: -4.3106\n"
     ]
    },
    {
     "name": "stderr",
     "output_type": "stream",
     "text": [
      "/rds/general/user/ma11115/home/anaconda3/envs/Geom3D/lib/python3.11/site-packages/botorch/models/utils/assorted.py:173: InputDataWarning: Input data is not contained to the unit cube. Please consider min-max scaling the input data.\n",
      "  warnings.warn(msg, InputDataWarning)\n"
     ]
    },
    {
     "name": "stdout",
     "output_type": "stream",
     "text": [
      "started acquisition function optimisation\n",
      "element id suggested: 58\n",
      "iteration 8 completed\n",
      "max fitness acquired: -1.0552000000000001\n",
      "min fitness acquired: -11.686200000000001\n",
      "ids acquired: [0, 1, 2, 3, 4, 5, 6, 7, 8, 9, 10, 11, 12, 13, 14, 15, 16, 17, 18, 19, 20, 21, 22, 23, 24, 25, 26, 27, 28, 29, 30, 31, 32, 33, 34, 35, 36, 37, 38, 39, 40, 41, 42, 43, 44, 45, 46, 47, 48, 49, 50, 51, 52, 53, 54, 55, 56, 57, 58]\n",
      "new fitness acquired: -5.2269\n"
     ]
    },
    {
     "name": "stderr",
     "output_type": "stream",
     "text": [
      "/rds/general/user/ma11115/home/anaconda3/envs/Geom3D/lib/python3.11/site-packages/botorch/models/utils/assorted.py:173: InputDataWarning: Input data is not contained to the unit cube. Please consider min-max scaling the input data.\n",
      "  warnings.warn(msg, InputDataWarning)\n"
     ]
    },
    {
     "name": "stdout",
     "output_type": "stream",
     "text": [
      "started acquisition function optimisation\n",
      "element id suggested: 59\n",
      "iteration 9 completed\n",
      "max fitness acquired: -1.0552000000000001\n",
      "min fitness acquired: -11.686200000000001\n",
      "ids acquired: [0, 1, 2, 3, 4, 5, 6, 7, 8, 9, 10, 11, 12, 13, 14, 15, 16, 17, 18, 19, 20, 21, 22, 23, 24, 25, 26, 27, 28, 29, 30, 31, 32, 33, 34, 35, 36, 37, 38, 39, 40, 41, 42, 43, 44, 45, 46, 47, 48, 49, 50, 51, 52, 53, 54, 55, 56, 57, 58, 59]\n",
      "new fitness acquired: -6.0217\n"
     ]
    },
    {
     "name": "stderr",
     "output_type": "stream",
     "text": [
      "/rds/general/user/ma11115/home/anaconda3/envs/Geom3D/lib/python3.11/site-packages/botorch/models/utils/assorted.py:173: InputDataWarning: Input data is not contained to the unit cube. Please consider min-max scaling the input data.\n",
      "  warnings.warn(msg, InputDataWarning)\n"
     ]
    },
    {
     "name": "stdout",
     "output_type": "stream",
     "text": [
      "started acquisition function optimisation\n",
      "element id suggested: 60\n",
      "iteration 10 completed\n",
      "max fitness acquired: -1.0552000000000001\n",
      "min fitness acquired: -11.686200000000001\n",
      "ids acquired: [0, 1, 2, 3, 4, 5, 6, 7, 8, 9, 10, 11, 12, 13, 14, 15, 16, 17, 18, 19, 20, 21, 22, 23, 24, 25, 26, 27, 28, 29, 30, 31, 32, 33, 34, 35, 36, 37, 38, 39, 40, 41, 42, 43, 44, 45, 46, 47, 48, 49, 50, 51, 52, 53, 54, 55, 56, 57, 58, 59, 60]\n",
      "new fitness acquired: -2.356499999999999\n"
     ]
    },
    {
     "name": "stderr",
     "output_type": "stream",
     "text": [
      "/rds/general/user/ma11115/home/anaconda3/envs/Geom3D/lib/python3.11/site-packages/botorch/models/utils/assorted.py:173: InputDataWarning: Input data is not contained to the unit cube. Please consider min-max scaling the input data.\n",
      "  warnings.warn(msg, InputDataWarning)\n"
     ]
    },
    {
     "name": "stdout",
     "output_type": "stream",
     "text": [
      "started acquisition function optimisation\n",
      "element id suggested: 61\n",
      "iteration 11 completed\n",
      "max fitness acquired: -1.0552000000000001\n",
      "min fitness acquired: -11.686200000000001\n",
      "ids acquired: [0, 1, 2, 3, 4, 5, 6, 7, 8, 9, 10, 11, 12, 13, 14, 15, 16, 17, 18, 19, 20, 21, 22, 23, 24, 25, 26, 27, 28, 29, 30, 31, 32, 33, 34, 35, 36, 37, 38, 39, 40, 41, 42, 43, 44, 45, 46, 47, 48, 49, 50, 51, 52, 53, 54, 55, 56, 57, 58, 59, 60, 61]\n",
      "new fitness acquired: -4.154\n"
     ]
    },
    {
     "name": "stderr",
     "output_type": "stream",
     "text": [
      "/rds/general/user/ma11115/home/anaconda3/envs/Geom3D/lib/python3.11/site-packages/botorch/models/utils/assorted.py:173: InputDataWarning: Input data is not contained to the unit cube. Please consider min-max scaling the input data.\n",
      "  warnings.warn(msg, InputDataWarning)\n"
     ]
    },
    {
     "name": "stdout",
     "output_type": "stream",
     "text": [
      "started acquisition function optimisation\n",
      "element id suggested: 62\n",
      "iteration 12 completed\n",
      "max fitness acquired: -1.0552000000000001\n",
      "min fitness acquired: -11.686200000000001\n",
      "ids acquired: [0, 1, 2, 3, 4, 5, 6, 7, 8, 9, 10, 11, 12, 13, 14, 15, 16, 17, 18, 19, 20, 21, 22, 23, 24, 25, 26, 27, 28, 29, 30, 31, 32, 33, 34, 35, 36, 37, 38, 39, 40, 41, 42, 43, 44, 45, 46, 47, 48, 49, 50, 51, 52, 53, 54, 55, 56, 57, 58, 59, 60, 61, 62]\n",
      "new fitness acquired: -3.0345999999999993\n"
     ]
    },
    {
     "name": "stderr",
     "output_type": "stream",
     "text": [
      "/rds/general/user/ma11115/home/anaconda3/envs/Geom3D/lib/python3.11/site-packages/botorch/models/utils/assorted.py:173: InputDataWarning: Input data is not contained to the unit cube. Please consider min-max scaling the input data.\n",
      "  warnings.warn(msg, InputDataWarning)\n"
     ]
    },
    {
     "name": "stdout",
     "output_type": "stream",
     "text": [
      "started acquisition function optimisation\n",
      "element id suggested: 63\n",
      "iteration 13 completed\n",
      "max fitness acquired: -1.0552000000000001\n",
      "min fitness acquired: -11.686200000000001\n",
      "ids acquired: [0, 1, 2, 3, 4, 5, 6, 7, 8, 9, 10, 11, 12, 13, 14, 15, 16, 17, 18, 19, 20, 21, 22, 23, 24, 25, 26, 27, 28, 29, 30, 31, 32, 33, 34, 35, 36, 37, 38, 39, 40, 41, 42, 43, 44, 45, 46, 47, 48, 49, 50, 51, 52, 53, 54, 55, 56, 57, 58, 59, 60, 61, 62, 63]\n",
      "new fitness acquired: -11.6246\n"
     ]
    },
    {
     "name": "stderr",
     "output_type": "stream",
     "text": [
      "/rds/general/user/ma11115/home/anaconda3/envs/Geom3D/lib/python3.11/site-packages/botorch/models/utils/assorted.py:173: InputDataWarning: Input data is not contained to the unit cube. Please consider min-max scaling the input data.\n",
      "  warnings.warn(msg, InputDataWarning)\n"
     ]
    },
    {
     "name": "stdout",
     "output_type": "stream",
     "text": [
      "started acquisition function optimisation\n",
      "element id suggested: 64\n",
      "iteration 14 completed\n",
      "max fitness acquired: -1.0552000000000001\n",
      "min fitness acquired: -11.686200000000001\n",
      "ids acquired: [0, 1, 2, 3, 4, 5, 6, 7, 8, 9, 10, 11, 12, 13, 14, 15, 16, 17, 18, 19, 20, 21, 22, 23, 24, 25, 26, 27, 28, 29, 30, 31, 32, 33, 34, 35, 36, 37, 38, 39, 40, 41, 42, 43, 44, 45, 46, 47, 48, 49, 50, 51, 52, 53, 54, 55, 56, 57, 58, 59, 60, 61, 62, 63, 64]\n",
      "new fitness acquired: -10.6815\n"
     ]
    },
    {
     "name": "stderr",
     "output_type": "stream",
     "text": [
      "/rds/general/user/ma11115/home/anaconda3/envs/Geom3D/lib/python3.11/site-packages/botorch/models/utils/assorted.py:173: InputDataWarning: Input data is not contained to the unit cube. Please consider min-max scaling the input data.\n",
      "  warnings.warn(msg, InputDataWarning)\n"
     ]
    },
    {
     "name": "stdout",
     "output_type": "stream",
     "text": [
      "started acquisition function optimisation\n",
      "element id suggested: 65\n",
      "iteration 15 completed\n",
      "max fitness acquired: -1.0552000000000001\n",
      "min fitness acquired: -11.686200000000001\n",
      "ids acquired: [0, 1, 2, 3, 4, 5, 6, 7, 8, 9, 10, 11, 12, 13, 14, 15, 16, 17, 18, 19, 20, 21, 22, 23, 24, 25, 26, 27, 28, 29, 30, 31, 32, 33, 34, 35, 36, 37, 38, 39, 40, 41, 42, 43, 44, 45, 46, 47, 48, 49, 50, 51, 52, 53, 54, 55, 56, 57, 58, 59, 60, 61, 62, 63, 64, 65]\n",
      "new fitness acquired: -3.3526000000000007\n"
     ]
    },
    {
     "name": "stderr",
     "output_type": "stream",
     "text": [
      "/rds/general/user/ma11115/home/anaconda3/envs/Geom3D/lib/python3.11/site-packages/botorch/models/utils/assorted.py:173: InputDataWarning: Input data is not contained to the unit cube. Please consider min-max scaling the input data.\n",
      "  warnings.warn(msg, InputDataWarning)\n"
     ]
    },
    {
     "name": "stdout",
     "output_type": "stream",
     "text": [
      "started acquisition function optimisation\n",
      "element id suggested: 66\n",
      "iteration 16 completed\n",
      "max fitness acquired: -1.0552000000000001\n",
      "min fitness acquired: -11.686200000000001\n",
      "ids acquired: [0, 1, 2, 3, 4, 5, 6, 7, 8, 9, 10, 11, 12, 13, 14, 15, 16, 17, 18, 19, 20, 21, 22, 23, 24, 25, 26, 27, 28, 29, 30, 31, 32, 33, 34, 35, 36, 37, 38, 39, 40, 41, 42, 43, 44, 45, 46, 47, 48, 49, 50, 51, 52, 53, 54, 55, 56, 57, 58, 59, 60, 61, 62, 63, 64, 65, 66]\n",
      "new fitness acquired: -6.1379\n"
     ]
    },
    {
     "name": "stderr",
     "output_type": "stream",
     "text": [
      "/rds/general/user/ma11115/home/anaconda3/envs/Geom3D/lib/python3.11/site-packages/botorch/models/utils/assorted.py:173: InputDataWarning: Input data is not contained to the unit cube. Please consider min-max scaling the input data.\n",
      "  warnings.warn(msg, InputDataWarning)\n"
     ]
    },
    {
     "name": "stdout",
     "output_type": "stream",
     "text": [
      "started acquisition function optimisation\n",
      "element id suggested: 67\n",
      "iteration 17 completed\n",
      "max fitness acquired: -1.0552000000000001\n",
      "min fitness acquired: -11.686200000000001\n",
      "ids acquired: [0, 1, 2, 3, 4, 5, 6, 7, 8, 9, 10, 11, 12, 13, 14, 15, 16, 17, 18, 19, 20, 21, 22, 23, 24, 25, 26, 27, 28, 29, 30, 31, 32, 33, 34, 35, 36, 37, 38, 39, 40, 41, 42, 43, 44, 45, 46, 47, 48, 49, 50, 51, 52, 53, 54, 55, 56, 57, 58, 59, 60, 61, 62, 63, 64, 65, 66, 67]\n",
      "new fitness acquired: -11.5849\n"
     ]
    },
    {
     "name": "stderr",
     "output_type": "stream",
     "text": [
      "/rds/general/user/ma11115/home/anaconda3/envs/Geom3D/lib/python3.11/site-packages/botorch/models/utils/assorted.py:173: InputDataWarning: Input data is not contained to the unit cube. Please consider min-max scaling the input data.\n",
      "  warnings.warn(msg, InputDataWarning)\n"
     ]
    },
    {
     "name": "stdout",
     "output_type": "stream",
     "text": [
      "started acquisition function optimisation\n",
      "element id suggested: 68\n",
      "iteration 18 completed\n",
      "max fitness acquired: -1.0552000000000001\n",
      "min fitness acquired: -11.686200000000001\n",
      "ids acquired: [0, 1, 2, 3, 4, 5, 6, 7, 8, 9, 10, 11, 12, 13, 14, 15, 16, 17, 18, 19, 20, 21, 22, 23, 24, 25, 26, 27, 28, 29, 30, 31, 32, 33, 34, 35, 36, 37, 38, 39, 40, 41, 42, 43, 44, 45, 46, 47, 48, 49, 50, 51, 52, 53, 54, 55, 56, 57, 58, 59, 60, 61, 62, 63, 64, 65, 66, 67, 68]\n",
      "new fitness acquired: -11.3116\n"
     ]
    },
    {
     "name": "stderr",
     "output_type": "stream",
     "text": [
      "/rds/general/user/ma11115/home/anaconda3/envs/Geom3D/lib/python3.11/site-packages/botorch/models/utils/assorted.py:173: InputDataWarning: Input data is not contained to the unit cube. Please consider min-max scaling the input data.\n",
      "  warnings.warn(msg, InputDataWarning)\n"
     ]
    },
    {
     "name": "stdout",
     "output_type": "stream",
     "text": [
      "started acquisition function optimisation\n",
      "element id suggested: 69\n",
      "iteration 19 completed\n",
      "max fitness acquired: -1.0552000000000001\n",
      "min fitness acquired: -11.686200000000001\n",
      "ids acquired: [0, 1, 2, 3, 4, 5, 6, 7, 8, 9, 10, 11, 12, 13, 14, 15, 16, 17, 18, 19, 20, 21, 22, 23, 24, 25, 26, 27, 28, 29, 30, 31, 32, 33, 34, 35, 36, 37, 38, 39, 40, 41, 42, 43, 44, 45, 46, 47, 48, 49, 50, 51, 52, 53, 54, 55, 56, 57, 58, 59, 60, 61, 62, 63, 64, 65, 66, 67, 68, 69]\n",
      "new fitness acquired: -2.6626000000000003\n",
      "config loaded from /rds/general/user/ma11115/home/Geom3D/Geom3D/training/SchNet_frag/target_40000_0.0_frag_6\n",
      "config loaded from /rds/general/user/ma11115/home/Geom3D/Geom3D/training/SchNet_frag/target_75000_0.0_frag_6\n",
      "target_75000_0.0_frag_6/epoch=59-val_loss=0.05-other_metric=0.00.ckpt\n",
      "load representation from  /rds/general/user/ma11115/home/Geom3D/Geom3D/training/SchNet_frag//target_75000_0.0_frag_6\n",
      "size of data list 75307\n",
      "loading model from checkpoint /rds/general/user/ma11115/home/Geom3D/Geom3D/training/SchNet_frag//target_75000_0.0_frag_6/epoch=59-val_loss=0.05-other_metric=0.00.ckpt\n",
      "max fitness acquired: -5.4068\n",
      "min fitness acquired: -12.034899999999999\n"
     ]
    },
    {
     "name": "stderr",
     "output_type": "stream",
     "text": [
      "/rds/general/user/ma11115/home/anaconda3/envs/Geom3D/lib/python3.11/site-packages/botorch/models/utils/assorted.py:173: InputDataWarning: Input data is not contained to the unit cube. Please consider min-max scaling the input data.\n",
      "  warnings.warn(msg, InputDataWarning)\n"
     ]
    },
    {
     "name": "stdout",
     "output_type": "stream",
     "text": [
      "started acquisition function optimisation\n",
      "element id suggested: 50\n",
      "iteration 0 completed\n",
      "max fitness acquired: -2.0793\n",
      "min fitness acquired: -12.034899999999999\n",
      "ids acquired: [0, 1, 2, 3, 4, 5, 6, 7, 8, 9, 10, 11, 12, 13, 14, 15, 16, 17, 18, 19, 20, 21, 22, 23, 24, 25, 26, 27, 28, 29, 30, 31, 32, 33, 34, 35, 36, 37, 38, 39, 40, 41, 42, 43, 44, 45, 46, 47, 48, 49, 50]\n",
      "new fitness acquired: -2.0793\n"
     ]
    },
    {
     "name": "stderr",
     "output_type": "stream",
     "text": [
      "/rds/general/user/ma11115/home/anaconda3/envs/Geom3D/lib/python3.11/site-packages/botorch/models/utils/assorted.py:173: InputDataWarning: Input data is not contained to the unit cube. Please consider min-max scaling the input data.\n",
      "  warnings.warn(msg, InputDataWarning)\n"
     ]
    },
    {
     "name": "stdout",
     "output_type": "stream",
     "text": [
      "started acquisition function optimisation\n",
      "element id suggested: 51\n",
      "iteration 1 completed\n",
      "max fitness acquired: -2.0793\n",
      "min fitness acquired: -12.034899999999999\n",
      "ids acquired: [0, 1, 2, 3, 4, 5, 6, 7, 8, 9, 10, 11, 12, 13, 14, 15, 16, 17, 18, 19, 20, 21, 22, 23, 24, 25, 26, 27, 28, 29, 30, 31, 32, 33, 34, 35, 36, 37, 38, 39, 40, 41, 42, 43, 44, 45, 46, 47, 48, 49, 50, 51]\n",
      "new fitness acquired: -5.1434999999999995\n"
     ]
    },
    {
     "name": "stderr",
     "output_type": "stream",
     "text": [
      "/rds/general/user/ma11115/home/anaconda3/envs/Geom3D/lib/python3.11/site-packages/botorch/models/utils/assorted.py:173: InputDataWarning: Input data is not contained to the unit cube. Please consider min-max scaling the input data.\n",
      "  warnings.warn(msg, InputDataWarning)\n"
     ]
    },
    {
     "name": "stdout",
     "output_type": "stream",
     "text": [
      "started acquisition function optimisation\n",
      "element id suggested: 52\n",
      "iteration 2 completed\n",
      "max fitness acquired: -2.0793\n",
      "min fitness acquired: -12.034899999999999\n",
      "ids acquired: [0, 1, 2, 3, 4, 5, 6, 7, 8, 9, 10, 11, 12, 13, 14, 15, 16, 17, 18, 19, 20, 21, 22, 23, 24, 25, 26, 27, 28, 29, 30, 31, 32, 33, 34, 35, 36, 37, 38, 39, 40, 41, 42, 43, 44, 45, 46, 47, 48, 49, 50, 51, 52]\n",
      "new fitness acquired: -4.4796000000000005\n"
     ]
    },
    {
     "name": "stderr",
     "output_type": "stream",
     "text": [
      "/rds/general/user/ma11115/home/anaconda3/envs/Geom3D/lib/python3.11/site-packages/botorch/models/utils/assorted.py:173: InputDataWarning: Input data is not contained to the unit cube. Please consider min-max scaling the input data.\n",
      "  warnings.warn(msg, InputDataWarning)\n"
     ]
    },
    {
     "name": "stdout",
     "output_type": "stream",
     "text": [
      "started acquisition function optimisation\n",
      "element id suggested: 53\n",
      "iteration 3 completed\n",
      "max fitness acquired: -2.0793\n",
      "min fitness acquired: -12.034899999999999\n",
      "ids acquired: [0, 1, 2, 3, 4, 5, 6, 7, 8, 9, 10, 11, 12, 13, 14, 15, 16, 17, 18, 19, 20, 21, 22, 23, 24, 25, 26, 27, 28, 29, 30, 31, 32, 33, 34, 35, 36, 37, 38, 39, 40, 41, 42, 43, 44, 45, 46, 47, 48, 49, 50, 51, 52, 53]\n",
      "new fitness acquired: -3.3172999999999995\n"
     ]
    },
    {
     "name": "stderr",
     "output_type": "stream",
     "text": [
      "/rds/general/user/ma11115/home/anaconda3/envs/Geom3D/lib/python3.11/site-packages/botorch/models/utils/assorted.py:173: InputDataWarning: Input data is not contained to the unit cube. Please consider min-max scaling the input data.\n",
      "  warnings.warn(msg, InputDataWarning)\n"
     ]
    },
    {
     "name": "stdout",
     "output_type": "stream",
     "text": [
      "started acquisition function optimisation\n",
      "element id suggested: 54\n",
      "iteration 4 completed\n",
      "max fitness acquired: -2.0793\n",
      "min fitness acquired: -12.034899999999999\n",
      "ids acquired: [0, 1, 2, 3, 4, 5, 6, 7, 8, 9, 10, 11, 12, 13, 14, 15, 16, 17, 18, 19, 20, 21, 22, 23, 24, 25, 26, 27, 28, 29, 30, 31, 32, 33, 34, 35, 36, 37, 38, 39, 40, 41, 42, 43, 44, 45, 46, 47, 48, 49, 50, 51, 52, 53, 54]\n",
      "new fitness acquired: -5.4632000000000005\n"
     ]
    },
    {
     "name": "stderr",
     "output_type": "stream",
     "text": [
      "/rds/general/user/ma11115/home/anaconda3/envs/Geom3D/lib/python3.11/site-packages/botorch/models/utils/assorted.py:173: InputDataWarning: Input data is not contained to the unit cube. Please consider min-max scaling the input data.\n",
      "  warnings.warn(msg, InputDataWarning)\n"
     ]
    },
    {
     "name": "stdout",
     "output_type": "stream",
     "text": [
      "started acquisition function optimisation\n",
      "element id suggested: 55\n",
      "iteration 5 completed\n",
      "max fitness acquired: -2.0793\n",
      "min fitness acquired: -12.034899999999999\n",
      "ids acquired: [0, 1, 2, 3, 4, 5, 6, 7, 8, 9, 10, 11, 12, 13, 14, 15, 16, 17, 18, 19, 20, 21, 22, 23, 24, 25, 26, 27, 28, 29, 30, 31, 32, 33, 34, 35, 36, 37, 38, 39, 40, 41, 42, 43, 44, 45, 46, 47, 48, 49, 50, 51, 52, 53, 54, 55]\n",
      "new fitness acquired: -3.7067000000000005\n"
     ]
    },
    {
     "name": "stderr",
     "output_type": "stream",
     "text": [
      "/rds/general/user/ma11115/home/anaconda3/envs/Geom3D/lib/python3.11/site-packages/botorch/models/utils/assorted.py:173: InputDataWarning: Input data is not contained to the unit cube. Please consider min-max scaling the input data.\n",
      "  warnings.warn(msg, InputDataWarning)\n"
     ]
    },
    {
     "name": "stdout",
     "output_type": "stream",
     "text": [
      "started acquisition function optimisation\n",
      "element id suggested: 56\n",
      "iteration 6 completed\n",
      "max fitness acquired: -2.0793\n",
      "min fitness acquired: -12.034899999999999\n",
      "ids acquired: [0, 1, 2, 3, 4, 5, 6, 7, 8, 9, 10, 11, 12, 13, 14, 15, 16, 17, 18, 19, 20, 21, 22, 23, 24, 25, 26, 27, 28, 29, 30, 31, 32, 33, 34, 35, 36, 37, 38, 39, 40, 41, 42, 43, 44, 45, 46, 47, 48, 49, 50, 51, 52, 53, 54, 55, 56]\n",
      "new fitness acquired: -4.483300000000001\n"
     ]
    },
    {
     "name": "stderr",
     "output_type": "stream",
     "text": [
      "/rds/general/user/ma11115/home/anaconda3/envs/Geom3D/lib/python3.11/site-packages/botorch/models/utils/assorted.py:173: InputDataWarning: Input data is not contained to the unit cube. Please consider min-max scaling the input data.\n",
      "  warnings.warn(msg, InputDataWarning)\n"
     ]
    },
    {
     "name": "stdout",
     "output_type": "stream",
     "text": [
      "started acquisition function optimisation\n",
      "element id suggested: 57\n",
      "iteration 7 completed\n",
      "max fitness acquired: -2.0793\n",
      "min fitness acquired: -12.034899999999999\n",
      "ids acquired: [0, 1, 2, 3, 4, 5, 6, 7, 8, 9, 10, 11, 12, 13, 14, 15, 16, 17, 18, 19, 20, 21, 22, 23, 24, 25, 26, 27, 28, 29, 30, 31, 32, 33, 34, 35, 36, 37, 38, 39, 40, 41, 42, 43, 44, 45, 46, 47, 48, 49, 50, 51, 52, 53, 54, 55, 56, 57]\n",
      "new fitness acquired: -4.9536999999999995\n"
     ]
    },
    {
     "name": "stderr",
     "output_type": "stream",
     "text": [
      "/rds/general/user/ma11115/home/anaconda3/envs/Geom3D/lib/python3.11/site-packages/botorch/models/utils/assorted.py:173: InputDataWarning: Input data is not contained to the unit cube. Please consider min-max scaling the input data.\n",
      "  warnings.warn(msg, InputDataWarning)\n"
     ]
    },
    {
     "name": "stdout",
     "output_type": "stream",
     "text": [
      "started acquisition function optimisation\n",
      "element id suggested: 58\n",
      "iteration 8 completed\n",
      "max fitness acquired: -2.0793\n",
      "min fitness acquired: -12.034899999999999\n",
      "ids acquired: [0, 1, 2, 3, 4, 5, 6, 7, 8, 9, 10, 11, 12, 13, 14, 15, 16, 17, 18, 19, 20, 21, 22, 23, 24, 25, 26, 27, 28, 29, 30, 31, 32, 33, 34, 35, 36, 37, 38, 39, 40, 41, 42, 43, 44, 45, 46, 47, 48, 49, 50, 51, 52, 53, 54, 55, 56, 57, 58]\n",
      "new fitness acquired: -3.7888\n"
     ]
    },
    {
     "name": "stderr",
     "output_type": "stream",
     "text": [
      "/rds/general/user/ma11115/home/anaconda3/envs/Geom3D/lib/python3.11/site-packages/botorch/models/utils/assorted.py:173: InputDataWarning: Input data is not contained to the unit cube. Please consider min-max scaling the input data.\n",
      "  warnings.warn(msg, InputDataWarning)\n"
     ]
    },
    {
     "name": "stdout",
     "output_type": "stream",
     "text": [
      "started acquisition function optimisation\n",
      "element id suggested: 59\n",
      "iteration 9 completed\n",
      "max fitness acquired: -2.0793\n",
      "min fitness acquired: -12.034899999999999\n",
      "ids acquired: [0, 1, 2, 3, 4, 5, 6, 7, 8, 9, 10, 11, 12, 13, 14, 15, 16, 17, 18, 19, 20, 21, 22, 23, 24, 25, 26, 27, 28, 29, 30, 31, 32, 33, 34, 35, 36, 37, 38, 39, 40, 41, 42, 43, 44, 45, 46, 47, 48, 49, 50, 51, 52, 53, 54, 55, 56, 57, 58, 59]\n",
      "new fitness acquired: -4.6129999999999995\n"
     ]
    },
    {
     "name": "stderr",
     "output_type": "stream",
     "text": [
      "/rds/general/user/ma11115/home/anaconda3/envs/Geom3D/lib/python3.11/site-packages/botorch/models/utils/assorted.py:173: InputDataWarning: Input data is not contained to the unit cube. Please consider min-max scaling the input data.\n",
      "  warnings.warn(msg, InputDataWarning)\n"
     ]
    },
    {
     "name": "stdout",
     "output_type": "stream",
     "text": [
      "started acquisition function optimisation\n",
      "element id suggested: 60\n",
      "iteration 10 completed\n",
      "max fitness acquired: -2.0793\n",
      "min fitness acquired: -12.034899999999999\n",
      "ids acquired: [0, 1, 2, 3, 4, 5, 6, 7, 8, 9, 10, 11, 12, 13, 14, 15, 16, 17, 18, 19, 20, 21, 22, 23, 24, 25, 26, 27, 28, 29, 30, 31, 32, 33, 34, 35, 36, 37, 38, 39, 40, 41, 42, 43, 44, 45, 46, 47, 48, 49, 50, 51, 52, 53, 54, 55, 56, 57, 58, 59, 60]\n",
      "new fitness acquired: -3.5184000000000006\n"
     ]
    },
    {
     "name": "stderr",
     "output_type": "stream",
     "text": [
      "/rds/general/user/ma11115/home/anaconda3/envs/Geom3D/lib/python3.11/site-packages/botorch/models/utils/assorted.py:173: InputDataWarning: Input data is not contained to the unit cube. Please consider min-max scaling the input data.\n",
      "  warnings.warn(msg, InputDataWarning)\n"
     ]
    },
    {
     "name": "stdout",
     "output_type": "stream",
     "text": [
      "started acquisition function optimisation\n",
      "element id suggested: 61\n",
      "iteration 11 completed\n",
      "max fitness acquired: -2.0793\n",
      "min fitness acquired: -12.034899999999999\n",
      "ids acquired: [0, 1, 2, 3, 4, 5, 6, 7, 8, 9, 10, 11, 12, 13, 14, 15, 16, 17, 18, 19, 20, 21, 22, 23, 24, 25, 26, 27, 28, 29, 30, 31, 32, 33, 34, 35, 36, 37, 38, 39, 40, 41, 42, 43, 44, 45, 46, 47, 48, 49, 50, 51, 52, 53, 54, 55, 56, 57, 58, 59, 60, 61]\n",
      "new fitness acquired: -4.0276\n"
     ]
    },
    {
     "name": "stderr",
     "output_type": "stream",
     "text": [
      "/rds/general/user/ma11115/home/anaconda3/envs/Geom3D/lib/python3.11/site-packages/botorch/models/utils/assorted.py:173: InputDataWarning: Input data is not contained to the unit cube. Please consider min-max scaling the input data.\n",
      "  warnings.warn(msg, InputDataWarning)\n"
     ]
    },
    {
     "name": "stdout",
     "output_type": "stream",
     "text": [
      "started acquisition function optimisation\n",
      "element id suggested: 62\n",
      "iteration 12 completed\n",
      "max fitness acquired: -2.0793\n",
      "min fitness acquired: -12.034899999999999\n",
      "ids acquired: [0, 1, 2, 3, 4, 5, 6, 7, 8, 9, 10, 11, 12, 13, 14, 15, 16, 17, 18, 19, 20, 21, 22, 23, 24, 25, 26, 27, 28, 29, 30, 31, 32, 33, 34, 35, 36, 37, 38, 39, 40, 41, 42, 43, 44, 45, 46, 47, 48, 49, 50, 51, 52, 53, 54, 55, 56, 57, 58, 59, 60, 61, 62]\n",
      "new fitness acquired: -5.3979\n"
     ]
    },
    {
     "name": "stderr",
     "output_type": "stream",
     "text": [
      "/rds/general/user/ma11115/home/anaconda3/envs/Geom3D/lib/python3.11/site-packages/botorch/models/utils/assorted.py:173: InputDataWarning: Input data is not contained to the unit cube. Please consider min-max scaling the input data.\n",
      "  warnings.warn(msg, InputDataWarning)\n"
     ]
    },
    {
     "name": "stdout",
     "output_type": "stream",
     "text": [
      "started acquisition function optimisation\n",
      "element id suggested: 63\n",
      "iteration 13 completed\n",
      "max fitness acquired: -2.0793\n",
      "min fitness acquired: -12.034899999999999\n",
      "ids acquired: [0, 1, 2, 3, 4, 5, 6, 7, 8, 9, 10, 11, 12, 13, 14, 15, 16, 17, 18, 19, 20, 21, 22, 23, 24, 25, 26, 27, 28, 29, 30, 31, 32, 33, 34, 35, 36, 37, 38, 39, 40, 41, 42, 43, 44, 45, 46, 47, 48, 49, 50, 51, 52, 53, 54, 55, 56, 57, 58, 59, 60, 61, 62, 63]\n",
      "new fitness acquired: -3.8749999999999996\n"
     ]
    },
    {
     "name": "stderr",
     "output_type": "stream",
     "text": [
      "/rds/general/user/ma11115/home/anaconda3/envs/Geom3D/lib/python3.11/site-packages/botorch/models/utils/assorted.py:173: InputDataWarning: Input data is not contained to the unit cube. Please consider min-max scaling the input data.\n",
      "  warnings.warn(msg, InputDataWarning)\n"
     ]
    },
    {
     "name": "stdout",
     "output_type": "stream",
     "text": [
      "started acquisition function optimisation\n",
      "element id suggested: 64\n",
      "iteration 14 completed\n",
      "max fitness acquired: -2.0793\n",
      "min fitness acquired: -12.034899999999999\n",
      "ids acquired: [0, 1, 2, 3, 4, 5, 6, 7, 8, 9, 10, 11, 12, 13, 14, 15, 16, 17, 18, 19, 20, 21, 22, 23, 24, 25, 26, 27, 28, 29, 30, 31, 32, 33, 34, 35, 36, 37, 38, 39, 40, 41, 42, 43, 44, 45, 46, 47, 48, 49, 50, 51, 52, 53, 54, 55, 56, 57, 58, 59, 60, 61, 62, 63, 64]\n",
      "new fitness acquired: -4.1614\n"
     ]
    },
    {
     "name": "stderr",
     "output_type": "stream",
     "text": [
      "/rds/general/user/ma11115/home/anaconda3/envs/Geom3D/lib/python3.11/site-packages/botorch/models/utils/assorted.py:173: InputDataWarning: Input data is not contained to the unit cube. Please consider min-max scaling the input data.\n",
      "  warnings.warn(msg, InputDataWarning)\n"
     ]
    },
    {
     "name": "stdout",
     "output_type": "stream",
     "text": [
      "started acquisition function optimisation\n",
      "element id suggested: 65\n",
      "iteration 15 completed\n",
      "max fitness acquired: -2.0793\n",
      "min fitness acquired: -12.034899999999999\n",
      "ids acquired: [0, 1, 2, 3, 4, 5, 6, 7, 8, 9, 10, 11, 12, 13, 14, 15, 16, 17, 18, 19, 20, 21, 22, 23, 24, 25, 26, 27, 28, 29, 30, 31, 32, 33, 34, 35, 36, 37, 38, 39, 40, 41, 42, 43, 44, 45, 46, 47, 48, 49, 50, 51, 52, 53, 54, 55, 56, 57, 58, 59, 60, 61, 62, 63, 64, 65]\n",
      "new fitness acquired: -4.574\n"
     ]
    },
    {
     "name": "stderr",
     "output_type": "stream",
     "text": [
      "/rds/general/user/ma11115/home/anaconda3/envs/Geom3D/lib/python3.11/site-packages/botorch/models/utils/assorted.py:173: InputDataWarning: Input data is not contained to the unit cube. Please consider min-max scaling the input data.\n",
      "  warnings.warn(msg, InputDataWarning)\n"
     ]
    },
    {
     "name": "stdout",
     "output_type": "stream",
     "text": [
      "started acquisition function optimisation\n",
      "element id suggested: 66\n",
      "iteration 16 completed\n",
      "max fitness acquired: -2.0793\n",
      "min fitness acquired: -12.034899999999999\n",
      "ids acquired: [0, 1, 2, 3, 4, 5, 6, 7, 8, 9, 10, 11, 12, 13, 14, 15, 16, 17, 18, 19, 20, 21, 22, 23, 24, 25, 26, 27, 28, 29, 30, 31, 32, 33, 34, 35, 36, 37, 38, 39, 40, 41, 42, 43, 44, 45, 46, 47, 48, 49, 50, 51, 52, 53, 54, 55, 56, 57, 58, 59, 60, 61, 62, 63, 64, 65, 66]\n",
      "new fitness acquired: -4.9477\n"
     ]
    },
    {
     "name": "stderr",
     "output_type": "stream",
     "text": [
      "/rds/general/user/ma11115/home/anaconda3/envs/Geom3D/lib/python3.11/site-packages/botorch/models/utils/assorted.py:173: InputDataWarning: Input data is not contained to the unit cube. Please consider min-max scaling the input data.\n",
      "  warnings.warn(msg, InputDataWarning)\n"
     ]
    },
    {
     "name": "stdout",
     "output_type": "stream",
     "text": [
      "started acquisition function optimisation\n",
      "element id suggested: 67\n",
      "iteration 17 completed\n",
      "max fitness acquired: -2.0793\n",
      "min fitness acquired: -12.034899999999999\n",
      "ids acquired: [0, 1, 2, 3, 4, 5, 6, 7, 8, 9, 10, 11, 12, 13, 14, 15, 16, 17, 18, 19, 20, 21, 22, 23, 24, 25, 26, 27, 28, 29, 30, 31, 32, 33, 34, 35, 36, 37, 38, 39, 40, 41, 42, 43, 44, 45, 46, 47, 48, 49, 50, 51, 52, 53, 54, 55, 56, 57, 58, 59, 60, 61, 62, 63, 64, 65, 66, 67]\n",
      "new fitness acquired: -11.674299999999999\n"
     ]
    },
    {
     "name": "stderr",
     "output_type": "stream",
     "text": [
      "/rds/general/user/ma11115/home/anaconda3/envs/Geom3D/lib/python3.11/site-packages/botorch/models/utils/assorted.py:173: InputDataWarning: Input data is not contained to the unit cube. Please consider min-max scaling the input data.\n",
      "  warnings.warn(msg, InputDataWarning)\n"
     ]
    },
    {
     "name": "stdout",
     "output_type": "stream",
     "text": [
      "started acquisition function optimisation\n",
      "element id suggested: 68\n",
      "iteration 18 completed\n",
      "max fitness acquired: -2.0793\n",
      "min fitness acquired: -12.034899999999999\n",
      "ids acquired: [0, 1, 2, 3, 4, 5, 6, 7, 8, 9, 10, 11, 12, 13, 14, 15, 16, 17, 18, 19, 20, 21, 22, 23, 24, 25, 26, 27, 28, 29, 30, 31, 32, 33, 34, 35, 36, 37, 38, 39, 40, 41, 42, 43, 44, 45, 46, 47, 48, 49, 50, 51, 52, 53, 54, 55, 56, 57, 58, 59, 60, 61, 62, 63, 64, 65, 66, 67, 68]\n",
      "new fitness acquired: -4.149100000000001\n"
     ]
    },
    {
     "name": "stderr",
     "output_type": "stream",
     "text": [
      "/rds/general/user/ma11115/home/anaconda3/envs/Geom3D/lib/python3.11/site-packages/botorch/models/utils/assorted.py:173: InputDataWarning: Input data is not contained to the unit cube. Please consider min-max scaling the input data.\n",
      "  warnings.warn(msg, InputDataWarning)\n"
     ]
    },
    {
     "name": "stdout",
     "output_type": "stream",
     "text": [
      "started acquisition function optimisation\n",
      "element id suggested: 69\n",
      "iteration 19 completed\n",
      "max fitness acquired: -2.0793\n",
      "min fitness acquired: -12.034899999999999\n",
      "ids acquired: [0, 1, 2, 3, 4, 5, 6, 7, 8, 9, 10, 11, 12, 13, 14, 15, 16, 17, 18, 19, 20, 21, 22, 23, 24, 25, 26, 27, 28, 29, 30, 31, 32, 33, 34, 35, 36, 37, 38, 39, 40, 41, 42, 43, 44, 45, 46, 47, 48, 49, 50, 51, 52, 53, 54, 55, 56, 57, 58, 59, 60, 61, 62, 63, 64, 65, 66, 67, 68, 69]\n",
      "new fitness acquired: -4.883700000000001\n",
      "config loaded from /rds/general/user/ma11115/home/Geom3D/Geom3D/training/SchNet_frag/target_75000_0.0_frag_6\n"
     ]
    }
   ],
   "source": [
    "#!python src/dev_scripts/run_search_test.py --num_iteration 10 --num_elem_initialisation 10 --case evolution_algorithm --test_name evolution_algorithm\n",
    "import importlib\n",
    "importlib.reload(Bayesian_Optimisation)\n",
    "dict_targets = {'target':0,'fosc1':10,'ES1':3,'IP':5.5}#\n",
    "num_molecules_list = [5000,10000,40000,75000]\n",
    "for test_name in ['graph_frag']:#'ea_surrogate','random','graph_frag','ea_surrogate','random','precursor','evolution_algorithm'\n",
    "    print(test_name+'\\n')\n",
    "\n",
    "    for target_name,aim in dict_targets.items():\n",
    "        if target_name != 'target':\n",
    "            continue\n",
    "        if test_name == 'ea_surrogate' or test_name == 'graph_frag':\n",
    "            for i,num_molecules in enumerate(num_molecules_list):\n",
    "                name = f\"{target_name}_{num_molecules}_{aim:.1f}_frag_6\"\n",
    "                config_dir = f\"/rds/general/user/ma11115/home/Geom3D/Geom3D/training/SchNet_frag/{name}\"\n",
    "                %run src/dev_scripts/run_search_test.py --num_iteration 20 --num_elem_initialisation 50 --case {test_name} --test_name {test_name}_{target_name}_{num_molecules} --config_dir {config_dir} --target {target_name} --aim {aim}\n",
    "        else:\n",
    "            %run src/dev_scripts/run_search_test.py --num_iteration 2 --num_elem_initialisation 10 --case {test_name} --test_name {test_name}_{target_name} --target {target_name} --aim {aim}"
   ]
  },
  {
   "cell_type": "code",
   "execution_count": 9,
   "metadata": {},
   "outputs": [
    {
     "name": "stdout",
     "output_type": "stream",
     "text": [
      "graph_frag\n",
      "\n"
     ]
    },
    {
     "name": "stdout",
     "output_type": "stream",
     "text": [
      "8839139[].pbs\n",
      "8839140[].pbs\n",
      "8839141[].pbs\n"
     ]
    }
   ],
   "source": [
    "#testing optimisation\n",
    "dict_targets = {'target':0}#,'fosc1':10,'ES1':3,'IP':5.5}#\n",
    "num_molecules_list = [75000]\n",
    "for test_name in ['graph_frag']:#['ea_surrogate','random','graph_frag','precursor','evolution_algorithm']:\n",
    "    print(test_name+'\\n')\n",
    "    for target_name,aim in dict_targets.items():\n",
    "        if test_name == 'ea_surrogate' or test_name == 'graph_frag':\n",
    "            for i,num_molecules in enumerate(num_molecules_list):\n",
    "                for lim_counter in [0,2,5]:\n",
    "                    name = f\"{target_name}_{num_molecules}_{aim:.1f}_frag_6\"\n",
    "                    config_dir = f\"/rds/general/user/ma11115/home/Geom3D/Geom3D/training/SchNet_frag/{name}\"\n",
    "                    script = \"#!/bin/bash \\n\"+\\\n",
    "                        \"#PBS -l walltime=07:59:01 \\n\"+\\\n",
    "                        \"#PBS -l select=1:ncpus=8:mem=50gb:avx=true \\n\"+\\\n",
    "                        \"#PBS -J 1-25 \\n\"+\\\n",
    "                        \" \\n\"+\\\n",
    "                        \"cd /rds/general/user/ma11115/home/STK_Search/STK_search \\n\"+\\\n",
    "                        \"module load anaconda3/personal \\n\"+ \\\n",
    "                        \"source activate Geom3D     \\n\"+\\\n",
    "                        f\"python src/dev_scripts/run_search_test.py --num_iteration 500 --num_elem_initialisation 50 --case {test_name} --test_name {test_name}_{target_name}_{num_molecules}_opt_count_{lim_counter}\"+\\\n",
    "                        f\" --config_dir {config_dir} --target {target_name} --aim {aim} --which_acquisition EI --lim_counter {lim_counter}\"\n",
    "                    #print(script) \n",
    "                    with open(f'HPC_bash_script/Runsearch_{test_name}_{target_name}_{num_molecules}_{lim_counter}.sh', 'wb') as f:\n",
    "                        f.write( bytes(script, 'utf-8'))  \n",
    "                    \n",
    "                    !qsub  -e ./cache -o ./cache HPC_bash_script/Runsearch_{test_name}_{target_name}_{num_molecules}_{lim_counter}.sh"
   ]
  },
  {
   "cell_type": "code",
   "execution_count": 3,
   "metadata": {},
   "outputs": [
    {
     "name": "stdout",
     "output_type": "stream",
     "text": [
      "ea_surrogate\n",
      "\n",
      "8847830[].pbs\n",
      "8847831[].pbs\n",
      "8847832[].pbs\n",
      "8847833[].pbs\n",
      "8847834[].pbs\n",
      "8847835[].pbs\n",
      "8847836[].pbs\n",
      "8847837[].pbs\n",
      "8847838[].pbs\n",
      "8847839[].pbs\n",
      "8847840[].pbs\n",
      "8847841[].pbs\n",
      "8847842[].pbs\n",
      "8847843[].pbs\n",
      "8847844[].pbs\n",
      "8847845[].pbs\n"
     ]
    }
   ],
   "source": [
    "#running the other search  algorithm on the combined target\n",
    "dict_targets = {'target':0,'fosc1':10,'ES1':3,'IP':5.5}#\n",
    "num_molecules_list = [5000,10000,40000,75000]\n",
    "for test_name in ['ea_surrogate']:#'random','precursor','evolution_algorithm',\n",
    "    print(test_name+'\\n')\n",
    "    for target_name,aim in dict_targets.items():\n",
    "        if test_name == 'ea_surrogate' or test_name == 'graph_frag':\n",
    "            for i,num_molecules in enumerate(num_molecules_list):\n",
    "                name = f\"{target_name}_{num_molecules}_{aim:.1f}_frag_6\"\n",
    "                config_dir = f\"/rds/general/user/ma11115/home/Geom3D/Geom3D/training/SchNet_frag/{name}\"\n",
    "                script = \"#!/bin/bash \\n\"+\\\n",
    "                    \"#PBS -l walltime=07:59:01 \\n\"+\\\n",
    "                    \"#PBS -l select=1:ncpus=8:mem=50gb:avx=true \\n\"+\\\n",
    "                    \"#PBS -J 1-25 \\n\"+\\\n",
    "                    \" \\n\"+\\\n",
    "                    \"cd /rds/general/user/ma11115/home/STK_Search/STK_search \\n\"+\\\n",
    "                    \"module load anaconda3/personal \\n\"+ \\\n",
    "                    \"source activate Geom3D     \\n\"+\\\n",
    "                    f\"python src/dev_scripts/run_search_test.py --num_iteration 500 --num_elem_initialisation 50 --case {test_name} --test_name {test_name}_{target_name}_{num_molecules}_opt --config_dir {config_dir} --target {target_name} --aim {aim}\"\n",
    "                #print(script) \n",
    "                with open(f'HPC_bash_script/Runsearch_{test_name}_{target_name}_{num_molecules}.sh', 'wb') as f:\n",
    "                    f.write( bytes(script, 'utf-8'))  \n",
    "                \n",
    "                !qsub  -e ./cache -o ./cache HPC_bash_script/Runsearch_{test_name}_{target_name}_{num_molecules}.sh\n",
    "        else:\n",
    "            script = \"#!/bin/bash \\n\"+\\\n",
    "                \"#PBS -l walltime=07:59:01 \\n\"+\\\n",
    "                \"#PBS -l select=1:ncpus=8:mem=50gb:avx=true \\n\"+\\\n",
    "                \"#PBS -J 1-25 \\n\"+\\\n",
    "                \" \\n\"+\\\n",
    "                \"cd /rds/general/user/ma11115/home/STK_Search/STK_search \\n\"+\\\n",
    "                \"module load anaconda3/personal \\n\"+ \\\n",
    "                \"source activate Geom3D     \\n\"+\\\n",
    "                f\"python src/dev_scripts/run_search_test.py --num_iteration 500 --num_elem_initialisation 50 --case {test_name} --test_name {test_name}_{target_name} --target {target_name} --aim {aim}\"\n",
    "            #print(script) \n",
    "            with open(f'HPC_bash_script/Runsearch_{test_name}_{target_name}.sh', 'wb') as f:\n",
    "                f.write( bytes(script, 'utf-8'))  \n",
    "            \n",
    "            !qsub  -e ./cache -o ./cache HPC_bash_script/Runsearch_{test_name}_{target_name}.sh"
   ]
  },
  {
   "cell_type": "code",
   "execution_count": null,
   "metadata": {},
   "outputs": [],
   "source": [
    "num_workers = {'0':3,\n",
    "               '3':3,\n",
    "               '5':3,\n",
    "               '8':3}\n",
    "for test_name in ['ea_surrogate']:#['evolution_algorithm','graph_frag','precursor']:#['random',,'evolution_algorithm','evolution_algorithm']:# ['random','slatm','evolution_algorithm','precursor']:#'max_y_hat', 'EI', 'max_sigma',\n",
    "    \n",
    "    for search_space in ['0','3','5','8']:\n",
    "        script=\"#!/bin/bash \\n\"+\\\n",
    "            \"#PBS -l walltime=07:59:01 \\n\"+\\\n",
    "            \"#PBS -l select=1:ncpus=32:mem=50gb:avx=true \\n\"+\\\n",
    "            f\"#PBS -J 1-{num_workers[search_space]} \\n\"+\\\n",
    "            \" \\n\"+\\\n",
    "            \"cd /rds/general/user/ma11115/home/STK_Search/STK_search \\n\"+\\\n",
    "            \"module load anaconda3/personal \\n\"+ \\\n",
    "            \"source activate Geom3D     \\n\"+\\\n",
    "            f\"python src/dev_scripts/run_search.py --num_iteration 100 --num_elem_initialisation 50 --case {test_name} --test_name {test_name} --search_space_loc data/input/EXP_search_space/exp_111_2023_11_01_14_52_42/search_space_{search_space}.pkl \\n\"\n",
    "        #print(script) \n",
    "        with open(f'HPC_bash_script/Runsearch_new_{test_name}_{search_space}.sh', 'wb') as f:\n",
    "            f.write( bytes(script, 'utf-8'))  \n",
    "    \n",
    "        !qsub  -N {test_name}_{search_space} -e ./cache -o ./cache HPC_bash_script/Runsearch_new_{test_name}_{search_space}.sh"
   ]
  },
  {
   "cell_type": "code",
   "execution_count": null,
   "metadata": {},
   "outputs": [],
   "source": [
    "\n",
    "for test_name in ['ea_surrogate']:#['random','graph_frag','precursor','evolution_algorithm']:#['evolution_algorithm']:# ['random','slatm','evolution_algorithm','precursor']:#'max_y_hat', 'EI', 'max_sigma',\n",
    "    script=\"#!/bin/bash \\n\"+\\\n",
    "        \"#PBS -l walltime=07:59:01 \\n\"+\\\n",
    "        \"#PBS -l select=1:ncpus=8:mem=50gb:avx=true \\n\"+\\\n",
    "        \"#PBS -J 1-25 \\n\"+\\\n",
    "        \" \\n\"+\\\n",
    "        \"cd /rds/general/user/ma11115/home/STK_Search/STK_search \\n\"+\\\n",
    "        \"module load anaconda3/personal \\n\"+ \\\n",
    "        \"source activate Geom3D     \\n\"+\\\n",
    "        f\"python src/dev_scripts/run_search_test.py --num_iteration 100 --num_elem_initialisation 50 --case {test_name} --test_name {test_name}\"\n",
    "    #print(script) \n",
    "    with open(f'HPC_bash_script/Runsearch_{test_name}.sh', 'wb') as f:\n",
    "        f.write( bytes(script, 'utf-8'))  \n",
    "    \n",
    "    !qsub  -e ./cache -o ./cache HPC_bash_script/Runsearch_{test_name}.sh"
   ]
  },
  {
   "cell_type": "code",
   "execution_count": null,
   "metadata": {},
   "outputs": [],
   "source": [
    "from stk_search import Search_Exp\n",
    "from stk_search.Search_algorithm import Search_algorithm\n",
    "from stk_search.Search_algorithm import Bayesian_Optimisation\n",
    "from stk_search.Search_algorithm import (\n",
    "    Representation_slatm,\n",
    "    RepresentationPrecursor,\n",
    "    Represenation_3D,\n",
    ")\n",
    "from stk_search.Objective_function import Look_up_table\n",
    "import pandas as pd\n",
    "from stk_search import Database_utils\n",
    "from stk_search import Searched_space\n",
    "import stk\n",
    "import torch\n",
    "import pymongo\n",
    "from geom3d.pl_model import  Pymodel\n",
    "from geom3d.utils.config_utils import read_config\n",
    "from geom3d.oligomer_encoding_with_transformer import Fragment_encoder\n",
    "from geom3d.models import SchNet\n",
    "\n",
    "import importlib\n",
    "importlib.reload(Bayesian_Optimisation)\n",
    "# %%\n",
    "def main(num_iteration, num_elem_initialisation, test_name=\"test\",case=\"slatm\",target_name=\"target\",config_dir =\"\",aim=0):\n",
    "    # Load the searched space\n",
    "    df_path = \"data/output/Full_dataset/df_total_2024-01-05.csv\"\n",
    "    df_precursors_path = \"data/output/Prescursor_data/calculation_data_precursor_190923_clean.pkl\"  #'Data/output/Prescursor_data/calculation_data_precursor_310823_clean.pkl'\n",
    "\n",
    "    df_total, df_precursors = Database_utils.load_data_from_file(\n",
    "        df_path, df_precursors_path\n",
    "    )\n",
    "\n",
    "    search_space_loc = \"data/input/search_space/test/search_space1.pkl\"\n",
    "    # get initial elements\n",
    "    objective_function = Look_up_table(df_total, 6,target_name=target_name, aim=aim)\n",
    "\n",
    "    if case == \"slatm\":\n",
    "        BO = Bayesian_Optimisation.Bayesian_Optimisation()\n",
    "        BO.Representation = Representation_slatm.Representation_slatm()\n",
    "        BO.PCA_input = True\n",
    "        search_algorithm = BO\n",
    "    elif case == \"slatm_org\":\n",
    "        BO = Bayesian_Optimisation.Bayesian_Optimisation()\n",
    "        BO.Representation = Representation_slatm.Representation_slatm_org(df_total)\n",
    "        BO.PCA_input = True\n",
    "        search_algorithm = BO\n",
    "    elif case == \"precursor\":\n",
    "        BO = Bayesian_Optimisation.Bayesian_Optimisation()\n",
    "        frag_properties = []\n",
    "        frag_properties = df_precursors.columns[1:7]\n",
    "        frag_properties = frag_properties.append(df_precursors.columns[17:23])\n",
    "        print(frag_properties)\n",
    "        BO.Representation = RepresentationPrecursor.RepresentationPrecursor(\n",
    "            df_precursors, frag_properties\n",
    "        )\n",
    "        search_algorithm = BO\n",
    "    elif case == \"graph_frag\":\n",
    "        #config_dir = \"/rds/general/user/ma11115/home/Geom3D/Geom3D/training/SchNet_Trans_80K\"\n",
    "        config = read_config(config_dir)\n",
    "        model_config = config[\"model\"]\n",
    "        model = SchNet(\n",
    "            hidden_channels=model_config[\"emb_dim\"],\n",
    "            num_filters=model_config[\"SchNet_num_filters\"],\n",
    "            num_interactions=model_config[\"SchNet_num_interactions\"],\n",
    "            num_gaussians=model_config[\"SchNet_num_gaussians\"],\n",
    "            cutoff=model_config[\"SchNet_cutoff\"],\n",
    "            readout=model_config[\"SchNet_readout\"],\n",
    "            node_class=model_config[\"node_class\"],\n",
    "        )\n",
    "        EncodingModel = Fragment_encoder(\n",
    "            input_dim = config[\"emb_dim\"]*config[\"number_of_fragement\"],\n",
    "            model_dim=config[\"emb_dim\"],\n",
    "            num_heads=1,\n",
    "            num_classes=model_config[\"emb_dim\"],\n",
    "            num_layers=1,\n",
    "            dropout=0.0,\n",
    "            lr=5e-4,\n",
    "            warmup=50,\n",
    "            max_iters=config[\"max_epochs\"] ,\n",
    "        )\n",
    "\n",
    "        EncodingModel.add_encoder(model)\n",
    "        state_dict = torch.load(config[\"model_transformer_chkpt\"],map_location=torch.device('cpu'))\n",
    "        EncodingModel.load_state_dict(state_dict['state_dict'])\n",
    "        BO = Bayesian_Optimisation.Bayesian_Optimisation()\n",
    "        client = pymongo.MongoClient(config[\"pymongo_client\"])\n",
    "        db_poly = stk.ConstructedMoleculeMongoDb(\n",
    "            client,\n",
    "            database=config[\"database_name\"],\n",
    "        )\n",
    "        db_frag = stk.MoleculeMongoDb(\n",
    "            client,\n",
    "            database=config[\"database_name\"],\n",
    "        )\n",
    "        BO.verbose = True\n",
    "        BO.normalise_input = False\n",
    "        BO.device = \"cpu\"#\"cuda:0\" if torch.cuda.is_available() else \"cpu\"\n",
    "        BO.Representation = Represenation_3D.Representation3DFrag_transformer(EncodingModel,df_total,db_poly=db_poly,db_frag=db_frag,device=BO.device)\n",
    "\n",
    "        search_algorithm = BO\n",
    "        #X_explored_frag = BO.Representation.generate_repr(searched_space_df.iloc[inds])\n",
    "    elif case == \"graph_geom\":\n",
    "        #config_dir = \"/rds/general/user/ma11115/home/Geom3D/Geom3D/training/SchNet_Trans_80K\"\n",
    "        config = read_config(config_dir)\n",
    "        pymodel = Pymodel.load_from_checkpoint(config[\"model_embedding_chkpt\"])\n",
    "        config[\"device\"] = \"cuda:0\" if torch.cuda.is_available() else \"cpu\"\n",
    "        pymodel.to(config[\"device\"] )\n",
    "        model_embedding = pymodel.molecule_3D_repr\n",
    "        BO = Bayesian_Optimisation.Bayesian_Optimisation()\n",
    "        client = pymongo.MongoClient(config[\"pymongo_client\"])\n",
    "        db_poly = stk.ConstructedMoleculeMongoDb(\n",
    "            client,\n",
    "            database=config[\"database_name\"],\n",
    "        )\n",
    "        BO.Representation = Represenation_3D.Representation3D(model_embedding,df_total,db_poly=db_poly)\n",
    "        BO.verbose = True\n",
    "        BO.device = \"cuda:0\" if torch.cuda.is_available() else \"cpu\"\n",
    "        BO.normalise_input = False\n",
    "        search_algorithm = BO\n",
    "    elif case == 'random':\n",
    "        search_algorithm = Search_algorithm.random_search()\n",
    "    elif case == 'evolution_algorithm':\n",
    "        search_algorithm = Search_algorithm.evolution_algorithm()\n",
    "    elif case == 'ea_surrogate':\n",
    "        from stk_search.Search_algorithm import Ea_surrogate\n",
    "        ## load model\n",
    "        #config_dir = \"/rds/general/user/ma11115/home/Geom3D/Geom3D/training/SchNet_Trans_80K\"\n",
    "        config = read_config(config_dir)\n",
    "        \n",
    "        model_config = config[\"model\"]\n",
    "        graph_pred_linear = torch.nn.Linear(\n",
    "                model_config[\"emb_dim\"], model_config[\"num_tasks\"]\n",
    "            )\n",
    "        model = SchNet(\n",
    "            hidden_channels=model_config[\"emb_dim\"],\n",
    "            num_filters=model_config[\"SchNet_num_filters\"],\n",
    "            num_interactions=model_config[\"SchNet_num_interactions\"],\n",
    "            num_gaussians=model_config[\"SchNet_num_gaussians\"],\n",
    "            cutoff=model_config[\"SchNet_cutoff\"],\n",
    "            readout=model_config[\"SchNet_readout\"],\n",
    "            node_class=model_config[\"node_class\"],\n",
    "        )\n",
    "        pymodel = Pymodel(model, graph_pred_linear)\n",
    "        state_dict = torch.load(config[\"model_embedding_chkpt\"],map_location=torch.device('cpu'))\n",
    "        pymodel.load_state_dict(state_dict['state_dict'])\n",
    "        EncodingModel = Fragment_encoder(\n",
    "            input_dim = config[\"emb_dim\"]*config[\"number_of_fragement\"],\n",
    "            model_dim=config[\"emb_dim\"],\n",
    "            num_heads=1,\n",
    "            num_classes=model_config[\"emb_dim\"],\n",
    "            num_layers=1,\n",
    "            dropout=0.0,\n",
    "            lr=5e-4,\n",
    "            warmup=50,\n",
    "            max_iters=config[\"max_epochs\"] ,\n",
    "        )\n",
    "        EncodingModel.add_encoder(model)\n",
    "        state_dict = torch.load(config[\"model_transformer_chkpt\"],map_location=torch.device('cpu'))\n",
    "        EncodingModel.load_state_dict(state_dict['state_dict'])\n",
    "        ## load search algorithm\n",
    "        ea_surrogate = Ea_surrogate.Ea_surrogate()\n",
    "        client = pymongo.MongoClient(config[\"pymongo_client\"])\n",
    "        db_poly = stk.ConstructedMoleculeMongoDb(\n",
    "            client,\n",
    "            database=config[\"database_name\"],\n",
    "        )\n",
    "        db_frag = stk.MoleculeMongoDb(\n",
    "            client,\n",
    "            database=config[\"database_name\"],\n",
    "        )\n",
    "        ea_surrogate.verbose = True\n",
    "        ea_surrogate.device = \"cpu\"#\"cuda:0\" if torch.cuda.is_available() else \"cpu\"\n",
    "        ea_surrogate.Representation = Represenation_3D.Representation3DFrag_transformer(EncodingModel,df_total,db_poly=db_poly,db_frag=db_frag,device=ea_surrogate.device)\n",
    "        pymodel.graph_pred_linear.eval()\n",
    "        ea_surrogate.pred_model = pymodel.graph_pred_linear\n",
    "        search_algorithm = ea_surrogate\n",
    "    else:\n",
    "        raise ValueError(\"case not recognised\")\n",
    "    \n",
    "    number_of_iterations = num_iteration\n",
    "    verbose = True\n",
    "    num_elem_initialisation = num_elem_initialisation\n",
    "    S_exp = Search_Exp.Search_exp(\n",
    "        search_space_loc,\n",
    "        search_algorithm,\n",
    "        objective_function,\n",
    "        number_of_iterations,\n",
    "        verbose=verbose,\n",
    "    )\n",
    "    S_exp.output_folder = \"data/output/search_experiment/benchmark/\" + test_name\n",
    "    S_exp.num_elem_initialisation = num_elem_initialisation\n",
    "    S_exp.benchmark = True\n",
    "    S_exp.df_total = df_total\n",
    "   # S_exp.run_seach()\n",
    "    return S_exp\n",
    "\n",
    "#%run  src/dev_scripts/run_search.py --num_iteration 2 --num_elem_initialisation 10 --case ea_surrogate --test_name ea_surrogate --search_space_loc data/input/EXP_search_space/exp_111_2023_11_01_14_52_42/search_space_{search_space}.pkl\n",
    "test_name = 'graph_frag'\n",
    "dict_targets = {'target':0,'fosc1':10,'ES1':3,'IP':5.5}#\n",
    "target_name,aim ='fosc1', 10\n",
    "num_molecules = 5000\n",
    "name = f\"{target_name}_{num_molecules}_{aim:.1f}\"\n",
    "config_dir = f\"/rds/general/user/ma11115/home/Geom3D/Geom3D/training/SchNet_frag/{name}\""
   ]
  },
  {
   "cell_type": "code",
   "execution_count": null,
   "metadata": {},
   "outputs": [],
   "source": [
    "S_exp = main(2,10,test_name=test_name,case=\"graph_frag\",target_name=target_name,config_dir=config_dir,aim=aim)"
   ]
  },
  {
   "cell_type": "code",
   "execution_count": null,
   "metadata": {},
   "outputs": [],
   "source": [
    "S_exp.initialise_search_space()\n",
    "# get initial elements\n",
    "ids_acquired, df_search_space= S_exp.search_algorithm.initial_suggestion(\n",
    "    SP =S_exp.search_space,\n",
    "    num_elem_initialisation=S_exp.num_elem_initialisation,\n",
    "    benchmark=S_exp.benchmark,\n",
    "    df_total=S_exp.df_total,\n",
    ")\n",
    "S_exp.df_search_space = df_search_space\n",
    "for id in range(S_exp.num_elem_initialisation):\n",
    "    # evaluate the element\n",
    "    S_exp.evaluate_element(\n",
    "        element_id=ids_acquired[id],\n",
    "        objective_function=S_exp.objective_function,\n",
    "    )\n",
    "if S_exp.verbose:\n",
    "    print(f\"max fitness acquired: {max(S_exp.fitness_acquired)}\")\n",
    "    print(f\"min fitness acquired: {min(S_exp.fitness_acquired)}\")\n",
    "        "
   ]
  },
  {
   "cell_type": "code",
   "execution_count": null,
   "metadata": {},
   "outputs": [],
   "source": [
    "ids_acquired, df_search_space = S_exp.search_algorithm.suggest_element(\n",
    "        search_space_df=S_exp.df_search_space,\n",
    "        ids_acquired=S_exp.ids_acquired,\n",
    "        fitness_acquired=S_exp.fitness_acquired,\n",
    "        SP = S_exp.search_space,\n",
    "        benchmark=S_exp.benchmark,\n",
    "        df_total=S_exp.df_total,\n",
    "    )"
   ]
  },
  {
   "cell_type": "code",
   "execution_count": null,
   "metadata": {},
   "outputs": [],
   "source": [
    "# run the search\n",
    "for id in range(S_exp.number_of_iterations):\n",
    "    # suggest the next element\n",
    "    ids_acquired, df_search_space = S_exp.search_algorithm.suggest_element(\n",
    "        search_space_df=S_exp.df_search_space,\n",
    "        ids_acquired=S_exp.ids_acquired,\n",
    "        fitness_acquired=S_exp.fitness_acquired,\n",
    "        SP = S_exp.search_space,\n",
    "        benchmark=S_exp.benchmark,\n",
    "        df_total=S_exp.df_total,\n",
    "    )\n",
    "    S_exp.df_search_space = df_search_space\n",
    "    # evaluate the element\n",
    "    if S_exp.verbose:\n",
    "        print(f\"element id suggested: {ids_acquired}\")\n",
    "    S_exp.evaluate_element(\n",
    "        element_id=ids_acquired,\n",
    "        objective_function=S_exp.objective_function,\n",
    "    )\n",
    "    # self.fitness_acquired.append(Eval)\n",
    "    # self.InchiKey_acquired.append(InchiKey)\n",
    "    # save the results\n",
    "    S_exp.save_results()\n",
    "    if S_exp.verbose:\n",
    "        print(f\"iteration {id} completed\")\n",
    "        print(f\"max fitness acquired: {max(S_exp.fitness_acquired)}\")\n",
    "        print(f\"min fitness acquired: {min(S_exp.fitness_acquired)}\")\n",
    "        print(f\"ids acquired: {S_exp.ids_acquired}\")\n",
    "        print(f\"new fitness acquired: {S_exp.fitness_acquired[-1]}\")\n",
    "# save the results\n",
    "S_exp.save_results()"
   ]
  },
  {
   "cell_type": "code",
   "execution_count": null,
   "metadata": {},
   "outputs": [],
   "source": [
    "\n",
    "def optimise_acquisition_function(BO, best_f, fitness_acquired,df_search,ids_acquired,SP,benchmark=False,df_total=None):\n",
    "        # generate list of element to evaluate using acquistion function\n",
    "        counter , lim_counter = 0, 5\n",
    "        elements = BO.Generate_element_to_evaluate(\n",
    "            fitness_acquired, df_search, SP\n",
    "        )\n",
    "        elements = np.append(elements, df_search.values, axis=0)\n",
    "        df_elements = pd.DataFrame(\n",
    "            elements, columns=[f\"InChIKey_{x}\" for x in range(6)]\n",
    "        )\n",
    "        df_elements = SP.check_df_for_element_from_SP(df_to_check=df_elements)\n",
    "        if benchmark:\n",
    "            # take only element in df_total\n",
    "            print('started acquisition function optimisation')\n",
    "            df_elements = df_elements.merge(\n",
    "                df_total,\n",
    "                on=[f\"InChIKey_{i}\" for i in range(6)],\n",
    "                how=\"left\",\n",
    "            )\n",
    "            df_elements.dropna(subset=\"target\", inplace=True)\n",
    "            df_elements = df_elements[[f\"InChIKey_{i}\" for i in range(6)]]\n",
    "        X_unsqueezed = BO.Representation.generate_repr(df_elements)\n",
    "        X_unsqueezed = X_unsqueezed.double()\n",
    "        # train acquisition function\n",
    "        X_unsqueezed = X_unsqueezed.reshape(-1, 1, X_unsqueezed.shape[1])\n",
    "        acquisition_values = BO.get_acquisition_values(\n",
    "            BO.model,\n",
    "            best_f=best_f,\n",
    "            X_unsqueezed=X_unsqueezed,\n",
    "        )\n",
    "        # select element to acquire with maximal aquisition value, which is not in the acquired set already\n",
    "        ids_sorted_by_aquisition = acquisition_values.argsort(descending=True)\n",
    "        max_acquisition_value = acquisition_values.max()\n",
    "        return ids_sorted_by_aquisition, df_elements\n",
    "        while True:\n",
    "            counter += 1\n",
    "            elements = BO.Generate_element_to_evaluate(\n",
    "                acquisition_values.numpy(), df_elements, SP\n",
    "            )\n",
    "            #elements = np.append(elements, df_elements.values, axis=0)\n",
    "            df_elements = pd.DataFrame(\n",
    "                elements, columns=[f\"InChIKey_{x}\" for x in range(6)]\n",
    "            )\n",
    "            df_elements = SP.check_df_for_element_from_SP(df_to_check=df_elements)\n",
    "            if benchmark:\n",
    "                # take only element in df_total\n",
    "                print('counter is ', counter)\n",
    "                df_elements = df_elements.merge(\n",
    "                    df_total,\n",
    "                    on=[f\"InChIKey_{i}\" for i in range(6)],\n",
    "                    how=\"left\",\n",
    "                )\n",
    "                df_elements.dropna(subset=\"target\", inplace=True)\n",
    "                df_elements = df_elements[[f\"InChIKey_{i}\" for i in range(6)]]\n",
    "            X_unsqueezed = BO.Representation.generate_repr(df_elements)\n",
    "            X_unsqueezed = X_unsqueezed.double()\n",
    "            # train acquisition function\n",
    "            X_unsqueezed = X_unsqueezed.reshape(-1, 1, X_unsqueezed.shape[1])\n",
    "            acquisition_values = BO.get_acquisition_values(\n",
    "                BO.model,\n",
    "                best_f=best_f,\n",
    "                X_unsqueezed=X_unsqueezed,\n",
    "            )\n",
    "            # select element to acquire with maximal aquisition value, which is not in the acquired set already\n",
    "            ids_sorted_by_aquisition = acquisition_values.argsort(descending=True)\n",
    "            max_acquisition_value_current = acquisition_values.max()\n",
    "            if max_acquisition_value_current > max_acquisition_value:\n",
    "                max_acquisition_value = max_acquisition_value_current\n",
    "                counter = 0\n",
    "            if counter > lim_counter:\n",
    "                break\n",
    "        return ids_sorted_by_aquisition, df_elements\n",
    "ids_sorted_by_aquisition, df_elements = optimise_acquisition_function(BO,\n",
    "    best_f=best_f,\n",
    "    fitness_acquired=fitness_acquired,\n",
    "    df_search=df_search,\n",
    "    ids_acquired=ids_acquired,\n",
    "    SP=SP,\n",
    "    benchmark=benchmark,\n",
    "    df_total=df_total,\n",
    ")"
   ]
  },
  {
   "cell_type": "code",
   "execution_count": null,
   "metadata": {},
   "outputs": [],
   "source": [
    "ids_sorted_by_aquisition"
   ]
  },
  {
   "cell_type": "code",
   "execution_count": null,
   "metadata": {},
   "outputs": [],
   "source": [
    "df_elements.reset_index(drop=True, inplace=True)\n",
    "df_elements.iloc[ids_sorted_by_aquisition[:10]]"
   ]
  }
 ],
 "metadata": {
  "kernelspec": {
   "display_name": "Geom3D",
   "language": "python",
   "name": "geom3d"
  },
  "orig_nbformat": 4
 },
 "nbformat": 4,
 "nbformat_minor": 2
}
