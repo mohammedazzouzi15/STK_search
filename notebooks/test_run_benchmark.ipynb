{
 "cells": [
  {
   "cell_type": "code",
   "execution_count": 3,
   "metadata": {},
   "outputs": [],
   "source": [
    "import os\n",
    "os.chdir(\"/rds/general/user/ma11115/home/STK_Search/STK_search\")\n",
    "#os.chdir('..')"
   ]
  },
  {
   "cell_type": "code",
   "execution_count": 4,
   "metadata": {},
   "outputs": [
    {
     "name": "stderr",
     "output_type": "stream",
     "text": [
      "/rds/general/user/ma11115/home/STK_Search/STK_search/src/stk_search/Database_utils.py:106: DtypeWarning: Columns (18) have mixed types. Specify dtype option on import or set low_memory=False.\n",
      "  df_total = pd.read_csv(df_path)\n"
     ]
    },
    {
     "name": "stdout",
     "output_type": "stream",
     "text": [
      "(67, 6)\n",
      "['HZYBLPHGWLNIQV-UHFFFAOYSA-N' 'WVGHJMFKJADIAM-UHFFFAOYSA-N'\n",
      " 'WBRIMLGNHKTADJ-UHFFFAOYSA-N' 'HZYBLPHGWLNIQV-UHFFFAOYSA-N'\n",
      " 'WVGHJMFKJADIAM-UHFFFAOYSA-N' 'WBRIMLGNHKTADJ-UHFFFAOYSA-N']\n",
      "(11, 6)\n",
      "element id suggested: 10\n",
      "iteration 0 completed\n",
      "fitness acquired: [-7.3211, -10.575800000000001, -10.5441, -10.5729, -10.9132, -8.7983, -8.9543, -8.7652, -10.484100000000002, -10.1836, -8.8708]\n",
      "InchiKey acquired: ['XRXDDYJVIUZHNX-UHFFFAOYSA-N', 'YMQFEWBRHGYBJR-UHFFFAOYSA-N', 'SIZBDEHDUGMFEW-UHFFFAOYSA-N', 'SRXFRAUYHUJQQS-UHFFFAOYSA-N', 'CYEVOZVHJJBMNN-UHFFFAOYSA-N', 'IGEYTNOXOIZYPH-UHFFFAOYSA-N', 'CMAJGYMRGQEQNU-UHFFFAOYSA-N', 'NJXWTNOUVLXDFV-UHFFFAOYSA-N', 'BBCKEGMCYZVMIH-UHFFFAOYSA-N', 'QNGRZISJTNLRCD-UHIZKJEFSA-N', 'DQEKTEFTRHPWHQ-UHFFFAOYSA-N']\n",
      "ids acquired: [0, 1, 2, 3, 4, 5, 6, 7, 8, 9, 10]\n",
      "(68, 6)\n",
      "['HZYBLPHGWLNIQV-UHFFFAOYSA-N' 'WBRIMLGNHKTADJ-UHFFFAOYSA-N'\n",
      " 'KIYKHEOWZLJZSB-UHFFFAOYSA-N' 'WVGHJMFKJADIAM-UHFFFAOYSA-N'\n",
      " 'KIYKHEOWZLJZSB-UHFFFAOYSA-N' 'HZYBLPHGWLNIQV-UHFFFAOYSA-N']\n",
      "(12, 6)\n",
      "element id suggested: 11\n",
      "iteration 1 completed\n",
      "fitness acquired: [-7.3211, -10.575800000000001, -10.5441, -10.5729, -10.9132, -8.7983, -8.9543, -8.7652, -10.484100000000002, -10.1836, -8.8708, -8.925]\n",
      "InchiKey acquired: ['XRXDDYJVIUZHNX-UHFFFAOYSA-N', 'YMQFEWBRHGYBJR-UHFFFAOYSA-N', 'SIZBDEHDUGMFEW-UHFFFAOYSA-N', 'SRXFRAUYHUJQQS-UHFFFAOYSA-N', 'CYEVOZVHJJBMNN-UHFFFAOYSA-N', 'IGEYTNOXOIZYPH-UHFFFAOYSA-N', 'CMAJGYMRGQEQNU-UHFFFAOYSA-N', 'NJXWTNOUVLXDFV-UHFFFAOYSA-N', 'BBCKEGMCYZVMIH-UHFFFAOYSA-N', 'QNGRZISJTNLRCD-UHIZKJEFSA-N', 'DQEKTEFTRHPWHQ-UHFFFAOYSA-N', 'SRKQLDUXJMMDFG-UHFFFAOYSA-N']\n",
      "ids acquired: [0, 1, 2, 3, 4, 5, 6, 7, 8, 9, 10, 11]\n",
      "(69, 6)\n",
      "['HZYBLPHGWLNIQV-UHFFFAOYSA-N' 'HZYBLPHGWLNIQV-UHFFFAOYSA-N'\n",
      " 'WBRIMLGNHKTADJ-UHFFFAOYSA-N' 'WVGHJMFKJADIAM-UHFFFAOYSA-N'\n",
      " 'WVGHJMFKJADIAM-UHFFFAOYSA-N' 'WBRIMLGNHKTADJ-UHFFFAOYSA-N']\n",
      "(13, 6)\n",
      "element id suggested: 12\n",
      "iteration 2 completed\n",
      "fitness acquired: [-7.3211, -10.575800000000001, -10.5441, -10.5729, -10.9132, -8.7983, -8.9543, -8.7652, -10.484100000000002, -10.1836, -8.8708, -8.925, -8.8812]\n",
      "InchiKey acquired: ['XRXDDYJVIUZHNX-UHFFFAOYSA-N', 'YMQFEWBRHGYBJR-UHFFFAOYSA-N', 'SIZBDEHDUGMFEW-UHFFFAOYSA-N', 'SRXFRAUYHUJQQS-UHFFFAOYSA-N', 'CYEVOZVHJJBMNN-UHFFFAOYSA-N', 'IGEYTNOXOIZYPH-UHFFFAOYSA-N', 'CMAJGYMRGQEQNU-UHFFFAOYSA-N', 'NJXWTNOUVLXDFV-UHFFFAOYSA-N', 'BBCKEGMCYZVMIH-UHFFFAOYSA-N', 'QNGRZISJTNLRCD-UHIZKJEFSA-N', 'DQEKTEFTRHPWHQ-UHFFFAOYSA-N', 'SRKQLDUXJMMDFG-UHFFFAOYSA-N', 'QUBYHOMJLMEEMP-UHFFFAOYSA-N']\n",
      "ids acquired: [0, 1, 2, 3, 4, 5, 6, 7, 8, 9, 10, 11, 12]\n",
      "(70, 6)\n",
      "['DOXWISNBDAHQBD-UHFFFAOYSA-N' 'KIYKHEOWZLJZSB-UHFFFAOYSA-N'\n",
      " 'HZYBLPHGWLNIQV-UHFFFAOYSA-N' 'HZYBLPHGWLNIQV-UHFFFAOYSA-N'\n",
      " 'WBRIMLGNHKTADJ-UHFFFAOYSA-N' 'DOXWISNBDAHQBD-UHFFFAOYSA-N']\n",
      "(14, 6)\n",
      "element id suggested: 13\n",
      "iteration 3 completed\n",
      "fitness acquired: [-7.3211, -10.575800000000001, -10.5441, -10.5729, -10.9132, -8.7983, -8.9543, -8.7652, -10.484100000000002, -10.1836, -8.8708, -8.925, -8.8812, -7.994800000000001]\n",
      "InchiKey acquired: ['XRXDDYJVIUZHNX-UHFFFAOYSA-N', 'YMQFEWBRHGYBJR-UHFFFAOYSA-N', 'SIZBDEHDUGMFEW-UHFFFAOYSA-N', 'SRXFRAUYHUJQQS-UHFFFAOYSA-N', 'CYEVOZVHJJBMNN-UHFFFAOYSA-N', 'IGEYTNOXOIZYPH-UHFFFAOYSA-N', 'CMAJGYMRGQEQNU-UHFFFAOYSA-N', 'NJXWTNOUVLXDFV-UHFFFAOYSA-N', 'BBCKEGMCYZVMIH-UHFFFAOYSA-N', 'QNGRZISJTNLRCD-UHIZKJEFSA-N', 'DQEKTEFTRHPWHQ-UHFFFAOYSA-N', 'SRKQLDUXJMMDFG-UHFFFAOYSA-N', 'QUBYHOMJLMEEMP-UHFFFAOYSA-N', 'XYMXCGVMSAFIGQ-UHFFFAOYSA-N']\n",
      "ids acquired: [0, 1, 2, 3, 4, 5, 6, 7, 8, 9, 10, 11, 12, 13]\n",
      "(68, 6)\n",
      "['DOXWISNBDAHQBD-UHFFFAOYSA-N' 'KIYKHEOWZLJZSB-UHFFFAOYSA-N'\n",
      " 'HZYBLPHGWLNIQV-UHFFFAOYSA-N' 'HZYBLPHGWLNIQV-UHFFFAOYSA-N'\n",
      " 'WBRIMLGNHKTADJ-UHFFFAOYSA-N' 'HZYBLPHGWLNIQV-UHFFFAOYSA-N']\n",
      "(15, 6)\n",
      "element id suggested: 14\n",
      "iteration 4 completed\n",
      "fitness acquired: [-7.3211, -10.575800000000001, -10.5441, -10.5729, -10.9132, -8.7983, -8.9543, -8.7652, -10.484100000000002, -10.1836, -8.8708, -8.925, -8.8812, -7.994800000000001, -8.583300000000001]\n",
      "InchiKey acquired: ['XRXDDYJVIUZHNX-UHFFFAOYSA-N', 'YMQFEWBRHGYBJR-UHFFFAOYSA-N', 'SIZBDEHDUGMFEW-UHFFFAOYSA-N', 'SRXFRAUYHUJQQS-UHFFFAOYSA-N', 'CYEVOZVHJJBMNN-UHFFFAOYSA-N', 'IGEYTNOXOIZYPH-UHFFFAOYSA-N', 'CMAJGYMRGQEQNU-UHFFFAOYSA-N', 'NJXWTNOUVLXDFV-UHFFFAOYSA-N', 'BBCKEGMCYZVMIH-UHFFFAOYSA-N', 'QNGRZISJTNLRCD-UHIZKJEFSA-N', 'DQEKTEFTRHPWHQ-UHFFFAOYSA-N', 'SRKQLDUXJMMDFG-UHFFFAOYSA-N', 'QUBYHOMJLMEEMP-UHFFFAOYSA-N', 'XYMXCGVMSAFIGQ-UHFFFAOYSA-N', 'ZMADIPBYFWWQOK-UHFFFAOYSA-N']\n",
      "ids acquired: [0, 1, 2, 3, 4, 5, 6, 7, 8, 9, 10, 11, 12, 13, 14]\n",
      "(74, 6)\n",
      "['DOXWISNBDAHQBD-UHFFFAOYSA-N' 'QKOAHMWMROSOCB-UHFFFAOYSA-N'\n",
      " 'HZYBLPHGWLNIQV-UHFFFAOYSA-N' 'HZYBLPHGWLNIQV-UHFFFAOYSA-N'\n",
      " 'WBRIMLGNHKTADJ-UHFFFAOYSA-N' 'DOXWISNBDAHQBD-UHFFFAOYSA-N']\n",
      "(16, 6)\n",
      "element id suggested: 15\n",
      "iteration 5 completed\n",
      "fitness acquired: [-7.3211, -10.575800000000001, -10.5441, -10.5729, -10.9132, -8.7983, -8.9543, -8.7652, -10.484100000000002, -10.1836, -8.8708, -8.925, -8.8812, -7.994800000000001, -8.583300000000001, -10.3889]\n",
      "InchiKey acquired: ['XRXDDYJVIUZHNX-UHFFFAOYSA-N', 'YMQFEWBRHGYBJR-UHFFFAOYSA-N', 'SIZBDEHDUGMFEW-UHFFFAOYSA-N', 'SRXFRAUYHUJQQS-UHFFFAOYSA-N', 'CYEVOZVHJJBMNN-UHFFFAOYSA-N', 'IGEYTNOXOIZYPH-UHFFFAOYSA-N', 'CMAJGYMRGQEQNU-UHFFFAOYSA-N', 'NJXWTNOUVLXDFV-UHFFFAOYSA-N', 'BBCKEGMCYZVMIH-UHFFFAOYSA-N', 'QNGRZISJTNLRCD-UHIZKJEFSA-N', 'DQEKTEFTRHPWHQ-UHFFFAOYSA-N', 'SRKQLDUXJMMDFG-UHFFFAOYSA-N', 'QUBYHOMJLMEEMP-UHFFFAOYSA-N', 'XYMXCGVMSAFIGQ-UHFFFAOYSA-N', 'ZMADIPBYFWWQOK-UHFFFAOYSA-N', 'NSPBZKKXHWIHRD-UHFFFAOYSA-N']\n",
      "ids acquired: [0, 1, 2, 3, 4, 5, 6, 7, 8, 9, 10, 11, 12, 13, 14, 15]\n",
      "(75, 6)\n",
      "['DOXWISNBDAHQBD-UHFFFAOYSA-N' 'KIYKHEOWZLJZSB-UHFFFAOYSA-N'\n",
      " 'WVGHJMFKJADIAM-UHFFFAOYSA-N' 'HZYBLPHGWLNIQV-UHFFFAOYSA-N'\n",
      " 'WBRIMLGNHKTADJ-UHFFFAOYSA-N' 'HZYBLPHGWLNIQV-UHFFFAOYSA-N']\n",
      "(17, 6)\n",
      "element id suggested: 16\n",
      "iteration 6 completed\n",
      "fitness acquired: [-7.3211, -10.575800000000001, -10.5441, -10.5729, -10.9132, -8.7983, -8.9543, -8.7652, -10.484100000000002, -10.1836, -8.8708, -8.925, -8.8812, -7.994800000000001, -8.583300000000001, -10.3889, -8.686599999999999]\n",
      "InchiKey acquired: ['XRXDDYJVIUZHNX-UHFFFAOYSA-N', 'YMQFEWBRHGYBJR-UHFFFAOYSA-N', 'SIZBDEHDUGMFEW-UHFFFAOYSA-N', 'SRXFRAUYHUJQQS-UHFFFAOYSA-N', 'CYEVOZVHJJBMNN-UHFFFAOYSA-N', 'IGEYTNOXOIZYPH-UHFFFAOYSA-N', 'CMAJGYMRGQEQNU-UHFFFAOYSA-N', 'NJXWTNOUVLXDFV-UHFFFAOYSA-N', 'BBCKEGMCYZVMIH-UHFFFAOYSA-N', 'QNGRZISJTNLRCD-UHIZKJEFSA-N', 'DQEKTEFTRHPWHQ-UHFFFAOYSA-N', 'SRKQLDUXJMMDFG-UHFFFAOYSA-N', 'QUBYHOMJLMEEMP-UHFFFAOYSA-N', 'XYMXCGVMSAFIGQ-UHFFFAOYSA-N', 'ZMADIPBYFWWQOK-UHFFFAOYSA-N', 'NSPBZKKXHWIHRD-UHFFFAOYSA-N', 'IGCPKOKVOIJVGJ-UHFFFAOYSA-N']\n",
      "ids acquired: [0, 1, 2, 3, 4, 5, 6, 7, 8, 9, 10, 11, 12, 13, 14, 15, 16]\n",
      "(76, 6)\n",
      "['DOXWISNBDAHQBD-UHFFFAOYSA-N' 'WVGHJMFKJADIAM-UHFFFAOYSA-N'\n",
      " 'HZYBLPHGWLNIQV-UHFFFAOYSA-N' 'HZYBLPHGWLNIQV-UHFFFAOYSA-N'\n",
      " 'WBRIMLGNHKTADJ-UHFFFAOYSA-N' 'HZYBLPHGWLNIQV-UHFFFAOYSA-N']\n",
      "(18, 6)\n",
      "element id suggested: 17\n",
      "iteration 7 completed\n",
      "fitness acquired: [-7.3211, -10.575800000000001, -10.5441, -10.5729, -10.9132, -8.7983, -8.9543, -8.7652, -10.484100000000002, -10.1836, -8.8708, -8.925, -8.8812, -7.994800000000001, -8.583300000000001, -10.3889, -8.686599999999999, -8.636799999999997]\n",
      "InchiKey acquired: ['XRXDDYJVIUZHNX-UHFFFAOYSA-N', 'YMQFEWBRHGYBJR-UHFFFAOYSA-N', 'SIZBDEHDUGMFEW-UHFFFAOYSA-N', 'SRXFRAUYHUJQQS-UHFFFAOYSA-N', 'CYEVOZVHJJBMNN-UHFFFAOYSA-N', 'IGEYTNOXOIZYPH-UHFFFAOYSA-N', 'CMAJGYMRGQEQNU-UHFFFAOYSA-N', 'NJXWTNOUVLXDFV-UHFFFAOYSA-N', 'BBCKEGMCYZVMIH-UHFFFAOYSA-N', 'QNGRZISJTNLRCD-UHIZKJEFSA-N', 'DQEKTEFTRHPWHQ-UHFFFAOYSA-N', 'SRKQLDUXJMMDFG-UHFFFAOYSA-N', 'QUBYHOMJLMEEMP-UHFFFAOYSA-N', 'XYMXCGVMSAFIGQ-UHFFFAOYSA-N', 'ZMADIPBYFWWQOK-UHFFFAOYSA-N', 'NSPBZKKXHWIHRD-UHFFFAOYSA-N', 'IGCPKOKVOIJVGJ-UHFFFAOYSA-N', 'VKBUHCWOYPSGLK-UHFFFAOYSA-N']\n",
      "ids acquired: [0, 1, 2, 3, 4, 5, 6, 7, 8, 9, 10, 11, 12, 13, 14, 15, 16, 17]\n",
      "(77, 6)\n",
      "['DOXWISNBDAHQBD-UHFFFAOYSA-N' 'KIYKHEOWZLJZSB-UHFFFAOYSA-N'\n",
      " 'HZYBLPHGWLNIQV-UHFFFAOYSA-N' 'HZYBLPHGWLNIQV-UHFFFAOYSA-N'\n",
      " 'WBRIMLGNHKTADJ-UHFFFAOYSA-N' 'WBRIMLGNHKTADJ-UHFFFAOYSA-N']\n",
      "(19, 6)\n",
      "element id suggested: 18\n",
      "iteration 8 completed\n",
      "fitness acquired: [-7.3211, -10.575800000000001, -10.5441, -10.5729, -10.9132, -8.7983, -8.9543, -8.7652, -10.484100000000002, -10.1836, -8.8708, -8.925, -8.8812, -7.994800000000001, -8.583300000000001, -10.3889, -8.686599999999999, -8.636799999999997, -8.014100000000001]\n",
      "InchiKey acquired: ['XRXDDYJVIUZHNX-UHFFFAOYSA-N', 'YMQFEWBRHGYBJR-UHFFFAOYSA-N', 'SIZBDEHDUGMFEW-UHFFFAOYSA-N', 'SRXFRAUYHUJQQS-UHFFFAOYSA-N', 'CYEVOZVHJJBMNN-UHFFFAOYSA-N', 'IGEYTNOXOIZYPH-UHFFFAOYSA-N', 'CMAJGYMRGQEQNU-UHFFFAOYSA-N', 'NJXWTNOUVLXDFV-UHFFFAOYSA-N', 'BBCKEGMCYZVMIH-UHFFFAOYSA-N', 'QNGRZISJTNLRCD-UHIZKJEFSA-N', 'DQEKTEFTRHPWHQ-UHFFFAOYSA-N', 'SRKQLDUXJMMDFG-UHFFFAOYSA-N', 'QUBYHOMJLMEEMP-UHFFFAOYSA-N', 'XYMXCGVMSAFIGQ-UHFFFAOYSA-N', 'ZMADIPBYFWWQOK-UHFFFAOYSA-N', 'NSPBZKKXHWIHRD-UHFFFAOYSA-N', 'IGCPKOKVOIJVGJ-UHFFFAOYSA-N', 'VKBUHCWOYPSGLK-UHFFFAOYSA-N', 'RRAJHNDDCHMEMK-UHFFFAOYSA-N']\n",
      "ids acquired: [0, 1, 2, 3, 4, 5, 6, 7, 8, 9, 10, 11, 12, 13, 14, 15, 16, 17, 18]\n",
      "(72, 6)\n",
      "['DOXWISNBDAHQBD-UHFFFAOYSA-N' 'KIYKHEOWZLJZSB-UHFFFAOYSA-N'\n",
      " 'WVGHJMFKJADIAM-UHFFFAOYSA-N' 'HZYBLPHGWLNIQV-UHFFFAOYSA-N'\n",
      " 'WBRIMLGNHKTADJ-UHFFFAOYSA-N' 'WBRIMLGNHKTADJ-UHFFFAOYSA-N']\n",
      "(20, 6)\n",
      "element id suggested: 19\n",
      "iteration 9 completed\n",
      "fitness acquired: [-7.3211, -10.575800000000001, -10.5441, -10.5729, -10.9132, -8.7983, -8.9543, -8.7652, -10.484100000000002, -10.1836, -8.8708, -8.925, -8.8812, -7.994800000000001, -8.583300000000001, -10.3889, -8.686599999999999, -8.636799999999997, -8.014100000000001, -8.8281]\n",
      "InchiKey acquired: ['XRXDDYJVIUZHNX-UHFFFAOYSA-N', 'YMQFEWBRHGYBJR-UHFFFAOYSA-N', 'SIZBDEHDUGMFEW-UHFFFAOYSA-N', 'SRXFRAUYHUJQQS-UHFFFAOYSA-N', 'CYEVOZVHJJBMNN-UHFFFAOYSA-N', 'IGEYTNOXOIZYPH-UHFFFAOYSA-N', 'CMAJGYMRGQEQNU-UHFFFAOYSA-N', 'NJXWTNOUVLXDFV-UHFFFAOYSA-N', 'BBCKEGMCYZVMIH-UHFFFAOYSA-N', 'QNGRZISJTNLRCD-UHIZKJEFSA-N', 'DQEKTEFTRHPWHQ-UHFFFAOYSA-N', 'SRKQLDUXJMMDFG-UHFFFAOYSA-N', 'QUBYHOMJLMEEMP-UHFFFAOYSA-N', 'XYMXCGVMSAFIGQ-UHFFFAOYSA-N', 'ZMADIPBYFWWQOK-UHFFFAOYSA-N', 'NSPBZKKXHWIHRD-UHFFFAOYSA-N', 'IGCPKOKVOIJVGJ-UHFFFAOYSA-N', 'VKBUHCWOYPSGLK-UHFFFAOYSA-N', 'RRAJHNDDCHMEMK-UHFFFAOYSA-N', 'VEDAUFWMQIYSTQ-UHFFFAOYSA-N']\n",
      "ids acquired: [0, 1, 2, 3, 4, 5, 6, 7, 8, 9, 10, 11, 12, 13, 14, 15, 16, 17, 18, 19]\n"
     ]
    }
   ],
   "source": [
    "%run src/dev_scripts/run_search_test.py --num_iteration 10 --num_elem_initialisation 10 --case evolution_algorithm --test_name evolution_algorithm"
   ]
  },
  {
   "cell_type": "code",
   "execution_count": null,
   "metadata": {},
   "outputs": [],
   "source": []
  },
  {
   "cell_type": "code",
   "execution_count": 6,
   "metadata": {},
   "outputs": [
    {
     "name": "stdout",
     "output_type": "stream",
     "text": [
      "/bin/bash: which: line 1: syntax error: unexpected end of file\n",
      "/bin/bash: error importing function definition for `which'\n",
      "/bin/bash: module: line 1: syntax error: unexpected end of file\n",
      "/bin/bash: error importing function definition for `module'\n",
      "/bin/bash: scl: line 1: syntax error: unexpected end of file\n",
      "/bin/bash: error importing function definition for `scl'\n",
      "/bin/bash: ml: line 1: syntax error: unexpected end of file\n",
      "/bin/bash: error importing function definition for `ml'\n",
      "/bin/sh: which: line 1: syntax error: unexpected end of file\n",
      "/bin/sh: error importing function definition for `which'\n",
      "/bin/sh: ml: line 1: syntax error: unexpected end of file\n",
      "/bin/sh: error importing function definition for `ml'\n",
      "/bin/sh: scl: line 1: syntax error: unexpected end of file\n",
      "/bin/sh: error importing function definition for `scl'\n",
      "/bin/sh: module: line 1: syntax error: unexpected end of file\n",
      "/bin/sh: error importing function definition for `module'\n",
      "sh: which: line 1: syntax error: unexpected end of file\n",
      "sh: error importing function definition for `which'\n",
      "sh: ml: line 1: syntax error: unexpected end of file\n",
      "sh: error importing function definition for `ml'\n",
      "sh: scl: line 1: syntax error: unexpected end of file\n",
      "sh: error importing function definition for `scl'\n",
      "sh: module: line 1: syntax error: unexpected end of file\n",
      "sh: error importing function definition for `module'\n"
     ]
    },
    {
     "name": "stdout",
     "output_type": "stream",
     "text": [
      "sh: which: line 1: syntax error: unexpected end of file\n",
      "sh: error importing function definition for `which'\n",
      "sh: ml: line 1: syntax error: unexpected end of file\n",
      "sh: error importing function definition for `ml'\n",
      "sh: scl: line 1: syntax error: unexpected end of file\n",
      "sh: error importing function definition for `scl'\n",
      "sh: module: line 1: syntax error: unexpected end of file\n",
      "sh: error importing function definition for `module'\n",
      "8298102[].pbs\n"
     ]
    }
   ],
   "source": [
    "\n",
    "for test_name in ['random']:#'slatm','random','precursor']:#'max_y_hat', 'EI', 'max_sigma',\n",
    "    script=\"#!/bin/bash \\n\"+\\\n",
    "        \"#PBS -l walltime=07:59:01 \\n\"+\\\n",
    "        \"#PBS -l select=1:ncpus=8:mem=50gb:avx=true \\n\"+\\\n",
    "        \"#PBS -J 1-50 \\n\"+\\\n",
    "        \" \\n\"+\\\n",
    "        \"cd /rds/general/user/ma11115/home/STK_Search/STK_search \\n\"+\\\n",
    "        \"module load anaconda3/personal \\n\"+ \\\n",
    "        \"source activate STKSearch     \\n\"+\\\n",
    "        f\"python src/dev_scripts/run_search_test.py --num_iteration 100 --num_elem_initialisation 100 --case {test_name} --test_name {test_name}\"\n",
    "    #print(script) \n",
    "    with open(f'HPC_bash_script/Runsearch_{test_name}.sh', 'wb') as f:\n",
    "        f.write( bytes(script, 'utf-8'))  \n",
    "    \n",
    "    !qsub  -e ./cache -o ./cache HPC_bash_script/Runsearch_{test_name}.sh"
   ]
  },
  {
   "cell_type": "code",
   "execution_count": 6,
   "metadata": {},
   "outputs": [
    {
     "name": "stderr",
     "output_type": "stream",
     "text": [
      "/rds/general/user/ma11115/home/STK_Search/STK_search/src/stk_search/Database_utils.py:106: DtypeWarning: Columns (18) have mixed types. Specify dtype option on import or set low_memory=False.\n",
      "  df_total = pd.read_csv(df_path)\n"
     ]
    }
   ],
   "source": [
    "# Load the searched space\n",
    "from stk_search import Search_Exp\n",
    "from stk_search.Search_algorithm import Bayesian_Optimisation\n",
    "from stk_search.Search_algorithm import Representation_slatm\n",
    "from stk_search.Objective_function import Look_up_table\n",
    "import pandas as pd\n",
    "from stk_search import Database_utils\n",
    "from stk_search import Searched_space\n",
    "df_path = 'data/output/Full_datatset/df_total_new2023_08_20.csv'\n",
    "df_precursors_path = 'data/output/Prescursor_data/calculation_data_precursor_190923_clean.pkl'#'Data/output/Prescursor_data/calculation_data_precursor_310823_clean.pkl'\n",
    "df_total, df_precursors = Database_utils.load_data_from_file(df_path, df_precursors_path)\n",
    "\n",
    "\n",
    "search_space_loc = \"data/input/search_space/test/search_space1.pkl\"\n",
    "# get initial elements\n",
    "objective_function=Look_up_table(df_total,6)\n",
    "\n",
    "BO = Bayesian_Optimisation.Bayesian_Optimisation()\n",
    "BO.Representation = Representation_slatm.Representation_slatm()\n",
    "search_algorithm = BO\n",
    "number_of_iterations = num_iteration\n",
    "verbose = True\n",
    "num_elem_initialisation = num_elem_initialisation\n",
    "S_exp = Search_Exp.Search_exp(\n",
    "    search_space_loc,\n",
    "    search_algorithm,\n",
    "    objective_function,\n",
    "    number_of_iterations,\n",
    "    verbose=verbose,\n",
    ")\n",
    "S_exp.num_elem_initialisation = num_elem_initialisation\n",
    "S_exp.benchmark = True\n",
    "S_exp.df_total = df_total\n"
   ]
  },
  {
   "cell_type": "code",
   "execution_count": 8,
   "metadata": {},
   "outputs": [],
   "source": [
    "S_exp.benchmark \n",
    "if not S_exp.benchmark:\n",
    "    S_exp.save_search_experiment()"
   ]
  },
  {
   "cell_type": "code",
   "execution_count": 10,
   "metadata": {},
   "outputs": [
    {
     "data": {
      "text/plain": [
       "False"
      ]
     },
     "execution_count": 10,
     "metadata": {},
     "output_type": "execute_result"
    }
   ],
   "source": [
    "not S_exp.benchmark"
   ]
  }
 ],
 "metadata": {
  "kernelspec": {
   "display_name": "Python [conda env:STKSearch]",
   "language": "python",
   "name": "conda-env-STKSearch-py"
  },
  "language_info": {
   "codemirror_mode": {
    "name": "ipython",
    "version": 3
   },
   "file_extension": ".py",
   "mimetype": "text/x-python",
   "name": "python",
   "nbconvert_exporter": "python",
   "pygments_lexer": "ipython3",
   "version": "3.11.5"
  },
  "orig_nbformat": 4
 },
 "nbformat": 4,
 "nbformat_minor": 2
}
