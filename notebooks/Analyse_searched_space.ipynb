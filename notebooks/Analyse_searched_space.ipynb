{
 "cells": [
  {
   "cell_type": "code",
   "execution_count": 1,
   "metadata": {},
   "outputs": [],
   "source": [
    "\n",
    "import os\n",
    "os.chdir('c:\\\\Users\\\\ma11115\\\\OneDrive - Imperial College London\\\\github_folder\\\\STK_SEARCH\\\\')\n",
    "\n",
    "\n",
    "from stk_search import Searched_space\n",
    "import importlib\n",
    "importlib.reload(Searched_space)\n",
    "import pickle\n",
    "import pymongo\n",
    "import pandas as pd\n",
    "import numpy as np\n",
    "from stk_search import Database_utils\n"
   ]
  },
  {
   "cell_type": "code",
   "execution_count": 2,
   "metadata": {},
   "outputs": [
    {
     "name": "stderr",
     "output_type": "stream",
     "text": [
      "C:\\Users\\ma11115\\OneDrive - Imperial College London\\github_folder\\STK_search\\src\\stk_search\\Database_utils.py:106: DtypeWarning: Columns (18) have mixed types. Specify dtype option on import or set low_memory=False.\n",
      "  df_total = pd.read_csv(df_path)\n"
     ]
    }
   ],
   "source": [
    "#%% \n",
    "# Load the searched space\n",
    "df_path = 'data/output/Full_datatset/df_total_new2023_08_20.csv'\n",
    "df_precursors_path = 'Data/output/Prescursor_data/calculation_data_precursor_310823_clean.pkl'\n",
    "df_total, df_precursors = Database_utils.load_data_from_file(df_path, df_precursors_path)\n",
    "#df_total = Database_utils.load_data_database()"
   ]
  },
  {
   "cell_type": "code",
   "execution_count": 3,
   "metadata": {},
   "outputs": [
    {
     "name": "stdout",
     "output_type": "stream",
     "text": [
      "Index(['InChIKey'], dtype='object')\n"
     ]
    },
    {
     "data": {
      "application/vnd.jupyter.widget-view+json": {
       "model_id": "a4af3a0b6fd84cff9f65e18be0e07e8b",
       "version_major": 2,
       "version_minor": 0
      },
      "text/plain": [
       "VBox(children=(Dropdown(description='Property of fragment:', options=('Atom_num', 'HOMO (eV)', 'LUMO (eV)', 'H…"
      ]
     },
     "metadata": {},
     "output_type": "display_data"
    },
    {
     "data": {
      "application/vnd.jupyter.widget-view+json": {
       "model_id": "8fce38fe1b1c488e909a9c1b462cf8a8",
       "version_major": 2,
       "version_minor": 0
      },
      "text/plain": [
       "VBox(children=(Dropdown(description='Syntax:', options=((0, 0, 0, 0, 0, 0), (0, 0, 0, 0, 0, 5), (0, 0, 0, 0, 4…"
      ]
     },
     "metadata": {},
     "output_type": "display_data"
    },
    {
     "data": {
      "application/vnd.jupyter.widget-view+json": {
       "model_id": "d6d01a0d008943acb97163066d260207",
       "version_major": 2,
       "version_minor": 0
      },
      "text/plain": [
       "VBox(children=(SelectMultiple(description='Fragment 0', disabled=True, layout=Layout(height='100px'), options=…"
      ]
     },
     "metadata": {},
     "output_type": "display_data"
    },
    {
     "data": {
      "application/vnd.jupyter.widget-view+json": {
       "model_id": "93570a75e3f04c7bbee7468ef47233f2",
       "version_major": 2,
       "version_minor": 0
      },
      "text/plain": [
       "VBox(children=(Text(value='', description='Label:'), Button(description='Add to histogram', style=ButtonStyle(…"
      ]
     },
     "metadata": {},
     "output_type": "display_data"
    },
    {
     "data": {
      "application/vnd.jupyter.widget-view+json": {
       "model_id": "8f44acefcef84891b8243f9920f98813",
       "version_major": 2,
       "version_minor": 0
      },
      "text/plain": [
       "VBox(children=(interactive(children=(Output(),), _dom_classes=('widget-interact',)), interactive(children=(Dro…"
      ]
     },
     "metadata": {},
     "output_type": "display_data"
    },
    {
     "name": "stdout",
     "output_type": "stream",
     "text": [
      "shape of the dataframe (274625, 6)\n",
      "1\n"
     ]
    },
    {
     "name": "stdout",
     "output_type": "stream",
     "text": [
      "shape of the dataframe (274625, 6)\n",
      "2\n"
     ]
    }
   ],
   "source": [
    "#%%\n",
    "SP = Searched_space.Searched_Space(number_of_fragments=6,df=df_precursors,features_frag=df_precursors.columns[0:1],generation_type='conditional')\n",
    "print(SP.features_frag)\n",
    "SP.generate_interactive_condition_V2(df_total=df_total)"
   ]
  },
  {
   "cell_type": "code",
   "execution_count": 6,
   "metadata": {},
   "outputs": [
    {
     "data": {
      "text/html": [
       "<div>\n",
       "<style scoped>\n",
       "    .dataframe tbody tr th:only-of-type {\n",
       "        vertical-align: middle;\n",
       "    }\n",
       "\n",
       "    .dataframe tbody tr th {\n",
       "        vertical-align: top;\n",
       "    }\n",
       "\n",
       "    .dataframe thead th {\n",
       "        text-align: right;\n",
       "    }\n",
       "</style>\n",
       "<table border=\"1\" class=\"dataframe\">\n",
       "  <thead>\n",
       "    <tr style=\"text-align: right;\">\n",
       "      <th></th>\n",
       "      <th>number of elements</th>\n",
       "      <th>syntax</th>\n",
       "      <th>conditions</th>\n",
       "      <th>Elements in top 5%</th>\n",
       "      <th>number of elements evaluated</th>\n",
       "    </tr>\n",
       "  </thead>\n",
       "  <tbody>\n",
       "    <tr>\n",
       "      <th>0</th>\n",
       "      <td>922417564483584</td>\n",
       "      <td>[0, 1, 2, 3, 4, 5]</td>\n",
       "      <td>[['IP (eV)'#&lt;=#6.5], ['IP (eV)'#&lt;=#6.5], ['IP ...</td>\n",
       "      <td>0</td>\n",
       "      <td>0</td>\n",
       "    </tr>\n",
       "    <tr>\n",
       "      <th>1</th>\n",
       "      <td>274625</td>\n",
       "      <td>(0, 1, 2, 2, 1, 0)</td>\n",
       "      <td>[['IP (eV)'#&lt;=#6.5], ['IP (eV)'#&lt;=#6.5], ['IP ...</td>\n",
       "      <td>6.567796610169492</td>\n",
       "      <td>4.72e+02</td>\n",
       "    </tr>\n",
       "    <tr>\n",
       "      <th>2</th>\n",
       "      <td>274625</td>\n",
       "      <td>(0, 1, 2, 2, 1, 0)</td>\n",
       "      <td>[['IP (eV)'#&lt;=#6.5], ['IP (eV)'#&lt;=#6.5], ['IP ...</td>\n",
       "      <td>6.567796610169492</td>\n",
       "      <td>4.72e+02</td>\n",
       "    </tr>\n",
       "  </tbody>\n",
       "</table>\n",
       "</div>"
      ],
      "text/plain": [
       "   number of elements              syntax  \\\n",
       "0     922417564483584  [0, 1, 2, 3, 4, 5]   \n",
       "1              274625  (0, 1, 2, 2, 1, 0)   \n",
       "2              274625  (0, 1, 2, 2, 1, 0)   \n",
       "\n",
       "                                          conditions Elements in top 5%  \\\n",
       "0  [['IP (eV)'#<=#6.5], ['IP (eV)'#<=#6.5], ['IP ...                  0   \n",
       "1  [['IP (eV)'#<=#6.5], ['IP (eV)'#<=#6.5], ['IP ...  6.567796610169492   \n",
       "2  [['IP (eV)'#<=#6.5], ['IP (eV)'#<=#6.5], ['IP ...  6.567796610169492   \n",
       "\n",
       "  number of elements evaluated  \n",
       "0                            0  \n",
       "1                     4.72e+02  \n",
       "2                     4.72e+02  "
      ]
     },
     "execution_count": 6,
     "metadata": {},
     "output_type": "execute_result"
    }
   ],
   "source": [
    "# load the saved dataframe with all the tested conditions\n",
    "# and output it in order to select a few to add to the bactk experiment\n",
    "\n",
    "df_SP = pd.read_pickle('data/search_space_properties_2023_09_22_09_04_06.pkl')\n",
    "import pickle\n",
    "from datetime import datetime\n",
    "import os\n",
    "def save_SP_for_EXP(df:pd.DataFrame,index_list:list,exp_name:str):\n",
    "    time_now = datetime.now().strftime(\"%Y_%m_%d_%H_%M_%S\")\n",
    "    save_dir = f'data/input/EXP_search_sapce/{exp_name}_{time_now}/'\n",
    "    os.makedirs(save_dir,exist_ok=True)\n",
    "    SP = Searched_space.Searched_Space(number_of_fragments=6,df=df_precursors,features_frag=df_precursors.columns[0:1],generation_type='conditional')\n",
    "    SP.features_frag=SP.features_frag.append(df_precursors.columns[17:23])\n",
    "    SP.features_frag=SP.features_frag.append(df_precursors.columns[1:7])\n",
    "\n",
    "    for id in index_list:\n",
    "        SP.conditions_list = df['conditions'].values[id]\n",
    "        SP.syntax = list(df['syntax'].values[id])\n",
    "        SP.redefine_search_space()\n",
    "        print(SP.space_size)\n",
    "        print(SP.syntax)\n",
    "        print(SP.conditions_list)\n",
    "        pickle.dump(SP,file=open(save_dir+f'/search_space_{id}.pkl','wb'))\n",
    "    return SP\n",
    "\n",
    "\n",
    "df_SP\n"
   ]
  },
  {
   "cell_type": "code",
   "execution_count": 7,
   "metadata": {},
   "outputs": [
    {
     "name": "stdout",
     "output_type": "stream",
     "text": [
      "shape of the dataframe (274625, 78)\n",
      "274625\n",
      "[0, 1, 2, 2, 1, 0]\n",
      "[[\"'IP (eV)'#<=#6.5\"], [\"'IP (eV)'#<=#6.5\"], [\"'IP (eV)'#<=#6.5\"], [\"'IP (eV)'#<=#6.5\"], [\"'IP (eV)'#<=#6.5\"], [\"'IP (eV)'#<=#6.5\"]]\n"
     ]
    }
   ],
   "source": [
    "SP= save_SP_for_EXP(df_SP,[1],'exp_test')"
   ]
  },
  {
   "cell_type": "code",
   "execution_count": 16,
   "metadata": {},
   "outputs": [
    {
     "ename": "IndexError",
     "evalue": "list index out of range",
     "output_type": "error",
     "traceback": [
      "\u001b[1;31m---------------------------------------------------------------------------\u001b[0m",
      "\u001b[1;31mIndexError\u001b[0m                                Traceback (most recent call last)",
      "\u001b[1;32mc:\\Users\\ma11115\\OneDrive - Imperial College London\\github_folder\\STK_search\\notebooks\\Analyse_searched_space.ipynb Cell 6\u001b[0m line \u001b[0;36m1\n\u001b[1;32m----> <a href='vscode-notebook-cell:/c%3A/Users/ma11115/OneDrive%20-%20Imperial%20College%20London/github_folder/STK_search/notebooks/Analyse_searched_space.ipynb#W5sZmlsZQ%3D%3D?line=0'>1</a>\u001b[0m SP \u001b[39m=\u001b[39m Searched_space\u001b[39m.\u001b[39;49mSearched_Space(number_of_fragments\u001b[39m=\u001b[39;49m\u001b[39m2\u001b[39;49m,df\u001b[39m=\u001b[39;49mdf_precursors[:\u001b[39m10\u001b[39;49m],features_frag\u001b[39m=\u001b[39;49mdf_precursors\u001b[39m.\u001b[39;49mcolumns[\u001b[39m0\u001b[39;49m:\u001b[39m1\u001b[39;49m],generation_type\u001b[39m=\u001b[39;49m\u001b[39m'\u001b[39;49m\u001b[39mrandom\u001b[39;49m\u001b[39m'\u001b[39;49m)\n\u001b[0;32m      <a href='vscode-notebook-cell:/c%3A/Users/ma11115/OneDrive%20-%20Imperial%20College%20London/github_folder/STK_search/notebooks/Analyse_searched_space.ipynb#W5sZmlsZQ%3D%3D?line=1'>2</a>\u001b[0m SP\u001b[39m.\u001b[39mget_space_size()\n",
      "File \u001b[1;32m~\\OneDrive - Imperial College London\\github_folder\\STK_search\\src\\stk_search\\Search_space.py:32\u001b[0m, in \u001b[0;36mSearch_Space.__init__\u001b[1;34m(self, number_of_fragments, df, features_frag, generation_type)\u001b[0m\n\u001b[0;32m     28\u001b[0m \u001b[39mself\u001b[39m\u001b[39m.\u001b[39mgeneration_type \u001b[39m=\u001b[39m generation_type\n\u001b[0;32m     29\u001b[0m \u001b[39mself\u001b[39m\u001b[39m.\u001b[39mlist_fragment \u001b[39m=\u001b[39m \u001b[39mself\u001b[39m\u001b[39m.\u001b[39mgenerate_list_fragment(\n\u001b[0;32m     30\u001b[0m     \u001b[39mself\u001b[39m\u001b[39m.\u001b[39mgeneration_type\n\u001b[0;32m     31\u001b[0m )  \u001b[39m# list of list of index of the fragment ( need to be the same length as the number of fragments)\u001b[39;00m\n\u001b[1;32m---> 32\u001b[0m \u001b[39mself\u001b[39;49m\u001b[39m.\u001b[39;49mget_space_size()\n",
      "File \u001b[1;32m~\\OneDrive - Imperial College London\\github_folder\\STK_search\\src\\stk_search\\Search_space.py:84\u001b[0m, in \u001b[0;36mSearch_Space.get_space_size\u001b[1;34m(self)\u001b[0m\n\u001b[0;32m     79\u001b[0m \u001b[39mdef\u001b[39;00m \u001b[39mget_space_size\u001b[39m(\u001b[39mself\u001b[39m):\n\u001b[0;32m     80\u001b[0m     x \u001b[39m=\u001b[39m \u001b[39m1\u001b[39m\n\u001b[0;32m     82\u001b[0m     [\n\u001b[0;32m     83\u001b[0m         x \u001b[39m:=\u001b[39m x \u001b[39m*\u001b[39m \u001b[39mlen\u001b[39m(y)\n\u001b[1;32m---> 84\u001b[0m         \u001b[39mfor\u001b[39;00m y \u001b[39min\u001b[39;00m [\u001b[39mself\u001b[39m\u001b[39m.\u001b[39mlist_fragment[z] \u001b[39mfor\u001b[39;00m z \u001b[39min\u001b[39;00m \u001b[39mset\u001b[39m(\u001b[39mself\u001b[39m\u001b[39m.\u001b[39msyntax)]\n\u001b[0;32m     85\u001b[0m     ]\n\u001b[0;32m     86\u001b[0m     \u001b[39mself\u001b[39m\u001b[39m.\u001b[39mspace_size \u001b[39m=\u001b[39m x\n\u001b[0;32m     87\u001b[0m     \u001b[39mreturn\u001b[39;00m x\n",
      "File \u001b[1;32m~\\OneDrive - Imperial College London\\github_folder\\STK_search\\src\\stk_search\\Search_space.py:84\u001b[0m, in \u001b[0;36m<listcomp>\u001b[1;34m(.0)\u001b[0m\n\u001b[0;32m     79\u001b[0m \u001b[39mdef\u001b[39;00m \u001b[39mget_space_size\u001b[39m(\u001b[39mself\u001b[39m):\n\u001b[0;32m     80\u001b[0m     x \u001b[39m=\u001b[39m \u001b[39m1\u001b[39m\n\u001b[0;32m     82\u001b[0m     [\n\u001b[0;32m     83\u001b[0m         x \u001b[39m:=\u001b[39m x \u001b[39m*\u001b[39m \u001b[39mlen\u001b[39m(y)\n\u001b[1;32m---> 84\u001b[0m         \u001b[39mfor\u001b[39;00m y \u001b[39min\u001b[39;00m [\u001b[39mself\u001b[39;49m\u001b[39m.\u001b[39;49mlist_fragment[z] \u001b[39mfor\u001b[39;00m z \u001b[39min\u001b[39;00m \u001b[39mset\u001b[39m(\u001b[39mself\u001b[39m\u001b[39m.\u001b[39msyntax)]\n\u001b[0;32m     85\u001b[0m     ]\n\u001b[0;32m     86\u001b[0m     \u001b[39mself\u001b[39m\u001b[39m.\u001b[39mspace_size \u001b[39m=\u001b[39m x\n\u001b[0;32m     87\u001b[0m     \u001b[39mreturn\u001b[39;00m x\n",
      "\u001b[1;31mIndexError\u001b[0m: list index out of range"
     ]
    }
   ],
   "source": []
  },
  {
   "cell_type": "code",
   "execution_count": 14,
   "metadata": {},
   "outputs": [
    {
     "ename": "TypeError",
     "evalue": "plot_histogram_fragment() missing 1 required positional argument: 'number_of_fragments'",
     "output_type": "error",
     "traceback": [
      "\u001b[1;31m---------------------------------------------------------------------------\u001b[0m",
      "\u001b[1;31mTypeError\u001b[0m                                 Traceback (most recent call last)",
      "\u001b[1;32mc:\\Users\\ma11115\\OneDrive - Imperial College London\\github_folder\\STK_search\\notebooks\\Analyse_searched_space.ipynb Cell 7\u001b[0m line \u001b[0;36m4\n\u001b[0;32m     <a href='vscode-notebook-cell:/c%3A/Users/ma11115/OneDrive%20-%20Imperial%20College%20London/github_folder/STK_search/notebooks/Analyse_searched_space.ipynb#X16sZmlsZQ%3D%3D?line=40'>41</a>\u001b[0m         interact(plot_histogram, column_name\u001b[39m=\u001b[39mcolumns_dropdown, layout\u001b[39m=\u001b[39mvbox_layout)\n\u001b[0;32m     <a href='vscode-notebook-cell:/c%3A/Users/ma11115/OneDrive%20-%20Imperial%20College%20London/github_folder/STK_search/notebooks/Analyse_searched_space.ipynb#X16sZmlsZQ%3D%3D?line=41'>42</a>\u001b[0m         plt\u001b[39m.\u001b[39mshow()\n\u001b[1;32m---> <a href='vscode-notebook-cell:/c%3A/Users/ma11115/OneDrive%20-%20Imperial%20College%20London/github_folder/STK_search/notebooks/Analyse_searched_space.ipynb#X16sZmlsZQ%3D%3D?line=42'>43</a>\u001b[0m plot_histogram_fragment(SP,df_total\u001b[39m=\u001b[39;49mdf_total)\n",
      "\u001b[1;31mTypeError\u001b[0m: plot_histogram_fragment() missing 1 required positional argument: 'number_of_fragments'"
     ]
    }
   ],
   "source": [
    "def plot_histogram_fragment(df,df_total,number_of_fragments):\n",
    "        def plot_histogram_fragment(column_name,df,df_total,number_of_fragments):\n",
    "            fig, ax = plt.subplots(3, 2, figsize=(6, 6),sharex='col', sharey='row')\n",
    "            # ax share x axis and y axis\n",
    "            #ax = ax.flatten()\n",
    "\n",
    "            for i in range(number_of_fragments):\n",
    "                ax[i // 2, i % 2].hist(\n",
    "                    df_total[f\"{column_name}_{i}\"],\n",
    "                    bins=20,\n",
    "                    edgecolor=\"black\",\n",
    "                    density=True,\n",
    "                    label = \"all\"\n",
    "                )\n",
    "                ax[i // 2, i % 2].hist(\n",
    "                    df[f\"{column_name}_{i}\"],\n",
    "                    bins=20,\n",
    "                    edgecolor=\"black\",\n",
    "                    density=True,\n",
    "                    label = \"current\"\n",
    "                )\n",
    "                ax[i // 2, i % 2].set_xlabel(f\"{column_name}_{i}\")\n",
    "                ax[i // 2, i % 2].legend()\n",
    "                #ax[i // 2, i % 2].set_ylim([0, 1])\n",
    "                #ax[i // 2, i % 2].set_ylabel(\"Frequency\")\n",
    "                #ax[i // 3, i % 3].set_title(f\"Histogram of {column_name}_{i}\")\n",
    "            # set xlabel and y label for the last row\n",
    "\n",
    "            plt.tight_layout()\n",
    "            plt.show()\n",
    "\n",
    "        # Interactive widget for column selection\n",
    "        columns_dropdown = widgets.Dropdown(\n",
    "            options=[x.replace('_0','') for x in df.select_dtypes(include=[\"int\", \"float\"]).columns if '_0' in x],\n",
    "            description=\"Value:\",\n",
    "        )\n",
    "        # Set up the layout of the widgets\n",
    "\n",
    "        vbox_layout = Layout(display=\"flex\", flex_flow=\"row\", align_items=\"flex-start\")\n",
    "        # Display the widget\n",
    "        interact(plot_histogram, column_name=columns_dropdown, layout=vbox_layout)\n",
    "        plt.show()\n",
    "plot_histogram_precursor(SP,df_total=df_total)"
   ]
  },
  {
   "cell_type": "code",
   "execution_count": 290,
   "metadata": {},
   "outputs": [
    {
     "data": {
      "application/vnd.jupyter.widget-view+json": {
       "model_id": "6bda21b1557749b989ad21c6212c0f5d",
       "version_major": 2,
       "version_minor": 0
      },
      "text/plain": [
       "interactive(children=(Output(),), _dom_classes=('widget-interact',))"
      ]
     },
     "metadata": {},
     "output_type": "display_data"
    }
   ],
   "source": [
    "def plot_histogram_2(column_name,df_current_2):\n",
    "    fig, ax = plt.subplots(3, 2, figsize=(6, 6),sharex='col', sharey='row')\n",
    "    for i in range(SP.number_of_fragments):\n",
    "        ax[i // 2, i % 2].hist(\n",
    "            df_total[f\"{column_name}_{i}\"],\n",
    "            bins=20,\n",
    "            edgecolor=\"black\",\n",
    "            density=True,\n",
    "            label = \"all\"\n",
    "        )\n",
    "        ax[i // 2, i % 2].hist(\n",
    "            df_current_2[f\"{column_name}_{i}\"],\n",
    "            bins=20,\n",
    "            edgecolor=\"black\",\n",
    "            density=True,\n",
    "            label = \"current\"\n",
    "        )\n",
    "        ax[i // 2, i % 2].set_xlabel(f\"{column_name}_{i}\")\n",
    "        ax[i // 2, i % 2].legend()\n",
    "    # set xlabel and y label for the last row\n",
    "\n",
    "    plt.tight_layout()\n",
    "    plt.show()\n",
    "df_total=df_test\n",
    "df= SP.check_df_for_element_from_SP_(df_to_check=df_total)\n",
    "# Interactive widget for column selection\n",
    "columns_dropdown_2 = widgets.Dropdown(\n",
    "    options=[x.replace('_0','') for x in df_total.select_dtypes(include=[\"int\", \"float\"]).columns if '_0' in x],\n",
    "    description=\"Value:\",\n",
    ")\n",
    "hist_widget = interactive(plot_histogram_2, column_name=widgets.fixed('Atom_num'),df_current_2=widgets.fixed(df))\n",
    "display(hist_widget)\n",
    "#wait for the user to select the syntax\n",
    "input(\"Press Enter to continue...\")\n",
    "hist_widget.kwargs['df_current_2']=SP.check_df_for_element_from_SP_(df_to_check=df_total)[:5]\n",
    "\n",
    "hist_widget.update()"
   ]
  },
  {
   "cell_type": "code",
   "execution_count": 11,
   "metadata": {},
   "outputs": [],
   "source": [
    "list_col = [f'InChIKey_{x}' for x in range(6)]\n",
    "list_col.append('target')\n",
    "df_total[list_col].to_csv('Data/output/Full_datatset/data_for_adam.csv',index=False)"
   ]
  }
 ],
 "metadata": {
  "kernelspec": {
   "display_name": "Python 3",
   "language": "python",
   "name": "python3"
  },
  "language_info": {
   "codemirror_mode": {
    "name": "ipython",
    "version": 3
   },
   "file_extension": ".py",
   "mimetype": "text/x-python",
   "name": "python",
   "nbconvert_exporter": "python",
   "pygments_lexer": "ipython3",
   "version": "3.10.12"
  },
  "orig_nbformat": 4
 },
 "nbformat": 4,
 "nbformat_minor": 2
}
