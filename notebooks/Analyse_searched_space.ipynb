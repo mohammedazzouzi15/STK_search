{
 "cells": [
  {
   "cell_type": "code",
   "execution_count": 12,
   "metadata": {},
   "outputs": [],
   "source": [
    "\n",
    "import os\n",
    "os.chdir('c:\\\\Users\\\\ma11115\\\\OneDrive - Imperial College London\\\\github_folder\\\\STK_SEARCH\\\\')\n",
    "\n",
    "\n",
    "from stk_search import Searched_space\n",
    "import importlib\n",
    "importlib.reload(Searched_space)\n",
    "import pickle\n",
    "import pymongo\n",
    "import pandas as pd\n",
    "import numpy as np\n",
    "from stk_search import Database_utils\n"
   ]
  },
  {
   "cell_type": "code",
   "execution_count": 13,
   "metadata": {},
   "outputs": [
    {
     "name": "stderr",
     "output_type": "stream",
     "text": [
      "C:\\Users\\ma11115\\OneDrive - Imperial College London\\github_folder\\STK_search\\src\\stk_search\\Database_utils.py:68: DtypeWarning: Columns (18) have mixed types. Specify dtype option on import or set low_memory=False.\n",
      "  df_total = pd.read_csv(df_path)\n"
     ]
    },
    {
     "ename": "ServerSelectionTimeoutError",
     "evalue": "129.31.66.201:27017: timed out, Timeout: 30s, Topology Description: <TopologyDescription id: 6501bef7d9688c1c8affe48a, topology_type: Unknown, servers: [<ServerDescription ('129.31.66.201', 27017) server_type: Unknown, rtt: None, error=NetworkTimeout('129.31.66.201:27017: timed out')>]>",
     "output_type": "error",
     "traceback": [
      "\u001b[1;31m---------------------------------------------------------------------------\u001b[0m",
      "\u001b[1;31mServerSelectionTimeoutError\u001b[0m               Traceback (most recent call last)",
      "\u001b[1;32mc:\\Users\\ma11115\\OneDrive - Imperial College London\\github_folder\\STK_search\\notebooks\\Analyse_searched_space.ipynb Cell 2\u001b[0m line \u001b[0;36m6\n\u001b[0;32m      <a href='vscode-notebook-cell:/c%3A/Users/ma11115/OneDrive%20-%20Imperial%20College%20London/github_folder/STK_search/notebooks/Analyse_searched_space.ipynb#W1sZmlsZQ%3D%3D?line=3'>4</a>\u001b[0m df_precursors_path \u001b[39m=\u001b[39m \u001b[39m'\u001b[39m\u001b[39mData/output/Prescursor_data/calculation_data_precursor_310823_clean.pkl\u001b[39m\u001b[39m'\u001b[39m\n\u001b[0;32m      <a href='vscode-notebook-cell:/c%3A/Users/ma11115/OneDrive%20-%20Imperial%20College%20London/github_folder/STK_search/notebooks/Analyse_searched_space.ipynb#W1sZmlsZQ%3D%3D?line=4'>5</a>\u001b[0m df_total, df_precursors \u001b[39m=\u001b[39m Database_utils\u001b[39m.\u001b[39mload_data_from_file(df_path, df_precursors_path)\n\u001b[1;32m----> <a href='vscode-notebook-cell:/c%3A/Users/ma11115/OneDrive%20-%20Imperial%20College%20London/github_folder/STK_search/notebooks/Analyse_searched_space.ipynb#W1sZmlsZQ%3D%3D?line=5'>6</a>\u001b[0m df_total \u001b[39m=\u001b[39m Database_utils\u001b[39m.\u001b[39;49mload_data_database()\n",
      "File \u001b[1;32m~\\OneDrive - Imperial College London\\github_folder\\STK_search\\src\\stk_search\\Database_utils.py:28\u001b[0m, in \u001b[0;36mload_data_database\u001b[1;34m()\u001b[0m\n\u001b[0;32m     26\u001b[0m     df_total[\u001b[39mf\u001b[39m\u001b[39m'\u001b[39m\u001b[39mfosc1\u001b[39m\u001b[39m'\u001b[39m]\u001b[39m=\u001b[39mdf_total[\u001b[39mf\u001b[39m\u001b[39m'\u001b[39m\u001b[39mExcited state oscillator strength\u001b[39m\u001b[39m'\u001b[39m]\u001b[39m.\u001b[39mapply(\u001b[39mlambda\u001b[39;00m x: x[\u001b[39m0\u001b[39m])\n\u001b[0;32m     27\u001b[0m     \u001b[39mreturn\u001b[39;00m df_total\n\u001b[1;32m---> 28\u001b[0m df_total_new \u001b[39m=\u001b[39m load_data()\n\u001b[0;32m     29\u001b[0m df_total_new\u001b[39m.\u001b[39mdropna(subset\u001b[39m=\u001b[39m[\u001b[39m'\u001b[39m\u001b[39mfosc1\u001b[39m\u001b[39m'\u001b[39m,\u001b[39m'\u001b[39m\u001b[39mBB\u001b[39m\u001b[39m'\u001b[39m],inplace\u001b[39m=\u001b[39m\u001b[39mTrue\u001b[39;00m)\n\u001b[0;32m     30\u001b[0m df_total_new\u001b[39m=\u001b[39mdf_total_new[df_total_new[\u001b[39m'\u001b[39m\u001b[39mfosc1\u001b[39m\u001b[39m'\u001b[39m]\u001b[39m>\u001b[39m\u001b[39m0\u001b[39m]\n",
      "File \u001b[1;32m~\\OneDrive - Imperial College London\\github_folder\\STK_search\\src\\stk_search\\Database_utils.py:16\u001b[0m, in \u001b[0;36mload_data_database.<locals>.load_data\u001b[1;34m()\u001b[0m\n\u001b[0;32m     14\u001b[0m database \u001b[39m=\u001b[39m client[\u001b[39m\"\u001b[39m\u001b[39mstk_mohammed_BO\u001b[39m\u001b[39m\"\u001b[39m]\n\u001b[0;32m     15\u001b[0m collection \u001b[39m=\u001b[39m database[\u001b[39m\"\u001b[39m\u001b[39mBO_exp1_IPEA\u001b[39m\u001b[39m\"\u001b[39m]\n\u001b[1;32m---> 16\u001b[0m df_IPEA \u001b[39m=\u001b[39m pd\u001b[39m.\u001b[39mDataFrame(\u001b[39mlist\u001b[39;49m(collection\u001b[39m.\u001b[39;49mfind()))\n\u001b[0;32m     17\u001b[0m collection \u001b[39m=\u001b[39m database[\u001b[39m\"\u001b[39m\u001b[39mBO_exp1_Stda\u001b[39m\u001b[39m\"\u001b[39m]\n\u001b[0;32m     18\u001b[0m df_STDA \u001b[39m=\u001b[39m pd\u001b[39m.\u001b[39mDataFrame(\u001b[39mlist\u001b[39m(collection\u001b[39m.\u001b[39mfind()))\n",
      "File \u001b[1;32mc:\\Users\\ma11115\\OneDrive - Imperial College London\\github_folder\\BO_polymers\\.conda\\lib\\site-packages\\pymongo\\cursor.py:1262\u001b[0m, in \u001b[0;36mCursor.next\u001b[1;34m(self)\u001b[0m\n\u001b[0;32m   1260\u001b[0m \u001b[39mif\u001b[39;00m \u001b[39mself\u001b[39m\u001b[39m.\u001b[39m__empty:\n\u001b[0;32m   1261\u001b[0m     \u001b[39mraise\u001b[39;00m \u001b[39mStopIteration\u001b[39;00m\n\u001b[1;32m-> 1262\u001b[0m \u001b[39mif\u001b[39;00m \u001b[39mlen\u001b[39m(\u001b[39mself\u001b[39m\u001b[39m.\u001b[39m__data) \u001b[39mor\u001b[39;00m \u001b[39mself\u001b[39;49m\u001b[39m.\u001b[39;49m_refresh():\n\u001b[0;32m   1263\u001b[0m     \u001b[39mreturn\u001b[39;00m \u001b[39mself\u001b[39m\u001b[39m.\u001b[39m__data\u001b[39m.\u001b[39mpopleft()\n\u001b[0;32m   1264\u001b[0m \u001b[39melse\u001b[39;00m:\n",
      "File \u001b[1;32mc:\\Users\\ma11115\\OneDrive - Imperial College London\\github_folder\\BO_polymers\\.conda\\lib\\site-packages\\pymongo\\cursor.py:1153\u001b[0m, in \u001b[0;36mCursor._refresh\u001b[1;34m(self)\u001b[0m\n\u001b[0;32m   1150\u001b[0m     \u001b[39mreturn\u001b[39;00m \u001b[39mlen\u001b[39m(\u001b[39mself\u001b[39m\u001b[39m.\u001b[39m__data)\n\u001b[0;32m   1152\u001b[0m \u001b[39mif\u001b[39;00m \u001b[39mnot\u001b[39;00m \u001b[39mself\u001b[39m\u001b[39m.\u001b[39m__session:\n\u001b[1;32m-> 1153\u001b[0m     \u001b[39mself\u001b[39m\u001b[39m.\u001b[39m__session \u001b[39m=\u001b[39m \u001b[39mself\u001b[39;49m\u001b[39m.\u001b[39;49m__collection\u001b[39m.\u001b[39;49mdatabase\u001b[39m.\u001b[39;49mclient\u001b[39m.\u001b[39;49m_ensure_session()\n\u001b[0;32m   1155\u001b[0m \u001b[39mif\u001b[39;00m \u001b[39mself\u001b[39m\u001b[39m.\u001b[39m__id \u001b[39mis\u001b[39;00m \u001b[39mNone\u001b[39;00m:  \u001b[39m# Query\u001b[39;00m\n\u001b[0;32m   1156\u001b[0m     \u001b[39mif\u001b[39;00m (\u001b[39mself\u001b[39m\u001b[39m.\u001b[39m__min \u001b[39mor\u001b[39;00m \u001b[39mself\u001b[39m\u001b[39m.\u001b[39m__max) \u001b[39mand\u001b[39;00m \u001b[39mnot\u001b[39;00m \u001b[39mself\u001b[39m\u001b[39m.\u001b[39m__hint:\n",
      "File \u001b[1;32mc:\\Users\\ma11115\\OneDrive - Imperial College London\\github_folder\\BO_polymers\\.conda\\lib\\site-packages\\pymongo\\mongo_client.py:1868\u001b[0m, in \u001b[0;36mMongoClient._ensure_session\u001b[1;34m(self, session)\u001b[0m\n\u001b[0;32m   1863\u001b[0m     \u001b[39mreturn\u001b[39;00m session\n\u001b[0;32m   1865\u001b[0m \u001b[39mtry\u001b[39;00m:\n\u001b[0;32m   1866\u001b[0m     \u001b[39m# Don't make implicit sessions causally consistent. Applications\u001b[39;00m\n\u001b[0;32m   1867\u001b[0m     \u001b[39m# should always opt-in.\u001b[39;00m\n\u001b[1;32m-> 1868\u001b[0m     \u001b[39mreturn\u001b[39;00m \u001b[39mself\u001b[39;49m\u001b[39m.\u001b[39;49m__start_session(\u001b[39mTrue\u001b[39;49;00m, causal_consistency\u001b[39m=\u001b[39;49m\u001b[39mFalse\u001b[39;49;00m)\n\u001b[0;32m   1869\u001b[0m \u001b[39mexcept\u001b[39;00m (ConfigurationError, InvalidOperation):\n\u001b[0;32m   1870\u001b[0m     \u001b[39m# Sessions not supported.\u001b[39;00m\n\u001b[0;32m   1871\u001b[0m     \u001b[39mreturn\u001b[39;00m \u001b[39mNone\u001b[39;00m\n",
      "File \u001b[1;32mc:\\Users\\ma11115\\OneDrive - Imperial College London\\github_folder\\BO_polymers\\.conda\\lib\\site-packages\\pymongo\\mongo_client.py:1811\u001b[0m, in \u001b[0;36mMongoClient.__start_session\u001b[1;34m(self, implicit, **kwargs)\u001b[0m\n\u001b[0;32m   1808\u001b[0m \u001b[39mdef\u001b[39;00m \u001b[39m__start_session\u001b[39m(\u001b[39mself\u001b[39m, implicit: \u001b[39mbool\u001b[39m, \u001b[39m*\u001b[39m\u001b[39m*\u001b[39mkwargs: Any) \u001b[39m-\u001b[39m\u001b[39m>\u001b[39m ClientSession:\n\u001b[0;32m   1809\u001b[0m     \u001b[39m# Raises ConfigurationError if sessions are not supported.\u001b[39;00m\n\u001b[0;32m   1810\u001b[0m     \u001b[39mif\u001b[39;00m implicit:\n\u001b[1;32m-> 1811\u001b[0m         \u001b[39mself\u001b[39;49m\u001b[39m.\u001b[39;49m_topology\u001b[39m.\u001b[39;49m_check_implicit_session_support()\n\u001b[0;32m   1812\u001b[0m         server_session: Union[_EmptyServerSession, _ServerSession] \u001b[39m=\u001b[39m _EmptyServerSession()\n\u001b[0;32m   1813\u001b[0m     \u001b[39melse\u001b[39;00m:\n",
      "File \u001b[1;32mc:\\Users\\ma11115\\OneDrive - Imperial College London\\github_folder\\BO_polymers\\.conda\\lib\\site-packages\\pymongo\\topology.py:583\u001b[0m, in \u001b[0;36mTopology._check_implicit_session_support\u001b[1;34m(self)\u001b[0m\n\u001b[0;32m    581\u001b[0m \u001b[39mdef\u001b[39;00m \u001b[39m_check_implicit_session_support\u001b[39m(\u001b[39mself\u001b[39m) \u001b[39m-\u001b[39m\u001b[39m>\u001b[39m \u001b[39mNone\u001b[39;00m:\n\u001b[0;32m    582\u001b[0m     \u001b[39mwith\u001b[39;00m \u001b[39mself\u001b[39m\u001b[39m.\u001b[39m_lock:\n\u001b[1;32m--> 583\u001b[0m         \u001b[39mself\u001b[39;49m\u001b[39m.\u001b[39;49m_check_session_support()\n",
      "File \u001b[1;32mc:\\Users\\ma11115\\OneDrive - Imperial College London\\github_folder\\BO_polymers\\.conda\\lib\\site-packages\\pymongo\\topology.py:599\u001b[0m, in \u001b[0;36mTopology._check_session_support\u001b[1;34m(self)\u001b[0m\n\u001b[0;32m    595\u001b[0m         \u001b[39mself\u001b[39m\u001b[39m.\u001b[39m_select_servers_loop(\n\u001b[0;32m    596\u001b[0m             any_server_selector, \u001b[39mself\u001b[39m\u001b[39m.\u001b[39mget_server_selection_timeout(), \u001b[39mNone\u001b[39;00m\n\u001b[0;32m    597\u001b[0m         )\n\u001b[0;32m    598\u001b[0m \u001b[39melif\u001b[39;00m \u001b[39mnot\u001b[39;00m \u001b[39mself\u001b[39m\u001b[39m.\u001b[39m_description\u001b[39m.\u001b[39mreadable_servers:\n\u001b[1;32m--> 599\u001b[0m     \u001b[39mself\u001b[39;49m\u001b[39m.\u001b[39;49m_select_servers_loop(\n\u001b[0;32m    600\u001b[0m         readable_server_selector, \u001b[39mself\u001b[39;49m\u001b[39m.\u001b[39;49mget_server_selection_timeout(), \u001b[39mNone\u001b[39;49;00m\n\u001b[0;32m    601\u001b[0m     )\n\u001b[0;32m    603\u001b[0m session_timeout \u001b[39m=\u001b[39m \u001b[39mself\u001b[39m\u001b[39m.\u001b[39m_description\u001b[39m.\u001b[39mlogical_session_timeout_minutes\n\u001b[0;32m    604\u001b[0m \u001b[39mif\u001b[39;00m session_timeout \u001b[39mis\u001b[39;00m \u001b[39mNone\u001b[39;00m:\n",
      "File \u001b[1;32mc:\\Users\\ma11115\\OneDrive - Imperial College London\\github_folder\\BO_polymers\\.conda\\lib\\site-packages\\pymongo\\topology.py:269\u001b[0m, in \u001b[0;36mTopology._select_servers_loop\u001b[1;34m(self, selector, timeout, address)\u001b[0m\n\u001b[0;32m    266\u001b[0m \u001b[39mwhile\u001b[39;00m \u001b[39mnot\u001b[39;00m server_descriptions:\n\u001b[0;32m    267\u001b[0m     \u001b[39m# No suitable servers.\u001b[39;00m\n\u001b[0;32m    268\u001b[0m     \u001b[39mif\u001b[39;00m timeout \u001b[39m==\u001b[39m \u001b[39m0\u001b[39m \u001b[39mor\u001b[39;00m now \u001b[39m>\u001b[39m end_time:\n\u001b[1;32m--> 269\u001b[0m         \u001b[39mraise\u001b[39;00m ServerSelectionTimeoutError(\n\u001b[0;32m    270\u001b[0m             \u001b[39mf\u001b[39m\u001b[39m\"\u001b[39m\u001b[39m{\u001b[39;00m\u001b[39mself\u001b[39m\u001b[39m.\u001b[39m_error_message(selector)\u001b[39m}\u001b[39;00m\u001b[39m, Timeout: \u001b[39m\u001b[39m{\u001b[39;00mtimeout\u001b[39m}\u001b[39;00m\u001b[39ms, Topology Description: \u001b[39m\u001b[39m{\u001b[39;00m\u001b[39mself\u001b[39m\u001b[39m.\u001b[39mdescription\u001b[39m!r}\u001b[39;00m\u001b[39m\"\u001b[39m\n\u001b[0;32m    271\u001b[0m         )\n\u001b[0;32m    273\u001b[0m     \u001b[39mself\u001b[39m\u001b[39m.\u001b[39m_ensure_opened()\n\u001b[0;32m    274\u001b[0m     \u001b[39mself\u001b[39m\u001b[39m.\u001b[39m_request_check_all()\n",
      "\u001b[1;31mServerSelectionTimeoutError\u001b[0m: 129.31.66.201:27017: timed out, Timeout: 30s, Topology Description: <TopologyDescription id: 6501bef7d9688c1c8affe48a, topology_type: Unknown, servers: [<ServerDescription ('129.31.66.201', 27017) server_type: Unknown, rtt: None, error=NetworkTimeout('129.31.66.201:27017: timed out')>]>"
     ]
    }
   ],
   "source": [
    "#%% \n",
    "# Load the searched space\n",
    "df_path = 'data/output/Full_datatset/df_total_new2023_08_20.csv'\n",
    "df_precursors_path = 'Data/output/Prescursor_data/calculation_data_precursor_310823_clean.pkl'\n",
    "df_total, df_precursors = Database_utils.load_data_from_file(df_path, df_precursors_path)\n",
    "df_total = Database_utils.load_data_database()"
   ]
  },
  {
   "cell_type": "code",
   "execution_count": 10,
   "metadata": {},
   "outputs": [
    {
     "name": "stdout",
     "output_type": "stream",
     "text": [
      "Index(['InChIKey'], dtype='object')\n"
     ]
    },
    {
     "data": {
      "application/vnd.jupyter.widget-view+json": {
       "model_id": "ac4e1e2d63df4e92b831dbed81312343",
       "version_major": 2,
       "version_minor": 0
      },
      "text/plain": [
       "VBox(children=(Dropdown(description='Property of fragment:', options=('Atom_num', 'HOMO (eV)', 'LUMO (eV)', 'H…"
      ]
     },
     "metadata": {},
     "output_type": "display_data"
    },
    {
     "data": {
      "application/vnd.jupyter.widget-view+json": {
       "model_id": "e63cd9af0ba3405a88bbbe4a2b6a7a51",
       "version_major": 2,
       "version_minor": 0
      },
      "text/plain": [
       "VBox(children=(Dropdown(description='Syntax:', options=((0, 0, 0, 0, 0, 0), (0, 0, 0, 0, 0, 5), (0, 0, 0, 0, 4…"
      ]
     },
     "metadata": {},
     "output_type": "display_data"
    },
    {
     "data": {
      "application/vnd.jupyter.widget-view+json": {
       "model_id": "fcfdaa50a9e940c3b572cad9893aa6a1",
       "version_major": 2,
       "version_minor": 0
      },
      "text/plain": [
       "VBox(children=(SelectMultiple(description='Fragment 0', disabled=True, layout=Layout(height='100px'), options=…"
      ]
     },
     "metadata": {},
     "output_type": "display_data"
    },
    {
     "data": {
      "application/vnd.jupyter.widget-view+json": {
       "model_id": "97f3202dfbc143e1ac770ed47a921918",
       "version_major": 2,
       "version_minor": 0
      },
      "text/plain": [
       "VBox(children=(Text(value='', description='Label:'), Button(description='Add to histogram', style=ButtonStyle(…"
      ]
     },
     "metadata": {},
     "output_type": "display_data"
    },
    {
     "data": {
      "application/vnd.jupyter.widget-view+json": {
       "model_id": "1b0056a131314b92b06f4e826e9c406d",
       "version_major": 2,
       "version_minor": 0
      },
      "text/plain": [
       "VBox(children=(interactive(children=(Output(),), _dom_classes=('widget-interact',)), interactive(children=(Dro…"
      ]
     },
     "metadata": {},
     "output_type": "display_data"
    }
   ],
   "source": [
    "#%%\n",
    "SP = Searched_space.Searched_Space(number_of_fragments=6,df=df_precursors,features_frag=df_precursors.columns[0:1],generation_type='conditional')\n",
    "print(SP.features_frag)\n",
    "SP.generate_interactive_condition_V2(df_total=df_total)"
   ]
  },
  {
   "cell_type": "code",
   "execution_count": 12,
   "metadata": {},
   "outputs": [
    {
     "data": {
      "text/html": [
       "<div>\n",
       "<style scoped>\n",
       "    .dataframe tbody tr th:only-of-type {\n",
       "        vertical-align: middle;\n",
       "    }\n",
       "\n",
       "    .dataframe tbody tr th {\n",
       "        vertical-align: top;\n",
       "    }\n",
       "\n",
       "    .dataframe thead th {\n",
       "        text-align: right;\n",
       "    }\n",
       "</style>\n",
       "<table border=\"1\" class=\"dataframe\">\n",
       "  <thead>\n",
       "    <tr style=\"text-align: right;\">\n",
       "      <th></th>\n",
       "      <th>number of elements</th>\n",
       "      <th>syntax</th>\n",
       "      <th>conditions</th>\n",
       "      <th>Elements in top 5%</th>\n",
       "      <th>number of elements evaluated</th>\n",
       "    </tr>\n",
       "  </thead>\n",
       "  <tbody>\n",
       "    <tr>\n",
       "      <th>0</th>\n",
       "      <td>922417564483584</td>\n",
       "      <td>[0, 1, 2, 3, 4, 5]</td>\n",
       "      <td>[[], [], [], [], [], []]</td>\n",
       "      <td>0</td>\n",
       "      <td>0</td>\n",
       "    </tr>\n",
       "  </tbody>\n",
       "</table>\n",
       "</div>"
      ],
      "text/plain": [
       "   number of elements              syntax                conditions  \\\n",
       "0     922417564483584  [0, 1, 2, 3, 4, 5]  [[], [], [], [], [], []]   \n",
       "\n",
       "   Elements in top 5%  number of elements evaluated  \n",
       "0                   0                             0  "
      ]
     },
     "execution_count": 12,
     "metadata": {},
     "output_type": "execute_result"
    }
   ],
   "source": [
    "# load the saved dataframe with all the tested conditions\n",
    "# and output it in order to select a few to add to the bactk experiment\n",
    "\n",
    "df_SP = pd.read_pickle('Data/search_space_properties_2023_09_11_12_03_15.pkl')\n",
    "import pickle\n",
    "from datetime import datetime\n",
    "import os\n",
    "def save_SP_for_EXP(df:pd.DataFrame,index_list:list,exp_name:str):\n",
    "    time_now = datetime.now().strftime(\"%Y_%m_%d_%H_%M_%S\")\n",
    "    os.makedirs(f'Inputs/{exp_name}_{time_now}',exist_ok=True)\n",
    "    SP = Searched_space.Searched_Space(number_of_fragments=6,df=df_precursors,features_frag=df_precursors.columns[0:1],generation_type='conditional')\n",
    "    SP.features_frag=SP.features_frag.append(df_precursors.columns[17:23])\n",
    "    SP.features_frag=SP.features_frag.append(df_precursors.columns[1:7])\n",
    "\n",
    "    for id in index_list:\n",
    "        SP.conditions_list = df['conditions'].values[id]\n",
    "        SP.syntax = list(df['syntax'].values[id])\n",
    "        SP.redefine_search_space()\n",
    "        print(SP.space_size)\n",
    "        print(SP.syntax)\n",
    "        print(SP.conditions_list)\n",
    "        pickle.dump(SP,file=open(f'Inputs/{exp_name}_{time_now}/search_space_{id}.pkl','wb'))\n",
    "    return SP\n",
    "\n",
    "\n",
    "df_SP\n"
   ]
  },
  {
   "cell_type": "code",
   "execution_count": 59,
   "metadata": {},
   "outputs": [
    {
     "name": "stdout",
     "output_type": "stream",
     "text": [
      "space way too big\n",
      "362010675000\n",
      "[0, 1, 2, 3, 4, 5]\n",
      "[[\"'IP (eV)'#<=#6.5\"], [], [\"'IP (eV)'#<=#6.5\"], [\"'IP (eV)'#<=#6.5\"], [\"'IP (eV)'#<=#6.5\"], [\"'IP (eV)'#<=#6.5\"]]\n",
      "space too big but will take element randomly\n",
      "shape of the dataframe (1318200, 78)\n",
      "1318200\n",
      "[0, 1, 2, 2, 1, 0]\n",
      "[[\"'IP (eV)'#<=#6.5\"], [], [\"'IP (eV)'#<=#6.5\"], [\"'IP (eV)'#<=#6.5\"], [\"'IP (eV)'#<=#6.5\"], [\"'IP (eV)'#<=#6.5\"]]\n",
      "space too big but will take element randomly\n",
      "shape of the dataframe (1318200, 78)\n",
      "1318200\n",
      "[0, 1, 2, 2, 1, 0]\n",
      "[[\"'IP (eV)'#<=#6.5\"], [], [\"'IP (eV)'#<=#6.5\"], [\"'IP (eV)'#<=#6.5\"], [\"'IP (eV)'#<=#6.5\"], [\"'IP (eV)'#<=#6.5\"]]\n",
      "space too big but will take element randomly\n",
      "shape of the dataframe (1318200, 78)\n",
      "1318200\n",
      "[0, 1, 2, 2, 0, 0]\n",
      "[[\"'IP (eV)'#<=#6.5\"], [], [\"'IP (eV)'#<=#6.5\"], [\"'IP (eV)'#<=#6.5\"], [\"'IP (eV)'#<=#6.5\"], [\"'IP (eV)'#<=#6.5\"]]\n",
      "space too big but will take element randomly\n",
      "shape of the dataframe (1318200, 78)\n",
      "1318200\n",
      "[0, 1, 2, 1, 2, 1]\n",
      "[[\"'IP (eV)'#<=#6.5\"], [], [\"'IP (eV)'#<=#6.5\"], [\"'IP (eV)'#<=#6.5\"], [\"'IP (eV)'#<=#6.5\"], [\"'IP (eV)'#<=#6.5\"]]\n"
     ]
    }
   ],
   "source": [
    "SP= save_SP_for_EXP(df_SP,[1,3,4,5,6],'exp1')"
   ]
  },
  {
   "cell_type": "code",
   "execution_count": 9,
   "metadata": {},
   "outputs": [
    {
     "name": "stdout",
     "output_type": "stream",
     "text": [
      "space too big but will take element randomly\n",
      "shape of the dataframe (1318200, 42)\n",
      "(37, 100)\n"
     ]
    }
   ],
   "source": []
  },
  {
   "cell_type": "code",
   "execution_count": 14,
   "metadata": {},
   "outputs": [
    {
     "ename": "TypeError",
     "evalue": "plot_histogram_fragment() missing 1 required positional argument: 'number_of_fragments'",
     "output_type": "error",
     "traceback": [
      "\u001b[1;31m---------------------------------------------------------------------------\u001b[0m",
      "\u001b[1;31mTypeError\u001b[0m                                 Traceback (most recent call last)",
      "\u001b[1;32mc:\\Users\\ma11115\\OneDrive - Imperial College London\\github_folder\\STK_search\\notebooks\\Analyse_searched_space.ipynb Cell 7\u001b[0m line \u001b[0;36m4\n\u001b[0;32m     <a href='vscode-notebook-cell:/c%3A/Users/ma11115/OneDrive%20-%20Imperial%20College%20London/github_folder/STK_search/notebooks/Analyse_searched_space.ipynb#X16sZmlsZQ%3D%3D?line=40'>41</a>\u001b[0m         interact(plot_histogram, column_name\u001b[39m=\u001b[39mcolumns_dropdown, layout\u001b[39m=\u001b[39mvbox_layout)\n\u001b[0;32m     <a href='vscode-notebook-cell:/c%3A/Users/ma11115/OneDrive%20-%20Imperial%20College%20London/github_folder/STK_search/notebooks/Analyse_searched_space.ipynb#X16sZmlsZQ%3D%3D?line=41'>42</a>\u001b[0m         plt\u001b[39m.\u001b[39mshow()\n\u001b[1;32m---> <a href='vscode-notebook-cell:/c%3A/Users/ma11115/OneDrive%20-%20Imperial%20College%20London/github_folder/STK_search/notebooks/Analyse_searched_space.ipynb#X16sZmlsZQ%3D%3D?line=42'>43</a>\u001b[0m plot_histogram_fragment(SP,df_total\u001b[39m=\u001b[39;49mdf_total)\n",
      "\u001b[1;31mTypeError\u001b[0m: plot_histogram_fragment() missing 1 required positional argument: 'number_of_fragments'"
     ]
    }
   ],
   "source": [
    "def plot_histogram_fragment(df,df_total,number_of_fragments):\n",
    "        def plot_histogram_fragment(column_name,df,df_total,number_of_fragments):\n",
    "            fig, ax = plt.subplots(3, 2, figsize=(6, 6),sharex='col', sharey='row')\n",
    "            # ax share x axis and y axis\n",
    "            #ax = ax.flatten()\n",
    "\n",
    "            for i in range(number_of_fragments):\n",
    "                ax[i // 2, i % 2].hist(\n",
    "                    df_total[f\"{column_name}_{i}\"],\n",
    "                    bins=20,\n",
    "                    edgecolor=\"black\",\n",
    "                    density=True,\n",
    "                    label = \"all\"\n",
    "                )\n",
    "                ax[i // 2, i % 2].hist(\n",
    "                    df[f\"{column_name}_{i}\"],\n",
    "                    bins=20,\n",
    "                    edgecolor=\"black\",\n",
    "                    density=True,\n",
    "                    label = \"current\"\n",
    "                )\n",
    "                ax[i // 2, i % 2].set_xlabel(f\"{column_name}_{i}\")\n",
    "                ax[i // 2, i % 2].legend()\n",
    "                #ax[i // 2, i % 2].set_ylim([0, 1])\n",
    "                #ax[i // 2, i % 2].set_ylabel(\"Frequency\")\n",
    "                #ax[i // 3, i % 3].set_title(f\"Histogram of {column_name}_{i}\")\n",
    "            # set xlabel and y label for the last row\n",
    "\n",
    "            plt.tight_layout()\n",
    "            plt.show()\n",
    "\n",
    "        # Interactive widget for column selection\n",
    "        columns_dropdown = widgets.Dropdown(\n",
    "            options=[x.replace('_0','') for x in df.select_dtypes(include=[\"int\", \"float\"]).columns if '_0' in x],\n",
    "            description=\"Value:\",\n",
    "        )\n",
    "        # Set up the layout of the widgets\n",
    "\n",
    "        vbox_layout = Layout(display=\"flex\", flex_flow=\"row\", align_items=\"flex-start\")\n",
    "        # Display the widget\n",
    "        interact(plot_histogram, column_name=columns_dropdown, layout=vbox_layout)\n",
    "        plt.show()\n",
    "plot_histogram_precursor(SP,df_total=df_total)"
   ]
  },
  {
   "cell_type": "code",
   "execution_count": 290,
   "metadata": {},
   "outputs": [
    {
     "data": {
      "application/vnd.jupyter.widget-view+json": {
       "model_id": "6bda21b1557749b989ad21c6212c0f5d",
       "version_major": 2,
       "version_minor": 0
      },
      "text/plain": [
       "interactive(children=(Output(),), _dom_classes=('widget-interact',))"
      ]
     },
     "metadata": {},
     "output_type": "display_data"
    }
   ],
   "source": [
    "def plot_histogram_2(column_name,df_current_2):\n",
    "    fig, ax = plt.subplots(3, 2, figsize=(6, 6),sharex='col', sharey='row')\n",
    "    for i in range(SP.number_of_fragments):\n",
    "        ax[i // 2, i % 2].hist(\n",
    "            df_total[f\"{column_name}_{i}\"],\n",
    "            bins=20,\n",
    "            edgecolor=\"black\",\n",
    "            density=True,\n",
    "            label = \"all\"\n",
    "        )\n",
    "        ax[i // 2, i % 2].hist(\n",
    "            df_current_2[f\"{column_name}_{i}\"],\n",
    "            bins=20,\n",
    "            edgecolor=\"black\",\n",
    "            density=True,\n",
    "            label = \"current\"\n",
    "        )\n",
    "        ax[i // 2, i % 2].set_xlabel(f\"{column_name}_{i}\")\n",
    "        ax[i // 2, i % 2].legend()\n",
    "    # set xlabel and y label for the last row\n",
    "\n",
    "    plt.tight_layout()\n",
    "    plt.show()\n",
    "df_total=df_test\n",
    "df= SP.check_df_for_element_from_SP_(df_to_check=df_total)\n",
    "# Interactive widget for column selection\n",
    "columns_dropdown_2 = widgets.Dropdown(\n",
    "    options=[x.replace('_0','') for x in df_total.select_dtypes(include=[\"int\", \"float\"]).columns if '_0' in x],\n",
    "    description=\"Value:\",\n",
    ")\n",
    "hist_widget = interactive(plot_histogram_2, column_name=widgets.fixed('Atom_num'),df_current_2=widgets.fixed(df))\n",
    "display(hist_widget)\n",
    "#wait for the user to select the syntax\n",
    "input(\"Press Enter to continue...\")\n",
    "hist_widget.kwargs['df_current_2']=SP.check_df_for_element_from_SP_(df_to_check=df_total)[:5]\n",
    "\n",
    "hist_widget.update()"
   ]
  },
  {
   "cell_type": "code",
   "execution_count": 11,
   "metadata": {},
   "outputs": [],
   "source": [
    "list_col = [f'InChIKey_{x}' for x in range(6)]\n",
    "list_col.append('target')\n",
    "df_total[list_col].to_csv('Data/output/Full_datatset/data_for_adam.csv',index=False)"
   ]
  }
 ],
 "metadata": {
  "kernelspec": {
   "display_name": "Python 3",
   "language": "python",
   "name": "python3"
  },
  "language_info": {
   "codemirror_mode": {
    "name": "ipython",
    "version": 3
   },
   "file_extension": ".py",
   "mimetype": "text/x-python",
   "name": "python",
   "nbconvert_exporter": "python",
   "pygments_lexer": "ipython3",
   "version": "3.10.12"
  },
  "orig_nbformat": 4
 },
 "nbformat": 4,
 "nbformat_minor": 2
}
