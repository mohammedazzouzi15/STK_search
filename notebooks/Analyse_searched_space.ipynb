{
 "cells": [
  {
   "cell_type": "code",
   "execution_count": 65,
   "metadata": {},
   "outputs": [],
   "source": [
    "\n",
    "import os\n",
    "os.chdir('c:\\\\Users\\\\ma11115\\\\OneDrive - Imperial College London\\\\github_folder\\\\STK_SEARCH\\\\')\n",
    "\n",
    "\n",
    "from stk_search import Searched_space\n",
    "import importlib\n",
    "importlib.reload(Searched_space)\n",
    "import pickle\n",
    "import pymongo\n",
    "import pandas as pd\n",
    "import numpy as np\n",
    "from stk_search import Database_utils\n"
   ]
  },
  {
   "cell_type": "code",
   "execution_count": 4,
   "metadata": {},
   "outputs": [],
   "source": [
    "#%% \n",
    "# Load the searched space\n",
    "df_path = 'data/output/Full_datatset/df_total_new2023_08_20.csv'\n",
    "df_precursors_path = 'Data/output/Prescursor_data/calculation_data_precursor_310823_clean.pkl'\n",
    "#df_total, df_precursors = Database_utils.load_data_from_file(df_path, df_precursors_path)\n",
    "importlib.reload(Database_utils)\n",
    "df_total, df_precursors = Database_utils.load_data_database(df_precursors_path)"
   ]
  },
  {
   "cell_type": "code",
   "execution_count": 10,
   "metadata": {},
   "outputs": [],
   "source": [
    "df_path = 'data/output/Full_datatset/df_total_2023_10_30.csv'\n",
    "df_total.to_csv(df_path, index=False)"
   ]
  },
  {
   "cell_type": "code",
   "execution_count": 67,
   "metadata": {},
   "outputs": [
    {
     "name": "stdout",
     "output_type": "stream",
     "text": [
      "Index(['InChIKey'], dtype='object')\n"
     ]
    },
    {
     "data": {
      "application/vnd.jupyter.widget-view+json": {
       "model_id": "d09f2a40e4b34957a08730a310cce852",
       "version_major": 2,
       "version_minor": 0
      },
      "text/plain": [
       "VBox(children=(Dropdown(description='Property of fragment:', options=('Atom_num', 'HOMO (eV)', 'LUMO (eV)', 'H…"
      ]
     },
     "metadata": {},
     "output_type": "display_data"
    },
    {
     "data": {
      "application/vnd.jupyter.widget-view+json": {
       "model_id": "07033856284b4e288a7531f0454acf62",
       "version_major": 2,
       "version_minor": 0
      },
      "text/plain": [
       "VBox(children=(Dropdown(description='Syntax:', options=((0, 0, 0, 0, 0, 0), (0, 0, 0, 0, 0, 5), (0, 0, 0, 0, 4…"
      ]
     },
     "metadata": {},
     "output_type": "display_data"
    },
    {
     "data": {
      "application/vnd.jupyter.widget-view+json": {
       "model_id": "4f65e00c140d44a18992fb67ccec48c5",
       "version_major": 2,
       "version_minor": 0
      },
      "text/plain": [
       "VBox(children=(SelectMultiple(description='Fragment 0', disabled=True, layout=Layout(height='100px'), options=…"
      ]
     },
     "metadata": {},
     "output_type": "display_data"
    },
    {
     "data": {
      "application/vnd.jupyter.widget-view+json": {
       "model_id": "1e126be7307f4e96b1d42fd22c5b54ac",
       "version_major": 2,
       "version_minor": 0
      },
      "text/plain": [
       "VBox(children=(Text(value='', description='Label:'), Button(description='Add to histogram', style=ButtonStyle(…"
      ]
     },
     "metadata": {},
     "output_type": "display_data"
    },
    {
     "data": {
      "application/vnd.jupyter.widget-view+json": {
       "model_id": "beb502bf76e3460ca928740da8dd4b84",
       "version_major": 2,
       "version_minor": 0
      },
      "text/plain": [
       "VBox(children=(interactive(children=(Output(),), _dom_classes=('widget-interact',)), interactive(children=(Dro…"
      ]
     },
     "metadata": {},
     "output_type": "display_data"
    },
    {
     "name": "stdout",
     "output_type": "stream",
     "text": [
      "1\n"
     ]
    },
    {
     "name": "stdout",
     "output_type": "stream",
     "text": [
      "[[], [], [], [], [], []]\n",
      "[{'number of elements': 922417564483584, 'syntax': [0, 1, 2, 3, 4, 5], 'conditions': [[], [], [], [], [], []], 'Elements in top 5%': 0, 'number of elements evaluated': 0}, {'number of elements': 97344, 'syntax': (0, 1, 0, 1, 0, 1), 'conditions': [[], [], [], [], [], []], 'Elements in top 5%': '20.0', 'number of elements evaluated': '5.00e+01'}]\n",
      "2\n"
     ]
    },
    {
     "name": "stdout",
     "output_type": "stream",
     "text": [
      "[[], [], [], [], [], []]\n",
      "[{'number of elements': 922417564483584, 'syntax': [0, 1, 2, 3, 4, 5], 'conditions': [[], [], [], [], [], []], 'Elements in top 5%': 0, 'number of elements evaluated': 0}, {'number of elements': 97344, 'syntax': (0, 1, 0, 1, 0, 1), 'conditions': [[], [], [], [], [], []], 'Elements in top 5%': '20.0', 'number of elements evaluated': '5.00e+01'}, {'number of elements': 30371328, 'syntax': (0, 1, 2, 0, 1, 2), 'conditions': [[], [], [], [], [], []], 'Elements in top 5%': '15.048543689320388', 'number of elements evaluated': '2.06e+02'}]\n",
      "3\n"
     ]
    },
    {
     "name": "stdout",
     "output_type": "stream",
     "text": [
      "[[], [], [], [], [], []]\n",
      "[{'number of elements': 922417564483584, 'syntax': [0, 1, 2, 3, 4, 5], 'conditions': [[], [], [], [], [], []], 'Elements in top 5%': 0, 'number of elements evaluated': 0}, {'number of elements': 97344, 'syntax': (0, 1, 0, 1, 0, 1), 'conditions': [[], [], [], [], [], []], 'Elements in top 5%': '20.0', 'number of elements evaluated': '5.00e+01'}, {'number of elements': 30371328, 'syntax': (0, 1, 2, 0, 1, 2), 'conditions': [[], [], [], [], [], []], 'Elements in top 5%': '15.048543689320388', 'number of elements evaluated': '2.06e+02'}, {'number of elements': 9475854336, 'syntax': (0, 1, 2, 3, 1, 0), 'conditions': [[], [], [], [], [], []], 'Elements in top 5%': '5.848329048843188', 'number of elements evaluated': '3.11e+03'}]\n"
     ]
    },
    {
     "name": "stdout",
     "output_type": "stream",
     "text": [
      "4\n"
     ]
    },
    {
     "name": "stdout",
     "output_type": "stream",
     "text": [
      "[[\"'IP (eV)'#<=#7\"], [\"'IP (eV)'#<=#7\"], [\"'IP (eV)'#<=#7\"], [\"'IP (eV)'#<=#7\"], [\"'IP (eV)'#<=#7\"], [\"'IP (eV)'#<=#7\"]]\n",
      "[{'number of elements': 922417564483584, 'syntax': [0, 1, 2, 3, 4, 5], 'conditions': [[], [], [], [], [], []], 'Elements in top 5%': 0, 'number of elements evaluated': 0}, {'number of elements': 97344, 'syntax': (0, 1, 0, 1, 0, 1), 'conditions': [[], [], [], [], [], []], 'Elements in top 5%': '20.0', 'number of elements evaluated': '5.00e+01'}, {'number of elements': 30371328, 'syntax': (0, 1, 2, 0, 1, 2), 'conditions': [[], [], [], [], [], []], 'Elements in top 5%': '15.048543689320388', 'number of elements evaluated': '2.06e+02'}, {'number of elements': 9475854336, 'syntax': (0, 1, 2, 3, 1, 0), 'conditions': [[], [], [], [], [], []], 'Elements in top 5%': '5.848329048843188', 'number of elements evaluated': '3.11e+03'}, {'number of elements': 9475854336, 'syntax': (0, 1, 2, 3, 1, 0), 'conditions': [[\"'IP (eV)'#<=#7\"], [\"'IP (eV)'#<=#7\"], [\"'IP (eV)'#<=#7\"], [\"'IP (eV)'#<=#7\"], [\"'IP (eV)'#<=#7\"], [\"'IP (eV)'#<=#7\"]], 'Elements in top 5%': '7.662082514734774', 'number of elements evaluated': '1.02e+03'}]\n",
      "5\n"
     ]
    },
    {
     "name": "stdout",
     "output_type": "stream",
     "text": [
      "[[\"'IP (eV)'#<=#7\"], [], [\"'IP (eV)'#<=#7\"], [], [\"'IP (eV)'#<=#7\"], []]\n",
      "[{'number of elements': 922417564483584, 'syntax': [0, 1, 2, 3, 4, 5], 'conditions': [[], [], [], [], [], []], 'Elements in top 5%': 0, 'number of elements evaluated': 0}, {'number of elements': 97344, 'syntax': (0, 1, 0, 1, 0, 1), 'conditions': [[], [], [], [], [], []], 'Elements in top 5%': '20.0', 'number of elements evaluated': '5.00e+01'}, {'number of elements': 30371328, 'syntax': (0, 1, 2, 0, 1, 2), 'conditions': [[], [], [], [], [], []], 'Elements in top 5%': '15.048543689320388', 'number of elements evaluated': '2.06e+02'}, {'number of elements': 9475854336, 'syntax': (0, 1, 2, 3, 1, 0), 'conditions': [[], [], [], [], [], []], 'Elements in top 5%': '5.848329048843188', 'number of elements evaluated': '3.11e+03'}, {'number of elements': 9475854336, 'syntax': (0, 1, 2, 3, 1, 0), 'conditions': [[\"'IP (eV)'#<=#7\"], [\"'IP (eV)'#<=#7\"], [\"'IP (eV)'#<=#7\"], [\"'IP (eV)'#<=#7\"], [\"'IP (eV)'#<=#7\"], [\"'IP (eV)'#<=#7\"]], 'Elements in top 5%': '7.662082514734774', 'number of elements evaluated': '1.02e+03'}, {'number of elements': 9475854336, 'syntax': (0, 1, 2, 3, 1, 0), 'conditions': [[\"'IP (eV)'#<=#7\"], [], [\"'IP (eV)'#<=#7\"], [], [\"'IP (eV)'#<=#7\"], []], 'Elements in top 5%': '8.29576194770063', 'number of elements evaluated': '1.11e+03'}]\n",
      "6\n"
     ]
    },
    {
     "name": "stdout",
     "output_type": "stream",
     "text": [
      "[[\"'IP (eV)'#<=#7\"], [], [\"'IP (eV)'#<=#7\"], [], [\"'IP (eV)'#<=#7\"], []]\n",
      "[{'number of elements': 922417564483584, 'syntax': [0, 1, 2, 3, 4, 5], 'conditions': [[], [], [], [], [], []], 'Elements in top 5%': 0, 'number of elements evaluated': 0}, {'number of elements': 97344, 'syntax': (0, 1, 0, 1, 0, 1), 'conditions': [[], [], [], [], [], []], 'Elements in top 5%': '20.0', 'number of elements evaluated': '5.00e+01'}, {'number of elements': 30371328, 'syntax': (0, 1, 2, 0, 1, 2), 'conditions': [[], [], [], [], [], []], 'Elements in top 5%': '15.048543689320388', 'number of elements evaluated': '2.06e+02'}, {'number of elements': 9475854336, 'syntax': (0, 1, 2, 3, 1, 0), 'conditions': [[], [], [], [], [], []], 'Elements in top 5%': '5.848329048843188', 'number of elements evaluated': '3.11e+03'}, {'number of elements': 9475854336, 'syntax': (0, 1, 2, 3, 1, 0), 'conditions': [[\"'IP (eV)'#<=#7\"], [\"'IP (eV)'#<=#7\"], [\"'IP (eV)'#<=#7\"], [\"'IP (eV)'#<=#7\"], [\"'IP (eV)'#<=#7\"], [\"'IP (eV)'#<=#7\"]], 'Elements in top 5%': '7.662082514734774', 'number of elements evaluated': '1.02e+03'}, {'number of elements': 9475854336, 'syntax': (0, 1, 2, 3, 1, 0), 'conditions': [[\"'IP (eV)'#<=#7\"], [], [\"'IP (eV)'#<=#7\"], [], [\"'IP (eV)'#<=#7\"], []], 'Elements in top 5%': '8.29576194770063', 'number of elements evaluated': '1.11e+03'}, {'number of elements': 9475854336, 'syntax': (0, 1, 2, 3, 1, 0), 'conditions': [[\"'IP (eV)'#<=#7\"], [], [\"'IP (eV)'#<=#7\"], [], [\"'IP (eV)'#<=#7\"], []], 'Elements in top 5%': '8.29576194770063', 'number of elements evaluated': '1.11e+03'}]\n",
      "7\n"
     ]
    },
    {
     "name": "stdout",
     "output_type": "stream",
     "text": [
      "[[\"'IP (eV)'#<=#7\"], [\"'IP (eV)'#>=#7.5\"], [\"'IP (eV)'#<=#7\"], [\"'IP (eV)'#>=#7.5\"], [\"'IP (eV)'#<=#7\"], [\"'IP (eV)'#>=#7.5\"]]\n",
      "[{'number of elements': 922417564483584, 'syntax': [0, 1, 2, 3, 4, 5], 'conditions': [[], [], [], [], [], []], 'Elements in top 5%': 0, 'number of elements evaluated': 0}, {'number of elements': 97344, 'syntax': (0, 1, 0, 1, 0, 1), 'conditions': [[], [], [], [], [], []], 'Elements in top 5%': '20.0', 'number of elements evaluated': '5.00e+01'}, {'number of elements': 30371328, 'syntax': (0, 1, 2, 0, 1, 2), 'conditions': [[], [], [], [], [], []], 'Elements in top 5%': '15.048543689320388', 'number of elements evaluated': '2.06e+02'}, {'number of elements': 9475854336, 'syntax': (0, 1, 2, 3, 1, 0), 'conditions': [[], [], [], [], [], []], 'Elements in top 5%': '5.848329048843188', 'number of elements evaluated': '3.11e+03'}, {'number of elements': 9475854336, 'syntax': (0, 1, 2, 3, 1, 0), 'conditions': [[\"'IP (eV)'#<=#7\"], [\"'IP (eV)'#<=#7\"], [\"'IP (eV)'#<=#7\"], [\"'IP (eV)'#<=#7\"], [\"'IP (eV)'#<=#7\"], [\"'IP (eV)'#<=#7\"]], 'Elements in top 5%': '7.662082514734774', 'number of elements evaluated': '1.02e+03'}, {'number of elements': 9475854336, 'syntax': (0, 1, 2, 3, 1, 0), 'conditions': [[\"'IP (eV)'#<=#7\"], [], [\"'IP (eV)'#<=#7\"], [], [\"'IP (eV)'#<=#7\"], []], 'Elements in top 5%': '8.29576194770063', 'number of elements evaluated': '1.11e+03'}, {'number of elements': 9475854336, 'syntax': (0, 1, 2, 3, 1, 0), 'conditions': [[\"'IP (eV)'#<=#7\"], [], [\"'IP (eV)'#<=#7\"], [], [\"'IP (eV)'#<=#7\"], []], 'Elements in top 5%': '8.29576194770063', 'number of elements evaluated': '1.11e+03'}, {'number of elements': 9475854336, 'syntax': (0, 1, 2, 3, 1, 0), 'conditions': [[\"'IP (eV)'#<=#7\"], [\"'IP (eV)'#>=#7.5\"], [\"'IP (eV)'#<=#7\"], [\"'IP (eV)'#>=#7.5\"], [\"'IP (eV)'#<=#7\"], [\"'IP (eV)'#>=#7.5\"]], 'Elements in top 5%': 'no data', 'number of elements evaluated': '0.00e+00'}]\n",
      "8\n"
     ]
    },
    {
     "name": "stdout",
     "output_type": "stream",
     "text": [
      "[[\"'IP (eV)'#<=#7\"], [], [\"'IP (eV)'#<=#7\"], [], [\"'IP (eV)'#<=#7\"], []]\n",
      "[{'number of elements': 922417564483584, 'syntax': [0, 1, 2, 3, 4, 5], 'conditions': [[], [], [], [], [], []], 'Elements in top 5%': 0, 'number of elements evaluated': 0}, {'number of elements': 97344, 'syntax': (0, 1, 0, 1, 0, 1), 'conditions': [[], [], [], [], [], []], 'Elements in top 5%': '20.0', 'number of elements evaluated': '5.00e+01'}, {'number of elements': 30371328, 'syntax': (0, 1, 2, 0, 1, 2), 'conditions': [[], [], [], [], [], []], 'Elements in top 5%': '15.048543689320388', 'number of elements evaluated': '2.06e+02'}, {'number of elements': 9475854336, 'syntax': (0, 1, 2, 3, 1, 0), 'conditions': [[], [], [], [], [], []], 'Elements in top 5%': '5.848329048843188', 'number of elements evaluated': '3.11e+03'}, {'number of elements': 9475854336, 'syntax': (0, 1, 2, 3, 1, 0), 'conditions': [[\"'IP (eV)'#<=#7\"], [\"'IP (eV)'#<=#7\"], [\"'IP (eV)'#<=#7\"], [\"'IP (eV)'#<=#7\"], [\"'IP (eV)'#<=#7\"], [\"'IP (eV)'#<=#7\"]], 'Elements in top 5%': '7.662082514734774', 'number of elements evaluated': '1.02e+03'}, {'number of elements': 9475854336, 'syntax': (0, 1, 2, 3, 1, 0), 'conditions': [[\"'IP (eV)'#<=#7\"], [], [\"'IP (eV)'#<=#7\"], [], [\"'IP (eV)'#<=#7\"], []], 'Elements in top 5%': '8.29576194770063', 'number of elements evaluated': '1.11e+03'}, {'number of elements': 9475854336, 'syntax': (0, 1, 2, 3, 1, 0), 'conditions': [[\"'IP (eV)'#<=#7\"], [], [\"'IP (eV)'#<=#7\"], [], [\"'IP (eV)'#<=#7\"], []], 'Elements in top 5%': '8.29576194770063', 'number of elements evaluated': '1.11e+03'}, {'number of elements': 9475854336, 'syntax': (0, 1, 2, 3, 1, 0), 'conditions': [[\"'IP (eV)'#<=#7\"], [\"'IP (eV)'#>=#7.5\"], [\"'IP (eV)'#<=#7\"], [\"'IP (eV)'#>=#7.5\"], [\"'IP (eV)'#<=#7\"], [\"'IP (eV)'#>=#7.5\"]], 'Elements in top 5%': 'no data', 'number of elements evaluated': '0.00e+00'}, {'number of elements': 922417564483584, 'syntax': (0, 1, 2, 3, 4, 5), 'conditions': [[\"'IP (eV)'#<=#7\"], [], [\"'IP (eV)'#<=#7\"], [], [\"'IP (eV)'#<=#7\"], []], 'Elements in top 5%': '7.498601007274762', 'number of elements evaluated': '1.25e+04'}]\n"
     ]
    }
   ],
   "source": [
    "#%%\n",
    "SP = Searched_space.Searched_Space(number_of_fragments=6,df=df_precursors,features_frag=df_precursors.columns[0:1],generation_type='conditional')\n",
    "print(SP.features_frag)\n",
    "SP.generate_interactive_condition_V2(df_total=df_total)"
   ]
  },
  {
   "cell_type": "code",
   "execution_count": 73,
   "metadata": {},
   "outputs": [
    {
     "data": {
      "text/html": [
       "<div>\n",
       "<style scoped>\n",
       "    .dataframe tbody tr th:only-of-type {\n",
       "        vertical-align: middle;\n",
       "    }\n",
       "\n",
       "    .dataframe tbody tr th {\n",
       "        vertical-align: top;\n",
       "    }\n",
       "\n",
       "    .dataframe thead th {\n",
       "        text-align: right;\n",
       "    }\n",
       "</style>\n",
       "<table border=\"1\" class=\"dataframe\">\n",
       "  <thead>\n",
       "    <tr style=\"text-align: right;\">\n",
       "      <th></th>\n",
       "      <th>number of elements</th>\n",
       "      <th>syntax</th>\n",
       "      <th>conditions</th>\n",
       "      <th>Elements in top 5%</th>\n",
       "      <th>number of elements evaluated</th>\n",
       "    </tr>\n",
       "  </thead>\n",
       "  <tbody>\n",
       "    <tr>\n",
       "      <th>0</th>\n",
       "      <td>922417564483584</td>\n",
       "      <td>[0, 1, 2, 3, 4, 5]</td>\n",
       "      <td>[[], [], [], [], [], []]</td>\n",
       "      <td>0</td>\n",
       "      <td>0</td>\n",
       "    </tr>\n",
       "    <tr>\n",
       "      <th>1</th>\n",
       "      <td>97344</td>\n",
       "      <td>(0, 1, 0, 1, 0, 1)</td>\n",
       "      <td>[[], [], [], [], [], []]</td>\n",
       "      <td>20.0</td>\n",
       "      <td>5.00e+01</td>\n",
       "    </tr>\n",
       "    <tr>\n",
       "      <th>2</th>\n",
       "      <td>30371328</td>\n",
       "      <td>(0, 1, 2, 0, 1, 2)</td>\n",
       "      <td>[[], [], [], [], [], []]</td>\n",
       "      <td>15.048543689320388</td>\n",
       "      <td>2.06e+02</td>\n",
       "    </tr>\n",
       "    <tr>\n",
       "      <th>3</th>\n",
       "      <td>9475854336</td>\n",
       "      <td>(0, 1, 2, 3, 1, 0)</td>\n",
       "      <td>[[], [], [], [], [], []]</td>\n",
       "      <td>5.848329048843188</td>\n",
       "      <td>3.11e+03</td>\n",
       "    </tr>\n",
       "    <tr>\n",
       "      <th>4</th>\n",
       "      <td>9475854336</td>\n",
       "      <td>(0, 1, 2, 3, 1, 0)</td>\n",
       "      <td>[['IP (eV)'#&lt;=#7], ['IP (eV)'#&lt;=#7], ['IP (eV)...</td>\n",
       "      <td>7.662082514734774</td>\n",
       "      <td>1.02e+03</td>\n",
       "    </tr>\n",
       "    <tr>\n",
       "      <th>5</th>\n",
       "      <td>9475854336</td>\n",
       "      <td>(0, 1, 2, 3, 1, 0)</td>\n",
       "      <td>[['IP (eV)'#&lt;=#7], [], ['IP (eV)'#&lt;=#7], [], [...</td>\n",
       "      <td>8.29576194770063</td>\n",
       "      <td>1.11e+03</td>\n",
       "    </tr>\n",
       "    <tr>\n",
       "      <th>6</th>\n",
       "      <td>9475854336</td>\n",
       "      <td>(0, 1, 2, 3, 1, 0)</td>\n",
       "      <td>[['IP (eV)'#&lt;=#7], [], ['IP (eV)'#&lt;=#7], [], [...</td>\n",
       "      <td>8.29576194770063</td>\n",
       "      <td>1.11e+03</td>\n",
       "    </tr>\n",
       "    <tr>\n",
       "      <th>7</th>\n",
       "      <td>9475854336</td>\n",
       "      <td>(0, 1, 2, 3, 1, 0)</td>\n",
       "      <td>[['IP (eV)'#&lt;=#7], ['IP (eV)'#&gt;=#7.5], ['IP (e...</td>\n",
       "      <td>no data</td>\n",
       "      <td>0.00e+00</td>\n",
       "    </tr>\n",
       "  </tbody>\n",
       "</table>\n",
       "</div>"
      ],
      "text/plain": [
       "   number of elements              syntax  \\\n",
       "0     922417564483584  [0, 1, 2, 3, 4, 5]   \n",
       "1               97344  (0, 1, 0, 1, 0, 1)   \n",
       "2            30371328  (0, 1, 2, 0, 1, 2)   \n",
       "3          9475854336  (0, 1, 2, 3, 1, 0)   \n",
       "4          9475854336  (0, 1, 2, 3, 1, 0)   \n",
       "5          9475854336  (0, 1, 2, 3, 1, 0)   \n",
       "6          9475854336  (0, 1, 2, 3, 1, 0)   \n",
       "7          9475854336  (0, 1, 2, 3, 1, 0)   \n",
       "\n",
       "                                          conditions  Elements in top 5%  \\\n",
       "0                           [[], [], [], [], [], []]                   0   \n",
       "1                           [[], [], [], [], [], []]                20.0   \n",
       "2                           [[], [], [], [], [], []]  15.048543689320388   \n",
       "3                           [[], [], [], [], [], []]   5.848329048843188   \n",
       "4  [['IP (eV)'#<=#7], ['IP (eV)'#<=#7], ['IP (eV)...   7.662082514734774   \n",
       "5  [['IP (eV)'#<=#7], [], ['IP (eV)'#<=#7], [], [...    8.29576194770063   \n",
       "6  [['IP (eV)'#<=#7], [], ['IP (eV)'#<=#7], [], [...    8.29576194770063   \n",
       "7  [['IP (eV)'#<=#7], ['IP (eV)'#>=#7.5], ['IP (e...             no data   \n",
       "\n",
       "  number of elements evaluated  \n",
       "0                            0  \n",
       "1                     5.00e+01  \n",
       "2                     2.06e+02  \n",
       "3                     3.11e+03  \n",
       "4                     1.02e+03  \n",
       "5                     1.11e+03  \n",
       "6                     1.11e+03  \n",
       "7                     0.00e+00  "
      ]
     },
     "execution_count": 73,
     "metadata": {},
     "output_type": "execute_result"
    }
   ],
   "source": [
    "df_SP = pd.read_pickle('data/search_space_properties_2023_10_30_16_15_58.pkl')\n",
    "df_SP"
   ]
  },
  {
   "cell_type": "code",
   "execution_count": 75,
   "metadata": {},
   "outputs": [
    {
     "data": {
      "text/html": [
       "<div>\n",
       "<style scoped>\n",
       "    .dataframe tbody tr th:only-of-type {\n",
       "        vertical-align: middle;\n",
       "    }\n",
       "\n",
       "    .dataframe tbody tr th {\n",
       "        vertical-align: top;\n",
       "    }\n",
       "\n",
       "    .dataframe thead th {\n",
       "        text-align: right;\n",
       "    }\n",
       "</style>\n",
       "<table border=\"1\" class=\"dataframe\">\n",
       "  <thead>\n",
       "    <tr style=\"text-align: right;\">\n",
       "      <th></th>\n",
       "      <th>number of elements</th>\n",
       "      <th>syntax</th>\n",
       "      <th>conditions</th>\n",
       "      <th>Elements in top 5%</th>\n",
       "      <th>number of elements evaluated</th>\n",
       "    </tr>\n",
       "  </thead>\n",
       "  <tbody>\n",
       "    <tr>\n",
       "      <th>0</th>\n",
       "      <td>922417564483584</td>\n",
       "      <td>[0, 1, 2, 3, 4, 5]</td>\n",
       "      <td>[[], [], [], [], [], []]</td>\n",
       "      <td>0</td>\n",
       "      <td>0</td>\n",
       "    </tr>\n",
       "    <tr>\n",
       "      <th>1</th>\n",
       "      <td>97344</td>\n",
       "      <td>(0, 1, 0, 1, 0, 1)</td>\n",
       "      <td>[[], [], [], [], [], []]</td>\n",
       "      <td>20.0</td>\n",
       "      <td>5.00e+01</td>\n",
       "    </tr>\n",
       "    <tr>\n",
       "      <th>2</th>\n",
       "      <td>30371328</td>\n",
       "      <td>(0, 1, 2, 0, 1, 2)</td>\n",
       "      <td>[[], [], [], [], [], []]</td>\n",
       "      <td>15.048543689320388</td>\n",
       "      <td>2.06e+02</td>\n",
       "    </tr>\n",
       "    <tr>\n",
       "      <th>3</th>\n",
       "      <td>9475854336</td>\n",
       "      <td>(0, 1, 2, 3, 1, 0)</td>\n",
       "      <td>[[], [], [], [], [], []]</td>\n",
       "      <td>5.848329048843188</td>\n",
       "      <td>3.11e+03</td>\n",
       "    </tr>\n",
       "    <tr>\n",
       "      <th>4</th>\n",
       "      <td>9475854336</td>\n",
       "      <td>(0, 1, 2, 3, 1, 0)</td>\n",
       "      <td>[['IP (eV)'#&lt;=#7], ['IP (eV)'#&lt;=#7], ['IP (eV)...</td>\n",
       "      <td>7.662082514734774</td>\n",
       "      <td>1.02e+03</td>\n",
       "    </tr>\n",
       "    <tr>\n",
       "      <th>5</th>\n",
       "      <td>9475854336</td>\n",
       "      <td>(0, 1, 2, 3, 1, 0)</td>\n",
       "      <td>[['IP (eV)'#&lt;=#7], [], ['IP (eV)'#&lt;=#7], [], [...</td>\n",
       "      <td>8.29576194770063</td>\n",
       "      <td>1.11e+03</td>\n",
       "    </tr>\n",
       "    <tr>\n",
       "      <th>6</th>\n",
       "      <td>9475854336</td>\n",
       "      <td>(0, 1, 2, 3, 1, 0)</td>\n",
       "      <td>[['IP (eV)'#&lt;=#7], [], ['IP (eV)'#&lt;=#7], [], [...</td>\n",
       "      <td>8.29576194770063</td>\n",
       "      <td>1.11e+03</td>\n",
       "    </tr>\n",
       "    <tr>\n",
       "      <th>7</th>\n",
       "      <td>9475854336</td>\n",
       "      <td>(0, 1, 2, 3, 1, 0)</td>\n",
       "      <td>[['IP (eV)'#&lt;=#7], ['IP (eV)'#&gt;=#7.5], ['IP (e...</td>\n",
       "      <td>no data</td>\n",
       "      <td>0.00e+00</td>\n",
       "    </tr>\n",
       "    <tr>\n",
       "      <th>8</th>\n",
       "      <td>922417564483584</td>\n",
       "      <td>(0, 1, 2, 3, 4, 5)</td>\n",
       "      <td>[['IP (eV)'#&lt;=#7], [], ['IP (eV)'#&lt;=#7], [], [...</td>\n",
       "      <td>7.498601007274762</td>\n",
       "      <td>1.25e+04</td>\n",
       "    </tr>\n",
       "  </tbody>\n",
       "</table>\n",
       "</div>"
      ],
      "text/plain": [
       "   number of elements              syntax  \\\n",
       "0     922417564483584  [0, 1, 2, 3, 4, 5]   \n",
       "1               97344  (0, 1, 0, 1, 0, 1)   \n",
       "2            30371328  (0, 1, 2, 0, 1, 2)   \n",
       "3          9475854336  (0, 1, 2, 3, 1, 0)   \n",
       "4          9475854336  (0, 1, 2, 3, 1, 0)   \n",
       "5          9475854336  (0, 1, 2, 3, 1, 0)   \n",
       "6          9475854336  (0, 1, 2, 3, 1, 0)   \n",
       "7          9475854336  (0, 1, 2, 3, 1, 0)   \n",
       "8     922417564483584  (0, 1, 2, 3, 4, 5)   \n",
       "\n",
       "                                          conditions  Elements in top 5%  \\\n",
       "0                           [[], [], [], [], [], []]                   0   \n",
       "1                           [[], [], [], [], [], []]                20.0   \n",
       "2                           [[], [], [], [], [], []]  15.048543689320388   \n",
       "3                           [[], [], [], [], [], []]   5.848329048843188   \n",
       "4  [['IP (eV)'#<=#7], ['IP (eV)'#<=#7], ['IP (eV)...   7.662082514734774   \n",
       "5  [['IP (eV)'#<=#7], [], ['IP (eV)'#<=#7], [], [...    8.29576194770063   \n",
       "6  [['IP (eV)'#<=#7], [], ['IP (eV)'#<=#7], [], [...    8.29576194770063   \n",
       "7  [['IP (eV)'#<=#7], ['IP (eV)'#>=#7.5], ['IP (e...             no data   \n",
       "8  [['IP (eV)'#<=#7], [], ['IP (eV)'#<=#7], [], [...   7.498601007274762   \n",
       "\n",
       "  number of elements evaluated  \n",
       "0                            0  \n",
       "1                     5.00e+01  \n",
       "2                     2.06e+02  \n",
       "3                     3.11e+03  \n",
       "4                     1.02e+03  \n",
       "5                     1.11e+03  \n",
       "6                     1.11e+03  \n",
       "7                     0.00e+00  \n",
       "8                     1.25e+04  "
      ]
     },
     "execution_count": 75,
     "metadata": {},
     "output_type": "execute_result"
    }
   ],
   "source": [
    "# load the saved dataframe with all the tested conditions\n",
    "# and output it in order to select a few to add to the bactk experiment\n",
    "\n",
    "#df_SP = pd.read_pickle('data/search_space_properties_2023_10_30_11_19_54.pkl')\n",
    "df_SP = pd.read_pickle('data/search_space_properties_2023_10_30_16_20_54.pkl')\n",
    "\n",
    "import pickle\n",
    "from datetime import datetime\n",
    "import os\n",
    "def save_SP_for_EXP(df:pd.DataFrame,index_list:list,exp_name:str):\n",
    "    time_now = datetime.now().strftime(\"%Y_%m_%d_%H_%M_%S\")\n",
    "    save_dir = f'data/input/EXP_search_sapce/{exp_name}_{time_now}/'\n",
    "    os.makedirs(save_dir,exist_ok=True)\n",
    "    SP = Searched_space.Searched_Space(number_of_fragments=6,df=df_precursors,features_frag=df_precursors.columns[0:1],generation_type='conditional')\n",
    "    SP.features_frag=SP.features_frag.append(df_precursors.columns[17:23])\n",
    "    SP.features_frag=SP.features_frag.append(df_precursors.columns[1:7])\n",
    "\n",
    "    for id in index_list:\n",
    "        SP.conditions_list = df['conditions'].values[id]\n",
    "        SP.syntax = list(df['syntax'].values[id])\n",
    "        #SP.redefine_search_space()\n",
    "        print(SP.space_size)\n",
    "        print(SP.syntax)\n",
    "        print(SP.conditions_list)\n",
    "        pickle.dump(SP,file=open(save_dir+f'/search_space_{id}.pkl','wb'))\n",
    "    return SP\n",
    "\n",
    "\n",
    "df_SP\n"
   ]
  },
  {
   "cell_type": "code",
   "execution_count": null,
   "metadata": {},
   "outputs": [],
   "source": []
  },
  {
   "cell_type": "code",
   "execution_count": 76,
   "metadata": {},
   "outputs": [
    {
     "name": "stdout",
     "output_type": "stream",
     "text": [
      "922417564483584\n",
      "[0, 1, 2, 3, 4, 5]\n",
      "[[], [], [], [], [], []]\n",
      "922417564483584\n",
      "[0, 1, 2, 3, 1, 0]\n",
      "[[], [], [], [], [], []]\n",
      "922417564483584\n",
      "[0, 1, 2, 3, 1, 0]\n",
      "[[\"'IP (eV)'#<=#7\"], [], [\"'IP (eV)'#<=#7\"], [], [\"'IP (eV)'#<=#7\"], []]\n",
      "922417564483584\n",
      "[0, 1, 2, 3, 4, 5]\n",
      "[[\"'IP (eV)'#<=#7\"], [], [\"'IP (eV)'#<=#7\"], [], [\"'IP (eV)'#<=#7\"], []]\n"
     ]
    }
   ],
   "source": [
    "SP= save_SP_for_EXP(df_SP,[0,3,5,8],'exp_111')\n"
   ]
  },
  {
   "cell_type": "code",
   "execution_count": 46,
   "metadata": {},
   "outputs": [
    {
     "name": "stdout",
     "output_type": "stream",
     "text": [
      "0 0.0027979854504756574\n",
      "1 0.0\n",
      "2 0.0\n",
      "3 0.03333333333333333\n",
      "4 0.03333333333333333\n",
      "5 0.005488474204171241\n",
      "6 0.005488474204171241\n",
      "7 0.005488474204171241\n"
     ]
    },
    {
     "data": {
      "text/html": [
       "<div>\n",
       "<style scoped>\n",
       "    .dataframe tbody tr th:only-of-type {\n",
       "        vertical-align: middle;\n",
       "    }\n",
       "\n",
       "    .dataframe tbody tr th {\n",
       "        vertical-align: top;\n",
       "    }\n",
       "\n",
       "    .dataframe thead th {\n",
       "        text-align: right;\n",
       "    }\n",
       "</style>\n",
       "<table border=\"1\" class=\"dataframe\">\n",
       "  <thead>\n",
       "    <tr style=\"text-align: right;\">\n",
       "      <th></th>\n",
       "      <th>0</th>\n",
       "      <th>1</th>\n",
       "      <th>2</th>\n",
       "      <th>3</th>\n",
       "      <th>4</th>\n",
       "      <th>5</th>\n",
       "      <th>6</th>\n",
       "      <th>7</th>\n",
       "    </tr>\n",
       "  </thead>\n",
       "  <tbody>\n",
       "    <tr>\n",
       "      <th>id</th>\n",
       "      <td>0.000000</td>\n",
       "      <td>1.0</td>\n",
       "      <td>2.0</td>\n",
       "      <td>3.000000</td>\n",
       "      <td>4.000000</td>\n",
       "      <td>5.000000</td>\n",
       "      <td>6.000000</td>\n",
       "      <td>7.000000</td>\n",
       "    </tr>\n",
       "    <tr>\n",
       "      <th>success_rate</th>\n",
       "      <td>0.002798</td>\n",
       "      <td>0.0</td>\n",
       "      <td>0.0</td>\n",
       "      <td>0.033333</td>\n",
       "      <td>0.033333</td>\n",
       "      <td>0.005488</td>\n",
       "      <td>0.005488</td>\n",
       "      <td>0.005488</td>\n",
       "    </tr>\n",
       "    <tr>\n",
       "      <th>num_evaluation</th>\n",
       "      <td>12509.000000</td>\n",
       "      <td>5.0</td>\n",
       "      <td>37.0</td>\n",
       "      <td>60.000000</td>\n",
       "      <td>60.000000</td>\n",
       "      <td>911.000000</td>\n",
       "      <td>911.000000</td>\n",
       "      <td>911.000000</td>\n",
       "    </tr>\n",
       "  </tbody>\n",
       "</table>\n",
       "</div>"
      ],
      "text/plain": [
       "                           0    1     2          3          4           5  \\\n",
       "id                  0.000000  1.0   2.0   3.000000   4.000000    5.000000   \n",
       "success_rate        0.002798  0.0   0.0   0.033333   0.033333    0.005488   \n",
       "num_evaluation  12509.000000  5.0  37.0  60.000000  60.000000  911.000000   \n",
       "\n",
       "                         6           7  \n",
       "id                6.000000    7.000000  \n",
       "success_rate      0.005488    0.005488  \n",
       "num_evaluation  911.000000  911.000000  "
      ]
     },
     "execution_count": 46,
     "metadata": {},
     "output_type": "execute_result"
    }
   ],
   "source": [
    "\n",
    "def get_prob(df:pd.DataFrame,index_list:list,exp_name:str,target_limit=-3):\n",
    "    time_now = datetime.now().strftime(\"%Y_%m_%d_%H_%M_%S\")\n",
    "    save_dir = f'data/input/EXP_search_sapce/{exp_name}_{time_now}/'\n",
    "    os.makedirs(save_dir,exist_ok=True)\n",
    "    SP = Searched_space.Searched_Space(number_of_fragments=6,df=df_precursors,features_frag=df_precursors.columns[0:1],generation_type='conditional')\n",
    "    SP.features_frag=SP.features_frag.append(df_precursors.columns[17:23])\n",
    "    SP.features_frag=SP.features_frag.append(df_precursors.columns[1:7])\n",
    "    success_rate,num_evaluation = [],[]\n",
    "    for id in index_list:\n",
    "        SP.conditions_list = df['conditions'].values[id]\n",
    "        SP.syntax = list(df['syntax'].values[id])\n",
    "        df_SP= SP.check_df_for_element_from_SP(df_to_check=df_total)\n",
    "        print(id,df_SP[df_SP['target']>target_limit].shape[0]/df_SP.shape[0])\n",
    "        success_rate.append( df_SP[df_SP['target']>target_limit].shape[0]/df_SP.shape[0])\n",
    "        num_evaluation.append(df_SP.shape[0])\n",
    "        #SP.redefine_search_space()\n",
    "        #print(SP.space_size)\n",
    "        #print(SP.syntax)\n",
    "        #print(SP.conditions_list)\n",
    "        #pickle.dump(SP,file=open(save_dir+f'/search_space_{id}.pkl','wb'))\n",
    "    df_res = pd.DataFrame({'id':index_list,'success_rate':success_rate,'num_evaluation':num_evaluation}).T\n",
    "    return df_res\n",
    "df_res= get_prob(df_SP,[0,1,2,3,4,5,6,7],'exp_test',target_limit=-3)\n",
    "df_res"
   ]
  },
  {
   "cell_type": "code",
   "execution_count": null,
   "metadata": {},
   "outputs": [],
   "source": [
    "pickle.load(open(self.search_space_loc, \"rb\"))"
   ]
  },
  {
   "cell_type": "code",
   "execution_count": 15,
   "metadata": {},
   "outputs": [
    {
     "data": {
      "application/vnd.jupyter.widget-view+json": {
       "model_id": "b8dd4c89c9984de89e84342518d552d1",
       "version_major": 2,
       "version_minor": 0
      },
      "text/plain": [
       "interactive(children=(Dropdown(description='Value:', options=('Atom_num', 'HOMO (eV)', 'LUMO (eV)', 'HOMO_LUMO…"
      ]
     },
     "metadata": {},
     "output_type": "display_data"
    }
   ],
   "source": [
    "def plot_histogram_fragment(df,df_total,number_of_fragments):\n",
    "        def plot_histogram_fragment(column_name,df,df_total,number_of_fragments):\n",
    "            fig, ax = plt.subplots(3, 2, figsize=(6, 6),sharex='col', sharey='row')\n",
    "            # ax share x axis and y axis\n",
    "            #ax = ax.flatten()\n",
    "\n",
    "            for i in range(number_of_fragments):\n",
    "                ax[i // 2, i % 2].hist(\n",
    "                    df_total[f\"{column_name}_{i}\"],\n",
    "                    bins=20,\n",
    "                    edgecolor=\"black\",\n",
    "                    density=True,\n",
    "                    label = \"all\"\n",
    "                )\n",
    "                ax[i // 2, i % 2].hist(\n",
    "                    df[f\"{column_name}_{i}\"],\n",
    "                    bins=20,\n",
    "                    edgecolor=\"black\",\n",
    "                    density=True,\n",
    "                    label = \"current\"\n",
    "                )\n",
    "                ax[i // 2, i % 2].set_xlabel(f\"{column_name}_{i}\")\n",
    "                ax[i // 2, i % 2].legend()\n",
    "                #ax[i // 2, i % 2].set_ylim([0, 1])\n",
    "                #ax[i // 2, i % 2].set_ylabel(\"Frequency\")\n",
    "                #ax[i // 3, i % 3].set_title(f\"Histogram of {column_name}_{i}\")\n",
    "            # set xlabel and y label for the last row\n",
    "\n",
    "            plt.tight_layout()\n",
    "            plt.show()\n",
    "\n",
    "        # Interactive widget for column selection\n",
    "        columns_dropdown = widgets.Dropdown(\n",
    "            options=[x.replace('_0','') for x in df.select_dtypes(include=[\"int\", \"float\"]).columns if '_0' in x],\n",
    "            description=\"Value:\",\n",
    "        )\n",
    "        # Set up the layout of the widgets\n",
    "\n",
    "        vbox_layout = Layout(display=\"flex\", flex_flow=\"row\", align_items=\"flex-start\")\n",
    "        # Display the widget\n",
    "        interact(plot_histogram, column_name=columns_dropdown, layout=vbox_layout)\n",
    "        plt.show()\n",
    "SP.plot_histogram_precursor()"
   ]
  },
  {
   "cell_type": "code",
   "execution_count": 20,
   "metadata": {},
   "outputs": [
    {
     "data": {
      "application/vnd.jupyter.widget-view+json": {
       "model_id": "751a2d0e40454cb59820c457c2c92b48",
       "version_major": 2,
       "version_minor": 0
      },
      "text/plain": [
       "interactive(children=(Output(),), _dom_classes=('widget-interact',))"
      ]
     },
     "metadata": {},
     "output_type": "display_data"
    }
   ],
   "source": [
    "def plot_histogram_2(column_name,df_current_2):\n",
    "    fig, ax = plt.subplots(3, 2, figsize=(6, 6),sharex='col', sharey='row')\n",
    "    for i in range(SP.number_of_fragments):\n",
    "        ax[i // 2, i % 2].hist(\n",
    "            df_total[f\"{column_name}_{i}\"],\n",
    "            bins=20,\n",
    "            edgecolor=\"black\",\n",
    "            density=True,\n",
    "            label = \"all\"\n",
    "        )\n",
    "        ax[i // 2, i % 2].hist(\n",
    "            df_current_2[f\"{column_name}_{i}\"],\n",
    "            bins=20,\n",
    "            edgecolor=\"black\",\n",
    "            density=True,\n",
    "            label = \"current\"\n",
    "        )\n",
    "        ax[i // 2, i % 2].set_xlabel(f\"{column_name}_{i}\")\n",
    "        ax[i // 2, i % 2].legend()\n",
    "    # set xlabel and y label for the last row\n",
    "\n",
    "    plt.tight_layout()\n",
    "    plt.show()\n",
    "#df_total=df_test\n",
    "df= SP.check_df_for_element_from_SP(df_to_check=df_total)\n",
    "# Interactive widget for column selection\n",
    "from ipywidgets import interact, interactive, fixed, interact_manual\n",
    "import ipywidgets as widgets\n",
    "from matplotlib import pyplot as plt\n",
    "columns_dropdown_2 = widgets.Dropdown(\n",
    "    options=[x.replace('_0','') for x in df_total.select_dtypes(include=[\"int\", \"float\"]).columns if '_0' in x],\n",
    "    description=\"Value:\",\n",
    ")\n",
    "hist_widget = interactive(plot_histogram_2, column_name=widgets.fixed('Atom_num'),df_current_2=widgets.fixed(df))\n",
    "display(hist_widget)\n",
    "#wait for the user to select the syntax\n",
    "input(\"Press Enter to continue...\")\n",
    "hist_widget.kwargs['df_current_2']=SP.check_df_for_element_from_SP(df_to_check=df_total)[:5]\n",
    "\n",
    "hist_widget.update()"
   ]
  },
  {
   "cell_type": "code",
   "execution_count": 11,
   "metadata": {},
   "outputs": [],
   "source": [
    "list_col = [f'InChIKey_{x}' for x in range(6)]\n",
    "list_col.append('target')\n",
    "df_total[list_col].to_csv('Data/output/Full_datatset/data_for_adam.csv',index=False)"
   ]
  }
 ],
 "metadata": {
  "kernelspec": {
   "display_name": "Python 3",
   "language": "python",
   "name": "python3"
  },
  "language_info": {
   "codemirror_mode": {
    "name": "ipython",
    "version": 3
   },
   "file_extension": ".py",
   "mimetype": "text/x-python",
   "name": "python",
   "nbconvert_exporter": "python",
   "pygments_lexer": "ipython3",
   "version": "3.10.12"
  },
  "orig_nbformat": 4
 },
 "nbformat": 4,
 "nbformat_minor": 2
}
