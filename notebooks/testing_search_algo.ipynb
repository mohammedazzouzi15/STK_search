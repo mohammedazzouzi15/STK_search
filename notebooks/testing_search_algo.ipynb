{
 "cells": [
  {
   "cell_type": "code",
   "execution_count": 1,
   "metadata": {},
   "outputs": [],
   "source": [
    "import numpy as np\n",
    "import os\n",
    "os.chdir(\"C:\\\\Users\\\\ma11115\\\\OneDrive - Imperial College London\\\\github_folder\\\\STK_SEARCH\")\n",
    "import pandas as pd\n"
   ]
  },
  {
   "cell_type": "code",
   "execution_count": 4,
   "metadata": {},
   "outputs": [
    {
     "name": "stderr",
     "output_type": "stream",
     "text": [
      "C:\\Users\\ma11115\\OneDrive - Imperial College London\\github_folder\\STK_search\\src\\stk_search\\Database_utils.py:106: DtypeWarning: Columns (18) have mixed types. Specify dtype option on import or set low_memory=False.\n",
      "  df_total = pd.read_csv(df_path)\n"
     ]
    },
    {
     "name": "stdout",
     "output_type": "stream",
     "text": [
      "Index(['Atom_num', 'HOMO (eV)', 'LUMO (eV)', 'HOMO_LUMO_GAP (eV)', 'IP (eV)',\n",
      "       'EA (eV)', '1 Excited state Energy (eV)', '1 Excited state Osc',\n",
      "       '2 Excited state Energy (eV)', '2 Excited state Osc',\n",
      "       '3 Excited state Energy (eV)', '3 Excited state Osc'],\n",
      "      dtype='object')\n"
     ]
    },
    {
     "name": "stderr",
     "output_type": "stream",
     "text": [
      "c:\\Users\\ma11115\\AppData\\Local\\miniconda3\\envs\\STKSearch\\lib\\site-packages\\botorch\\models\\utils\\assorted.py:173: InputDataWarning: Input data is not contained to the unit cube. Please consider min-max scaling the input data.\n",
      "  warnings.warn(msg, InputDataWarning)\n"
     ]
    },
    {
     "name": "stdout",
     "output_type": "stream",
     "text": [
      "(143, 6)\n",
      "(100, 6)\n",
      "15\n",
      "(101, 6)\n",
      "-10.492700000000001\n"
     ]
    },
    {
     "name": "stderr",
     "output_type": "stream",
     "text": [
      "c:\\Users\\ma11115\\AppData\\Local\\miniconda3\\envs\\STKSearch\\lib\\site-packages\\botorch\\models\\utils\\assorted.py:173: InputDataWarning: Input data is not contained to the unit cube. Please consider min-max scaling the input data.\n",
      "  warnings.warn(msg, InputDataWarning)\n"
     ]
    },
    {
     "name": "stdout",
     "output_type": "stream",
     "text": [
      "(144, 6)\n",
      "(101, 6)\n",
      "1\n",
      "(102, 6)\n",
      "-6.966200000000001\n"
     ]
    },
    {
     "name": "stderr",
     "output_type": "stream",
     "text": [
      "c:\\Users\\ma11115\\AppData\\Local\\miniconda3\\envs\\STKSearch\\lib\\site-packages\\botorch\\models\\utils\\assorted.py:173: InputDataWarning: Input data is not contained to the unit cube. Please consider min-max scaling the input data.\n",
      "  warnings.warn(msg, InputDataWarning)\n"
     ]
    },
    {
     "name": "stdout",
     "output_type": "stream",
     "text": [
      "(145, 6)\n",
      "(102, 6)\n",
      "5\n",
      "(103, 6)\n",
      "-4.956799999999999\n"
     ]
    },
    {
     "name": "stderr",
     "output_type": "stream",
     "text": [
      "c:\\Users\\ma11115\\AppData\\Local\\miniconda3\\envs\\STKSearch\\lib\\site-packages\\botorch\\models\\utils\\assorted.py:173: InputDataWarning: Input data is not contained to the unit cube. Please consider min-max scaling the input data.\n",
      "  warnings.warn(msg, InputDataWarning)\n"
     ]
    },
    {
     "name": "stdout",
     "output_type": "stream",
     "text": [
      "(157, 6)\n",
      "(103, 6)\n",
      "41\n",
      "(104, 6)\n",
      "-4.3886\n"
     ]
    },
    {
     "name": "stderr",
     "output_type": "stream",
     "text": [
      "c:\\Users\\ma11115\\AppData\\Local\\miniconda3\\envs\\STKSearch\\lib\\site-packages\\botorch\\models\\utils\\assorted.py:173: InputDataWarning: Input data is not contained to the unit cube. Please consider min-max scaling the input data.\n",
      "  warnings.warn(msg, InputDataWarning)\n"
     ]
    },
    {
     "name": "stdout",
     "output_type": "stream",
     "text": [
      "(166, 6)\n",
      "(104, 6)\n",
      "43\n",
      "(105, 6)\n",
      "-4.5261\n"
     ]
    },
    {
     "name": "stderr",
     "output_type": "stream",
     "text": [
      "c:\\Users\\ma11115\\AppData\\Local\\miniconda3\\envs\\STKSearch\\lib\\site-packages\\botorch\\models\\utils\\assorted.py:173: InputDataWarning: Input data is not contained to the unit cube. Please consider min-max scaling the input data.\n",
      "  warnings.warn(msg, InputDataWarning)\n"
     ]
    },
    {
     "name": "stdout",
     "output_type": "stream",
     "text": [
      "(186, 6)\n",
      "(105, 6)\n",
      "36\n",
      "(106, 6)\n",
      "-4.9159\n"
     ]
    },
    {
     "name": "stderr",
     "output_type": "stream",
     "text": [
      "c:\\Users\\ma11115\\AppData\\Local\\miniconda3\\envs\\STKSearch\\lib\\site-packages\\botorch\\models\\utils\\assorted.py:173: InputDataWarning: Input data is not contained to the unit cube. Please consider min-max scaling the input data.\n",
      "  warnings.warn(msg, InputDataWarning)\n"
     ]
    },
    {
     "name": "stdout",
     "output_type": "stream",
     "text": [
      "(187, 6)\n",
      "(106, 6)\n",
      "63\n",
      "(107, 6)\n",
      "-4.104999999999999\n"
     ]
    },
    {
     "name": "stderr",
     "output_type": "stream",
     "text": [
      "c:\\Users\\ma11115\\AppData\\Local\\miniconda3\\envs\\STKSearch\\lib\\site-packages\\botorch\\models\\utils\\assorted.py:173: InputDataWarning: Input data is not contained to the unit cube. Please consider min-max scaling the input data.\n",
      "  warnings.warn(msg, InputDataWarning)\n"
     ]
    },
    {
     "name": "stdout",
     "output_type": "stream",
     "text": [
      "(193, 6)\n",
      "(107, 6)\n",
      "18\n",
      "(108, 6)\n",
      "-6.5663\n"
     ]
    },
    {
     "name": "stderr",
     "output_type": "stream",
     "text": [
      "c:\\Users\\ma11115\\AppData\\Local\\miniconda3\\envs\\STKSearch\\lib\\site-packages\\botorch\\models\\utils\\assorted.py:173: InputDataWarning: Input data is not contained to the unit cube. Please consider min-max scaling the input data.\n",
      "  warnings.warn(msg, InputDataWarning)\n"
     ]
    },
    {
     "name": "stdout",
     "output_type": "stream",
     "text": [
      "(194, 6)\n",
      "(108, 6)\n",
      "63\n",
      "(109, 6)\n",
      "-5.589500000000001\n"
     ]
    },
    {
     "name": "stderr",
     "output_type": "stream",
     "text": [
      "c:\\Users\\ma11115\\AppData\\Local\\miniconda3\\envs\\STKSearch\\lib\\site-packages\\botorch\\models\\utils\\assorted.py:173: InputDataWarning: Input data is not contained to the unit cube. Please consider min-max scaling the input data.\n",
      "  warnings.warn(msg, InputDataWarning)\n"
     ]
    },
    {
     "name": "stdout",
     "output_type": "stream",
     "text": [
      "(195, 6)\n",
      "(109, 6)\n",
      "73\n",
      "(110, 6)\n",
      "-4.6007\n"
     ]
    },
    {
     "name": "stderr",
     "output_type": "stream",
     "text": [
      "c:\\Users\\ma11115\\AppData\\Local\\miniconda3\\envs\\STKSearch\\lib\\site-packages\\botorch\\models\\utils\\assorted.py:173: InputDataWarning: Input data is not contained to the unit cube. Please consider min-max scaling the input data.\n",
      "  warnings.warn(msg, InputDataWarning)\n"
     ]
    },
    {
     "name": "stdout",
     "output_type": "stream",
     "text": [
      "(196, 6)\n",
      "(110, 6)\n",
      "21\n",
      "(111, 6)\n",
      "-3.4407000000000005\n"
     ]
    },
    {
     "name": "stderr",
     "output_type": "stream",
     "text": [
      "c:\\Users\\ma11115\\AppData\\Local\\miniconda3\\envs\\STKSearch\\lib\\site-packages\\botorch\\models\\utils\\assorted.py:173: InputDataWarning: Input data is not contained to the unit cube. Please consider min-max scaling the input data.\n",
      "  warnings.warn(msg, InputDataWarning)\n"
     ]
    },
    {
     "name": "stdout",
     "output_type": "stream",
     "text": [
      "(200, 6)\n",
      "(111, 6)\n",
      "12\n",
      "(112, 6)\n",
      "-3.6913000000000005\n"
     ]
    },
    {
     "name": "stderr",
     "output_type": "stream",
     "text": [
      "c:\\Users\\ma11115\\AppData\\Local\\miniconda3\\envs\\STKSearch\\lib\\site-packages\\botorch\\models\\utils\\assorted.py:173: InputDataWarning: Input data is not contained to the unit cube. Please consider min-max scaling the input data.\n",
      "  warnings.warn(msg, InputDataWarning)\n"
     ]
    },
    {
     "name": "stdout",
     "output_type": "stream",
     "text": [
      "(215, 6)\n",
      "(112, 6)\n",
      "45\n",
      "(113, 6)\n",
      "-7.8271\n"
     ]
    },
    {
     "name": "stderr",
     "output_type": "stream",
     "text": [
      "c:\\Users\\ma11115\\AppData\\Local\\miniconda3\\envs\\STKSearch\\lib\\site-packages\\botorch\\models\\utils\\assorted.py:173: InputDataWarning: Input data is not contained to the unit cube. Please consider min-max scaling the input data.\n",
      "  warnings.warn(msg, InputDataWarning)\n"
     ]
    },
    {
     "name": "stdout",
     "output_type": "stream",
     "text": [
      "(216, 6)\n",
      "(113, 6)\n",
      "97\n",
      "(114, 6)\n",
      "-10.1756\n"
     ]
    },
    {
     "name": "stderr",
     "output_type": "stream",
     "text": [
      "c:\\Users\\ma11115\\AppData\\Local\\miniconda3\\envs\\STKSearch\\lib\\site-packages\\botorch\\models\\utils\\assorted.py:173: InputDataWarning: Input data is not contained to the unit cube. Please consider min-max scaling the input data.\n",
      "  warnings.warn(msg, InputDataWarning)\n"
     ]
    },
    {
     "name": "stdout",
     "output_type": "stream",
     "text": [
      "(217, 6)\n",
      "(114, 6)\n",
      "65\n",
      "(115, 6)\n",
      "-4.4990000000000006\n"
     ]
    },
    {
     "name": "stderr",
     "output_type": "stream",
     "text": [
      "c:\\Users\\ma11115\\AppData\\Local\\miniconda3\\envs\\STKSearch\\lib\\site-packages\\botorch\\models\\utils\\assorted.py:173: InputDataWarning: Input data is not contained to the unit cube. Please consider min-max scaling the input data.\n",
      "  warnings.warn(msg, InputDataWarning)\n"
     ]
    },
    {
     "name": "stdout",
     "output_type": "stream",
     "text": [
      "(218, 6)\n",
      "(115, 6)\n",
      "30\n",
      "(116, 6)\n",
      "-3.9081\n"
     ]
    },
    {
     "name": "stderr",
     "output_type": "stream",
     "text": [
      "c:\\Users\\ma11115\\AppData\\Local\\miniconda3\\envs\\STKSearch\\lib\\site-packages\\botorch\\models\\utils\\assorted.py:173: InputDataWarning: Input data is not contained to the unit cube. Please consider min-max scaling the input data.\n",
      "  warnings.warn(msg, InputDataWarning)\n"
     ]
    },
    {
     "name": "stdout",
     "output_type": "stream",
     "text": [
      "(219, 6)\n",
      "(116, 6)\n",
      "86\n",
      "(117, 6)\n",
      "-5.3389999999999995\n"
     ]
    },
    {
     "name": "stderr",
     "output_type": "stream",
     "text": [
      "c:\\Users\\ma11115\\AppData\\Local\\miniconda3\\envs\\STKSearch\\lib\\site-packages\\botorch\\models\\utils\\assorted.py:173: InputDataWarning: Input data is not contained to the unit cube. Please consider min-max scaling the input data.\n",
      "  warnings.warn(msg, InputDataWarning)\n"
     ]
    },
    {
     "name": "stdout",
     "output_type": "stream",
     "text": [
      "(220, 6)\n",
      "(117, 6)\n",
      "100\n",
      "(118, 6)\n",
      "-4.064299999999999\n"
     ]
    },
    {
     "name": "stderr",
     "output_type": "stream",
     "text": [
      "c:\\Users\\ma11115\\AppData\\Local\\miniconda3\\envs\\STKSearch\\lib\\site-packages\\botorch\\models\\utils\\assorted.py:173: InputDataWarning: Input data is not contained to the unit cube. Please consider min-max scaling the input data.\n",
      "  warnings.warn(msg, InputDataWarning)\n"
     ]
    },
    {
     "name": "stdout",
     "output_type": "stream",
     "text": [
      "(221, 6)\n",
      "(118, 6)\n",
      "68\n",
      "(119, 6)\n",
      "-5.2811\n"
     ]
    },
    {
     "name": "stderr",
     "output_type": "stream",
     "text": [
      "c:\\Users\\ma11115\\AppData\\Local\\miniconda3\\envs\\STKSearch\\lib\\site-packages\\botorch\\models\\utils\\assorted.py:173: InputDataWarning: Input data is not contained to the unit cube. Please consider min-max scaling the input data.\n",
      "  warnings.warn(msg, InputDataWarning)\n"
     ]
    },
    {
     "name": "stdout",
     "output_type": "stream",
     "text": [
      "(222, 6)\n",
      "(119, 6)\n",
      "72\n",
      "(120, 6)\n",
      "-10.054400000000001\n"
     ]
    },
    {
     "name": "stderr",
     "output_type": "stream",
     "text": [
      "c:\\Users\\ma11115\\AppData\\Local\\miniconda3\\envs\\STKSearch\\lib\\site-packages\\botorch\\models\\utils\\assorted.py:173: InputDataWarning: Input data is not contained to the unit cube. Please consider min-max scaling the input data.\n",
      "  warnings.warn(msg, InputDataWarning)\n"
     ]
    },
    {
     "name": "stdout",
     "output_type": "stream",
     "text": [
      "(223, 6)\n",
      "(120, 6)\n",
      "95\n",
      "(121, 6)\n",
      "-3.5770999999999997\n"
     ]
    },
    {
     "name": "stderr",
     "output_type": "stream",
     "text": [
      "c:\\Users\\ma11115\\AppData\\Local\\miniconda3\\envs\\STKSearch\\lib\\site-packages\\botorch\\models\\utils\\assorted.py:173: InputDataWarning: Input data is not contained to the unit cube. Please consider min-max scaling the input data.\n",
      "  warnings.warn(msg, InputDataWarning)\n"
     ]
    },
    {
     "name": "stdout",
     "output_type": "stream",
     "text": [
      "(227, 6)\n",
      "(121, 6)\n",
      "45\n",
      "(122, 6)\n",
      "-3.9009\n"
     ]
    },
    {
     "name": "stderr",
     "output_type": "stream",
     "text": [
      "c:\\Users\\ma11115\\AppData\\Local\\miniconda3\\envs\\STKSearch\\lib\\site-packages\\botorch\\models\\utils\\assorted.py:173: InputDataWarning: Input data is not contained to the unit cube. Please consider min-max scaling the input data.\n",
      "  warnings.warn(msg, InputDataWarning)\n"
     ]
    },
    {
     "name": "stdout",
     "output_type": "stream",
     "text": [
      "(228, 6)\n",
      "(122, 6)\n",
      "50\n",
      "(123, 6)\n",
      "-5.125500000000001\n"
     ]
    },
    {
     "name": "stderr",
     "output_type": "stream",
     "text": [
      "c:\\Users\\ma11115\\AppData\\Local\\miniconda3\\envs\\STKSearch\\lib\\site-packages\\botorch\\models\\utils\\assorted.py:173: InputDataWarning: Input data is not contained to the unit cube. Please consider min-max scaling the input data.\n",
      "  warnings.warn(msg, InputDataWarning)\n"
     ]
    },
    {
     "name": "stdout",
     "output_type": "stream",
     "text": [
      "(229, 6)\n",
      "(123, 6)\n",
      "65\n",
      "(124, 6)\n",
      "-2.8616\n"
     ]
    },
    {
     "name": "stderr",
     "output_type": "stream",
     "text": [
      "c:\\Users\\ma11115\\AppData\\Local\\miniconda3\\envs\\STKSearch\\lib\\site-packages\\botorch\\models\\utils\\assorted.py:173: InputDataWarning: Input data is not contained to the unit cube. Please consider min-max scaling the input data.\n",
      "  warnings.warn(msg, InputDataWarning)\n"
     ]
    },
    {
     "name": "stdout",
     "output_type": "stream",
     "text": [
      "(220, 6)\n",
      "(124, 6)\n",
      "95\n",
      "(125, 6)\n",
      "-3.8869\n"
     ]
    },
    {
     "name": "stderr",
     "output_type": "stream",
     "text": [
      "c:\\Users\\ma11115\\AppData\\Local\\miniconda3\\envs\\STKSearch\\lib\\site-packages\\botorch\\models\\utils\\assorted.py:173: InputDataWarning: Input data is not contained to the unit cube. Please consider min-max scaling the input data.\n",
      "  warnings.warn(msg, InputDataWarning)\n"
     ]
    },
    {
     "name": "stdout",
     "output_type": "stream",
     "text": [
      "(221, 6)\n",
      "(125, 6)\n",
      "9\n",
      "(126, 6)\n",
      "-3.5096000000000007\n"
     ]
    },
    {
     "name": "stderr",
     "output_type": "stream",
     "text": [
      "c:\\Users\\ma11115\\AppData\\Local\\miniconda3\\envs\\STKSearch\\lib\\site-packages\\botorch\\models\\utils\\assorted.py:173: InputDataWarning: Input data is not contained to the unit cube. Please consider min-max scaling the input data.\n",
      "  warnings.warn(msg, InputDataWarning)\n"
     ]
    },
    {
     "name": "stdout",
     "output_type": "stream",
     "text": [
      "(208, 6)\n",
      "(126, 6)\n",
      "81\n",
      "(127, 6)\n",
      "-5.7509\n"
     ]
    },
    {
     "name": "stderr",
     "output_type": "stream",
     "text": [
      "c:\\Users\\ma11115\\AppData\\Local\\miniconda3\\envs\\STKSearch\\lib\\site-packages\\botorch\\models\\utils\\assorted.py:173: InputDataWarning: Input data is not contained to the unit cube. Please consider min-max scaling the input data.\n",
      "  warnings.warn(msg, InputDataWarning)\n"
     ]
    },
    {
     "name": "stdout",
     "output_type": "stream",
     "text": [
      "(209, 6)\n",
      "(127, 6)\n",
      "50\n",
      "(128, 6)\n",
      "-3.4234999999999998\n"
     ]
    },
    {
     "name": "stderr",
     "output_type": "stream",
     "text": [
      "c:\\Users\\ma11115\\AppData\\Local\\miniconda3\\envs\\STKSearch\\lib\\site-packages\\botorch\\models\\utils\\assorted.py:173: InputDataWarning: Input data is not contained to the unit cube. Please consider min-max scaling the input data.\n",
      "  warnings.warn(msg, InputDataWarning)\n"
     ]
    },
    {
     "name": "stdout",
     "output_type": "stream",
     "text": [
      "(228, 6)\n",
      "(128, 6)\n",
      "62\n",
      "(129, 6)\n",
      "-3.9475\n"
     ]
    },
    {
     "name": "stderr",
     "output_type": "stream",
     "text": [
      "c:\\Users\\ma11115\\AppData\\Local\\miniconda3\\envs\\STKSearch\\lib\\site-packages\\botorch\\models\\utils\\assorted.py:173: InputDataWarning: Input data is not contained to the unit cube. Please consider min-max scaling the input data.\n",
      "  warnings.warn(msg, InputDataWarning)\n"
     ]
    },
    {
     "name": "stdout",
     "output_type": "stream",
     "text": [
      "(229, 6)\n",
      "(129, 6)\n",
      "59\n",
      "(130, 6)\n",
      "-4.928100000000001\n"
     ]
    },
    {
     "name": "stderr",
     "output_type": "stream",
     "text": [
      "c:\\Users\\ma11115\\AppData\\Local\\miniconda3\\envs\\STKSearch\\lib\\site-packages\\botorch\\models\\utils\\assorted.py:173: InputDataWarning: Input data is not contained to the unit cube. Please consider min-max scaling the input data.\n",
      "  warnings.warn(msg, InputDataWarning)\n"
     ]
    },
    {
     "name": "stdout",
     "output_type": "stream",
     "text": [
      "(230, 6)\n",
      "(130, 6)\n",
      "10\n",
      "(131, 6)\n",
      "-4.1251\n"
     ]
    },
    {
     "name": "stderr",
     "output_type": "stream",
     "text": [
      "c:\\Users\\ma11115\\AppData\\Local\\miniconda3\\envs\\STKSearch\\lib\\site-packages\\botorch\\models\\utils\\assorted.py:173: InputDataWarning: Input data is not contained to the unit cube. Please consider min-max scaling the input data.\n",
      "  warnings.warn(msg, InputDataWarning)\n"
     ]
    },
    {
     "name": "stdout",
     "output_type": "stream",
     "text": [
      "(231, 6)\n",
      "(131, 6)\n",
      "2\n",
      "(132, 6)\n",
      "-5.635\n"
     ]
    },
    {
     "name": "stderr",
     "output_type": "stream",
     "text": [
      "c:\\Users\\ma11115\\AppData\\Local\\miniconda3\\envs\\STKSearch\\lib\\site-packages\\botorch\\models\\utils\\assorted.py:173: InputDataWarning: Input data is not contained to the unit cube. Please consider min-max scaling the input data.\n",
      "  warnings.warn(msg, InputDataWarning)\n"
     ]
    },
    {
     "name": "stdout",
     "output_type": "stream",
     "text": [
      "(232, 6)\n",
      "(132, 6)\n",
      "60\n",
      "(133, 6)\n",
      "-3.4018\n"
     ]
    },
    {
     "name": "stderr",
     "output_type": "stream",
     "text": [
      "c:\\Users\\ma11115\\AppData\\Local\\miniconda3\\envs\\STKSearch\\lib\\site-packages\\botorch\\models\\utils\\assorted.py:173: InputDataWarning: Input data is not contained to the unit cube. Please consider min-max scaling the input data.\n",
      "  warnings.warn(msg, InputDataWarning)\n"
     ]
    },
    {
     "name": "stdout",
     "output_type": "stream",
     "text": [
      "(221, 6)\n",
      "(133, 6)\n",
      "45\n",
      "(134, 6)\n",
      "-11.645900000000001\n"
     ]
    },
    {
     "name": "stderr",
     "output_type": "stream",
     "text": [
      "c:\\Users\\ma11115\\AppData\\Local\\miniconda3\\envs\\STKSearch\\lib\\site-packages\\botorch\\models\\utils\\assorted.py:173: InputDataWarning: Input data is not contained to the unit cube. Please consider min-max scaling the input data.\n",
      "  warnings.warn(msg, InputDataWarning)\n"
     ]
    },
    {
     "name": "stdout",
     "output_type": "stream",
     "text": [
      "(222, 6)\n",
      "(134, 6)\n",
      "65\n",
      "(135, 6)\n",
      "-3.511199999999999\n"
     ]
    },
    {
     "name": "stderr",
     "output_type": "stream",
     "text": [
      "c:\\Users\\ma11115\\AppData\\Local\\miniconda3\\envs\\STKSearch\\lib\\site-packages\\botorch\\models\\utils\\assorted.py:173: InputDataWarning: Input data is not contained to the unit cube. Please consider min-max scaling the input data.\n",
      "  warnings.warn(msg, InputDataWarning)\n"
     ]
    },
    {
     "name": "stdout",
     "output_type": "stream",
     "text": [
      "(223, 6)\n",
      "(135, 6)\n",
      "63\n",
      "(136, 6)\n",
      "-8.6412\n"
     ]
    },
    {
     "name": "stderr",
     "output_type": "stream",
     "text": [
      "c:\\Users\\ma11115\\AppData\\Local\\miniconda3\\envs\\STKSearch\\lib\\site-packages\\botorch\\models\\utils\\assorted.py:173: InputDataWarning: Input data is not contained to the unit cube. Please consider min-max scaling the input data.\n",
      "  warnings.warn(msg, InputDataWarning)\n"
     ]
    },
    {
     "name": "stdout",
     "output_type": "stream",
     "text": [
      "(224, 6)\n",
      "(136, 6)\n",
      "66\n",
      "(137, 6)\n",
      "-3.351800000000001\n"
     ]
    },
    {
     "name": "stderr",
     "output_type": "stream",
     "text": [
      "c:\\Users\\ma11115\\AppData\\Local\\miniconda3\\envs\\STKSearch\\lib\\site-packages\\botorch\\models\\utils\\assorted.py:173: InputDataWarning: Input data is not contained to the unit cube. Please consider min-max scaling the input data.\n",
      "  warnings.warn(msg, InputDataWarning)\n"
     ]
    },
    {
     "name": "stdout",
     "output_type": "stream",
     "text": [
      "(224, 6)\n",
      "(137, 6)\n",
      "56\n",
      "(138, 6)\n",
      "-4.098199999999999\n"
     ]
    },
    {
     "name": "stderr",
     "output_type": "stream",
     "text": [
      "c:\\Users\\ma11115\\AppData\\Local\\miniconda3\\envs\\STKSearch\\lib\\site-packages\\botorch\\models\\utils\\assorted.py:173: InputDataWarning: Input data is not contained to the unit cube. Please consider min-max scaling the input data.\n",
      "  warnings.warn(msg, InputDataWarning)\n"
     ]
    },
    {
     "name": "stdout",
     "output_type": "stream",
     "text": [
      "(225, 6)\n",
      "(138, 6)\n",
      "61\n",
      "(139, 6)\n",
      "-5.0653999999999995\n"
     ]
    },
    {
     "name": "stderr",
     "output_type": "stream",
     "text": [
      "c:\\Users\\ma11115\\AppData\\Local\\miniconda3\\envs\\STKSearch\\lib\\site-packages\\botorch\\models\\utils\\assorted.py:173: InputDataWarning: Input data is not contained to the unit cube. Please consider min-max scaling the input data.\n",
      "  warnings.warn(msg, InputDataWarning)\n"
     ]
    },
    {
     "name": "stdout",
     "output_type": "stream",
     "text": [
      "(226, 6)\n",
      "(139, 6)\n",
      "44\n",
      "(140, 6)\n",
      "-5.025399999999999\n"
     ]
    },
    {
     "name": "stderr",
     "output_type": "stream",
     "text": [
      "c:\\Users\\ma11115\\AppData\\Local\\miniconda3\\envs\\STKSearch\\lib\\site-packages\\botorch\\models\\utils\\assorted.py:173: InputDataWarning: Input data is not contained to the unit cube. Please consider min-max scaling the input data.\n",
      "  warnings.warn(msg, InputDataWarning)\n"
     ]
    },
    {
     "name": "stdout",
     "output_type": "stream",
     "text": [
      "(227, 6)\n",
      "(140, 6)\n",
      "1\n",
      "(141, 6)\n",
      "-4.4458\n"
     ]
    },
    {
     "name": "stderr",
     "output_type": "stream",
     "text": [
      "c:\\Users\\ma11115\\AppData\\Local\\miniconda3\\envs\\STKSearch\\lib\\site-packages\\botorch\\models\\utils\\assorted.py:173: InputDataWarning: Input data is not contained to the unit cube. Please consider min-max scaling the input data.\n",
      "  warnings.warn(msg, InputDataWarning)\n"
     ]
    },
    {
     "name": "stdout",
     "output_type": "stream",
     "text": [
      "(228, 6)\n",
      "(141, 6)\n",
      "30\n",
      "(142, 6)\n",
      "-3.4065999999999996\n"
     ]
    },
    {
     "name": "stderr",
     "output_type": "stream",
     "text": [
      "c:\\Users\\ma11115\\AppData\\Local\\miniconda3\\envs\\STKSearch\\lib\\site-packages\\botorch\\models\\utils\\assorted.py:173: InputDataWarning: Input data is not contained to the unit cube. Please consider min-max scaling the input data.\n",
      "  warnings.warn(msg, InputDataWarning)\n"
     ]
    },
    {
     "name": "stdout",
     "output_type": "stream",
     "text": [
      "(229, 6)\n",
      "(142, 6)\n",
      "34\n",
      "(143, 6)\n",
      "-9.3853\n"
     ]
    },
    {
     "name": "stderr",
     "output_type": "stream",
     "text": [
      "c:\\Users\\ma11115\\AppData\\Local\\miniconda3\\envs\\STKSearch\\lib\\site-packages\\botorch\\models\\utils\\assorted.py:173: InputDataWarning: Input data is not contained to the unit cube. Please consider min-max scaling the input data.\n",
      "  warnings.warn(msg, InputDataWarning)\n"
     ]
    },
    {
     "name": "stdout",
     "output_type": "stream",
     "text": [
      "(230, 6)\n",
      "(143, 6)\n",
      "45\n",
      "(144, 6)\n",
      "-4.1481\n"
     ]
    },
    {
     "name": "stderr",
     "output_type": "stream",
     "text": [
      "c:\\Users\\ma11115\\AppData\\Local\\miniconda3\\envs\\STKSearch\\lib\\site-packages\\botorch\\models\\utils\\assorted.py:173: InputDataWarning: Input data is not contained to the unit cube. Please consider min-max scaling the input data.\n",
      "  warnings.warn(msg, InputDataWarning)\n"
     ]
    },
    {
     "name": "stdout",
     "output_type": "stream",
     "text": [
      "(231, 6)\n",
      "(144, 6)\n",
      "65\n",
      "(145, 6)\n",
      "-4.9443\n"
     ]
    },
    {
     "name": "stderr",
     "output_type": "stream",
     "text": [
      "c:\\Users\\ma11115\\AppData\\Local\\miniconda3\\envs\\STKSearch\\lib\\site-packages\\botorch\\models\\utils\\assorted.py:173: InputDataWarning: Input data is not contained to the unit cube. Please consider min-max scaling the input data.\n",
      "  warnings.warn(msg, InputDataWarning)\n"
     ]
    },
    {
     "name": "stdout",
     "output_type": "stream",
     "text": [
      "(232, 6)\n",
      "(145, 6)\n",
      "59\n",
      "(146, 6)\n",
      "-5.1864\n"
     ]
    },
    {
     "name": "stderr",
     "output_type": "stream",
     "text": [
      "c:\\Users\\ma11115\\AppData\\Local\\miniconda3\\envs\\STKSearch\\lib\\site-packages\\botorch\\models\\utils\\assorted.py:173: InputDataWarning: Input data is not contained to the unit cube. Please consider min-max scaling the input data.\n",
      "  warnings.warn(msg, InputDataWarning)\n"
     ]
    },
    {
     "name": "stdout",
     "output_type": "stream",
     "text": [
      "(233, 6)\n",
      "(146, 6)\n",
      "14\n",
      "(147, 6)\n",
      "-4.710100000000001\n"
     ]
    },
    {
     "name": "stderr",
     "output_type": "stream",
     "text": [
      "c:\\Users\\ma11115\\AppData\\Local\\miniconda3\\envs\\STKSearch\\lib\\site-packages\\botorch\\models\\utils\\assorted.py:173: InputDataWarning: Input data is not contained to the unit cube. Please consider min-max scaling the input data.\n",
      "  warnings.warn(msg, InputDataWarning)\n"
     ]
    },
    {
     "name": "stdout",
     "output_type": "stream",
     "text": [
      "(234, 6)\n",
      "(147, 6)\n",
      "74\n",
      "(148, 6)\n",
      "-5.8896\n"
     ]
    },
    {
     "name": "stderr",
     "output_type": "stream",
     "text": [
      "c:\\Users\\ma11115\\AppData\\Local\\miniconda3\\envs\\STKSearch\\lib\\site-packages\\botorch\\models\\utils\\assorted.py:173: InputDataWarning: Input data is not contained to the unit cube. Please consider min-max scaling the input data.\n",
      "  warnings.warn(msg, InputDataWarning)\n"
     ]
    },
    {
     "name": "stdout",
     "output_type": "stream",
     "text": [
      "(235, 6)\n",
      "(148, 6)\n",
      "38\n",
      "(149, 6)\n",
      "-4.1457\n"
     ]
    },
    {
     "name": "stderr",
     "output_type": "stream",
     "text": [
      "c:\\Users\\ma11115\\AppData\\Local\\miniconda3\\envs\\STKSearch\\lib\\site-packages\\botorch\\models\\utils\\assorted.py:173: InputDataWarning: Input data is not contained to the unit cube. Please consider min-max scaling the input data.\n",
      "  warnings.warn(msg, InputDataWarning)\n"
     ]
    },
    {
     "name": "stdout",
     "output_type": "stream",
     "text": [
      "(236, 6)\n",
      "(149, 6)\n",
      "58\n",
      "(150, 6)\n",
      "-4.8926\n"
     ]
    },
    {
     "name": "stderr",
     "output_type": "stream",
     "text": [
      "c:\\Users\\ma11115\\AppData\\Local\\miniconda3\\envs\\STKSearch\\lib\\site-packages\\botorch\\models\\utils\\assorted.py:173: InputDataWarning: Input data is not contained to the unit cube. Please consider min-max scaling the input data.\n",
      "  warnings.warn(msg, InputDataWarning)\n"
     ]
    },
    {
     "name": "stdout",
     "output_type": "stream",
     "text": [
      "(237, 6)\n",
      "(150, 6)\n",
      "7\n",
      "(151, 6)\n",
      "-3.9030000000000005\n"
     ]
    },
    {
     "name": "stderr",
     "output_type": "stream",
     "text": [
      "c:\\Users\\ma11115\\AppData\\Local\\miniconda3\\envs\\STKSearch\\lib\\site-packages\\botorch\\models\\utils\\assorted.py:173: InputDataWarning: Input data is not contained to the unit cube. Please consider min-max scaling the input data.\n",
      "  warnings.warn(msg, InputDataWarning)\n"
     ]
    },
    {
     "name": "stdout",
     "output_type": "stream",
     "text": [
      "(238, 6)\n",
      "(151, 6)\n",
      "5\n",
      "(152, 6)\n",
      "-8.440100000000001\n"
     ]
    },
    {
     "name": "stderr",
     "output_type": "stream",
     "text": [
      "c:\\Users\\ma11115\\AppData\\Local\\miniconda3\\envs\\STKSearch\\lib\\site-packages\\botorch\\models\\utils\\assorted.py:173: InputDataWarning: Input data is not contained to the unit cube. Please consider min-max scaling the input data.\n",
      "  warnings.warn(msg, InputDataWarning)\n"
     ]
    },
    {
     "name": "stdout",
     "output_type": "stream",
     "text": [
      "(239, 6)\n",
      "(152, 6)\n",
      "13\n",
      "(153, 6)\n",
      "-9.9406\n"
     ]
    },
    {
     "name": "stderr",
     "output_type": "stream",
     "text": [
      "c:\\Users\\ma11115\\AppData\\Local\\miniconda3\\envs\\STKSearch\\lib\\site-packages\\botorch\\models\\utils\\assorted.py:173: InputDataWarning: Input data is not contained to the unit cube. Please consider min-max scaling the input data.\n",
      "  warnings.warn(msg, InputDataWarning)\n"
     ]
    },
    {
     "name": "stdout",
     "output_type": "stream",
     "text": [
      "(240, 6)\n",
      "(153, 6)\n",
      "31\n",
      "(154, 6)\n",
      "-4.091100000000001\n"
     ]
    },
    {
     "name": "stderr",
     "output_type": "stream",
     "text": [
      "c:\\Users\\ma11115\\AppData\\Local\\miniconda3\\envs\\STKSearch\\lib\\site-packages\\botorch\\models\\utils\\assorted.py:173: InputDataWarning: Input data is not contained to the unit cube. Please consider min-max scaling the input data.\n",
      "  warnings.warn(msg, InputDataWarning)\n"
     ]
    },
    {
     "name": "stdout",
     "output_type": "stream",
     "text": [
      "(241, 6)\n",
      "(154, 6)\n",
      "66\n",
      "(155, 6)\n",
      "-4.5261\n"
     ]
    },
    {
     "name": "stderr",
     "output_type": "stream",
     "text": [
      "c:\\Users\\ma11115\\AppData\\Local\\miniconda3\\envs\\STKSearch\\lib\\site-packages\\botorch\\models\\utils\\assorted.py:173: InputDataWarning: Input data is not contained to the unit cube. Please consider min-max scaling the input data.\n",
      "  warnings.warn(msg, InputDataWarning)\n"
     ]
    },
    {
     "name": "stdout",
     "output_type": "stream",
     "text": [
      "(242, 6)\n",
      "(155, 6)\n",
      "52\n",
      "(156, 6)\n",
      "-5.1087\n"
     ]
    },
    {
     "name": "stderr",
     "output_type": "stream",
     "text": [
      "c:\\Users\\ma11115\\AppData\\Local\\miniconda3\\envs\\STKSearch\\lib\\site-packages\\botorch\\models\\utils\\assorted.py:173: InputDataWarning: Input data is not contained to the unit cube. Please consider min-max scaling the input data.\n",
      "  warnings.warn(msg, InputDataWarning)\n"
     ]
    },
    {
     "name": "stdout",
     "output_type": "stream",
     "text": [
      "(243, 6)\n",
      "(156, 6)\n",
      "27\n",
      "(157, 6)\n",
      "-3.2191999999999994\n"
     ]
    },
    {
     "name": "stderr",
     "output_type": "stream",
     "text": [
      "c:\\Users\\ma11115\\AppData\\Local\\miniconda3\\envs\\STKSearch\\lib\\site-packages\\botorch\\models\\utils\\assorted.py:173: InputDataWarning: Input data is not contained to the unit cube. Please consider min-max scaling the input data.\n",
      "  warnings.warn(msg, InputDataWarning)\n"
     ]
    },
    {
     "name": "stdout",
     "output_type": "stream",
     "text": [
      "(256, 6)\n",
      "(157, 6)\n",
      "50\n",
      "(158, 6)\n",
      "-5.2866\n"
     ]
    },
    {
     "name": "stderr",
     "output_type": "stream",
     "text": [
      "c:\\Users\\ma11115\\AppData\\Local\\miniconda3\\envs\\STKSearch\\lib\\site-packages\\botorch\\models\\utils\\assorted.py:173: InputDataWarning: Input data is not contained to the unit cube. Please consider min-max scaling the input data.\n",
      "  warnings.warn(msg, InputDataWarning)\n"
     ]
    },
    {
     "name": "stdout",
     "output_type": "stream",
     "text": [
      "(257, 6)\n",
      "(158, 6)\n",
      "37\n",
      "(159, 6)\n",
      "-3.4133000000000004\n"
     ]
    },
    {
     "name": "stderr",
     "output_type": "stream",
     "text": [
      "c:\\Users\\ma11115\\AppData\\Local\\miniconda3\\envs\\STKSearch\\lib\\site-packages\\botorch\\models\\utils\\assorted.py:173: InputDataWarning: Input data is not contained to the unit cube. Please consider min-max scaling the input data.\n",
      "  warnings.warn(msg, InputDataWarning)\n"
     ]
    },
    {
     "name": "stdout",
     "output_type": "stream",
     "text": [
      "(258, 6)\n",
      "(159, 6)\n",
      "36\n",
      "(160, 6)\n",
      "-3.0725999999999996\n"
     ]
    },
    {
     "name": "stderr",
     "output_type": "stream",
     "text": [
      "c:\\Users\\ma11115\\AppData\\Local\\miniconda3\\envs\\STKSearch\\lib\\site-packages\\botorch\\models\\utils\\assorted.py:173: InputDataWarning: Input data is not contained to the unit cube. Please consider min-max scaling the input data.\n",
      "  warnings.warn(msg, InputDataWarning)\n"
     ]
    },
    {
     "name": "stdout",
     "output_type": "stream",
     "text": [
      "(255, 6)\n",
      "(160, 6)\n",
      "43\n",
      "(161, 6)\n",
      "-3.755000000000001\n"
     ]
    }
   ],
   "source": [
    "from stk_search.Objective_function import Look_up_table\n",
    "from stk_search.Search_algorithm import Bayesian_Optimisation\n",
    "from stk_search.Search_algorithm import Representation_slatm,RepresentationPrecursor\n",
    "import numpy as np\n",
    "import os\n",
    "os.chdir(\"C:\\\\Users\\\\ma11115\\\\OneDrive - Imperial College London\\\\github_folder\\\\STK_SEARCH\")\n",
    "import pandas as pd\n",
    "from stk_search import Database_utils\n",
    "from stk_search import Searched_space\n",
    "from stk_search.Search_algorithm import Search_algorithm\n",
    "#%% \n",
    "# Load the searched space\n",
    "df_path = 'data/output/Full_datatset/df_total_new2023_08_20.csv'\n",
    "df_precursors_path = 'data/output/Prescursor_data/calculation_data_precursor_190923_clean.pkl'#'Data/output/Prescursor_data/calculation_data_precursor_310823_clean.pkl'\n",
    "df_total, df_precursors = Database_utils.load_data_from_file(df_path, df_precursors_path)\n",
    "\n",
    "\n",
    "\n",
    "SP = Searched_space.Searched_Space(number_of_fragments=6,df=df_precursors,features_frag=df_precursors.columns[0:1],generation_type='conditional')\n",
    "# get initial elements\n",
    "frag_properties=[]\n",
    "frag_properties= df_precursors.columns[1:7]\n",
    "frag_properties =frag_properties.append(df_precursors.columns[17:23])\n",
    "print(frag_properties)\n",
    "BO = Bayesian_Optimisation.Bayesian_Optimisation()\n",
    "BO.Representation = RepresentationPrecursor.RepresentationPrecursor(df_precursors,frag_properties) #Representation_slatm.Representation_slatm()\n",
    "\n",
    "searched_space_df = SP.check_df_for_element_from_SP(df_to_check=df_total)\n",
    "searched_space_df= searched_space_df.sample(100)\n",
    "# reindex the df\n",
    "searched_space_df.index = range(len(searched_space_df))\n",
    "df_search_space_frag = searched_space_df[[f'InChIKey_{x}' for x in range(6)]]\n",
    "fitness_acquired = searched_space_df['target'].values\n",
    "\n",
    "id,df_search_space_frag_new =BO.suggest_element(df_search_space_frag,fitness_acquired,SP,benchmark=True,df_total=df_total)\n",
    "lookup=Look_up_table(df_total,6)\n",
    "\n",
    "print(lookup.evaluate_element(df_search_space_frag_new.loc[[id],:])[0])\n",
    "fitness_acquired = np.append(fitness_acquired,lookup.evaluate_element(df_search_space_frag_new.loc[[id],:])[0])\n",
    "\n",
    "for x in range(60):\n",
    "    id,df_search_space_frag_new =BO.suggest_element(df_search_space_frag_new,fitness_acquired,SP,benchmark=True,df_total=df_total)\n",
    "    print(lookup.evaluate_element(df_search_space_frag_new.loc[[id],:])[0])\n",
    "    if len(df_search_space_frag_new)==len(fitness_acquired):\n",
    "        break\n",
    "    else:\n",
    "        fitness_acquired = np.append(fitness_acquired,lookup.evaluate_element(df_search_space_frag_new.loc[[id],:])[0])"
   ]
  },
  {
   "cell_type": "code",
   "execution_count": 48,
   "metadata": {},
   "outputs": [],
   "source": []
  },
  {
   "cell_type": "code",
   "execution_count": 53,
   "metadata": {},
   "outputs": [
    {
     "name": "stdout",
     "output_type": "stream",
     "text": [
      "Index(['Atom_num', 'HOMO (eV)', 'LUMO (eV)', 'HOMO_LUMO_GAP (eV)', 'IP (eV)',\n",
      "       'EA (eV)', '1 Excited state Energy (eV)', '1 Excited state Osc',\n",
      "       '2 Excited state Energy (eV)', '2 Excited state Osc',\n",
      "       '3 Excited state Energy (eV)', '3 Excited state Osc'],\n",
      "      dtype='object')\n"
     ]
    },
    {
     "data": {
      "text/plain": [
       "tensor([[ 0.5774,  0.3705, -0.5549, -0.4589, -0.5025,  0.5532, -0.5173,  0.5946,\n",
       "         -0.5794,  0.5283, -0.6101, -0.0351, -1.1547, -1.1547, -1.1547, -1.1547,\n",
       "          1.1547,  1.1547, -1.1547, -1.1547, -1.1547, -1.1547, -1.1547, -1.1547,\n",
       "         -1.1339,  0.9001,  0.3173, -0.8480, -0.8051, -0.6552, -1.1540, -1.1477,\n",
       "         -0.9481, -0.5917, -0.5139,  1.1547,  0.2870,  0.8885, -0.8701, -0.8804,\n",
       "         -0.7394,  0.5098, -0.7448, -0.7720, -0.7537, -0.5782, -0.8920,  1.1547,\n",
       "          0.3527, -0.8602, -1.1254, -0.9273,  0.2867,  0.9524, -0.7460,  0.4071,\n",
       "         -0.7228, -0.0844, -0.8465, -0.0351, -1.1547, -1.1547, -1.1547, -1.1547,\n",
       "          1.1547,  1.1547, -1.1547, -1.1547, -1.1547,  1.1547, -1.1547,  1.1547],\n",
       "        [-1.1547, -1.1324,  1.1544,  1.1471,  1.1516, -1.1544,  1.1527, -1.1545,\n",
       "          1.1547, -1.1533,  1.1541, -0.9820,  0.5774,  0.5773,  0.5774,  0.5774,\n",
       "         -0.5773, -0.5774,  0.5773,  0.5774,  0.5773,  0.5774,  0.5774,  0.5774,\n",
       "          0.7559,  0.1763,  0.8028,  1.1027, -0.3143, -0.4958,  0.5416,  0.6837,\n",
       "          1.0448,  1.1546,  1.1525, -0.5830,  0.8251,  0.1944, -0.2224, -0.2068,\n",
       "         -0.3984,  0.6423, -0.3918,  1.1296, -0.3807,  1.1547, -0.1890, -0.5746,\n",
       "         -1.1286, -0.2371,  0.7866,  1.0596,  0.8253, -1.0416,  1.1363, -1.1393,\n",
       "          1.1413, -0.9551,  1.1034, -0.9820,  0.5774,  0.5774,  0.5774,  0.5774,\n",
       "         -0.5774, -0.5774,  0.5774,  0.5774,  0.5773, -0.5774,  0.5774, -0.5774],\n",
       "        [ 0.5774,  0.7619, -0.5995, -0.6882, -0.6491,  0.6012, -0.6353,  0.5599,\n",
       "         -0.5753,  0.6251, -0.5440,  1.0171,  0.5774,  0.5773,  0.5774,  0.5774,\n",
       "         -0.5773, -0.5774,  0.5773,  0.5774,  0.5773,  0.5774,  0.5774,  0.5774,\n",
       "          0.3780, -1.0764, -1.1202, -0.2547,  1.1194,  1.1510,  0.6124,  0.4640,\n",
       "         -0.0967, -0.5629, -0.6385, -0.5717, -1.1121, -1.0829,  1.0925,  1.0872,\n",
       "          1.1378, -1.1522,  1.1366, -0.3576,  1.1344, -0.5765,  1.0810, -0.5801,\n",
       "          0.7759,  1.0972,  0.3388, -0.1323, -1.1120,  0.0892, -0.3903,  0.7322,\n",
       "         -0.4185,  1.0395, -0.2569,  1.0171,  0.5774,  0.5774,  0.5774,  0.5774,\n",
       "         -0.5774, -0.5774,  0.5774,  0.5774,  0.5773, -0.5774,  0.5774, -0.5774]])"
      ]
     },
     "execution_count": 53,
     "metadata": {},
     "output_type": "execute_result"
    }
   ],
   "source": [
    "elements=  df_search_space_frag_new.loc[[0,5,7],:].values\n",
    "frag_properties=[]\n",
    "frag_properties= df_precursors.columns[1:7]\n",
    "frag_properties =frag_properties.append(df_precursors.columns[17:23])\n",
    "print(frag_properties)\n",
    "repr = RepresentationPrecursor(df_precursors,frag_properties)\n",
    "repr.generate_repr(elements)"
   ]
  },
  {
   "cell_type": "code",
   "execution_count": 47,
   "metadata": {},
   "outputs": [
    {
     "data": {
      "text/plain": [
       "torch.Size([1, 72])"
      ]
     },
     "execution_count": 47,
     "metadata": {},
     "output_type": "execute_result"
    }
   ],
   "source": []
  },
  {
   "cell_type": "code",
   "execution_count": 45,
   "metadata": {},
   "outputs": [
    {
     "data": {
      "text/plain": [
       "array([ 2.90000000e+01, -1.08058000e+01, -8.48390000e+00,  2.32183426e+00,\n",
       "        6.47700000e+00,  3.00470000e+00,  3.55900000e+00,  1.54300000e-01,\n",
       "        3.76500000e+00,  7.15700000e-01,  4.31300000e+00,  1.00000000e-03,\n",
       "        2.50000000e+01, -1.15745000e+01, -1.01316000e+01,  1.44288326e+00,\n",
       "        7.15310000e+00,  3.89350000e+00,  2.97000000e+00,  1.32300000e-01,\n",
       "        3.43700000e+00,  3.33200000e-01,  3.82700000e+00,  1.00000000e-03,\n",
       "        2.40000000e+01, -1.03484000e+01, -8.74290000e+00,  1.60551522e+00,\n",
       "        6.15690000e+00,  2.95240000e+00,  2.97400000e+00,  7.00000000e-03,\n",
       "        3.35000000e+00,  4.50000000e-03,  3.67900000e+00,  6.04900000e-01,\n",
       "        2.40000000e+01, -1.03484000e+01, -8.74290000e+00,  1.60551522e+00,\n",
       "        6.15690000e+00,  2.95240000e+00,  2.97400000e+00,  7.00000000e-03,\n",
       "        3.35000000e+00,  4.50000000e-03,  3.67900000e+00,  6.04900000e-01,\n",
       "        2.50000000e+01, -1.15745000e+01, -1.01316000e+01,  1.44288326e+00,\n",
       "        7.15310000e+00,  3.89350000e+00,  2.97000000e+00,  1.32300000e-01,\n",
       "        3.43700000e+00,  3.33200000e-01,  3.82700000e+00,  1.00000000e-03,\n",
       "        2.80000000e+01, -1.12534000e+01, -9.47220000e+00,  1.78122783e+00,\n",
       "        7.07530000e+00,  3.89320000e+00,  3.44800000e+00,  1.34600000e-01,\n",
       "        3.52900000e+00,  1.69000000e-02,  3.62800000e+00,  5.90000000e-03])"
      ]
     },
     "execution_count": 45,
     "metadata": {},
     "output_type": "execute_result"
    }
   ],
   "source": [
    "np.concatenate(np.concatenate([df_precursors[df_precursors['InChIKey']==x][frag_properties].values for x in elem]))"
   ]
  },
  {
   "cell_type": "code",
   "execution_count": 18,
   "metadata": {},
   "outputs": [
    {
     "name": "stdout",
     "output_type": "stream",
     "text": [
      "Index(['Atom_num', 'HOMO (eV)', 'LUMO (eV)', 'HOMO_LUMO_GAP (eV)', 'IP (eV)',\n",
      "       'EA (eV)', '1 Excited state Energy (eV)', '1 Excited state Osc',\n",
      "       '2 Excited state Energy (eV)', '2 Excited state Osc',\n",
      "       '3 Excited state Energy (eV)', '3 Excited state Osc'],\n",
      "      dtype='object')\n"
     ]
    }
   ],
   "source": [
    "frag_properties=[]\n",
    "frag_properties= df_precursors.columns[1:7]\n",
    "frag_properties =frag_properties.append(df_precursors.columns[17:23])\n",
    "print(frag_properties)"
   ]
  },
  {
   "cell_type": "code",
   "execution_count": 19,
   "metadata": {},
   "outputs": [
    {
     "data": {
      "text/html": [
       "<div>\n",
       "<style scoped>\n",
       "    .dataframe tbody tr th:only-of-type {\n",
       "        vertical-align: middle;\n",
       "    }\n",
       "\n",
       "    .dataframe tbody tr th {\n",
       "        vertical-align: top;\n",
       "    }\n",
       "\n",
       "    .dataframe thead th {\n",
       "        text-align: right;\n",
       "    }\n",
       "</style>\n",
       "<table border=\"1\" class=\"dataframe\">\n",
       "  <thead>\n",
       "    <tr style=\"text-align: right;\">\n",
       "      <th></th>\n",
       "      <th>Atom_num</th>\n",
       "      <th>HOMO (eV)</th>\n",
       "      <th>LUMO (eV)</th>\n",
       "      <th>HOMO_LUMO_GAP (eV)</th>\n",
       "      <th>IP (eV)</th>\n",
       "      <th>EA (eV)</th>\n",
       "      <th>1 Excited state Energy (eV)</th>\n",
       "      <th>1 Excited state Osc</th>\n",
       "      <th>2 Excited state Energy (eV)</th>\n",
       "      <th>2 Excited state Osc</th>\n",
       "      <th>3 Excited state Energy (eV)</th>\n",
       "      <th>3 Excited state Osc</th>\n",
       "    </tr>\n",
       "  </thead>\n",
       "  <tbody>\n",
       "    <tr>\n",
       "      <th>0</th>\n",
       "      <td>29</td>\n",
       "      <td>-10.4693</td>\n",
       "      <td>-8.1718</td>\n",
       "      <td>2.297427</td>\n",
       "      <td>5.9404</td>\n",
       "      <td>2.2083</td>\n",
       "      <td>3.663</td>\n",
       "      <td>0.6640</td>\n",
       "      <td>3.996</td>\n",
       "      <td>0.0000</td>\n",
       "      <td>4.337</td>\n",
       "      <td>0.0004</td>\n",
       "    </tr>\n",
       "    <tr>\n",
       "      <th>1</th>\n",
       "      <td>25</td>\n",
       "      <td>-11.5745</td>\n",
       "      <td>-10.1316</td>\n",
       "      <td>1.442883</td>\n",
       "      <td>7.1531</td>\n",
       "      <td>3.8935</td>\n",
       "      <td>2.970</td>\n",
       "      <td>0.1323</td>\n",
       "      <td>3.437</td>\n",
       "      <td>0.3332</td>\n",
       "      <td>3.827</td>\n",
       "      <td>0.0010</td>\n",
       "    </tr>\n",
       "    <tr>\n",
       "      <th>2</th>\n",
       "      <td>19</td>\n",
       "      <td>-10.8198</td>\n",
       "      <td>-7.4250</td>\n",
       "      <td>3.394780</td>\n",
       "      <td>6.6286</td>\n",
       "      <td>1.7879</td>\n",
       "      <td>4.907</td>\n",
       "      <td>0.0069</td>\n",
       "      <td>4.965</td>\n",
       "      <td>0.0014</td>\n",
       "      <td>5.214</td>\n",
       "      <td>0.2465</td>\n",
       "    </tr>\n",
       "    <tr>\n",
       "      <th>3</th>\n",
       "      <td>22</td>\n",
       "      <td>-11.6536</td>\n",
       "      <td>-9.8300</td>\n",
       "      <td>1.823610</td>\n",
       "      <td>7.5190</td>\n",
       "      <td>4.1701</td>\n",
       "      <td>3.543</td>\n",
       "      <td>0.0026</td>\n",
       "      <td>3.828</td>\n",
       "      <td>0.1704</td>\n",
       "      <td>3.987</td>\n",
       "      <td>0.2060</td>\n",
       "    </tr>\n",
       "    <tr>\n",
       "      <th>4</th>\n",
       "      <td>22</td>\n",
       "      <td>-11.5774</td>\n",
       "      <td>-9.8714</td>\n",
       "      <td>1.706007</td>\n",
       "      <td>7.5324</td>\n",
       "      <td>4.1806</td>\n",
       "      <td>3.779</td>\n",
       "      <td>0.0002</td>\n",
       "      <td>3.813</td>\n",
       "      <td>0.0277</td>\n",
       "      <td>4.035</td>\n",
       "      <td>0.1648</td>\n",
       "    </tr>\n",
       "    <tr>\n",
       "      <th>...</th>\n",
       "      <td>...</td>\n",
       "      <td>...</td>\n",
       "      <td>...</td>\n",
       "      <td>...</td>\n",
       "      <td>...</td>\n",
       "      <td>...</td>\n",
       "      <td>...</td>\n",
       "      <td>...</td>\n",
       "      <td>...</td>\n",
       "      <td>...</td>\n",
       "      <td>...</td>\n",
       "      <td>...</td>\n",
       "    </tr>\n",
       "    <tr>\n",
       "      <th>307</th>\n",
       "      <td>26</td>\n",
       "      <td>-11.3354</td>\n",
       "      <td>-9.5452</td>\n",
       "      <td>1.790262</td>\n",
       "      <td>7.1329</td>\n",
       "      <td>3.9026</td>\n",
       "      <td>3.469</td>\n",
       "      <td>0.1294</td>\n",
       "      <td>3.535</td>\n",
       "      <td>0.3115</td>\n",
       "      <td>3.734</td>\n",
       "      <td>0.0009</td>\n",
       "    </tr>\n",
       "    <tr>\n",
       "      <th>308</th>\n",
       "      <td>28</td>\n",
       "      <td>-11.6429</td>\n",
       "      <td>-9.6229</td>\n",
       "      <td>2.020001</td>\n",
       "      <td>7.4355</td>\n",
       "      <td>3.9957</td>\n",
       "      <td>3.597</td>\n",
       "      <td>0.0143</td>\n",
       "      <td>3.703</td>\n",
       "      <td>0.0607</td>\n",
       "      <td>3.833</td>\n",
       "      <td>0.3665</td>\n",
       "    </tr>\n",
       "    <tr>\n",
       "      <th>309</th>\n",
       "      <td>22</td>\n",
       "      <td>-11.1367</td>\n",
       "      <td>-8.9866</td>\n",
       "      <td>2.150111</td>\n",
       "      <td>6.9908</td>\n",
       "      <td>3.2628</td>\n",
       "      <td>2.915</td>\n",
       "      <td>0.0108</td>\n",
       "      <td>3.557</td>\n",
       "      <td>0.0000</td>\n",
       "      <td>3.885</td>\n",
       "      <td>0.1024</td>\n",
       "    </tr>\n",
       "    <tr>\n",
       "      <th>310</th>\n",
       "      <td>28</td>\n",
       "      <td>-11.0931</td>\n",
       "      <td>-9.5040</td>\n",
       "      <td>1.589045</td>\n",
       "      <td>7.0133</td>\n",
       "      <td>3.9076</td>\n",
       "      <td>3.035</td>\n",
       "      <td>0.0360</td>\n",
       "      <td>3.298</td>\n",
       "      <td>0.0221</td>\n",
       "      <td>3.489</td>\n",
       "      <td>0.0850</td>\n",
       "    </tr>\n",
       "    <tr>\n",
       "      <th>311</th>\n",
       "      <td>18</td>\n",
       "      <td>-10.4628</td>\n",
       "      <td>-7.9800</td>\n",
       "      <td>2.482790</td>\n",
       "      <td>6.2413</td>\n",
       "      <td>2.3754</td>\n",
       "      <td>3.968</td>\n",
       "      <td>0.2273</td>\n",
       "      <td>4.393</td>\n",
       "      <td>0.1909</td>\n",
       "      <td>4.686</td>\n",
       "      <td>0.0040</td>\n",
       "    </tr>\n",
       "  </tbody>\n",
       "</table>\n",
       "<p>312 rows × 12 columns</p>\n",
       "</div>"
      ],
      "text/plain": [
       "     Atom_num  HOMO (eV)  LUMO (eV)  HOMO_LUMO_GAP (eV)  IP (eV)  EA (eV)  \\\n",
       "0          29   -10.4693    -8.1718            2.297427   5.9404   2.2083   \n",
       "1          25   -11.5745   -10.1316            1.442883   7.1531   3.8935   \n",
       "2          19   -10.8198    -7.4250            3.394780   6.6286   1.7879   \n",
       "3          22   -11.6536    -9.8300            1.823610   7.5190   4.1701   \n",
       "4          22   -11.5774    -9.8714            1.706007   7.5324   4.1806   \n",
       "..        ...        ...        ...                 ...      ...      ...   \n",
       "307        26   -11.3354    -9.5452            1.790262   7.1329   3.9026   \n",
       "308        28   -11.6429    -9.6229            2.020001   7.4355   3.9957   \n",
       "309        22   -11.1367    -8.9866            2.150111   6.9908   3.2628   \n",
       "310        28   -11.0931    -9.5040            1.589045   7.0133   3.9076   \n",
       "311        18   -10.4628    -7.9800            2.482790   6.2413   2.3754   \n",
       "\n",
       "     1 Excited state Energy (eV)  1 Excited state Osc  \\\n",
       "0                          3.663               0.6640   \n",
       "1                          2.970               0.1323   \n",
       "2                          4.907               0.0069   \n",
       "3                          3.543               0.0026   \n",
       "4                          3.779               0.0002   \n",
       "..                           ...                  ...   \n",
       "307                        3.469               0.1294   \n",
       "308                        3.597               0.0143   \n",
       "309                        2.915               0.0108   \n",
       "310                        3.035               0.0360   \n",
       "311                        3.968               0.2273   \n",
       "\n",
       "     2 Excited state Energy (eV)  2 Excited state Osc  \\\n",
       "0                          3.996               0.0000   \n",
       "1                          3.437               0.3332   \n",
       "2                          4.965               0.0014   \n",
       "3                          3.828               0.1704   \n",
       "4                          3.813               0.0277   \n",
       "..                           ...                  ...   \n",
       "307                        3.535               0.3115   \n",
       "308                        3.703               0.0607   \n",
       "309                        3.557               0.0000   \n",
       "310                        3.298               0.0221   \n",
       "311                        4.393               0.1909   \n",
       "\n",
       "     3 Excited state Energy (eV)  3 Excited state Osc  \n",
       "0                          4.337               0.0004  \n",
       "1                          3.827               0.0010  \n",
       "2                          5.214               0.2465  \n",
       "3                          3.987               0.2060  \n",
       "4                          4.035               0.1648  \n",
       "..                           ...                  ...  \n",
       "307                        3.734               0.0009  \n",
       "308                        3.833               0.3665  \n",
       "309                        3.885               0.1024  \n",
       "310                        3.489               0.0850  \n",
       "311                        4.686               0.0040  \n",
       "\n",
       "[312 rows x 12 columns]"
      ]
     },
     "execution_count": 19,
     "metadata": {},
     "output_type": "execute_result"
    }
   ],
   "source": [
    "df_precursors[frag_properties]"
   ]
  },
  {
   "cell_type": "code",
   "execution_count": null,
   "metadata": {},
   "outputs": [],
   "source": []
  }
 ],
 "metadata": {
  "kernelspec": {
   "display_name": "STKSearch",
   "language": "python",
   "name": "python3"
  },
  "language_info": {
   "codemirror_mode": {
    "name": "ipython",
    "version": 3
   },
   "file_extension": ".py",
   "mimetype": "text/x-python",
   "name": "python",
   "nbconvert_exporter": "python",
   "pygments_lexer": "ipython3",
   "version": "3.10.12"
  },
  "orig_nbformat": 4
 },
 "nbformat": 4,
 "nbformat_minor": 2
}
