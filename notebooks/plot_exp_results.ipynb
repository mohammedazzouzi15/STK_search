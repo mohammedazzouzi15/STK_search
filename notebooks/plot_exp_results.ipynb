{
 "cells": [
  {
   "cell_type": "code",
   "execution_count": 1,
   "metadata": {},
   "outputs": [],
   "source": [
    "import os\n",
    "os.chdir('/rds/general/user/ma11115/home/STK_Search/STK_search')"
   ]
  },
  {
   "cell_type": "code",
   "execution_count": 14,
   "metadata": {},
   "outputs": [],
   "source": [
    "import pickle\n",
    "import numpy as np\n",
    "import pandas as pd\n",
    "import matplotlib.pyplot as plt\n",
    "import glob\n",
    "\n",
    "import os\n",
    "\n",
    "import numpy as np \n",
    "import matplotlib.pyplot as plt\n",
    "import pickle\n",
    "import pandas as pd\n",
    "import torch\n",
    "import seaborn as sns\n",
    "from sklearn.decomposition import PCA\n",
    "\n",
    "plt.matplotlib.style.use(\"https://gist.githubusercontent.com/JonnyCBB/c464d302fefce4722fe6cf5f461114ea/raw/64a78942d3f7b4b5054902f2cee84213eaff872f/matplotlibrc\")\n",
    "cool_colors = ['#00BEFF', '#D4CA3A', '#FF6DAE', '#67E1B5', '#EBACFA', '#9E9E9E', '#F1988E', '#5DB15A', '#E28544', '#52B8AA']\n",
    "cool_colors = ['C0', 'C1', 'C2', 'C3', 'C4', 'C5', 'C6', 'C7']\n",
    "\n",
    "plt.rcParams.update({'font.size': 14})\n",
    "\n",
    "search_to_color = {'BO': cool_colors[0], 'random': cool_colors[1], 'evolutionary': cool_colors[2], 'RF': cool_colors[3], 'RF (div)': cool_colors[5]}\n",
    "\n",
    "def plot_exploration_evolution(BOresults, df_total, nb_initialisation,nb_iteration=100,axs=None,color=search_to_color['BO'],label='BO',operation= np.max):\n",
    "    def y_max(res, rank=False,nb_iterations=100):\n",
    "        y_max_mu      = -10*np.ones(nb_iterations)\n",
    "        y_max_sig_bot = -10*np.ones(nb_iterations)\n",
    "        y_max_sig_top = -10*np.ones(nb_iterations)\n",
    "        nb_runs = len(res)\n",
    "        for i in range(1, nb_iterations+1):\n",
    "            # max value acquired up to this point\n",
    "\n",
    "            y_maxes = np.array([operation(BOresults[r]['fitness_acquired'][nb_initialisation:nb_initialisation+i]) for r in range(nb_runs)]) # among runs\n",
    "            assert np.size(y_maxes) == nb_runs\n",
    "            y_max_mu[i-1]      = np.mean(y_maxes)\n",
    "            y_max_sig_bot[i-1] = np.std(y_maxes[y_maxes < y_max_mu[i-1]])\n",
    "            y_max_sig_top[i-1] = np.std(y_maxes[y_maxes > y_max_mu[i-1]])\n",
    "        return y_max_mu, y_max_sig_bot, y_max_sig_top\n",
    "    nb_iterations_range = np.arange(nb_iteration) + 1\n",
    "    y_max_mu_BO, y_max_sig_bot_BO, y_max_sig_top_BO = y_max(BOresults,nb_iterations= nb_iteration)\n",
    "\n",
    "    axs[0].plot(nb_iterations_range, y_max_mu_BO, label=label, color=color)\n",
    "    axs[0].fill_between(nb_iterations_range, y_max_mu_BO  - y_max_sig_bot_BO, \n",
    "                                            y_max_mu_BO + y_max_sig_top_BO, # \n",
    "                        alpha=0.2, ec=\"None\", color=color)\n",
    "    axs[0].set_xlabel('# evaluated oligomers')\n",
    "    axs[0].set_ylabel('maximum fitness acquired')\n",
    "    axs[0].set_ylim([-12,0])\n",
    "\n",
    "    axs[0].axhline(y=np.max(df_total['target'].values), color=\"k\", linestyle=\"--\", zorder=0)\n",
    "\n",
    "    df_total['target'].hist(ax=axs[1], bins=20, orientation=\"horizontal\", color=search_to_color['BO'])\n",
    "    axs[1].set_ylim([-10,-0])\n",
    "    axs[1].set_xscale('log')\n",
    "    axs[1].set_xlim([0.9,1e4])\n"
   ]
  },
  {
   "cell_type": "code",
   "execution_count": 6,
   "metadata": {},
   "outputs": [
    {
     "name": "stderr",
     "output_type": "stream",
     "text": [
      "/rds/general/user/ma11115/home/STK_Search/STK_search/src/stk_search/Database_utils.py:106: DtypeWarning: Columns (18) have mixed types. Specify dtype option on import or set low_memory=False.\n",
      "  df_total = pd.read_csv(df_path)\n"
     ]
    }
   ],
   "source": [
    "import pandas as pd\n",
    "from stk_search import Database_utils\n",
    "import importlib\n",
    "importlib.reload(Database_utils)\n",
    "#%% \n",
    "# Load the searched space\n",
    "df_path = 'data/output/Full_dataset/df_total_2023_10_30.csv'\n",
    "\n",
    "df_precursors_path = 'data/output/Prescursor_data/calculation_data_precursor_190923_clean.pkl'#'Data/output/Prescursor_data/calculation_data_precursor_310823_clean.pkl'\n",
    "df_total, df_precursors = Database_utils.load_data_from_file(df_path, df_precursors_path)\n"
   ]
  },
  {
   "cell_type": "code",
   "execution_count": 4,
   "metadata": {},
   "outputs": [],
   "source": [
    "import glob\n",
    "import pickle\n",
    "def load_search_data(search_type, date,test_name):\n",
    "    files = glob.glob(f'data/output/search_experiment/{test_name}/'+search_type+'/'+date+'/*.pkl')\n",
    "    BOresults = []\n",
    "    for file in files:\n",
    "        with open(file, 'rb') as f:\n",
    "            BOresults.append(pickle.load(f))\n",
    "    return BOresults\n",
    "BOresults_random = load_search_data('random','20231101','benchmark')\n",
    "BOresults_precursor = load_search_data('precursor','20231101','benchmark')\n",
    "BOresults_slatm = load_search_data('slatm','20231101','benchmark')\n",
    "BOresults_EA = load_search_data('evolution_algorithm','20231101','benchmark')"
   ]
  },
  {
   "cell_type": "code",
   "execution_count": 16,
   "metadata": {},
   "outputs": [
    {
     "ename": "ValueError",
     "evalue": "zero-size array to reduction operation maximum which has no identity",
     "output_type": "error",
     "traceback": [
      "\u001b[0;31m---------------------------------------------------------------------------\u001b[0m",
      "\u001b[0;31mValueError\u001b[0m                                Traceback (most recent call last)",
      "\u001b[1;32mc:\\Users\\ma11115\\OneDrive - Imperial College London\\github_folder\\STK_search\\notebooks\\plot_exp_results.ipynb Cell 5\u001b[0m line \u001b[0;36m5\n\u001b[1;32m      <a href='vscode-notebook-cell:/c%3A/Users/ma11115/OneDrive%20-%20Imperial%20College%20London/github_folder/STK_search/notebooks/plot_exp_results.ipynb#W5sZmlsZQ%3D%3D?line=2'>3</a>\u001b[0m operation \u001b[39m=\u001b[39m np\u001b[39m.\u001b[39mmax\n\u001b[1;32m      <a href='vscode-notebook-cell:/c%3A/Users/ma11115/OneDrive%20-%20Imperial%20College%20London/github_folder/STK_search/notebooks/plot_exp_results.ipynb#W5sZmlsZQ%3D%3D?line=3'>4</a>\u001b[0m nb_initialisation \u001b[39m=\u001b[39m \u001b[39m290\u001b[39m\n\u001b[0;32m----> <a href='vscode-notebook-cell:/c%3A/Users/ma11115/OneDrive%20-%20Imperial%20College%20London/github_folder/STK_search/notebooks/plot_exp_results.ipynb#W5sZmlsZQ%3D%3D?line=4'>5</a>\u001b[0m plot_exploration_evolution(BOresults_precursor, df_total, nb_initialisation,nb_iteration\u001b[39m=\u001b[39;49mnb_iteration,axs\u001b[39m=\u001b[39;49maxs,color\u001b[39m=\u001b[39;49msearch_to_color[\u001b[39m'\u001b[39;49m\u001b[39mBO\u001b[39;49m\u001b[39m'\u001b[39;49m],label\u001b[39m=\u001b[39;49m\u001b[39m'\u001b[39;49m\u001b[39mBO (precursor)\u001b[39;49m\u001b[39m'\u001b[39;49m,operation\u001b[39m=\u001b[39;49moperation)\n\u001b[1;32m      <a href='vscode-notebook-cell:/c%3A/Users/ma11115/OneDrive%20-%20Imperial%20College%20London/github_folder/STK_search/notebooks/plot_exp_results.ipynb#W5sZmlsZQ%3D%3D?line=5'>6</a>\u001b[0m plot_exploration_evolution(BOresults_slatm, df_total,nb_initialisation, nb_iteration\u001b[39m=\u001b[39mnb_iteration,axs\u001b[39m=\u001b[39maxs,color\u001b[39m=\u001b[39msearch_to_color[\u001b[39m'\u001b[39m\u001b[39mRF\u001b[39m\u001b[39m'\u001b[39m], label\u001b[39m=\u001b[39m\u001b[39m'\u001b[39m\u001b[39mBO (SLATM)\u001b[39m\u001b[39m'\u001b[39m,operation\u001b[39m=\u001b[39moperation)\n\u001b[1;32m      <a href='vscode-notebook-cell:/c%3A/Users/ma11115/OneDrive%20-%20Imperial%20College%20London/github_folder/STK_search/notebooks/plot_exp_results.ipynb#W5sZmlsZQ%3D%3D?line=6'>7</a>\u001b[0m plot_exploration_evolution(BOresults_random, df_total,nb_initialisation, nb_iteration\u001b[39m=\u001b[39mnb_iteration,axs\u001b[39m=\u001b[39maxs,color\u001b[39m=\u001b[39msearch_to_color[\u001b[39m'\u001b[39m\u001b[39mrandom\u001b[39m\u001b[39m'\u001b[39m],label\u001b[39m=\u001b[39m\u001b[39m'\u001b[39m\u001b[39mrandom\u001b[39m\u001b[39m'\u001b[39m,operation\u001b[39m=\u001b[39moperation)\n",
      "\u001b[1;32mc:\\Users\\ma11115\\OneDrive - Imperial College London\\github_folder\\STK_search\\notebooks\\plot_exp_results.ipynb Cell 5\u001b[0m line \u001b[0;36m4\n\u001b[1;32m     <a href='vscode-notebook-cell:/c%3A/Users/ma11115/OneDrive%20-%20Imperial%20College%20London/github_folder/STK_search/notebooks/plot_exp_results.ipynb#W5sZmlsZQ%3D%3D?line=38'>39</a>\u001b[0m     \u001b[39mreturn\u001b[39;00m y_max_mu, y_max_sig_bot, y_max_sig_top\n\u001b[1;32m     <a href='vscode-notebook-cell:/c%3A/Users/ma11115/OneDrive%20-%20Imperial%20College%20London/github_folder/STK_search/notebooks/plot_exp_results.ipynb#W5sZmlsZQ%3D%3D?line=39'>40</a>\u001b[0m nb_iterations_range \u001b[39m=\u001b[39m np\u001b[39m.\u001b[39marange(nb_iteration) \u001b[39m+\u001b[39m \u001b[39m1\u001b[39m\n\u001b[0;32m---> <a href='vscode-notebook-cell:/c%3A/Users/ma11115/OneDrive%20-%20Imperial%20College%20London/github_folder/STK_search/notebooks/plot_exp_results.ipynb#W5sZmlsZQ%3D%3D?line=40'>41</a>\u001b[0m y_max_mu_BO, y_max_sig_bot_BO, y_max_sig_top_BO \u001b[39m=\u001b[39m y_max(BOresults,nb_iterations\u001b[39m=\u001b[39;49m nb_iteration)\n\u001b[1;32m     <a href='vscode-notebook-cell:/c%3A/Users/ma11115/OneDrive%20-%20Imperial%20College%20London/github_folder/STK_search/notebooks/plot_exp_results.ipynb#W5sZmlsZQ%3D%3D?line=42'>43</a>\u001b[0m axs[\u001b[39m0\u001b[39m]\u001b[39m.\u001b[39mplot(nb_iterations_range, y_max_mu_BO, label\u001b[39m=\u001b[39mlabel, color\u001b[39m=\u001b[39mcolor)\n\u001b[1;32m     <a href='vscode-notebook-cell:/c%3A/Users/ma11115/OneDrive%20-%20Imperial%20College%20London/github_folder/STK_search/notebooks/plot_exp_results.ipynb#W5sZmlsZQ%3D%3D?line=43'>44</a>\u001b[0m axs[\u001b[39m0\u001b[39m]\u001b[39m.\u001b[39mfill_between(nb_iterations_range, y_max_mu_BO  \u001b[39m-\u001b[39m y_max_sig_bot_BO, \n\u001b[1;32m     <a href='vscode-notebook-cell:/c%3A/Users/ma11115/OneDrive%20-%20Imperial%20College%20London/github_folder/STK_search/notebooks/plot_exp_results.ipynb#W5sZmlsZQ%3D%3D?line=44'>45</a>\u001b[0m                                         y_max_mu_BO \u001b[39m+\u001b[39m y_max_sig_top_BO, \u001b[39m# \u001b[39;00m\n\u001b[1;32m     <a href='vscode-notebook-cell:/c%3A/Users/ma11115/OneDrive%20-%20Imperial%20College%20London/github_folder/STK_search/notebooks/plot_exp_results.ipynb#W5sZmlsZQ%3D%3D?line=45'>46</a>\u001b[0m                     alpha\u001b[39m=\u001b[39m\u001b[39m0.2\u001b[39m, ec\u001b[39m=\u001b[39m\u001b[39m\"\u001b[39m\u001b[39mNone\u001b[39m\u001b[39m\"\u001b[39m, color\u001b[39m=\u001b[39mcolor)\n",
      "\u001b[1;32mc:\\Users\\ma11115\\OneDrive - Imperial College London\\github_folder\\STK_search\\notebooks\\plot_exp_results.ipynb Cell 5\u001b[0m line \u001b[0;36m3\n\u001b[1;32m     <a href='vscode-notebook-cell:/c%3A/Users/ma11115/OneDrive%20-%20Imperial%20College%20London/github_folder/STK_search/notebooks/plot_exp_results.ipynb#W5sZmlsZQ%3D%3D?line=29'>30</a>\u001b[0m nb_runs \u001b[39m=\u001b[39m \u001b[39mlen\u001b[39m(res)\n\u001b[1;32m     <a href='vscode-notebook-cell:/c%3A/Users/ma11115/OneDrive%20-%20Imperial%20College%20London/github_folder/STK_search/notebooks/plot_exp_results.ipynb#W5sZmlsZQ%3D%3D?line=30'>31</a>\u001b[0m \u001b[39mfor\u001b[39;00m i \u001b[39min\u001b[39;00m \u001b[39mrange\u001b[39m(\u001b[39m1\u001b[39m, nb_iterations\u001b[39m+\u001b[39m\u001b[39m1\u001b[39m):\n\u001b[1;32m     <a href='vscode-notebook-cell:/c%3A/Users/ma11115/OneDrive%20-%20Imperial%20College%20London/github_folder/STK_search/notebooks/plot_exp_results.ipynb#W5sZmlsZQ%3D%3D?line=31'>32</a>\u001b[0m     \u001b[39m# max value acquired up to this point\u001b[39;00m\n\u001b[0;32m---> <a href='vscode-notebook-cell:/c%3A/Users/ma11115/OneDrive%20-%20Imperial%20College%20London/github_folder/STK_search/notebooks/plot_exp_results.ipynb#W5sZmlsZQ%3D%3D?line=33'>34</a>\u001b[0m     y_maxes \u001b[39m=\u001b[39m np\u001b[39m.\u001b[39marray([operation(BOresults[r][\u001b[39m'\u001b[39;49m\u001b[39mfitness_acquired\u001b[39;49m\u001b[39m'\u001b[39;49m][nb_initialisation:i]) \u001b[39mfor\u001b[39;49;00m r \u001b[39min\u001b[39;49;00m \u001b[39mrange\u001b[39;49m(nb_runs)]) \u001b[39m# among runs\u001b[39;00m\n\u001b[1;32m     <a href='vscode-notebook-cell:/c%3A/Users/ma11115/OneDrive%20-%20Imperial%20College%20London/github_folder/STK_search/notebooks/plot_exp_results.ipynb#W5sZmlsZQ%3D%3D?line=34'>35</a>\u001b[0m     \u001b[39massert\u001b[39;00m np\u001b[39m.\u001b[39msize(y_maxes) \u001b[39m==\u001b[39m nb_runs\n\u001b[1;32m     <a href='vscode-notebook-cell:/c%3A/Users/ma11115/OneDrive%20-%20Imperial%20College%20London/github_folder/STK_search/notebooks/plot_exp_results.ipynb#W5sZmlsZQ%3D%3D?line=35'>36</a>\u001b[0m     y_max_mu[i\u001b[39m-\u001b[39m\u001b[39m1\u001b[39m]      \u001b[39m=\u001b[39m np\u001b[39m.\u001b[39mmean(y_maxes)\n",
      "\u001b[1;32mc:\\Users\\ma11115\\OneDrive - Imperial College London\\github_folder\\STK_search\\notebooks\\plot_exp_results.ipynb Cell 5\u001b[0m line \u001b[0;36m3\n\u001b[1;32m     <a href='vscode-notebook-cell:/c%3A/Users/ma11115/OneDrive%20-%20Imperial%20College%20London/github_folder/STK_search/notebooks/plot_exp_results.ipynb#W5sZmlsZQ%3D%3D?line=29'>30</a>\u001b[0m nb_runs \u001b[39m=\u001b[39m \u001b[39mlen\u001b[39m(res)\n\u001b[1;32m     <a href='vscode-notebook-cell:/c%3A/Users/ma11115/OneDrive%20-%20Imperial%20College%20London/github_folder/STK_search/notebooks/plot_exp_results.ipynb#W5sZmlsZQ%3D%3D?line=30'>31</a>\u001b[0m \u001b[39mfor\u001b[39;00m i \u001b[39min\u001b[39;00m \u001b[39mrange\u001b[39m(\u001b[39m1\u001b[39m, nb_iterations\u001b[39m+\u001b[39m\u001b[39m1\u001b[39m):\n\u001b[1;32m     <a href='vscode-notebook-cell:/c%3A/Users/ma11115/OneDrive%20-%20Imperial%20College%20London/github_folder/STK_search/notebooks/plot_exp_results.ipynb#W5sZmlsZQ%3D%3D?line=31'>32</a>\u001b[0m     \u001b[39m# max value acquired up to this point\u001b[39;00m\n\u001b[0;32m---> <a href='vscode-notebook-cell:/c%3A/Users/ma11115/OneDrive%20-%20Imperial%20College%20London/github_folder/STK_search/notebooks/plot_exp_results.ipynb#W5sZmlsZQ%3D%3D?line=33'>34</a>\u001b[0m     y_maxes \u001b[39m=\u001b[39m np\u001b[39m.\u001b[39marray([operation(BOresults[r][\u001b[39m'\u001b[39;49m\u001b[39mfitness_acquired\u001b[39;49m\u001b[39m'\u001b[39;49m][nb_initialisation:i]) \u001b[39mfor\u001b[39;00m r \u001b[39min\u001b[39;00m \u001b[39mrange\u001b[39m(nb_runs)]) \u001b[39m# among runs\u001b[39;00m\n\u001b[1;32m     <a href='vscode-notebook-cell:/c%3A/Users/ma11115/OneDrive%20-%20Imperial%20College%20London/github_folder/STK_search/notebooks/plot_exp_results.ipynb#W5sZmlsZQ%3D%3D?line=34'>35</a>\u001b[0m     \u001b[39massert\u001b[39;00m np\u001b[39m.\u001b[39msize(y_maxes) \u001b[39m==\u001b[39m nb_runs\n\u001b[1;32m     <a href='vscode-notebook-cell:/c%3A/Users/ma11115/OneDrive%20-%20Imperial%20College%20London/github_folder/STK_search/notebooks/plot_exp_results.ipynb#W5sZmlsZQ%3D%3D?line=35'>36</a>\u001b[0m     y_max_mu[i\u001b[39m-\u001b[39m\u001b[39m1\u001b[39m]      \u001b[39m=\u001b[39m np\u001b[39m.\u001b[39mmean(y_maxes)\n",
      "File \u001b[0;32m~/anaconda3/envs/STKSearch/lib/python3.11/site-packages/numpy/core/fromnumeric.py:2810\u001b[0m, in \u001b[0;36mmax\u001b[0;34m(a, axis, out, keepdims, initial, where)\u001b[0m\n\u001b[1;32m   2692\u001b[0m \u001b[39m@array_function_dispatch\u001b[39m(_max_dispatcher)\n\u001b[1;32m   2693\u001b[0m \u001b[39m@set_module\u001b[39m(\u001b[39m'\u001b[39m\u001b[39mnumpy\u001b[39m\u001b[39m'\u001b[39m)\n\u001b[1;32m   2694\u001b[0m \u001b[39mdef\u001b[39;00m \u001b[39mmax\u001b[39m(a, axis\u001b[39m=\u001b[39m\u001b[39mNone\u001b[39;00m, out\u001b[39m=\u001b[39m\u001b[39mNone\u001b[39;00m, keepdims\u001b[39m=\u001b[39mnp\u001b[39m.\u001b[39m_NoValue, initial\u001b[39m=\u001b[39mnp\u001b[39m.\u001b[39m_NoValue,\n\u001b[1;32m   2695\u001b[0m          where\u001b[39m=\u001b[39mnp\u001b[39m.\u001b[39m_NoValue):\n\u001b[1;32m   2696\u001b[0m \u001b[39m    \u001b[39m\u001b[39m\"\"\"\u001b[39;00m\n\u001b[1;32m   2697\u001b[0m \u001b[39m    Return the maximum of an array or maximum along an axis.\u001b[39;00m\n\u001b[1;32m   2698\u001b[0m \n\u001b[0;32m   (...)\u001b[0m\n\u001b[1;32m   2808\u001b[0m \u001b[39m    5\u001b[39;00m\n\u001b[1;32m   2809\u001b[0m \u001b[39m    \"\"\"\u001b[39;00m\n\u001b[0;32m-> 2810\u001b[0m     \u001b[39mreturn\u001b[39;00m _wrapreduction(a, np\u001b[39m.\u001b[39;49mmaximum, \u001b[39m'\u001b[39;49m\u001b[39mmax\u001b[39;49m\u001b[39m'\u001b[39;49m, axis, \u001b[39mNone\u001b[39;49;00m, out,\n\u001b[1;32m   2811\u001b[0m                           keepdims\u001b[39m=\u001b[39;49mkeepdims, initial\u001b[39m=\u001b[39;49minitial, where\u001b[39m=\u001b[39;49mwhere)\n",
      "File \u001b[0;32m~/anaconda3/envs/STKSearch/lib/python3.11/site-packages/numpy/core/fromnumeric.py:88\u001b[0m, in \u001b[0;36m_wrapreduction\u001b[0;34m(obj, ufunc, method, axis, dtype, out, **kwargs)\u001b[0m\n\u001b[1;32m     85\u001b[0m         \u001b[39melse\u001b[39;00m:\n\u001b[1;32m     86\u001b[0m             \u001b[39mreturn\u001b[39;00m reduction(axis\u001b[39m=\u001b[39maxis, out\u001b[39m=\u001b[39mout, \u001b[39m*\u001b[39m\u001b[39m*\u001b[39mpasskwargs)\n\u001b[0;32m---> 88\u001b[0m \u001b[39mreturn\u001b[39;00m ufunc\u001b[39m.\u001b[39;49mreduce(obj, axis, dtype, out, \u001b[39m*\u001b[39;49m\u001b[39m*\u001b[39;49mpasskwargs)\n",
      "\u001b[0;31mValueError\u001b[0m: zero-size array to reduction operation maximum which has no identity"
     ]
    },
    {
     "data": {
      "image/png": "[encoded data removed]",
      "text/plain": [
       "<Figure size 768x480 with 2 Axes>"
      ]
     },
     "metadata": {},
     "output_type": "display_data"
    }
   ],
   "source": [
    "fig, axs = plt.subplots(1, 2, gridspec_kw={'width_ratios': [4, 2]}, figsize=[1.2 * 6.4, 4.8])#, sharey=True)\n",
    "nb_iteration = 400\n",
    "operation = np.max\n",
    "nb_initialisation = 290\n",
    "plot_exploration_evolution(BOresults_precursor, df_total, nb_initialisation,nb_iteration=nb_iteration,axs=axs,color=search_to_color['BO'],label='BO (precursor)',operation=operation)\n",
    "plot_exploration_evolution(BOresults_slatm, df_total,nb_initialisation, nb_iteration=nb_iteration,axs=axs,color=search_to_color['RF'], label='BO (SLATM)',operation=operation)\n",
    "plot_exploration_evolution(BOresults_random, df_total,nb_initialisation, nb_iteration=nb_iteration,axs=axs,color=search_to_color['random'],label='random',operation=operation)\n",
    "plot_exploration_evolution(BOresults_EA, df_total,nb_initialisation, nb_iteration=nb_iteration,axs=axs,color=search_to_color['evolutionary'],label='EA',operation=operation)\n",
    "#plot_exploration_evolution(BOresults_slatm_org, df_total, nb_iteration=200,axs=axs,color=search_to_color['RF (div)'],label='BO (SLATM org)')\n",
    "\n",
    "axs[0].legend()"
   ]
  },
  {
   "cell_type": "code",
   "execution_count": null,
   "metadata": {},
   "outputs": [],
   "source": [
    "toz=-100\n",
    "for x in BOresults:\n",
    "    toz=max(toz,max(x['fitness_acquired']))\n"
   ]
  },
  {
   "cell_type": "code",
   "execution_count": null,
   "metadata": {},
   "outputs": [],
   "source": [
    "%matplotlib inline"
   ]
  },
  {
   "cell_type": "code",
   "execution_count": null,
   "metadata": {},
   "outputs": [],
   "source": [
    "x = 1\n",
    "x is not None"
   ]
  },
  {
   "cell_type": "code",
   "execution_count": null,
   "metadata": {},
   "outputs": [],
   "source": [
    "BOresults_precursor"
   ]
  }
 ],
 "metadata": {
  "kernelspec": {
   "display_name": "Python [conda env:STKSearch]",
   "language": "python",
   "name": "conda-env-STKSearch-py"
  },
  "language_info": {
   "codemirror_mode": {
    "name": "ipython",
    "version": 3
   },
   "file_extension": ".py",
   "mimetype": "text/x-python",
   "name": "python",
   "nbconvert_exporter": "python",
   "pygments_lexer": "ipython3",
   "version": "3.11.5"
  },
  "orig_nbformat": 4
 },
 "nbformat": 4,
 "nbformat_minor": 2
}
