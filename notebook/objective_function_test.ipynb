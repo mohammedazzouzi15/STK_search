{
 "cells": [
  {
   "cell_type": "code",
   "execution_count": 1,
   "metadata": {},
   "outputs": [
    {
     "name": "stderr",
     "output_type": "stream",
     "text": [
      "DEBUG:root:test\n"
     ]
    }
   ],
   "source": [
    "from stk_search import ObjectiveFunction\n",
    "import logging\n",
    "logger = logging.getLogger()\n",
    "logger.setLevel(logging.DEBUG)\n",
    "logging.debug(\"test\")\n"
   ]
  },
  {
   "cell_type": "code",
   "execution_count": 2,
   "metadata": {},
   "outputs": [],
   "source": [
    "obj = ObjectiveFunction.IpEs1Fosc(6,db_folder='database')"
   ]
  },
  {
   "cell_type": "code",
   "execution_count": 3,
   "metadata": {},
   "outputs": [
    {
     "name": "stderr",
     "output_type": "stream",
     "text": [
      "DEBUG:pymongo.connection:{\"clientId\": {\"$oid\": \"66cc681334d23e96558e91dc\"}, \"message\": \"Connection pool created\", \"serverHost\": \"localhost\", \"serverPort\": 27017}\n",
      "DEBUG:pymongo.serverSelection:{\"message\": \"Server selection started\", \"selector\": \"Primary()\", \"operation\": \"listIndexes\", \"topologyDescription\": \"<TopologyDescription id: 66cc681334d23e96558e91dc, topology_type: Unknown, servers: [<ServerDescription ('localhost', 27017) server_type: Unknown, rtt: None>]>\", \"clientId\": {\"$oid\": \"66cc681334d23e96558e91dc\"}}\n",
      "DEBUG:pymongo.serverSelection:{\"message\": \"Waiting for suitable server to become available\", \"selector\": \"Primary()\", \"operation\": \"listIndexes\", \"topologyDescription\": \"<TopologyDescription id: 66cc681334d23e96558e91dc, topology_type: Unknown, servers: [<ServerDescription ('localhost', 27017) server_type: Unknown, rtt: None>]>\", \"clientId\": {\"$oid\": \"66cc681334d23e96558e91dc\"}, \"remainingTimeMS\": 29}\n",
      "DEBUG:pymongo.connection:{\"clientId\": {\"$oid\": \"66cc681334d23e96558e91dc\"}, \"message\": \"Connection pool ready\", \"serverHost\": \"localhost\", \"serverPort\": 27017}\n",
      "DEBUG:pymongo.serverSelection:{\"message\": \"Server selection succeeded\", \"selector\": \"Primary()\", \"operation\": \"listIndexes\", \"topologyDescription\": \"<TopologyDescription id: 66cc681334d23e96558e91dc, topology_type: Single, servers: [<ServerDescription ('localhost', 27017) server_type: Standalone, rtt: 0.00033910898491740227>]>\", \"clientId\": {\"$oid\": \"66cc681334d23e96558e91dc\"}, \"serverHost\": \"localhost\", \"serverPort\": 27017}\n",
      "DEBUG:pymongo.connection:{\"clientId\": {\"$oid\": \"66cc681334d23e96558e91dc\"}, \"message\": \"Connection checkout started\", \"serverHost\": \"localhost\", \"serverPort\": 27017}\n",
      "DEBUG:pymongo.connection:{\"clientId\": {\"$oid\": \"66cc681334d23e96558e91dc\"}, \"message\": \"Connection created\", \"serverHost\": \"localhost\", \"serverPort\": 27017, \"driverConnectionId\": 1}\n",
      "DEBUG:pymongo.connection:{\"clientId\": {\"$oid\": \"66cc681334d23e96558e91dc\"}, \"message\": \"Connection ready\", \"serverHost\": \"localhost\", \"serverPort\": 27017, \"driverConnectionId\": 1, \"durationMS\": 0.0002855550264939666}\n",
      "DEBUG:pymongo.connection:{\"clientId\": {\"$oid\": \"66cc681334d23e96558e91dc\"}, \"message\": \"Connection checked out\", \"serverHost\": \"localhost\", \"serverPort\": 27017, \"driverConnectionId\": 1, \"durationMS\": 0.001840013894252479}\n",
      "DEBUG:pymongo.command:{\"clientId\": {\"$oid\": \"66cc681334d23e96558e91dc\"}, \"message\": \"Command started\", \"command\": \"{\\\"listIndexes\\\": \\\"molecules\\\", \\\"lsid\\\": {\\\"id\\\": {\\\"$binary\\\": {\\\"base64\\\": \\\"CW0z5uukRKip5o66oTMzGg==\\\", \\\"subType\\\": \\\"04\\\"}}}, \\\"$db\\\": \\\"stk_constructed\\\"}\", \"commandName\": \"listIndexes\", \"databaseName\": \"stk_constructed\", \"requestId\": 2044897763, \"operationId\": 2044897763, \"driverConnectionId\": 1, \"serverConnectionId\": 11004, \"serverHost\": \"localhost\", \"serverPort\": 27017}\n",
      "DEBUG:pymongo.command:{\"clientId\": {\"$oid\": \"66cc681334d23e96558e91dc\"}, \"message\": \"Command succeeded\", \"durationMS\": 0.589, \"reply\": \"{\\\"cursor\\\": {\\\"ns\\\": \\\"stk_constructed.molecules\\\", \\\"firstBatch\\\": [{\\\"v\\\": 2, \\\"key\\\": {\\\"_id\\\": 1}, \\\"name\\\": \\\"_id_\\\"}, {\\\"v\\\": 2, \\\"key\\\": {\\\"InChIKey\\\": 1}, \\\"name\\\": \\\"InChIKey_1\\\"}]}, \\\"ok\\\": 1.0}\", \"commandName\": \"listIndexes\", \"databaseName\": \"stk_constructed\", \"requestId\": 2044897763, \"operationId\": 2044897763, \"driverConnectionId\": 1, \"serverConnectionId\": 11004, \"serverHost\": \"localhost\", \"serverPort\": 27017}\n",
      "DEBUG:pymongo.connection:{\"clientId\": {\"$oid\": \"66cc681334d23e96558e91dc\"}, \"message\": \"Connection checked in\", \"serverHost\": \"localhost\", \"serverPort\": 27017, \"driverConnectionId\": 1}\n",
      "DEBUG:pymongo.serverSelection:{\"message\": \"Server selection started\", \"selector\": \"Primary()\", \"operation\": \"listIndexes\", \"topologyDescription\": \"<TopologyDescription id: 66cc681334d23e96558e91dc, topology_type: Single, servers: [<ServerDescription ('localhost', 27017) server_type: Standalone, rtt: 0.00033910898491740227>]>\", \"clientId\": {\"$oid\": \"66cc681334d23e96558e91dc\"}}\n",
      "DEBUG:pymongo.serverSelection:{\"message\": \"Server selection succeeded\", \"selector\": \"Primary()\", \"operation\": \"listIndexes\", \"topologyDescription\": \"<TopologyDescription id: 66cc681334d23e96558e91dc, topology_type: Single, servers: [<ServerDescription ('localhost', 27017) server_type: Standalone, rtt: 0.00033910898491740227>]>\", \"clientId\": {\"$oid\": \"66cc681334d23e96558e91dc\"}, \"serverHost\": \"localhost\", \"serverPort\": 27017}\n",
      "DEBUG:pymongo.connection:{\"clientId\": {\"$oid\": \"66cc681334d23e96558e91dc\"}, \"message\": \"Connection checkout started\", \"serverHost\": \"localhost\", \"serverPort\": 27017}\n",
      "DEBUG:pymongo.connection:{\"clientId\": {\"$oid\": \"66cc681334d23e96558e91dc\"}, \"message\": \"Connection checked out\", \"serverHost\": \"localhost\", \"serverPort\": 27017, \"driverConnectionId\": 1, \"durationMS\": 0.00026902800891548395}\n",
      "DEBUG:pymongo.command:{\"clientId\": {\"$oid\": \"66cc681334d23e96558e91dc\"}, \"message\": \"Command started\", \"command\": \"{\\\"listIndexes\\\": \\\"building_block_position_matrices\\\", \\\"lsid\\\": {\\\"id\\\": {\\\"$binary\\\": {\\\"base64\\\": \\\"CW0z5uukRKip5o66oTMzGg==\\\", \\\"subType\\\": \\\"04\\\"}}}, \\\"$db\\\": \\\"stk_constructed\\\"}\", \"commandName\": \"listIndexes\", \"databaseName\": \"stk_constructed\", \"requestId\": 1967513926, \"operationId\": 1967513926, \"driverConnectionId\": 1, \"serverConnectionId\": 11004, \"serverHost\": \"localhost\", \"serverPort\": 27017}\n",
      "DEBUG:pymongo.command:{\"clientId\": {\"$oid\": \"66cc681334d23e96558e91dc\"}, \"message\": \"Command succeeded\", \"durationMS\": 0.6769999999999999, \"reply\": \"{\\\"cursor\\\": {\\\"ns\\\": \\\"stk_constructed.building_block_position_matrices\\\", \\\"firstBatch\\\": [{\\\"v\\\": 2, \\\"key\\\": {\\\"_id\\\": 1}, \\\"name\\\": \\\"_id_\\\"}, {\\\"v\\\": 2, \\\"key\\\": {\\\"InChIKey\\\": 1}, \\\"name\\\": \\\"InChIKey_1\\\"}]}, \\\"ok\\\": 1.0}\", \"commandName\": \"listIndexes\", \"databaseName\": \"stk_constructed\", \"requestId\": 1967513926, \"operationId\": 1967513926, \"driverConnectionId\": 1, \"serverConnectionId\": 11004, \"serverHost\": \"localhost\", \"serverPort\": 27017}\n",
      "DEBUG:pymongo.connection:{\"clientId\": {\"$oid\": \"66cc681334d23e96558e91dc\"}, \"message\": \"Connection checked in\", \"serverHost\": \"localhost\", \"serverPort\": 27017, \"driverConnectionId\": 1}\n",
      "INFO:root:Connected to the database\n",
      "normal termination of xtb\n",
      "INFO:root:Connected to xtb\n",
      "/bin/sh: 1: stda: not found\n",
      "ERROR:root:Error connecting to stda\n",
      "Traceback (most recent call last):\n",
      "  File \"/media/mohammed/Work/Work/STK_search/src/stk_search/ObjectiveFunction.py\", line 310, in test_xtb_stda_connection\n",
      "    subprocess.run(command, check=True, shell=True)  # noqa: S602\n",
      "  File \"/media/mohammed/Work/anaconda3/envs/stk_search/lib/python3.8/subprocess.py\", line 516, in run\n",
      "    raise CalledProcessError(retcode, process.args,\n",
      "subprocess.CalledProcessError: Command 'stda --version' returned non-zero exit status 127.\n"
     ]
    },
    {
     "name": "stdout",
     "output_type": "stream",
     "text": [
      "      -----------------------------------------------------------      \n",
      "     |                   =====================                   |     \n",
      "     |                           x T B                           |     \n",
      "     |                   =====================                   |     \n",
      "     |                         S. Grimme                         |     \n",
      "     |          Mulliken Center for Theoretical Chemistry        |     \n",
      "     |                    University of Bonn                     |     \n",
      "      -----------------------------------------------------------      \n",
      "\n",
      "   * xtb version 6.6.1 (8d0f1dd) compiled by 'conda@1efc2f54142f' on 2023-08-01\n",
      "\n"
     ]
    }
   ],
   "source": [
    "obj.test_connections()"
   ]
  },
  {
   "cell_type": "code",
   "execution_count": 9,
   "metadata": {},
   "outputs": [
    {
     "name": "stderr",
     "output_type": "stream",
     "text": [
      "DEBUG:pymongo.connection:{\"clientId\": {\"$oid\": \"66cc692934d23e96558e91e0\"}, \"message\": \"Connection pool created\", \"serverHost\": \"localhost\", \"serverPort\": 27017}\n",
      "DEBUG:pymongo.serverSelection:{\"message\": \"Server selection started\", \"selector\": \"Primary()\", \"operation\": \"listIndexes\", \"topologyDescription\": \"<TopologyDescription id: 66cc692934d23e96558e91e0, topology_type: Unknown, servers: [<ServerDescription ('localhost', 27017) server_type: Unknown, rtt: None>]>\", \"clientId\": {\"$oid\": \"66cc692934d23e96558e91e0\"}}\n",
      "DEBUG:pymongo.serverSelection:{\"message\": \"Waiting for suitable server to become available\", \"selector\": \"Primary()\", \"operation\": \"listIndexes\", \"topologyDescription\": \"<TopologyDescription id: 66cc692934d23e96558e91e0, topology_type: Unknown, servers: [<ServerDescription ('localhost', 27017) server_type: Unknown, rtt: None>]>\", \"clientId\": {\"$oid\": \"66cc692934d23e96558e91e0\"}, \"remainingTimeMS\": 29}\n",
      "DEBUG:pymongo.connection:{\"clientId\": {\"$oid\": \"66cc692934d23e96558e91e0\"}, \"message\": \"Connection pool ready\", \"serverHost\": \"localhost\", \"serverPort\": 27017}\n",
      "DEBUG:pymongo.serverSelection:{\"message\": \"Server selection succeeded\", \"selector\": \"Primary()\", \"operation\": \"listIndexes\", \"topologyDescription\": \"<TopologyDescription id: 66cc692934d23e96558e91e0, topology_type: Single, servers: [<ServerDescription ('localhost', 27017) server_type: Standalone, rtt: 0.0003279969096183777>]>\", \"clientId\": {\"$oid\": \"66cc692934d23e96558e91e0\"}, \"serverHost\": \"localhost\", \"serverPort\": 27017}\n",
      "DEBUG:pymongo.connection:{\"clientId\": {\"$oid\": \"66cc692934d23e96558e91e0\"}, \"message\": \"Connection checkout started\", \"serverHost\": \"localhost\", \"serverPort\": 27017}\n",
      "DEBUG:pymongo.connection:{\"clientId\": {\"$oid\": \"66cc692934d23e96558e91e0\"}, \"message\": \"Connection created\", \"serverHost\": \"localhost\", \"serverPort\": 27017, \"driverConnectionId\": 1}\n",
      "DEBUG:pymongo.connection:{\"clientId\": {\"$oid\": \"66cc692934d23e96558e91e0\"}, \"message\": \"Connection ready\", \"serverHost\": \"localhost\", \"serverPort\": 27017, \"driverConnectionId\": 1, \"durationMS\": 0.00028822897002100945}\n",
      "DEBUG:pymongo.connection:{\"clientId\": {\"$oid\": \"66cc692934d23e96558e91e0\"}, \"message\": \"Connection checked out\", \"serverHost\": \"localhost\", \"serverPort\": 27017, \"driverConnectionId\": 1, \"durationMS\": 0.0010390449315309525}\n",
      "DEBUG:pymongo.command:{\"clientId\": {\"$oid\": \"66cc692934d23e96558e91e0\"}, \"message\": \"Command started\", \"command\": \"{\\\"listIndexes\\\": \\\"molecules\\\", \\\"lsid\\\": {\\\"id\\\": {\\\"$binary\\\": {\\\"base64\\\": \\\"q3VcGnLITaKCvOTrTdicuw==\\\", \\\"subType\\\": \\\"04\\\"}}}, \\\"$db\\\": \\\"stk_constructed\\\"}\", \"commandName\": \"listIndexes\", \"databaseName\": \"stk_constructed\", \"requestId\": 42999170, \"operationId\": 42999170, \"driverConnectionId\": 1, \"serverConnectionId\": 11016, \"serverHost\": \"localhost\", \"serverPort\": 27017}\n",
      "DEBUG:pymongo.command:{\"clientId\": {\"$oid\": \"66cc692934d23e96558e91e0\"}, \"message\": \"Command succeeded\", \"durationMS\": 0.414, \"reply\": \"{\\\"cursor\\\": {\\\"ns\\\": \\\"stk_constructed.molecules\\\", \\\"firstBatch\\\": [{\\\"v\\\": 2, \\\"key\\\": {\\\"_id\\\": 1}, \\\"name\\\": \\\"_id_\\\"}, {\\\"v\\\": 2, \\\"key\\\": {\\\"InChIKey\\\": 1}, \\\"name\\\": \\\"InChIKey_1\\\"}]}, \\\"ok\\\": 1.0}\", \"commandName\": \"listIndexes\", \"databaseName\": \"stk_constructed\", \"requestId\": 42999170, \"operationId\": 42999170, \"driverConnectionId\": 1, \"serverConnectionId\": 11016, \"serverHost\": \"localhost\", \"serverPort\": 27017}\n",
      "DEBUG:pymongo.connection:{\"clientId\": {\"$oid\": \"66cc692934d23e96558e91e0\"}, \"message\": \"Connection checked in\", \"serverHost\": \"localhost\", \"serverPort\": 27017, \"driverConnectionId\": 1}\n",
      "DEBUG:pymongo.serverSelection:{\"message\": \"Server selection started\", \"selector\": \"Primary()\", \"operation\": \"listIndexes\", \"topologyDescription\": \"<TopologyDescription id: 66cc692934d23e96558e91e0, topology_type: Single, servers: [<ServerDescription ('localhost', 27017) server_type: Standalone, rtt: 0.0003279969096183777>]>\", \"clientId\": {\"$oid\": \"66cc692934d23e96558e91e0\"}}\n",
      "DEBUG:pymongo.serverSelection:{\"message\": \"Server selection succeeded\", \"selector\": \"Primary()\", \"operation\": \"listIndexes\", \"topologyDescription\": \"<TopologyDescription id: 66cc692934d23e96558e91e0, topology_type: Single, servers: [<ServerDescription ('localhost', 27017) server_type: Standalone, rtt: 0.0003279969096183777>]>\", \"clientId\": {\"$oid\": \"66cc692934d23e96558e91e0\"}, \"serverHost\": \"localhost\", \"serverPort\": 27017}\n",
      "DEBUG:pymongo.connection:{\"clientId\": {\"$oid\": \"66cc692934d23e96558e91e0\"}, \"message\": \"Connection checkout started\", \"serverHost\": \"localhost\", \"serverPort\": 27017}\n",
      "DEBUG:pymongo.connection:{\"clientId\": {\"$oid\": \"66cc692934d23e96558e91e0\"}, \"message\": \"Connection checked out\", \"serverHost\": \"localhost\", \"serverPort\": 27017, \"driverConnectionId\": 1, \"durationMS\": 0.00016324699390679598}\n",
      "DEBUG:pymongo.command:{\"clientId\": {\"$oid\": \"66cc692934d23e96558e91e0\"}, \"message\": \"Command started\", \"command\": \"{\\\"listIndexes\\\": \\\"building_block_position_matrices\\\", \\\"lsid\\\": {\\\"id\\\": {\\\"$binary\\\": {\\\"base64\\\": \\\"q3VcGnLITaKCvOTrTdicuw==\\\", \\\"subType\\\": \\\"04\\\"}}}, \\\"$db\\\": \\\"stk_constructed\\\"}\", \"commandName\": \"listIndexes\", \"databaseName\": \"stk_constructed\", \"requestId\": 982906996, \"operationId\": 982906996, \"driverConnectionId\": 1, \"serverConnectionId\": 11016, \"serverHost\": \"localhost\", \"serverPort\": 27017}\n",
      "DEBUG:pymongo.command:{\"clientId\": {\"$oid\": \"66cc692934d23e96558e91e0\"}, \"message\": \"Command succeeded\", \"durationMS\": 0.42000000000000004, \"reply\": \"{\\\"cursor\\\": {\\\"ns\\\": \\\"stk_constructed.building_block_position_matrices\\\", \\\"firstBatch\\\": [{\\\"v\\\": 2, \\\"key\\\": {\\\"_id\\\": 1}, \\\"name\\\": \\\"_id_\\\"}, {\\\"v\\\": 2, \\\"key\\\": {\\\"InChIKey\\\": 1}, \\\"name\\\": \\\"InChIKey_1\\\"}]}, \\\"ok\\\": 1.0}\", \"commandName\": \"listIndexes\", \"databaseName\": \"stk_constructed\", \"requestId\": 982906996, \"operationId\": 982906996, \"driverConnectionId\": 1, \"serverConnectionId\": 11016, \"serverHost\": \"localhost\", \"serverPort\": 27017}\n",
      "DEBUG:pymongo.connection:{\"clientId\": {\"$oid\": \"66cc692934d23e96558e91e0\"}, \"message\": \"Connection checked in\", \"serverHost\": \"localhost\", \"serverPort\": 27017, \"driverConnectionId\": 1}\n",
      "INFO:root:Connected to the database\n",
      "normal termination of xtb\n",
      "INFO:root:Connected to xtb\n",
      "/bin/sh: 1: /media/mohammed/Work/bin/stda_1.6.1: not found\n",
      "ERROR:root:Error connecting to stda\n",
      "Traceback (most recent call last):\n",
      "  File \"/media/mohammed/Work/Work/STK_search/src/stk_search/ObjectiveFunction.py\", line 310, in test_xtb_stda_connection\n",
      "    subprocess.run(command, check=True, shell=True)  # noqa: S602\n",
      "  File \"/media/mohammed/Work/anaconda3/envs/stk_search/lib/python3.8/subprocess.py\", line 516, in run\n",
      "    raise CalledProcessError(retcode, process.args,\n",
      "subprocess.CalledProcessError: Command '/media/mohammed/Work/bin/stda_1.6.1 --version' returned non-zero exit status 127.\n"
     ]
    },
    {
     "name": "stdout",
     "output_type": "stream",
     "text": [
      "      -----------------------------------------------------------      \n",
      "     |                   =====================                   |     \n",
      "     |                           x T B                           |     \n",
      "     |                   =====================                   |     \n",
      "     |                         S. Grimme                         |     \n",
      "     |          Mulliken Center for Theoretical Chemistry        |     \n",
      "     |                    University of Bonn                     |     \n",
      "      -----------------------------------------------------------      \n",
      "\n",
      "   * xtb version 6.6.1 (8d0f1dd) compiled by 'conda@1efc2f54142f' on 2023-08-01\n",
      "\n"
     ]
    }
   ],
   "source": [
    "import subprocess\n",
    "obj.stda_bin_path = '/media/mohammed/Work/bin/stda_1.6.1' \n",
    "obj.test_connections()"
   ]
  },
  {
   "cell_type": "code",
   "execution_count": null,
   "metadata": {},
   "outputs": [],
   "source": []
  }
 ],
 "metadata": {
  "kernelspec": {
   "display_name": "stk_search",
   "language": "python",
   "name": "python3"
  },
  "language_info": {
   "codemirror_mode": {
    "name": "ipython",
    "version": 3
   },
   "file_extension": ".py",
   "mimetype": "text/x-python",
   "name": "python",
   "nbconvert_exporter": "python",
   "pygments_lexer": "ipython3",
   "version": "3.8.19"
  }
 },
 "nbformat": 4,
 "nbformat_minor": 2
}
