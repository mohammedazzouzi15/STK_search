{
 "cells": [
  {
   "cell_type": "code",
   "execution_count": 1,
   "metadata": {},
   "outputs": [
    {
     "name": "stderr",
     "output_type": "stream",
     "text": [
      "DEBUG:root:test\n"
     ]
    }
   ],
   "source": [
    "from stk_search import ObjectiveFunction\n",
    "import logging\n",
    "logger = logging.getLogger()\n",
    "logger.setLevel(logging.DEBUG)\n",
    "logging.debug(\"test\")\n"
   ]
  },
  {
   "cell_type": "code",
   "execution_count": 2,
   "metadata": {},
   "outputs": [],
   "source": [
    "obj = ObjectiveFunction.IpEs1Fosc(6,db_folder='database')"
   ]
  },
  {
   "cell_type": "code",
   "execution_count": 3,
   "metadata": {},
   "outputs": [
    {
     "name": "stderr",
     "output_type": "stream",
     "text": [
      "DEBUG:pymongo.connection:{\"clientId\": {\"$oid\": \"66cc70f7c87983617daf0314\"}, \"message\": \"Connection pool created\", \"serverHost\": \"localhost\", \"serverPort\": 27017}\n",
      "DEBUG:pymongo.serverSelection:{\"message\": \"Server selection started\", \"selector\": \"Primary()\", \"operation\": \"listIndexes\", \"topologyDescription\": \"<TopologyDescription id: 66cc70f7c87983617daf0314, topology_type: Unknown, servers: [<ServerDescription ('localhost', 27017) server_type: Unknown, rtt: None>]>\", \"clientId\": {\"$oid\": \"66cc70f7c87983617daf0314\"}}\n",
      "DEBUG:pymongo.serverSelection:{\"message\": \"Waiting for suitable server to become available\", \"selector\": \"Primary()\", \"operation\": \"listIndexes\", \"topologyDescription\": \"<TopologyDescription id: 66cc70f7c87983617daf0314, topology_type: Unknown, servers: [<ServerDescription ('localhost', 27017) server_type: Unknown, rtt: None>]>\", \"clientId\": {\"$oid\": \"66cc70f7c87983617daf0314\"}, \"remainingTimeMS\": 29}\n",
      "DEBUG:pymongo.connection:{\"clientId\": {\"$oid\": \"66cc70f7c87983617daf0314\"}, \"message\": \"Connection pool ready\", \"serverHost\": \"localhost\", \"serverPort\": 27017}\n",
      "DEBUG:pymongo.serverSelection:{\"message\": \"Server selection succeeded\", \"selector\": \"Primary()\", \"operation\": \"listIndexes\", \"topologyDescription\": \"<TopologyDescription id: 66cc70f7c87983617daf0314, topology_type: Single, servers: [<ServerDescription ('localhost', 27017) server_type: Standalone, rtt: 0.0004908470436930656>]>\", \"clientId\": {\"$oid\": \"66cc70f7c87983617daf0314\"}, \"serverHost\": \"localhost\", \"serverPort\": 27017}\n",
      "DEBUG:pymongo.connection:{\"clientId\": {\"$oid\": \"66cc70f7c87983617daf0314\"}, \"message\": \"Connection checkout started\", \"serverHost\": \"localhost\", \"serverPort\": 27017}\n",
      "DEBUG:pymongo.connection:{\"clientId\": {\"$oid\": \"66cc70f7c87983617daf0314\"}, \"message\": \"Connection created\", \"serverHost\": \"localhost\", \"serverPort\": 27017, \"driverConnectionId\": 1}\n",
      "DEBUG:pymongo.connection:{\"clientId\": {\"$oid\": \"66cc70f7c87983617daf0314\"}, \"message\": \"Connection ready\", \"serverHost\": \"localhost\", \"serverPort\": 27017, \"driverConnectionId\": 1, \"durationMS\": 0.00011663802433758974}\n",
      "DEBUG:pymongo.connection:{\"clientId\": {\"$oid\": \"66cc70f7c87983617daf0314\"}, \"message\": \"Connection checked out\", \"serverHost\": \"localhost\", \"serverPort\": 27017, \"driverConnectionId\": 1, \"durationMS\": 0.0014050679747015238}\n",
      "DEBUG:pymongo.command:{\"clientId\": {\"$oid\": \"66cc70f7c87983617daf0314\"}, \"message\": \"Command started\", \"command\": \"{\\\"listIndexes\\\": \\\"molecules\\\", \\\"lsid\\\": {\\\"id\\\": {\\\"$binary\\\": {\\\"base64\\\": \\\"ayGJlA7eTSylANZQo3zuLw==\\\", \\\"subType\\\": \\\"04\\\"}}}, \\\"$db\\\": \\\"stk_constructed\\\"}\", \"commandName\": \"listIndexes\", \"databaseName\": \"stk_constructed\", \"requestId\": 2044897763, \"operationId\": 2044897763, \"driverConnectionId\": 1, \"serverConnectionId\": 11046, \"serverHost\": \"localhost\", \"serverPort\": 27017}\n",
      "DEBUG:pymongo.command:{\"clientId\": {\"$oid\": \"66cc70f7c87983617daf0314\"}, \"message\": \"Command succeeded\", \"durationMS\": 0.553, \"reply\": \"{\\\"cursor\\\": {\\\"ns\\\": \\\"stk_constructed.molecules\\\", \\\"firstBatch\\\": [{\\\"v\\\": 2, \\\"key\\\": {\\\"_id\\\": 1}, \\\"name\\\": \\\"_id_\\\"}, {\\\"v\\\": 2, \\\"key\\\": {\\\"InChIKey\\\": 1}, \\\"name\\\": \\\"InChIKey_1\\\"}]}, \\\"ok\\\": 1.0}\", \"commandName\": \"listIndexes\", \"databaseName\": \"stk_constructed\", \"requestId\": 2044897763, \"operationId\": 2044897763, \"driverConnectionId\": 1, \"serverConnectionId\": 11046, \"serverHost\": \"localhost\", \"serverPort\": 27017}\n",
      "DEBUG:pymongo.connection:{\"clientId\": {\"$oid\": \"66cc70f7c87983617daf0314\"}, \"message\": \"Connection checked in\", \"serverHost\": \"localhost\", \"serverPort\": 27017, \"driverConnectionId\": 1}\n",
      "DEBUG:pymongo.serverSelection:{\"message\": \"Server selection started\", \"selector\": \"Primary()\", \"operation\": \"listIndexes\", \"topologyDescription\": \"<TopologyDescription id: 66cc70f7c87983617daf0314, topology_type: Single, servers: [<ServerDescription ('localhost', 27017) server_type: Standalone, rtt: 0.0004908470436930656>]>\", \"clientId\": {\"$oid\": \"66cc70f7c87983617daf0314\"}}\n",
      "DEBUG:pymongo.serverSelection:{\"message\": \"Server selection succeeded\", \"selector\": \"Primary()\", \"operation\": \"listIndexes\", \"topologyDescription\": \"<TopologyDescription id: 66cc70f7c87983617daf0314, topology_type: Single, servers: [<ServerDescription ('localhost', 27017) server_type: Standalone, rtt: 0.0004908470436930656>]>\", \"clientId\": {\"$oid\": \"66cc70f7c87983617daf0314\"}, \"serverHost\": \"localhost\", \"serverPort\": 27017}\n",
      "DEBUG:pymongo.connection:{\"clientId\": {\"$oid\": \"66cc70f7c87983617daf0314\"}, \"message\": \"Connection checkout started\", \"serverHost\": \"localhost\", \"serverPort\": 27017}\n",
      "DEBUG:pymongo.connection:{\"clientId\": {\"$oid\": \"66cc70f7c87983617daf0314\"}, \"message\": \"Connection checked out\", \"serverHost\": \"localhost\", \"serverPort\": 27017, \"driverConnectionId\": 1, \"durationMS\": 0.00013881397899240255}\n",
      "DEBUG:pymongo.command:{\"clientId\": {\"$oid\": \"66cc70f7c87983617daf0314\"}, \"message\": \"Command started\", \"command\": \"{\\\"listIndexes\\\": \\\"building_block_position_matrices\\\", \\\"lsid\\\": {\\\"id\\\": {\\\"$binary\\\": {\\\"base64\\\": \\\"ayGJlA7eTSylANZQo3zuLw==\\\", \\\"subType\\\": \\\"04\\\"}}}, \\\"$db\\\": \\\"stk_constructed\\\"}\", \"commandName\": \"listIndexes\", \"databaseName\": \"stk_constructed\", \"requestId\": 1967513926, \"operationId\": 1967513926, \"driverConnectionId\": 1, \"serverConnectionId\": 11046, \"serverHost\": \"localhost\", \"serverPort\": 27017}\n",
      "DEBUG:pymongo.command:{\"clientId\": {\"$oid\": \"66cc70f7c87983617daf0314\"}, \"message\": \"Command succeeded\", \"durationMS\": 0.32899999999999996, \"reply\": \"{\\\"cursor\\\": {\\\"ns\\\": \\\"stk_constructed.building_block_position_matrices\\\", \\\"firstBatch\\\": [{\\\"v\\\": 2, \\\"key\\\": {\\\"_id\\\": 1}, \\\"name\\\": \\\"_id_\\\"}, {\\\"v\\\": 2, \\\"key\\\": {\\\"InChIKey\\\": 1}, \\\"name\\\": \\\"InChIKey_1\\\"}]}, \\\"ok\\\": 1.0}\", \"commandName\": \"listIndexes\", \"databaseName\": \"stk_constructed\", \"requestId\": 1967513926, \"operationId\": 1967513926, \"driverConnectionId\": 1, \"serverConnectionId\": 11046, \"serverHost\": \"localhost\", \"serverPort\": 27017}\n",
      "DEBUG:pymongo.connection:{\"clientId\": {\"$oid\": \"66cc70f7c87983617daf0314\"}, \"message\": \"Connection checked in\", \"serverHost\": \"localhost\", \"serverPort\": 27017, \"driverConnectionId\": 1}\n",
      "INFO:root:Connected to the database\n",
      "normal termination of xtb\n",
      "INFO:root:Connected to xtb\n",
      "/bin/sh: 1: stda: not found\n",
      "ERROR:root:Error connecting to stda %s\n",
      "Traceback (most recent call last):\n",
      "  File \"/media/mohammed/Work/Work/STK_search/src/stk_search/ObjectiveFunction.py\", line 309, in test_xtb_stda_connection\n",
      "    subprocess.run(command, check=True, shell=True)  # noqa: S602\n",
      "  File \"/media/mohammed/Work/anaconda3/envs/stk_search/lib/python3.8/subprocess.py\", line 516, in run\n",
      "    raise CalledProcessError(retcode, process.args,\n",
      "subprocess.CalledProcessError: Command 'stda --version' returned non-zero exit status 127.\n"
     ]
    },
    {
     "name": "stdout",
     "output_type": "stream",
     "text": [
      "      -----------------------------------------------------------      \n",
      "     |                   =====================                   |     \n",
      "     |                           x T B                           |     \n",
      "     |                   =====================                   |     \n",
      "     |                         S. Grimme                         |     \n",
      "     |          Mulliken Center for Theoretical Chemistry        |     \n",
      "     |                    University of Bonn                     |     \n",
      "      -----------------------------------------------------------      \n",
      "\n",
      "   * xtb version 6.6.1 (8d0f1dd) compiled by 'conda@1efc2f54142f' on 2023-08-01\n",
      "\n"
     ]
    }
   ],
   "source": [
    "obj.test_connections()"
   ]
  },
  {
   "cell_type": "code",
   "execution_count": 4,
   "metadata": {},
   "outputs": [
    {
     "name": "stderr",
     "output_type": "stream",
     "text": [
      "DEBUG:pymongo.connection:{\"clientId\": {\"$oid\": \"66cc70f7c87983617daf0315\"}, \"message\": \"Connection pool created\", \"serverHost\": \"localhost\", \"serverPort\": 27017}\n",
      "DEBUG:pymongo.serverSelection:{\"message\": \"Server selection started\", \"selector\": \"Primary()\", \"operation\": \"listIndexes\", \"topologyDescription\": \"<TopologyDescription id: 66cc70f7c87983617daf0315, topology_type: Unknown, servers: [<ServerDescription ('localhost', 27017) server_type: Unknown, rtt: None>]>\", \"clientId\": {\"$oid\": \"66cc70f7c87983617daf0315\"}}\n",
      "DEBUG:pymongo.serverSelection:{\"message\": \"Waiting for suitable server to become available\", \"selector\": \"Primary()\", \"operation\": \"listIndexes\", \"topologyDescription\": \"<TopologyDescription id: 66cc70f7c87983617daf0315, topology_type: Unknown, servers: [<ServerDescription ('localhost', 27017) server_type: Unknown, rtt: None>]>\", \"clientId\": {\"$oid\": \"66cc70f7c87983617daf0315\"}, \"remainingTimeMS\": 29}\n",
      "DEBUG:pymongo.connection:{\"clientId\": {\"$oid\": \"66cc70f7c87983617daf0315\"}, \"message\": \"Connection pool ready\", \"serverHost\": \"localhost\", \"serverPort\": 27017}\n",
      "DEBUG:pymongo.serverSelection:{\"message\": \"Server selection succeeded\", \"selector\": \"Primary()\", \"operation\": \"listIndexes\", \"topologyDescription\": \"<TopologyDescription id: 66cc70f7c87983617daf0315, topology_type: Single, servers: [<ServerDescription ('localhost', 27017) server_type: Standalone, rtt: 0.0003483510809019208>]>\", \"clientId\": {\"$oid\": \"66cc70f7c87983617daf0315\"}, \"serverHost\": \"localhost\", \"serverPort\": 27017}\n",
      "DEBUG:pymongo.connection:{\"clientId\": {\"$oid\": \"66cc70f7c87983617daf0315\"}, \"message\": \"Connection checkout started\", \"serverHost\": \"localhost\", \"serverPort\": 27017}\n",
      "DEBUG:pymongo.connection:{\"clientId\": {\"$oid\": \"66cc70f7c87983617daf0315\"}, \"message\": \"Connection created\", \"serverHost\": \"localhost\", \"serverPort\": 27017, \"driverConnectionId\": 1}\n",
      "DEBUG:pymongo.connection:{\"clientId\": {\"$oid\": \"66cc70f7c87983617daf0315\"}, \"message\": \"Connection ready\", \"serverHost\": \"localhost\", \"serverPort\": 27017, \"driverConnectionId\": 1, \"durationMS\": 0.00021676300093531609}\n",
      "DEBUG:pymongo.connection:{\"clientId\": {\"$oid\": \"66cc70f7c87983617daf0315\"}, \"message\": \"Connection checked out\", \"serverHost\": \"localhost\", \"serverPort\": 27017, \"driverConnectionId\": 1, \"durationMS\": 0.0019049240509048104}\n",
      "DEBUG:pymongo.command:{\"clientId\": {\"$oid\": \"66cc70f7c87983617daf0315\"}, \"message\": \"Command started\", \"command\": \"{\\\"listIndexes\\\": \\\"molecules\\\", \\\"lsid\\\": {\\\"id\\\": {\\\"$binary\\\": {\\\"base64\\\": \\\"NmtQblUBRDKOXvihsxlDGQ==\\\", \\\"subType\\\": \\\"04\\\"}}}, \\\"$db\\\": \\\"stk_constructed\\\"}\", \"commandName\": \"listIndexes\", \"databaseName\": \"stk_constructed\", \"requestId\": 35005211, \"operationId\": 35005211, \"driverConnectionId\": 1, \"serverConnectionId\": 11049, \"serverHost\": \"localhost\", \"serverPort\": 27017}\n",
      "DEBUG:pymongo.command:{\"clientId\": {\"$oid\": \"66cc70f7c87983617daf0315\"}, \"message\": \"Command succeeded\", \"durationMS\": 0.8180000000000001, \"reply\": \"{\\\"cursor\\\": {\\\"ns\\\": \\\"stk_constructed.molecules\\\", \\\"firstBatch\\\": [{\\\"v\\\": 2, \\\"key\\\": {\\\"_id\\\": 1}, \\\"name\\\": \\\"_id_\\\"}, {\\\"v\\\": 2, \\\"key\\\": {\\\"InChIKey\\\": 1}, \\\"name\\\": \\\"InChIKey_1\\\"}]}, \\\"ok\\\": 1.0}\", \"commandName\": \"listIndexes\", \"databaseName\": \"stk_constructed\", \"requestId\": 35005211, \"operationId\": 35005211, \"driverConnectionId\": 1, \"serverConnectionId\": 11049, \"serverHost\": \"localhost\", \"serverPort\": 27017}\n",
      "DEBUG:pymongo.connection:{\"clientId\": {\"$oid\": \"66cc70f7c87983617daf0315\"}, \"message\": \"Connection checked in\", \"serverHost\": \"localhost\", \"serverPort\": 27017, \"driverConnectionId\": 1}\n",
      "DEBUG:pymongo.serverSelection:{\"message\": \"Server selection started\", \"selector\": \"Primary()\", \"operation\": \"listIndexes\", \"topologyDescription\": \"<TopologyDescription id: 66cc70f7c87983617daf0315, topology_type: Single, servers: [<ServerDescription ('localhost', 27017) server_type: Standalone, rtt: 0.0003483510809019208>]>\", \"clientId\": {\"$oid\": \"66cc70f7c87983617daf0315\"}}\n",
      "DEBUG:pymongo.serverSelection:{\"message\": \"Server selection succeeded\", \"selector\": \"Primary()\", \"operation\": \"listIndexes\", \"topologyDescription\": \"<TopologyDescription id: 66cc70f7c87983617daf0315, topology_type: Single, servers: [<ServerDescription ('localhost', 27017) server_type: Standalone, rtt: 0.0003483510809019208>]>\", \"clientId\": {\"$oid\": \"66cc70f7c87983617daf0315\"}, \"serverHost\": \"localhost\", \"serverPort\": 27017}\n",
      "DEBUG:pymongo.connection:{\"clientId\": {\"$oid\": \"66cc70f7c87983617daf0315\"}, \"message\": \"Connection checkout started\", \"serverHost\": \"localhost\", \"serverPort\": 27017}\n",
      "DEBUG:pymongo.connection:{\"clientId\": {\"$oid\": \"66cc70f7c87983617daf0315\"}, \"message\": \"Connection checked out\", \"serverHost\": \"localhost\", \"serverPort\": 27017, \"driverConnectionId\": 1, \"durationMS\": 0.000402648001909256}\n",
      "DEBUG:pymongo.command:{\"clientId\": {\"$oid\": \"66cc70f7c87983617daf0315\"}, \"message\": \"Command started\", \"command\": \"{\\\"listIndexes\\\": \\\"building_block_position_matrices\\\", \\\"lsid\\\": {\\\"id\\\": {\\\"$binary\\\": {\\\"base64\\\": \\\"NmtQblUBRDKOXvihsxlDGQ==\\\", \\\"subType\\\": \\\"04\\\"}}}, \\\"$db\\\": \\\"stk_constructed\\\"}\", \"commandName\": \"listIndexes\", \"databaseName\": \"stk_constructed\", \"requestId\": 521595368, \"operationId\": 521595368, \"driverConnectionId\": 1, \"serverConnectionId\": 11049, \"serverHost\": \"localhost\", \"serverPort\": 27017}\n",
      "DEBUG:pymongo.command:{\"clientId\": {\"$oid\": \"66cc70f7c87983617daf0315\"}, \"message\": \"Command succeeded\", \"durationMS\": 0.902, \"reply\": \"{\\\"cursor\\\": {\\\"ns\\\": \\\"stk_constructed.building_block_position_matrices\\\", \\\"firstBatch\\\": [{\\\"v\\\": 2, \\\"key\\\": {\\\"_id\\\": 1}, \\\"name\\\": \\\"_id_\\\"}, {\\\"v\\\": 2, \\\"key\\\": {\\\"InChIKey\\\": 1}, \\\"name\\\": \\\"InChIKey_1\\\"}]}, \\\"ok\\\": 1.0}\", \"commandName\": \"listIndexes\", \"databaseName\": \"stk_constructed\", \"requestId\": 521595368, \"operationId\": 521595368, \"driverConnectionId\": 1, \"serverConnectionId\": 11049, \"serverHost\": \"localhost\", \"serverPort\": 27017}\n",
      "DEBUG:pymongo.connection:{\"clientId\": {\"$oid\": \"66cc70f7c87983617daf0315\"}, \"message\": \"Connection checked in\", \"serverHost\": \"localhost\", \"serverPort\": 27017, \"driverConnectionId\": 1}\n",
      "INFO:root:Connected to the database\n",
      "normal termination of xtb\n",
      "INFO:root:Connected to xtb\n",
      "no input file specified!\n",
      "INFO:root:Connected to stda\n"
     ]
    },
    {
     "name": "stdout",
     "output_type": "stream",
     "text": [
      "      -----------------------------------------------------------      \n",
      "     |                   =====================                   |     \n",
      "     |                           x T B                           |     \n",
      "     |                   =====================                   |     \n",
      "     |                         S. Grimme                         |     \n",
      "     |          Mulliken Center for Theoretical Chemistry        |     \n",
      "     |                    University of Bonn                     |     \n",
      "      -----------------------------------------------------------      \n",
      "\n",
      "   * xtb version 6.6.1 (8d0f1dd) compiled by 'conda@1efc2f54142f' on 2023-08-01\n",
      "\n",
      "Mon Aug 26 02:11:35 PM CEST 2024\n",
      "\n",
      "\n",
      "                 *********************************************\n",
      "                 *                                           *\n",
      "                 *               s  T  D  A                  *\n",
      "                 *                                           *\n",
      "                 *                S. Grimme                  *\n",
      "                 * Mulliken Center for Theoretical Chemistry *\n",
      "                 *             Universitaet Bonn             *\n",
      "                 *              Version 1.6.1                *\n",
      "                 *       Tue Nov 26 10:18:30 CET 2019        *\n",
      "                 *********************************************\n",
      " \n",
      " Please cite as:\n",
      " S. Grimme, J. Chem. Phys. 138 (2013) 244104\n",
      " \n",
      " With contributions from:\n",
      " C. Bannwarth, P. Shushkov, M. de Wergifosse\n",
      " \n",
      "======================================================================\n",
      " \n"
     ]
    }
   ],
   "source": [
    "obj.stda_bin_path = '/media/mohammed/Work/bin/stda_v1.6.1' \n",
    "obj.test_connections()"
   ]
  },
  {
   "cell_type": "code",
   "execution_count": 5,
   "metadata": {},
   "outputs": [
    {
     "name": "stderr",
     "output_type": "stream",
     "text": [
      "DEBUG:pymongo.connection:{\"clientId\": {\"$oid\": \"66cc70f7c87983617daf0316\"}, \"message\": \"Connection pool created\", \"serverHost\": \"localhost\", \"serverPort\": 27017}\n",
      "DEBUG:pymongo.serverSelection:{\"message\": \"Server selection started\", \"selector\": \"Primary()\", \"operation\": \"listIndexes\", \"topologyDescription\": \"<TopologyDescription id: 66cc70f7c87983617daf0316, topology_type: Unknown, servers: [<ServerDescription ('localhost', 27017) server_type: Unknown, rtt: None>]>\", \"clientId\": {\"$oid\": \"66cc70f7c87983617daf0316\"}}\n",
      "DEBUG:pymongo.serverSelection:{\"message\": \"Waiting for suitable server to become available\", \"selector\": \"Primary()\", \"operation\": \"listIndexes\", \"topologyDescription\": \"<TopologyDescription id: 66cc70f7c87983617daf0316, topology_type: Unknown, servers: [<ServerDescription ('localhost', 27017) server_type: Unknown, rtt: None>]>\", \"clientId\": {\"$oid\": \"66cc70f7c87983617daf0316\"}, \"remainingTimeMS\": 29}\n",
      "DEBUG:pymongo.connection:{\"clientId\": {\"$oid\": \"66cc70f7c87983617daf0316\"}, \"message\": \"Connection pool ready\", \"serverHost\": \"localhost\", \"serverPort\": 27017}\n",
      "DEBUG:pymongo.serverSelection:{\"message\": \"Server selection succeeded\", \"selector\": \"Primary()\", \"operation\": \"listIndexes\", \"topologyDescription\": \"<TopologyDescription id: 66cc70f7c87983617daf0316, topology_type: Single, servers: [<ServerDescription ('localhost', 27017) server_type: Standalone, rtt: 0.0003701150417327881>]>\", \"clientId\": {\"$oid\": \"66cc70f7c87983617daf0316\"}, \"serverHost\": \"localhost\", \"serverPort\": 27017}\n",
      "DEBUG:pymongo.connection:{\"clientId\": {\"$oid\": \"66cc70f7c87983617daf0316\"}, \"message\": \"Connection checkout started\", \"serverHost\": \"localhost\", \"serverPort\": 27017}\n",
      "DEBUG:pymongo.connection:{\"clientId\": {\"$oid\": \"66cc70f7c87983617daf0316\"}, \"message\": \"Connection created\", \"serverHost\": \"localhost\", \"serverPort\": 27017, \"driverConnectionId\": 1}\n",
      "DEBUG:pymongo.connection:{\"clientId\": {\"$oid\": \"66cc70f7c87983617daf0316\"}, \"message\": \"Connection ready\", \"serverHost\": \"localhost\", \"serverPort\": 27017, \"driverConnectionId\": 1, \"durationMS\": 0.0004344440530985594}\n",
      "DEBUG:pymongo.connection:{\"clientId\": {\"$oid\": \"66cc70f7c87983617daf0316\"}, \"message\": \"Connection checked out\", \"serverHost\": \"localhost\", \"serverPort\": 27017, \"driverConnectionId\": 1, \"durationMS\": 0.0023250679951161146}\n",
      "DEBUG:pymongo.command:{\"clientId\": {\"$oid\": \"66cc70f7c87983617daf0316\"}, \"message\": \"Command started\", \"command\": \"{\\\"listIndexes\\\": \\\"molecules\\\", \\\"lsid\\\": {\\\"id\\\": {\\\"$binary\\\": {\\\"base64\\\": \\\"dUtBWUkdRZay1sJDLXbZzw==\\\", \\\"subType\\\": \\\"04\\\"}}}, \\\"$db\\\": \\\"stk_constructed\\\"}\", \"commandName\": \"listIndexes\", \"databaseName\": \"stk_constructed\", \"requestId\": 278722862, \"operationId\": 278722862, \"driverConnectionId\": 1, \"serverConnectionId\": 11052, \"serverHost\": \"localhost\", \"serverPort\": 27017}\n",
      "DEBUG:pymongo.command:{\"clientId\": {\"$oid\": \"66cc70f7c87983617daf0316\"}, \"message\": \"Command succeeded\", \"durationMS\": 0.728, \"reply\": \"{\\\"cursor\\\": {\\\"ns\\\": \\\"stk_constructed.molecules\\\", \\\"firstBatch\\\": [{\\\"v\\\": 2, \\\"key\\\": {\\\"_id\\\": 1}, \\\"name\\\": \\\"_id_\\\"}, {\\\"v\\\": 2, \\\"key\\\": {\\\"InChIKey\\\": 1}, \\\"name\\\": \\\"InChIKey_1\\\"}]}, \\\"ok\\\": 1.0}\", \"commandName\": \"listIndexes\", \"databaseName\": \"stk_constructed\", \"requestId\": 278722862, \"operationId\": 278722862, \"driverConnectionId\": 1, \"serverConnectionId\": 11052, \"serverHost\": \"localhost\", \"serverPort\": 27017}\n",
      "DEBUG:pymongo.connection:{\"clientId\": {\"$oid\": \"66cc70f7c87983617daf0316\"}, \"message\": \"Connection checked in\", \"serverHost\": \"localhost\", \"serverPort\": 27017, \"driverConnectionId\": 1}\n",
      "DEBUG:pymongo.serverSelection:{\"message\": \"Server selection started\", \"selector\": \"Primary()\", \"operation\": \"listIndexes\", \"topologyDescription\": \"<TopologyDescription id: 66cc70f7c87983617daf0316, topology_type: Single, servers: [<ServerDescription ('localhost', 27017) server_type: Standalone, rtt: 0.0003701150417327881>]>\", \"clientId\": {\"$oid\": \"66cc70f7c87983617daf0316\"}}\n",
      "DEBUG:pymongo.serverSelection:{\"message\": \"Server selection succeeded\", \"selector\": \"Primary()\", \"operation\": \"listIndexes\", \"topologyDescription\": \"<TopologyDescription id: 66cc70f7c87983617daf0316, topology_type: Single, servers: [<ServerDescription ('localhost', 27017) server_type: Standalone, rtt: 0.0003701150417327881>]>\", \"clientId\": {\"$oid\": \"66cc70f7c87983617daf0316\"}, \"serverHost\": \"localhost\", \"serverPort\": 27017}\n",
      "DEBUG:pymongo.connection:{\"clientId\": {\"$oid\": \"66cc70f7c87983617daf0316\"}, \"message\": \"Connection checkout started\", \"serverHost\": \"localhost\", \"serverPort\": 27017}\n",
      "DEBUG:pymongo.connection:{\"clientId\": {\"$oid\": \"66cc70f7c87983617daf0316\"}, \"message\": \"Connection checked out\", \"serverHost\": \"localhost\", \"serverPort\": 27017, \"driverConnectionId\": 1, \"durationMS\": 0.0003029720392078161}\n",
      "DEBUG:pymongo.command:{\"clientId\": {\"$oid\": \"66cc70f7c87983617daf0316\"}, \"message\": \"Command started\", \"command\": \"{\\\"listIndexes\\\": \\\"building_block_position_matrices\\\", \\\"lsid\\\": {\\\"id\\\": {\\\"$binary\\\": {\\\"base64\\\": \\\"dUtBWUkdRZay1sJDLXbZzw==\\\", \\\"subType\\\": \\\"04\\\"}}}, \\\"$db\\\": \\\"stk_constructed\\\"}\", \"commandName\": \"listIndexes\", \"databaseName\": \"stk_constructed\", \"requestId\": 233665123, \"operationId\": 233665123, \"driverConnectionId\": 1, \"serverConnectionId\": 11052, \"serverHost\": \"localhost\", \"serverPort\": 27017}\n",
      "DEBUG:pymongo.command:{\"clientId\": {\"$oid\": \"66cc70f7c87983617daf0316\"}, \"message\": \"Command succeeded\", \"durationMS\": 0.666, \"reply\": \"{\\\"cursor\\\": {\\\"ns\\\": \\\"stk_constructed.building_block_position_matrices\\\", \\\"firstBatch\\\": [{\\\"v\\\": 2, \\\"key\\\": {\\\"_id\\\": 1}, \\\"name\\\": \\\"_id_\\\"}, {\\\"v\\\": 2, \\\"key\\\": {\\\"InChIKey\\\": 1}, \\\"name\\\": \\\"InChIKey_1\\\"}]}, \\\"ok\\\": 1.0}\", \"commandName\": \"listIndexes\", \"databaseName\": \"stk_constructed\", \"requestId\": 233665123, \"operationId\": 233665123, \"driverConnectionId\": 1, \"serverConnectionId\": 11052, \"serverHost\": \"localhost\", \"serverPort\": 27017}\n",
      "DEBUG:pymongo.connection:{\"clientId\": {\"$oid\": \"66cc70f7c87983617daf0316\"}, \"message\": \"Connection checked in\", \"serverHost\": \"localhost\", \"serverPort\": 27017, \"driverConnectionId\": 1}\n",
      "INFO:root:Connected to the database\n",
      "normal termination of xtb\n",
      "INFO:root:Connected to xtb\n",
      "no input file specified!\n",
      "INFO:root:Connected to stda\n"
     ]
    },
    {
     "name": "stdout",
     "output_type": "stream",
     "text": [
      "      -----------------------------------------------------------      \n",
      "     |                   =====================                   |     \n",
      "     |                           x T B                           |     \n",
      "     |                   =====================                   |     \n",
      "     |                         S. Grimme                         |     \n",
      "     |          Mulliken Center for Theoretical Chemistry        |     \n",
      "     |                    University of Bonn                     |     \n",
      "      -----------------------------------------------------------      \n",
      "\n",
      "   * xtb version 6.6.1 (8d0f1dd) compiled by 'conda@1efc2f54142f' on 2023-08-01\n",
      "\n",
      "Mon Aug 26 02:11:36 PM CEST 2024\n",
      "\n",
      "\n",
      "                 *********************************************\n",
      "                 *                                           *\n",
      "                 *               s  T  D  A                  *\n",
      "                 *                                           *\n",
      "                 *                S. Grimme                  *\n",
      "                 * Mulliken Center for Theoretical Chemistry *\n",
      "                 *             Universitaet Bonn             *\n",
      "                 *              Version 1.6.1                *\n",
      "                 *       Tue Nov 26 10:18:30 CET 2019        *\n",
      "                 *********************************************\n",
      " \n",
      " Please cite as:\n",
      " S. Grimme, J. Chem. Phys. 138 (2013) 244104\n",
      " \n",
      " With contributions from:\n",
      " C. Bannwarth, P. Shushkov, M. de Wergifosse\n",
      " \n",
      "======================================================================\n",
      " \n"
     ]
    }
   ],
   "source": [
    "obj.client =''\n",
    "obj.test_connections()"
   ]
  },
  {
   "cell_type": "code",
   "execution_count": 7,
   "metadata": {},
   "outputs": [
    {
     "name": "stderr",
     "output_type": "stream",
     "text": [
      "DEBUG:pymongo.connection:{\"clientId\": {\"$oid\": \"66cc7102c87983617daf0318\"}, \"message\": \"Connection pool created\", \"serverHost\": \"localhost\", \"serverPort\": 27017}\n",
      "DEBUG:pymongo.serverSelection:{\"message\": \"Server selection started\", \"selector\": \"Primary()\", \"operation\": \"listIndexes\", \"topologyDescription\": \"<TopologyDescription id: 66cc7102c87983617daf0318, topology_type: Unknown, servers: [<ServerDescription ('localhost', 27017) server_type: Unknown, rtt: None>]>\", \"clientId\": {\"$oid\": \"66cc7102c87983617daf0318\"}}\n",
      "DEBUG:pymongo.serverSelection:{\"message\": \"Waiting for suitable server to become available\", \"selector\": \"Primary()\", \"operation\": \"listIndexes\", \"topologyDescription\": \"<TopologyDescription id: 66cc7102c87983617daf0318, topology_type: Unknown, servers: [<ServerDescription ('localhost', 27017) server_type: Unknown, rtt: None>]>\", \"clientId\": {\"$oid\": \"66cc7102c87983617daf0318\"}, \"remainingTimeMS\": 29}\n",
      "DEBUG:pymongo.connection:{\"clientId\": {\"$oid\": \"66cc7102c87983617daf0318\"}, \"message\": \"Connection pool ready\", \"serverHost\": \"localhost\", \"serverPort\": 27017}\n",
      "DEBUG:pymongo.serverSelection:{\"message\": \"Server selection succeeded\", \"selector\": \"Primary()\", \"operation\": \"listIndexes\", \"topologyDescription\": \"<TopologyDescription id: 66cc7102c87983617daf0318, topology_type: Single, servers: [<ServerDescription ('localhost', 27017) server_type: Standalone, rtt: 0.0003016700502485037>]>\", \"clientId\": {\"$oid\": \"66cc7102c87983617daf0318\"}, \"serverHost\": \"localhost\", \"serverPort\": 27017}\n",
      "DEBUG:pymongo.connection:{\"clientId\": {\"$oid\": \"66cc7102c87983617daf0318\"}, \"message\": \"Connection checkout started\", \"serverHost\": \"localhost\", \"serverPort\": 27017}\n",
      "DEBUG:pymongo.connection:{\"clientId\": {\"$oid\": \"66cc7102c87983617daf0318\"}, \"message\": \"Connection created\", \"serverHost\": \"localhost\", \"serverPort\": 27017, \"driverConnectionId\": 1}\n",
      "DEBUG:pymongo.connection:{\"clientId\": {\"$oid\": \"66cc7102c87983617daf0318\"}, \"message\": \"Connection ready\", \"serverHost\": \"localhost\", \"serverPort\": 27017, \"driverConnectionId\": 1, \"durationMS\": 0.00034478201996535063}\n",
      "DEBUG:pymongo.connection:{\"clientId\": {\"$oid\": \"66cc7102c87983617daf0318\"}, \"message\": \"Connection checked out\", \"serverHost\": \"localhost\", \"serverPort\": 27017, \"driverConnectionId\": 1, \"durationMS\": 0.0015030240174382925}\n",
      "DEBUG:pymongo.command:{\"clientId\": {\"$oid\": \"66cc7102c87983617daf0318\"}, \"message\": \"Command started\", \"command\": \"{\\\"listIndexes\\\": \\\"molecules\\\", \\\"lsid\\\": {\\\"id\\\": {\\\"$binary\\\": {\\\"base64\\\": \\\"zPiHCJMPRya8qOdLsK1tWw==\\\", \\\"subType\\\": \\\"04\\\"}}}, \\\"$db\\\": \\\"stk_constructed\\\"}\", \"commandName\": \"listIndexes\", \"databaseName\": \"stk_constructed\", \"requestId\": 1653377373, \"operationId\": 1653377373, \"driverConnectionId\": 1, \"serverConnectionId\": 11058, \"serverHost\": \"localhost\", \"serverPort\": 27017}\n",
      "DEBUG:pymongo.command:{\"clientId\": {\"$oid\": \"66cc7102c87983617daf0318\"}, \"message\": \"Command succeeded\", \"durationMS\": 0.652, \"reply\": \"{\\\"cursor\\\": {\\\"ns\\\": \\\"stk_constructed.molecules\\\", \\\"firstBatch\\\": [{\\\"v\\\": 2, \\\"key\\\": {\\\"_id\\\": 1}, \\\"name\\\": \\\"_id_\\\"}, {\\\"v\\\": 2, \\\"key\\\": {\\\"InChIKey\\\": 1}, \\\"name\\\": \\\"InChIKey_1\\\"}]}, \\\"ok\\\": 1.0}\", \"commandName\": \"listIndexes\", \"databaseName\": \"stk_constructed\", \"requestId\": 1653377373, \"operationId\": 1653377373, \"driverConnectionId\": 1, \"serverConnectionId\": 11058, \"serverHost\": \"localhost\", \"serverPort\": 27017}\n",
      "DEBUG:pymongo.connection:{\"clientId\": {\"$oid\": \"66cc7102c87983617daf0318\"}, \"message\": \"Connection checked in\", \"serverHost\": \"localhost\", \"serverPort\": 27017, \"driverConnectionId\": 1}\n",
      "DEBUG:pymongo.serverSelection:{\"message\": \"Server selection started\", \"selector\": \"Primary()\", \"operation\": \"listIndexes\", \"topologyDescription\": \"<TopologyDescription id: 66cc7102c87983617daf0318, topology_type: Single, servers: [<ServerDescription ('localhost', 27017) server_type: Standalone, rtt: 0.0003016700502485037>]>\", \"clientId\": {\"$oid\": \"66cc7102c87983617daf0318\"}}\n",
      "DEBUG:pymongo.serverSelection:{\"message\": \"Server selection succeeded\", \"selector\": \"Primary()\", \"operation\": \"listIndexes\", \"topologyDescription\": \"<TopologyDescription id: 66cc7102c87983617daf0318, topology_type: Single, servers: [<ServerDescription ('localhost', 27017) server_type: Standalone, rtt: 0.0003016700502485037>]>\", \"clientId\": {\"$oid\": \"66cc7102c87983617daf0318\"}, \"serverHost\": \"localhost\", \"serverPort\": 27017}\n",
      "DEBUG:pymongo.connection:{\"clientId\": {\"$oid\": \"66cc7102c87983617daf0318\"}, \"message\": \"Connection checkout started\", \"serverHost\": \"localhost\", \"serverPort\": 27017}\n",
      "DEBUG:pymongo.connection:{\"clientId\": {\"$oid\": \"66cc7102c87983617daf0318\"}, \"message\": \"Connection checked out\", \"serverHost\": \"localhost\", \"serverPort\": 27017, \"driverConnectionId\": 1, \"durationMS\": 0.0002329559065401554}\n",
      "DEBUG:pymongo.command:{\"clientId\": {\"$oid\": \"66cc7102c87983617daf0318\"}, \"message\": \"Command started\", \"command\": \"{\\\"listIndexes\\\": \\\"building_block_position_matrices\\\", \\\"lsid\\\": {\\\"id\\\": {\\\"$binary\\\": {\\\"base64\\\": \\\"zPiHCJMPRya8qOdLsK1tWw==\\\", \\\"subType\\\": \\\"04\\\"}}}, \\\"$db\\\": \\\"stk_constructed\\\"}\", \"commandName\": \"listIndexes\", \"databaseName\": \"stk_constructed\", \"requestId\": 859484421, \"operationId\": 859484421, \"driverConnectionId\": 1, \"serverConnectionId\": 11058, \"serverHost\": \"localhost\", \"serverPort\": 27017}\n",
      "DEBUG:pymongo.command:{\"clientId\": {\"$oid\": \"66cc7102c87983617daf0318\"}, \"message\": \"Command succeeded\", \"durationMS\": 0.728, \"reply\": \"{\\\"cursor\\\": {\\\"ns\\\": \\\"stk_constructed.building_block_position_matrices\\\", \\\"firstBatch\\\": [{\\\"v\\\": 2, \\\"key\\\": {\\\"_id\\\": 1}, \\\"name\\\": \\\"_id_\\\"}, {\\\"v\\\": 2, \\\"key\\\": {\\\"InChIKey\\\": 1}, \\\"name\\\": \\\"InChIKey_1\\\"}]}, \\\"ok\\\": 1.0}\", \"commandName\": \"listIndexes\", \"databaseName\": \"stk_constructed\", \"requestId\": 859484421, \"operationId\": 859484421, \"driverConnectionId\": 1, \"serverConnectionId\": 11058, \"serverHost\": \"localhost\", \"serverPort\": 27017}\n",
      "DEBUG:pymongo.connection:{\"clientId\": {\"$oid\": \"66cc7102c87983617daf0318\"}, \"message\": \"Connection checked in\", \"serverHost\": \"localhost\", \"serverPort\": 27017, \"driverConnectionId\": 1}\n",
      "INFO:root:Connected to the database\n",
      "normal termination of xtb\n",
      "INFO:root:Connected to xtb\n",
      "no input file specified!\n",
      "INFO:root:Connected to stda\n"
     ]
    },
    {
     "name": "stdout",
     "output_type": "stream",
     "text": [
      "      -----------------------------------------------------------      \n",
      "     |                   =====================                   |     \n",
      "     |                           x T B                           |     \n",
      "     |                   =====================                   |     \n",
      "     |                         S. Grimme                         |     \n",
      "     |          Mulliken Center for Theoretical Chemistry        |     \n",
      "     |                    University of Bonn                     |     \n",
      "      -----------------------------------------------------------      \n",
      "\n",
      "   * xtb version 6.6.1 (8d0f1dd) compiled by 'conda@1efc2f54142f' on 2023-08-01\n",
      "\n",
      "Mon Aug 26 02:11:46 PM CEST 2024\n",
      "\n",
      "\n",
      "                 *********************************************\n",
      "                 *                                           *\n",
      "                 *               s  T  D  A                  *\n",
      "                 *                                           *\n",
      "                 *                S. Grimme                  *\n",
      "                 * Mulliken Center for Theoretical Chemistry *\n",
      "                 *             Universitaet Bonn             *\n",
      "                 *              Version 1.6.1                *\n",
      "                 *       Tue Nov 26 10:18:30 CET 2019        *\n",
      "                 *********************************************\n",
      " \n",
      " Please cite as:\n",
      " S. Grimme, J. Chem. Phys. 138 (2013) 244104\n",
      " \n",
      " With contributions from:\n",
      " C. Bannwarth, P. Shushkov, M. de Wergifosse\n",
      " \n",
      "======================================================================\n",
      " \n"
     ]
    }
   ],
   "source": [
    "obj = ObjectiveFunction.IpEs1Fosc(6,db_folder='database')\n",
    "obj.stda_bin_path = '/media/mohammed/Work/bin/stda_v1.6.1' \n",
    "obj.test_connections()"
   ]
  },
  {
   "cell_type": "code",
   "execution_count": 9,
   "metadata": {},
   "outputs": [
    {
     "ename": "TypeError",
     "evalue": "evaluate_element() missing 1 required positional argument: 'element'",
     "output_type": "error",
     "traceback": [
      "\u001b[0;31m---------------------------------------------------------------------------\u001b[0m",
      "\u001b[0;31mTypeError\u001b[0m                                 Traceback (most recent call last)",
      "Cell \u001b[0;32mIn[9], line 1\u001b[0m\n\u001b[0;32m----> 1\u001b[0m \u001b[43mobj\u001b[49m\u001b[38;5;241;43m.\u001b[39;49m\u001b[43mevaluate_element\u001b[49m\u001b[43m(\u001b[49m\u001b[43m)\u001b[49m\n",
      "\u001b[0;31mTypeError\u001b[0m: evaluate_element() missing 1 required positional argument: 'element'"
     ]
    }
   ],
   "source": [
    "obj.evaluate_element()"
   ]
  }
 ],
 "metadata": {
  "kernelspec": {
   "display_name": "stk_search",
   "language": "python",
   "name": "python3"
  },
  "language_info": {
   "codemirror_mode": {
    "name": "ipython",
    "version": 3
   },
   "file_extension": ".py",
   "mimetype": "text/x-python",
   "name": "python",
   "nbconvert_exporter": "python",
   "pygments_lexer": "ipython3",
   "version": "3.8.19"
  }
 },
 "nbformat": 4,
 "nbformat_minor": 2
}
